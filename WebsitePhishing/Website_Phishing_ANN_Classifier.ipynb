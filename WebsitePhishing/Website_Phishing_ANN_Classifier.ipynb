{
 "cells": [
  {
   "cell_type": "markdown",
   "metadata": {},
   "source": [
    "## Initialization"
   ]
  },
  {
   "cell_type": "code",
   "execution_count": 1,
   "metadata": {},
   "outputs": [
    {
     "name": "stderr",
     "output_type": "stream",
     "text": [
      "Using Theano backend.\n"
     ]
    }
   ],
   "source": [
    "import pandas as pd\n",
    "import numpy as np\n",
    "import keras"
   ]
  },
  {
   "cell_type": "markdown",
   "metadata": {},
   "source": [
    "## Importing the Data"
   ]
  },
  {
   "cell_type": "code",
   "execution_count": 2,
   "metadata": {},
   "outputs": [
    {
     "data": {
      "text/plain": [
       "(1353, 10)"
      ]
     },
     "execution_count": 2,
     "metadata": {},
     "output_type": "execute_result"
    }
   ],
   "source": [
    "dataset = pd.read_csv('PhishingData.csv', header = None)\n",
    "dataset.shape"
   ]
  },
  {
   "cell_type": "code",
   "execution_count": 3,
   "metadata": {},
   "outputs": [
    {
     "data": {
      "text/html": [
       "<div>\n",
       "<style>\n",
       "    .dataframe thead tr:only-child th {\n",
       "        text-align: right;\n",
       "    }\n",
       "\n",
       "    .dataframe thead th {\n",
       "        text-align: left;\n",
       "    }\n",
       "\n",
       "    .dataframe tbody tr th {\n",
       "        vertical-align: top;\n",
       "    }\n",
       "</style>\n",
       "<table border=\"1\" class=\"dataframe\">\n",
       "  <thead>\n",
       "    <tr style=\"text-align: right;\">\n",
       "      <th></th>\n",
       "      <th>0</th>\n",
       "      <th>1</th>\n",
       "      <th>2</th>\n",
       "      <th>3</th>\n",
       "      <th>4</th>\n",
       "      <th>5</th>\n",
       "      <th>6</th>\n",
       "      <th>7</th>\n",
       "      <th>8</th>\n",
       "      <th>9</th>\n",
       "    </tr>\n",
       "  </thead>\n",
       "  <tbody>\n",
       "    <tr>\n",
       "      <th>0</th>\n",
       "      <td>1</td>\n",
       "      <td>-1</td>\n",
       "      <td>1</td>\n",
       "      <td>-1</td>\n",
       "      <td>-1</td>\n",
       "      <td>1</td>\n",
       "      <td>1</td>\n",
       "      <td>1</td>\n",
       "      <td>0</td>\n",
       "      <td>0</td>\n",
       "    </tr>\n",
       "    <tr>\n",
       "      <th>1</th>\n",
       "      <td>-1</td>\n",
       "      <td>-1</td>\n",
       "      <td>-1</td>\n",
       "      <td>-1</td>\n",
       "      <td>-1</td>\n",
       "      <td>0</td>\n",
       "      <td>1</td>\n",
       "      <td>1</td>\n",
       "      <td>1</td>\n",
       "      <td>1</td>\n",
       "    </tr>\n",
       "    <tr>\n",
       "      <th>2</th>\n",
       "      <td>1</td>\n",
       "      <td>-1</td>\n",
       "      <td>0</td>\n",
       "      <td>0</td>\n",
       "      <td>-1</td>\n",
       "      <td>0</td>\n",
       "      <td>-1</td>\n",
       "      <td>1</td>\n",
       "      <td>0</td>\n",
       "      <td>1</td>\n",
       "    </tr>\n",
       "    <tr>\n",
       "      <th>3</th>\n",
       "      <td>1</td>\n",
       "      <td>0</td>\n",
       "      <td>1</td>\n",
       "      <td>-1</td>\n",
       "      <td>-1</td>\n",
       "      <td>0</td>\n",
       "      <td>1</td>\n",
       "      <td>1</td>\n",
       "      <td>0</td>\n",
       "      <td>0</td>\n",
       "    </tr>\n",
       "    <tr>\n",
       "      <th>4</th>\n",
       "      <td>-1</td>\n",
       "      <td>-1</td>\n",
       "      <td>1</td>\n",
       "      <td>-1</td>\n",
       "      <td>0</td>\n",
       "      <td>0</td>\n",
       "      <td>-1</td>\n",
       "      <td>1</td>\n",
       "      <td>0</td>\n",
       "      <td>1</td>\n",
       "    </tr>\n",
       "  </tbody>\n",
       "</table>\n",
       "</div>"
      ],
      "text/plain": [
       "   0  1  2  3  4  5  6  7  8  9\n",
       "0  1 -1  1 -1 -1  1  1  1  0  0\n",
       "1 -1 -1 -1 -1 -1  0  1  1  1  1\n",
       "2  1 -1  0  0 -1  0 -1  1  0  1\n",
       "3  1  0  1 -1 -1  0  1  1  0  0\n",
       "4 -1 -1  1 -1  0  0 -1  1  0  1"
      ]
     },
     "execution_count": 3,
     "metadata": {},
     "output_type": "execute_result"
    }
   ],
   "source": [
    "dataset.head()"
   ]
  },
  {
   "cell_type": "markdown",
   "metadata": {},
   "source": [
    "## Create X and Y"
   ]
  },
  {
   "cell_type": "code",
   "execution_count": 4,
   "metadata": {
    "collapsed": true
   },
   "outputs": [],
   "source": [
    "X = dataset.iloc[:, 0:9].values\n",
    "Y = dataset.iloc[:, 9].values"
   ]
  },
  {
   "cell_type": "code",
   "execution_count": 5,
   "metadata": {},
   "outputs": [
    {
     "data": {
      "text/plain": [
       "(1353, 9)"
      ]
     },
     "execution_count": 5,
     "metadata": {},
     "output_type": "execute_result"
    }
   ],
   "source": [
    "X.shape"
   ]
  },
  {
   "cell_type": "code",
   "execution_count": 6,
   "metadata": {},
   "outputs": [
    {
     "data": {
      "text/plain": [
       "(1353,)"
      ]
     },
     "execution_count": 6,
     "metadata": {},
     "output_type": "execute_result"
    }
   ],
   "source": [
    "Y.shape"
   ]
  },
  {
   "cell_type": "code",
   "execution_count": 7,
   "metadata": {},
   "outputs": [
    {
     "data": {
      "text/plain": [
       "array([[ 1, -1,  1, ...,  1,  1,  0],\n",
       "       [-1, -1, -1, ...,  1,  1,  1],\n",
       "       [ 1, -1,  0, ..., -1,  1,  0],\n",
       "       ..., \n",
       "       [-1,  0, -1, ..., -1, -1,  0],\n",
       "       [ 0,  0,  1, ..., -1,  1,  0],\n",
       "       [ 1,  0,  1, ..., -1, -1,  0]], dtype=int64)"
      ]
     },
     "execution_count": 7,
     "metadata": {},
     "output_type": "execute_result"
    }
   ],
   "source": [
    "X"
   ]
  },
  {
   "cell_type": "code",
   "execution_count": 8,
   "metadata": {},
   "outputs": [
    {
     "data": {
      "text/plain": [
       "array([ 0,  1,  1, ...,  1,  1, -1], dtype=int64)"
      ]
     },
     "execution_count": 8,
     "metadata": {},
     "output_type": "execute_result"
    }
   ],
   "source": [
    "Y"
   ]
  },
  {
   "cell_type": "markdown",
   "metadata": {},
   "source": [
    "## Preprocess the Data"
   ]
  },
  {
   "cell_type": "code",
   "execution_count": 9,
   "metadata": {
    "collapsed": true
   },
   "outputs": [],
   "source": [
    "from sklearn.preprocessing import LabelEncoder, OneHotEncoder"
   ]
  },
  {
   "cell_type": "code",
   "execution_count": 10,
   "metadata": {
    "collapsed": true
   },
   "outputs": [],
   "source": [
    "le_Y = LabelEncoder()"
   ]
  },
  {
   "cell_type": "code",
   "execution_count": 11,
   "metadata": {},
   "outputs": [
    {
     "data": {
      "text/plain": [
       "array([1, 2, 2, ..., 2, 2, 0], dtype=int64)"
      ]
     },
     "execution_count": 11,
     "metadata": {},
     "output_type": "execute_result"
    }
   ],
   "source": [
    "Y = le_Y.fit_transform(Y)\n",
    "Y"
   ]
  },
  {
   "cell_type": "code",
   "execution_count": 12,
   "metadata": {
    "collapsed": true
   },
   "outputs": [],
   "source": [
    "Y = Y.reshape(len(Y), 1)\n",
    "ohe_Y = OneHotEncoder(categorical_features = [0])"
   ]
  },
  {
   "cell_type": "code",
   "execution_count": 13,
   "metadata": {},
   "outputs": [
    {
     "data": {
      "text/plain": [
       "array([[ 0.,  1.,  0.],\n",
       "       [ 0.,  0.,  1.],\n",
       "       [ 0.,  0.,  1.],\n",
       "       ..., \n",
       "       [ 0.,  0.,  1.],\n",
       "       [ 0.,  0.,  1.],\n",
       "       [ 1.,  0.,  0.]])"
      ]
     },
     "execution_count": 13,
     "metadata": {},
     "output_type": "execute_result"
    }
   ],
   "source": [
    "Y = ohe_Y.fit_transform(Y).toarray()\n",
    "Y"
   ]
  },
  {
   "cell_type": "code",
   "execution_count": 14,
   "metadata": {
    "collapsed": true
   },
   "outputs": [],
   "source": [
    "def encoder_X(index):\n",
    "    le_X = LabelEncoder()\n",
    "    X[:, index] = le_X.fit_transform(X[:, index])"
   ]
  },
  {
   "cell_type": "code",
   "execution_count": 15,
   "metadata": {
    "collapsed": true
   },
   "outputs": [],
   "source": [
    "for x in range(0, 9):\n",
    "    encoder_X(x)"
   ]
  },
  {
   "cell_type": "code",
   "execution_count": 16,
   "metadata": {},
   "outputs": [
    {
     "data": {
      "text/plain": [
       "array([[2, 0, 2, ..., 2, 1, 0],\n",
       "       [0, 0, 0, ..., 2, 1, 1],\n",
       "       [2, 0, 1, ..., 0, 1, 0],\n",
       "       ..., \n",
       "       [0, 1, 0, ..., 0, 0, 0],\n",
       "       [1, 1, 2, ..., 0, 1, 0],\n",
       "       [2, 1, 2, ..., 0, 0, 0]], dtype=int64)"
      ]
     },
     "execution_count": 16,
     "metadata": {},
     "output_type": "execute_result"
    }
   ],
   "source": [
    "X"
   ]
  },
  {
   "cell_type": "code",
   "execution_count": 17,
   "metadata": {
    "collapsed": true
   },
   "outputs": [],
   "source": [
    "ohe_X = OneHotEncoder(categorical_features = [6])"
   ]
  },
  {
   "cell_type": "code",
   "execution_count": 18,
   "metadata": {},
   "outputs": [
    {
     "data": {
      "text/plain": [
       "(1353, 10)"
      ]
     },
     "execution_count": 18,
     "metadata": {},
     "output_type": "execute_result"
    }
   ],
   "source": [
    "X = ohe_X.fit_transform(X).toarray()\n",
    "X = X[:, 1:]\n",
    "X.shape"
   ]
  },
  {
   "cell_type": "code",
   "execution_count": 19,
   "metadata": {
    "collapsed": true
   },
   "outputs": [],
   "source": [
    "ohe_X = OneHotEncoder(categorical_features = [7])"
   ]
  },
  {
   "cell_type": "code",
   "execution_count": 20,
   "metadata": {},
   "outputs": [
    {
     "data": {
      "text/plain": [
       "(1353, 11)"
      ]
     },
     "execution_count": 20,
     "metadata": {},
     "output_type": "execute_result"
    }
   ],
   "source": [
    "X = ohe_X.fit_transform(X).toarray()\n",
    "X = X[:, 1:]\n",
    "X.shape"
   ]
  },
  {
   "cell_type": "code",
   "execution_count": 21,
   "metadata": {
    "collapsed": true
   },
   "outputs": [],
   "source": [
    "ohe_X = OneHotEncoder(categorical_features = [8])"
   ]
  },
  {
   "cell_type": "code",
   "execution_count": 22,
   "metadata": {},
   "outputs": [
    {
     "data": {
      "text/plain": [
       "(1353, 12)"
      ]
     },
     "execution_count": 22,
     "metadata": {},
     "output_type": "execute_result"
    }
   ],
   "source": [
    "X = ohe_X.fit_transform(X).toarray()\n",
    "X = X[:, 1:]\n",
    "X.shape"
   ]
  },
  {
   "cell_type": "code",
   "execution_count": 23,
   "metadata": {
    "collapsed": true
   },
   "outputs": [],
   "source": [
    "ohe_X = OneHotEncoder(categorical_features = [9])"
   ]
  },
  {
   "cell_type": "code",
   "execution_count": 24,
   "metadata": {},
   "outputs": [
    {
     "data": {
      "text/plain": [
       "(1353, 13)"
      ]
     },
     "execution_count": 24,
     "metadata": {},
     "output_type": "execute_result"
    }
   ],
   "source": [
    "X = ohe_X.fit_transform(X).toarray()\n",
    "X = X[:, 1:]\n",
    "X.shape"
   ]
  },
  {
   "cell_type": "code",
   "execution_count": 25,
   "metadata": {
    "collapsed": true
   },
   "outputs": [],
   "source": [
    "ohe_X = OneHotEncoder(categorical_features = [10])"
   ]
  },
  {
   "cell_type": "code",
   "execution_count": 26,
   "metadata": {},
   "outputs": [
    {
     "data": {
      "text/plain": [
       "(1353, 14)"
      ]
     },
     "execution_count": 26,
     "metadata": {},
     "output_type": "execute_result"
    }
   ],
   "source": [
    "X = ohe_X.fit_transform(X).toarray()\n",
    "X = X[:, 1:]\n",
    "X.shape"
   ]
  },
  {
   "cell_type": "code",
   "execution_count": 27,
   "metadata": {
    "collapsed": true
   },
   "outputs": [],
   "source": [
    "ohe_X = OneHotEncoder(categorical_features = [11])"
   ]
  },
  {
   "cell_type": "code",
   "execution_count": 28,
   "metadata": {},
   "outputs": [
    {
     "data": {
      "text/plain": [
       "(1353, 15)"
      ]
     },
     "execution_count": 28,
     "metadata": {},
     "output_type": "execute_result"
    }
   ],
   "source": [
    "X = ohe_X.fit_transform(X).toarray()\n",
    "X = X[:, 1:]\n",
    "X.shape"
   ]
  },
  {
   "cell_type": "code",
   "execution_count": 29,
   "metadata": {
    "collapsed": true
   },
   "outputs": [],
   "source": [
    "ohe_X = OneHotEncoder(categorical_features = [12])"
   ]
  },
  {
   "cell_type": "code",
   "execution_count": 30,
   "metadata": {},
   "outputs": [
    {
     "data": {
      "text/plain": [
       "(1353, 16)"
      ]
     },
     "execution_count": 30,
     "metadata": {},
     "output_type": "execute_result"
    }
   ],
   "source": [
    "X = ohe_X.fit_transform(X).toarray()\n",
    "X = X[:, 1:]\n",
    "X.shape"
   ]
  },
  {
   "cell_type": "markdown",
   "metadata": {},
   "source": [
    "## Create Train and Test Data"
   ]
  },
  {
   "cell_type": "code",
   "execution_count": 31,
   "metadata": {
    "collapsed": true
   },
   "outputs": [],
   "source": [
    "from sklearn.model_selection import train_test_split"
   ]
  },
  {
   "cell_type": "code",
   "execution_count": 32,
   "metadata": {
    "collapsed": true
   },
   "outputs": [],
   "source": [
    "X_train, X_test, Y_train, Y_test = train_test_split(X, Y, test_size = 0.2, random_state = 4)"
   ]
  },
  {
   "cell_type": "code",
   "execution_count": 33,
   "metadata": {},
   "outputs": [
    {
     "data": {
      "text/plain": [
       "(1082, 16)"
      ]
     },
     "execution_count": 33,
     "metadata": {},
     "output_type": "execute_result"
    }
   ],
   "source": [
    "X_train.shape"
   ]
  },
  {
   "cell_type": "code",
   "execution_count": 34,
   "metadata": {},
   "outputs": [
    {
     "data": {
      "text/plain": [
       "(271, 16)"
      ]
     },
     "execution_count": 34,
     "metadata": {},
     "output_type": "execute_result"
    }
   ],
   "source": [
    "X_test.shape"
   ]
  },
  {
   "cell_type": "code",
   "execution_count": 35,
   "metadata": {},
   "outputs": [
    {
     "data": {
      "text/plain": [
       "(1082, 3)"
      ]
     },
     "execution_count": 35,
     "metadata": {},
     "output_type": "execute_result"
    }
   ],
   "source": [
    "Y_train.shape"
   ]
  },
  {
   "cell_type": "code",
   "execution_count": 36,
   "metadata": {},
   "outputs": [
    {
     "data": {
      "text/plain": [
       "(271, 3)"
      ]
     },
     "execution_count": 36,
     "metadata": {},
     "output_type": "execute_result"
    }
   ],
   "source": [
    "Y_test.shape"
   ]
  },
  {
   "cell_type": "markdown",
   "metadata": {},
   "source": [
    "## Create and train the ANN Classifier"
   ]
  },
  {
   "cell_type": "code",
   "execution_count": 37,
   "metadata": {
    "collapsed": true
   },
   "outputs": [],
   "source": [
    "from keras.models import Sequential\n",
    "from keras.layers import Dense"
   ]
  },
  {
   "cell_type": "code",
   "execution_count": 38,
   "metadata": {},
   "outputs": [
    {
     "name": "stderr",
     "output_type": "stream",
     "text": [
      "C:\\Users\\user\\Anaconda3\\lib\\site-packages\\ipykernel\\__main__.py:4: UserWarning: Update your `Dense` call to the Keras 2 API: `Dense(input_dim=16, activation=\"relu\", kernel_initializer=\"uniform\", units=10)`\n",
      "C:\\Users\\user\\Anaconda3\\lib\\site-packages\\ipykernel\\__main__.py:7: UserWarning: Update your `Dense` call to the Keras 2 API: `Dense(units=10, activation=\"relu\", kernel_initializer=\"uniform\")`\n",
      "C:\\Users\\user\\Anaconda3\\lib\\site-packages\\ipykernel\\__main__.py:10: UserWarning: Update your `Dense` call to the Keras 2 API: `Dense(units=3, activation=\"softmax\", kernel_initializer=\"uniform\")`\n",
      "C:\\Users\\user\\Anaconda3\\lib\\site-packages\\keras\\models.py:844: UserWarning: The `nb_epoch` argument in `fit` has been renamed `epochs`.\n",
      "  warnings.warn('The `nb_epoch` argument in `fit` '\n"
     ]
    },
    {
     "name": "stdout",
     "output_type": "stream",
     "text": [
      "Epoch 1/100\n",
      "1082/1082 [==============================] - 0s - loss: 1.0319 - acc: 0.5148     \n",
      "Epoch 2/100\n",
      "1082/1082 [==============================] - 0s - loss: 0.8393 - acc: 0.5213     \n",
      "Epoch 3/100\n",
      "1082/1082 [==============================] - 0s - loss: 0.6949 - acc: 0.7311     \n",
      "Epoch 4/100\n",
      "1082/1082 [==============================] - 0s - loss: 0.5526 - acc: 0.8142     \n",
      "Epoch 5/100\n",
      "1082/1082 [==============================] - 0s - loss: 0.4865 - acc: 0.8373     \n",
      "Epoch 6/100\n",
      "1082/1082 [==============================] - 0s - loss: 0.4575 - acc: 0.8401     \n",
      "Epoch 7/100\n",
      "1082/1082 [==============================] - 0s - loss: 0.4413 - acc: 0.8420     \n",
      "Epoch 8/100\n",
      "1082/1082 [==============================] - 0s - loss: 0.4325 - acc: 0.8466     \n",
      "Epoch 9/100\n",
      "1082/1082 [==============================] - 0s - loss: 0.4246 - acc: 0.8438     \n",
      "Epoch 10/100\n",
      "1082/1082 [==============================] - 0s - loss: 0.4180 - acc: 0.8447     \n",
      "Epoch 11/100\n",
      "1082/1082 [==============================] - 0s - loss: 0.4121 - acc: 0.8466     \n",
      "Epoch 12/100\n",
      "1082/1082 [==============================] - 0s - loss: 0.4072 - acc: 0.8457     \n",
      "Epoch 13/100\n",
      "1082/1082 [==============================] - 0s - loss: 0.4036 - acc: 0.8447     \n",
      "Epoch 14/100\n",
      "1082/1082 [==============================] - 0s - loss: 0.3978 - acc: 0.8466     \n",
      "Epoch 15/100\n",
      "1082/1082 [==============================] - 0s - loss: 0.3962 - acc: 0.8475     \n",
      "Epoch 16/100\n",
      "1082/1082 [==============================] - 0s - loss: 0.3919 - acc: 0.8494     \n",
      "Epoch 17/100\n",
      "1082/1082 [==============================] - 0s - loss: 0.3871 - acc: 0.8494     \n",
      "Epoch 18/100\n",
      "1082/1082 [==============================] - 0s - loss: 0.3854 - acc: 0.8484     \n",
      "Epoch 19/100\n",
      "1082/1082 [==============================] - 0s - loss: 0.3802 - acc: 0.8503     \n",
      "Epoch 20/100\n",
      "1082/1082 [==============================] - 0s - loss: 0.3775 - acc: 0.8512     \n",
      "Epoch 21/100\n",
      "1082/1082 [==============================] - 0s - loss: 0.3742 - acc: 0.8540     \n",
      "Epoch 22/100\n",
      "1082/1082 [==============================] - 0s - loss: 0.3722 - acc: 0.8466     \n",
      "Epoch 23/100\n",
      "1082/1082 [==============================] - 0s - loss: 0.3699 - acc: 0.8447     \n",
      "Epoch 24/100\n",
      "1082/1082 [==============================] - 0s - loss: 0.3676 - acc: 0.8512     \n",
      "Epoch 25/100\n",
      "1082/1082 [==============================] - 0s - loss: 0.3645 - acc: 0.8530     \n",
      "Epoch 26/100\n",
      "1082/1082 [==============================] - 0s - loss: 0.3642 - acc: 0.8558     \n",
      "Epoch 27/100\n",
      "1082/1082 [==============================] - 0s - loss: 0.3612 - acc: 0.8494     \n",
      "Epoch 28/100\n",
      "1082/1082 [==============================] - 0s - loss: 0.3606 - acc: 0.8512     \n",
      "Epoch 29/100\n",
      "1082/1082 [==============================] - 0s - loss: 0.3572 - acc: 0.8494     \n",
      "Epoch 30/100\n",
      "1082/1082 [==============================] - 0s - loss: 0.3560 - acc: 0.8503     \n",
      "Epoch 31/100\n",
      "1082/1082 [==============================] - 0s - loss: 0.3559 - acc: 0.8512     \n",
      "Epoch 32/100\n",
      "1082/1082 [==============================] - 0s - loss: 0.3534 - acc: 0.8466     \n",
      "Epoch 33/100\n",
      "1082/1082 [==============================] - 0s - loss: 0.3533 - acc: 0.8484     \n",
      "Epoch 34/100\n",
      "1082/1082 [==============================] - 0s - loss: 0.3499 - acc: 0.8494     \n",
      "Epoch 35/100\n",
      "1082/1082 [==============================] - 0s - loss: 0.3483 - acc: 0.8484     \n",
      "Epoch 36/100\n",
      "1082/1082 [==============================] - 0s - loss: 0.3473 - acc: 0.8494     \n",
      "Epoch 37/100\n",
      "1082/1082 [==============================] - 0s - loss: 0.3475 - acc: 0.8494     \n",
      "Epoch 38/100\n",
      "1082/1082 [==============================] - 0s - loss: 0.3433 - acc: 0.8540     \n",
      "Epoch 39/100\n",
      "1082/1082 [==============================] - 0s - loss: 0.3436 - acc: 0.8521     \n",
      "Epoch 40/100\n",
      "1082/1082 [==============================] - 0s - loss: 0.3436 - acc: 0.8512     \n",
      "Epoch 41/100\n",
      "1082/1082 [==============================] - 0s - loss: 0.3411 - acc: 0.8503     \n",
      "Epoch 42/100\n",
      "1082/1082 [==============================] - 0s - loss: 0.3396 - acc: 0.8484     \n",
      "Epoch 43/100\n",
      "1082/1082 [==============================] - 0s - loss: 0.3394 - acc: 0.8512     \n",
      "Epoch 44/100\n",
      "1082/1082 [==============================] - 0s - loss: 0.3367 - acc: 0.8466     \n",
      "Epoch 45/100\n",
      "1082/1082 [==============================] - 0s - loss: 0.3375 - acc: 0.8512     \n",
      "Epoch 46/100\n",
      "1082/1082 [==============================] - 0s - loss: 0.3348 - acc: 0.8521     \n",
      "Epoch 47/100\n",
      "1082/1082 [==============================] - 0s - loss: 0.3347 - acc: 0.8503     \n",
      "Epoch 48/100\n",
      "1082/1082 [==============================] - 0s - loss: 0.3362 - acc: 0.8512     \n",
      "Epoch 49/100\n",
      "1082/1082 [==============================] - 0s - loss: 0.3330 - acc: 0.8466     \n",
      "Epoch 50/100\n",
      "1082/1082 [==============================] - 0s - loss: 0.3335 - acc: 0.8438     \n",
      "Epoch 51/100\n",
      "1082/1082 [==============================] - 0s - loss: 0.3319 - acc: 0.8530     \n",
      "Epoch 52/100\n",
      "1082/1082 [==============================] - 0s - loss: 0.3308 - acc: 0.8521     \n",
      "Epoch 53/100\n",
      "1082/1082 [==============================] - 0s - loss: 0.3280 - acc: 0.8512     \n",
      "Epoch 54/100\n",
      "1082/1082 [==============================] - 0s - loss: 0.3269 - acc: 0.8512     \n",
      "Epoch 55/100\n",
      "1082/1082 [==============================] - 0s - loss: 0.3254 - acc: 0.8521     \n",
      "Epoch 56/100\n",
      "1082/1082 [==============================] - 0s - loss: 0.3279 - acc: 0.8567     \n",
      "Epoch 57/100\n",
      "1082/1082 [==============================] - 0s - loss: 0.3243 - acc: 0.8558     \n",
      "Epoch 58/100\n",
      "1082/1082 [==============================] - 0s - loss: 0.3228 - acc: 0.8558     \n",
      "Epoch 59/100\n",
      "1082/1082 [==============================] - 0s - loss: 0.3226 - acc: 0.8530     \n",
      "Epoch 60/100\n",
      "1082/1082 [==============================] - 0s - loss: 0.3229 - acc: 0.8641     \n",
      "Epoch 61/100\n",
      "1082/1082 [==============================] - 0s - loss: 0.3172 - acc: 0.8577     \n",
      "Epoch 62/100\n",
      "1082/1082 [==============================] - 0s - loss: 0.3170 - acc: 0.8558     \n",
      "Epoch 63/100\n",
      "1082/1082 [==============================] - 0s - loss: 0.3197 - acc: 0.8549     \n",
      "Epoch 64/100\n",
      "1082/1082 [==============================] - 0s - loss: 0.3166 - acc: 0.8521     \n",
      "Epoch 65/100\n",
      "1082/1082 [==============================] - 0s - loss: 0.3127 - acc: 0.8577     \n",
      "Epoch 66/100\n",
      "1082/1082 [==============================] - 0s - loss: 0.3115 - acc: 0.8567     \n",
      "Epoch 67/100\n",
      "1082/1082 [==============================] - 0s - loss: 0.3097 - acc: 0.8595     \n",
      "Epoch 68/100\n",
      "1082/1082 [==============================] - 0s - loss: 0.3109 - acc: 0.8558     \n",
      "Epoch 69/100\n",
      "1082/1082 [==============================] - 0s - loss: 0.3080 - acc: 0.8540     \n",
      "Epoch 70/100\n",
      "1082/1082 [==============================] - 0s - loss: 0.3059 - acc: 0.8604     \n",
      "Epoch 71/100\n",
      "1082/1082 [==============================] - 0s - loss: 0.3055 - acc: 0.8577     \n",
      "Epoch 72/100\n",
      "1082/1082 [==============================] - 0s - loss: 0.3042 - acc: 0.8595     \n",
      "Epoch 73/100\n",
      "1082/1082 [==============================] - 0s - loss: 0.3017 - acc: 0.8558     \n",
      "Epoch 74/100\n",
      "1082/1082 [==============================] - 0s - loss: 0.3022 - acc: 0.8623     \n",
      "Epoch 75/100\n",
      "1082/1082 [==============================] - 0s - loss: 0.3000 - acc: 0.8623     \n",
      "Epoch 76/100\n",
      "1082/1082 [==============================] - 0s - loss: 0.3002 - acc: 0.8604     \n",
      "Epoch 77/100\n",
      "1082/1082 [==============================] - 0s - loss: 0.2972 - acc: 0.8678     \n",
      "Epoch 78/100\n",
      "1082/1082 [==============================] - 0s - loss: 0.2984 - acc: 0.8660     \n",
      "Epoch 79/100\n",
      "1082/1082 [==============================] - 0s - loss: 0.2971 - acc: 0.8623     \n",
      "Epoch 80/100\n",
      "1082/1082 [==============================] - 0s - loss: 0.2944 - acc: 0.8688     \n",
      "Epoch 81/100\n",
      "1082/1082 [==============================] - 0s - loss: 0.2946 - acc: 0.8669     \n",
      "Epoch 82/100\n",
      "1082/1082 [==============================] - 0s - loss: 0.2902 - acc: 0.8632     \n",
      "Epoch 83/100\n",
      "1082/1082 [==============================] - 0s - loss: 0.2909 - acc: 0.8651     \n",
      "Epoch 84/100\n",
      "1082/1082 [==============================] - 0s - loss: 0.2932 - acc: 0.8678     \n",
      "Epoch 85/100\n",
      "1082/1082 [==============================] - 0s - loss: 0.2933 - acc: 0.8623     \n",
      "Epoch 86/100\n",
      "1082/1082 [==============================] - 0s - loss: 0.2874 - acc: 0.8669     \n",
      "Epoch 87/100\n"
     ]
    },
    {
     "name": "stdout",
     "output_type": "stream",
     "text": [
      "1082/1082 [==============================] - 0s - loss: 0.2854 - acc: 0.8660     \n",
      "Epoch 88/100\n",
      "1082/1082 [==============================] - 0s - loss: 0.2839 - acc: 0.8743     \n",
      "Epoch 89/100\n",
      "1082/1082 [==============================] - 0s - loss: 0.2846 - acc: 0.8688     \n",
      "Epoch 90/100\n",
      "1082/1082 [==============================] - 0s - loss: 0.2838 - acc: 0.8678     \n",
      "Epoch 91/100\n",
      "1082/1082 [==============================] - 0s - loss: 0.2810 - acc: 0.8762     \n",
      "Epoch 92/100\n",
      "1082/1082 [==============================] - 0s - loss: 0.2797 - acc: 0.8762     \n",
      "Epoch 93/100\n",
      "1082/1082 [==============================] - 0s - loss: 0.2778 - acc: 0.8734     \n",
      "Epoch 94/100\n",
      "1082/1082 [==============================] - 0s - loss: 0.2788 - acc: 0.8789     \n",
      "Epoch 95/100\n",
      "1082/1082 [==============================] - 0s - loss: 0.2784 - acc: 0.8780     \n",
      "Epoch 96/100\n",
      "1082/1082 [==============================] - 0s - loss: 0.2767 - acc: 0.8808     \n",
      "Epoch 97/100\n",
      "1082/1082 [==============================] - 0s - loss: 0.2768 - acc: 0.8752     \n",
      "Epoch 98/100\n",
      "1082/1082 [==============================] - 0s - loss: 0.2746 - acc: 0.8826     \n",
      "Epoch 99/100\n",
      "1082/1082 [==============================] - 0s - loss: 0.2712 - acc: 0.8817     \n",
      "Epoch 100/100\n",
      "1082/1082 [==============================] - 0s - loss: 0.2698 - acc: 0.8900     \n"
     ]
    },
    {
     "data": {
      "text/plain": [
       "<keras.callbacks.History at 0x2631fb1d68>"
      ]
     },
     "execution_count": 38,
     "metadata": {},
     "output_type": "execute_result"
    }
   ],
   "source": [
    "clf_ann = Sequential()\n",
    "\n",
    "# First Hidden Layer\n",
    "clf_ann.add(Dense(output_dim = 10, init = 'uniform', activation = 'relu', input_dim = 16))\n",
    "\n",
    "# Second Hidden Layer\n",
    "clf_ann.add(Dense(output_dim = 10, init = 'uniform', activation = 'relu'))\n",
    "\n",
    "# Output Layer\n",
    "clf_ann.add(Dense(output_dim = 3, init = 'uniform', activation = 'softmax'))\n",
    "\n",
    "# Compile the ANN\n",
    "clf_ann.compile(optimizer = 'adam', loss = 'categorical_crossentropy', metrics = ['accuracy'])\n",
    "\n",
    "# Train the ANN on the Train Data\n",
    "clf_ann.fit(X_train, Y_train, batch_size = 10, nb_epoch = 100)"
   ]
  },
  {
   "cell_type": "code",
   "execution_count": 39,
   "metadata": {
    "collapsed": true
   },
   "outputs": [],
   "source": [
    "# Test the ANN on the Test Data\n",
    "Y_pred = clf_ann.predict(X_test)\n",
    "Y_pred_class = np.argmax(Y_pred, axis = 1)\n",
    "Y_test_class = np.argmax(Y_test, axis = 1)"
   ]
  },
  {
   "cell_type": "markdown",
   "metadata": {},
   "source": [
    "## Check the Accuracy"
   ]
  },
  {
   "cell_type": "code",
   "execution_count": 40,
   "metadata": {
    "collapsed": true
   },
   "outputs": [],
   "source": [
    "from sklearn.metrics import accuracy_score, confusion_matrix"
   ]
  },
  {
   "cell_type": "code",
   "execution_count": 41,
   "metadata": {},
   "outputs": [
    {
     "data": {
      "text/plain": [
       "0.89667896678966785"
      ]
     },
     "execution_count": 41,
     "metadata": {},
     "output_type": "execute_result"
    }
   ],
   "source": [
    "accuracy_score(Y_pred_class, Y_test_class)"
   ]
  },
  {
   "cell_type": "code",
   "execution_count": 42,
   "metadata": {},
   "outputs": [
    {
     "data": {
      "text/plain": [
       "array([[127,   4,   2],\n",
       "       [  1,   7,   4],\n",
       "       [ 14,   3, 109]], dtype=int64)"
      ]
     },
     "execution_count": 42,
     "metadata": {},
     "output_type": "execute_result"
    }
   ],
   "source": [
    "confusion_matrix(Y_pred_class, Y_test_class)"
   ]
  },
  {
   "cell_type": "code",
   "execution_count": null,
   "metadata": {
    "collapsed": true
   },
   "outputs": [],
   "source": []
  }
 ],
 "metadata": {
  "kernelspec": {
   "display_name": "Python [default]",
   "language": "python",
   "name": "python3"
  },
  "language_info": {
   "codemirror_mode": {
    "name": "ipython",
    "version": 3
   },
   "file_extension": ".py",
   "mimetype": "text/x-python",
   "name": "python",
   "nbconvert_exporter": "python",
   "pygments_lexer": "ipython3",
   "version": "3.5.4"
  }
 },
 "nbformat": 4,
 "nbformat_minor": 2
}
