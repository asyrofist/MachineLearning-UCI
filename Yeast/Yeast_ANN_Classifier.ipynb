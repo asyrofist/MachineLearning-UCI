{
 "cells": [
  {
   "cell_type": "markdown",
   "metadata": {},
   "source": [
    "## Initialization"
   ]
  },
  {
   "cell_type": "code",
   "execution_count": 1,
   "metadata": {},
   "outputs": [
    {
     "name": "stderr",
     "output_type": "stream",
     "text": [
      "Using Theano backend.\n"
     ]
    }
   ],
   "source": [
    "import numpy as np\n",
    "import pandas as pd\n",
    "import keras"
   ]
  },
  {
   "cell_type": "markdown",
   "metadata": {},
   "source": [
    "## Importing the Data"
   ]
  },
  {
   "cell_type": "code",
   "execution_count": 2,
   "metadata": {
    "collapsed": true
   },
   "outputs": [],
   "source": [
    "dataset = pd.read_csv(\"yeast.data\", header = None, delimiter = r\"\\s+\")"
   ]
  },
  {
   "cell_type": "code",
   "execution_count": 3,
   "metadata": {},
   "outputs": [
    {
     "data": {
      "text/plain": [
       "(1484, 10)"
      ]
     },
     "execution_count": 3,
     "metadata": {},
     "output_type": "execute_result"
    }
   ],
   "source": [
    "dataset.shape"
   ]
  },
  {
   "cell_type": "code",
   "execution_count": 4,
   "metadata": {},
   "outputs": [
    {
     "data": {
      "text/html": [
       "<div>\n",
       "<style>\n",
       "    .dataframe thead tr:only-child th {\n",
       "        text-align: right;\n",
       "    }\n",
       "\n",
       "    .dataframe thead th {\n",
       "        text-align: left;\n",
       "    }\n",
       "\n",
       "    .dataframe tbody tr th {\n",
       "        vertical-align: top;\n",
       "    }\n",
       "</style>\n",
       "<table border=\"1\" class=\"dataframe\">\n",
       "  <thead>\n",
       "    <tr style=\"text-align: right;\">\n",
       "      <th></th>\n",
       "      <th>0</th>\n",
       "      <th>1</th>\n",
       "      <th>2</th>\n",
       "      <th>3</th>\n",
       "      <th>4</th>\n",
       "      <th>5</th>\n",
       "      <th>6</th>\n",
       "      <th>7</th>\n",
       "      <th>8</th>\n",
       "      <th>9</th>\n",
       "    </tr>\n",
       "  </thead>\n",
       "  <tbody>\n",
       "    <tr>\n",
       "      <th>0</th>\n",
       "      <td>ADT1_YEAST</td>\n",
       "      <td>0.58</td>\n",
       "      <td>0.61</td>\n",
       "      <td>0.47</td>\n",
       "      <td>0.13</td>\n",
       "      <td>0.5</td>\n",
       "      <td>0.0</td>\n",
       "      <td>0.48</td>\n",
       "      <td>0.22</td>\n",
       "      <td>MIT</td>\n",
       "    </tr>\n",
       "    <tr>\n",
       "      <th>1</th>\n",
       "      <td>ADT2_YEAST</td>\n",
       "      <td>0.43</td>\n",
       "      <td>0.67</td>\n",
       "      <td>0.48</td>\n",
       "      <td>0.27</td>\n",
       "      <td>0.5</td>\n",
       "      <td>0.0</td>\n",
       "      <td>0.53</td>\n",
       "      <td>0.22</td>\n",
       "      <td>MIT</td>\n",
       "    </tr>\n",
       "    <tr>\n",
       "      <th>2</th>\n",
       "      <td>ADT3_YEAST</td>\n",
       "      <td>0.64</td>\n",
       "      <td>0.62</td>\n",
       "      <td>0.49</td>\n",
       "      <td>0.15</td>\n",
       "      <td>0.5</td>\n",
       "      <td>0.0</td>\n",
       "      <td>0.53</td>\n",
       "      <td>0.22</td>\n",
       "      <td>MIT</td>\n",
       "    </tr>\n",
       "    <tr>\n",
       "      <th>3</th>\n",
       "      <td>AAR2_YEAST</td>\n",
       "      <td>0.58</td>\n",
       "      <td>0.44</td>\n",
       "      <td>0.57</td>\n",
       "      <td>0.13</td>\n",
       "      <td>0.5</td>\n",
       "      <td>0.0</td>\n",
       "      <td>0.54</td>\n",
       "      <td>0.22</td>\n",
       "      <td>NUC</td>\n",
       "    </tr>\n",
       "    <tr>\n",
       "      <th>4</th>\n",
       "      <td>AATM_YEAST</td>\n",
       "      <td>0.42</td>\n",
       "      <td>0.44</td>\n",
       "      <td>0.48</td>\n",
       "      <td>0.54</td>\n",
       "      <td>0.5</td>\n",
       "      <td>0.0</td>\n",
       "      <td>0.48</td>\n",
       "      <td>0.22</td>\n",
       "      <td>MIT</td>\n",
       "    </tr>\n",
       "  </tbody>\n",
       "</table>\n",
       "</div>"
      ],
      "text/plain": [
       "            0     1     2     3     4    5    6     7     8    9\n",
       "0  ADT1_YEAST  0.58  0.61  0.47  0.13  0.5  0.0  0.48  0.22  MIT\n",
       "1  ADT2_YEAST  0.43  0.67  0.48  0.27  0.5  0.0  0.53  0.22  MIT\n",
       "2  ADT3_YEAST  0.64  0.62  0.49  0.15  0.5  0.0  0.53  0.22  MIT\n",
       "3  AAR2_YEAST  0.58  0.44  0.57  0.13  0.5  0.0  0.54  0.22  NUC\n",
       "4  AATM_YEAST  0.42  0.44  0.48  0.54  0.5  0.0  0.48  0.22  MIT"
      ]
     },
     "execution_count": 4,
     "metadata": {},
     "output_type": "execute_result"
    }
   ],
   "source": [
    "dataset.head()"
   ]
  },
  {
   "cell_type": "markdown",
   "metadata": {},
   "source": [
    "## Create X and Y"
   ]
  },
  {
   "cell_type": "code",
   "execution_count": 5,
   "metadata": {
    "collapsed": true
   },
   "outputs": [],
   "source": [
    "X = dataset.iloc[:, 1:9].values\n",
    "Y = dataset.iloc[:, 9].values"
   ]
  },
  {
   "cell_type": "code",
   "execution_count": 6,
   "metadata": {},
   "outputs": [
    {
     "data": {
      "text/plain": [
       "array([ 0.58,  0.61,  0.47,  0.13,  0.5 ,  0.  ,  0.48,  0.22])"
      ]
     },
     "execution_count": 6,
     "metadata": {},
     "output_type": "execute_result"
    }
   ],
   "source": [
    "X[0]"
   ]
  },
  {
   "cell_type": "code",
   "execution_count": 7,
   "metadata": {},
   "outputs": [
    {
     "data": {
      "text/plain": [
       "'MIT'"
      ]
     },
     "execution_count": 7,
     "metadata": {},
     "output_type": "execute_result"
    }
   ],
   "source": [
    "Y[0]"
   ]
  },
  {
   "cell_type": "markdown",
   "metadata": {},
   "source": [
    "## Preprocess the Data"
   ]
  },
  {
   "cell_type": "code",
   "execution_count": 8,
   "metadata": {},
   "outputs": [
    {
     "data": {
      "text/plain": [
       "array([ 0.,  0.,  0.,  0.,  0.,  0.,  1.,  0.,  0.,  0.])"
      ]
     },
     "execution_count": 8,
     "metadata": {},
     "output_type": "execute_result"
    }
   ],
   "source": [
    "from sklearn.preprocessing import LabelEncoder, StandardScaler, OneHotEncoder\n",
    "le_Y = LabelEncoder()\n",
    "Y = le_Y.fit_transform(Y)\n",
    "Y = Y.reshape(len(Y), 1)\n",
    "ohe = OneHotEncoder(categorical_features=[0])\n",
    "Y = ohe.fit_transform(Y).toarray()\n",
    "Y[0]"
   ]
  },
  {
   "cell_type": "code",
   "execution_count": 9,
   "metadata": {},
   "outputs": [
    {
     "data": {
      "text/plain": [
       "array([ 0.58198136,  0.88848148, -0.3466451 , -0.95720258, -0.09759001,\n",
       "       -0.0991314 , -0.34417514, -0.5279193 ])"
      ]
     },
     "execution_count": 9,
     "metadata": {},
     "output_type": "execute_result"
    }
   ],
   "source": [
    "sc_X = StandardScaler()\n",
    "X = sc_X.fit_transform(X)\n",
    "X[0]"
   ]
  },
  {
   "cell_type": "markdown",
   "metadata": {},
   "source": [
    "## Create Train and Test Data"
   ]
  },
  {
   "cell_type": "code",
   "execution_count": 10,
   "metadata": {
    "collapsed": true
   },
   "outputs": [],
   "source": [
    "from sklearn.model_selection import train_test_split\n",
    "X_train, X_test, Y_train, Y_test = train_test_split(X, Y, test_size = 0.2, random_state = 4)"
   ]
  },
  {
   "cell_type": "markdown",
   "metadata": {},
   "source": [
    "## Create and Train the Classifier"
   ]
  },
  {
   "cell_type": "code",
   "execution_count": 11,
   "metadata": {
    "collapsed": true
   },
   "outputs": [],
   "source": [
    "from keras.models import Sequential\n",
    "from keras.layers import Dense"
   ]
  },
  {
   "cell_type": "code",
   "execution_count": 12,
   "metadata": {},
   "outputs": [
    {
     "name": "stderr",
     "output_type": "stream",
     "text": [
      "C:\\Users\\user\\Anaconda3\\lib\\site-packages\\ipykernel\\__main__.py:4: UserWarning: Update your `Dense` call to the Keras 2 API: `Dense(activation=\"relu\", kernel_initializer=\"uniform\", input_dim=8, units=24)`\n",
      "C:\\Users\\user\\Anaconda3\\lib\\site-packages\\ipykernel\\__main__.py:7: UserWarning: Update your `Dense` call to the Keras 2 API: `Dense(activation=\"softmax\", kernel_initializer=\"uniform\", units=10)`\n",
      "C:\\Users\\user\\Anaconda3\\lib\\site-packages\\keras\\models.py:844: UserWarning: The `nb_epoch` argument in `fit` has been renamed `epochs`.\n",
      "  warnings.warn('The `nb_epoch` argument in `fit` '\n"
     ]
    },
    {
     "name": "stdout",
     "output_type": "stream",
     "text": [
      "Epoch 1/100\n",
      "1187/1187 [==============================] - 0s - loss: 2.0966 - acc: 0.4229     \n",
      "Epoch 2/100\n",
      "1187/1187 [==============================] - 0s - loss: 1.5458 - acc: 0.4356     \n",
      "Epoch 3/100\n",
      "1187/1187 [==============================] - 0s - loss: 1.3075 - acc: 0.5392     \n",
      "Epoch 4/100\n",
      "1187/1187 [==============================] - 0s - loss: 1.2056 - acc: 0.5628     \n",
      "Epoch 5/100\n",
      "1187/1187 [==============================] - 0s - loss: 1.1616 - acc: 0.5729     \n",
      "Epoch 6/100\n",
      "1187/1187 [==============================] - 0s - loss: 1.1346 - acc: 0.5670     \n",
      "Epoch 7/100\n",
      "1187/1187 [==============================] - 0s - loss: 1.1177 - acc: 0.5746     \n",
      "Epoch 8/100\n",
      "1187/1187 [==============================] - 0s - loss: 1.1022 - acc: 0.5855     \n",
      "Epoch 9/100\n",
      "1187/1187 [==============================] - 0s - loss: 1.0873 - acc: 0.5948     \n",
      "Epoch 10/100\n",
      "1187/1187 [==============================] - 0s - loss: 1.0761 - acc: 0.5864     \n",
      "Epoch 11/100\n",
      "1187/1187 [==============================] - 0s - loss: 1.0667 - acc: 0.6007     \n",
      "Epoch 12/100\n",
      "1187/1187 [==============================] - 0s - loss: 1.0564 - acc: 0.6032     \n",
      "Epoch 13/100\n",
      "1187/1187 [==============================] - 0s - loss: 1.0507 - acc: 0.6024     \n",
      "Epoch 14/100\n",
      "1187/1187 [==============================] - 0s - loss: 1.0439 - acc: 0.6091     \n",
      "Epoch 15/100\n",
      "1187/1187 [==============================] - 0s - loss: 1.0380 - acc: 0.6142     \n",
      "Epoch 16/100\n",
      "1187/1187 [==============================] - 0s - loss: 1.0318 - acc: 0.6074     \n",
      "Epoch 17/100\n",
      "1187/1187 [==============================] - 0s - loss: 1.0274 - acc: 0.6150     \n",
      "Epoch 18/100\n",
      "1187/1187 [==============================] - 0s - loss: 1.0225 - acc: 0.6167     \n",
      "Epoch 19/100\n",
      "1187/1187 [==============================] - 0s - loss: 1.0193 - acc: 0.6184     \n",
      "Epoch 20/100\n",
      "1187/1187 [==============================] - 0s - loss: 1.0145 - acc: 0.6184     \n",
      "Epoch 21/100\n",
      "1187/1187 [==============================] - 0s - loss: 1.0116 - acc: 0.6209     \n",
      "Epoch 22/100\n",
      "1187/1187 [==============================] - 0s - loss: 1.0088 - acc: 0.6192     \n",
      "Epoch 23/100\n",
      "1187/1187 [==============================] - 0s - loss: 1.0037 - acc: 0.6243     \n",
      "Epoch 24/100\n",
      "1187/1187 [==============================] - 0s - loss: 1.0039 - acc: 0.6259     \n",
      "Epoch 25/100\n",
      "1187/1187 [==============================] - 0s - loss: 0.9992 - acc: 0.6276     \n",
      "Epoch 26/100\n",
      "1187/1187 [==============================] - 0s - loss: 0.9984 - acc: 0.6251     \n",
      "Epoch 27/100\n",
      "1187/1187 [==============================] - 0s - loss: 0.9939 - acc: 0.6251     \n",
      "Epoch 28/100\n",
      "1187/1187 [==============================] - ETA: 0s - loss: 0.9987 - acc: 0.626 - 0s - loss: 0.9910 - acc: 0.6302     \n",
      "Epoch 29/100\n",
      "1187/1187 [==============================] - 0s - loss: 0.9904 - acc: 0.6327     \n",
      "Epoch 30/100\n",
      "1187/1187 [==============================] - 0s - loss: 0.9875 - acc: 0.6268     \n",
      "Epoch 31/100\n",
      "1187/1187 [==============================] - 0s - loss: 0.9877 - acc: 0.6243     \n",
      "Epoch 32/100\n",
      "1187/1187 [==============================] - 0s - loss: 0.9839 - acc: 0.6276     \n",
      "Epoch 33/100\n",
      "1187/1187 [==============================] - 0s - loss: 0.9814 - acc: 0.6302     \n",
      "Epoch 34/100\n",
      "1187/1187 [==============================] - 0s - loss: 0.9800 - acc: 0.6361     \n",
      "Epoch 35/100\n",
      "1187/1187 [==============================] - 0s - loss: 0.9785 - acc: 0.6302     \n",
      "Epoch 36/100\n",
      "1187/1187 [==============================] - 0s - loss: 0.9769 - acc: 0.6251     \n",
      "Epoch 37/100\n",
      "1187/1187 [==============================] - 0s - loss: 0.9745 - acc: 0.6259     \n",
      "Epoch 38/100\n",
      "1187/1187 [==============================] - 0s - loss: 0.9736 - acc: 0.6310     \n",
      "Epoch 39/100\n",
      "1187/1187 [==============================] - 0s - loss: 0.9714 - acc: 0.6335     \n",
      "Epoch 40/100\n",
      "1187/1187 [==============================] - 0s - loss: 0.9704 - acc: 0.6361     \n",
      "Epoch 41/100\n",
      "1187/1187 [==============================] - 0s - loss: 0.9686 - acc: 0.6344     \n",
      "Epoch 42/100\n",
      "1187/1187 [==============================] - 0s - loss: 0.9674 - acc: 0.6302     \n",
      "Epoch 43/100\n",
      "1187/1187 [==============================] - 0s - loss: 0.9661 - acc: 0.6285     \n",
      "Epoch 44/100\n",
      "1187/1187 [==============================] - 0s - loss: 0.9643 - acc: 0.6352     \n",
      "Epoch 45/100\n",
      "1187/1187 [==============================] - 0s - loss: 0.9638 - acc: 0.6318     \n",
      "Epoch 46/100\n",
      "1187/1187 [==============================] - 0s - loss: 0.9621 - acc: 0.6361     \n",
      "Epoch 47/100\n",
      "1187/1187 [==============================] - 0s - loss: 0.9604 - acc: 0.6310     \n",
      "Epoch 48/100\n",
      "1187/1187 [==============================] - 0s - loss: 0.9592 - acc: 0.6361     \n",
      "Epoch 49/100\n",
      "1187/1187 [==============================] - 0s - loss: 0.9585 - acc: 0.6327     \n",
      "Epoch 50/100\n",
      "1187/1187 [==============================] - 0s - loss: 0.9563 - acc: 0.6403     \n",
      "Epoch 51/100\n",
      "1187/1187 [==============================] - 0s - loss: 0.9557 - acc: 0.6369     \n",
      "Epoch 52/100\n",
      "1187/1187 [==============================] - 0s - loss: 0.9547 - acc: 0.6411     \n",
      "Epoch 53/100\n",
      "1187/1187 [==============================] - 0s - loss: 0.9546 - acc: 0.6335     \n",
      "Epoch 54/100\n",
      "1187/1187 [==============================] - 0s - loss: 0.9528 - acc: 0.6411     \n",
      "Epoch 55/100\n",
      "1187/1187 [==============================] - 0s - loss: 0.9531 - acc: 0.6310     \n",
      "Epoch 56/100\n",
      "1187/1187 [==============================] - 0s - loss: 0.9511 - acc: 0.6386     \n",
      "Epoch 57/100\n",
      "1187/1187 [==============================] - 0s - loss: 0.9505 - acc: 0.6352     \n",
      "Epoch 58/100\n",
      "1187/1187 [==============================] - 0s - loss: 0.9499 - acc: 0.6411     \n",
      "Epoch 59/100\n",
      "1187/1187 [==============================] - 0s - loss: 0.9477 - acc: 0.6335     \n",
      "Epoch 60/100\n",
      "1187/1187 [==============================] - 0s - loss: 0.9468 - acc: 0.6377     \n",
      "Epoch 61/100\n",
      "1187/1187 [==============================] - 0s - loss: 0.9471 - acc: 0.6428     \n",
      "Epoch 62/100\n",
      "1187/1187 [==============================] - 0s - loss: 0.9460 - acc: 0.6411     \n",
      "Epoch 63/100\n",
      "1187/1187 [==============================] - 0s - loss: 0.9453 - acc: 0.6369     \n",
      "Epoch 64/100\n",
      "1187/1187 [==============================] - 0s - loss: 0.9438 - acc: 0.6361     \n",
      "Epoch 65/100\n",
      "1187/1187 [==============================] - 0s - loss: 0.9431 - acc: 0.6344     \n",
      "Epoch 66/100\n",
      "1187/1187 [==============================] - 0s - loss: 0.9430 - acc: 0.6436     \n",
      "Epoch 67/100\n",
      "1187/1187 [==============================] - 0s - loss: 0.9409 - acc: 0.6344     \n",
      "Epoch 68/100\n",
      "1187/1187 [==============================] - 0s - loss: 0.9388 - acc: 0.6420     \n",
      "Epoch 69/100\n",
      "1187/1187 [==============================] - 0s - loss: 0.9407 - acc: 0.6394     \n",
      "Epoch 70/100\n",
      "1187/1187 [==============================] - 0s - loss: 0.9382 - acc: 0.6436     \n",
      "Epoch 71/100\n",
      "1187/1187 [==============================] - 0s - loss: 0.9373 - acc: 0.6403     \n",
      "Epoch 72/100\n",
      "1187/1187 [==============================] - 0s - loss: 0.9374 - acc: 0.6386     \n",
      "Epoch 73/100\n",
      "1187/1187 [==============================] - 0s - loss: 0.9356 - acc: 0.6302     \n",
      "Epoch 74/100\n",
      "1187/1187 [==============================] - 0s - loss: 0.9362 - acc: 0.6327     \n",
      "Epoch 75/100\n",
      "1187/1187 [==============================] - 0s - loss: 0.9349 - acc: 0.6352     \n",
      "Epoch 76/100\n",
      "1187/1187 [==============================] - 0s - loss: 0.9343 - acc: 0.6436     \n",
      "Epoch 77/100\n",
      "1187/1187 [==============================] - 0s - loss: 0.9336 - acc: 0.6369     \n",
      "Epoch 78/100\n",
      "1187/1187 [==============================] - 0s - loss: 0.9343 - acc: 0.6411     \n",
      "Epoch 79/100\n",
      "1187/1187 [==============================] - 0s - loss: 0.9323 - acc: 0.6369     \n",
      "Epoch 80/100\n",
      "1187/1187 [==============================] - 0s - loss: 0.9317 - acc: 0.6369     \n",
      "Epoch 81/100\n",
      "1187/1187 [==============================] - 0s - loss: 0.9313 - acc: 0.6369     \n",
      "Epoch 82/100\n",
      "1187/1187 [==============================] - 0s - loss: 0.9302 - acc: 0.6420     \n",
      "Epoch 83/100\n",
      "1187/1187 [==============================] - 0s - loss: 0.9300 - acc: 0.6369     \n",
      "Epoch 84/100\n",
      "1187/1187 [==============================] - 0s - loss: 0.9287 - acc: 0.6403     \n",
      "Epoch 85/100\n",
      "1187/1187 [==============================] - 0s - loss: 0.9283 - acc: 0.6386     \n",
      "Epoch 86/100\n"
     ]
    },
    {
     "name": "stdout",
     "output_type": "stream",
     "text": [
      "1187/1187 [==============================] - 0s - loss: 0.9278 - acc: 0.6352     \n",
      "Epoch 87/100\n",
      "1187/1187 [==============================] - 0s - loss: 0.9261 - acc: 0.6386     \n",
      "Epoch 88/100\n",
      "1187/1187 [==============================] - 0s - loss: 0.9269 - acc: 0.6487     \n",
      "Epoch 89/100\n",
      "1187/1187 [==============================] - 0s - loss: 0.9262 - acc: 0.6377     \n",
      "Epoch 90/100\n",
      "1187/1187 [==============================] - 0s - loss: 0.9260 - acc: 0.6369     \n",
      "Epoch 91/100\n",
      "1187/1187 [==============================] - 0s - loss: 0.9239 - acc: 0.6411     \n",
      "Epoch 92/100\n",
      "1187/1187 [==============================] - 0s - loss: 0.9231 - acc: 0.6352     \n",
      "Epoch 93/100\n",
      "1187/1187 [==============================] - 0s - loss: 0.9236 - acc: 0.6420     \n",
      "Epoch 94/100\n",
      "1187/1187 [==============================] - 0s - loss: 0.9218 - acc: 0.6403     \n",
      "Epoch 95/100\n",
      "1187/1187 [==============================] - 0s - loss: 0.9221 - acc: 0.6344     \n",
      "Epoch 96/100\n",
      "1187/1187 [==============================] - 0s - loss: 0.9209 - acc: 0.6479     \n",
      "Epoch 97/100\n",
      "1187/1187 [==============================] - 0s - loss: 0.9195 - acc: 0.6411     \n",
      "Epoch 98/100\n",
      "1187/1187 [==============================] - 0s - loss: 0.9205 - acc: 0.6453     \n",
      "Epoch 99/100\n",
      "1187/1187 [==============================] - 0s - loss: 0.9182 - acc: 0.6369     \n",
      "Epoch 100/100\n",
      "1187/1187 [==============================] - 0s - loss: 0.9182 - acc: 0.6445     \n"
     ]
    },
    {
     "data": {
      "text/plain": [
       "<keras.callbacks.History at 0x2374a0aba8>"
      ]
     },
     "execution_count": 12,
     "metadata": {},
     "output_type": "execute_result"
    }
   ],
   "source": [
    "clf_ann = Sequential()\n",
    "\n",
    "# First Hidden Layer\n",
    "clf_ann.add(Dense(output_dim = 24, init = 'uniform', activation = 'relu', input_dim = 8))\n",
    "\n",
    "# Output Layer\n",
    "clf_ann.add(Dense(output_dim = 10, init = 'uniform', activation = 'softmax'))\n",
    "\n",
    "# Compile the ANN\n",
    "clf_ann.compile(optimizer = 'adam', loss = 'categorical_crossentropy', metrics = ['accuracy'])\n",
    "\n",
    "# Train the ANN on the Training Set\n",
    "clf_ann.fit(X_train, Y_train, batch_size = 10, nb_epoch = 100)"
   ]
  },
  {
   "cell_type": "code",
   "execution_count": 13,
   "metadata": {
    "collapsed": true
   },
   "outputs": [],
   "source": [
    "Y_pred = clf_ann.predict(X_test)\n",
    "Y_pred_class = np.argmax(Y_pred, axis = 1)\n",
    "Y_test_class = np.argmax(Y_test, axis = 1)"
   ]
  },
  {
   "cell_type": "markdown",
   "metadata": {},
   "source": [
    "## Check the Accuracy"
   ]
  },
  {
   "cell_type": "code",
   "execution_count": 14,
   "metadata": {},
   "outputs": [
    {
     "data": {
      "text/plain": [
       "0.57239057239057234"
      ]
     },
     "execution_count": 14,
     "metadata": {},
     "output_type": "execute_result"
    }
   ],
   "source": [
    "from sklearn.metrics import accuracy_score, confusion_matrix\n",
    "accuracy_score(Y_test_class, Y_pred_class)"
   ]
  },
  {
   "cell_type": "code",
   "execution_count": 15,
   "metadata": {},
   "outputs": [
    {
     "data": {
      "text/plain": [
       "array([[58,  0,  0,  0,  1,  0,  7, 25,  1,  1],\n",
       "       [ 0,  1,  0,  0,  0,  0,  0,  0,  0,  0],\n",
       "       [ 1,  0,  6,  2,  2,  0,  0,  0,  0,  0],\n",
       "       [ 0,  0,  0, 14,  1,  0,  0,  0,  0,  0],\n",
       "       [ 0,  0,  1,  5,  1,  2,  2,  1,  0,  0],\n",
       "       [ 3,  0,  0,  0,  0, 27,  0,  6,  0,  0],\n",
       "       [10,  0,  0,  1,  1,  3, 19,  5,  0,  0],\n",
       "       [27,  1,  0,  0,  1,  4,  5, 41,  0,  0],\n",
       "       [ 3,  0,  0,  0,  0,  0,  1,  0,  3,  0],\n",
       "       [ 0,  0,  0,  0,  0,  3,  0,  1,  0,  0]], dtype=int64)"
      ]
     },
     "execution_count": 15,
     "metadata": {},
     "output_type": "execute_result"
    }
   ],
   "source": [
    "confusion_matrix(Y_test_class, Y_pred_class)"
   ]
  },
  {
   "cell_type": "code",
   "execution_count": null,
   "metadata": {
    "collapsed": true
   },
   "outputs": [],
   "source": []
  }
 ],
 "metadata": {
  "kernelspec": {
   "display_name": "Python [default]",
   "language": "python",
   "name": "python3"
  },
  "language_info": {
   "codemirror_mode": {
    "name": "ipython",
    "version": 3
   },
   "file_extension": ".py",
   "mimetype": "text/x-python",
   "name": "python",
   "nbconvert_exporter": "python",
   "pygments_lexer": "ipython3",
   "version": "3.5.4"
  }
 },
 "nbformat": 4,
 "nbformat_minor": 2
}
