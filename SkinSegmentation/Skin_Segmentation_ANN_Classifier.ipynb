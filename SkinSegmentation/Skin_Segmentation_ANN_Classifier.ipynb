{
 "cells": [
  {
   "cell_type": "markdown",
   "metadata": {},
   "source": [
    "## Initialization"
   ]
  },
  {
   "cell_type": "code",
   "execution_count": 1,
   "metadata": {},
   "outputs": [
    {
     "name": "stderr",
     "output_type": "stream",
     "text": [
      "Using Theano backend.\n"
     ]
    }
   ],
   "source": [
    "import pandas as pd\n",
    "import numpy as np\n",
    "import keras"
   ]
  },
  {
   "cell_type": "markdown",
   "metadata": {},
   "source": [
    "## Importing the Data"
   ]
  },
  {
   "cell_type": "code",
   "execution_count": 2,
   "metadata": {},
   "outputs": [
    {
     "data": {
      "text/plain": [
       "(245057, 4)"
      ]
     },
     "execution_count": 2,
     "metadata": {},
     "output_type": "execute_result"
    }
   ],
   "source": [
    "dataset = pd.read_csv('Skin_NonSkin.txt', header = None, delimiter = r\"\\s+\")\n",
    "dataset.shape"
   ]
  },
  {
   "cell_type": "code",
   "execution_count": 3,
   "metadata": {},
   "outputs": [
    {
     "data": {
      "text/html": [
       "<div>\n",
       "<style>\n",
       "    .dataframe thead tr:only-child th {\n",
       "        text-align: right;\n",
       "    }\n",
       "\n",
       "    .dataframe thead th {\n",
       "        text-align: left;\n",
       "    }\n",
       "\n",
       "    .dataframe tbody tr th {\n",
       "        vertical-align: top;\n",
       "    }\n",
       "</style>\n",
       "<table border=\"1\" class=\"dataframe\">\n",
       "  <thead>\n",
       "    <tr style=\"text-align: right;\">\n",
       "      <th></th>\n",
       "      <th>0</th>\n",
       "      <th>1</th>\n",
       "      <th>2</th>\n",
       "      <th>3</th>\n",
       "    </tr>\n",
       "  </thead>\n",
       "  <tbody>\n",
       "    <tr>\n",
       "      <th>0</th>\n",
       "      <td>74</td>\n",
       "      <td>85</td>\n",
       "      <td>123</td>\n",
       "      <td>1</td>\n",
       "    </tr>\n",
       "    <tr>\n",
       "      <th>1</th>\n",
       "      <td>73</td>\n",
       "      <td>84</td>\n",
       "      <td>122</td>\n",
       "      <td>1</td>\n",
       "    </tr>\n",
       "    <tr>\n",
       "      <th>2</th>\n",
       "      <td>72</td>\n",
       "      <td>83</td>\n",
       "      <td>121</td>\n",
       "      <td>1</td>\n",
       "    </tr>\n",
       "    <tr>\n",
       "      <th>3</th>\n",
       "      <td>70</td>\n",
       "      <td>81</td>\n",
       "      <td>119</td>\n",
       "      <td>1</td>\n",
       "    </tr>\n",
       "    <tr>\n",
       "      <th>4</th>\n",
       "      <td>70</td>\n",
       "      <td>81</td>\n",
       "      <td>119</td>\n",
       "      <td>1</td>\n",
       "    </tr>\n",
       "  </tbody>\n",
       "</table>\n",
       "</div>"
      ],
      "text/plain": [
       "    0   1    2  3\n",
       "0  74  85  123  1\n",
       "1  73  84  122  1\n",
       "2  72  83  121  1\n",
       "3  70  81  119  1\n",
       "4  70  81  119  1"
      ]
     },
     "execution_count": 3,
     "metadata": {},
     "output_type": "execute_result"
    }
   ],
   "source": [
    "dataset.head()"
   ]
  },
  {
   "cell_type": "markdown",
   "metadata": {},
   "source": [
    "## Create X and Y"
   ]
  },
  {
   "cell_type": "code",
   "execution_count": 4,
   "metadata": {
    "collapsed": true
   },
   "outputs": [],
   "source": [
    "X = dataset.iloc[:, 0:3].values\n",
    "Y = dataset.iloc[:, 3].values"
   ]
  },
  {
   "cell_type": "code",
   "execution_count": 5,
   "metadata": {},
   "outputs": [
    {
     "data": {
      "text/plain": [
       "(245057, 3)"
      ]
     },
     "execution_count": 5,
     "metadata": {},
     "output_type": "execute_result"
    }
   ],
   "source": [
    "X.shape"
   ]
  },
  {
   "cell_type": "code",
   "execution_count": 6,
   "metadata": {},
   "outputs": [
    {
     "data": {
      "text/plain": [
       "(245057,)"
      ]
     },
     "execution_count": 6,
     "metadata": {},
     "output_type": "execute_result"
    }
   ],
   "source": [
    "Y.shape"
   ]
  },
  {
   "cell_type": "code",
   "execution_count": 7,
   "metadata": {},
   "outputs": [
    {
     "data": {
      "text/plain": [
       "array([ 74,  85, 123], dtype=int64)"
      ]
     },
     "execution_count": 7,
     "metadata": {},
     "output_type": "execute_result"
    }
   ],
   "source": [
    "X[0]"
   ]
  },
  {
   "cell_type": "code",
   "execution_count": 8,
   "metadata": {},
   "outputs": [
    {
     "data": {
      "text/plain": [
       "1"
      ]
     },
     "execution_count": 8,
     "metadata": {},
     "output_type": "execute_result"
    }
   ],
   "source": [
    "Y[0]"
   ]
  },
  {
   "cell_type": "markdown",
   "metadata": {},
   "source": [
    "## Preprocess the Data"
   ]
  },
  {
   "cell_type": "code",
   "execution_count": 9,
   "metadata": {
    "collapsed": true
   },
   "outputs": [],
   "source": [
    "from sklearn.preprocessing import LabelEncoder, OneHotEncoder, StandardScaler"
   ]
  },
  {
   "cell_type": "code",
   "execution_count": 10,
   "metadata": {
    "collapsed": true
   },
   "outputs": [],
   "source": [
    "le_Y = LabelEncoder()"
   ]
  },
  {
   "cell_type": "code",
   "execution_count": 11,
   "metadata": {
    "collapsed": true
   },
   "outputs": [],
   "source": [
    "Y = le_Y.fit_transform(Y)"
   ]
  },
  {
   "cell_type": "code",
   "execution_count": 12,
   "metadata": {},
   "outputs": [
    {
     "data": {
      "text/plain": [
       "0"
      ]
     },
     "execution_count": 12,
     "metadata": {},
     "output_type": "execute_result"
    }
   ],
   "source": [
    "Y[0]"
   ]
  },
  {
   "cell_type": "code",
   "execution_count": 13,
   "metadata": {
    "collapsed": true
   },
   "outputs": [],
   "source": [
    "sc_X = StandardScaler()"
   ]
  },
  {
   "cell_type": "code",
   "execution_count": 14,
   "metadata": {},
   "outputs": [
    {
     "name": "stderr",
     "output_type": "stream",
     "text": [
      "C:\\Users\\user\\Anaconda3\\lib\\site-packages\\sklearn\\utils\\validation.py:444: DataConversionWarning: Data with input dtype int64 was converted to float64 by StandardScaler.\n",
      "  warnings.warn(msg, DataConversionWarning)\n"
     ]
    }
   ],
   "source": [
    "X = sc_X.fit_transform(X)"
   ]
  },
  {
   "cell_type": "code",
   "execution_count": 15,
   "metadata": {},
   "outputs": [
    {
     "data": {
      "text/plain": [
       "array([-0.82025564, -0.79256715, -0.00244137])"
      ]
     },
     "execution_count": 15,
     "metadata": {},
     "output_type": "execute_result"
    }
   ],
   "source": [
    "X[0]"
   ]
  },
  {
   "cell_type": "markdown",
   "metadata": {},
   "source": [
    "## Create Train and Test Data"
   ]
  },
  {
   "cell_type": "code",
   "execution_count": 16,
   "metadata": {
    "collapsed": true
   },
   "outputs": [],
   "source": [
    "from sklearn.model_selection import train_test_split"
   ]
  },
  {
   "cell_type": "code",
   "execution_count": 17,
   "metadata": {
    "collapsed": true
   },
   "outputs": [],
   "source": [
    "X_train, X_test, Y_train, Y_test = train_test_split(X, Y, test_size = 0.2, random_state = 4)"
   ]
  },
  {
   "cell_type": "code",
   "execution_count": 18,
   "metadata": {},
   "outputs": [
    {
     "data": {
      "text/plain": [
       "(196045, 3)"
      ]
     },
     "execution_count": 18,
     "metadata": {},
     "output_type": "execute_result"
    }
   ],
   "source": [
    "X_train.shape"
   ]
  },
  {
   "cell_type": "code",
   "execution_count": 19,
   "metadata": {},
   "outputs": [
    {
     "data": {
      "text/plain": [
       "(49012, 3)"
      ]
     },
     "execution_count": 19,
     "metadata": {},
     "output_type": "execute_result"
    }
   ],
   "source": [
    "X_test.shape"
   ]
  },
  {
   "cell_type": "code",
   "execution_count": 20,
   "metadata": {},
   "outputs": [
    {
     "data": {
      "text/plain": [
       "(196045,)"
      ]
     },
     "execution_count": 20,
     "metadata": {},
     "output_type": "execute_result"
    }
   ],
   "source": [
    "Y_train.shape"
   ]
  },
  {
   "cell_type": "code",
   "execution_count": 21,
   "metadata": {},
   "outputs": [
    {
     "data": {
      "text/plain": [
       "(49012,)"
      ]
     },
     "execution_count": 21,
     "metadata": {},
     "output_type": "execute_result"
    }
   ],
   "source": [
    "Y_test.shape"
   ]
  },
  {
   "cell_type": "code",
   "execution_count": 22,
   "metadata": {},
   "outputs": [
    {
     "data": {
      "text/html": [
       "<div>\n",
       "<style>\n",
       "    .dataframe thead tr:only-child th {\n",
       "        text-align: right;\n",
       "    }\n",
       "\n",
       "    .dataframe thead th {\n",
       "        text-align: left;\n",
       "    }\n",
       "\n",
       "    .dataframe tbody tr th {\n",
       "        vertical-align: top;\n",
       "    }\n",
       "</style>\n",
       "<table border=\"1\" class=\"dataframe\">\n",
       "  <thead>\n",
       "    <tr style=\"text-align: right;\">\n",
       "      <th></th>\n",
       "      <th>0</th>\n",
       "    </tr>\n",
       "  </thead>\n",
       "  <tbody>\n",
       "    <tr>\n",
       "      <th>1</th>\n",
       "      <td>155428</td>\n",
       "    </tr>\n",
       "    <tr>\n",
       "      <th>0</th>\n",
       "      <td>40617</td>\n",
       "    </tr>\n",
       "  </tbody>\n",
       "</table>\n",
       "</div>"
      ],
      "text/plain": [
       "        0\n",
       "1  155428\n",
       "0   40617"
      ]
     },
     "execution_count": 22,
     "metadata": {},
     "output_type": "execute_result"
    }
   ],
   "source": [
    "pd.DataFrame(pd.DataFrame(Y_train)[0].value_counts())"
   ]
  },
  {
   "cell_type": "code",
   "execution_count": 23,
   "metadata": {},
   "outputs": [
    {
     "data": {
      "text/html": [
       "<div>\n",
       "<style>\n",
       "    .dataframe thead tr:only-child th {\n",
       "        text-align: right;\n",
       "    }\n",
       "\n",
       "    .dataframe thead th {\n",
       "        text-align: left;\n",
       "    }\n",
       "\n",
       "    .dataframe tbody tr th {\n",
       "        vertical-align: top;\n",
       "    }\n",
       "</style>\n",
       "<table border=\"1\" class=\"dataframe\">\n",
       "  <thead>\n",
       "    <tr style=\"text-align: right;\">\n",
       "      <th></th>\n",
       "      <th>0</th>\n",
       "    </tr>\n",
       "  </thead>\n",
       "  <tbody>\n",
       "    <tr>\n",
       "      <th>1</th>\n",
       "      <td>38770</td>\n",
       "    </tr>\n",
       "    <tr>\n",
       "      <th>0</th>\n",
       "      <td>10242</td>\n",
       "    </tr>\n",
       "  </tbody>\n",
       "</table>\n",
       "</div>"
      ],
      "text/plain": [
       "       0\n",
       "1  38770\n",
       "0  10242"
      ]
     },
     "execution_count": 23,
     "metadata": {},
     "output_type": "execute_result"
    }
   ],
   "source": [
    "pd.DataFrame(pd.DataFrame(Y_test)[0].value_counts())"
   ]
  },
  {
   "cell_type": "markdown",
   "metadata": {},
   "source": [
    "## Create and train the ANN Classifier"
   ]
  },
  {
   "cell_type": "code",
   "execution_count": 24,
   "metadata": {
    "collapsed": true
   },
   "outputs": [],
   "source": [
    "from keras.models import Sequential\n",
    "from keras.layers import Dense"
   ]
  },
  {
   "cell_type": "code",
   "execution_count": 25,
   "metadata": {},
   "outputs": [
    {
     "name": "stderr",
     "output_type": "stream",
     "text": [
      "C:\\Users\\user\\Anaconda3\\lib\\site-packages\\ipykernel\\__main__.py:4: UserWarning: Update your `Dense` call to the Keras 2 API: `Dense(input_dim=3, activation=\"relu\", units=8, kernel_initializer=\"uniform\")`\n",
      "C:\\Users\\user\\Anaconda3\\lib\\site-packages\\ipykernel\\__main__.py:7: UserWarning: Update your `Dense` call to the Keras 2 API: `Dense(activation=\"relu\", units=8, kernel_initializer=\"uniform\")`\n",
      "C:\\Users\\user\\Anaconda3\\lib\\site-packages\\ipykernel\\__main__.py:10: UserWarning: Update your `Dense` call to the Keras 2 API: `Dense(activation=\"sigmoid\", units=1, kernel_initializer=\"uniform\")`\n",
      "C:\\Users\\user\\Anaconda3\\lib\\site-packages\\keras\\models.py:844: UserWarning: The `nb_epoch` argument in `fit` has been renamed `epochs`.\n",
      "  warnings.warn('The `nb_epoch` argument in `fit` '\n"
     ]
    },
    {
     "name": "stdout",
     "output_type": "stream",
     "text": [
      "Epoch 1/100\n",
      "196045/196045 [==============================] - 9s - loss: 0.1016 - acc: 0.9631     - ETA: 2s - loss: 0.124 - ETA: 1s - loss: 0.1169 - a - ETA: 1s - loss - ETA: 0s - loss: 0.1021 - acc: 0.96\n",
      "Epoch 2/100\n",
      "196045/196045 [==============================] - 9s - loss: 0.0089 - acc: 0.9983     - ETA: 2s - ETA: 0s - loss: 0.0\n",
      "Epoch 3/100\n",
      "196045/196045 [==============================] - 9s - loss: 0.0064 - acc: 0.9986     \n",
      "Epoch 4/100\n",
      "196045/196045 [==============================] - 9s - loss: 0.0058 - acc: 0.9988     \n",
      "Epoch 5/100\n",
      "196045/196045 [==============================] - 9s - loss: 0.0055 - acc: 0.9987     - ETA: 8s - lo - ETA: 7s - loss: 0 - E - ETA: 4s - loss: 0.0059 - - E - ETA: 2s - loss: 0.0 - ET\n",
      "Epoch 6/100\n",
      "196045/196045 [==============================] - 9s - loss: 0.0054 - acc: 0.9987     - ETA: 1s - loss: 0 - ETA: 0s - loss: 0.0054 - acc: 0.99\n",
      "Epoch 7/100\n",
      "196045/196045 [==============================] - 9s - loss: 0.0053 - acc: 0.9988     - ETA: 1s - loss: 0.0053 - acc: 0.99 - ETA: 1s - lo - ETA: 0s - loss: 0.0052 - acc: 0.99\n",
      "Epoch 8/100\n",
      "196045/196045 [==============================] - 9s - loss: 0.0053 - acc: 0.9988     -  - \n",
      "Epoch 9/100\n",
      "196045/196045 [==============================] - 9s - loss: 0.0052 - acc: 0.9988     - ETA: 8s - loss: 0.00 - ETA: 7s - loss: 0.0051 - acc: 0.9 - ETA: 6s - loss: 0.0051 - - ETA: 6s - los - ETA: 5s - l\n",
      "Epoch 10/100\n",
      "196045/196045 [==============================] - 9s - loss: 0.0051 - acc: 0.9989     - ETA: 0s - loss: 0.0051 - ac\n",
      "Epoch 11/100\n",
      "196045/196045 [==============================] - 9s - loss: 0.0051 - acc: 0.9989     \n",
      "Epoch 12/100\n",
      "196045/196045 [==============================] - 9s - loss: 0.0051 - acc: 0.9989     - ETA: 5 - ETA: 3s - loss: 0.0 - ETA:  - ETA:\n",
      "Epoch 13/100\n",
      "196045/196045 [==============================] - 9s - loss: 0.0051 - acc: 0.9988     - ETA: 2s - loss: 0.0048 - - \n",
      "Epoch 14/100\n",
      "196045/196045 [==============================] - 9s - loss: 0.0050 - acc: 0.9989     - ETA: 2s - loss: 0.0050 - ac - ETA: 2s - loss: 0.0050 - acc: 0.9 - ETA: 1s - loss: 0.0050 - acc:  - ET\n",
      "Epoch 15/100\n",
      "196045/196045 [==============================] - 9s - loss: 0.0050 - acc: 0.9989     - ETA: 5s - loss: 0.005 - ETA: 4s - loss: 0.0053 - acc: 0 - ETA - ETA: - ETA: 1s - loss: 0.005 - ETA: 0s - loss: 0.0049 - acc:\n",
      "Epoch 16/100\n",
      "196045/196045 [==============================] - 9s - loss: 0.0048 - acc: 0.9989     - ETA: 1s - loss: 0. - ETA: 0s - loss: 0.0047 - ac\n",
      "Epoch 17/100\n",
      "196045/196045 [==============================] - 8s - loss: 0.0050 - acc: 0.9989     \n",
      "Epoch 18/100\n",
      "196045/196045 [==============================] - 9s - loss: 0.0047 - acc: 0.9989     - ETA: 1s - loss: 0. - ETA: 0s - loss: 0\n",
      "Epoch 19/100\n",
      "196045/196045 [==============================] - 9s - loss: 0.0048 - acc: 0.9989     - ETA: 3s - loss: 0.0044 - ETA: 1s - lo\n",
      "Epoch 20/100\n",
      "196045/196045 [==============================] - 9s - loss: 0.0047 - acc: 0.9989     \n",
      "Epoch 21/100\n",
      "196045/196045 [==============================] - 9s - loss: 0.0048 - acc: 0.9989     - ETA: 2s - loss: 0.0049 - acc: - ETA: 1s - loss: 0.0048 - acc: 0.99 - ETA: 1s - loss: 0.0048 - acc - ETA: 1s - lo\n",
      "Epoch 22/100\n",
      "196045/196045 [==============================] - 8s - loss: 0.0048 - acc: 0.9989     - E - E - ETA: 4s - loss:  \n",
      "Epoch 23/100\n",
      "196045/196045 [==============================] - 8s - loss: 0.0047 - acc: 0.9989     \n",
      "Epoch 24/100\n",
      "196045/196045 [==============================] - 9s - loss: 0.0045 - acc: 0.9989     - ETA: 4s - loss: 0.0042 - - ETA\n",
      "Epoch 25/100\n",
      "196045/196045 [==============================] - 9s - loss: 0.0046 - acc: 0.9989     - ETA: 3s - loss: 0.004 - ETA: 2s - los - ETA: 1s - loss: 0.0043 - acc: - ETA: 0s - loss: 0.\n",
      "Epoch 26/100\n",
      "196045/196045 [==============================] - 9s - loss: 0.0046 - acc: 0.9990     - ETA: 0s - loss: 0.0046 - acc: 0.9\n",
      "Epoch 27/100\n",
      "196045/196045 [==============================] - 9s - loss: 0.0046 - acc: 0.9989     - ETA: 1s - l\n",
      "Epoch 28/100\n",
      "196045/196045 [==============================] - 9s - loss: 0.0045 - acc: 0.9989     \n",
      "Epoch 29/100\n",
      "196045/196045 [==============================] - 9s - loss: 0.0044 - acc: 0.9990       - ETA: - ETA: 5s - loss: 0 - ETA: 4s - loss: 0.0046 - a - ETA: 1s - loss:  - ETA: 0s - loss: 0\n",
      "Epoch 30/100\n",
      "196045/196045 [==============================] - 9s - loss: 0.0045 - acc: 0.9989     - ETA: 5s - loss: 0.0043 - acc - ETA: 5s - loss: 0.0043 - - ETA: 4s - lo - ETA: 3s - loss: 0.0041 - acc: 0.999 - ETA: 3s - loss: 0.0041 - ac - ETA: 0s - loss:\n",
      "Epoch 31/100\n",
      "196045/196045 [==============================] - 9s - loss: 0.0044 - acc: 0.9990     - ETA: 1s - loss: 0.0046 - a - ETA: 1\n",
      "Epoch 32/100\n",
      "196045/196045 [==============================] - 9s - loss: 0.0044 - acc: 0.9990     \n",
      "Epoch 33/100\n",
      "196045/196045 [==============================] - 10s - loss: 0.0045 - acc: 0.9990    \n",
      "Epoch 34/100\n",
      "196045/196045 [==============================] - 9s - loss: 0.0044 - acc: 0.9990     \n",
      "Epoch 35/100\n",
      "196045/196045 [==============================] - 9s - loss: 0.0044 - acc: 0.9990      - ETA: 9s - loss: 0.0029 - acc: 0  -  - ETA: 1s - loss: 0.004 - ETA: 0s - loss: 0.0044 - acc: 0.9 - ETA: 0s - loss: 0.0044 - acc: 0\n",
      "Epoch 36/100\n",
      "196045/196045 [==============================] - 9s - loss: 0.0044 - acc: 0.9990          - ETA:  - ETA: 7s\n",
      "Epoch 37/100\n",
      "196045/196045 [==============================] - 9s - loss: 0.0044 - acc: 0.9990     - ETA: 8s - - ETA: 7s - loss: 0.0040 - acc: 0.9 - ETA: 7s - loss: 0 - ETA: 2s - loss: 0.0042 -  - ETA: 1s - loss: 0.004 - ETA: 1s - loss\n",
      "Epoch 38/100\n",
      "196045/196045 [==============================] - 9s - loss: 0.0044 - acc: 0.9990     - ETA: 7s - loss: 0.0044 - acc: 0.99 - ETA: 7s -  - ETA: 6s - loss: 0. - ETA: 5s - loss: 0.0043 - acc: 0.99 - ETA: 5s - loss: 0.0042 - acc: - ETA:  - ETA: 1s - loss: 0.0044 - acc: 0.99 - ETA: 1s - \n",
      "Epoch 39/100\n",
      "196045/196045 [==============================] - 9s - loss: 0.0042 - acc: 0.9991     - \n",
      "Epoch 40/100\n",
      "196045/196045 [==============================] - 9s - loss: 0.0043 - acc: 0.9990     - ETA: 2s - loss: 0.0039 - - ETA: 1s - loss: 0.0039 - a - ETA: 1s - loss: 0.0 - ETA: 0s - loss: 0.0043 - a - ETA: 0s - loss: 0.0043 - acc: 0.999\n",
      "Epoch 41/100\n",
      "196045/196045 [==============================] - 9s - loss: 0.0043 - acc: 0.9990     - ETA: 1s - loss: 0.0043 - acc: 0.99 - ETA: 1s - loss\n",
      "Epoch 42/100\n",
      "196045/196045 [==============================] - 9s - loss: 0.0044 - acc: 0.9990     - ETA: 6s - loss: 0. - ETA: 6s - ETA: 4s - lo - ETA: - ETA: 1s - los - ETA: 0s - loss: 0.0043 - a\n",
      "Epoch 43/100\n",
      "196045/196045 [==============================] - 9s - loss: 0.0043 - acc: 0.9990     \n",
      "Epoch 44/100\n",
      "196045/196045 [==============================] - 9s - loss: 0.0043 - acc: 0.9990     - ETA: 1s - loss: 0.0 - ETA: 0s - loss: 0.0044 - acc: \n",
      "Epoch 45/100\n",
      "196045/196045 [==============================] - 9s - loss: 0.0044 - acc: 0.9990     \n",
      "Epoch 46/100\n",
      "196045/196045 [==============================] - 9s - loss: 0.0042 - acc: 0.9991     \n",
      "Epoch 47/100\n",
      "196045/196045 [==============================] - 9s - loss: 0.0041 - acc: 0.9991     \n",
      "Epoch 48/100\n",
      "196045/196045 [==============================] - 9s - loss: 0.0042 - acc: 0.9990     - ETA: 8s  - ETA: 6s - \n",
      "Epoch 49/100\n",
      "196045/196045 [==============================] - 9s - loss: 0.0042 - acc: 0.9991     - ETA: 7s - loss: 0.0037 - acc: - ETA: 7s - loss: 0.0039 -  - ETA: 6s - loss: 0.0038 - acc: 0.99 - ETA: 6s - los - ETA: 5s - loss: 0.0041 - acc: - ETA: 4s - loss: 0.0039 - acc - ETA: 4s - loss: 0.0038  - ETA: 3s  - ETA: 0s - loss: 0.0042 - a\n",
      "Epoch 50/100\n",
      "196045/196045 [==============================] - 12s - loss: 0.0042 - acc: 0.9990    - E - ETA: 0s - loss: 0.0042 - acc: 0.\n",
      "Epoch 51/100\n",
      "196045/196045 [==============================] - 9s - loss: 0.0041 - acc: 0.9991     \n",
      "Epoch 52/100\n",
      "196045/196045 [==============================] - 9s - loss: 0.0042 - acc: 0.9991     - ETA: 4s - loss: 0.004\n",
      "Epoch 53/100\n",
      "196045/196045 [==============================] - 9s - loss: 0.0042 - acc: 0.9990     - ETA: 3s - loss:  - ETA: 2s  - ETA: 1s - loss: 0.0042 - ac - ETA: 0s - loss: 0.004\n",
      "Epoch 54/100\n"
     ]
    },
    {
     "name": "stdout",
     "output_type": "stream",
     "text": [
      "196045/196045 [==============================] - 9s - loss: 0.0041 - acc: 0.9990     - ETA: 1s - loss:  - ETA: 0s - loss: 0.0042 - acc\n",
      "Epoch 55/100\n",
      "196045/196045 [==============================] - 9s - loss: 0.0041 - acc: 0.9990     \n",
      "Epoch 56/100\n",
      "196045/196045 [==============================] - 9s - loss: 0.0040 - acc: 0.9991     - ETA: 1s - l - ETA: 0s - loss: 0.0040 - acc: 0.999\n",
      "Epoch 57/100\n",
      "196045/196045 [==============================] - 9s - loss: 0.0039 - acc: 0.9991     - ETA: 2s - loss: 0.0041 - a - ETA: 2s - loss: 0.0041 - a\n",
      "Epoch 58/100\n",
      "196045/196045 [==============================] - 9s - loss: 0.0039 - acc: 0.9991     - ET - ETA: 4s - loss: 0.0033 - acc: 0 - ETA: 4s - loss: 0.0034 - a - ETA: 1s - loss: 0.0038 - acc: 0.999 -\n",
      "Epoch 59/100\n",
      "196045/196045 [==============================] - 9s - loss: 0.0037 - acc: 0.9991     \n",
      "Epoch 60/100\n",
      "196045/196045 [==============================] - 9s - loss: 0.0038 - acc: 0.9991     - ETA: 1s - loss: 0.0036 - ac - ETA: 0s - loss: 0.0\n",
      "Epoch 61/100\n",
      "196045/196045 [==============================] - 9s - loss: 0.0036 - acc: 0.9992     - ETA: 3s - loss: 0.0039 - acc: 0 - ETA: 3s - loss: 0.0 - ETA: 2 - ETA: 1s - loss: - ETA: 0s - loss: 0.0035 - acc: 0.9\n",
      "Epoch 62/100\n",
      "196045/196045 [==============================] - 9s - loss: 0.0036 - acc: 0.9991     - ETA: 0s - loss: 0.003 - ETA: 0s - loss: 0.0035 - acc: 0.99\n",
      "Epoch 63/100\n",
      "196045/196045 [==============================] - 8s - loss: 0.0035 - acc: 0.9992     - \n",
      "Epoch 64/100\n",
      "196045/196045 [==============================] - 8s - loss: 0.0035 - acc: 0.9992     -  - ETA: 2s - loss: 0.00\n",
      "Epoch 65/100\n",
      "196045/196045 [==============================] - 9s - loss: 0.0035 - acc: 0.9992      - ETA: 2s - loss: 0.0032  - ETA\n",
      "Epoch 66/100\n",
      "196045/196045 [==============================] - 9s - loss: 0.0034 - acc: 0.9992     - ETA: 2s -  - ETA: 1s\n",
      "Epoch 67/100\n",
      "196045/196045 [==============================] - 9s - loss: 0.0035 - acc: 0.9992     - ETA: 1s - loss: 0.0035 - ac - ETA: 1s - loss:  - ETA: 0s - loss: 0.0035 - acc: 0.9\n",
      "Epoch 68/100\n",
      "196045/196045 [==============================] - 10s - loss: 0.0034 - acc: 0.9992    - ETA: 2s - loss: 0.0037 - acc - ETA: 1s - loss: 0.00 - ETA: 0s - loss: 0.0036 - acc: 0.99 - ETA: 0s - loss: 0.0036\n",
      "Epoch 69/100\n",
      "196045/196045 [==============================] - 9s - loss: 0.0034 - acc: 0.9992     - ETA: 7s - los - ETA: 3s -  - ETA: 1s - loss: 0.0035 - ac - ETA: 1s - loss: 0.0035 - acc - ETA: 0s - loss: 0.\n",
      "Epoch 70/100\n",
      "196045/196045 [==============================] - 9s - loss: 0.0034 - acc: 0.9992     - ETA: 8s - loss - ETA:  - E - ETA: 1s - loss: 0.0034 - ETA: 0s - loss: \n",
      "Epoch 71/100\n",
      "196045/196045 [==============================] - 9s - loss: 0.0033 - acc: 0.9992     \n",
      "Epoch 72/100\n",
      "196045/196045 [==============================] - 9s - loss: 0.0032 - acc: 0.9992     \n",
      "Epoch 73/100\n",
      "196045/196045 [==============================] - 9s - loss: 0.0032 - acc: 0.9992     - ETA: 3s - l - ETA: 2s - loss: 0.0032 - ETA: 0s - loss: 0.0033 - acc: 0.9\n",
      "Epoch 74/100\n",
      "196045/196045 [==============================] - 10s - loss: 0.0031 - acc: 0.9993    - ETA: 9s -  - ETA: 2s - loss: 0.0032 - acc - ETA: 1s - loss: 0.0032 - a - E\n",
      "Epoch 75/100\n",
      "196045/196045 [==============================] - 9s - loss: 0.0033 - acc: 0.9992     \n",
      "Epoch 76/100\n",
      "196045/196045 [==============================] - 9s - loss: 0.0032 - acc: 0.9993     - ETA - ETA: 1s - los\n",
      "Epoch 77/100\n",
      "196045/196045 [==============================] - 9s - loss: 0.0031 - acc: 0.9993     - ETA: 0s - loss: 0.0031 - ac\n",
      "Epoch 78/100\n",
      "196045/196045 [==============================] - 9s - loss: 0.0030 - acc: 0.9992     - ETA: 8s - loss: 0.0034 \n",
      "Epoch 79/100\n",
      "196045/196045 [==============================] - 10s - loss: 0.0030 - acc: 0.9993    \n",
      "Epoch 80/100\n",
      "196045/196045 [==============================] - 9s - loss: 0.0031 - acc: 0.9993     - ETA: 2s - loss:\n",
      "Epoch 81/100\n",
      "196045/196045 [==============================] - 9s - loss: 0.0030 - acc: 0.9993     - ETA: 4s - loss: 0.0027 - - ETA: 3 - ETA: 2s - los - ETA: 1s - lo\n",
      "Epoch 82/100\n",
      "196045/196045 [==============================] - 9s - loss: 0.0031 - acc: 0.9993     - ETA: 3s - loss: 0.0031 - acc: - ETA: 3s - loss: 0.003 - ETA: 2s - loss: 0.0033 - acc: 0.99 - ETA: 2s - loss: 0.0033 - acc:\n",
      "Epoch 83/100\n",
      "196045/196045 [==============================] - 9s - loss: 0.0030 - acc: 0.9993     - ETA\n",
      "Epoch 84/100\n",
      "196045/196045 [==============================] - 9s - loss: 0.0029 - acc: 0.9993     1000 - ETA: 10s - los\n",
      "Epoch 85/100\n",
      "196045/196045 [==============================] - 9s - loss: 0.0030 - acc: 0.9993     \n",
      "Epoch 86/100\n",
      "196045/196045 [==============================] - 9s - loss: 0.0029 - acc: 0.9993     - ETA: 8s - loss: 0.0021 - ac - ETA: 8 - ETA: 3s - los\n",
      "Epoch 87/100\n",
      "196045/196045 [==============================] - 9s - loss: 0.0030 - acc: 0.9993     - ETA: 5s - loss: 0.00 - ETA: 4s - lo - ETA: 3s - loss: 0.0029 - acc: - ETA: 2s - loss: 0.\n",
      "Epoch 88/100\n",
      "196045/196045 [==============================] - 9s - loss: 0.0029 - acc: 0.9993     - ETA: 8s - loss: 0.0024 - a\n",
      "Epoch 89/100\n",
      "196045/196045 [==============================] - 9s - loss: 0.0030 - acc: 0.9993     - - ETA: 0s - loss: 0.0030 \n",
      "Epoch 90/100\n",
      "196045/196045 [==============================] - ETA: 0s - loss: 0.0030 - acc: 0.999 - 9s - loss: 0.0029 - acc: 0.9993     \n",
      "Epoch 91/100\n",
      "196045/196045 [==============================] - 9s - loss: 0.0030 - acc: 0.9993     - ETA: 5s - loss - ETA: 4s - loss: 0.0032 - acc - ETA: 0s - loss: 0.0030 - acc: 0.9\n",
      "Epoch 92/100\n",
      "196045/196045 [==============================] - 9s - loss: 0.0029 - acc: 0.9994     - E - ETA: 6s - loss: 0.0028  - ETA: 6s - loss: 0.0 - ETA: 5s - loss: 0.0031 - ETA: 4s - loss:  - ETA: 3s  - ETA: 0s - loss: 0.0029 - acc: 0\n",
      "Epoch 93/100\n",
      "196045/196045 [==============================] - 9s - loss: 0.0029 - acc: 0.9993     - ETA: 2s - loss: 0. - ETA:\n",
      "Epoch 94/100\n",
      "196045/196045 [==============================] - 9s - loss: 0.0030 - acc: 0.9993     - ETA: 1s - loss: 0.0030 - acc: - ETA: 0s - loss: 0.0\n",
      "Epoch 95/100\n",
      "196045/196045 [==============================] - 9s - loss: 0.0029 - acc: 0.9993     - ETA: 6 - ETA: 0s - loss: 0.0030 - acc: 0.9 - ETA: 0s - loss: 0.0030 \n",
      "Epoch 96/100\n",
      "196045/196045 [==============================] - 9s - loss: 0.0029 - acc: 0.9993     - ETA: 1s - loss: 0.0029 - ETA: 0s - loss: 0.0030 - ac\n",
      "Epoch 97/100\n",
      "196045/196045 [==============================] - 9s - loss: 0.0029 - acc: 0.9994     \n",
      "Epoch 98/100\n",
      "196045/196045 [==============================] - 9s - loss: 0.0030 - acc: 0.9993     - ETA:  - ETA: 1s - loss: 0.0029 - acc: 0 - ETA: \n",
      "Epoch 99/100\n",
      "196045/196045 [==============================] - 9s - loss: 0.0030 - acc: 0.9993     - ETA: 3s -\n",
      "Epoch 100/100\n",
      "196045/196045 [==============================] - 9s - loss: 0.0029 - acc: 0.9994     - ETA: 2s - loss: 0.0031 \n"
     ]
    },
    {
     "data": {
      "text/plain": [
       "<keras.callbacks.History at 0xb8e1250e80>"
      ]
     },
     "execution_count": 25,
     "metadata": {},
     "output_type": "execute_result"
    }
   ],
   "source": [
    "clf_ann = Sequential()\n",
    "\n",
    "# First Hidden Layer\n",
    "clf_ann.add(Dense(output_dim = 8, init = 'uniform', activation = 'relu', input_dim = 3))\n",
    "\n",
    "# Second Hidden Layer\n",
    "clf_ann.add(Dense(output_dim = 8, init = 'uniform', activation = 'relu'))\n",
    "\n",
    "# Output Layer\n",
    "clf_ann.add(Dense(output_dim = 1, init = 'uniform', activation = 'sigmoid'))\n",
    "\n",
    "# Compile the ANN\n",
    "clf_ann.compile(optimizer = 'adam', loss = 'binary_crossentropy', metrics = ['accuracy'])\n",
    "\n",
    "# Train the ANN on the Train Data\n",
    "clf_ann.fit(X_train, Y_train, batch_size = 10, nb_epoch = 100)"
   ]
  },
  {
   "cell_type": "code",
   "execution_count": 26,
   "metadata": {
    "collapsed": true
   },
   "outputs": [],
   "source": [
    "# Test the ANN on the Test Data\n",
    "Y_pred = clf_ann.predict(X_test)\n",
    "Y_pred = (Y_pred > 0.5)"
   ]
  },
  {
   "cell_type": "markdown",
   "metadata": {},
   "source": [
    "## Check the Accuracy"
   ]
  },
  {
   "cell_type": "code",
   "execution_count": 27,
   "metadata": {
    "collapsed": true
   },
   "outputs": [],
   "source": [
    "from sklearn.metrics import accuracy_score, confusion_matrix"
   ]
  },
  {
   "cell_type": "code",
   "execution_count": 28,
   "metadata": {},
   "outputs": [
    {
     "data": {
      "text/plain": [
       "0.99938790500285646"
      ]
     },
     "execution_count": 28,
     "metadata": {},
     "output_type": "execute_result"
    }
   ],
   "source": [
    "accuracy_score(Y_test, Y_pred)"
   ]
  },
  {
   "cell_type": "code",
   "execution_count": 29,
   "metadata": {},
   "outputs": [
    {
     "data": {
      "text/plain": [
       "array([[10242,     0],\n",
       "       [   30, 38740]], dtype=int64)"
      ]
     },
     "execution_count": 29,
     "metadata": {},
     "output_type": "execute_result"
    }
   ],
   "source": [
    "confusion_matrix(Y_test, Y_pred)"
   ]
  },
  {
   "cell_type": "code",
   "execution_count": null,
   "metadata": {
    "collapsed": true
   },
   "outputs": [],
   "source": []
  }
 ],
 "metadata": {
  "kernelspec": {
   "display_name": "Python [default]",
   "language": "python",
   "name": "python3"
  },
  "language_info": {
   "codemirror_mode": {
    "name": "ipython",
    "version": 3
   },
   "file_extension": ".py",
   "mimetype": "text/x-python",
   "name": "python",
   "nbconvert_exporter": "python",
   "pygments_lexer": "ipython3",
   "version": "3.5.4"
  }
 },
 "nbformat": 4,
 "nbformat_minor": 2
}
