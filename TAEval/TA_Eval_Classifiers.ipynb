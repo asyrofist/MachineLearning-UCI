{
 "cells": [
  {
   "cell_type": "markdown",
   "metadata": {
    "collapsed": true
   },
   "source": [
    "## Initialization"
   ]
  },
  {
   "cell_type": "code",
   "execution_count": 1,
   "metadata": {
    "collapsed": true
   },
   "outputs": [],
   "source": [
    "import numpy as np\n",
    "import pandas as pd"
   ]
  },
  {
   "cell_type": "code",
   "execution_count": 2,
   "metadata": {
    "collapsed": true
   },
   "outputs": [],
   "source": [
    "from sklearn.model_selection import train_test_split\n",
    "from sklearn.metrics import accuracy_score, confusion_matrix\n",
    "from sklearn.preprocessing import LabelEncoder, OneHotEncoder, StandardScaler"
   ]
  },
  {
   "cell_type": "code",
   "execution_count": 3,
   "metadata": {
    "collapsed": true
   },
   "outputs": [],
   "source": [
    "from sklearn.tree import DecisionTreeClassifier\n",
    "from sklearn.neighbors import KNeighborsClassifier\n",
    "from sklearn.naive_bayes import GaussianNB\n",
    "from sklearn.svm import SVC\n",
    "from sklearn.linear_model import LogisticRegression\n",
    "from sklearn.ensemble import RandomForestClassifier"
   ]
  },
  {
   "cell_type": "code",
   "execution_count": 4,
   "metadata": {
    "collapsed": true
   },
   "outputs": [],
   "source": [
    "model_accuracies = {'KNN':1, 'LogReg':1, 'DT':1, 'RF':1, 'NB':1, 'LinearSVC':1, 'KernelSVC':1}"
   ]
  },
  {
   "cell_type": "markdown",
   "metadata": {},
   "source": [
    "## Importing the Data"
   ]
  },
  {
   "cell_type": "code",
   "execution_count": 5,
   "metadata": {},
   "outputs": [
    {
     "data": {
      "text/plain": [
       "(151, 6)"
      ]
     },
     "execution_count": 5,
     "metadata": {},
     "output_type": "execute_result"
    }
   ],
   "source": [
    "df = pd.read_csv('tae.data', header = None)\n",
    "df.shape"
   ]
  },
  {
   "cell_type": "code",
   "execution_count": 6,
   "metadata": {},
   "outputs": [
    {
     "data": {
      "text/html": [
       "<div>\n",
       "<style>\n",
       "    .dataframe thead tr:only-child th {\n",
       "        text-align: right;\n",
       "    }\n",
       "\n",
       "    .dataframe thead th {\n",
       "        text-align: left;\n",
       "    }\n",
       "\n",
       "    .dataframe tbody tr th {\n",
       "        vertical-align: top;\n",
       "    }\n",
       "</style>\n",
       "<table border=\"1\" class=\"dataframe\">\n",
       "  <thead>\n",
       "    <tr style=\"text-align: right;\">\n",
       "      <th></th>\n",
       "      <th>0</th>\n",
       "      <th>1</th>\n",
       "      <th>2</th>\n",
       "      <th>3</th>\n",
       "      <th>4</th>\n",
       "      <th>5</th>\n",
       "    </tr>\n",
       "  </thead>\n",
       "  <tbody>\n",
       "    <tr>\n",
       "      <th>0</th>\n",
       "      <td>1</td>\n",
       "      <td>23</td>\n",
       "      <td>3</td>\n",
       "      <td>1</td>\n",
       "      <td>19</td>\n",
       "      <td>3</td>\n",
       "    </tr>\n",
       "    <tr>\n",
       "      <th>1</th>\n",
       "      <td>2</td>\n",
       "      <td>15</td>\n",
       "      <td>3</td>\n",
       "      <td>1</td>\n",
       "      <td>17</td>\n",
       "      <td>3</td>\n",
       "    </tr>\n",
       "    <tr>\n",
       "      <th>2</th>\n",
       "      <td>1</td>\n",
       "      <td>23</td>\n",
       "      <td>3</td>\n",
       "      <td>2</td>\n",
       "      <td>49</td>\n",
       "      <td>3</td>\n",
       "    </tr>\n",
       "    <tr>\n",
       "      <th>3</th>\n",
       "      <td>1</td>\n",
       "      <td>5</td>\n",
       "      <td>2</td>\n",
       "      <td>2</td>\n",
       "      <td>33</td>\n",
       "      <td>3</td>\n",
       "    </tr>\n",
       "    <tr>\n",
       "      <th>4</th>\n",
       "      <td>2</td>\n",
       "      <td>7</td>\n",
       "      <td>11</td>\n",
       "      <td>2</td>\n",
       "      <td>55</td>\n",
       "      <td>3</td>\n",
       "    </tr>\n",
       "  </tbody>\n",
       "</table>\n",
       "</div>"
      ],
      "text/plain": [
       "   0   1   2  3   4  5\n",
       "0  1  23   3  1  19  3\n",
       "1  2  15   3  1  17  3\n",
       "2  1  23   3  2  49  3\n",
       "3  1   5   2  2  33  3\n",
       "4  2   7  11  2  55  3"
      ]
     },
     "execution_count": 6,
     "metadata": {},
     "output_type": "execute_result"
    }
   ],
   "source": [
    "df.head()"
   ]
  },
  {
   "cell_type": "markdown",
   "metadata": {},
   "source": [
    "## Creating X and Y"
   ]
  },
  {
   "cell_type": "code",
   "execution_count": 7,
   "metadata": {},
   "outputs": [],
   "source": [
    "X = df.iloc[:, 0:5].values\n",
    "Y = df.iloc[:, 5].values"
   ]
  },
  {
   "cell_type": "code",
   "execution_count": 8,
   "metadata": {},
   "outputs": [
    {
     "data": {
      "text/plain": [
       "(151,)"
      ]
     },
     "execution_count": 8,
     "metadata": {},
     "output_type": "execute_result"
    }
   ],
   "source": [
    "Y.shape"
   ]
  },
  {
   "cell_type": "code",
   "execution_count": 9,
   "metadata": {},
   "outputs": [
    {
     "data": {
      "text/plain": [
       "(151, 5)"
      ]
     },
     "execution_count": 9,
     "metadata": {},
     "output_type": "execute_result"
    }
   ],
   "source": [
    "X.shape"
   ]
  },
  {
   "cell_type": "code",
   "execution_count": 10,
   "metadata": {},
   "outputs": [
    {
     "data": {
      "text/plain": [
       "5"
      ]
     },
     "execution_count": 10,
     "metadata": {},
     "output_type": "execute_result"
    }
   ],
   "source": [
    "X.shape[1]"
   ]
  },
  {
   "cell_type": "code",
   "execution_count": 11,
   "metadata": {
    "scrolled": true
   },
   "outputs": [
    {
     "data": {
      "text/plain": [
       "array([[ 1, 23,  3,  1, 19],\n",
       "       [ 2, 15,  3,  1, 17],\n",
       "       [ 1, 23,  3,  2, 49],\n",
       "       [ 1,  5,  2,  2, 33],\n",
       "       [ 2,  7, 11,  2, 55],\n",
       "       [ 2, 23,  3,  1, 20],\n",
       "       [ 2,  9,  5,  2, 19],\n",
       "       [ 2, 10,  3,  2, 27],\n",
       "       [ 1, 22,  3,  1, 58],\n",
       "       [ 2, 15,  3,  1, 20],\n",
       "       [ 2, 10, 22,  2,  9],\n",
       "       [ 2, 13,  1,  2, 30],\n",
       "       [ 2, 18, 21,  2, 29],\n",
       "       [ 2,  6, 17,  2, 39],\n",
       "       [ 2,  6, 17,  2, 42],\n",
       "       [ 2,  6, 17,  2, 43],\n",
       "       [ 2,  7, 11,  2, 10],\n",
       "       [ 2, 22,  3,  2, 46],\n",
       "       [ 2, 13,  3,  1, 10],\n",
       "       [ 2,  7, 25,  2, 42],\n",
       "       [ 2, 25,  7,  2, 27],\n",
       "       [ 2, 25,  7,  2, 23],\n",
       "       [ 2,  2,  9,  2, 31],\n",
       "       [ 2,  1, 15,  1, 22],\n",
       "       [ 2, 15, 13,  2, 37],\n",
       "       [ 2,  7, 11,  2, 13],\n",
       "       [ 2,  8,  3,  2, 24],\n",
       "       [ 2, 14, 15,  2, 38],\n",
       "       [ 2, 21,  2,  2, 42],\n",
       "       [ 2, 22,  3,  2, 28],\n",
       "       [ 2, 11,  1,  2, 51],\n",
       "       [ 2, 18,  5,  2, 19],\n",
       "       [ 2, 13,  1,  2, 31],\n",
       "       [ 1, 13,  3,  1, 13],\n",
       "       [ 2,  5,  2,  2, 37],\n",
       "       [ 2, 16,  8,  2, 36],\n",
       "       [ 2,  4, 16,  2, 21],\n",
       "       [ 2,  5,  2,  2, 48],\n",
       "       [ 2, 14, 15,  2, 38],\n",
       "       [ 1, 23,  3,  1, 19],\n",
       "       [ 2, 15,  3,  1, 17],\n",
       "       [ 1, 23,  3,  2, 49],\n",
       "       [ 1,  5,  2,  2, 33],\n",
       "       [ 2,  7, 11,  2, 55],\n",
       "       [ 2, 23,  3,  1, 20],\n",
       "       [ 2,  9,  5,  2, 19],\n",
       "       [ 2, 10,  3,  2, 27],\n",
       "       [ 1, 22,  3,  2, 58],\n",
       "       [ 2, 15,  3,  1, 20],\n",
       "       [ 2, 10, 22,  2,  9],\n",
       "       [ 2, 13,  1,  2, 30],\n",
       "       [ 2, 18, 21,  2, 29],\n",
       "       [ 2,  6, 17,  2, 39],\n",
       "       [ 2,  6, 17,  2, 42],\n",
       "       [ 2,  6, 17,  2, 43],\n",
       "       [ 2,  7, 11,  2, 10],\n",
       "       [ 2, 22,  3,  2, 46],\n",
       "       [ 2, 13,  3,  1, 10],\n",
       "       [ 2,  7, 25,  2, 42],\n",
       "       [ 2, 25,  7,  2, 27],\n",
       "       [ 2, 25,  7,  2, 23],\n",
       "       [ 2,  2,  9,  2, 31],\n",
       "       [ 2,  1, 15,  1, 22],\n",
       "       [ 2, 15, 13,  2, 37],\n",
       "       [ 2,  7, 11,  2, 13],\n",
       "       [ 2,  8,  3,  2, 24],\n",
       "       [ 2, 14, 15,  2, 38],\n",
       "       [ 2, 21,  2,  2, 42],\n",
       "       [ 2, 22,  3,  2, 28],\n",
       "       [ 2, 11,  1,  2, 51],\n",
       "       [ 2, 18,  5,  2, 19],\n",
       "       [ 2, 13,  1,  2, 31],\n",
       "       [ 1, 13,  3,  1, 13],\n",
       "       [ 2,  5,  2,  2, 37],\n",
       "       [ 2, 16,  8,  2, 36],\n",
       "       [ 2,  4, 16,  2, 21],\n",
       "       [ 2,  5,  2,  2, 48],\n",
       "       [ 2, 14, 15,  2, 38],\n",
       "       [ 1, 23,  3,  1, 25],\n",
       "       [ 1, 13,  3,  1, 17],\n",
       "       [ 2, 16, 19,  2, 11],\n",
       "       [ 2,  9,  2,  2, 39],\n",
       "       [ 2, 13,  3,  1, 11],\n",
       "       [ 2, 18, 21,  2, 19],\n",
       "       [ 1, 22,  3,  2, 45],\n",
       "       [ 2,  7, 11,  1, 20],\n",
       "       [ 2, 23,  3,  1, 20],\n",
       "       [ 1, 23,  3,  1, 20],\n",
       "       [ 1, 23,  3,  2, 38],\n",
       "       [ 2, 14, 22,  2, 17],\n",
       "       [ 1, 17, 17,  2, 19],\n",
       "       [ 2,  9,  5,  2, 24],\n",
       "       [ 2, 18, 25,  2, 25],\n",
       "       [ 1, 17, 17,  2, 31],\n",
       "       [ 2,  1, 15,  2, 31],\n",
       "       [ 2,  1,  8,  2, 18],\n",
       "       [ 1, 11, 16,  2, 22],\n",
       "       [ 1, 22, 13,  2, 27],\n",
       "       [ 2,  9,  2,  2, 14],\n",
       "       [ 2, 13,  1,  2, 20],\n",
       "       [ 1,  6, 17,  2, 35],\n",
       "       [ 2, 23,  3,  1, 20],\n",
       "       [ 1, 23,  3,  1, 20],\n",
       "       [ 2,  6, 17,  2, 37],\n",
       "       [ 1, 22,  3,  2, 15],\n",
       "       [ 2, 20,  2,  2, 25],\n",
       "       [ 2, 23,  3,  2, 10],\n",
       "       [ 2, 20,  2,  2, 14],\n",
       "       [ 1, 23,  3,  2, 38],\n",
       "       [ 2, 13,  1,  2, 29],\n",
       "       [ 2, 10,  3,  2, 19],\n",
       "       [ 2,  7, 11,  2, 30],\n",
       "       [ 1, 14, 15,  2, 32],\n",
       "       [ 2,  8,  3,  2, 27],\n",
       "       [ 2, 12,  7,  2, 34],\n",
       "       [ 2,  8,  7,  2, 23],\n",
       "       [ 2, 15,  1,  2, 66],\n",
       "       [ 2, 23,  3,  2, 12],\n",
       "       [ 2,  2,  9,  2, 29],\n",
       "       [ 2, 15,  1,  2, 19],\n",
       "       [ 2, 20,  2,  2,  3],\n",
       "       [ 2, 13, 14,  2, 17],\n",
       "       [ 2,  9,  6,  2,  7],\n",
       "       [ 1, 10,  3,  2, 21],\n",
       "       [ 2, 14, 15,  2, 36],\n",
       "       [ 1, 13,  1,  2, 54],\n",
       "       [ 1,  8,  3,  2, 29],\n",
       "       [ 2, 20,  2,  2, 45],\n",
       "       [ 2, 22,  1,  2, 11],\n",
       "       [ 2, 18, 12,  2, 16],\n",
       "       [ 2, 20, 15,  2, 18],\n",
       "       [ 1, 17, 18,  2, 44],\n",
       "       [ 2, 14, 23,  2, 17],\n",
       "       [ 2, 24, 26,  2, 21],\n",
       "       [ 2,  9, 24,  2, 20],\n",
       "       [ 2, 12,  8,  2, 24],\n",
       "       [ 2,  9,  6,  2,  5],\n",
       "       [ 2, 22,  1,  2, 42],\n",
       "       [ 2,  7, 11,  2, 30],\n",
       "       [ 2, 10,  3,  2, 19],\n",
       "       [ 2, 23,  3,  2, 11],\n",
       "       [ 2, 17, 18,  2, 29],\n",
       "       [ 2, 16, 20,  2, 15],\n",
       "       [ 2,  3,  2,  2, 37],\n",
       "       [ 2, 19,  4,  2, 10],\n",
       "       [ 2, 23,  3,  2, 24],\n",
       "       [ 2,  3,  2,  2, 26],\n",
       "       [ 2, 10,  3,  2, 12],\n",
       "       [ 1, 18,  7,  2, 48],\n",
       "       [ 2, 22,  1,  2, 51],\n",
       "       [ 2,  2, 10,  2, 27]], dtype=int64)"
      ]
     },
     "execution_count": 11,
     "metadata": {},
     "output_type": "execute_result"
    }
   ],
   "source": [
    "X"
   ]
  },
  {
   "cell_type": "code",
   "execution_count": 12,
   "metadata": {},
   "outputs": [
    {
     "data": {
      "text/plain": [
       "array([3, 3, 3, 3, 3, 3, 3, 3, 3, 3, 3, 3, 3, 3, 2, 2, 2, 2, 2, 2, 2, 2, 2,\n",
       "       2, 2, 2, 2, 2, 1, 1, 1, 1, 1, 1, 1, 1, 1, 1, 1, 3, 3, 3, 3, 3, 3, 3,\n",
       "       3, 3, 3, 3, 3, 3, 3, 2, 2, 2, 2, 2, 2, 2, 2, 2, 2, 2, 2, 2, 2, 1, 1,\n",
       "       1, 1, 1, 1, 1, 1, 1, 1, 1, 3, 3, 3, 3, 3, 3, 3, 3, 3, 3, 3, 3, 3, 3,\n",
       "       3, 3, 3, 2, 2, 2, 2, 2, 2, 2, 2, 2, 2, 2, 2, 1, 1, 1, 1, 1, 1, 1, 1,\n",
       "       1, 1, 1, 1, 1, 1, 3, 3, 3, 3, 3, 3, 3, 2, 2, 2, 2, 2, 2, 2, 2, 2, 2,\n",
       "       1, 1, 1, 1, 1, 1, 1, 1, 1, 1, 1, 1, 1], dtype=int64)"
      ]
     },
     "execution_count": 12,
     "metadata": {},
     "output_type": "execute_result"
    }
   ],
   "source": [
    "Y"
   ]
  },
  {
   "cell_type": "markdown",
   "metadata": {},
   "source": [
    "## Preprocess the Data"
   ]
  },
  {
   "cell_type": "code",
   "execution_count": 13,
   "metadata": {
    "collapsed": true
   },
   "outputs": [],
   "source": [
    "le_Y = LabelEncoder()"
   ]
  },
  {
   "cell_type": "code",
   "execution_count": 14,
   "metadata": {},
   "outputs": [
    {
     "data": {
      "text/plain": [
       "array([2, 2, 2, 2, 2, 2, 2, 2, 2, 2, 2, 2, 2, 2, 1, 1, 1, 1, 1, 1, 1, 1, 1,\n",
       "       1, 1, 1, 1, 1, 0, 0, 0, 0, 0, 0, 0, 0, 0, 0, 0, 2, 2, 2, 2, 2, 2, 2,\n",
       "       2, 2, 2, 2, 2, 2, 2, 1, 1, 1, 1, 1, 1, 1, 1, 1, 1, 1, 1, 1, 1, 0, 0,\n",
       "       0, 0, 0, 0, 0, 0, 0, 0, 0, 2, 2, 2, 2, 2, 2, 2, 2, 2, 2, 2, 2, 2, 2,\n",
       "       2, 2, 2, 1, 1, 1, 1, 1, 1, 1, 1, 1, 1, 1, 1, 0, 0, 0, 0, 0, 0, 0, 0,\n",
       "       0, 0, 0, 0, 0, 0, 2, 2, 2, 2, 2, 2, 2, 1, 1, 1, 1, 1, 1, 1, 1, 1, 1,\n",
       "       0, 0, 0, 0, 0, 0, 0, 0, 0, 0, 0, 0, 0], dtype=int64)"
      ]
     },
     "execution_count": 14,
     "metadata": {},
     "output_type": "execute_result"
    }
   ],
   "source": [
    "Y = le_Y.fit_transform(Y)\n",
    "Y"
   ]
  },
  {
   "cell_type": "code",
   "execution_count": 15,
   "metadata": {
    "collapsed": true
   },
   "outputs": [],
   "source": [
    "def encoder_X(index):\n",
    "    le_X = LabelEncoder()\n",
    "    X[:, index] = le_X.fit_transform(X[:, index])"
   ]
  },
  {
   "cell_type": "code",
   "execution_count": 16,
   "metadata": {
    "collapsed": true
   },
   "outputs": [],
   "source": [
    "for x in range(0, X.shape[1] - 1):\n",
    "    encoder_X(x)"
   ]
  },
  {
   "cell_type": "code",
   "execution_count": 17,
   "metadata": {},
   "outputs": [
    {
     "data": {
      "text/plain": [
       "array([[ 0, 22,  2,  0, 19],\n",
       "       [ 1, 14,  2,  0, 17],\n",
       "       [ 0, 22,  2,  1, 49],\n",
       "       [ 0,  4,  1,  1, 33],\n",
       "       [ 1,  6, 10,  1, 55],\n",
       "       [ 1, 22,  2,  0, 20],\n",
       "       [ 1,  8,  4,  1, 19],\n",
       "       [ 1,  9,  2,  1, 27],\n",
       "       [ 0, 21,  2,  0, 58],\n",
       "       [ 1, 14,  2,  0, 20],\n",
       "       [ 1,  9, 21,  1,  9],\n",
       "       [ 1, 12,  0,  1, 30],\n",
       "       [ 1, 17, 20,  1, 29],\n",
       "       [ 1,  5, 16,  1, 39],\n",
       "       [ 1,  5, 16,  1, 42],\n",
       "       [ 1,  5, 16,  1, 43],\n",
       "       [ 1,  6, 10,  1, 10],\n",
       "       [ 1, 21,  2,  1, 46],\n",
       "       [ 1, 12,  2,  0, 10],\n",
       "       [ 1,  6, 24,  1, 42],\n",
       "       [ 1, 24,  6,  1, 27],\n",
       "       [ 1, 24,  6,  1, 23],\n",
       "       [ 1,  1,  8,  1, 31],\n",
       "       [ 1,  0, 14,  0, 22],\n",
       "       [ 1, 14, 12,  1, 37],\n",
       "       [ 1,  6, 10,  1, 13],\n",
       "       [ 1,  7,  2,  1, 24],\n",
       "       [ 1, 13, 14,  1, 38],\n",
       "       [ 1, 20,  1,  1, 42],\n",
       "       [ 1, 21,  2,  1, 28],\n",
       "       [ 1, 10,  0,  1, 51],\n",
       "       [ 1, 17,  4,  1, 19],\n",
       "       [ 1, 12,  0,  1, 31],\n",
       "       [ 0, 12,  2,  0, 13],\n",
       "       [ 1,  4,  1,  1, 37],\n",
       "       [ 1, 15,  7,  1, 36],\n",
       "       [ 1,  3, 15,  1, 21],\n",
       "       [ 1,  4,  1,  1, 48],\n",
       "       [ 1, 13, 14,  1, 38],\n",
       "       [ 0, 22,  2,  0, 19],\n",
       "       [ 1, 14,  2,  0, 17],\n",
       "       [ 0, 22,  2,  1, 49],\n",
       "       [ 0,  4,  1,  1, 33],\n",
       "       [ 1,  6, 10,  1, 55],\n",
       "       [ 1, 22,  2,  0, 20],\n",
       "       [ 1,  8,  4,  1, 19],\n",
       "       [ 1,  9,  2,  1, 27],\n",
       "       [ 0, 21,  2,  1, 58],\n",
       "       [ 1, 14,  2,  0, 20],\n",
       "       [ 1,  9, 21,  1,  9],\n",
       "       [ 1, 12,  0,  1, 30],\n",
       "       [ 1, 17, 20,  1, 29],\n",
       "       [ 1,  5, 16,  1, 39],\n",
       "       [ 1,  5, 16,  1, 42],\n",
       "       [ 1,  5, 16,  1, 43],\n",
       "       [ 1,  6, 10,  1, 10],\n",
       "       [ 1, 21,  2,  1, 46],\n",
       "       [ 1, 12,  2,  0, 10],\n",
       "       [ 1,  6, 24,  1, 42],\n",
       "       [ 1, 24,  6,  1, 27],\n",
       "       [ 1, 24,  6,  1, 23],\n",
       "       [ 1,  1,  8,  1, 31],\n",
       "       [ 1,  0, 14,  0, 22],\n",
       "       [ 1, 14, 12,  1, 37],\n",
       "       [ 1,  6, 10,  1, 13],\n",
       "       [ 1,  7,  2,  1, 24],\n",
       "       [ 1, 13, 14,  1, 38],\n",
       "       [ 1, 20,  1,  1, 42],\n",
       "       [ 1, 21,  2,  1, 28],\n",
       "       [ 1, 10,  0,  1, 51],\n",
       "       [ 1, 17,  4,  1, 19],\n",
       "       [ 1, 12,  0,  1, 31],\n",
       "       [ 0, 12,  2,  0, 13],\n",
       "       [ 1,  4,  1,  1, 37],\n",
       "       [ 1, 15,  7,  1, 36],\n",
       "       [ 1,  3, 15,  1, 21],\n",
       "       [ 1,  4,  1,  1, 48],\n",
       "       [ 1, 13, 14,  1, 38],\n",
       "       [ 0, 22,  2,  0, 25],\n",
       "       [ 0, 12,  2,  0, 17],\n",
       "       [ 1, 15, 18,  1, 11],\n",
       "       [ 1,  8,  1,  1, 39],\n",
       "       [ 1, 12,  2,  0, 11],\n",
       "       [ 1, 17, 20,  1, 19],\n",
       "       [ 0, 21,  2,  1, 45],\n",
       "       [ 1,  6, 10,  0, 20],\n",
       "       [ 1, 22,  2,  0, 20],\n",
       "       [ 0, 22,  2,  0, 20],\n",
       "       [ 0, 22,  2,  1, 38],\n",
       "       [ 1, 13, 21,  1, 17],\n",
       "       [ 0, 16, 16,  1, 19],\n",
       "       [ 1,  8,  4,  1, 24],\n",
       "       [ 1, 17, 24,  1, 25],\n",
       "       [ 0, 16, 16,  1, 31],\n",
       "       [ 1,  0, 14,  1, 31],\n",
       "       [ 1,  0,  7,  1, 18],\n",
       "       [ 0, 10, 15,  1, 22],\n",
       "       [ 0, 21, 12,  1, 27],\n",
       "       [ 1,  8,  1,  1, 14],\n",
       "       [ 1, 12,  0,  1, 20],\n",
       "       [ 0,  5, 16,  1, 35],\n",
       "       [ 1, 22,  2,  0, 20],\n",
       "       [ 0, 22,  2,  0, 20],\n",
       "       [ 1,  5, 16,  1, 37],\n",
       "       [ 0, 21,  2,  1, 15],\n",
       "       [ 1, 19,  1,  1, 25],\n",
       "       [ 1, 22,  2,  1, 10],\n",
       "       [ 1, 19,  1,  1, 14],\n",
       "       [ 0, 22,  2,  1, 38],\n",
       "       [ 1, 12,  0,  1, 29],\n",
       "       [ 1,  9,  2,  1, 19],\n",
       "       [ 1,  6, 10,  1, 30],\n",
       "       [ 0, 13, 14,  1, 32],\n",
       "       [ 1,  7,  2,  1, 27],\n",
       "       [ 1, 11,  6,  1, 34],\n",
       "       [ 1,  7,  6,  1, 23],\n",
       "       [ 1, 14,  0,  1, 66],\n",
       "       [ 1, 22,  2,  1, 12],\n",
       "       [ 1,  1,  8,  1, 29],\n",
       "       [ 1, 14,  0,  1, 19],\n",
       "       [ 1, 19,  1,  1,  3],\n",
       "       [ 1, 12, 13,  1, 17],\n",
       "       [ 1,  8,  5,  1,  7],\n",
       "       [ 0,  9,  2,  1, 21],\n",
       "       [ 1, 13, 14,  1, 36],\n",
       "       [ 0, 12,  0,  1, 54],\n",
       "       [ 0,  7,  2,  1, 29],\n",
       "       [ 1, 19,  1,  1, 45],\n",
       "       [ 1, 21,  0,  1, 11],\n",
       "       [ 1, 17, 11,  1, 16],\n",
       "       [ 1, 19, 14,  1, 18],\n",
       "       [ 0, 16, 17,  1, 44],\n",
       "       [ 1, 13, 22,  1, 17],\n",
       "       [ 1, 23, 25,  1, 21],\n",
       "       [ 1,  8, 23,  1, 20],\n",
       "       [ 1, 11,  7,  1, 24],\n",
       "       [ 1,  8,  5,  1,  5],\n",
       "       [ 1, 21,  0,  1, 42],\n",
       "       [ 1,  6, 10,  1, 30],\n",
       "       [ 1,  9,  2,  1, 19],\n",
       "       [ 1, 22,  2,  1, 11],\n",
       "       [ 1, 16, 17,  1, 29],\n",
       "       [ 1, 15, 19,  1, 15],\n",
       "       [ 1,  2,  1,  1, 37],\n",
       "       [ 1, 18,  3,  1, 10],\n",
       "       [ 1, 22,  2,  1, 24],\n",
       "       [ 1,  2,  1,  1, 26],\n",
       "       [ 1,  9,  2,  1, 12],\n",
       "       [ 0, 17,  6,  1, 48],\n",
       "       [ 1, 21,  0,  1, 51],\n",
       "       [ 1,  1,  9,  1, 27]], dtype=int64)"
      ]
     },
     "execution_count": 17,
     "metadata": {},
     "output_type": "execute_result"
    }
   ],
   "source": [
    "X"
   ]
  },
  {
   "cell_type": "code",
   "execution_count": 18,
   "metadata": {
    "collapsed": true
   },
   "outputs": [],
   "source": [
    "ohe_X = OneHotEncoder(categorical_features = [2])"
   ]
  },
  {
   "cell_type": "code",
   "execution_count": 19,
   "metadata": {},
   "outputs": [
    {
     "data": {
      "text/plain": [
       "(151, 29)"
      ]
     },
     "execution_count": 19,
     "metadata": {},
     "output_type": "execute_result"
    }
   ],
   "source": [
    "X = ohe_X.fit_transform(X).toarray()\n",
    "X = X[:, 1:]\n",
    "X.shape"
   ]
  },
  {
   "cell_type": "code",
   "execution_count": 20,
   "metadata": {
    "scrolled": true
   },
   "outputs": [
    {
     "data": {
      "text/html": [
       "<div>\n",
       "<style>\n",
       "    .dataframe thead tr:only-child th {\n",
       "        text-align: right;\n",
       "    }\n",
       "\n",
       "    .dataframe thead th {\n",
       "        text-align: left;\n",
       "    }\n",
       "\n",
       "    .dataframe tbody tr th {\n",
       "        vertical-align: top;\n",
       "    }\n",
       "</style>\n",
       "<table border=\"1\" class=\"dataframe\">\n",
       "  <thead>\n",
       "    <tr style=\"text-align: right;\">\n",
       "      <th></th>\n",
       "      <th>0</th>\n",
       "    </tr>\n",
       "  </thead>\n",
       "  <tbody>\n",
       "    <tr>\n",
       "      <th>22.0</th>\n",
       "      <td>17</td>\n",
       "    </tr>\n",
       "    <tr>\n",
       "      <th>12.0</th>\n",
       "      <td>14</td>\n",
       "    </tr>\n",
       "    <tr>\n",
       "      <th>21.0</th>\n",
       "      <td>12</td>\n",
       "    </tr>\n",
       "    <tr>\n",
       "      <th>6.0</th>\n",
       "      <td>11</td>\n",
       "    </tr>\n",
       "    <tr>\n",
       "      <th>14.0</th>\n",
       "      <td>8</td>\n",
       "    </tr>\n",
       "    <tr>\n",
       "      <th>8.0</th>\n",
       "      <td>8</td>\n",
       "    </tr>\n",
       "    <tr>\n",
       "      <th>9.0</th>\n",
       "      <td>8</td>\n",
       "    </tr>\n",
       "    <tr>\n",
       "      <th>13.0</th>\n",
       "      <td>8</td>\n",
       "    </tr>\n",
       "    <tr>\n",
       "      <th>17.0</th>\n",
       "      <td>8</td>\n",
       "    </tr>\n",
       "    <tr>\n",
       "      <th>5.0</th>\n",
       "      <td>8</td>\n",
       "    </tr>\n",
       "    <tr>\n",
       "      <th>4.0</th>\n",
       "      <td>6</td>\n",
       "    </tr>\n",
       "    <tr>\n",
       "      <th>19.0</th>\n",
       "      <td>5</td>\n",
       "    </tr>\n",
       "    <tr>\n",
       "      <th>7.0</th>\n",
       "      <td>5</td>\n",
       "    </tr>\n",
       "    <tr>\n",
       "      <th>24.0</th>\n",
       "      <td>4</td>\n",
       "    </tr>\n",
       "    <tr>\n",
       "      <th>0.0</th>\n",
       "      <td>4</td>\n",
       "    </tr>\n",
       "    <tr>\n",
       "      <th>1.0</th>\n",
       "      <td>4</td>\n",
       "    </tr>\n",
       "    <tr>\n",
       "      <th>15.0</th>\n",
       "      <td>4</td>\n",
       "    </tr>\n",
       "    <tr>\n",
       "      <th>16.0</th>\n",
       "      <td>4</td>\n",
       "    </tr>\n",
       "    <tr>\n",
       "      <th>10.0</th>\n",
       "      <td>3</td>\n",
       "    </tr>\n",
       "    <tr>\n",
       "      <th>2.0</th>\n",
       "      <td>2</td>\n",
       "    </tr>\n",
       "    <tr>\n",
       "      <th>20.0</th>\n",
       "      <td>2</td>\n",
       "    </tr>\n",
       "    <tr>\n",
       "      <th>3.0</th>\n",
       "      <td>2</td>\n",
       "    </tr>\n",
       "    <tr>\n",
       "      <th>11.0</th>\n",
       "      <td>2</td>\n",
       "    </tr>\n",
       "    <tr>\n",
       "      <th>23.0</th>\n",
       "      <td>1</td>\n",
       "    </tr>\n",
       "    <tr>\n",
       "      <th>18.0</th>\n",
       "      <td>1</td>\n",
       "    </tr>\n",
       "  </tbody>\n",
       "</table>\n",
       "</div>"
      ],
      "text/plain": [
       "       0\n",
       "22.0  17\n",
       "12.0  14\n",
       "21.0  12\n",
       "6.0   11\n",
       "14.0   8\n",
       "8.0    8\n",
       "9.0    8\n",
       "13.0   8\n",
       "17.0   8\n",
       "5.0    8\n",
       "4.0    6\n",
       "19.0   5\n",
       "7.0    5\n",
       "24.0   4\n",
       "0.0    4\n",
       "1.0    4\n",
       "15.0   4\n",
       "16.0   4\n",
       "10.0   3\n",
       "2.0    2\n",
       "20.0   2\n",
       "3.0    2\n",
       "11.0   2\n",
       "23.0   1\n",
       "18.0   1"
      ]
     },
     "execution_count": 20,
     "metadata": {},
     "output_type": "execute_result"
    }
   ],
   "source": [
    "pd.DataFrame(pd.DataFrame(X[:, 26])[0].value_counts())"
   ]
  },
  {
   "cell_type": "code",
   "execution_count": 21,
   "metadata": {
    "collapsed": true
   },
   "outputs": [],
   "source": [
    "ohe_X = OneHotEncoder(categorical_features = [26])"
   ]
  },
  {
   "cell_type": "code",
   "execution_count": 22,
   "metadata": {},
   "outputs": [
    {
     "data": {
      "text/plain": [
       "(151, 52)"
      ]
     },
     "execution_count": 22,
     "metadata": {},
     "output_type": "execute_result"
    }
   ],
   "source": [
    "X = ohe_X.fit_transform(X).toarray()\n",
    "X = X[:, 1:]\n",
    "X.shape"
   ]
  },
  {
   "cell_type": "code",
   "execution_count": 59,
   "metadata": {
    "collapsed": true
   },
   "outputs": [],
   "source": [
    "sc_X = StandardScaler()"
   ]
  },
  {
   "cell_type": "code",
   "execution_count": 60,
   "metadata": {},
   "outputs": [
    {
     "data": {
      "text/plain": [
       "array([[-0.16495722, -0.11585689, -0.11585689, ..., -2.05107205,\n",
       "        -2.3590713 , -0.69002837],\n",
       "       [-0.16495722, -0.11585689, -0.11585689, ...,  0.48754991,\n",
       "        -2.3590713 , -0.84565836],\n",
       "       [-0.16495722, -0.11585689, -0.11585689, ..., -2.05107205,\n",
       "         0.42389562,  1.6444216 ],\n",
       "       ..., \n",
       "       [-0.16495722, -0.11585689, -0.11585689, ..., -2.05107205,\n",
       "         0.42389562,  1.5666066 ],\n",
       "       [-0.16495722, -0.11585689, -0.11585689, ...,  0.48754991,\n",
       "         0.42389562,  1.80005159],\n",
       "       [ 6.06217783, -0.11585689, -0.11585689, ...,  0.48754991,\n",
       "         0.42389562, -0.06750838]])"
      ]
     },
     "execution_count": 60,
     "metadata": {},
     "output_type": "execute_result"
    }
   ],
   "source": [
    "X = sc_X.fit_transform(X)\n",
    "X"
   ]
  },
  {
   "cell_type": "markdown",
   "metadata": {},
   "source": [
    "## Create Train and Test data"
   ]
  },
  {
   "cell_type": "code",
   "execution_count": 61,
   "metadata": {
    "collapsed": true
   },
   "outputs": [],
   "source": [
    "X_train, X_test, Y_train, Y_test = train_test_split(X, Y, test_size = 0.2, random_state = 0)"
   ]
  },
  {
   "cell_type": "code",
   "execution_count": 62,
   "metadata": {},
   "outputs": [
    {
     "data": {
      "text/plain": [
       "(120, 52)"
      ]
     },
     "execution_count": 62,
     "metadata": {},
     "output_type": "execute_result"
    }
   ],
   "source": [
    "X_train.shape"
   ]
  },
  {
   "cell_type": "code",
   "execution_count": 63,
   "metadata": {},
   "outputs": [
    {
     "data": {
      "text/plain": [
       "(31, 52)"
      ]
     },
     "execution_count": 63,
     "metadata": {},
     "output_type": "execute_result"
    }
   ],
   "source": [
    "X_test.shape"
   ]
  },
  {
   "cell_type": "code",
   "execution_count": 64,
   "metadata": {},
   "outputs": [
    {
     "data": {
      "text/plain": [
       "(120,)"
      ]
     },
     "execution_count": 64,
     "metadata": {},
     "output_type": "execute_result"
    }
   ],
   "source": [
    "Y_train.shape"
   ]
  },
  {
   "cell_type": "code",
   "execution_count": 65,
   "metadata": {},
   "outputs": [
    {
     "data": {
      "text/plain": [
       "(31,)"
      ]
     },
     "execution_count": 65,
     "metadata": {},
     "output_type": "execute_result"
    }
   ],
   "source": [
    "Y_test.shape"
   ]
  },
  {
   "cell_type": "code",
   "execution_count": 66,
   "metadata": {},
   "outputs": [
    {
     "data": {
      "text/html": [
       "<div>\n",
       "<style>\n",
       "    .dataframe thead tr:only-child th {\n",
       "        text-align: right;\n",
       "    }\n",
       "\n",
       "    .dataframe thead th {\n",
       "        text-align: left;\n",
       "    }\n",
       "\n",
       "    .dataframe tbody tr th {\n",
       "        vertical-align: top;\n",
       "    }\n",
       "</style>\n",
       "<table border=\"1\" class=\"dataframe\">\n",
       "  <thead>\n",
       "    <tr style=\"text-align: right;\">\n",
       "      <th></th>\n",
       "      <th>0</th>\n",
       "    </tr>\n",
       "  </thead>\n",
       "  <tbody>\n",
       "    <tr>\n",
       "      <th>0</th>\n",
       "      <td>42</td>\n",
       "    </tr>\n",
       "    <tr>\n",
       "      <th>2</th>\n",
       "      <td>40</td>\n",
       "    </tr>\n",
       "    <tr>\n",
       "      <th>1</th>\n",
       "      <td>38</td>\n",
       "    </tr>\n",
       "  </tbody>\n",
       "</table>\n",
       "</div>"
      ],
      "text/plain": [
       "    0\n",
       "0  42\n",
       "2  40\n",
       "1  38"
      ]
     },
     "execution_count": 66,
     "metadata": {},
     "output_type": "execute_result"
    }
   ],
   "source": [
    "pd.DataFrame(pd.DataFrame(Y_train)[0].value_counts())"
   ]
  },
  {
   "cell_type": "code",
   "execution_count": 67,
   "metadata": {},
   "outputs": [
    {
     "data": {
      "text/html": [
       "<div>\n",
       "<style>\n",
       "    .dataframe thead tr:only-child th {\n",
       "        text-align: right;\n",
       "    }\n",
       "\n",
       "    .dataframe thead th {\n",
       "        text-align: left;\n",
       "    }\n",
       "\n",
       "    .dataframe tbody tr th {\n",
       "        vertical-align: top;\n",
       "    }\n",
       "</style>\n",
       "<table border=\"1\" class=\"dataframe\">\n",
       "  <thead>\n",
       "    <tr style=\"text-align: right;\">\n",
       "      <th></th>\n",
       "      <th>0</th>\n",
       "    </tr>\n",
       "  </thead>\n",
       "  <tbody>\n",
       "    <tr>\n",
       "      <th>2</th>\n",
       "      <td>12</td>\n",
       "    </tr>\n",
       "    <tr>\n",
       "      <th>1</th>\n",
       "      <td>12</td>\n",
       "    </tr>\n",
       "    <tr>\n",
       "      <th>0</th>\n",
       "      <td>7</td>\n",
       "    </tr>\n",
       "  </tbody>\n",
       "</table>\n",
       "</div>"
      ],
      "text/plain": [
       "    0\n",
       "2  12\n",
       "1  12\n",
       "0   7"
      ]
     },
     "execution_count": 67,
     "metadata": {},
     "output_type": "execute_result"
    }
   ],
   "source": [
    "pd.DataFrame(pd.DataFrame(Y_test)[0].value_counts())"
   ]
  },
  {
   "cell_type": "markdown",
   "metadata": {},
   "source": [
    "## Decision Tree Classifier"
   ]
  },
  {
   "cell_type": "code",
   "execution_count": 68,
   "metadata": {},
   "outputs": [],
   "source": [
    "clf_dt = DecisionTreeClassifier(criterion = 'entropy')"
   ]
  },
  {
   "cell_type": "code",
   "execution_count": 69,
   "metadata": {},
   "outputs": [
    {
     "data": {
      "text/plain": [
       "DecisionTreeClassifier(class_weight=None, criterion='entropy', max_depth=None,\n",
       "            max_features=None, max_leaf_nodes=None,\n",
       "            min_impurity_decrease=0.0, min_impurity_split=None,\n",
       "            min_samples_leaf=1, min_samples_split=2,\n",
       "            min_weight_fraction_leaf=0.0, presort=False, random_state=None,\n",
       "            splitter='best')"
      ]
     },
     "execution_count": 69,
     "metadata": {},
     "output_type": "execute_result"
    }
   ],
   "source": [
    "clf_dt.fit(X_train, Y_train)"
   ]
  },
  {
   "cell_type": "code",
   "execution_count": 70,
   "metadata": {
    "collapsed": true
   },
   "outputs": [],
   "source": [
    "Y_pred_dt = clf_dt.predict(X_test)"
   ]
  },
  {
   "cell_type": "code",
   "execution_count": 71,
   "metadata": {},
   "outputs": [
    {
     "data": {
      "text/plain": [
       "array([[5, 5, 3],\n",
       "       [1, 6, 5],\n",
       "       [1, 1, 4]], dtype=int64)"
      ]
     },
     "execution_count": 71,
     "metadata": {},
     "output_type": "execute_result"
    }
   ],
   "source": [
    "cm_dt = confusion_matrix(Y_pred_dt, Y_test)\n",
    "cm_dt"
   ]
  },
  {
   "cell_type": "markdown",
   "metadata": {},
   "source": [
    "## Random Forest Classifier"
   ]
  },
  {
   "cell_type": "code",
   "execution_count": 72,
   "metadata": {},
   "outputs": [],
   "source": [
    "clf_rf = RandomForestClassifier(n_estimators = 10, criterion = 'entropy')"
   ]
  },
  {
   "cell_type": "code",
   "execution_count": 73,
   "metadata": {},
   "outputs": [
    {
     "data": {
      "text/plain": [
       "RandomForestClassifier(bootstrap=True, class_weight=None, criterion='entropy',\n",
       "            max_depth=None, max_features='auto', max_leaf_nodes=None,\n",
       "            min_impurity_decrease=0.0, min_impurity_split=None,\n",
       "            min_samples_leaf=1, min_samples_split=2,\n",
       "            min_weight_fraction_leaf=0.0, n_estimators=10, n_jobs=1,\n",
       "            oob_score=False, random_state=None, verbose=0,\n",
       "            warm_start=False)"
      ]
     },
     "execution_count": 73,
     "metadata": {},
     "output_type": "execute_result"
    }
   ],
   "source": [
    "clf_rf.fit(X_train, Y_train)"
   ]
  },
  {
   "cell_type": "code",
   "execution_count": 74,
   "metadata": {},
   "outputs": [],
   "source": [
    "Y_pred_rf = clf_rf.predict(X_test)"
   ]
  },
  {
   "cell_type": "code",
   "execution_count": 75,
   "metadata": {},
   "outputs": [
    {
     "data": {
      "text/plain": [
       "array([[7, 4, 0],\n",
       "       [0, 7, 4],\n",
       "       [0, 1, 8]], dtype=int64)"
      ]
     },
     "execution_count": 75,
     "metadata": {},
     "output_type": "execute_result"
    }
   ],
   "source": [
    "cm_rf = confusion_matrix(Y_pred_rf, Y_test)\n",
    "cm_rf"
   ]
  },
  {
   "cell_type": "markdown",
   "metadata": {},
   "source": [
    "## Naive Bayes Classifier"
   ]
  },
  {
   "cell_type": "code",
   "execution_count": 76,
   "metadata": {},
   "outputs": [],
   "source": [
    "clf_nb = GaussianNB()"
   ]
  },
  {
   "cell_type": "code",
   "execution_count": 77,
   "metadata": {},
   "outputs": [
    {
     "data": {
      "text/plain": [
       "GaussianNB(priors=None)"
      ]
     },
     "execution_count": 77,
     "metadata": {},
     "output_type": "execute_result"
    }
   ],
   "source": [
    "clf_nb.fit(X_train, Y_train)"
   ]
  },
  {
   "cell_type": "code",
   "execution_count": 78,
   "metadata": {},
   "outputs": [],
   "source": [
    "Y_pred_nb = clf_nb.predict(X_test)"
   ]
  },
  {
   "cell_type": "code",
   "execution_count": 79,
   "metadata": {},
   "outputs": [
    {
     "data": {
      "text/plain": [
       "array([[ 0,  0,  0],\n",
       "       [ 1,  2,  3],\n",
       "       [ 6, 10,  9]], dtype=int64)"
      ]
     },
     "execution_count": 79,
     "metadata": {},
     "output_type": "execute_result"
    }
   ],
   "source": [
    "cm_nb = confusion_matrix(Y_pred_nb, Y_test)\n",
    "cm_nb"
   ]
  },
  {
   "cell_type": "markdown",
   "metadata": {},
   "source": [
    "## KNN Classifier"
   ]
  },
  {
   "cell_type": "code",
   "execution_count": 80,
   "metadata": {
    "collapsed": true
   },
   "outputs": [],
   "source": [
    "clf_knn = KNeighborsClassifier(n_neighbors = 5)"
   ]
  },
  {
   "cell_type": "code",
   "execution_count": 81,
   "metadata": {},
   "outputs": [
    {
     "data": {
      "text/plain": [
       "KNeighborsClassifier(algorithm='auto', leaf_size=30, metric='minkowski',\n",
       "           metric_params=None, n_jobs=1, n_neighbors=5, p=2,\n",
       "           weights='uniform')"
      ]
     },
     "execution_count": 81,
     "metadata": {},
     "output_type": "execute_result"
    }
   ],
   "source": [
    "clf_knn.fit(X_train, Y_train)"
   ]
  },
  {
   "cell_type": "code",
   "execution_count": 82,
   "metadata": {
    "collapsed": true
   },
   "outputs": [],
   "source": [
    "Y_pred_knn = clf_knn.predict(X_test)"
   ]
  },
  {
   "cell_type": "code",
   "execution_count": 83,
   "metadata": {},
   "outputs": [
    {
     "data": {
      "text/plain": [
       "array([[2, 3, 4],\n",
       "       [2, 6, 3],\n",
       "       [3, 3, 5]], dtype=int64)"
      ]
     },
     "execution_count": 83,
     "metadata": {},
     "output_type": "execute_result"
    }
   ],
   "source": [
    "cm_knn = confusion_matrix(Y_pred_knn, Y_test)\n",
    "cm_knn"
   ]
  },
  {
   "cell_type": "markdown",
   "metadata": {
    "collapsed": true
   },
   "source": [
    "## Logistic Regression"
   ]
  },
  {
   "cell_type": "code",
   "execution_count": 84,
   "metadata": {
    "collapsed": true
   },
   "outputs": [],
   "source": [
    "clf_lr = LogisticRegression()"
   ]
  },
  {
   "cell_type": "code",
   "execution_count": 85,
   "metadata": {},
   "outputs": [
    {
     "data": {
      "text/plain": [
       "LogisticRegression(C=1.0, class_weight=None, dual=False, fit_intercept=True,\n",
       "          intercept_scaling=1, max_iter=100, multi_class='ovr', n_jobs=1,\n",
       "          penalty='l2', random_state=None, solver='liblinear', tol=0.0001,\n",
       "          verbose=0, warm_start=False)"
      ]
     },
     "execution_count": 85,
     "metadata": {},
     "output_type": "execute_result"
    }
   ],
   "source": [
    "clf_lr.fit(X_train, Y_train)"
   ]
  },
  {
   "cell_type": "code",
   "execution_count": 86,
   "metadata": {
    "collapsed": true
   },
   "outputs": [],
   "source": [
    "Y_pred_lr = clf_lr.predict(X_test)"
   ]
  },
  {
   "cell_type": "code",
   "execution_count": 87,
   "metadata": {},
   "outputs": [
    {
     "data": {
      "text/plain": [
       "array([[3, 6, 2],\n",
       "       [1, 6, 3],\n",
       "       [3, 0, 7]], dtype=int64)"
      ]
     },
     "execution_count": 87,
     "metadata": {},
     "output_type": "execute_result"
    }
   ],
   "source": [
    "cm_lr = confusion_matrix(Y_pred_lr, Y_test)\n",
    "cm_lr"
   ]
  },
  {
   "cell_type": "markdown",
   "metadata": {},
   "source": [
    "## SVC Linear"
   ]
  },
  {
   "cell_type": "code",
   "execution_count": 88,
   "metadata": {
    "collapsed": true
   },
   "outputs": [],
   "source": [
    "clf_lsvc = SVC(kernel = \"linear\")"
   ]
  },
  {
   "cell_type": "code",
   "execution_count": 89,
   "metadata": {},
   "outputs": [
    {
     "data": {
      "text/plain": [
       "SVC(C=1.0, cache_size=200, class_weight=None, coef0=0.0,\n",
       "  decision_function_shape='ovr', degree=3, gamma='auto', kernel='linear',\n",
       "  max_iter=-1, probability=False, random_state=None, shrinking=True,\n",
       "  tol=0.001, verbose=False)"
      ]
     },
     "execution_count": 89,
     "metadata": {},
     "output_type": "execute_result"
    }
   ],
   "source": [
    "clf_lsvc.fit(X_train, Y_train)"
   ]
  },
  {
   "cell_type": "code",
   "execution_count": 90,
   "metadata": {
    "collapsed": true
   },
   "outputs": [],
   "source": [
    "Y_pred_lsvc = clf_lsvc.predict(X_test)"
   ]
  },
  {
   "cell_type": "code",
   "execution_count": 91,
   "metadata": {},
   "outputs": [
    {
     "data": {
      "text/plain": [
       "array([[2, 5, 2],\n",
       "       [1, 6, 4],\n",
       "       [4, 1, 6]], dtype=int64)"
      ]
     },
     "execution_count": 91,
     "metadata": {},
     "output_type": "execute_result"
    }
   ],
   "source": [
    "cm_lsvc = confusion_matrix(Y_pred_lsvc, Y_test)\n",
    "cm_lsvc"
   ]
  },
  {
   "cell_type": "markdown",
   "metadata": {},
   "source": [
    "## SVC Kernel"
   ]
  },
  {
   "cell_type": "code",
   "execution_count": 92,
   "metadata": {
    "collapsed": true
   },
   "outputs": [],
   "source": [
    "clf_ksvc = SVC(kernel = \"rbf\")"
   ]
  },
  {
   "cell_type": "code",
   "execution_count": 93,
   "metadata": {},
   "outputs": [
    {
     "data": {
      "text/plain": [
       "SVC(C=1.0, cache_size=200, class_weight=None, coef0=0.0,\n",
       "  decision_function_shape='ovr', degree=3, gamma='auto', kernel='rbf',\n",
       "  max_iter=-1, probability=False, random_state=None, shrinking=True,\n",
       "  tol=0.001, verbose=False)"
      ]
     },
     "execution_count": 93,
     "metadata": {},
     "output_type": "execute_result"
    }
   ],
   "source": [
    "clf_ksvc.fit(X_train, Y_train)"
   ]
  },
  {
   "cell_type": "code",
   "execution_count": 94,
   "metadata": {
    "collapsed": true
   },
   "outputs": [],
   "source": [
    "Y_pred_ksvc = clf_ksvc.predict(X_test)"
   ]
  },
  {
   "cell_type": "code",
   "execution_count": 95,
   "metadata": {},
   "outputs": [
    {
     "data": {
      "text/plain": [
       "array([[0, 7, 3],\n",
       "       [2, 5, 2],\n",
       "       [5, 0, 7]], dtype=int64)"
      ]
     },
     "execution_count": 95,
     "metadata": {},
     "output_type": "execute_result"
    }
   ],
   "source": [
    "cm_ksvc = confusion_matrix(Y_pred_ksvc, Y_test)\n",
    "cm_ksvc"
   ]
  },
  {
   "cell_type": "markdown",
   "metadata": {},
   "source": [
    "## Accuracy of Various Classifiers"
   ]
  },
  {
   "cell_type": "code",
   "execution_count": 96,
   "metadata": {},
   "outputs": [
    {
     "data": {
      "text/plain": [
       "{'DT': 0.4838709677419355,\n",
       " 'KNN': 0.41935483870967744,\n",
       " 'KernelSVC': 0.38709677419354838,\n",
       " 'LinearSVC': 0.45161290322580644,\n",
       " 'LogReg': 0.5161290322580645,\n",
       " 'NB': 0.35483870967741937,\n",
       " 'RF': 0.70967741935483875}"
      ]
     },
     "execution_count": 96,
     "metadata": {},
     "output_type": "execute_result"
    }
   ],
   "source": [
    "model_accuracies['DT'] = accuracy_score(Y_pred_dt, Y_test)\n",
    "model_accuracies['KNN'] = accuracy_score(Y_pred_knn, Y_test)\n",
    "model_accuracies['KernelSVC'] = accuracy_score(Y_pred_ksvc, Y_test)\n",
    "model_accuracies['LinearSVC'] = accuracy_score(Y_pred_lsvc, Y_test)\n",
    "model_accuracies['LogReg'] = accuracy_score(Y_pred_lr, Y_test)\n",
    "model_accuracies['NB'] = accuracy_score(Y_pred_nb, Y_test)\n",
    "model_accuracies['RF'] = accuracy_score(Y_pred_rf, Y_test)\n",
    "model_accuracies"
   ]
  },
  {
   "cell_type": "code",
   "execution_count": null,
   "metadata": {
    "collapsed": true
   },
   "outputs": [],
   "source": []
  },
  {
   "cell_type": "code",
   "execution_count": null,
   "metadata": {
    "collapsed": true
   },
   "outputs": [],
   "source": []
  }
 ],
 "metadata": {
  "kernelspec": {
   "display_name": "Python [default]",
   "language": "python",
   "name": "python3"
  },
  "language_info": {
   "codemirror_mode": {
    "name": "ipython",
    "version": 3
   },
   "file_extension": ".py",
   "mimetype": "text/x-python",
   "name": "python",
   "nbconvert_exporter": "python",
   "pygments_lexer": "ipython3",
   "version": "3.5.4"
  }
 },
 "nbformat": 4,
 "nbformat_minor": 2
}
