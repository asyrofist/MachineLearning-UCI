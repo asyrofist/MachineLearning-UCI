{
 "cells": [
  {
   "cell_type": "markdown",
   "metadata": {},
   "source": [
    "## Initialization"
   ]
  },
  {
   "cell_type": "code",
   "execution_count": 1,
   "metadata": {},
   "outputs": [
    {
     "name": "stderr",
     "output_type": "stream",
     "text": [
      "Using Theano backend.\n"
     ]
    }
   ],
   "source": [
    "import pandas as pd\n",
    "import numpy as np\n",
    "import keras"
   ]
  },
  {
   "cell_type": "markdown",
   "metadata": {},
   "source": [
    "## Importing the Data"
   ]
  },
  {
   "cell_type": "code",
   "execution_count": 2,
   "metadata": {},
   "outputs": [
    {
     "data": {
      "text/plain": [
       "(151, 6)"
      ]
     },
     "execution_count": 2,
     "metadata": {},
     "output_type": "execute_result"
    }
   ],
   "source": [
    "dataset = pd.read_csv('tae.data', header = None)\n",
    "dataset.shape"
   ]
  },
  {
   "cell_type": "code",
   "execution_count": 3,
   "metadata": {},
   "outputs": [
    {
     "data": {
      "text/html": [
       "<div>\n",
       "<style>\n",
       "    .dataframe thead tr:only-child th {\n",
       "        text-align: right;\n",
       "    }\n",
       "\n",
       "    .dataframe thead th {\n",
       "        text-align: left;\n",
       "    }\n",
       "\n",
       "    .dataframe tbody tr th {\n",
       "        vertical-align: top;\n",
       "    }\n",
       "</style>\n",
       "<table border=\"1\" class=\"dataframe\">\n",
       "  <thead>\n",
       "    <tr style=\"text-align: right;\">\n",
       "      <th></th>\n",
       "      <th>0</th>\n",
       "      <th>1</th>\n",
       "      <th>2</th>\n",
       "      <th>3</th>\n",
       "      <th>4</th>\n",
       "      <th>5</th>\n",
       "    </tr>\n",
       "  </thead>\n",
       "  <tbody>\n",
       "    <tr>\n",
       "      <th>0</th>\n",
       "      <td>1</td>\n",
       "      <td>23</td>\n",
       "      <td>3</td>\n",
       "      <td>1</td>\n",
       "      <td>19</td>\n",
       "      <td>3</td>\n",
       "    </tr>\n",
       "    <tr>\n",
       "      <th>1</th>\n",
       "      <td>2</td>\n",
       "      <td>15</td>\n",
       "      <td>3</td>\n",
       "      <td>1</td>\n",
       "      <td>17</td>\n",
       "      <td>3</td>\n",
       "    </tr>\n",
       "    <tr>\n",
       "      <th>2</th>\n",
       "      <td>1</td>\n",
       "      <td>23</td>\n",
       "      <td>3</td>\n",
       "      <td>2</td>\n",
       "      <td>49</td>\n",
       "      <td>3</td>\n",
       "    </tr>\n",
       "    <tr>\n",
       "      <th>3</th>\n",
       "      <td>1</td>\n",
       "      <td>5</td>\n",
       "      <td>2</td>\n",
       "      <td>2</td>\n",
       "      <td>33</td>\n",
       "      <td>3</td>\n",
       "    </tr>\n",
       "    <tr>\n",
       "      <th>4</th>\n",
       "      <td>2</td>\n",
       "      <td>7</td>\n",
       "      <td>11</td>\n",
       "      <td>2</td>\n",
       "      <td>55</td>\n",
       "      <td>3</td>\n",
       "    </tr>\n",
       "  </tbody>\n",
       "</table>\n",
       "</div>"
      ],
      "text/plain": [
       "   0   1   2  3   4  5\n",
       "0  1  23   3  1  19  3\n",
       "1  2  15   3  1  17  3\n",
       "2  1  23   3  2  49  3\n",
       "3  1   5   2  2  33  3\n",
       "4  2   7  11  2  55  3"
      ]
     },
     "execution_count": 3,
     "metadata": {},
     "output_type": "execute_result"
    }
   ],
   "source": [
    "dataset.head()"
   ]
  },
  {
   "cell_type": "markdown",
   "metadata": {},
   "source": [
    "## Create X and Y"
   ]
  },
  {
   "cell_type": "code",
   "execution_count": 4,
   "metadata": {
    "collapsed": true
   },
   "outputs": [],
   "source": [
    "X = dataset.iloc[:, 0:5].values\n",
    "Y = dataset.iloc[:, 5].values"
   ]
  },
  {
   "cell_type": "code",
   "execution_count": 5,
   "metadata": {},
   "outputs": [
    {
     "data": {
      "text/plain": [
       "(151, 5)"
      ]
     },
     "execution_count": 5,
     "metadata": {},
     "output_type": "execute_result"
    }
   ],
   "source": [
    "X.shape"
   ]
  },
  {
   "cell_type": "code",
   "execution_count": 6,
   "metadata": {},
   "outputs": [
    {
     "data": {
      "text/plain": [
       "(151,)"
      ]
     },
     "execution_count": 6,
     "metadata": {},
     "output_type": "execute_result"
    }
   ],
   "source": [
    "Y.shape"
   ]
  },
  {
   "cell_type": "code",
   "execution_count": 7,
   "metadata": {},
   "outputs": [
    {
     "data": {
      "text/plain": [
       "array([ 1, 23,  3,  1, 19], dtype=int64)"
      ]
     },
     "execution_count": 7,
     "metadata": {},
     "output_type": "execute_result"
    }
   ],
   "source": [
    "X[0]"
   ]
  },
  {
   "cell_type": "code",
   "execution_count": 8,
   "metadata": {},
   "outputs": [
    {
     "data": {
      "text/plain": [
       "3"
      ]
     },
     "execution_count": 8,
     "metadata": {},
     "output_type": "execute_result"
    }
   ],
   "source": [
    "Y[0]"
   ]
  },
  {
   "cell_type": "markdown",
   "metadata": {},
   "source": [
    "## Preprocess the Data"
   ]
  },
  {
   "cell_type": "code",
   "execution_count": 9,
   "metadata": {
    "collapsed": true
   },
   "outputs": [],
   "source": [
    "from sklearn.preprocessing import LabelEncoder, OneHotEncoder, StandardScaler"
   ]
  },
  {
   "cell_type": "code",
   "execution_count": 10,
   "metadata": {
    "collapsed": true
   },
   "outputs": [],
   "source": [
    "le_Y = LabelEncoder()"
   ]
  },
  {
   "cell_type": "code",
   "execution_count": 11,
   "metadata": {},
   "outputs": [
    {
     "data": {
      "text/plain": [
       "2"
      ]
     },
     "execution_count": 11,
     "metadata": {},
     "output_type": "execute_result"
    }
   ],
   "source": [
    "Y = le_Y.fit_transform(Y)\n",
    "Y[0]"
   ]
  },
  {
   "cell_type": "code",
   "execution_count": 12,
   "metadata": {
    "collapsed": true
   },
   "outputs": [],
   "source": [
    "def encoder_X(index):\n",
    "    le_X = LabelEncoder()\n",
    "    X[:, index] = le_X.fit_transform(X[:, index])"
   ]
  },
  {
   "cell_type": "code",
   "execution_count": 13,
   "metadata": {
    "collapsed": true
   },
   "outputs": [],
   "source": [
    "for x in range(0, X.shape[1] - 1):\n",
    "    encoder_X(x)"
   ]
  },
  {
   "cell_type": "code",
   "execution_count": 14,
   "metadata": {},
   "outputs": [
    {
     "data": {
      "text/plain": [
       "array([ 0, 22,  2,  0, 19], dtype=int64)"
      ]
     },
     "execution_count": 14,
     "metadata": {},
     "output_type": "execute_result"
    }
   ],
   "source": [
    "X[0]"
   ]
  },
  {
   "cell_type": "code",
   "execution_count": 15,
   "metadata": {
    "collapsed": true
   },
   "outputs": [],
   "source": [
    "ohe_X = OneHotEncoder(categorical_features = [2])"
   ]
  },
  {
   "cell_type": "code",
   "execution_count": 16,
   "metadata": {},
   "outputs": [
    {
     "data": {
      "text/plain": [
       "(151, 29)"
      ]
     },
     "execution_count": 16,
     "metadata": {},
     "output_type": "execute_result"
    }
   ],
   "source": [
    "X = ohe_X.fit_transform(X).toarray()\n",
    "X = X[:, 1:]\n",
    "X.shape"
   ]
  },
  {
   "cell_type": "code",
   "execution_count": 17,
   "metadata": {
    "collapsed": true
   },
   "outputs": [],
   "source": [
    "ohe_X = OneHotEncoder(categorical_features = [26])"
   ]
  },
  {
   "cell_type": "code",
   "execution_count": 18,
   "metadata": {},
   "outputs": [
    {
     "data": {
      "text/plain": [
       "(151, 52)"
      ]
     },
     "execution_count": 18,
     "metadata": {},
     "output_type": "execute_result"
    }
   ],
   "source": [
    "X = ohe_X.fit_transform(X).toarray()\n",
    "X = X[:, 1:]\n",
    "X.shape"
   ]
  },
  {
   "cell_type": "code",
   "execution_count": 19,
   "metadata": {
    "collapsed": true
   },
   "outputs": [],
   "source": [
    "sc_X = StandardScaler()"
   ]
  },
  {
   "cell_type": "code",
   "execution_count": 20,
   "metadata": {},
   "outputs": [
    {
     "data": {
      "text/plain": [
       "array([[-0.16495722, -0.11585689, -0.11585689, ..., -2.05107205,\n",
       "        -2.3590713 , -0.69002837],\n",
       "       [-0.16495722, -0.11585689, -0.11585689, ...,  0.48754991,\n",
       "        -2.3590713 , -0.84565836],\n",
       "       [-0.16495722, -0.11585689, -0.11585689, ..., -2.05107205,\n",
       "         0.42389562,  1.6444216 ],\n",
       "       ..., \n",
       "       [-0.16495722, -0.11585689, -0.11585689, ..., -2.05107205,\n",
       "         0.42389562,  1.5666066 ],\n",
       "       [-0.16495722, -0.11585689, -0.11585689, ...,  0.48754991,\n",
       "         0.42389562,  1.80005159],\n",
       "       [ 6.06217783, -0.11585689, -0.11585689, ...,  0.48754991,\n",
       "         0.42389562, -0.06750838]])"
      ]
     },
     "execution_count": 20,
     "metadata": {},
     "output_type": "execute_result"
    }
   ],
   "source": [
    "X = sc_X.fit_transform(X)\n",
    "X"
   ]
  },
  {
   "cell_type": "code",
   "execution_count": 21,
   "metadata": {
    "collapsed": true
   },
   "outputs": [],
   "source": [
    "Y = Y.reshape(len(Y), 1)\n",
    "ohe_Y = OneHotEncoder(categorical_features = [0])"
   ]
  },
  {
   "cell_type": "code",
   "execution_count": 22,
   "metadata": {},
   "outputs": [
    {
     "data": {
      "text/plain": [
       "array([ 0.,  0.,  1.])"
      ]
     },
     "execution_count": 22,
     "metadata": {},
     "output_type": "execute_result"
    }
   ],
   "source": [
    "Y = ohe_Y.fit_transform(Y).toarray()\n",
    "Y[0]"
   ]
  },
  {
   "cell_type": "markdown",
   "metadata": {},
   "source": [
    "## Create Train and Test Data"
   ]
  },
  {
   "cell_type": "code",
   "execution_count": 23,
   "metadata": {
    "collapsed": true
   },
   "outputs": [],
   "source": [
    "from sklearn.model_selection import train_test_split"
   ]
  },
  {
   "cell_type": "code",
   "execution_count": 24,
   "metadata": {
    "collapsed": true
   },
   "outputs": [],
   "source": [
    "X_train, X_test, Y_train, Y_test = train_test_split(X, Y, test_size = 0.2, random_state = 4)"
   ]
  },
  {
   "cell_type": "code",
   "execution_count": 25,
   "metadata": {},
   "outputs": [
    {
     "data": {
      "text/plain": [
       "(120, 52)"
      ]
     },
     "execution_count": 25,
     "metadata": {},
     "output_type": "execute_result"
    }
   ],
   "source": [
    "X_train.shape"
   ]
  },
  {
   "cell_type": "code",
   "execution_count": 26,
   "metadata": {},
   "outputs": [
    {
     "data": {
      "text/plain": [
       "(31, 52)"
      ]
     },
     "execution_count": 26,
     "metadata": {},
     "output_type": "execute_result"
    }
   ],
   "source": [
    "X_test.shape"
   ]
  },
  {
   "cell_type": "code",
   "execution_count": 27,
   "metadata": {},
   "outputs": [
    {
     "data": {
      "text/plain": [
       "(120, 3)"
      ]
     },
     "execution_count": 27,
     "metadata": {},
     "output_type": "execute_result"
    }
   ],
   "source": [
    "Y_train.shape"
   ]
  },
  {
   "cell_type": "code",
   "execution_count": 28,
   "metadata": {},
   "outputs": [
    {
     "data": {
      "text/plain": [
       "(31, 3)"
      ]
     },
     "execution_count": 28,
     "metadata": {},
     "output_type": "execute_result"
    }
   ],
   "source": [
    "Y_test.shape"
   ]
  },
  {
   "cell_type": "markdown",
   "metadata": {},
   "source": [
    "## Create and train the ANN Classifier"
   ]
  },
  {
   "cell_type": "code",
   "execution_count": 29,
   "metadata": {
    "collapsed": true
   },
   "outputs": [],
   "source": [
    "from keras.models import Sequential\n",
    "from keras.layers import Dense"
   ]
  },
  {
   "cell_type": "code",
   "execution_count": 30,
   "metadata": {},
   "outputs": [
    {
     "name": "stderr",
     "output_type": "stream",
     "text": [
      "C:\\Users\\user\\Anaconda3\\lib\\site-packages\\ipykernel\\__main__.py:4: UserWarning: Update your `Dense` call to the Keras 2 API: `Dense(units=27, input_dim=52, kernel_initializer=\"uniform\", activation=\"relu\")`\n",
      "C:\\Users\\user\\Anaconda3\\lib\\site-packages\\ipykernel\\__main__.py:7: UserWarning: Update your `Dense` call to the Keras 2 API: `Dense(units=3, kernel_initializer=\"uniform\", activation=\"softmax\")`\n",
      "C:\\Users\\user\\Anaconda3\\lib\\site-packages\\keras\\models.py:844: UserWarning: The `nb_epoch` argument in `fit` has been renamed `epochs`.\n",
      "  warnings.warn('The `nb_epoch` argument in `fit` '\n"
     ]
    },
    {
     "name": "stdout",
     "output_type": "stream",
     "text": [
      "Epoch 1/200\n",
      "120/120 [==============================] - 0s - loss: 1.0950 - acc: 0.3750     \n",
      "Epoch 2/200\n",
      "120/120 [==============================] - 0s - loss: 1.0795 - acc: 0.5583     \n",
      "Epoch 3/200\n",
      "120/120 [==============================] - 0s - loss: 1.0588 - acc: 0.6000     \n",
      "Epoch 4/200\n",
      "120/120 [==============================] - 0s - loss: 1.0269 - acc: 0.6750     \n",
      "Epoch 5/200\n",
      "120/120 [==============================] - 0s - loss: 0.9823 - acc: 0.6750     \n",
      "Epoch 6/200\n",
      "120/120 [==============================] - 0s - loss: 0.9287 - acc: 0.7250     \n",
      "Epoch 7/200\n",
      "120/120 [==============================] - 0s - loss: 0.8694 - acc: 0.7417     \n",
      "Epoch 8/200\n",
      "120/120 [==============================] - 0s - loss: 0.8138 - acc: 0.7250     \n",
      "Epoch 9/200\n",
      "120/120 [==============================] - 0s - loss: 0.7625 - acc: 0.7583     \n",
      "Epoch 10/200\n",
      "120/120 [==============================] - 0s - loss: 0.7181 - acc: 0.7583     \n",
      "Epoch 11/200\n",
      "120/120 [==============================] - 0s - loss: 0.6795 - acc: 0.7833     \n",
      "Epoch 12/200\n",
      "120/120 [==============================] - 0s - loss: 0.6436 - acc: 0.7750     \n",
      "Epoch 13/200\n",
      "120/120 [==============================] - 0s - loss: 0.6162 - acc: 0.7833     \n",
      "Epoch 14/200\n",
      "120/120 [==============================] - 0s - loss: 0.5868 - acc: 0.8083     \n",
      "Epoch 15/200\n",
      "120/120 [==============================] - 0s - loss: 0.5654 - acc: 0.7917     \n",
      "Epoch 16/200\n",
      "120/120 [==============================] - 0s - loss: 0.5471 - acc: 0.8083     \n",
      "Epoch 17/200\n",
      "120/120 [==============================] - 0s - loss: 0.5277 - acc: 0.8333     \n",
      "Epoch 18/200\n",
      "120/120 [==============================] - 0s - loss: 0.5134 - acc: 0.8083     \n",
      "Epoch 19/200\n",
      "120/120 [==============================] - 0s - loss: 0.4975 - acc: 0.7917     \n",
      "Epoch 20/200\n",
      "120/120 [==============================] - 0s - loss: 0.4828 - acc: 0.8083     \n",
      "Epoch 21/200\n",
      "120/120 [==============================] - 0s - loss: 0.4746 - acc: 0.7917     \n",
      "Epoch 22/200\n",
      "120/120 [==============================] - 0s - loss: 0.4626 - acc: 0.8250     \n",
      "Epoch 23/200\n",
      "120/120 [==============================] - 0s - loss: 0.4545 - acc: 0.8083     \n",
      "Epoch 24/200\n",
      "120/120 [==============================] - 0s - loss: 0.4406 - acc: 0.8333     \n",
      "Epoch 25/200\n",
      "120/120 [==============================] - 0s - loss: 0.4320 - acc: 0.8167     \n",
      "Epoch 26/200\n",
      "120/120 [==============================] - 0s - loss: 0.4280 - acc: 0.8333     \n",
      "Epoch 27/200\n",
      "120/120 [==============================] - 0s - loss: 0.4187 - acc: 0.8417     \n",
      "Epoch 28/200\n",
      "120/120 [==============================] - 0s - loss: 0.4095 - acc: 0.8333     \n",
      "Epoch 29/200\n",
      "120/120 [==============================] - 0s - loss: 0.4027 - acc: 0.8417     \n",
      "Epoch 30/200\n",
      "120/120 [==============================] - 0s - loss: 0.3973 - acc: 0.8500     \n",
      "Epoch 31/200\n",
      "120/120 [==============================] - 0s - loss: 0.3905 - acc: 0.8500     \n",
      "Epoch 32/200\n",
      "120/120 [==============================] - 0s - loss: 0.3892 - acc: 0.8583     \n",
      "Epoch 33/200\n",
      "120/120 [==============================] - 0s - loss: 0.3854 - acc: 0.8417     \n",
      "Epoch 34/200\n",
      "120/120 [==============================] - 0s - loss: 0.3738 - acc: 0.8583     \n",
      "Epoch 35/200\n",
      "120/120 [==============================] - 0s - loss: 0.3699 - acc: 0.8583     \n",
      "Epoch 36/200\n",
      "120/120 [==============================] - 0s - loss: 0.3661 - acc: 0.8667     \n",
      "Epoch 37/200\n",
      "120/120 [==============================] - 0s - loss: 0.3584 - acc: 0.8667     \n",
      "Epoch 38/200\n",
      "120/120 [==============================] - 0s - loss: 0.3548 - acc: 0.8667     \n",
      "Epoch 39/200\n",
      "120/120 [==============================] - 0s - loss: 0.3536 - acc: 0.8667     \n",
      "Epoch 40/200\n",
      "120/120 [==============================] - 0s - loss: 0.3454 - acc: 0.8667     \n",
      "Epoch 41/200\n",
      "120/120 [==============================] - 0s - loss: 0.3454 - acc: 0.8750     \n",
      "Epoch 42/200\n",
      "120/120 [==============================] - 0s - loss: 0.3383 - acc: 0.8583     \n",
      "Epoch 43/200\n",
      "120/120 [==============================] - 0s - loss: 0.3367 - acc: 0.8583     \n",
      "Epoch 44/200\n",
      "120/120 [==============================] - 0s - loss: 0.3316 - acc: 0.8667     \n",
      "Epoch 45/200\n",
      "120/120 [==============================] - 0s - loss: 0.3266 - acc: 0.8750     \n",
      "Epoch 46/200\n",
      "120/120 [==============================] - 0s - loss: 0.3210 - acc: 0.8750     \n",
      "Epoch 47/200\n",
      "120/120 [==============================] - 0s - loss: 0.3208 - acc: 0.8750     \n",
      "Epoch 48/200\n",
      "120/120 [==============================] - 0s - loss: 0.3159 - acc: 0.8917     \n",
      "Epoch 49/200\n",
      "120/120 [==============================] - 0s - loss: 0.3151 - acc: 0.8667     \n",
      "Epoch 50/200\n",
      "120/120 [==============================] - 0s - loss: 0.3094 - acc: 0.8750     \n",
      "Epoch 51/200\n",
      "120/120 [==============================] - 0s - loss: 0.3084 - acc: 0.8833     \n",
      "Epoch 52/200\n",
      "120/120 [==============================] - 0s - loss: 0.3091 - acc: 0.8917     \n",
      "Epoch 53/200\n",
      "120/120 [==============================] - 0s - loss: 0.3054 - acc: 0.9000     \n",
      "Epoch 54/200\n",
      "120/120 [==============================] - 0s - loss: 0.3027 - acc: 0.8583     \n",
      "Epoch 55/200\n",
      "120/120 [==============================] - 0s - loss: 0.2958 - acc: 0.8833     \n",
      "Epoch 56/200\n",
      "120/120 [==============================] - 0s - loss: 0.2920 - acc: 0.9083     \n",
      "Epoch 57/200\n",
      "120/120 [==============================] - 0s - loss: 0.2903 - acc: 0.9000     \n",
      "Epoch 58/200\n",
      "120/120 [==============================] - 0s - loss: 0.2905 - acc: 0.9083     \n",
      "Epoch 59/200\n",
      "120/120 [==============================] - 0s - loss: 0.2822 - acc: 0.9000     \n",
      "Epoch 60/200\n",
      "120/120 [==============================] - 0s - loss: 0.2822 - acc: 0.8833     \n",
      "Epoch 61/200\n",
      "120/120 [==============================] - 0s - loss: 0.2823 - acc: 0.9000     \n",
      "Epoch 62/200\n",
      "120/120 [==============================] - ETA: 0s - loss: 0.5248 - acc: 0.600 - 0s - loss: 0.2854 - acc: 0.8750     \n",
      "Epoch 63/200\n",
      "120/120 [==============================] - 0s - loss: 0.2756 - acc: 0.9083     \n",
      "Epoch 64/200\n",
      "120/120 [==============================] - 0s - loss: 0.2759 - acc: 0.8750     \n",
      "Epoch 65/200\n",
      "120/120 [==============================] - 0s - loss: 0.2709 - acc: 0.9083     \n",
      "Epoch 66/200\n",
      "120/120 [==============================] - 0s - loss: 0.2710 - acc: 0.9000     \n",
      "Epoch 67/200\n",
      "120/120 [==============================] - 0s - loss: 0.2676 - acc: 0.8917     \n",
      "Epoch 68/200\n",
      "120/120 [==============================] - 0s - loss: 0.2660 - acc: 0.9000     \n",
      "Epoch 69/200\n",
      "120/120 [==============================] - 0s - loss: 0.2687 - acc: 0.8667     \n",
      "Epoch 70/200\n",
      "120/120 [==============================] - 0s - loss: 0.2611 - acc: 0.9083     \n",
      "Epoch 71/200\n",
      "120/120 [==============================] - ETA: 0s - loss: 0.1769 - acc: 1.000 - 0s - loss: 0.2613 - acc: 0.9083     \n",
      "Epoch 72/200\n",
      "120/120 [==============================] - 0s - loss: 0.2601 - acc: 0.8917     \n",
      "Epoch 73/200\n",
      "120/120 [==============================] - 0s - loss: 0.2594 - acc: 0.9000     \n",
      "Epoch 74/200\n",
      "120/120 [==============================] - 0s - loss: 0.2542 - acc: 0.9083     \n",
      "Epoch 75/200\n",
      "120/120 [==============================] - 0s - loss: 0.2547 - acc: 0.9000     \n",
      "Epoch 76/200\n",
      "120/120 [==============================] - 0s - loss: 0.2519 - acc: 0.8833     \n",
      "Epoch 77/200\n",
      "120/120 [==============================] - 0s - loss: 0.2502 - acc: 0.8833     \n",
      "Epoch 78/200\n",
      "120/120 [==============================] - 0s - loss: 0.2488 - acc: 0.8917     \n",
      "Epoch 79/200\n",
      "120/120 [==============================] - 0s - loss: 0.2477 - acc: 0.9000     \n",
      "Epoch 80/200\n",
      "120/120 [==============================] - 0s - loss: 0.2421 - acc: 0.9167     \n",
      "Epoch 81/200\n",
      "120/120 [==============================] - 0s - loss: 0.2459 - acc: 0.8917     \n",
      "Epoch 82/200\n",
      "120/120 [==============================] - 0s - loss: 0.2403 - acc: 0.8833     \n",
      "Epoch 83/200\n",
      "120/120 [==============================] - ETA: 0s - loss: 0.2904 - acc: 1.000 - 0s - loss: 0.2398 - acc: 0.8917     \n",
      "Epoch 84/200\n",
      "120/120 [==============================] - 0s - loss: 0.2386 - acc: 0.9167     \n",
      "Epoch 85/200\n",
      "120/120 [==============================] - 0s - loss: 0.2388 - acc: 0.9167     \n",
      "Epoch 86/200\n",
      "120/120 [==============================] - 0s - loss: 0.2368 - acc: 0.8917     \n",
      "Epoch 87/200\n"
     ]
    },
    {
     "name": "stdout",
     "output_type": "stream",
     "text": [
      "120/120 [==============================] - 0s - loss: 0.2317 - acc: 0.8917     \n",
      "Epoch 88/200\n",
      "120/120 [==============================] - 0s - loss: 0.2315 - acc: 0.9000     \n",
      "Epoch 89/200\n",
      "120/120 [==============================] - 0s - loss: 0.2283 - acc: 0.9083     \n",
      "Epoch 90/200\n",
      "120/120 [==============================] - 0s - loss: 0.2285 - acc: 0.9000     \n",
      "Epoch 91/200\n",
      "120/120 [==============================] - 0s - loss: 0.2286 - acc: 0.9000     \n",
      "Epoch 92/200\n",
      "120/120 [==============================] - ETA: 0s - loss: 0.2032 - acc: 1.000 - 0s - loss: 0.2273 - acc: 0.9083     \n",
      "Epoch 93/200\n",
      "120/120 [==============================] - 0s - loss: 0.2257 - acc: 0.9167     \n",
      "Epoch 94/200\n",
      "120/120 [==============================] - ETA: 0s - loss: 0.2505 - acc: 0.800 - 0s - loss: 0.2281 - acc: 0.9000     \n",
      "Epoch 95/200\n",
      "120/120 [==============================] - 0s - loss: 0.2212 - acc: 0.9083     \n",
      "Epoch 96/200\n",
      "120/120 [==============================] - 0s - loss: 0.2217 - acc: 0.9083     \n",
      "Epoch 97/200\n",
      "120/120 [==============================] - 0s - loss: 0.2200 - acc: 0.9083     \n",
      "Epoch 98/200\n",
      "120/120 [==============================] - 0s - loss: 0.2192 - acc: 0.9083     \n",
      "Epoch 99/200\n",
      "120/120 [==============================] - 0s - loss: 0.2189 - acc: 0.9083     \n",
      "Epoch 100/200\n",
      "120/120 [==============================] - 0s - loss: 0.2205 - acc: 0.9083     \n",
      "Epoch 101/200\n",
      "120/120 [==============================] - 0s - loss: 0.2147 - acc: 0.9167     \n",
      "Epoch 102/200\n",
      "120/120 [==============================] - 0s - loss: 0.2156 - acc: 0.9250     \n",
      "Epoch 103/200\n",
      "120/120 [==============================] - 0s - loss: 0.2138 - acc: 0.9167     \n",
      "Epoch 104/200\n",
      "120/120 [==============================] - 0s - loss: 0.2139 - acc: 0.9167     \n",
      "Epoch 105/200\n",
      "120/120 [==============================] - 0s - loss: 0.2102 - acc: 0.9250     \n",
      "Epoch 106/200\n",
      "120/120 [==============================] - 0s - loss: 0.2141 - acc: 0.8917     \n",
      "Epoch 107/200\n",
      "120/120 [==============================] - 0s - loss: 0.2128 - acc: 0.9167     \n",
      "Epoch 108/200\n",
      "120/120 [==============================] - ETA: 0s - loss: 0.0764 - acc: 1.000 - 0s - loss: 0.2090 - acc: 0.9167     \n",
      "Epoch 109/200\n",
      "120/120 [==============================] - 0s - loss: 0.2063 - acc: 0.9167     \n",
      "Epoch 110/200\n",
      "120/120 [==============================] - 0s - loss: 0.2054 - acc: 0.9333     \n",
      "Epoch 111/200\n",
      "120/120 [==============================] - 0s - loss: 0.2050 - acc: 0.9167     \n",
      "Epoch 112/200\n",
      "120/120 [==============================] - 0s - loss: 0.2062 - acc: 0.9167     \n",
      "Epoch 113/200\n",
      "120/120 [==============================] - 0s - loss: 0.2036 - acc: 0.9167     \n",
      "Epoch 114/200\n",
      "120/120 [==============================] - 0s - loss: 0.2091 - acc: 0.9167     \n",
      "Epoch 115/200\n",
      "120/120 [==============================] - 0s - loss: 0.2004 - acc: 0.9167     \n",
      "Epoch 116/200\n",
      "120/120 [==============================] - 0s - loss: 0.2046 - acc: 0.9083     \n",
      "Epoch 117/200\n",
      "120/120 [==============================] - 0s - loss: 0.2073 - acc: 0.9083     \n",
      "Epoch 118/200\n",
      "120/120 [==============================] - 0s - loss: 0.2010 - acc: 0.9333     \n",
      "Epoch 119/200\n",
      "120/120 [==============================] - 0s - loss: 0.1998 - acc: 0.9167     \n",
      "Epoch 120/200\n",
      "120/120 [==============================] - 0s - loss: 0.1975 - acc: 0.9250     \n",
      "Epoch 121/200\n",
      "120/120 [==============================] - 0s - loss: 0.1963 - acc: 0.9417     \n",
      "Epoch 122/200\n",
      "120/120 [==============================] - 0s - loss: 0.1954 - acc: 0.9333     \n",
      "Epoch 123/200\n",
      "120/120 [==============================] - 0s - loss: 0.1953 - acc: 0.9333     \n",
      "Epoch 124/200\n",
      "120/120 [==============================] - 0s - loss: 0.1939 - acc: 0.9250     \n",
      "Epoch 125/200\n",
      "120/120 [==============================] - 0s - loss: 0.1979 - acc: 0.9417     \n",
      "Epoch 126/200\n",
      "120/120 [==============================] - 0s - loss: 0.1933 - acc: 0.9250     \n",
      "Epoch 127/200\n",
      "120/120 [==============================] - 0s - loss: 0.1903 - acc: 0.9250     \n",
      "Epoch 128/200\n",
      "120/120 [==============================] - 0s - loss: 0.1899 - acc: 0.9333     \n",
      "Epoch 129/200\n",
      "120/120 [==============================] - 0s - loss: 0.1959 - acc: 0.9333     \n",
      "Epoch 130/200\n",
      "120/120 [==============================] - 0s - loss: 0.1917 - acc: 0.9417     \n",
      "Epoch 131/200\n",
      "120/120 [==============================] - 0s - loss: 0.1905 - acc: 0.9333     \n",
      "Epoch 132/200\n",
      "120/120 [==============================] - 0s - loss: 0.1912 - acc: 0.9333     \n",
      "Epoch 133/200\n",
      "120/120 [==============================] - 0s - loss: 0.1878 - acc: 0.9333     \n",
      "Epoch 134/200\n",
      "120/120 [==============================] - 0s - loss: 0.1871 - acc: 0.9333     \n",
      "Epoch 135/200\n",
      "120/120 [==============================] - 0s - loss: 0.1857 - acc: 0.9333     \n",
      "Epoch 136/200\n",
      "120/120 [==============================] - 0s - loss: 0.1861 - acc: 0.9333     \n",
      "Epoch 137/200\n",
      "120/120 [==============================] - 0s - loss: 0.1889 - acc: 0.9250     \n",
      "Epoch 138/200\n",
      "120/120 [==============================] - 0s - loss: 0.1828 - acc: 0.9333     \n",
      "Epoch 139/200\n",
      "120/120 [==============================] - 0s - loss: 0.1854 - acc: 0.9333     \n",
      "Epoch 140/200\n",
      "120/120 [==============================] - 0s - loss: 0.1836 - acc: 0.9333     \n",
      "Epoch 141/200\n",
      "120/120 [==============================] - 0s - loss: 0.1819 - acc: 0.9333     \n",
      "Epoch 142/200\n",
      "120/120 [==============================] - 0s - loss: 0.1820 - acc: 0.9250     \n",
      "Epoch 143/200\n",
      "120/120 [==============================] - 0s - loss: 0.1823 - acc: 0.9333     \n",
      "Epoch 144/200\n",
      "120/120 [==============================] - 0s - loss: 0.1770 - acc: 0.9500     \n",
      "Epoch 145/200\n",
      "120/120 [==============================] - 0s - loss: 0.1849 - acc: 0.9333     \n",
      "Epoch 146/200\n",
      "120/120 [==============================] - 0s - loss: 0.1779 - acc: 0.9250         \n",
      "Epoch 147/200\n",
      "120/120 [==============================] - 0s - loss: 0.1800 - acc: 0.9417     \n",
      "Epoch 148/200\n",
      "120/120 [==============================] - 0s - loss: 0.1800 - acc: 0.9417     \n",
      "Epoch 149/200\n",
      "120/120 [==============================] - 0s - loss: 0.1753 - acc: 0.9333     \n",
      "Epoch 150/200\n",
      "120/120 [==============================] - 0s - loss: 0.1733 - acc: 0.9417     \n",
      "Epoch 151/200\n",
      "120/120 [==============================] - 0s - loss: 0.1763 - acc: 0.9333     \n",
      "Epoch 152/200\n",
      "120/120 [==============================] - 0s - loss: 0.1756 - acc: 0.9333     \n",
      "Epoch 153/200\n",
      "120/120 [==============================] - 0s - loss: 0.1758 - acc: 0.9250     \n",
      "Epoch 154/200\n",
      "120/120 [==============================] - 0s - loss: 0.1732 - acc: 0.9333     \n",
      "Epoch 155/200\n",
      "120/120 [==============================] - 0s - loss: 0.1714 - acc: 0.9333     \n",
      "Epoch 156/200\n",
      "120/120 [==============================] - 0s - loss: 0.1724 - acc: 0.9333     \n",
      "Epoch 157/200\n",
      "120/120 [==============================] - 0s - loss: 0.1724 - acc: 0.9333     \n",
      "Epoch 158/200\n",
      "120/120 [==============================] - 0s - loss: 0.1719 - acc: 0.9333     \n",
      "Epoch 159/200\n",
      "120/120 [==============================] - 0s - loss: 0.1724 - acc: 0.9417     \n",
      "Epoch 160/200\n",
      "120/120 [==============================] - 0s - loss: 0.1725 - acc: 0.9333     \n",
      "Epoch 161/200\n",
      "120/120 [==============================] - ETA: 0s - loss: 0.1358 - acc: 1.000 - 0s - loss: 0.1700 - acc: 0.9333     \n",
      "Epoch 162/200\n",
      "120/120 [==============================] - 0s - loss: 0.1725 - acc: 0.9417     \n",
      "Epoch 163/200\n",
      "120/120 [==============================] - 0s - loss: 0.1701 - acc: 0.9250     \n",
      "Epoch 164/200\n",
      "120/120 [==============================] - 0s - loss: 0.1696 - acc: 0.9417     \n",
      "Epoch 165/200\n",
      "120/120 [==============================] - 0s - loss: 0.1729 - acc: 0.9333     \n",
      "Epoch 166/200\n",
      "120/120 [==============================] - 0s - loss: 0.1674 - acc: 0.9500     \n",
      "Epoch 167/200\n",
      "120/120 [==============================] - 0s - loss: 0.1697 - acc: 0.9417     \n",
      "Epoch 168/200\n",
      "120/120 [==============================] - 0s - loss: 0.1690 - acc: 0.9250     \n",
      "Epoch 169/200\n",
      "120/120 [==============================] - 0s - loss: 0.1700 - acc: 0.9333     \n",
      "Epoch 170/200\n",
      "120/120 [==============================] - 0s - loss: 0.1678 - acc: 0.9250     \n",
      "Epoch 171/200\n",
      "120/120 [==============================] - 0s - loss: 0.1712 - acc: 0.9417     \n",
      "Epoch 172/200\n"
     ]
    },
    {
     "name": "stdout",
     "output_type": "stream",
     "text": [
      "120/120 [==============================] - 0s - loss: 0.1745 - acc: 0.9333     \n",
      "Epoch 173/200\n",
      "120/120 [==============================] - 0s - loss: 0.1665 - acc: 0.9417     \n",
      "Epoch 174/200\n",
      "120/120 [==============================] - 0s - loss: 0.1679 - acc: 0.9250     \n",
      "Epoch 175/200\n",
      "120/120 [==============================] - 0s - loss: 0.1649 - acc: 0.9250     \n",
      "Epoch 176/200\n",
      "120/120 [==============================] - 0s - loss: 0.1631 - acc: 0.9333     \n",
      "Epoch 177/200\n",
      "120/120 [==============================] - ETA: 0s - loss: 0.1750 - acc: 0.800 - 0s - loss: 0.1669 - acc: 0.9250     \n",
      "Epoch 178/200\n",
      "120/120 [==============================] - 0s - loss: 0.1634 - acc: 0.9333     \n",
      "Epoch 179/200\n",
      "120/120 [==============================] - 0s - loss: 0.1663 - acc: 0.9250     \n",
      "Epoch 180/200\n",
      "120/120 [==============================] - 0s - loss: 0.1598 - acc: 0.9417     \n",
      "Epoch 181/200\n",
      "120/120 [==============================] - 0s - loss: 0.1636 - acc: 0.9333     \n",
      "Epoch 182/200\n",
      "120/120 [==============================] - 0s - loss: 0.1606 - acc: 0.9333     \n",
      "Epoch 183/200\n",
      "120/120 [==============================] - 0s - loss: 0.1588 - acc: 0.9250     \n",
      "Epoch 184/200\n",
      "120/120 [==============================] - 0s - loss: 0.1608 - acc: 0.9333     \n",
      "Epoch 185/200\n",
      "120/120 [==============================] - 0s - loss: 0.1577 - acc: 0.9167     \n",
      "Epoch 186/200\n",
      "120/120 [==============================] - 0s - loss: 0.1614 - acc: 0.9333     \n",
      "Epoch 187/200\n",
      "120/120 [==============================] - 0s - loss: 0.1590 - acc: 0.9250     \n",
      "Epoch 188/200\n",
      "120/120 [==============================] - 0s - loss: 0.1585 - acc: 0.9417     \n",
      "Epoch 189/200\n",
      "120/120 [==============================] - 0s - loss: 0.1624 - acc: 0.9333     \n",
      "Epoch 190/200\n",
      "120/120 [==============================] - 0s - loss: 0.1581 - acc: 0.9333     \n",
      "Epoch 191/200\n",
      "120/120 [==============================] - 0s - loss: 0.1662 - acc: 0.9250     \n",
      "Epoch 192/200\n",
      "120/120 [==============================] - 0s - loss: 0.1562 - acc: 0.9417     \n",
      "Epoch 193/200\n",
      "120/120 [==============================] - 0s - loss: 0.1580 - acc: 0.9417     \n",
      "Epoch 194/200\n",
      "120/120 [==============================] - 0s - loss: 0.1605 - acc: 0.9167     \n",
      "Epoch 195/200\n",
      "120/120 [==============================] - 0s - loss: 0.1621 - acc: 0.9250     \n",
      "Epoch 196/200\n",
      "120/120 [==============================] - 0s - loss: 0.1544 - acc: 0.9333     \n",
      "Epoch 197/200\n",
      "120/120 [==============================] - 0s - loss: 0.1564 - acc: 0.9250     \n",
      "Epoch 198/200\n",
      "120/120 [==============================] - 0s - loss: 0.1558 - acc: 0.9417     \n",
      "Epoch 199/200\n",
      "120/120 [==============================] - 0s - loss: 0.1568 - acc: 0.9417         \n",
      "Epoch 200/200\n",
      "120/120 [==============================] - 0s - loss: 0.1552 - acc: 0.9333     \n"
     ]
    },
    {
     "data": {
      "text/plain": [
       "<keras.callbacks.History at 0x6cfed30860>"
      ]
     },
     "execution_count": 30,
     "metadata": {},
     "output_type": "execute_result"
    }
   ],
   "source": [
    "clf_ann = Sequential()\n",
    "\n",
    "# First Hidden Layer\n",
    "clf_ann.add(Dense(output_dim = 27, init = 'uniform', activation = 'relu', input_dim = 52))\n",
    "\n",
    "# Output Layer\n",
    "clf_ann.add(Dense(output_dim = 3, init = 'uniform', activation = 'softmax'))\n",
    "\n",
    "# Compile the ANN\n",
    "clf_ann.compile(optimizer = 'adam', loss = 'categorical_crossentropy', metrics = ['accuracy'])\n",
    "\n",
    "# Train the ANN on the Train Data\n",
    "clf_ann.fit(X_train, Y_train, batch_size = 5, nb_epoch = 200)"
   ]
  },
  {
   "cell_type": "code",
   "execution_count": 31,
   "metadata": {
    "collapsed": true
   },
   "outputs": [],
   "source": [
    "# Test the ANN on the Test Data\n",
    "Y_pred = clf_ann.predict(X_test)\n",
    "Y_pred_class = np.argmax(Y_pred, axis = 1)\n",
    "Y_test_class = np.argmax(Y_test, axis = 1)"
   ]
  },
  {
   "cell_type": "markdown",
   "metadata": {},
   "source": [
    "## Check the Accuracy"
   ]
  },
  {
   "cell_type": "code",
   "execution_count": 32,
   "metadata": {
    "collapsed": true
   },
   "outputs": [],
   "source": [
    "from sklearn.metrics import accuracy_score, confusion_matrix"
   ]
  },
  {
   "cell_type": "code",
   "execution_count": 33,
   "metadata": {},
   "outputs": [
    {
     "data": {
      "text/plain": [
       "0.61290322580645162"
      ]
     },
     "execution_count": 33,
     "metadata": {},
     "output_type": "execute_result"
    }
   ],
   "source": [
    "accuracy_score(Y_test_class, Y_pred_class)"
   ]
  },
  {
   "cell_type": "code",
   "execution_count": 34,
   "metadata": {},
   "outputs": [
    {
     "data": {
      "text/plain": [
       "array([[2, 4, 1],\n",
       "       [4, 9, 1],\n",
       "       [1, 1, 8]], dtype=int64)"
      ]
     },
     "execution_count": 34,
     "metadata": {},
     "output_type": "execute_result"
    }
   ],
   "source": [
    "confusion_matrix(Y_test_class, Y_pred_class)"
   ]
  },
  {
   "cell_type": "code",
   "execution_count": null,
   "metadata": {
    "collapsed": true
   },
   "outputs": [],
   "source": []
  }
 ],
 "metadata": {
  "kernelspec": {
   "display_name": "Python [default]",
   "language": "python",
   "name": "python3"
  },
  "language_info": {
   "codemirror_mode": {
    "name": "ipython",
    "version": 3
   },
   "file_extension": ".py",
   "mimetype": "text/x-python",
   "name": "python",
   "nbconvert_exporter": "python",
   "pygments_lexer": "ipython3",
   "version": "3.5.4"
  }
 },
 "nbformat": 4,
 "nbformat_minor": 2
}
