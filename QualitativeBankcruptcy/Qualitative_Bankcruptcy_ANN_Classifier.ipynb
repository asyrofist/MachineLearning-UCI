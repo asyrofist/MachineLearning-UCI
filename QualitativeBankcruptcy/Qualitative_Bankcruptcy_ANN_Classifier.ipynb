{
 "cells": [
  {
   "cell_type": "markdown",
   "metadata": {},
   "source": [
    "## Initialization"
   ]
  },
  {
   "cell_type": "code",
   "execution_count": 1,
   "metadata": {},
   "outputs": [
    {
     "name": "stderr",
     "output_type": "stream",
     "text": [
      "Using Theano backend.\n"
     ]
    }
   ],
   "source": [
    "import pandas as pd\n",
    "import numpy as np\n",
    "import keras"
   ]
  },
  {
   "cell_type": "markdown",
   "metadata": {},
   "source": [
    "## Importing the Data"
   ]
  },
  {
   "cell_type": "code",
   "execution_count": 2,
   "metadata": {},
   "outputs": [
    {
     "data": {
      "text/plain": [
       "(250, 7)"
      ]
     },
     "execution_count": 2,
     "metadata": {},
     "output_type": "execute_result"
    }
   ],
   "source": [
    "dataset = pd.read_csv('Qualitative_Bankruptcy.data.txt', header = None)\n",
    "dataset.shape"
   ]
  },
  {
   "cell_type": "code",
   "execution_count": 3,
   "metadata": {},
   "outputs": [
    {
     "data": {
      "text/html": [
       "<div>\n",
       "<style>\n",
       "    .dataframe thead tr:only-child th {\n",
       "        text-align: right;\n",
       "    }\n",
       "\n",
       "    .dataframe thead th {\n",
       "        text-align: left;\n",
       "    }\n",
       "\n",
       "    .dataframe tbody tr th {\n",
       "        vertical-align: top;\n",
       "    }\n",
       "</style>\n",
       "<table border=\"1\" class=\"dataframe\">\n",
       "  <thead>\n",
       "    <tr style=\"text-align: right;\">\n",
       "      <th></th>\n",
       "      <th>0</th>\n",
       "      <th>1</th>\n",
       "      <th>2</th>\n",
       "      <th>3</th>\n",
       "      <th>4</th>\n",
       "      <th>5</th>\n",
       "      <th>6</th>\n",
       "    </tr>\n",
       "  </thead>\n",
       "  <tbody>\n",
       "    <tr>\n",
       "      <th>0</th>\n",
       "      <td>P</td>\n",
       "      <td>P</td>\n",
       "      <td>A</td>\n",
       "      <td>A</td>\n",
       "      <td>A</td>\n",
       "      <td>P</td>\n",
       "      <td>NB</td>\n",
       "    </tr>\n",
       "    <tr>\n",
       "      <th>1</th>\n",
       "      <td>N</td>\n",
       "      <td>N</td>\n",
       "      <td>A</td>\n",
       "      <td>A</td>\n",
       "      <td>A</td>\n",
       "      <td>N</td>\n",
       "      <td>NB</td>\n",
       "    </tr>\n",
       "    <tr>\n",
       "      <th>2</th>\n",
       "      <td>A</td>\n",
       "      <td>A</td>\n",
       "      <td>A</td>\n",
       "      <td>A</td>\n",
       "      <td>A</td>\n",
       "      <td>A</td>\n",
       "      <td>NB</td>\n",
       "    </tr>\n",
       "    <tr>\n",
       "      <th>3</th>\n",
       "      <td>P</td>\n",
       "      <td>P</td>\n",
       "      <td>P</td>\n",
       "      <td>P</td>\n",
       "      <td>P</td>\n",
       "      <td>P</td>\n",
       "      <td>NB</td>\n",
       "    </tr>\n",
       "    <tr>\n",
       "      <th>4</th>\n",
       "      <td>N</td>\n",
       "      <td>N</td>\n",
       "      <td>P</td>\n",
       "      <td>P</td>\n",
       "      <td>P</td>\n",
       "      <td>N</td>\n",
       "      <td>NB</td>\n",
       "    </tr>\n",
       "  </tbody>\n",
       "</table>\n",
       "</div>"
      ],
      "text/plain": [
       "   0  1  2  3  4  5   6\n",
       "0  P  P  A  A  A  P  NB\n",
       "1  N  N  A  A  A  N  NB\n",
       "2  A  A  A  A  A  A  NB\n",
       "3  P  P  P  P  P  P  NB\n",
       "4  N  N  P  P  P  N  NB"
      ]
     },
     "execution_count": 3,
     "metadata": {},
     "output_type": "execute_result"
    }
   ],
   "source": [
    "dataset.head()"
   ]
  },
  {
   "cell_type": "markdown",
   "metadata": {},
   "source": [
    "## Create X and Y"
   ]
  },
  {
   "cell_type": "code",
   "execution_count": 4,
   "metadata": {
    "collapsed": true
   },
   "outputs": [],
   "source": [
    "X = dataset.iloc[:, 0:6].values\n",
    "Y = dataset.iloc[:, 6].values"
   ]
  },
  {
   "cell_type": "code",
   "execution_count": 5,
   "metadata": {},
   "outputs": [
    {
     "data": {
      "text/plain": [
       "(250, 6)"
      ]
     },
     "execution_count": 5,
     "metadata": {},
     "output_type": "execute_result"
    }
   ],
   "source": [
    "X.shape"
   ]
  },
  {
   "cell_type": "code",
   "execution_count": 6,
   "metadata": {},
   "outputs": [
    {
     "data": {
      "text/plain": [
       "(250,)"
      ]
     },
     "execution_count": 6,
     "metadata": {},
     "output_type": "execute_result"
    }
   ],
   "source": [
    "Y.shape"
   ]
  },
  {
   "cell_type": "code",
   "execution_count": 7,
   "metadata": {},
   "outputs": [
    {
     "data": {
      "text/plain": [
       "array(['P', 'P', 'A', 'A', 'A', 'P'], dtype=object)"
      ]
     },
     "execution_count": 7,
     "metadata": {},
     "output_type": "execute_result"
    }
   ],
   "source": [
    "X[0]"
   ]
  },
  {
   "cell_type": "code",
   "execution_count": 8,
   "metadata": {
    "scrolled": true
   },
   "outputs": [
    {
     "data": {
      "text/plain": [
       "'NB'"
      ]
     },
     "execution_count": 8,
     "metadata": {},
     "output_type": "execute_result"
    }
   ],
   "source": [
    "Y[0]"
   ]
  },
  {
   "cell_type": "markdown",
   "metadata": {},
   "source": [
    "## Preprocess the Data"
   ]
  },
  {
   "cell_type": "code",
   "execution_count": 9,
   "metadata": {
    "collapsed": true
   },
   "outputs": [],
   "source": [
    "from sklearn.preprocessing import LabelEncoder, OneHotEncoder, StandardScaler"
   ]
  },
  {
   "cell_type": "code",
   "execution_count": 10,
   "metadata": {
    "collapsed": true
   },
   "outputs": [],
   "source": [
    "le_Y = LabelEncoder()"
   ]
  },
  {
   "cell_type": "code",
   "execution_count": 11,
   "metadata": {},
   "outputs": [
    {
     "data": {
      "text/plain": [
       "1"
      ]
     },
     "execution_count": 11,
     "metadata": {},
     "output_type": "execute_result"
    }
   ],
   "source": [
    "Y = le_Y.fit_transform(Y)\n",
    "Y[0]"
   ]
  },
  {
   "cell_type": "code",
   "execution_count": 12,
   "metadata": {
    "collapsed": true
   },
   "outputs": [],
   "source": [
    "def encoder_X(index):\n",
    "    le_X = LabelEncoder()\n",
    "    X[:, index] = le_X.fit_transform(X[:, index])"
   ]
  },
  {
   "cell_type": "code",
   "execution_count": 13,
   "metadata": {
    "collapsed": true
   },
   "outputs": [],
   "source": [
    "for i in range(0, 6):\n",
    "    encoder_X(i)"
   ]
  },
  {
   "cell_type": "code",
   "execution_count": 14,
   "metadata": {},
   "outputs": [
    {
     "data": {
      "text/plain": [
       "array([2, 2, 0, 0, 0, 2], dtype=object)"
      ]
     },
     "execution_count": 14,
     "metadata": {},
     "output_type": "execute_result"
    }
   ],
   "source": [
    "X[0]"
   ]
  },
  {
   "cell_type": "code",
   "execution_count": 15,
   "metadata": {
    "collapsed": true
   },
   "outputs": [],
   "source": [
    "ohe_X = OneHotEncoder(categorical_features = [5])"
   ]
  },
  {
   "cell_type": "code",
   "execution_count": 16,
   "metadata": {},
   "outputs": [
    {
     "data": {
      "text/plain": [
       "(250, 7)"
      ]
     },
     "execution_count": 16,
     "metadata": {},
     "output_type": "execute_result"
    }
   ],
   "source": [
    "X = ohe_X.fit_transform(X).toarray()\n",
    "X = X[:, 1:]\n",
    "X.shape"
   ]
  },
  {
   "cell_type": "code",
   "execution_count": 17,
   "metadata": {
    "collapsed": true
   },
   "outputs": [],
   "source": [
    "ohe_X = OneHotEncoder(categorical_features = [6])"
   ]
  },
  {
   "cell_type": "code",
   "execution_count": 18,
   "metadata": {},
   "outputs": [
    {
     "data": {
      "text/plain": [
       "(250, 8)"
      ]
     },
     "execution_count": 18,
     "metadata": {},
     "output_type": "execute_result"
    }
   ],
   "source": [
    "X = ohe_X.fit_transform(X).toarray()\n",
    "X = X[:, 1:]\n",
    "X.shape"
   ]
  },
  {
   "cell_type": "code",
   "execution_count": 19,
   "metadata": {
    "collapsed": true
   },
   "outputs": [],
   "source": [
    "ohe_X = OneHotEncoder(categorical_features = [7])"
   ]
  },
  {
   "cell_type": "code",
   "execution_count": 20,
   "metadata": {},
   "outputs": [
    {
     "data": {
      "text/plain": [
       "(250, 9)"
      ]
     },
     "execution_count": 20,
     "metadata": {},
     "output_type": "execute_result"
    }
   ],
   "source": [
    "X = ohe_X.fit_transform(X).toarray()\n",
    "X = X[:, 1:]\n",
    "X.shape"
   ]
  },
  {
   "cell_type": "code",
   "execution_count": 21,
   "metadata": {
    "collapsed": true
   },
   "outputs": [],
   "source": [
    "ohe_X = OneHotEncoder(categorical_features = [8])"
   ]
  },
  {
   "cell_type": "code",
   "execution_count": 22,
   "metadata": {},
   "outputs": [
    {
     "data": {
      "text/plain": [
       "(250, 10)"
      ]
     },
     "execution_count": 22,
     "metadata": {},
     "output_type": "execute_result"
    }
   ],
   "source": [
    "X = ohe_X.fit_transform(X).toarray()\n",
    "X = X[:, 1:]\n",
    "X.shape"
   ]
  },
  {
   "cell_type": "code",
   "execution_count": 23,
   "metadata": {
    "collapsed": true
   },
   "outputs": [],
   "source": [
    "ohe_X = OneHotEncoder(categorical_features = [9])"
   ]
  },
  {
   "cell_type": "code",
   "execution_count": 24,
   "metadata": {},
   "outputs": [
    {
     "data": {
      "text/plain": [
       "(250, 11)"
      ]
     },
     "execution_count": 24,
     "metadata": {},
     "output_type": "execute_result"
    }
   ],
   "source": [
    "X = ohe_X.fit_transform(X).toarray()\n",
    "X = X[:, 1:]\n",
    "X.shape"
   ]
  },
  {
   "cell_type": "code",
   "execution_count": 25,
   "metadata": {
    "collapsed": true
   },
   "outputs": [],
   "source": [
    "ohe_X = OneHotEncoder(categorical_features = [10])"
   ]
  },
  {
   "cell_type": "code",
   "execution_count": 26,
   "metadata": {},
   "outputs": [
    {
     "data": {
      "text/plain": [
       "(250, 12)"
      ]
     },
     "execution_count": 26,
     "metadata": {},
     "output_type": "execute_result"
    }
   ],
   "source": [
    "X = ohe_X.fit_transform(X).toarray()\n",
    "X = X[:, 1:]\n",
    "X.shape"
   ]
  },
  {
   "cell_type": "markdown",
   "metadata": {},
   "source": [
    "## Create Train and Test Data"
   ]
  },
  {
   "cell_type": "code",
   "execution_count": 27,
   "metadata": {
    "collapsed": true
   },
   "outputs": [],
   "source": [
    "from sklearn.model_selection import train_test_split"
   ]
  },
  {
   "cell_type": "code",
   "execution_count": 28,
   "metadata": {
    "collapsed": true
   },
   "outputs": [],
   "source": [
    "X_train, X_test, Y_train, Y_test = train_test_split(X, Y, test_size = 0.2, random_state = 4)"
   ]
  },
  {
   "cell_type": "code",
   "execution_count": 29,
   "metadata": {},
   "outputs": [
    {
     "data": {
      "text/plain": [
       "(200, 12)"
      ]
     },
     "execution_count": 29,
     "metadata": {},
     "output_type": "execute_result"
    }
   ],
   "source": [
    "X_train.shape"
   ]
  },
  {
   "cell_type": "code",
   "execution_count": 30,
   "metadata": {},
   "outputs": [
    {
     "data": {
      "text/plain": [
       "(50, 12)"
      ]
     },
     "execution_count": 30,
     "metadata": {},
     "output_type": "execute_result"
    }
   ],
   "source": [
    "X_test.shape"
   ]
  },
  {
   "cell_type": "code",
   "execution_count": 31,
   "metadata": {},
   "outputs": [
    {
     "data": {
      "text/plain": [
       "(200,)"
      ]
     },
     "execution_count": 31,
     "metadata": {},
     "output_type": "execute_result"
    }
   ],
   "source": [
    "Y_train.shape"
   ]
  },
  {
   "cell_type": "code",
   "execution_count": 32,
   "metadata": {},
   "outputs": [
    {
     "data": {
      "text/plain": [
       "(50,)"
      ]
     },
     "execution_count": 32,
     "metadata": {},
     "output_type": "execute_result"
    }
   ],
   "source": [
    "Y_test.shape"
   ]
  },
  {
   "cell_type": "code",
   "execution_count": 33,
   "metadata": {},
   "outputs": [
    {
     "data": {
      "text/html": [
       "<div>\n",
       "<style>\n",
       "    .dataframe thead tr:only-child th {\n",
       "        text-align: right;\n",
       "    }\n",
       "\n",
       "    .dataframe thead th {\n",
       "        text-align: left;\n",
       "    }\n",
       "\n",
       "    .dataframe tbody tr th {\n",
       "        vertical-align: top;\n",
       "    }\n",
       "</style>\n",
       "<table border=\"1\" class=\"dataframe\">\n",
       "  <thead>\n",
       "    <tr style=\"text-align: right;\">\n",
       "      <th></th>\n",
       "      <th>0</th>\n",
       "    </tr>\n",
       "  </thead>\n",
       "  <tbody>\n",
       "    <tr>\n",
       "      <th>1</th>\n",
       "      <td>114</td>\n",
       "    </tr>\n",
       "    <tr>\n",
       "      <th>0</th>\n",
       "      <td>86</td>\n",
       "    </tr>\n",
       "  </tbody>\n",
       "</table>\n",
       "</div>"
      ],
      "text/plain": [
       "     0\n",
       "1  114\n",
       "0   86"
      ]
     },
     "execution_count": 33,
     "metadata": {},
     "output_type": "execute_result"
    }
   ],
   "source": [
    "pd.DataFrame(pd.DataFrame(Y_train)[0].value_counts())"
   ]
  },
  {
   "cell_type": "code",
   "execution_count": 34,
   "metadata": {},
   "outputs": [
    {
     "data": {
      "text/html": [
       "<div>\n",
       "<style>\n",
       "    .dataframe thead tr:only-child th {\n",
       "        text-align: right;\n",
       "    }\n",
       "\n",
       "    .dataframe thead th {\n",
       "        text-align: left;\n",
       "    }\n",
       "\n",
       "    .dataframe tbody tr th {\n",
       "        vertical-align: top;\n",
       "    }\n",
       "</style>\n",
       "<table border=\"1\" class=\"dataframe\">\n",
       "  <thead>\n",
       "    <tr style=\"text-align: right;\">\n",
       "      <th></th>\n",
       "      <th>0</th>\n",
       "    </tr>\n",
       "  </thead>\n",
       "  <tbody>\n",
       "    <tr>\n",
       "      <th>1</th>\n",
       "      <td>29</td>\n",
       "    </tr>\n",
       "    <tr>\n",
       "      <th>0</th>\n",
       "      <td>21</td>\n",
       "    </tr>\n",
       "  </tbody>\n",
       "</table>\n",
       "</div>"
      ],
      "text/plain": [
       "    0\n",
       "1  29\n",
       "0  21"
      ]
     },
     "execution_count": 34,
     "metadata": {},
     "output_type": "execute_result"
    }
   ],
   "source": [
    "pd.DataFrame(pd.DataFrame(Y_test)[0].value_counts())"
   ]
  },
  {
   "cell_type": "markdown",
   "metadata": {},
   "source": [
    "## Create and train the ANN Classifier"
   ]
  },
  {
   "cell_type": "code",
   "execution_count": 35,
   "metadata": {
    "collapsed": true
   },
   "outputs": [],
   "source": [
    "from keras.models import Sequential\n",
    "from keras.layers import Dense"
   ]
  },
  {
   "cell_type": "code",
   "execution_count": 36,
   "metadata": {},
   "outputs": [
    {
     "name": "stderr",
     "output_type": "stream",
     "text": [
      "C:\\Users\\user\\Anaconda3\\lib\\site-packages\\ipykernel\\__main__.py:4: UserWarning: Update your `Dense` call to the Keras 2 API: `Dense(input_dim=12, units=6, activation=\"relu\", kernel_initializer=\"uniform\")`\n",
      "C:\\Users\\user\\Anaconda3\\lib\\site-packages\\ipykernel\\__main__.py:10: UserWarning: Update your `Dense` call to the Keras 2 API: `Dense(units=1, activation=\"sigmoid\", kernel_initializer=\"uniform\")`\n",
      "C:\\Users\\user\\Anaconda3\\lib\\site-packages\\keras\\models.py:844: UserWarning: The `nb_epoch` argument in `fit` has been renamed `epochs`.\n",
      "  warnings.warn('The `nb_epoch` argument in `fit` '\n"
     ]
    },
    {
     "name": "stdout",
     "output_type": "stream",
     "text": [
      "Epoch 1/200\n",
      "200/200 [==============================] - 0s - loss: 0.6906 - acc: 0.5700     \n",
      "Epoch 2/200\n",
      "200/200 [==============================] - 0s - loss: 0.6760 - acc: 0.7200     \n",
      "Epoch 3/200\n",
      "200/200 [==============================] - 0s - loss: 0.6396 - acc: 0.9250     \n",
      "Epoch 4/200\n",
      "200/200 [==============================] - 0s - loss: 0.5815 - acc: 0.9550     \n",
      "Epoch 5/200\n",
      "200/200 [==============================] - 0s - loss: 0.5139 - acc: 0.9800     \n",
      "Epoch 6/200\n",
      "200/200 [==============================] - 0s - loss: 0.4458 - acc: 0.9800     \n",
      "Epoch 7/200\n",
      "200/200 [==============================] - 0s - loss: 0.3832 - acc: 0.9800     \n",
      "Epoch 8/200\n",
      "200/200 [==============================] - 0s - loss: 0.3288 - acc: 0.9900     \n",
      "Epoch 9/200\n",
      "200/200 [==============================] - 0s - loss: 0.2823 - acc: 0.9900     \n",
      "Epoch 10/200\n",
      "200/200 [==============================] - 0s - loss: 0.2423 - acc: 0.9950     \n",
      "Epoch 11/200\n",
      "200/200 [==============================] - 0s - loss: 0.2096 - acc: 0.9950     \n",
      "Epoch 12/200\n",
      "200/200 [==============================] - 0s - loss: 0.1816 - acc: 0.9950     \n",
      "Epoch 13/200\n",
      "200/200 [==============================] - 0s - loss: 0.1591 - acc: 0.9950     \n",
      "Epoch 14/200\n",
      "200/200 [==============================] - 0s - loss: 0.1400 - acc: 0.9950     \n",
      "Epoch 15/200\n",
      "200/200 [==============================] - 0s - loss: 0.1245 - acc: 0.9950     \n",
      "Epoch 16/200\n",
      "200/200 [==============================] - 0s - loss: 0.1112 - acc: 0.9950     \n",
      "Epoch 17/200\n",
      "200/200 [==============================] - 0s - loss: 0.1000 - acc: 0.9950     \n",
      "Epoch 18/200\n",
      "200/200 [==============================] - 0s - loss: 0.0905 - acc: 0.9950     \n",
      "Epoch 19/200\n",
      "200/200 [==============================] - 0s - loss: 0.0826 - acc: 0.9950     \n",
      "Epoch 20/200\n",
      "200/200 [==============================] - 0s - loss: 0.0756 - acc: 0.9950     \n",
      "Epoch 21/200\n",
      "200/200 [==============================] - 0s - loss: 0.0696 - acc: 0.9950     \n",
      "Epoch 22/200\n",
      "200/200 [==============================] - 0s - loss: 0.0645 - acc: 0.9950     \n",
      "Epoch 23/200\n",
      "200/200 [==============================] - 0s - loss: 0.0599 - acc: 0.9950     \n",
      "Epoch 24/200\n",
      "200/200 [==============================] - 0s - loss: 0.0554 - acc: 0.9950     \n",
      "Epoch 25/200\n",
      "200/200 [==============================] - 0s - loss: 0.0519 - acc: 0.9950     \n",
      "Epoch 26/200\n",
      "200/200 [==============================] - 0s - loss: 0.0485 - acc: 0.9950     \n",
      "Epoch 27/200\n",
      "200/200 [==============================] - 0s - loss: 0.0457 - acc: 0.9950     \n",
      "Epoch 28/200\n",
      "200/200 [==============================] - 0s - loss: 0.0429 - acc: 0.9950     \n",
      "Epoch 29/200\n",
      "200/200 [==============================] - 0s - loss: 0.0404 - acc: 0.9950     \n",
      "Epoch 30/200\n",
      "200/200 [==============================] - 0s - loss: 0.0384 - acc: 0.9950     \n",
      "Epoch 31/200\n",
      "200/200 [==============================] - 0s - loss: 0.0362 - acc: 0.9950     \n",
      "Epoch 32/200\n",
      "200/200 [==============================] - 0s - loss: 0.0345 - acc: 0.9950     \n",
      "Epoch 33/200\n",
      "200/200 [==============================] - 0s - loss: 0.0326 - acc: 0.9950     \n",
      "Epoch 34/200\n",
      "200/200 [==============================] - 0s - loss: 0.0311 - acc: 0.9950     \n",
      "Epoch 35/200\n",
      "200/200 [==============================] - 0s - loss: 0.0294 - acc: 0.9950     \n",
      "Epoch 36/200\n",
      "200/200 [==============================] - 0s - loss: 0.0281 - acc: 0.9950     \n",
      "Epoch 37/200\n",
      "200/200 [==============================] - 0s - loss: 0.0268 - acc: 0.9950     \n",
      "Epoch 38/200\n",
      "200/200 [==============================] - 0s - loss: 0.0256 - acc: 1.0000     \n",
      "Epoch 39/200\n",
      "200/200 [==============================] - 0s - loss: 0.0244 - acc: 1.0000     \n",
      "Epoch 40/200\n",
      "200/200 [==============================] - 0s - loss: 0.0234 - acc: 1.0000     \n",
      "Epoch 41/200\n",
      "200/200 [==============================] - 0s - loss: 0.0223 - acc: 1.0000     \n",
      "Epoch 42/200\n",
      "200/200 [==============================] - 0s - loss: 0.0214 - acc: 1.0000     \n",
      "Epoch 43/200\n",
      "200/200 [==============================] - 0s - loss: 0.0205 - acc: 1.0000     \n",
      "Epoch 44/200\n",
      "200/200 [==============================] - 0s - loss: 0.0197 - acc: 1.0000     \n",
      "Epoch 45/200\n",
      "200/200 [==============================] - 0s - loss: 0.0190 - acc: 1.0000     \n",
      "Epoch 46/200\n",
      "200/200 [==============================] - 0s - loss: 0.0181 - acc: 1.0000     \n",
      "Epoch 47/200\n",
      "200/200 [==============================] - 0s - loss: 0.0174 - acc: 1.0000     \n",
      "Epoch 48/200\n",
      "200/200 [==============================] - 0s - loss: 0.0167 - acc: 1.0000     \n",
      "Epoch 49/200\n",
      "200/200 [==============================] - 0s - loss: 0.0161 - acc: 1.0000     \n",
      "Epoch 50/200\n",
      "200/200 [==============================] - 0s - loss: 0.0155 - acc: 1.0000     \n",
      "Epoch 51/200\n",
      "200/200 [==============================] - 0s - loss: 0.0149 - acc: 1.0000     \n",
      "Epoch 52/200\n",
      "200/200 [==============================] - 0s - loss: 0.0144 - acc: 1.0000     \n",
      "Epoch 53/200\n",
      "200/200 [==============================] - 0s - loss: 0.0138 - acc: 1.0000     \n",
      "Epoch 54/200\n",
      "200/200 [==============================] - 0s - loss: 0.0133 - acc: 1.0000     \n",
      "Epoch 55/200\n",
      "200/200 [==============================] - 0s - loss: 0.0128 - acc: 1.0000     \n",
      "Epoch 56/200\n",
      "200/200 [==============================] - 0s - loss: 0.0124 - acc: 1.0000     \n",
      "Epoch 57/200\n",
      "200/200 [==============================] - 0s - loss: 0.0119 - acc: 1.0000     \n",
      "Epoch 58/200\n",
      "200/200 [==============================] - 0s - loss: 0.0115 - acc: 1.0000     \n",
      "Epoch 59/200\n",
      "200/200 [==============================] - 0s - loss: 0.0111 - acc: 1.0000     \n",
      "Epoch 60/200\n",
      "200/200 [==============================] - 0s - loss: 0.0107 - acc: 1.0000     \n",
      "Epoch 61/200\n",
      "200/200 [==============================] - 0s - loss: 0.0104 - acc: 1.0000     \n",
      "Epoch 62/200\n",
      "200/200 [==============================] - 0s - loss: 0.0100 - acc: 1.0000     \n",
      "Epoch 63/200\n",
      "200/200 [==============================] - 0s - loss: 0.0097 - acc: 1.0000     \n",
      "Epoch 64/200\n",
      "200/200 [==============================] - 0s - loss: 0.0094 - acc: 1.0000     \n",
      "Epoch 65/200\n",
      "200/200 [==============================] - 0s - loss: 0.0091 - acc: 1.0000     \n",
      "Epoch 66/200\n",
      "200/200 [==============================] - 0s - loss: 0.0088 - acc: 1.0000     \n",
      "Epoch 67/200\n",
      "200/200 [==============================] - 0s - loss: 0.0085 - acc: 1.0000     \n",
      "Epoch 68/200\n",
      "200/200 [==============================] - 0s - loss: 0.0082 - acc: 1.0000     \n",
      "Epoch 69/200\n",
      "200/200 [==============================] - 0s - loss: 0.0080 - acc: 1.0000     \n",
      "Epoch 70/200\n",
      "200/200 [==============================] - 0s - loss: 0.0077 - acc: 1.0000     \n",
      "Epoch 71/200\n",
      "200/200 [==============================] - 0s - loss: 0.0074 - acc: 1.0000     \n",
      "Epoch 72/200\n",
      "200/200 [==============================] - 0s - loss: 0.0072 - acc: 1.0000     \n",
      "Epoch 73/200\n",
      "200/200 [==============================] - 0s - loss: 0.0070 - acc: 1.0000     \n",
      "Epoch 74/200\n",
      "200/200 [==============================] - 0s - loss: 0.0068 - acc: 1.0000     \n",
      "Epoch 75/200\n",
      "200/200 [==============================] - 0s - loss: 0.0066 - acc: 1.0000     \n",
      "Epoch 76/200\n",
      "200/200 [==============================] - 0s - loss: 0.0064 - acc: 1.0000     \n",
      "Epoch 77/200\n",
      "200/200 [==============================] - 0s - loss: 0.0062 - acc: 1.0000     \n",
      "Epoch 78/200\n",
      "200/200 [==============================] - 0s - loss: 0.0060 - acc: 1.0000     \n",
      "Epoch 79/200\n",
      "200/200 [==============================] - 0s - loss: 0.0058 - acc: 1.0000     \n",
      "Epoch 80/200\n",
      "200/200 [==============================] - 0s - loss: 0.0056 - acc: 1.0000     \n",
      "Epoch 81/200\n",
      "200/200 [==============================] - 0s - loss: 0.0055 - acc: 1.0000     \n",
      "Epoch 82/200\n",
      "200/200 [==============================] - 0s - loss: 0.0053 - acc: 1.0000     \n",
      "Epoch 83/200\n",
      "200/200 [==============================] - 0s - loss: 0.0051 - acc: 1.0000         \n",
      "Epoch 84/200\n",
      "200/200 [==============================] - 0s - loss: 0.0050 - acc: 1.0000     \n",
      "Epoch 85/200\n",
      "200/200 [==============================] - 0s - loss: 0.0048 - acc: 1.0000     \n",
      "Epoch 86/200\n",
      "200/200 [==============================] - 0s - loss: 0.0047 - acc: 1.0000         \n",
      "Epoch 87/200\n",
      "200/200 [==============================] - 0s - loss: 0.0046 - acc: 1.0000     \n",
      "Epoch 88/200\n",
      "200/200 [==============================] - 0s - loss: 0.0044 - acc: 1.0000     \n",
      "Epoch 89/200\n"
     ]
    },
    {
     "name": "stdout",
     "output_type": "stream",
     "text": [
      "200/200 [==============================] - 0s - loss: 0.0043 - acc: 1.0000     \n",
      "Epoch 90/200\n",
      "200/200 [==============================] - 0s - loss: 0.0042 - acc: 1.0000     \n",
      "Epoch 91/200\n",
      "200/200 [==============================] - 0s - loss: 0.0041 - acc: 1.0000     \n",
      "Epoch 92/200\n",
      "200/200 [==============================] - 0s - loss: 0.0040 - acc: 1.0000     \n",
      "Epoch 93/200\n",
      "200/200 [==============================] - 0s - loss: 0.0039 - acc: 1.0000     \n",
      "Epoch 94/200\n",
      "200/200 [==============================] - 0s - loss: 0.0037 - acc: 1.0000     \n",
      "Epoch 95/200\n",
      "200/200 [==============================] - 0s - loss: 0.0036 - acc: 1.0000     \n",
      "Epoch 96/200\n",
      "200/200 [==============================] - 0s - loss: 0.0035 - acc: 1.0000     \n",
      "Epoch 97/200\n",
      "200/200 [==============================] - 0s - loss: 0.0035 - acc: 1.0000     \n",
      "Epoch 98/200\n",
      "200/200 [==============================] - 0s - loss: 0.0034 - acc: 1.0000         \n",
      "Epoch 99/200\n",
      "200/200 [==============================] - 0s - loss: 0.0033 - acc: 1.0000     \n",
      "Epoch 100/200\n",
      "200/200 [==============================] - 0s - loss: 0.0032 - acc: 1.0000         \n",
      "Epoch 101/200\n",
      "200/200 [==============================] - 0s - loss: 0.0031 - acc: 1.0000         \n",
      "Epoch 102/200\n",
      "200/200 [==============================] - 0s - loss: 0.0030 - acc: 1.0000     \n",
      "Epoch 103/200\n",
      "200/200 [==============================] - 0s - loss: 0.0029 - acc: 1.0000         \n",
      "Epoch 104/200\n",
      "200/200 [==============================] - 0s - loss: 0.0028 - acc: 1.0000     \n",
      "Epoch 105/200\n",
      "200/200 [==============================] - 0s - loss: 0.0028 - acc: 1.0000     \n",
      "Epoch 106/200\n",
      "200/200 [==============================] - 0s - loss: 0.0027 - acc: 1.0000     \n",
      "Epoch 107/200\n",
      "200/200 [==============================] - 0s - loss: 0.0026 - acc: 1.0000     \n",
      "Epoch 108/200\n",
      "200/200 [==============================] - 0s - loss: 0.0026 - acc: 1.0000         \n",
      "Epoch 109/200\n",
      "200/200 [==============================] - 0s - loss: 0.0025 - acc: 1.0000         \n",
      "Epoch 110/200\n",
      "200/200 [==============================] - 0s - loss: 0.0024 - acc: 1.0000         \n",
      "Epoch 111/200\n",
      "200/200 [==============================] - 0s - loss: 0.0024 - acc: 1.0000         \n",
      "Epoch 112/200\n",
      "200/200 [==============================] - 0s - loss: 0.0023 - acc: 1.0000         \n",
      "Epoch 113/200\n",
      "200/200 [==============================] - 0s - loss: 0.0022 - acc: 1.0000     \n",
      "Epoch 114/200\n",
      "200/200 [==============================] - 0s - loss: 0.0022 - acc: 1.0000         \n",
      "Epoch 115/200\n",
      "200/200 [==============================] - 0s - loss: 0.0021 - acc: 1.0000     \n",
      "Epoch 116/200\n",
      "200/200 [==============================] - 0s - loss: 0.0021 - acc: 1.0000         \n",
      "Epoch 117/200\n",
      "200/200 [==============================] - 0s - loss: 0.0020 - acc: 1.0000         \n",
      "Epoch 118/200\n",
      "200/200 [==============================] - 0s - loss: 0.0020 - acc: 1.0000         \n",
      "Epoch 119/200\n",
      "200/200 [==============================] - 0s - loss: 0.0019 - acc: 1.0000     \n",
      "Epoch 120/200\n",
      "200/200 [==============================] - 0s - loss: 0.0019 - acc: 1.0000     \n",
      "Epoch 121/200\n",
      "200/200 [==============================] - 0s - loss: 0.0018 - acc: 1.0000         \n",
      "Epoch 122/200\n",
      "200/200 [==============================] - 0s - loss: 0.0018 - acc: 1.0000     \n",
      "Epoch 123/200\n",
      "200/200 [==============================] - 0s - loss: 0.0017 - acc: 1.0000     \n",
      "Epoch 124/200\n",
      "200/200 [==============================] - 0s - loss: 0.0017 - acc: 1.0000     \n",
      "Epoch 125/200\n",
      "200/200 [==============================] - 0s - loss: 0.0016 - acc: 1.0000     \n",
      "Epoch 126/200\n",
      "200/200 [==============================] - 0s - loss: 0.0016 - acc: 1.0000         \n",
      "Epoch 127/200\n",
      "200/200 [==============================] - 0s - loss: 0.0016 - acc: 1.0000         \n",
      "Epoch 128/200\n",
      "200/200 [==============================] - 0s - loss: 0.0015 - acc: 1.0000         \n",
      "Epoch 129/200\n",
      "200/200 [==============================] - 0s - loss: 0.0015 - acc: 1.0000     \n",
      "Epoch 130/200\n",
      "200/200 [==============================] - 0s - loss: 0.0015 - acc: 1.0000         \n",
      "Epoch 131/200\n",
      "200/200 [==============================] - 0s - loss: 0.0014 - acc: 1.0000         \n",
      "Epoch 132/200\n",
      "200/200 [==============================] - 0s - loss: 0.0014 - acc: 1.0000         \n",
      "Epoch 133/200\n",
      "200/200 [==============================] - 0s - loss: 0.0013 - acc: 1.0000     \n",
      "Epoch 134/200\n",
      "200/200 [==============================] - 0s - loss: 0.0013 - acc: 1.0000         \n",
      "Epoch 135/200\n",
      "200/200 [==============================] - 0s - loss: 0.0013 - acc: 1.0000     \n",
      "Epoch 136/200\n",
      "200/200 [==============================] - 0s - loss: 0.0012 - acc: 1.0000         \n",
      "Epoch 137/200\n",
      "200/200 [==============================] - 0s - loss: 0.0012 - acc: 1.0000         \n",
      "Epoch 138/200\n",
      "200/200 [==============================] - 0s - loss: 0.0012 - acc: 1.0000         \n",
      "Epoch 139/200\n",
      "200/200 [==============================] - 0s - loss: 0.0012 - acc: 1.0000     \n",
      "Epoch 140/200\n",
      "200/200 [==============================] - ETA: 0s - loss: 0.0085 - acc: 1.000 - 0s - loss: 0.0011 - acc: 1.0000     \n",
      "Epoch 141/200\n",
      "200/200 [==============================] - 0s - loss: 0.0011 - acc: 1.0000         \n",
      "Epoch 142/200\n",
      "200/200 [==============================] - 0s - loss: 0.0011 - acc: 1.0000         \n",
      "Epoch 143/200\n",
      "200/200 [==============================] - 0s - loss: 0.0011 - acc: 1.0000         \n",
      "Epoch 144/200\n",
      "200/200 [==============================] - 0s - loss: 0.0010 - acc: 1.0000         \n",
      "Epoch 145/200\n",
      "200/200 [==============================] - 0s - loss: 0.0010 - acc: 1.0000         \n",
      "Epoch 146/200\n",
      "200/200 [==============================] - 0s - loss: 9.7668e-04 - acc: 1.0000 \n",
      "Epoch 147/200\n",
      "200/200 [==============================] - 0s - loss: 9.5214e-04 - acc: 1.0000     \n",
      "Epoch 148/200\n",
      "200/200 [==============================] - 0s - loss: 9.3262e-04 - acc: 1.0000     \n",
      "Epoch 149/200\n",
      "200/200 [==============================] - 0s - loss: 9.0966e-04 - acc: 1.0000     \n",
      "Epoch 150/200\n",
      "200/200 [==============================] - 0s - loss: 8.8756e-04 - acc: 1.0000     \n",
      "Epoch 151/200\n",
      "200/200 [==============================] - 0s - loss: 8.6507e-04 - acc: 1.0000 \n",
      "Epoch 152/200\n",
      "200/200 [==============================] - 0s - loss: 8.4702e-04 - acc: 1.0000     \n",
      "Epoch 153/200\n",
      "200/200 [==============================] - 0s - loss: 8.2948e-04 - acc: 1.0000     \n",
      "Epoch 154/200\n",
      "200/200 [==============================] - 0s - loss: 8.0901e-04 - acc: 1.0000     \n",
      "Epoch 155/200\n",
      "200/200 [==============================] - 0s - loss: 7.8666e-04 - acc: 1.0000     \n",
      "Epoch 156/200\n",
      "200/200 [==============================] - 0s - loss: 7.6955e-04 - acc: 1.0000     \n",
      "Epoch 157/200\n",
      "200/200 [==============================] - 0s - loss: 7.4920e-04 - acc: 1.0000     \n",
      "Epoch 158/200\n",
      "200/200 [==============================] - 0s - loss: 7.3418e-04 - acc: 1.0000 \n",
      "Epoch 159/200\n",
      "200/200 [==============================] - 0s - loss: 7.1645e-04 - acc: 1.0000     \n",
      "Epoch 160/200\n",
      "200/200 [==============================] - 0s - loss: 7.0071e-04 - acc: 1.0000 \n",
      "Epoch 161/200\n",
      "200/200 [==============================] - 0s - loss: 6.8447e-04 - acc: 1.0000     \n",
      "Epoch 162/200\n",
      "200/200 [==============================] - 0s - loss: 6.6989e-04 - acc: 1.0000     \n",
      "Epoch 163/200\n",
      "200/200 [==============================] - 0s - loss: 6.4991e-04 - acc: 1.0000     \n",
      "Epoch 164/200\n",
      "200/200 [==============================] - 0s - loss: 6.3571e-04 - acc: 1.0000 \n",
      "Epoch 165/200\n",
      "200/200 [==============================] - 0s - loss: 6.2089e-04 - acc: 1.0000     \n",
      "Epoch 166/200\n",
      "200/200 [==============================] - 0s - loss: 6.1232e-04 - acc: 1.0000 \n",
      "Epoch 167/200\n",
      "200/200 [==============================] - 0s - loss: 5.9205e-04 - acc: 1.0000 \n",
      "Epoch 168/200\n",
      "200/200 [==============================] - 0s - loss: 5.8016e-04 - acc: 1.0000     \n",
      "Epoch 169/200\n",
      "200/200 [==============================] - 0s - loss: 5.6454e-04 - acc: 1.0000 \n",
      "Epoch 170/200\n",
      "200/200 [==============================] - 0s - loss: 5.5483e-04 - acc: 1.0000 \n",
      "Epoch 171/200\n",
      "200/200 [==============================] - 0s - loss: 5.4003e-04 - acc: 1.0000 \n",
      "Epoch 172/200\n",
      "200/200 [==============================] - 0s - loss: 5.2747e-04 - acc: 1.0000     \n",
      "Epoch 173/200\n",
      "200/200 [==============================] - 0s - loss: 5.1558e-04 - acc: 1.0000     \n",
      "Epoch 174/200\n"
     ]
    },
    {
     "name": "stdout",
     "output_type": "stream",
     "text": [
      "200/200 [==============================] - 0s - loss: 5.0751e-04 - acc: 1.0000     \n",
      "Epoch 175/200\n",
      "200/200 [==============================] - 0s - loss: 4.9152e-04 - acc: 1.0000     \n",
      "Epoch 176/200\n",
      "200/200 [==============================] - 0s - loss: 4.8046e-04 - acc: 1.0000     \n",
      "Epoch 177/200\n",
      "200/200 [==============================] - 0s - loss: 4.6863e-04 - acc: 1.0000     \n",
      "Epoch 178/200\n",
      "200/200 [==============================] - 0s - loss: 4.5910e-04 - acc: 1.0000     \n",
      "Epoch 179/200\n",
      "200/200 [==============================] - 0s - loss: 4.4891e-04 - acc: 1.0000     \n",
      "Epoch 180/200\n",
      "200/200 [==============================] - 0s - loss: 4.3780e-04 - acc: 1.0000     \n",
      "Epoch 181/200\n",
      "200/200 [==============================] - 0s - loss: 4.2922e-04 - acc: 1.0000     \n",
      "Epoch 182/200\n",
      "200/200 [==============================] - 0s - loss: 4.1767e-04 - acc: 1.0000     \n",
      "Epoch 183/200\n",
      "200/200 [==============================] - 0s - loss: 4.0993e-04 - acc: 1.0000     \n",
      "Epoch 184/200\n",
      "200/200 [==============================] - 0s - loss: 4.0008e-04 - acc: 1.0000     \n",
      "Epoch 185/200\n",
      "200/200 [==============================] - 0s - loss: 3.9198e-04 - acc: 1.0000 \n",
      "Epoch 186/200\n",
      "200/200 [==============================] - 0s - loss: 3.8141e-04 - acc: 1.0000     \n",
      "Epoch 187/200\n",
      "200/200 [==============================] - 0s - loss: 3.7291e-04 - acc: 1.0000 \n",
      "Epoch 188/200\n",
      "200/200 [==============================] - 0s - loss: 3.6457e-04 - acc: 1.0000 \n",
      "Epoch 189/200\n",
      "200/200 [==============================] - 0s - loss: 3.5775e-04 - acc: 1.0000     \n",
      "Epoch 190/200\n",
      "200/200 [==============================] - ETA: 0s - loss: 1.0786e-05 - acc: 1.000 - 0s - loss: 3.4870e-04 - acc: 1.0000     \n",
      "Epoch 191/200\n",
      "200/200 [==============================] - 0s - loss: 3.3975e-04 - acc: 1.0000     \n",
      "Epoch 192/200\n",
      "200/200 [==============================] - 0s - loss: 3.3269e-04 - acc: 1.0000     \n",
      "Epoch 193/200\n",
      "200/200 [==============================] - 0s - loss: 3.2575e-04 - acc: 1.0000 \n",
      "Epoch 194/200\n",
      "200/200 [==============================] - 0s - loss: 3.1717e-04 - acc: 1.0000 \n",
      "Epoch 195/200\n",
      "200/200 [==============================] - 0s - loss: 3.1048e-04 - acc: 1.0000     \n",
      "Epoch 196/200\n",
      "200/200 [==============================] - 0s - loss: 3.0372e-04 - acc: 1.0000     \n",
      "Epoch 197/200\n",
      "200/200 [==============================] - 0s - loss: 2.9762e-04 - acc: 1.0000     \n",
      "Epoch 198/200\n",
      "200/200 [==============================] - 0s - loss: 2.8957e-04 - acc: 1.0000     \n",
      "Epoch 199/200\n",
      "200/200 [==============================] - 0s - loss: 2.8461e-04 - acc: 1.0000 \n",
      "Epoch 200/200\n",
      "200/200 [==============================] - 0s - loss: 2.7830e-04 - acc: 1.0000     \n"
     ]
    },
    {
     "data": {
      "text/plain": [
       "<keras.callbacks.History at 0xe21ffd2c88>"
      ]
     },
     "execution_count": 36,
     "metadata": {},
     "output_type": "execute_result"
    }
   ],
   "source": [
    "clf_ann = Sequential()\n",
    "\n",
    "# First Hidden Layer\n",
    "clf_ann.add(Dense(output_dim = 6, init = 'uniform', activation = 'relu', input_dim = 12))\n",
    "\n",
    "# Second Hidden Layer\n",
    "#clf_ann.add(Dense(output_dim = , init = 'uniform', activation = 'relu'))\n",
    "\n",
    "# Output Layer\n",
    "clf_ann.add(Dense(output_dim = 1, init = 'uniform', activation = 'sigmoid'))\n",
    "\n",
    "# Compile the ANN\n",
    "clf_ann.compile(optimizer = 'adam', loss = 'binary_crossentropy', metrics = ['accuracy'])\n",
    "\n",
    "# Train the ANN on the Train Data\n",
    "clf_ann.fit(X_train, Y_train, batch_size = 5, nb_epoch = 200)"
   ]
  },
  {
   "cell_type": "code",
   "execution_count": 37,
   "metadata": {
    "collapsed": true
   },
   "outputs": [],
   "source": [
    "# Test the ANN on the Test Data\n",
    "Y_pred = clf_ann.predict(X_test)\n",
    "Y_pred = (Y_pred > 0.5)"
   ]
  },
  {
   "cell_type": "markdown",
   "metadata": {},
   "source": [
    "## Check the Accuracy"
   ]
  },
  {
   "cell_type": "code",
   "execution_count": 38,
   "metadata": {
    "collapsed": true
   },
   "outputs": [],
   "source": [
    "from sklearn.metrics import accuracy_score, confusion_matrix"
   ]
  },
  {
   "cell_type": "code",
   "execution_count": 39,
   "metadata": {},
   "outputs": [
    {
     "data": {
      "text/plain": [
       "1.0"
      ]
     },
     "execution_count": 39,
     "metadata": {},
     "output_type": "execute_result"
    }
   ],
   "source": [
    "accuracy_score(Y_test, Y_pred)"
   ]
  },
  {
   "cell_type": "code",
   "execution_count": 40,
   "metadata": {},
   "outputs": [
    {
     "data": {
      "text/plain": [
       "array([[21,  0],\n",
       "       [ 0, 29]], dtype=int64)"
      ]
     },
     "execution_count": 40,
     "metadata": {},
     "output_type": "execute_result"
    }
   ],
   "source": [
    "confusion_matrix(Y_test, Y_pred)"
   ]
  },
  {
   "cell_type": "code",
   "execution_count": null,
   "metadata": {
    "collapsed": true
   },
   "outputs": [],
   "source": []
  }
 ],
 "metadata": {
  "kernelspec": {
   "display_name": "Python [default]",
   "language": "python",
   "name": "python3"
  },
  "language_info": {
   "codemirror_mode": {
    "name": "ipython",
    "version": 3
   },
   "file_extension": ".py",
   "mimetype": "text/x-python",
   "name": "python",
   "nbconvert_exporter": "python",
   "pygments_lexer": "ipython3",
   "version": "3.5.4"
  }
 },
 "nbformat": 4,
 "nbformat_minor": 2
}
