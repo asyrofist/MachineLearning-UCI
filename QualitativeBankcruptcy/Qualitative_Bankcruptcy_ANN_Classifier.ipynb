{
 "cells": [
  {
   "cell_type": "markdown",
   "metadata": {},
   "source": [
    "## Initialization"
   ]
  },
  {
   "cell_type": "code",
   "execution_count": 1,
   "metadata": {},
   "outputs": [
    {
     "name": "stderr",
     "output_type": "stream",
     "text": [
      "Using Theano backend.\n"
     ]
    }
   ],
   "source": [
    "import pandas as pd\n",
    "import numpy as np\n",
    "import keras"
   ]
  },
  {
   "cell_type": "markdown",
   "metadata": {},
   "source": [
    "## Importing the Data"
   ]
  },
  {
   "cell_type": "code",
   "execution_count": 2,
   "metadata": {},
   "outputs": [
    {
     "data": {
      "text/plain": [
       "(250, 7)"
      ]
     },
     "execution_count": 2,
     "metadata": {},
     "output_type": "execute_result"
    }
   ],
   "source": [
    "dataset = pd.read_csv('Qualitative_Bankruptcy.data.txt', header = None)\n",
    "dataset.shape"
   ]
  },
  {
   "cell_type": "code",
   "execution_count": 3,
   "metadata": {},
   "outputs": [
    {
     "data": {
      "text/html": [
       "<div>\n",
       "<style>\n",
       "    .dataframe thead tr:only-child th {\n",
       "        text-align: right;\n",
       "    }\n",
       "\n",
       "    .dataframe thead th {\n",
       "        text-align: left;\n",
       "    }\n",
       "\n",
       "    .dataframe tbody tr th {\n",
       "        vertical-align: top;\n",
       "    }\n",
       "</style>\n",
       "<table border=\"1\" class=\"dataframe\">\n",
       "  <thead>\n",
       "    <tr style=\"text-align: right;\">\n",
       "      <th></th>\n",
       "      <th>0</th>\n",
       "      <th>1</th>\n",
       "      <th>2</th>\n",
       "      <th>3</th>\n",
       "      <th>4</th>\n",
       "      <th>5</th>\n",
       "      <th>6</th>\n",
       "    </tr>\n",
       "  </thead>\n",
       "  <tbody>\n",
       "    <tr>\n",
       "      <th>0</th>\n",
       "      <td>P</td>\n",
       "      <td>P</td>\n",
       "      <td>A</td>\n",
       "      <td>A</td>\n",
       "      <td>A</td>\n",
       "      <td>P</td>\n",
       "      <td>NB</td>\n",
       "    </tr>\n",
       "    <tr>\n",
       "      <th>1</th>\n",
       "      <td>N</td>\n",
       "      <td>N</td>\n",
       "      <td>A</td>\n",
       "      <td>A</td>\n",
       "      <td>A</td>\n",
       "      <td>N</td>\n",
       "      <td>NB</td>\n",
       "    </tr>\n",
       "    <tr>\n",
       "      <th>2</th>\n",
       "      <td>A</td>\n",
       "      <td>A</td>\n",
       "      <td>A</td>\n",
       "      <td>A</td>\n",
       "      <td>A</td>\n",
       "      <td>A</td>\n",
       "      <td>NB</td>\n",
       "    </tr>\n",
       "    <tr>\n",
       "      <th>3</th>\n",
       "      <td>P</td>\n",
       "      <td>P</td>\n",
       "      <td>P</td>\n",
       "      <td>P</td>\n",
       "      <td>P</td>\n",
       "      <td>P</td>\n",
       "      <td>NB</td>\n",
       "    </tr>\n",
       "    <tr>\n",
       "      <th>4</th>\n",
       "      <td>N</td>\n",
       "      <td>N</td>\n",
       "      <td>P</td>\n",
       "      <td>P</td>\n",
       "      <td>P</td>\n",
       "      <td>N</td>\n",
       "      <td>NB</td>\n",
       "    </tr>\n",
       "  </tbody>\n",
       "</table>\n",
       "</div>"
      ],
      "text/plain": [
       "   0  1  2  3  4  5   6\n",
       "0  P  P  A  A  A  P  NB\n",
       "1  N  N  A  A  A  N  NB\n",
       "2  A  A  A  A  A  A  NB\n",
       "3  P  P  P  P  P  P  NB\n",
       "4  N  N  P  P  P  N  NB"
      ]
     },
     "execution_count": 3,
     "metadata": {},
     "output_type": "execute_result"
    }
   ],
   "source": [
    "dataset.head()"
   ]
  },
  {
   "cell_type": "markdown",
   "metadata": {},
   "source": [
    "## Create X and Y"
   ]
  },
  {
   "cell_type": "code",
   "execution_count": 4,
   "metadata": {
    "collapsed": true
   },
   "outputs": [],
   "source": [
    "X = dataset.iloc[:, 0:6].values\n",
    "Y = dataset.iloc[:, 6].values"
   ]
  },
  {
   "cell_type": "code",
   "execution_count": 5,
   "metadata": {},
   "outputs": [
    {
     "data": {
      "text/plain": [
       "(250, 6)"
      ]
     },
     "execution_count": 5,
     "metadata": {},
     "output_type": "execute_result"
    }
   ],
   "source": [
    "X.shape"
   ]
  },
  {
   "cell_type": "code",
   "execution_count": 6,
   "metadata": {},
   "outputs": [
    {
     "data": {
      "text/plain": [
       "(250,)"
      ]
     },
     "execution_count": 6,
     "metadata": {},
     "output_type": "execute_result"
    }
   ],
   "source": [
    "Y.shape"
   ]
  },
  {
   "cell_type": "code",
   "execution_count": 7,
   "metadata": {},
   "outputs": [
    {
     "data": {
      "text/plain": [
       "array([['P', 'P', 'A', 'A', 'A', 'P'],\n",
       "       ['N', 'N', 'A', 'A', 'A', 'N'],\n",
       "       ['A', 'A', 'A', 'A', 'A', 'A'],\n",
       "       ..., \n",
       "       ['A', 'N', 'N', 'N', 'N', 'N'],\n",
       "       ['N', 'N', 'N', 'N', 'N', 'N'],\n",
       "       ['P', 'N', 'N', 'N', 'A', 'A']], dtype=object)"
      ]
     },
     "execution_count": 7,
     "metadata": {},
     "output_type": "execute_result"
    }
   ],
   "source": [
    "X"
   ]
  },
  {
   "cell_type": "code",
   "execution_count": 8,
   "metadata": {
    "scrolled": true
   },
   "outputs": [
    {
     "data": {
      "text/plain": [
       "array(['NB', 'NB', 'NB', 'NB', 'NB', 'NB', 'NB', 'NB', 'NB', 'NB', 'NB',\n",
       "       'NB', 'NB', 'NB', 'NB', 'NB', 'NB', 'NB', 'NB', 'NB', 'NB', 'NB',\n",
       "       'NB', 'NB', 'NB', 'NB', 'NB', 'NB', 'NB', 'NB', 'NB', 'NB', 'NB',\n",
       "       'NB', 'NB', 'NB', 'NB', 'NB', 'NB', 'NB', 'NB', 'NB', 'NB', 'NB',\n",
       "       'NB', 'NB', 'NB', 'NB', 'NB', 'NB', 'NB', 'NB', 'NB', 'NB', 'NB',\n",
       "       'NB', 'NB', 'NB', 'NB', 'NB', 'NB', 'NB', 'NB', 'NB', 'NB', 'NB',\n",
       "       'NB', 'NB', 'NB', 'NB', 'NB', 'NB', 'NB', 'NB', 'NB', 'NB', 'NB',\n",
       "       'NB', 'NB', 'NB', 'NB', 'NB', 'NB', 'NB', 'NB', 'NB', 'NB', 'NB',\n",
       "       'NB', 'NB', 'NB', 'NB', 'NB', 'NB', 'NB', 'NB', 'NB', 'NB', 'NB',\n",
       "       'NB', 'NB', 'NB', 'NB', 'NB', 'NB', 'NB', 'NB', 'NB', 'NB', 'NB',\n",
       "       'NB', 'NB', 'NB', 'NB', 'NB', 'NB', 'NB', 'NB', 'NB', 'NB', 'NB',\n",
       "       'NB', 'NB', 'NB', 'NB', 'NB', 'NB', 'NB', 'NB', 'NB', 'NB', 'NB',\n",
       "       'NB', 'NB', 'NB', 'NB', 'NB', 'NB', 'NB', 'NB', 'NB', 'NB', 'NB',\n",
       "       'B', 'B', 'B', 'B', 'B', 'B', 'B', 'B', 'B', 'B', 'B', 'B', 'B',\n",
       "       'B', 'B', 'B', 'B', 'B', 'B', 'B', 'B', 'B', 'B', 'B', 'B', 'B',\n",
       "       'B', 'B', 'B', 'B', 'B', 'B', 'B', 'B', 'B', 'B', 'B', 'B', 'B',\n",
       "       'B', 'B', 'B', 'B', 'B', 'B', 'B', 'B', 'B', 'B', 'B', 'B', 'B',\n",
       "       'B', 'B', 'B', 'B', 'B', 'B', 'B', 'B', 'B', 'B', 'B', 'B', 'B',\n",
       "       'B', 'B', 'B', 'B', 'B', 'B', 'B', 'B', 'B', 'B', 'B', 'B', 'B',\n",
       "       'B', 'B', 'B', 'B', 'B', 'B', 'B', 'B', 'B', 'B', 'B', 'B', 'B',\n",
       "       'B', 'B', 'B', 'B', 'B', 'B', 'B', 'B', 'B', 'B', 'B', 'B', 'B',\n",
       "       'B', 'B', 'B'], dtype=object)"
      ]
     },
     "execution_count": 8,
     "metadata": {},
     "output_type": "execute_result"
    }
   ],
   "source": [
    "Y"
   ]
  },
  {
   "cell_type": "markdown",
   "metadata": {},
   "source": [
    "## Preprocess the Data"
   ]
  },
  {
   "cell_type": "code",
   "execution_count": 9,
   "metadata": {
    "collapsed": true
   },
   "outputs": [],
   "source": [
    "from sklearn.preprocessing import LabelEncoder, OneHotEncoder, StandardScaler"
   ]
  },
  {
   "cell_type": "code",
   "execution_count": 10,
   "metadata": {
    "collapsed": true
   },
   "outputs": [],
   "source": [
    "le_Y = LabelEncoder()"
   ]
  },
  {
   "cell_type": "code",
   "execution_count": 11,
   "metadata": {},
   "outputs": [
    {
     "data": {
      "text/plain": [
       "array([1, 1, 1, 1, 1, 1, 1, 1, 1, 1, 1, 1, 1, 1, 1, 1, 1, 1, 1, 1, 1, 1, 1,\n",
       "       1, 1, 1, 1, 1, 1, 1, 1, 1, 1, 1, 1, 1, 1, 1, 1, 1, 1, 1, 1, 1, 1, 1,\n",
       "       1, 1, 1, 1, 1, 1, 1, 1, 1, 1, 1, 1, 1, 1, 1, 1, 1, 1, 1, 1, 1, 1, 1,\n",
       "       1, 1, 1, 1, 1, 1, 1, 1, 1, 1, 1, 1, 1, 1, 1, 1, 1, 1, 1, 1, 1, 1, 1,\n",
       "       1, 1, 1, 1, 1, 1, 1, 1, 1, 1, 1, 1, 1, 1, 1, 1, 1, 1, 1, 1, 1, 1, 1,\n",
       "       1, 1, 1, 1, 1, 1, 1, 1, 1, 1, 1, 1, 1, 1, 1, 1, 1, 1, 1, 1, 1, 1, 1,\n",
       "       1, 1, 1, 1, 1, 0, 0, 0, 0, 0, 0, 0, 0, 0, 0, 0, 0, 0, 0, 0, 0, 0, 0,\n",
       "       0, 0, 0, 0, 0, 0, 0, 0, 0, 0, 0, 0, 0, 0, 0, 0, 0, 0, 0, 0, 0, 0, 0,\n",
       "       0, 0, 0, 0, 0, 0, 0, 0, 0, 0, 0, 0, 0, 0, 0, 0, 0, 0, 0, 0, 0, 0, 0,\n",
       "       0, 0, 0, 0, 0, 0, 0, 0, 0, 0, 0, 0, 0, 0, 0, 0, 0, 0, 0, 0, 0, 0, 0,\n",
       "       0, 0, 0, 0, 0, 0, 0, 0, 0, 0, 0, 0, 0, 0, 0, 0, 0, 0, 0, 0], dtype=int64)"
      ]
     },
     "execution_count": 11,
     "metadata": {},
     "output_type": "execute_result"
    }
   ],
   "source": [
    "Y = le_Y.fit_transform(Y)\n",
    "Y"
   ]
  },
  {
   "cell_type": "code",
   "execution_count": 12,
   "metadata": {
    "collapsed": true
   },
   "outputs": [],
   "source": [
    "def encoder_X(index):\n",
    "    le_X = LabelEncoder()\n",
    "    X[:, index] = le_X.fit_transform(X[:, index])"
   ]
  },
  {
   "cell_type": "code",
   "execution_count": 13,
   "metadata": {
    "collapsed": true
   },
   "outputs": [],
   "source": [
    "for i in range(0, 6):\n",
    "    encoder_X(i)"
   ]
  },
  {
   "cell_type": "code",
   "execution_count": 14,
   "metadata": {},
   "outputs": [
    {
     "data": {
      "text/plain": [
       "array([[2, 2, 0, 0, 0, 2],\n",
       "       [1, 1, 0, 0, 0, 1],\n",
       "       [0, 0, 0, 0, 0, 0],\n",
       "       ..., \n",
       "       [0, 1, 1, 1, 1, 1],\n",
       "       [1, 1, 1, 1, 1, 1],\n",
       "       [2, 1, 1, 1, 0, 0]], dtype=object)"
      ]
     },
     "execution_count": 14,
     "metadata": {},
     "output_type": "execute_result"
    }
   ],
   "source": [
    "X"
   ]
  },
  {
   "cell_type": "code",
   "execution_count": 15,
   "metadata": {
    "collapsed": true
   },
   "outputs": [],
   "source": [
    "ohe_X = OneHotEncoder(categorical_features = [5])"
   ]
  },
  {
   "cell_type": "code",
   "execution_count": 16,
   "metadata": {},
   "outputs": [
    {
     "data": {
      "text/plain": [
       "(250, 7)"
      ]
     },
     "execution_count": 16,
     "metadata": {},
     "output_type": "execute_result"
    }
   ],
   "source": [
    "X = ohe_X.fit_transform(X).toarray()\n",
    "X = X[:, 1:]\n",
    "X.shape"
   ]
  },
  {
   "cell_type": "code",
   "execution_count": 17,
   "metadata": {
    "collapsed": true
   },
   "outputs": [],
   "source": [
    "ohe_X = OneHotEncoder(categorical_features = [6])"
   ]
  },
  {
   "cell_type": "code",
   "execution_count": 18,
   "metadata": {},
   "outputs": [
    {
     "data": {
      "text/plain": [
       "(250, 8)"
      ]
     },
     "execution_count": 18,
     "metadata": {},
     "output_type": "execute_result"
    }
   ],
   "source": [
    "X = ohe_X.fit_transform(X).toarray()\n",
    "X = X[:, 1:]\n",
    "X.shape"
   ]
  },
  {
   "cell_type": "code",
   "execution_count": 19,
   "metadata": {
    "collapsed": true
   },
   "outputs": [],
   "source": [
    "ohe_X = OneHotEncoder(categorical_features = [7])"
   ]
  },
  {
   "cell_type": "code",
   "execution_count": 20,
   "metadata": {},
   "outputs": [
    {
     "data": {
      "text/plain": [
       "(250, 9)"
      ]
     },
     "execution_count": 20,
     "metadata": {},
     "output_type": "execute_result"
    }
   ],
   "source": [
    "X = ohe_X.fit_transform(X).toarray()\n",
    "X = X[:, 1:]\n",
    "X.shape"
   ]
  },
  {
   "cell_type": "code",
   "execution_count": 21,
   "metadata": {
    "collapsed": true
   },
   "outputs": [],
   "source": [
    "ohe_X = OneHotEncoder(categorical_features = [8])"
   ]
  },
  {
   "cell_type": "code",
   "execution_count": 22,
   "metadata": {},
   "outputs": [
    {
     "data": {
      "text/plain": [
       "(250, 10)"
      ]
     },
     "execution_count": 22,
     "metadata": {},
     "output_type": "execute_result"
    }
   ],
   "source": [
    "X = ohe_X.fit_transform(X).toarray()\n",
    "X = X[:, 1:]\n",
    "X.shape"
   ]
  },
  {
   "cell_type": "code",
   "execution_count": 23,
   "metadata": {
    "collapsed": true
   },
   "outputs": [],
   "source": [
    "ohe_X = OneHotEncoder(categorical_features = [9])"
   ]
  },
  {
   "cell_type": "code",
   "execution_count": 24,
   "metadata": {},
   "outputs": [
    {
     "data": {
      "text/plain": [
       "(250, 11)"
      ]
     },
     "execution_count": 24,
     "metadata": {},
     "output_type": "execute_result"
    }
   ],
   "source": [
    "X = ohe_X.fit_transform(X).toarray()\n",
    "X = X[:, 1:]\n",
    "X.shape"
   ]
  },
  {
   "cell_type": "code",
   "execution_count": 25,
   "metadata": {
    "collapsed": true
   },
   "outputs": [],
   "source": [
    "ohe_X = OneHotEncoder(categorical_features = [10])"
   ]
  },
  {
   "cell_type": "code",
   "execution_count": 26,
   "metadata": {},
   "outputs": [
    {
     "data": {
      "text/plain": [
       "(250, 12)"
      ]
     },
     "execution_count": 26,
     "metadata": {},
     "output_type": "execute_result"
    }
   ],
   "source": [
    "X = ohe_X.fit_transform(X).toarray()\n",
    "X = X[:, 1:]\n",
    "X.shape"
   ]
  },
  {
   "cell_type": "markdown",
   "metadata": {},
   "source": [
    "## Create Train and Test Data"
   ]
  },
  {
   "cell_type": "code",
   "execution_count": 27,
   "metadata": {
    "collapsed": true
   },
   "outputs": [],
   "source": [
    "from sklearn.model_selection import train_test_split"
   ]
  },
  {
   "cell_type": "code",
   "execution_count": 28,
   "metadata": {
    "collapsed": true
   },
   "outputs": [],
   "source": [
    "X_train, X_test, Y_train, Y_test = train_test_split(X, Y, test_size = 0.2, random_state = 4)"
   ]
  },
  {
   "cell_type": "code",
   "execution_count": 29,
   "metadata": {},
   "outputs": [
    {
     "data": {
      "text/plain": [
       "(200, 12)"
      ]
     },
     "execution_count": 29,
     "metadata": {},
     "output_type": "execute_result"
    }
   ],
   "source": [
    "X_train.shape"
   ]
  },
  {
   "cell_type": "code",
   "execution_count": 30,
   "metadata": {},
   "outputs": [
    {
     "data": {
      "text/plain": [
       "(50, 12)"
      ]
     },
     "execution_count": 30,
     "metadata": {},
     "output_type": "execute_result"
    }
   ],
   "source": [
    "X_test.shape"
   ]
  },
  {
   "cell_type": "code",
   "execution_count": 31,
   "metadata": {},
   "outputs": [
    {
     "data": {
      "text/plain": [
       "(200,)"
      ]
     },
     "execution_count": 31,
     "metadata": {},
     "output_type": "execute_result"
    }
   ],
   "source": [
    "Y_train.shape"
   ]
  },
  {
   "cell_type": "code",
   "execution_count": 32,
   "metadata": {},
   "outputs": [
    {
     "data": {
      "text/plain": [
       "(50,)"
      ]
     },
     "execution_count": 32,
     "metadata": {},
     "output_type": "execute_result"
    }
   ],
   "source": [
    "Y_test.shape"
   ]
  },
  {
   "cell_type": "code",
   "execution_count": 33,
   "metadata": {},
   "outputs": [
    {
     "data": {
      "text/html": [
       "<div>\n",
       "<style>\n",
       "    .dataframe thead tr:only-child th {\n",
       "        text-align: right;\n",
       "    }\n",
       "\n",
       "    .dataframe thead th {\n",
       "        text-align: left;\n",
       "    }\n",
       "\n",
       "    .dataframe tbody tr th {\n",
       "        vertical-align: top;\n",
       "    }\n",
       "</style>\n",
       "<table border=\"1\" class=\"dataframe\">\n",
       "  <thead>\n",
       "    <tr style=\"text-align: right;\">\n",
       "      <th></th>\n",
       "      <th>0</th>\n",
       "    </tr>\n",
       "  </thead>\n",
       "  <tbody>\n",
       "    <tr>\n",
       "      <th>1</th>\n",
       "      <td>114</td>\n",
       "    </tr>\n",
       "    <tr>\n",
       "      <th>0</th>\n",
       "      <td>86</td>\n",
       "    </tr>\n",
       "  </tbody>\n",
       "</table>\n",
       "</div>"
      ],
      "text/plain": [
       "     0\n",
       "1  114\n",
       "0   86"
      ]
     },
     "execution_count": 33,
     "metadata": {},
     "output_type": "execute_result"
    }
   ],
   "source": [
    "pd.DataFrame(pd.DataFrame(Y_train)[0].value_counts())"
   ]
  },
  {
   "cell_type": "code",
   "execution_count": 34,
   "metadata": {},
   "outputs": [
    {
     "data": {
      "text/html": [
       "<div>\n",
       "<style>\n",
       "    .dataframe thead tr:only-child th {\n",
       "        text-align: right;\n",
       "    }\n",
       "\n",
       "    .dataframe thead th {\n",
       "        text-align: left;\n",
       "    }\n",
       "\n",
       "    .dataframe tbody tr th {\n",
       "        vertical-align: top;\n",
       "    }\n",
       "</style>\n",
       "<table border=\"1\" class=\"dataframe\">\n",
       "  <thead>\n",
       "    <tr style=\"text-align: right;\">\n",
       "      <th></th>\n",
       "      <th>0</th>\n",
       "    </tr>\n",
       "  </thead>\n",
       "  <tbody>\n",
       "    <tr>\n",
       "      <th>1</th>\n",
       "      <td>29</td>\n",
       "    </tr>\n",
       "    <tr>\n",
       "      <th>0</th>\n",
       "      <td>21</td>\n",
       "    </tr>\n",
       "  </tbody>\n",
       "</table>\n",
       "</div>"
      ],
      "text/plain": [
       "    0\n",
       "1  29\n",
       "0  21"
      ]
     },
     "execution_count": 34,
     "metadata": {},
     "output_type": "execute_result"
    }
   ],
   "source": [
    "pd.DataFrame(pd.DataFrame(Y_test)[0].value_counts())"
   ]
  },
  {
   "cell_type": "markdown",
   "metadata": {},
   "source": [
    "## Create and train the ANN Classifier"
   ]
  },
  {
   "cell_type": "code",
   "execution_count": 35,
   "metadata": {
    "collapsed": true
   },
   "outputs": [],
   "source": [
    "from keras.models import Sequential\n",
    "from keras.layers import Dense"
   ]
  },
  {
   "cell_type": "code",
   "execution_count": 36,
   "metadata": {},
   "outputs": [
    {
     "name": "stderr",
     "output_type": "stream",
     "text": [
      "C:\\Users\\user\\Anaconda3\\lib\\site-packages\\ipykernel\\__main__.py:4: UserWarning: Update your `Dense` call to the Keras 2 API: `Dense(kernel_initializer=\"uniform\", input_dim=12, activation=\"relu\", units=6)`\n",
      "C:\\Users\\user\\Anaconda3\\lib\\site-packages\\ipykernel\\__main__.py:10: UserWarning: Update your `Dense` call to the Keras 2 API: `Dense(kernel_initializer=\"uniform\", activation=\"sigmoid\", units=1)`\n",
      "C:\\Users\\user\\Anaconda3\\lib\\site-packages\\keras\\models.py:844: UserWarning: The `nb_epoch` argument in `fit` has been renamed `epochs`.\n",
      "  warnings.warn('The `nb_epoch` argument in `fit` '\n"
     ]
    },
    {
     "name": "stdout",
     "output_type": "stream",
     "text": [
      "Epoch 1/200\n",
      "200/200 [==============================] - 0s - loss: 0.6873 - acc: 0.8200     \n",
      "Epoch 2/200\n",
      "200/200 [==============================] - 0s - loss: 0.6645 - acc: 0.9850     \n",
      "Epoch 3/200\n",
      "200/200 [==============================] - 0s - loss: 0.6192 - acc: 0.9850     \n",
      "Epoch 4/200\n",
      "200/200 [==============================] - 0s - loss: 0.5547 - acc: 0.9900     \n",
      "Epoch 5/200\n",
      "200/200 [==============================] - 0s - loss: 0.4820 - acc: 0.9900     \n",
      "Epoch 6/200\n",
      "200/200 [==============================] - 0s - loss: 0.4068 - acc: 0.9950     \n",
      "Epoch 7/200\n",
      "200/200 [==============================] - 0s - loss: 0.3402 - acc: 0.9950     \n",
      "Epoch 8/200\n",
      "200/200 [==============================] - 0s - loss: 0.2815 - acc: 0.9950     \n",
      "Epoch 9/200\n",
      "200/200 [==============================] - 0s - loss: 0.2342 - acc: 0.9950     \n",
      "Epoch 10/200\n",
      "200/200 [==============================] - 0s - loss: 0.1962 - acc: 0.9950     \n",
      "Epoch 11/200\n",
      "200/200 [==============================] - 0s - loss: 0.1660 - acc: 0.9950     \n",
      "Epoch 12/200\n",
      "200/200 [==============================] - 0s - loss: 0.1424 - acc: 0.9950     \n",
      "Epoch 13/200\n",
      "200/200 [==============================] - 0s - loss: 0.1234 - acc: 0.9950     \n",
      "Epoch 14/200\n",
      "200/200 [==============================] - 0s - loss: 0.1084 - acc: 0.9950     \n",
      "Epoch 15/200\n",
      "200/200 [==============================] - 0s - loss: 0.0961 - acc: 0.9950     \n",
      "Epoch 16/200\n",
      "200/200 [==============================] - 0s - loss: 0.0858 - acc: 0.9950     \n",
      "Epoch 17/200\n",
      "200/200 [==============================] - 0s - loss: 0.0773 - acc: 0.9950     \n",
      "Epoch 18/200\n",
      "200/200 [==============================] - 0s - loss: 0.0703 - acc: 0.9950     \n",
      "Epoch 19/200\n",
      "200/200 [==============================] - 0s - loss: 0.0642 - acc: 0.9950     \n",
      "Epoch 20/200\n",
      "200/200 [==============================] - 0s - loss: 0.0589 - acc: 0.9950     \n",
      "Epoch 21/200\n",
      "200/200 [==============================] - 0s - loss: 0.0545 - acc: 0.9950     \n",
      "Epoch 22/200\n",
      "200/200 [==============================] - 0s - loss: 0.0504 - acc: 0.9950     \n",
      "Epoch 23/200\n",
      "200/200 [==============================] - 0s - loss: 0.0469 - acc: 0.9950     \n",
      "Epoch 24/200\n",
      "200/200 [==============================] - 0s - loss: 0.0439 - acc: 0.9950     \n",
      "Epoch 25/200\n",
      "200/200 [==============================] - 0s - loss: 0.0411 - acc: 0.9950     \n",
      "Epoch 26/200\n",
      "200/200 [==============================] - 0s - loss: 0.0384 - acc: 0.9950     \n",
      "Epoch 27/200\n",
      "200/200 [==============================] - 0s - loss: 0.0362 - acc: 0.9950     \n",
      "Epoch 28/200\n",
      "200/200 [==============================] - 0s - loss: 0.0340 - acc: 0.9950     \n",
      "Epoch 29/200\n",
      "200/200 [==============================] - 0s - loss: 0.0322 - acc: 0.9950     \n",
      "Epoch 30/200\n",
      "200/200 [==============================] - 0s - loss: 0.0305 - acc: 0.9950     \n",
      "Epoch 31/200\n",
      "200/200 [==============================] - 0s - loss: 0.0288 - acc: 0.9950     \n",
      "Epoch 32/200\n",
      "200/200 [==============================] - 0s - loss: 0.0274 - acc: 0.9950     \n",
      "Epoch 33/200\n",
      "200/200 [==============================] - 0s - loss: 0.0261 - acc: 0.9950     \n",
      "Epoch 34/200\n",
      "200/200 [==============================] - 0s - loss: 0.0248 - acc: 0.9950     \n",
      "Epoch 35/200\n",
      "200/200 [==============================] - 0s - loss: 0.0236 - acc: 1.0000     \n",
      "Epoch 36/200\n",
      "200/200 [==============================] - 0s - loss: 0.0226 - acc: 1.0000     \n",
      "Epoch 37/200\n",
      "200/200 [==============================] - 0s - loss: 0.0216 - acc: 1.0000     \n",
      "Epoch 38/200\n",
      "200/200 [==============================] - 0s - loss: 0.0206 - acc: 1.0000     \n",
      "Epoch 39/200\n",
      "200/200 [==============================] - 0s - loss: 0.0197 - acc: 1.0000     \n",
      "Epoch 40/200\n",
      "200/200 [==============================] - 0s - loss: 0.0189 - acc: 1.0000     \n",
      "Epoch 41/200\n",
      "200/200 [==============================] - 0s - loss: 0.0181 - acc: 1.0000     \n",
      "Epoch 42/200\n",
      "200/200 [==============================] - 0s - loss: 0.0173 - acc: 1.0000     \n",
      "Epoch 43/200\n",
      "200/200 [==============================] - 0s - loss: 0.0166 - acc: 1.0000     \n",
      "Epoch 44/200\n",
      "200/200 [==============================] - 0s - loss: 0.0160 - acc: 1.0000     \n",
      "Epoch 45/200\n",
      "200/200 [==============================] - 0s - loss: 0.0153 - acc: 1.0000     \n",
      "Epoch 46/200\n",
      "200/200 [==============================] - 0s - loss: 0.0148 - acc: 1.0000     \n",
      "Epoch 47/200\n",
      "200/200 [==============================] - 0s - loss: 0.0142 - acc: 1.0000     \n",
      "Epoch 48/200\n",
      "200/200 [==============================] - 0s - loss: 0.0136 - acc: 1.0000     \n",
      "Epoch 49/200\n",
      "200/200 [==============================] - 0s - loss: 0.0131 - acc: 1.0000     \n",
      "Epoch 50/200\n",
      "200/200 [==============================] - ETA: 0s - loss: 0.0028 - acc: 1.000 - 0s - loss: 0.0126 - acc: 1.0000     \n",
      "Epoch 51/200\n",
      "200/200 [==============================] - 0s - loss: 0.0122 - acc: 1.0000     \n",
      "Epoch 52/200\n",
      "200/200 [==============================] - 0s - loss: 0.0117 - acc: 1.0000     \n",
      "Epoch 53/200\n",
      "200/200 [==============================] - 0s - loss: 0.0113 - acc: 1.0000     \n",
      "Epoch 54/200\n",
      "200/200 [==============================] - 0s - loss: 0.0109 - acc: 1.0000     \n",
      "Epoch 55/200\n",
      "200/200 [==============================] - 0s - loss: 0.0105 - acc: 1.0000     \n",
      "Epoch 56/200\n",
      "200/200 [==============================] - 0s - loss: 0.0102 - acc: 1.0000     \n",
      "Epoch 57/200\n",
      "200/200 [==============================] - 0s - loss: 0.0098 - acc: 1.0000     \n",
      "Epoch 58/200\n",
      "200/200 [==============================] - 0s - loss: 0.0095 - acc: 1.0000     \n",
      "Epoch 59/200\n",
      "200/200 [==============================] - 0s - loss: 0.0091 - acc: 1.0000     \n",
      "Epoch 60/200\n",
      "200/200 [==============================] - 0s - loss: 0.0088 - acc: 1.0000     \n",
      "Epoch 61/200\n",
      "200/200 [==============================] - 0s - loss: 0.0085 - acc: 1.0000     \n",
      "Epoch 62/200\n",
      "200/200 [==============================] - 0s - loss: 0.0083 - acc: 1.0000     \n",
      "Epoch 63/200\n",
      "200/200 [==============================] - 0s - loss: 0.0080 - acc: 1.0000     \n",
      "Epoch 64/200\n",
      "200/200 [==============================] - 0s - loss: 0.0077 - acc: 1.0000     \n",
      "Epoch 65/200\n",
      "200/200 [==============================] - 0s - loss: 0.0075 - acc: 1.0000     \n",
      "Epoch 66/200\n",
      "200/200 [==============================] - 0s - loss: 0.0072 - acc: 1.0000     \n",
      "Epoch 67/200\n",
      "200/200 [==============================] - 0s - loss: 0.0070 - acc: 1.0000     \n",
      "Epoch 68/200\n",
      "200/200 [==============================] - 0s - loss: 0.0067 - acc: 1.0000     \n",
      "Epoch 69/200\n",
      "200/200 [==============================] - 0s - loss: 0.0066 - acc: 1.0000     \n",
      "Epoch 70/200\n",
      "200/200 [==============================] - 0s - loss: 0.0064 - acc: 1.0000     \n",
      "Epoch 71/200\n",
      "200/200 [==============================] - 0s - loss: 0.0061 - acc: 1.0000     \n",
      "Epoch 72/200\n",
      "200/200 [==============================] - 0s - loss: 0.0060 - acc: 1.0000         \n",
      "Epoch 73/200\n",
      "200/200 [==============================] - 0s - loss: 0.0058 - acc: 1.0000     \n",
      "Epoch 74/200\n",
      "200/200 [==============================] - 0s - loss: 0.0056 - acc: 1.0000     \n",
      "Epoch 75/200\n",
      "200/200 [==============================] - 0s - loss: 0.0054 - acc: 1.0000         \n",
      "Epoch 76/200\n",
      "200/200 [==============================] - 0s - loss: 0.0053 - acc: 1.0000     \n",
      "Epoch 77/200\n",
      "200/200 [==============================] - 0s - loss: 0.0051 - acc: 1.0000     \n",
      "Epoch 78/200\n",
      "200/200 [==============================] - 0s - loss: 0.0050 - acc: 1.0000     \n",
      "Epoch 79/200\n",
      "200/200 [==============================] - 0s - loss: 0.0048 - acc: 1.0000     \n",
      "Epoch 80/200\n",
      "200/200 [==============================] - 0s - loss: 0.0047 - acc: 1.0000     \n",
      "Epoch 81/200\n",
      "200/200 [==============================] - 0s - loss: 0.0045 - acc: 1.0000         \n",
      "Epoch 82/200\n",
      "200/200 [==============================] - 0s - loss: 0.0044 - acc: 1.0000     \n",
      "Epoch 83/200\n",
      "200/200 [==============================] - 0s - loss: 0.0043 - acc: 1.0000     \n",
      "Epoch 84/200\n",
      "200/200 [==============================] - 0s - loss: 0.0041 - acc: 1.0000         \n",
      "Epoch 85/200\n",
      "200/200 [==============================] - 0s - loss: 0.0040 - acc: 1.0000         \n",
      "Epoch 86/200\n",
      "200/200 [==============================] - 0s - loss: 0.0039 - acc: 1.0000         \n",
      "Epoch 87/200\n",
      "200/200 [==============================] - 0s - loss: 0.0038 - acc: 1.0000     \n",
      "Epoch 88/200\n"
     ]
    },
    {
     "name": "stdout",
     "output_type": "stream",
     "text": [
      "200/200 [==============================] - 0s - loss: 0.0037 - acc: 1.0000     \n",
      "Epoch 89/200\n",
      "200/200 [==============================] - 0s - loss: 0.0036 - acc: 1.0000     \n",
      "Epoch 90/200\n",
      "200/200 [==============================] - 0s - loss: 0.0035 - acc: 1.0000         \n",
      "Epoch 91/200\n",
      "200/200 [==============================] - 0s - loss: 0.0034 - acc: 1.0000         \n",
      "Epoch 92/200\n",
      "200/200 [==============================] - 0s - loss: 0.0033 - acc: 1.0000         \n",
      "Epoch 93/200\n",
      "200/200 [==============================] - 0s - loss: 0.0032 - acc: 1.0000         \n",
      "Epoch 94/200\n",
      "200/200 [==============================] - 0s - loss: 0.0031 - acc: 1.0000     \n",
      "Epoch 95/200\n",
      "200/200 [==============================] - 0s - loss: 0.0030 - acc: 1.0000         \n",
      "Epoch 96/200\n",
      "200/200 [==============================] - 0s - loss: 0.0029 - acc: 1.0000         \n",
      "Epoch 97/200\n",
      "200/200 [==============================] - 0s - loss: 0.0029 - acc: 1.0000         \n",
      "Epoch 98/200\n",
      "200/200 [==============================] - 0s - loss: 0.0028 - acc: 1.0000         \n",
      "Epoch 99/200\n",
      "200/200 [==============================] - 0s - loss: 0.0027 - acc: 1.0000         \n",
      "Epoch 100/200\n",
      "200/200 [==============================] - 0s - loss: 0.0026 - acc: 1.0000         \n",
      "Epoch 101/200\n",
      "200/200 [==============================] - 0s - loss: 0.0026 - acc: 1.0000     \n",
      "Epoch 102/200\n",
      "200/200 [==============================] - 0s - loss: 0.0025 - acc: 1.0000         \n",
      "Epoch 103/200\n",
      "200/200 [==============================] - 0s - loss: 0.0024 - acc: 1.0000         \n",
      "Epoch 104/200\n",
      "200/200 [==============================] - 0s - loss: 0.0024 - acc: 1.0000     \n",
      "Epoch 105/200\n",
      "200/200 [==============================] - 0s - loss: 0.0023 - acc: 1.0000     \n",
      "Epoch 106/200\n",
      "200/200 [==============================] - 0s - loss: 0.0022 - acc: 1.0000     \n",
      "Epoch 107/200\n",
      "200/200 [==============================] - 0s - loss: 0.0022 - acc: 1.0000         \n",
      "Epoch 108/200\n",
      "200/200 [==============================] - 0s - loss: 0.0021 - acc: 1.0000         \n",
      "Epoch 109/200\n",
      "200/200 [==============================] - 0s - loss: 0.0021 - acc: 1.0000         \n",
      "Epoch 110/200\n",
      "200/200 [==============================] - 0s - loss: 0.0020 - acc: 1.0000         \n",
      "Epoch 111/200\n",
      "200/200 [==============================] - 0s - loss: 0.0020 - acc: 1.0000     \n",
      "Epoch 112/200\n",
      "200/200 [==============================] - 0s - loss: 0.0019 - acc: 1.0000         \n",
      "Epoch 113/200\n",
      "200/200 [==============================] - 0s - loss: 0.0019 - acc: 1.0000     \n",
      "Epoch 114/200\n",
      "200/200 [==============================] - 0s - loss: 0.0018 - acc: 1.0000     \n",
      "Epoch 115/200\n",
      "200/200 [==============================] - 0s - loss: 0.0018 - acc: 1.0000     \n",
      "Epoch 116/200\n",
      "200/200 [==============================] - 0s - loss: 0.0017 - acc: 1.0000         \n",
      "Epoch 117/200\n",
      "200/200 [==============================] - 0s - loss: 0.0017 - acc: 1.0000         \n",
      "Epoch 118/200\n",
      "200/200 [==============================] - 0s - loss: 0.0016 - acc: 1.0000         \n",
      "Epoch 119/200\n",
      "200/200 [==============================] - 0s - loss: 0.0016 - acc: 1.0000         \n",
      "Epoch 120/200\n",
      "200/200 [==============================] - 0s - loss: 0.0016 - acc: 1.0000         \n",
      "Epoch 121/200\n",
      "200/200 [==============================] - 0s - loss: 0.0015 - acc: 1.0000         \n",
      "Epoch 122/200\n",
      "200/200 [==============================] - 0s - loss: 0.0015 - acc: 1.0000     \n",
      "Epoch 123/200\n",
      "200/200 [==============================] - 0s - loss: 0.0014 - acc: 1.0000         \n",
      "Epoch 124/200\n",
      "200/200 [==============================] - 0s - loss: 0.0014 - acc: 1.0000         \n",
      "Epoch 125/200\n",
      "200/200 [==============================] - 0s - loss: 0.0014 - acc: 1.0000     \n",
      "Epoch 126/200\n",
      "200/200 [==============================] - 0s - loss: 0.0013 - acc: 1.0000     \n",
      "Epoch 127/200\n",
      "200/200 [==============================] - 0s - loss: 0.0013 - acc: 1.0000         \n",
      "Epoch 128/200\n",
      "200/200 [==============================] - 0s - loss: 0.0013 - acc: 1.0000     \n",
      "Epoch 129/200\n",
      "200/200 [==============================] - 0s - loss: 0.0012 - acc: 1.0000         \n",
      "Epoch 130/200\n",
      "200/200 [==============================] - 0s - loss: 0.0012 - acc: 1.0000         \n",
      "Epoch 131/200\n",
      "200/200 [==============================] - 0s - loss: 0.0012 - acc: 1.0000         \n",
      "Epoch 132/200\n",
      "200/200 [==============================] - 0s - loss: 0.0011 - acc: 1.0000     \n",
      "Epoch 133/200\n",
      "200/200 [==============================] - 0s - loss: 0.0011 - acc: 1.0000         \n",
      "Epoch 134/200\n",
      "200/200 [==============================] - 0s - loss: 0.0011 - acc: 1.0000         \n",
      "Epoch 135/200\n",
      "200/200 [==============================] - 0s - loss: 0.0011 - acc: 1.0000     \n",
      "Epoch 136/200\n",
      "200/200 [==============================] - 0s - loss: 0.0010 - acc: 1.0000         \n",
      "Epoch 137/200\n",
      "200/200 [==============================] - 0s - loss: 0.0010 - acc: 1.0000         \n",
      "Epoch 138/200\n",
      "200/200 [==============================] - 0s - loss: 9.8849e-04 - acc: 1.0000 \n",
      "Epoch 139/200\n",
      "200/200 [==============================] - 0s - loss: 9.6860e-04 - acc: 1.0000 \n",
      "Epoch 140/200\n",
      "200/200 [==============================] - 0s - loss: 9.4517e-04 - acc: 1.0000     \n",
      "Epoch 141/200\n",
      "200/200 [==============================] - 0s - loss: 9.1925e-04 - acc: 1.0000     \n",
      "Epoch 142/200\n",
      "200/200 [==============================] - 0s - loss: 9.0105e-04 - acc: 1.0000     \n",
      "Epoch 143/200\n",
      "200/200 [==============================] - 0s - loss: 8.7932e-04 - acc: 1.0000     \n",
      "Epoch 144/200\n",
      "200/200 [==============================] - 0s - loss: 8.5878e-04 - acc: 1.0000 \n",
      "Epoch 145/200\n",
      "200/200 [==============================] - 0s - loss: 8.3255e-04 - acc: 1.0000     \n",
      "Epoch 146/200\n",
      "200/200 [==============================] - 0s - loss: 8.1358e-04 - acc: 1.0000     \n",
      "Epoch 147/200\n",
      "200/200 [==============================] - 0s - loss: 7.9462e-04 - acc: 1.0000 \n",
      "Epoch 148/200\n",
      "200/200 [==============================] - 0s - loss: 7.7864e-04 - acc: 1.0000     \n",
      "Epoch 149/200\n",
      "200/200 [==============================] - 0s - loss: 7.5751e-04 - acc: 1.0000     \n",
      "Epoch 150/200\n",
      "200/200 [==============================] - 0s - loss: 7.3861e-04 - acc: 1.0000     \n",
      "Epoch 151/200\n",
      "200/200 [==============================] - 0s - loss: 7.2182e-04 - acc: 1.0000     \n",
      "Epoch 152/200\n",
      "200/200 [==============================] - 0s - loss: 7.0337e-04 - acc: 1.0000     \n",
      "Epoch 153/200\n",
      "200/200 [==============================] - 0s - loss: 6.8847e-04 - acc: 1.0000 \n",
      "Epoch 154/200\n",
      "200/200 [==============================] - 0s - loss: 6.7447e-04 - acc: 1.0000     \n",
      "Epoch 155/200\n",
      "200/200 [==============================] - 0s - loss: 6.5775e-04 - acc: 1.0000 \n",
      "Epoch 156/200\n",
      "200/200 [==============================] - 0s - loss: 6.4098e-04 - acc: 1.0000     \n",
      "Epoch 157/200\n",
      "200/200 [==============================] - 0s - loss: 6.2637e-04 - acc: 1.0000     \n",
      "Epoch 158/200\n",
      "200/200 [==============================] - 0s - loss: 6.1360e-04 - acc: 1.0000     \n",
      "Epoch 159/200\n",
      "200/200 [==============================] - 0s - loss: 5.9679e-04 - acc: 1.0000     \n",
      "Epoch 160/200\n",
      "200/200 [==============================] - 0s - loss: 5.8124e-04 - acc: 1.0000     \n",
      "Epoch 161/200\n",
      "200/200 [==============================] - 0s - loss: 5.7208e-04 - acc: 1.0000     \n",
      "Epoch 162/200\n",
      "200/200 [==============================] - 0s - loss: 5.5475e-04 - acc: 1.0000     \n",
      "Epoch 163/200\n",
      "200/200 [==============================] - 0s - loss: 5.4210e-04 - acc: 1.0000     \n",
      "Epoch 164/200\n",
      "200/200 [==============================] - 0s - loss: 5.2979e-04 - acc: 1.0000     \n",
      "Epoch 165/200\n",
      "200/200 [==============================] - 0s - loss: 5.1666e-04 - acc: 1.0000     \n",
      "Epoch 166/200\n",
      "200/200 [==============================] - 0s - loss: 5.0699e-04 - acc: 1.0000     \n",
      "Epoch 167/200\n",
      "200/200 [==============================] - 0s - loss: 4.9535e-04 - acc: 1.0000     \n",
      "Epoch 168/200\n",
      "200/200 [==============================] - 0s - loss: 4.8279e-04 - acc: 1.0000 \n",
      "Epoch 169/200\n",
      "200/200 [==============================] - 0s - loss: 4.7206e-04 - acc: 1.0000     \n",
      "Epoch 170/200\n",
      "200/200 [==============================] - 0s - loss: 4.6002e-04 - acc: 1.0000     \n",
      "Epoch 171/200\n",
      "200/200 [==============================] - 0s - loss: 4.5215e-04 - acc: 1.0000     \n",
      "Epoch 172/200\n"
     ]
    },
    {
     "name": "stdout",
     "output_type": "stream",
     "text": [
      "200/200 [==============================] - 0s - loss: 4.3953e-04 - acc: 1.0000     \n",
      "Epoch 173/200\n",
      "200/200 [==============================] - 0s - loss: 4.2930e-04 - acc: 1.0000     \n",
      "Epoch 174/200\n",
      "200/200 [==============================] - 0s - loss: 4.2114e-04 - acc: 1.0000     \n",
      "Epoch 175/200\n",
      "200/200 [==============================] - 0s - loss: 4.0997e-04 - acc: 1.0000 \n",
      "Epoch 176/200\n",
      "200/200 [==============================] - 0s - loss: 4.0273e-04 - acc: 1.0000     \n",
      "Epoch 177/200\n",
      "200/200 [==============================] - 0s - loss: 3.9343e-04 - acc: 1.0000     \n",
      "Epoch 178/200\n",
      "200/200 [==============================] - 0s - loss: 3.8236e-04 - acc: 1.0000     \n",
      "Epoch 179/200\n",
      "200/200 [==============================] - 0s - loss: 3.7452e-04 - acc: 1.0000 \n",
      "Epoch 180/200\n",
      "200/200 [==============================] - 0s - loss: 3.6436e-04 - acc: 1.0000     \n",
      "Epoch 181/200\n",
      "200/200 [==============================] - 0s - loss: 3.5860e-04 - acc: 1.0000     \n",
      "Epoch 182/200\n",
      "200/200 [==============================] - 0s - loss: 3.4831e-04 - acc: 1.0000     \n",
      "Epoch 183/200\n",
      "200/200 [==============================] - 0s - loss: 3.4055e-04 - acc: 1.0000     \n",
      "Epoch 184/200\n",
      "200/200 [==============================] - 0s - loss: 3.3387e-04 - acc: 1.0000     \n",
      "Epoch 185/200\n",
      "200/200 [==============================] - 0s - loss: 3.2545e-04 - acc: 1.0000     \n",
      "Epoch 186/200\n",
      "200/200 [==============================] - 0s - loss: 3.1872e-04 - acc: 1.0000     \n",
      "Epoch 187/200\n",
      "200/200 [==============================] - ETA: 0s - loss: 5.2447e-05 - acc: 1.000 - 0s - loss: 3.1089e-04 - acc: 1.0000     \n",
      "Epoch 188/200\n",
      "200/200 [==============================] - 0s - loss: 3.0381e-04 - acc: 1.0000     \n",
      "Epoch 189/200\n",
      "200/200 [==============================] - 0s - loss: 2.9618e-04 - acc: 1.0000     \n",
      "Epoch 190/200\n",
      "200/200 [==============================] - 0s - loss: 2.8967e-04 - acc: 1.0000     \n",
      "Epoch 191/200\n",
      "200/200 [==============================] - 0s - loss: 2.8367e-04 - acc: 1.0000     \n",
      "Epoch 192/200\n",
      "200/200 [==============================] - 0s - loss: 2.7738e-04 - acc: 1.0000     \n",
      "Epoch 193/200\n",
      "200/200 [==============================] - 0s - loss: 2.7109e-04 - acc: 1.0000     \n",
      "Epoch 194/200\n",
      "200/200 [==============================] - 0s - loss: 2.6467e-04 - acc: 1.0000     \n",
      "Epoch 195/200\n",
      "200/200 [==============================] - 0s - loss: 2.5919e-04 - acc: 1.0000     \n",
      "Epoch 196/200\n",
      "200/200 [==============================] - 0s - loss: 2.5239e-04 - acc: 1.0000     \n",
      "Epoch 197/200\n",
      "200/200 [==============================] - 0s - loss: 2.4656e-04 - acc: 1.0000     \n",
      "Epoch 198/200\n",
      "200/200 [==============================] - 0s - loss: 2.4124e-04 - acc: 1.0000     \n",
      "Epoch 199/200\n",
      "200/200 [==============================] - 0s - loss: 2.3635e-04 - acc: 1.0000     \n",
      "Epoch 200/200\n",
      "200/200 [==============================] - 0s - loss: 2.3148e-04 - acc: 1.0000     \n"
     ]
    },
    {
     "data": {
      "text/plain": [
       "<keras.callbacks.History at 0xa1bc21f710>"
      ]
     },
     "execution_count": 36,
     "metadata": {},
     "output_type": "execute_result"
    }
   ],
   "source": [
    "clf_ann = Sequential()\n",
    "\n",
    "# First Hidden Layer\n",
    "clf_ann.add(Dense(output_dim = 6, init = 'uniform', activation = 'relu', input_dim = 12))\n",
    "\n",
    "# Second Hidden Layer\n",
    "#clf_ann.add(Dense(output_dim = , init = 'uniform', activation = 'relu'))\n",
    "\n",
    "# Output Layer\n",
    "clf_ann.add(Dense(output_dim = 1, init = 'uniform', activation = 'sigmoid'))\n",
    "\n",
    "# Compile the ANN\n",
    "clf_ann.compile(optimizer = 'adam', loss = 'binary_crossentropy', metrics = ['accuracy'])\n",
    "\n",
    "# Train the ANN on the Train Data\n",
    "clf_ann.fit(X_train, Y_train, batch_size = 5, nb_epoch = 200)"
   ]
  },
  {
   "cell_type": "code",
   "execution_count": 37,
   "metadata": {
    "collapsed": true
   },
   "outputs": [],
   "source": [
    "# Test the ANN on the Test Data\n",
    "Y_pred = clf_ann.predict(X_test)\n",
    "Y_pred = (Y_pred > 0.5)"
   ]
  },
  {
   "cell_type": "markdown",
   "metadata": {},
   "source": [
    "## Check the Accuracy"
   ]
  },
  {
   "cell_type": "code",
   "execution_count": 39,
   "metadata": {
    "collapsed": true
   },
   "outputs": [],
   "source": [
    "from sklearn.metrics import accuracy_score, confusion_matrix"
   ]
  },
  {
   "cell_type": "code",
   "execution_count": 40,
   "metadata": {},
   "outputs": [
    {
     "data": {
      "text/plain": [
       "1.0"
      ]
     },
     "execution_count": 40,
     "metadata": {},
     "output_type": "execute_result"
    }
   ],
   "source": [
    "accuracy_score(Y_pred, Y_test)"
   ]
  },
  {
   "cell_type": "code",
   "execution_count": 41,
   "metadata": {},
   "outputs": [
    {
     "data": {
      "text/plain": [
       "array([[21,  0],\n",
       "       [ 0, 29]], dtype=int64)"
      ]
     },
     "execution_count": 41,
     "metadata": {},
     "output_type": "execute_result"
    }
   ],
   "source": [
    "confusion_matrix(Y_pred, Y_test)"
   ]
  },
  {
   "cell_type": "code",
   "execution_count": null,
   "metadata": {
    "collapsed": true
   },
   "outputs": [],
   "source": []
  }
 ],
 "metadata": {
  "kernelspec": {
   "display_name": "Python [default]",
   "language": "python",
   "name": "python3"
  },
  "language_info": {
   "codemirror_mode": {
    "name": "ipython",
    "version": 3
   },
   "file_extension": ".py",
   "mimetype": "text/x-python",
   "name": "python",
   "nbconvert_exporter": "python",
   "pygments_lexer": "ipython3",
   "version": "3.5.4"
  }
 },
 "nbformat": 4,
 "nbformat_minor": 2
}
