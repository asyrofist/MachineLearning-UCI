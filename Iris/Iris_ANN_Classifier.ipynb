{
 "cells": [
  {
   "cell_type": "markdown",
   "metadata": {},
   "source": [
    "## Initialization"
   ]
  },
  {
   "cell_type": "code",
   "execution_count": 1,
   "metadata": {},
   "outputs": [
    {
     "name": "stderr",
     "output_type": "stream",
     "text": [
      "Using Theano backend.\n"
     ]
    }
   ],
   "source": [
    "import numpy as np\n",
    "import pandas as pd\n",
    "import keras"
   ]
  },
  {
   "cell_type": "markdown",
   "metadata": {},
   "source": [
    "## Importing the Data"
   ]
  },
  {
   "cell_type": "code",
   "execution_count": 2,
   "metadata": {},
   "outputs": [
    {
     "data": {
      "text/plain": [
       "(150, 5)"
      ]
     },
     "execution_count": 2,
     "metadata": {},
     "output_type": "execute_result"
    }
   ],
   "source": [
    "dataset = pd.read_csv(\"iris.data\", header = None)\n",
    "dataset.shape"
   ]
  },
  {
   "cell_type": "code",
   "execution_count": 3,
   "metadata": {},
   "outputs": [
    {
     "data": {
      "text/html": [
       "<div>\n",
       "<style>\n",
       "    .dataframe thead tr:only-child th {\n",
       "        text-align: right;\n",
       "    }\n",
       "\n",
       "    .dataframe thead th {\n",
       "        text-align: left;\n",
       "    }\n",
       "\n",
       "    .dataframe tbody tr th {\n",
       "        vertical-align: top;\n",
       "    }\n",
       "</style>\n",
       "<table border=\"1\" class=\"dataframe\">\n",
       "  <thead>\n",
       "    <tr style=\"text-align: right;\">\n",
       "      <th></th>\n",
       "      <th>0</th>\n",
       "      <th>1</th>\n",
       "      <th>2</th>\n",
       "      <th>3</th>\n",
       "      <th>4</th>\n",
       "    </tr>\n",
       "  </thead>\n",
       "  <tbody>\n",
       "    <tr>\n",
       "      <th>0</th>\n",
       "      <td>5.1</td>\n",
       "      <td>3.5</td>\n",
       "      <td>1.4</td>\n",
       "      <td>0.2</td>\n",
       "      <td>Iris-setosa</td>\n",
       "    </tr>\n",
       "    <tr>\n",
       "      <th>1</th>\n",
       "      <td>4.9</td>\n",
       "      <td>3.0</td>\n",
       "      <td>1.4</td>\n",
       "      <td>0.2</td>\n",
       "      <td>Iris-setosa</td>\n",
       "    </tr>\n",
       "    <tr>\n",
       "      <th>2</th>\n",
       "      <td>4.7</td>\n",
       "      <td>3.2</td>\n",
       "      <td>1.3</td>\n",
       "      <td>0.2</td>\n",
       "      <td>Iris-setosa</td>\n",
       "    </tr>\n",
       "    <tr>\n",
       "      <th>3</th>\n",
       "      <td>4.6</td>\n",
       "      <td>3.1</td>\n",
       "      <td>1.5</td>\n",
       "      <td>0.2</td>\n",
       "      <td>Iris-setosa</td>\n",
       "    </tr>\n",
       "    <tr>\n",
       "      <th>4</th>\n",
       "      <td>5.0</td>\n",
       "      <td>3.6</td>\n",
       "      <td>1.4</td>\n",
       "      <td>0.2</td>\n",
       "      <td>Iris-setosa</td>\n",
       "    </tr>\n",
       "  </tbody>\n",
       "</table>\n",
       "</div>"
      ],
      "text/plain": [
       "     0    1    2    3            4\n",
       "0  5.1  3.5  1.4  0.2  Iris-setosa\n",
       "1  4.9  3.0  1.4  0.2  Iris-setosa\n",
       "2  4.7  3.2  1.3  0.2  Iris-setosa\n",
       "3  4.6  3.1  1.5  0.2  Iris-setosa\n",
       "4  5.0  3.6  1.4  0.2  Iris-setosa"
      ]
     },
     "execution_count": 3,
     "metadata": {},
     "output_type": "execute_result"
    }
   ],
   "source": [
    "dataset.head()"
   ]
  },
  {
   "cell_type": "markdown",
   "metadata": {},
   "source": [
    "## Create X and Y"
   ]
  },
  {
   "cell_type": "code",
   "execution_count": 4,
   "metadata": {
    "collapsed": true
   },
   "outputs": [],
   "source": [
    "X = dataset.iloc[:, 0:4].values\n",
    "Y = dataset.iloc[:, 4:5].values"
   ]
  },
  {
   "cell_type": "code",
   "execution_count": 5,
   "metadata": {
    "scrolled": true
   },
   "outputs": [
    {
     "data": {
      "text/plain": [
       "array([ 5.1,  3.5,  1.4,  0.2])"
      ]
     },
     "execution_count": 5,
     "metadata": {},
     "output_type": "execute_result"
    }
   ],
   "source": [
    "X[0]"
   ]
  },
  {
   "cell_type": "code",
   "execution_count": 6,
   "metadata": {},
   "outputs": [
    {
     "data": {
      "text/plain": [
       "array(['Iris-setosa'], dtype=object)"
      ]
     },
     "execution_count": 6,
     "metadata": {},
     "output_type": "execute_result"
    }
   ],
   "source": [
    "Y[0]"
   ]
  },
  {
   "cell_type": "markdown",
   "metadata": {},
   "source": [
    "## Preprocess the Data"
   ]
  },
  {
   "cell_type": "code",
   "execution_count": 7,
   "metadata": {},
   "outputs": [
    {
     "name": "stderr",
     "output_type": "stream",
     "text": [
      "C:\\Users\\user\\Anaconda3\\lib\\site-packages\\sklearn\\preprocessing\\label.py:111: DataConversionWarning: A column-vector y was passed when a 1d array was expected. Please change the shape of y to (n_samples, ), for example using ravel().\n",
      "  y = column_or_1d(y, warn=True)\n"
     ]
    },
    {
     "data": {
      "text/plain": [
       "array([ 1.,  0.,  0.])"
      ]
     },
     "execution_count": 7,
     "metadata": {},
     "output_type": "execute_result"
    }
   ],
   "source": [
    "from sklearn.preprocessing import LabelEncoder, OneHotEncoder, StandardScaler\n",
    "le_Y = LabelEncoder()\n",
    "Y = le_Y.fit_transform(Y)\n",
    "Y = Y.reshape(len(Y), 1)\n",
    "ohe = OneHotEncoder(categorical_features=[0])\n",
    "Y = ohe.fit_transform(Y).toarray()\n",
    "Y[0]"
   ]
  },
  {
   "cell_type": "code",
   "execution_count": 8,
   "metadata": {
    "collapsed": true
   },
   "outputs": [],
   "source": [
    "sc_X = StandardScaler()\n",
    "X = sc_X.fit_transform(X)"
   ]
  },
  {
   "cell_type": "code",
   "execution_count": 9,
   "metadata": {},
   "outputs": [
    {
     "data": {
      "text/plain": [
       "array([-0.90068117,  1.03205722, -1.3412724 , -1.31297673])"
      ]
     },
     "execution_count": 9,
     "metadata": {},
     "output_type": "execute_result"
    }
   ],
   "source": [
    "X[0]"
   ]
  },
  {
   "cell_type": "markdown",
   "metadata": {},
   "source": [
    "## Create Train and Test Data"
   ]
  },
  {
   "cell_type": "code",
   "execution_count": 10,
   "metadata": {
    "collapsed": true
   },
   "outputs": [],
   "source": [
    "from sklearn.model_selection import train_test_split\n",
    "X_train, X_test, Y_train, Y_test = train_test_split(X, Y, test_size = 0.2, random_state = 4)"
   ]
  },
  {
   "cell_type": "markdown",
   "metadata": {},
   "source": [
    "## Create and Train the Classifier"
   ]
  },
  {
   "cell_type": "code",
   "execution_count": 11,
   "metadata": {
    "collapsed": true
   },
   "outputs": [],
   "source": [
    "from keras.models import Sequential\n",
    "from keras.layers import Dense"
   ]
  },
  {
   "cell_type": "code",
   "execution_count": 12,
   "metadata": {},
   "outputs": [
    {
     "name": "stderr",
     "output_type": "stream",
     "text": [
      "C:\\Users\\user\\Anaconda3\\lib\\site-packages\\ipykernel\\__main__.py:4: UserWarning: Update your `Dense` call to the Keras 2 API: `Dense(input_dim=4, units=8, activation=\"relu\", kernel_initializer=\"uniform\")`\n",
      "C:\\Users\\user\\Anaconda3\\lib\\site-packages\\ipykernel\\__main__.py:7: UserWarning: Update your `Dense` call to the Keras 2 API: `Dense(units=3, activation=\"softmax\", kernel_initializer=\"uniform\")`\n",
      "C:\\Users\\user\\Anaconda3\\lib\\site-packages\\keras\\models.py:844: UserWarning: The `nb_epoch` argument in `fit` has been renamed `epochs`.\n",
      "  warnings.warn('The `nb_epoch` argument in `fit` '\n"
     ]
    },
    {
     "name": "stdout",
     "output_type": "stream",
     "text": [
      "Epoch 1/200\n",
      "120/120 [==============================] - 0s - loss: 1.0977 - acc: 0.3750     \n",
      "Epoch 2/200\n",
      "120/120 [==============================] - 0s - loss: 1.0862 - acc: 0.6167         \n",
      "Epoch 3/200\n",
      "120/120 [==============================] - 0s - loss: 1.0644 - acc: 0.6917     \n",
      "Epoch 4/200\n",
      "120/120 [==============================] - 0s - loss: 1.0288 - acc: 0.7833     \n",
      "Epoch 5/200\n",
      "120/120 [==============================] - 0s - loss: 0.9749 - acc: 0.8500     \n",
      "Epoch 6/200\n",
      "120/120 [==============================] - 0s - loss: 0.9073 - acc: 0.8500     \n",
      "Epoch 7/200\n",
      "120/120 [==============================] - 0s - loss: 0.8326 - acc: 0.7917     \n",
      "Epoch 8/200\n",
      "120/120 [==============================] - 0s - loss: 0.7603 - acc: 0.7750     \n",
      "Epoch 9/200\n",
      "120/120 [==============================] - 0s - loss: 0.6977 - acc: 0.6917     \n",
      "Epoch 10/200\n",
      "120/120 [==============================] - 0s - loss: 0.6441 - acc: 0.6917     \n",
      "Epoch 11/200\n",
      "120/120 [==============================] - 0s - loss: 0.6033 - acc: 0.6833     \n",
      "Epoch 12/200\n",
      "120/120 [==============================] - 0s - loss: 0.5701 - acc: 0.6917     \n",
      "Epoch 13/200\n",
      "120/120 [==============================] - 0s - loss: 0.5437 - acc: 0.7000     \n",
      "Epoch 14/200\n",
      "120/120 [==============================] - 0s - loss: 0.5212 - acc: 0.7333     \n",
      "Epoch 15/200\n",
      "120/120 [==============================] - 0s - loss: 0.5022 - acc: 0.7583     \n",
      "Epoch 16/200\n",
      "120/120 [==============================] - 0s - loss: 0.4849 - acc: 0.7667     \n",
      "Epoch 17/200\n",
      "120/120 [==============================] - 0s - loss: 0.4694 - acc: 0.7917     \n",
      "Epoch 18/200\n",
      "120/120 [==============================] - 0s - loss: 0.4546 - acc: 0.8083     \n",
      "Epoch 19/200\n",
      "120/120 [==============================] - 0s - loss: 0.4409 - acc: 0.8250     \n",
      "Epoch 20/200\n",
      "120/120 [==============================] - 0s - loss: 0.4294 - acc: 0.8167     \n",
      "Epoch 21/200\n",
      "120/120 [==============================] - 0s - loss: 0.4168 - acc: 0.8250     \n",
      "Epoch 22/200\n",
      "120/120 [==============================] - 0s - loss: 0.4047 - acc: 0.8417     \n",
      "Epoch 23/200\n",
      "120/120 [==============================] - 0s - loss: 0.3947 - acc: 0.8500     \n",
      "Epoch 24/200\n",
      "120/120 [==============================] - 0s - loss: 0.3849 - acc: 0.8500     \n",
      "Epoch 25/200\n",
      "120/120 [==============================] - 0s - loss: 0.3750 - acc: 0.8583     \n",
      "Epoch 26/200\n",
      "120/120 [==============================] - 0s - loss: 0.3654 - acc: 0.8583     \n",
      "Epoch 27/200\n",
      "120/120 [==============================] - 0s - loss: 0.3584 - acc: 0.8667     \n",
      "Epoch 28/200\n",
      "120/120 [==============================] - 0s - loss: 0.3489 - acc: 0.8583     \n",
      "Epoch 29/200\n",
      "120/120 [==============================] - 0s - loss: 0.3414 - acc: 0.8667     \n",
      "Epoch 30/200\n",
      "120/120 [==============================] - 0s - loss: 0.3340 - acc: 0.8667     \n",
      "Epoch 31/200\n",
      "120/120 [==============================] - 0s - loss: 0.3276 - acc: 0.8833     \n",
      "Epoch 32/200\n",
      "120/120 [==============================] - 0s - loss: 0.3224 - acc: 0.8750     \n",
      "Epoch 33/200\n",
      "120/120 [==============================] - 0s - loss: 0.3135 - acc: 0.8833     \n",
      "Epoch 34/200\n",
      "120/120 [==============================] - 0s - loss: 0.3077 - acc: 0.8833     \n",
      "Epoch 35/200\n",
      "120/120 [==============================] - 0s - loss: 0.3030 - acc: 0.9000     \n",
      "Epoch 36/200\n",
      "120/120 [==============================] - 0s - loss: 0.2979 - acc: 0.9000     \n",
      "Epoch 37/200\n",
      "120/120 [==============================] - 0s - loss: 0.2900 - acc: 0.9000     \n",
      "Epoch 38/200\n",
      "120/120 [==============================] - 0s - loss: 0.2852 - acc: 0.9000     \n",
      "Epoch 39/200\n",
      "120/120 [==============================] - 0s - loss: 0.2797 - acc: 0.9000     \n",
      "Epoch 40/200\n",
      "120/120 [==============================] - 0s - loss: 0.2746 - acc: 0.9000     \n",
      "Epoch 41/200\n",
      "120/120 [==============================] - 0s - loss: 0.2706 - acc: 0.9083     \n",
      "Epoch 42/200\n",
      "120/120 [==============================] - 0s - loss: 0.2657 - acc: 0.9000     \n",
      "Epoch 43/200\n",
      "120/120 [==============================] - 0s - loss: 0.2602 - acc: 0.9083     \n",
      "Epoch 44/200\n",
      "120/120 [==============================] - 0s - loss: 0.2553 - acc: 0.9083     \n",
      "Epoch 45/200\n",
      "120/120 [==============================] - 0s - loss: 0.2503 - acc: 0.9083     \n",
      "Epoch 46/200\n",
      "120/120 [==============================] - 0s - loss: 0.2461 - acc: 0.9083     \n",
      "Epoch 47/200\n",
      "120/120 [==============================] - 0s - loss: 0.2411 - acc: 0.9083     \n",
      "Epoch 48/200\n",
      "120/120 [==============================] - 0s - loss: 0.2373 - acc: 0.9083     \n",
      "Epoch 49/200\n",
      "120/120 [==============================] - 0s - loss: 0.2322 - acc: 0.9083     \n",
      "Epoch 50/200\n",
      "120/120 [==============================] - 0s - loss: 0.2277 - acc: 0.9083     \n",
      "Epoch 51/200\n",
      "120/120 [==============================] - 0s - loss: 0.2244 - acc: 0.9167     \n",
      "Epoch 52/200\n",
      "120/120 [==============================] - 0s - loss: 0.2188 - acc: 0.9250     \n",
      "Epoch 53/200\n",
      "120/120 [==============================] - 0s - loss: 0.2149 - acc: 0.9250     \n",
      "Epoch 54/200\n",
      "120/120 [==============================] - 0s - loss: 0.2102 - acc: 0.9333     \n",
      "Epoch 55/200\n",
      "120/120 [==============================] - 0s - loss: 0.2052 - acc: 0.9417     \n",
      "Epoch 56/200\n",
      "120/120 [==============================] - 0s - loss: 0.1999 - acc: 0.9417     \n",
      "Epoch 57/200\n",
      "120/120 [==============================] - 0s - loss: 0.1954 - acc: 0.9417     \n",
      "Epoch 58/200\n",
      "120/120 [==============================] - 0s - loss: 0.1910 - acc: 0.9417     \n",
      "Epoch 59/200\n",
      "120/120 [==============================] - 0s - loss: 0.1863 - acc: 0.9417     \n",
      "Epoch 60/200\n",
      "120/120 [==============================] - 0s - loss: 0.1816 - acc: 0.9500     \n",
      "Epoch 61/200\n",
      "120/120 [==============================] - 0s - loss: 0.1769 - acc: 0.9500     \n",
      "Epoch 62/200\n",
      "120/120 [==============================] - 0s - loss: 0.1733 - acc: 0.9500     \n",
      "Epoch 63/200\n",
      "120/120 [==============================] - 0s - loss: 0.1677 - acc: 0.9583     \n",
      "Epoch 64/200\n",
      "120/120 [==============================] - 0s - loss: 0.1631 - acc: 0.9583     \n",
      "Epoch 65/200\n",
      "120/120 [==============================] - 0s - loss: 0.1584 - acc: 0.9583     \n",
      "Epoch 66/200\n",
      "120/120 [==============================] - 0s - loss: 0.1543 - acc: 0.9583     \n",
      "Epoch 67/200\n",
      "120/120 [==============================] - 0s - loss: 0.1493 - acc: 0.9583     \n",
      "Epoch 68/200\n",
      "120/120 [==============================] - 0s - loss: 0.1447 - acc: 0.9583     \n",
      "Epoch 69/200\n",
      "120/120 [==============================] - 0s - loss: 0.1403 - acc: 0.9667     \n",
      "Epoch 70/200\n",
      "120/120 [==============================] - 0s - loss: 0.1357 - acc: 0.9667     \n",
      "Epoch 71/200\n",
      "120/120 [==============================] - 0s - loss: 0.1318 - acc: 0.9667     \n",
      "Epoch 72/200\n",
      "120/120 [==============================] - 0s - loss: 0.1269 - acc: 0.9667     \n",
      "Epoch 73/200\n",
      "120/120 [==============================] - 0s - loss: 0.1226 - acc: 0.9667     \n",
      "Epoch 74/200\n",
      "120/120 [==============================] - 0s - loss: 0.1187 - acc: 0.9667     \n",
      "Epoch 75/200\n",
      "120/120 [==============================] - 0s - loss: 0.1151 - acc: 0.9750     \n",
      "Epoch 76/200\n",
      "120/120 [==============================] - 0s - loss: 0.1117 - acc: 0.9833     \n",
      "Epoch 77/200\n",
      "120/120 [==============================] - ETA: 0s - loss: 0.1207 - acc: 1.000 - 0s - loss: 0.1087 - acc: 0.9750     \n",
      "Epoch 78/200\n",
      "120/120 [==============================] - 0s - loss: 0.1060 - acc: 0.9750     \n",
      "Epoch 79/200\n",
      "120/120 [==============================] - 0s - loss: 0.1033 - acc: 0.9750     \n",
      "Epoch 80/200\n",
      "120/120 [==============================] - 0s - loss: 0.1007 - acc: 0.9750     \n",
      "Epoch 81/200\n",
      "120/120 [==============================] - 0s - loss: 0.0985 - acc: 0.9750     \n",
      "Epoch 82/200\n",
      "120/120 [==============================] - 0s - loss: 0.0962 - acc: 0.9750     \n",
      "Epoch 83/200\n",
      "120/120 [==============================] - 0s - loss: 0.0944 - acc: 0.9750     \n",
      "Epoch 84/200\n",
      "120/120 [==============================] - 0s - loss: 0.0920 - acc: 0.9750     \n",
      "Epoch 85/200\n",
      "120/120 [==============================] - 0s - loss: 0.0899 - acc: 0.9750     \n",
      "Epoch 86/200\n",
      "120/120 [==============================] - 0s - loss: 0.0885 - acc: 0.9750     \n",
      "Epoch 87/200\n",
      "120/120 [==============================] - 0s - loss: 0.0866 - acc: 0.9750     \n",
      "Epoch 88/200\n"
     ]
    },
    {
     "name": "stdout",
     "output_type": "stream",
     "text": [
      "120/120 [==============================] - 0s - loss: 0.0850 - acc: 0.9750     \n",
      "Epoch 89/200\n",
      "120/120 [==============================] - 0s - loss: 0.0831 - acc: 0.9750     \n",
      "Epoch 90/200\n",
      "120/120 [==============================] - 0s - loss: 0.0819 - acc: 0.9750     \n",
      "Epoch 91/200\n",
      "120/120 [==============================] - 0s - loss: 0.0802 - acc: 0.9750     \n",
      "Epoch 92/200\n",
      "120/120 [==============================] - 0s - loss: 0.0788 - acc: 0.9750     \n",
      "Epoch 93/200\n",
      "120/120 [==============================] - 0s - loss: 0.0772 - acc: 0.9750     \n",
      "Epoch 94/200\n",
      "120/120 [==============================] - 0s - loss: 0.0760 - acc: 0.9750     \n",
      "Epoch 95/200\n",
      "120/120 [==============================] - 0s - loss: 0.0750 - acc: 0.9750     \n",
      "Epoch 96/200\n",
      "120/120 [==============================] - 0s - loss: 0.0741 - acc: 0.9750     \n",
      "Epoch 97/200\n",
      "120/120 [==============================] - 0s - loss: 0.0726 - acc: 0.9750     \n",
      "Epoch 98/200\n",
      "120/120 [==============================] - 0s - loss: 0.0709 - acc: 0.9750     \n",
      "Epoch 99/200\n",
      "120/120 [==============================] - 0s - loss: 0.0703 - acc: 0.9750     \n",
      "Epoch 100/200\n",
      "120/120 [==============================] - 0s - loss: 0.0694 - acc: 0.9750     \n",
      "Epoch 101/200\n",
      "120/120 [==============================] - 0s - loss: 0.0676 - acc: 0.9750     \n",
      "Epoch 102/200\n",
      "120/120 [==============================] - 0s - loss: 0.0666 - acc: 0.9750     \n",
      "Epoch 103/200\n",
      "120/120 [==============================] - 0s - loss: 0.0662 - acc: 0.9750     \n",
      "Epoch 104/200\n",
      "120/120 [==============================] - 0s - loss: 0.0648 - acc: 0.9750     \n",
      "Epoch 105/200\n",
      "120/120 [==============================] - 0s - loss: 0.0639 - acc: 0.9750     \n",
      "Epoch 106/200\n",
      "120/120 [==============================] - 0s - loss: 0.0628 - acc: 0.9750     \n",
      "Epoch 107/200\n",
      "120/120 [==============================] - 0s - loss: 0.0624 - acc: 0.9750     \n",
      "Epoch 108/200\n",
      "120/120 [==============================] - 0s - loss: 0.0615 - acc: 0.9750     \n",
      "Epoch 109/200\n",
      "120/120 [==============================] - 0s - loss: 0.0601 - acc: 0.9750     \n",
      "Epoch 110/200\n",
      "120/120 [==============================] - 0s - loss: 0.0598 - acc: 0.9750     \n",
      "Epoch 111/200\n",
      "120/120 [==============================] - 0s - loss: 0.0591 - acc: 0.9750     \n",
      "Epoch 112/200\n",
      "120/120 [==============================] - 0s - loss: 0.0585 - acc: 0.9833     \n",
      "Epoch 113/200\n",
      "120/120 [==============================] - 0s - loss: 0.0573 - acc: 0.9750     \n",
      "Epoch 114/200\n",
      "120/120 [==============================] - 0s - loss: 0.0568 - acc: 0.9750     \n",
      "Epoch 115/200\n",
      "120/120 [==============================] - 0s - loss: 0.0564 - acc: 0.9750     \n",
      "Epoch 116/200\n",
      "120/120 [==============================] - 0s - loss: 0.0556 - acc: 0.9750     \n",
      "Epoch 117/200\n",
      "120/120 [==============================] - 0s - loss: 0.0550 - acc: 0.9750     \n",
      "Epoch 118/200\n",
      "120/120 [==============================] - 0s - loss: 0.0543 - acc: 0.9750     \n",
      "Epoch 119/200\n",
      "120/120 [==============================] - 0s - loss: 0.0537 - acc: 0.9750     \n",
      "Epoch 120/200\n",
      "120/120 [==============================] - 0s - loss: 0.0544 - acc: 0.9750     \n",
      "Epoch 121/200\n",
      "120/120 [==============================] - 0s - loss: 0.0532 - acc: 0.9750     \n",
      "Epoch 122/200\n",
      "120/120 [==============================] - 0s - loss: 0.0522 - acc: 0.9750     \n",
      "Epoch 123/200\n",
      "120/120 [==============================] - 0s - loss: 0.0528 - acc: 0.9750     \n",
      "Epoch 124/200\n",
      "120/120 [==============================] - 0s - loss: 0.0536 - acc: 0.9750     \n",
      "Epoch 125/200\n",
      "120/120 [==============================] - 0s - loss: 0.0506 - acc: 0.9750     \n",
      "Epoch 126/200\n",
      "120/120 [==============================] - 0s - loss: 0.0508 - acc: 0.9750     \n",
      "Epoch 127/200\n",
      "120/120 [==============================] - 0s - loss: 0.0498 - acc: 0.9750     \n",
      "Epoch 128/200\n",
      "120/120 [==============================] - 0s - loss: 0.0493 - acc: 0.9750     \n",
      "Epoch 129/200\n",
      "120/120 [==============================] - 0s - loss: 0.0489 - acc: 0.9750     \n",
      "Epoch 130/200\n",
      "120/120 [==============================] - 0s - loss: 0.0486 - acc: 0.9750     \n",
      "Epoch 131/200\n",
      "120/120 [==============================] - 0s - loss: 0.0480 - acc: 0.9750     \n",
      "Epoch 132/200\n",
      "120/120 [==============================] - 0s - loss: 0.0476 - acc: 0.9750     \n",
      "Epoch 133/200\n",
      "120/120 [==============================] - 0s - loss: 0.0477 - acc: 0.9750     \n",
      "Epoch 134/200\n",
      "120/120 [==============================] - 0s - loss: 0.0470 - acc: 0.9750     \n",
      "Epoch 135/200\n",
      "120/120 [==============================] - 0s - loss: 0.0467 - acc: 0.9750     \n",
      "Epoch 136/200\n",
      "120/120 [==============================] - 0s - loss: 0.0466 - acc: 0.9750     \n",
      "Epoch 137/200\n",
      "120/120 [==============================] - 0s - loss: 0.0460 - acc: 0.9750     \n",
      "Epoch 138/200\n",
      "120/120 [==============================] - 0s - loss: 0.0454 - acc: 0.9750     \n",
      "Epoch 139/200\n",
      "120/120 [==============================] - 0s - loss: 0.0454 - acc: 0.9750     \n",
      "Epoch 140/200\n",
      "120/120 [==============================] - 0s - loss: 0.0449 - acc: 0.9750     \n",
      "Epoch 141/200\n",
      "120/120 [==============================] - 0s - loss: 0.0442 - acc: 0.9750     \n",
      "Epoch 142/200\n",
      "120/120 [==============================] - 0s - loss: 0.0443 - acc: 0.9917     \n",
      "Epoch 143/200\n",
      "120/120 [==============================] - 0s - loss: 0.0445 - acc: 0.9917     \n",
      "Epoch 144/200\n",
      "120/120 [==============================] - 0s - loss: 0.0436 - acc: 0.9917     \n",
      "Epoch 145/200\n",
      "120/120 [==============================] - 0s - loss: 0.0430 - acc: 0.9750     \n",
      "Epoch 146/200\n",
      "120/120 [==============================] - 0s - loss: 0.0429 - acc: 0.9750     \n",
      "Epoch 147/200\n",
      "120/120 [==============================] - 0s - loss: 0.0428 - acc: 0.9750     \n",
      "Epoch 148/200\n",
      "120/120 [==============================] - 0s - loss: 0.0429 - acc: 0.9750     \n",
      "Epoch 149/200\n",
      "120/120 [==============================] - 0s - loss: 0.0422 - acc: 0.9917     \n",
      "Epoch 150/200\n",
      "120/120 [==============================] - 0s - loss: 0.0428 - acc: 0.9917     \n",
      "Epoch 151/200\n",
      "120/120 [==============================] - 0s - loss: 0.0414 - acc: 0.9917     \n",
      "Epoch 152/200\n",
      "120/120 [==============================] - 0s - loss: 0.0419 - acc: 0.9750     \n",
      "Epoch 153/200\n",
      "120/120 [==============================] - 0s - loss: 0.0413 - acc: 0.9750     \n",
      "Epoch 154/200\n",
      "120/120 [==============================] - 0s - loss: 0.0410 - acc: 0.9750     \n",
      "Epoch 155/200\n",
      "120/120 [==============================] - 0s - loss: 0.0407 - acc: 0.9833     \n",
      "Epoch 156/200\n",
      "120/120 [==============================] - 0s - loss: 0.0411 - acc: 0.9833     \n",
      "Epoch 157/200\n",
      "120/120 [==============================] - 0s - loss: 0.0402 - acc: 0.9833     \n",
      "Epoch 158/200\n",
      "120/120 [==============================] - 0s - loss: 0.0403 - acc: 0.9833     \n",
      "Epoch 159/200\n",
      "120/120 [==============================] - 0s - loss: 0.0399 - acc: 0.9833     \n",
      "Epoch 160/200\n",
      "120/120 [==============================] - 0s - loss: 0.0404 - acc: 0.9917     \n",
      "Epoch 161/200\n",
      "120/120 [==============================] - 0s - loss: 0.0392 - acc: 0.9917     \n",
      "Epoch 162/200\n",
      "120/120 [==============================] - 0s - loss: 0.0394 - acc: 0.9917     \n",
      "Epoch 163/200\n",
      "120/120 [==============================] - 0s - loss: 0.0395 - acc: 0.9833     \n",
      "Epoch 164/200\n",
      "120/120 [==============================] - 0s - loss: 0.0385 - acc: 0.9833         \n",
      "Epoch 165/200\n",
      "120/120 [==============================] - 0s - loss: 0.0384 - acc: 0.9833     \n",
      "Epoch 166/200\n",
      "120/120 [==============================] - 0s - loss: 0.0390 - acc: 0.9917     \n",
      "Epoch 167/200\n",
      "120/120 [==============================] - 0s - loss: 0.0382 - acc: 0.9917     \n",
      "Epoch 168/200\n",
      "120/120 [==============================] - 0s - loss: 0.0381 - acc: 0.9833     \n",
      "Epoch 169/200\n",
      "120/120 [==============================] - 0s - loss: 0.0377 - acc: 0.9833     \n",
      "Epoch 170/200\n",
      "120/120 [==============================] - 0s - loss: 0.0374 - acc: 0.9833     \n",
      "Epoch 171/200\n",
      "120/120 [==============================] - 0s - loss: 0.0380 - acc: 0.9833     \n",
      "Epoch 172/200\n",
      "120/120 [==============================] - 0s - loss: 0.0370 - acc: 0.9917     \n",
      "Epoch 173/200\n",
      "120/120 [==============================] - 0s - loss: 0.0371 - acc: 0.9917     \n",
      "Epoch 174/200\n",
      "120/120 [==============================] - 0s - loss: 0.0369 - acc: 0.9833     \n",
      "Epoch 175/200\n"
     ]
    },
    {
     "name": "stdout",
     "output_type": "stream",
     "text": [
      "120/120 [==============================] - 0s - loss: 0.0367 - acc: 0.9833     \n",
      "Epoch 176/200\n",
      "120/120 [==============================] - 0s - loss: 0.0375 - acc: 0.9833     \n",
      "Epoch 177/200\n",
      "120/120 [==============================] - 0s - loss: 0.0366 - acc: 0.9917     \n",
      "Epoch 178/200\n",
      "120/120 [==============================] - 0s - loss: 0.0361 - acc: 0.9917     \n",
      "Epoch 179/200\n",
      "120/120 [==============================] - 0s - loss: 0.0359 - acc: 0.9917     \n",
      "Epoch 180/200\n",
      "120/120 [==============================] - 0s - loss: 0.0357 - acc: 0.9917     \n",
      "Epoch 181/200\n",
      "120/120 [==============================] - 0s - loss: 0.0356 - acc: 0.9917     \n",
      "Epoch 182/200\n",
      "120/120 [==============================] - 0s - loss: 0.0354 - acc: 0.9833     \n",
      "Epoch 183/200\n",
      "120/120 [==============================] - 0s - loss: 0.0357 - acc: 0.9917     \n",
      "Epoch 184/200\n",
      "120/120 [==============================] - 0s - loss: 0.0350 - acc: 0.9917     \n",
      "Epoch 185/200\n",
      "120/120 [==============================] - 0s - loss: 0.0352 - acc: 0.9917     \n",
      "Epoch 186/200\n",
      "120/120 [==============================] - 0s - loss: 0.0347 - acc: 0.9917     \n",
      "Epoch 187/200\n",
      "120/120 [==============================] - 0s - loss: 0.0346 - acc: 0.9917     \n",
      "Epoch 188/200\n",
      "120/120 [==============================] - 0s - loss: 0.0345 - acc: 0.9833     \n",
      "Epoch 189/200\n",
      "120/120 [==============================] - 0s - loss: 0.0344 - acc: 0.9917         \n",
      "Epoch 190/200\n",
      "120/120 [==============================] - 0s - loss: 0.0346 - acc: 0.9833     \n",
      "Epoch 191/200\n",
      "120/120 [==============================] - 0s - loss: 0.0342 - acc: 0.9917     \n",
      "Epoch 192/200\n",
      "120/120 [==============================] - 0s - loss: 0.0344 - acc: 0.9833         \n",
      "Epoch 193/200\n",
      "120/120 [==============================] - 0s - loss: 0.0338 - acc: 0.9917     \n",
      "Epoch 194/200\n",
      "120/120 [==============================] - 0s - loss: 0.0335 - acc: 0.9917     \n",
      "Epoch 195/200\n",
      "120/120 [==============================] - 0s - loss: 0.0341 - acc: 0.9833     \n",
      "Epoch 196/200\n",
      "120/120 [==============================] - 0s - loss: 0.0335 - acc: 0.9917     \n",
      "Epoch 197/200\n",
      "120/120 [==============================] - 0s - loss: 0.0336 - acc: 0.9917     \n",
      "Epoch 198/200\n",
      "120/120 [==============================] - 0s - loss: 0.0329 - acc: 0.9917     \n",
      "Epoch 199/200\n",
      "120/120 [==============================] - 0s - loss: 0.0337 - acc: 0.9833     \n",
      "Epoch 200/200\n",
      "120/120 [==============================] - 0s - loss: 0.0340 - acc: 0.9917         \n"
     ]
    },
    {
     "data": {
      "text/plain": [
       "<keras.callbacks.History at 0xa1b84714e0>"
      ]
     },
     "execution_count": 12,
     "metadata": {},
     "output_type": "execute_result"
    }
   ],
   "source": [
    "clf_ann = Sequential()\n",
    "\n",
    "# First Hidden Layer\n",
    "clf_ann.add(Dense(output_dim = 8, init = 'uniform', activation = 'relu', input_dim = 4))\n",
    "\n",
    "# Output Layer\n",
    "clf_ann.add(Dense(output_dim = 3, init = 'uniform', activation = 'softmax'))\n",
    "\n",
    "# Compile the ANN\n",
    "clf_ann.compile(optimizer = 'adam', loss = 'categorical_crossentropy', metrics = ['accuracy'])\n",
    "\n",
    "# Train the ANN on the Training Set\n",
    "clf_ann.fit(X_train, Y_train, batch_size = 5, nb_epoch = 200)"
   ]
  },
  {
   "cell_type": "code",
   "execution_count": 13,
   "metadata": {
    "collapsed": true
   },
   "outputs": [],
   "source": [
    "Y_pred = clf_ann.predict(X_test)\n",
    "Y_pred_class = np.argmax(Y_pred, axis = 1)\n",
    "Y_test_class = np.argmax(Y_test, axis = 1)"
   ]
  },
  {
   "cell_type": "markdown",
   "metadata": {},
   "source": [
    "## Check the Accuracy"
   ]
  },
  {
   "cell_type": "code",
   "execution_count": 14,
   "metadata": {},
   "outputs": [
    {
     "data": {
      "text/plain": [
       "0.93333333333333335"
      ]
     },
     "execution_count": 14,
     "metadata": {},
     "output_type": "execute_result"
    }
   ],
   "source": [
    "from sklearn.metrics import accuracy_score, confusion_matrix\n",
    "accuracy_score(Y_test_class, Y_pred_class)"
   ]
  },
  {
   "cell_type": "code",
   "execution_count": 15,
   "metadata": {},
   "outputs": [
    {
     "data": {
      "text/plain": [
       "array([[16,  0,  0],\n",
       "       [ 0,  4,  1],\n",
       "       [ 0,  1,  8]], dtype=int64)"
      ]
     },
     "execution_count": 15,
     "metadata": {},
     "output_type": "execute_result"
    }
   ],
   "source": [
    "confusion_matrix(Y_test_class, Y_pred_class)"
   ]
  },
  {
   "cell_type": "code",
   "execution_count": null,
   "metadata": {
    "collapsed": true
   },
   "outputs": [],
   "source": []
  }
 ],
 "metadata": {
  "kernelspec": {
   "display_name": "Python [default]",
   "language": "python",
   "name": "python3"
  },
  "language_info": {
   "codemirror_mode": {
    "name": "ipython",
    "version": 3
   },
   "file_extension": ".py",
   "mimetype": "text/x-python",
   "name": "python",
   "nbconvert_exporter": "python",
   "pygments_lexer": "ipython3",
   "version": "3.5.4"
  }
 },
 "nbformat": 4,
 "nbformat_minor": 2
}
