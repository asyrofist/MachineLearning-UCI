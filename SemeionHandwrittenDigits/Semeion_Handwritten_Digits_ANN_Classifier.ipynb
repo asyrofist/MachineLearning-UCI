{
 "cells": [
  {
   "cell_type": "markdown",
   "metadata": {},
   "source": [
    "## Initialization"
   ]
  },
  {
   "cell_type": "code",
   "execution_count": 1,
   "metadata": {},
   "outputs": [
    {
     "name": "stderr",
     "output_type": "stream",
     "text": [
      "Using Theano backend.\n"
     ]
    }
   ],
   "source": [
    "import pandas as pd\n",
    "import numpy as np\n",
    "import keras"
   ]
  },
  {
   "cell_type": "markdown",
   "metadata": {},
   "source": [
    "## Importing the Data"
   ]
  },
  {
   "cell_type": "code",
   "execution_count": 2,
   "metadata": {},
   "outputs": [
    {
     "data": {
      "text/plain": [
       "(1593, 266)"
      ]
     },
     "execution_count": 2,
     "metadata": {},
     "output_type": "execute_result"
    }
   ],
   "source": [
    "dataset = pd.read_csv('semeion.data', header = None, delimiter = r\"\\s+\")\n",
    "dataset.shape"
   ]
  },
  {
   "cell_type": "code",
   "execution_count": 3,
   "metadata": {},
   "outputs": [
    {
     "data": {
      "text/html": [
       "<div>\n",
       "<style>\n",
       "    .dataframe thead tr:only-child th {\n",
       "        text-align: right;\n",
       "    }\n",
       "\n",
       "    .dataframe thead th {\n",
       "        text-align: left;\n",
       "    }\n",
       "\n",
       "    .dataframe tbody tr th {\n",
       "        vertical-align: top;\n",
       "    }\n",
       "</style>\n",
       "<table border=\"1\" class=\"dataframe\">\n",
       "  <thead>\n",
       "    <tr style=\"text-align: right;\">\n",
       "      <th></th>\n",
       "      <th>0</th>\n",
       "      <th>1</th>\n",
       "      <th>2</th>\n",
       "      <th>3</th>\n",
       "      <th>4</th>\n",
       "      <th>5</th>\n",
       "      <th>6</th>\n",
       "      <th>7</th>\n",
       "      <th>8</th>\n",
       "      <th>9</th>\n",
       "      <th>...</th>\n",
       "      <th>256</th>\n",
       "      <th>257</th>\n",
       "      <th>258</th>\n",
       "      <th>259</th>\n",
       "      <th>260</th>\n",
       "      <th>261</th>\n",
       "      <th>262</th>\n",
       "      <th>263</th>\n",
       "      <th>264</th>\n",
       "      <th>265</th>\n",
       "    </tr>\n",
       "  </thead>\n",
       "  <tbody>\n",
       "    <tr>\n",
       "      <th>0</th>\n",
       "      <td>0.0</td>\n",
       "      <td>0.0</td>\n",
       "      <td>0.0</td>\n",
       "      <td>0.0</td>\n",
       "      <td>0.0</td>\n",
       "      <td>0.0</td>\n",
       "      <td>1.0</td>\n",
       "      <td>1.0</td>\n",
       "      <td>1.0</td>\n",
       "      <td>1.0</td>\n",
       "      <td>...</td>\n",
       "      <td>1</td>\n",
       "      <td>0</td>\n",
       "      <td>0</td>\n",
       "      <td>0</td>\n",
       "      <td>0</td>\n",
       "      <td>0</td>\n",
       "      <td>0</td>\n",
       "      <td>0</td>\n",
       "      <td>0</td>\n",
       "      <td>0</td>\n",
       "    </tr>\n",
       "    <tr>\n",
       "      <th>1</th>\n",
       "      <td>0.0</td>\n",
       "      <td>0.0</td>\n",
       "      <td>0.0</td>\n",
       "      <td>0.0</td>\n",
       "      <td>0.0</td>\n",
       "      <td>1.0</td>\n",
       "      <td>1.0</td>\n",
       "      <td>1.0</td>\n",
       "      <td>1.0</td>\n",
       "      <td>1.0</td>\n",
       "      <td>...</td>\n",
       "      <td>1</td>\n",
       "      <td>0</td>\n",
       "      <td>0</td>\n",
       "      <td>0</td>\n",
       "      <td>0</td>\n",
       "      <td>0</td>\n",
       "      <td>0</td>\n",
       "      <td>0</td>\n",
       "      <td>0</td>\n",
       "      <td>0</td>\n",
       "    </tr>\n",
       "    <tr>\n",
       "      <th>2</th>\n",
       "      <td>0.0</td>\n",
       "      <td>0.0</td>\n",
       "      <td>0.0</td>\n",
       "      <td>0.0</td>\n",
       "      <td>0.0</td>\n",
       "      <td>0.0</td>\n",
       "      <td>0.0</td>\n",
       "      <td>0.0</td>\n",
       "      <td>0.0</td>\n",
       "      <td>1.0</td>\n",
       "      <td>...</td>\n",
       "      <td>1</td>\n",
       "      <td>0</td>\n",
       "      <td>0</td>\n",
       "      <td>0</td>\n",
       "      <td>0</td>\n",
       "      <td>0</td>\n",
       "      <td>0</td>\n",
       "      <td>0</td>\n",
       "      <td>0</td>\n",
       "      <td>0</td>\n",
       "    </tr>\n",
       "    <tr>\n",
       "      <th>3</th>\n",
       "      <td>0.0</td>\n",
       "      <td>0.0</td>\n",
       "      <td>0.0</td>\n",
       "      <td>0.0</td>\n",
       "      <td>0.0</td>\n",
       "      <td>0.0</td>\n",
       "      <td>1.0</td>\n",
       "      <td>1.0</td>\n",
       "      <td>1.0</td>\n",
       "      <td>1.0</td>\n",
       "      <td>...</td>\n",
       "      <td>1</td>\n",
       "      <td>0</td>\n",
       "      <td>0</td>\n",
       "      <td>0</td>\n",
       "      <td>0</td>\n",
       "      <td>0</td>\n",
       "      <td>0</td>\n",
       "      <td>0</td>\n",
       "      <td>0</td>\n",
       "      <td>0</td>\n",
       "    </tr>\n",
       "    <tr>\n",
       "      <th>4</th>\n",
       "      <td>0.0</td>\n",
       "      <td>0.0</td>\n",
       "      <td>0.0</td>\n",
       "      <td>0.0</td>\n",
       "      <td>0.0</td>\n",
       "      <td>0.0</td>\n",
       "      <td>0.0</td>\n",
       "      <td>0.0</td>\n",
       "      <td>0.0</td>\n",
       "      <td>1.0</td>\n",
       "      <td>...</td>\n",
       "      <td>1</td>\n",
       "      <td>0</td>\n",
       "      <td>0</td>\n",
       "      <td>0</td>\n",
       "      <td>0</td>\n",
       "      <td>0</td>\n",
       "      <td>0</td>\n",
       "      <td>0</td>\n",
       "      <td>0</td>\n",
       "      <td>0</td>\n",
       "    </tr>\n",
       "  </tbody>\n",
       "</table>\n",
       "<p>5 rows × 266 columns</p>\n",
       "</div>"
      ],
      "text/plain": [
       "   0    1    2    3    4    5    6    7    8    9   ...   256  257  258  259  \\\n",
       "0  0.0  0.0  0.0  0.0  0.0  0.0  1.0  1.0  1.0  1.0 ...     1    0    0    0   \n",
       "1  0.0  0.0  0.0  0.0  0.0  1.0  1.0  1.0  1.0  1.0 ...     1    0    0    0   \n",
       "2  0.0  0.0  0.0  0.0  0.0  0.0  0.0  0.0  0.0  1.0 ...     1    0    0    0   \n",
       "3  0.0  0.0  0.0  0.0  0.0  0.0  1.0  1.0  1.0  1.0 ...     1    0    0    0   \n",
       "4  0.0  0.0  0.0  0.0  0.0  0.0  0.0  0.0  0.0  1.0 ...     1    0    0    0   \n",
       "\n",
       "   260  261  262  263  264  265  \n",
       "0    0    0    0    0    0    0  \n",
       "1    0    0    0    0    0    0  \n",
       "2    0    0    0    0    0    0  \n",
       "3    0    0    0    0    0    0  \n",
       "4    0    0    0    0    0    0  \n",
       "\n",
       "[5 rows x 266 columns]"
      ]
     },
     "execution_count": 3,
     "metadata": {},
     "output_type": "execute_result"
    }
   ],
   "source": [
    "dataset.head()"
   ]
  },
  {
   "cell_type": "markdown",
   "metadata": {},
   "source": [
    "## Create X and Y"
   ]
  },
  {
   "cell_type": "code",
   "execution_count": 4,
   "metadata": {
    "collapsed": true
   },
   "outputs": [],
   "source": [
    "X = dataset.iloc[:, 0:256].values\n",
    "Y = dataset.iloc[:, 256:].values"
   ]
  },
  {
   "cell_type": "code",
   "execution_count": 5,
   "metadata": {},
   "outputs": [
    {
     "data": {
      "text/plain": [
       "(1593, 256)"
      ]
     },
     "execution_count": 5,
     "metadata": {},
     "output_type": "execute_result"
    }
   ],
   "source": [
    "X.shape"
   ]
  },
  {
   "cell_type": "code",
   "execution_count": 6,
   "metadata": {},
   "outputs": [
    {
     "data": {
      "text/plain": [
       "(1593, 10)"
      ]
     },
     "execution_count": 6,
     "metadata": {},
     "output_type": "execute_result"
    }
   ],
   "source": [
    "Y.shape"
   ]
  },
  {
   "cell_type": "code",
   "execution_count": 7,
   "metadata": {},
   "outputs": [
    {
     "data": {
      "text/plain": [
       "array([ 0.,  0.,  0.,  0.,  0.,  0.,  1.,  1.,  1.,  1.,  1.,  1.,  1.,\n",
       "        1.,  0.,  0.,  0.,  0.,  0.,  0.,  0.,  1.,  1.,  1.,  1.,  1.,\n",
       "        1.,  0.,  1.,  1.,  0.,  0.,  0.,  0.,  0.,  0.,  1.,  1.,  1.,\n",
       "        1.,  1.,  1.,  0.,  0.,  0.,  1.,  1.,  0.,  0.,  0.,  0.,  1.,\n",
       "        1.,  1.,  1.,  1.,  0.,  0.,  0.,  0.,  1.,  1.,  1.,  1.,  0.,\n",
       "        0.,  0.,  1.,  1.,  1.,  1.,  0.,  1.,  1.,  1.,  1.,  1.,  1.,\n",
       "        1.,  0.,  0.,  0.,  0.,  1.,  1.,  1.,  0.,  1.,  1.,  1.,  1.,\n",
       "        1.,  0.,  1.,  1.,  0.,  0.,  0.,  1.,  1.,  1.,  1.,  1.,  1.,\n",
       "        1.,  1.,  0.,  0.,  0.,  1.,  1.,  0.,  0.,  0.,  1.,  1.,  1.,\n",
       "        1.,  1.,  1.,  0.,  0.,  0.,  0.,  1.,  1.,  0.,  0.,  0.,  1.,\n",
       "        1.,  1.,  1.,  1.,  1.,  0.,  0.,  0.,  0.,  0.,  1.,  1.,  0.,\n",
       "        0.,  0.,  1.,  1.,  1.,  1.,  0.,  0.,  0.,  0.,  0.,  0.,  0.,\n",
       "        1.,  1.,  0.,  0.,  0.,  1.,  1.,  1.,  0.,  0.,  0.,  0.,  0.,\n",
       "        0.,  1.,  1.,  1.,  0.,  0.,  0.,  1.,  1.,  1.,  0.,  0.,  0.,\n",
       "        0.,  0.,  0.,  0.,  1.,  1.,  0.,  0.,  0.,  0.,  1.,  1.,  1.,\n",
       "        1.,  0.,  0.,  0.,  0.,  1.,  1.,  1.,  1.,  0.,  0.,  0.,  0.,\n",
       "        1.,  1.,  1.,  1.,  0.,  0.,  0.,  1.,  1.,  1.,  0.,  0.,  0.,\n",
       "        0.,  0.,  0.,  1.,  0.,  1.,  1.,  1.,  1.,  1.,  1.,  1.,  0.,\n",
       "        0.,  0.,  0.,  0.,  0.,  0.,  0.,  0.,  0.,  1.,  1.,  1.,  1.,\n",
       "        0.,  0.,  0.,  0.,  0.,  0.,  0.,  0.,  0.])"
      ]
     },
     "execution_count": 7,
     "metadata": {},
     "output_type": "execute_result"
    }
   ],
   "source": [
    "X[0]"
   ]
  },
  {
   "cell_type": "code",
   "execution_count": 8,
   "metadata": {},
   "outputs": [
    {
     "data": {
      "text/plain": [
       "array([1, 0, 0, 0, 0, 0, 0, 0, 0, 0], dtype=int64)"
      ]
     },
     "execution_count": 8,
     "metadata": {},
     "output_type": "execute_result"
    }
   ],
   "source": [
    "Y[0]"
   ]
  },
  {
   "cell_type": "markdown",
   "metadata": {},
   "source": [
    "## Create Train and Test Data"
   ]
  },
  {
   "cell_type": "code",
   "execution_count": 9,
   "metadata": {
    "collapsed": true
   },
   "outputs": [],
   "source": [
    "from sklearn.model_selection import train_test_split"
   ]
  },
  {
   "cell_type": "code",
   "execution_count": 10,
   "metadata": {
    "collapsed": true
   },
   "outputs": [],
   "source": [
    "X_train, X_test, Y_train, Y_test = train_test_split(X, Y, test_size = 0.2, random_state = 4)"
   ]
  },
  {
   "cell_type": "code",
   "execution_count": 11,
   "metadata": {},
   "outputs": [
    {
     "data": {
      "text/plain": [
       "(1274, 256)"
      ]
     },
     "execution_count": 11,
     "metadata": {},
     "output_type": "execute_result"
    }
   ],
   "source": [
    "X_train.shape"
   ]
  },
  {
   "cell_type": "code",
   "execution_count": 12,
   "metadata": {},
   "outputs": [
    {
     "data": {
      "text/plain": [
       "(319, 256)"
      ]
     },
     "execution_count": 12,
     "metadata": {},
     "output_type": "execute_result"
    }
   ],
   "source": [
    "X_test.shape"
   ]
  },
  {
   "cell_type": "code",
   "execution_count": 13,
   "metadata": {},
   "outputs": [
    {
     "data": {
      "text/plain": [
       "(1274, 10)"
      ]
     },
     "execution_count": 13,
     "metadata": {},
     "output_type": "execute_result"
    }
   ],
   "source": [
    "Y_train.shape"
   ]
  },
  {
   "cell_type": "code",
   "execution_count": 14,
   "metadata": {},
   "outputs": [
    {
     "data": {
      "text/plain": [
       "(319, 10)"
      ]
     },
     "execution_count": 14,
     "metadata": {},
     "output_type": "execute_result"
    }
   ],
   "source": [
    "Y_test.shape"
   ]
  },
  {
   "cell_type": "markdown",
   "metadata": {},
   "source": [
    "## Create and train the ANN Classifier"
   ]
  },
  {
   "cell_type": "code",
   "execution_count": 15,
   "metadata": {
    "collapsed": true
   },
   "outputs": [],
   "source": [
    "from keras.models import Sequential\n",
    "from keras.layers import Dense"
   ]
  },
  {
   "cell_type": "code",
   "execution_count": 16,
   "metadata": {},
   "outputs": [
    {
     "name": "stderr",
     "output_type": "stream",
     "text": [
      "C:\\Users\\user\\Anaconda3\\lib\\site-packages\\ipykernel\\__main__.py:4: UserWarning: Update your `Dense` call to the Keras 2 API: `Dense(input_dim=256, units=133, kernel_initializer=\"uniform\", activation=\"relu\")`\n",
      "C:\\Users\\user\\Anaconda3\\lib\\site-packages\\ipykernel\\__main__.py:10: UserWarning: Update your `Dense` call to the Keras 2 API: `Dense(units=10, kernel_initializer=\"uniform\", activation=\"softmax\")`\n",
      "C:\\Users\\user\\Anaconda3\\lib\\site-packages\\keras\\models.py:844: UserWarning: The `nb_epoch` argument in `fit` has been renamed `epochs`.\n",
      "  warnings.warn('The `nb_epoch` argument in `fit` '\n"
     ]
    },
    {
     "name": "stdout",
     "output_type": "stream",
     "text": [
      "Epoch 1/100\n",
      "1274/1274 [==============================] - 0s - loss: 1.3069 - acc: 0.6758     \n",
      "Epoch 2/100\n",
      "1274/1274 [==============================] - 0s - loss: 0.4131 - acc: 0.8909     \n",
      "Epoch 3/100\n",
      "1274/1274 [==============================] - 0s - loss: 0.2472 - acc: 0.9356     \n",
      "Epoch 4/100\n",
      "1274/1274 [==============================] - 0s - loss: 0.1690 - acc: 0.9647     \n",
      "Epoch 5/100\n",
      "1274/1274 [==============================] - 0s - loss: 0.1264 - acc: 0.9749     \n",
      "Epoch 6/100\n",
      "1274/1274 [==============================] - 0s - loss: 0.0848 - acc: 0.9851     \n",
      "Epoch 7/100\n",
      "1274/1274 [==============================] - 0s - loss: 0.0692 - acc: 0.9906     \n",
      "Epoch 8/100\n",
      "1274/1274 [==============================] - 0s - loss: 0.0496 - acc: 0.9961     \n",
      "Epoch 9/100\n",
      "1274/1274 [==============================] - 0s - loss: 0.0337 - acc: 0.9969     \n",
      "Epoch 10/100\n",
      "1274/1274 [==============================] - 0s - loss: 0.0256 - acc: 0.9984     \n",
      "Epoch 11/100\n",
      "1274/1274 [==============================] - 0s - loss: 0.0192 - acc: 1.0000     \n",
      "Epoch 12/100\n",
      "1274/1274 [==============================] - 0s - loss: 0.0160 - acc: 1.0000     \n",
      "Epoch 13/100\n",
      "1274/1274 [==============================] - 0s - loss: 0.0128 - acc: 1.0000     \n",
      "Epoch 14/100\n",
      "1274/1274 [==============================] - 0s - loss: 0.0105 - acc: 1.0000     \n",
      "Epoch 15/100\n",
      "1274/1274 [==============================] - 0s - loss: 0.0087 - acc: 1.0000     \n",
      "Epoch 16/100\n",
      "1274/1274 [==============================] - 0s - loss: 0.0074 - acc: 1.0000     \n",
      "Epoch 17/100\n",
      "1274/1274 [==============================] - 0s - loss: 0.0062 - acc: 1.0000     \n",
      "Epoch 18/100\n",
      "1274/1274 [==============================] - 0s - loss: 0.0053 - acc: 1.0000     \n",
      "Epoch 19/100\n",
      "1274/1274 [==============================] - 0s - loss: 0.0047 - acc: 1.0000     \n",
      "Epoch 20/100\n",
      "1274/1274 [==============================] - 0s - loss: 0.0040 - acc: 1.0000     \n",
      "Epoch 21/100\n",
      "1274/1274 [==============================] - 0s - loss: 0.0036 - acc: 1.0000       \n",
      "Epoch 22/100\n",
      "1274/1274 [==============================] - 0s - loss: 0.0031 - acc: 1.0000     \n",
      "Epoch 23/100\n",
      "1274/1274 [==============================] - 0s - loss: 0.0028 - acc: 1.0000     \n",
      "Epoch 24/100\n",
      "1274/1274 [==============================] - 0s - loss: 0.0025 - acc: 1.0000     \n",
      "Epoch 25/100\n",
      "1274/1274 [==============================] - 0s - loss: 0.0022 - acc: 1.0000     \n",
      "Epoch 26/100\n",
      "1274/1274 [==============================] - 0s - loss: 0.0020 - acc: 1.0000     \n",
      "Epoch 27/100\n",
      "1274/1274 [==============================] - 0s - loss: 0.0018 - acc: 1.0000     \n",
      "Epoch 28/100\n",
      "1274/1274 [==============================] - 0s - loss: 0.0016 - acc: 1.0000       \n",
      "Epoch 29/100\n",
      "1274/1274 [==============================] - 0s - loss: 0.0014 - acc: 1.0000       \n",
      "Epoch 30/100\n",
      "1274/1274 [==============================] - 0s - loss: 0.0013 - acc: 1.0000     \n",
      "Epoch 31/100\n",
      "1274/1274 [==============================] - 0s - loss: 0.0012 - acc: 1.0000     \n",
      "Epoch 32/100\n",
      "1274/1274 [==============================] - 0s - loss: 0.0011 - acc: 1.0000        \n",
      "Epoch 33/100\n",
      "1274/1274 [==============================] - 0s - loss: 9.5265e-04 - acc: 1.0000     \n",
      "Epoch 34/100\n",
      "1274/1274 [==============================] - 0s - loss: 8.7480e-04 - acc: 1.0000     \n",
      "Epoch 35/100\n",
      "1274/1274 [==============================] - 0s - loss: 7.9720e-04 - acc: 1.0000     \n",
      "Epoch 36/100\n",
      "1274/1274 [==============================] - 0s - loss: 7.3116e-04 - acc: 1.0000     \n",
      "Epoch 37/100\n",
      "1274/1274 [==============================] - 0s - loss: 6.6022e-04 - acc: 1.0000     \n",
      "Epoch 38/100\n",
      "1274/1274 [==============================] - 0s - loss: 6.0380e-04 - acc: 1.0000     \n",
      "Epoch 39/100\n",
      "1274/1274 [==============================] - 0s - loss: 5.5235e-04 - acc: 1.0000     \n",
      "Epoch 40/100\n",
      "1274/1274 [==============================] - 0s - loss: 5.1196e-04 - acc: 1.0000     \n",
      "Epoch 41/100\n",
      "1274/1274 [==============================] - 0s - loss: 4.6585e-04 - acc: 1.0000     \n",
      "Epoch 42/100\n",
      "1274/1274 [==============================] - 0s - loss: 4.3094e-04 - acc: 1.0000     \n",
      "Epoch 43/100\n",
      "1274/1274 [==============================] - 0s - loss: 3.9455e-04 - acc: 1.0000     \n",
      "Epoch 44/100\n",
      "1274/1274 [==============================] - 0s - loss: 3.6510e-04 - acc: 1.0000     \n",
      "Epoch 45/100\n",
      "1274/1274 [==============================] - 0s - loss: 3.3396e-04 - acc: 1.0000     \n",
      "Epoch 46/100\n",
      "1274/1274 [==============================] - 0s - loss: 3.0604e-04 - acc: 1.0000     \n",
      "Epoch 47/100\n",
      "1274/1274 [==============================] - 0s - loss: 2.8470e-04 - acc: 1.0000     \n",
      "Epoch 48/100\n",
      "1274/1274 [==============================] - 0s - loss: 2.6054e-04 - acc: 1.0000     \n",
      "Epoch 49/100\n",
      "1274/1274 [==============================] - 0s - loss: 2.4446e-04 - acc: 1.0000     \n",
      "Epoch 50/100\n",
      "1274/1274 [==============================] - 0s - loss: 2.2407e-04 - acc: 1.0000     \n",
      "Epoch 51/100\n",
      "1274/1274 [==============================] - 0s - loss: 2.0869e-04 - acc: 1.0000     \n",
      "Epoch 52/100\n",
      "1274/1274 [==============================] - 0s - loss: 1.8972e-04 - acc: 1.0000     \n",
      "Epoch 53/100\n",
      "1274/1274 [==============================] - 0s - loss: 1.7602e-04 - acc: 1.0000     \n",
      "Epoch 54/100\n",
      "1274/1274 [==============================] - 0s - loss: 1.6412e-04 - acc: 1.0000     \n",
      "Epoch 55/100\n",
      "1274/1274 [==============================] - 0s - loss: 1.5018e-04 - acc: 1.0000     \n",
      "Epoch 56/100\n",
      "1274/1274 [==============================] - 0s - loss: 1.3925e-04 - acc: 1.0000     \n",
      "Epoch 57/100\n",
      "1274/1274 [==============================] - 0s - loss: 1.2967e-04 - acc: 1.0000     \n",
      "Epoch 58/100\n",
      "1274/1274 [==============================] - 0s - loss: 1.2044e-04 - acc: 1.0000     \n",
      "Epoch 59/100\n",
      "1274/1274 [==============================] - 0s - loss: 1.1124e-04 - acc: 1.0000     \n",
      "Epoch 60/100\n",
      "1274/1274 [==============================] - 0s - loss: 1.0278e-04 - acc: 1.0000     \n",
      "Epoch 61/100\n",
      "1274/1274 [==============================] - 0s - loss: 9.5468e-05 - acc: 1.0000     \n",
      "Epoch 62/100\n",
      "1274/1274 [==============================] - 0s - loss: 8.8929e-05 - acc: 1.0000     \n",
      "Epoch 63/100\n",
      "1274/1274 [==============================] - 0s - loss: 8.1859e-05 - acc: 1.0000     \n",
      "Epoch 64/100\n",
      "1274/1274 [==============================] - 0s - loss: 7.6080e-05 - acc: 1.0000     \n",
      "Epoch 65/100\n",
      "1274/1274 [==============================] - 0s - loss: 7.1163e-05 - acc: 1.0000     \n",
      "Epoch 66/100\n",
      "1274/1274 [==============================] - 0s - loss: 6.5501e-05 - acc: 1.0000     \n",
      "Epoch 67/100\n",
      "1274/1274 [==============================] - 0s - loss: 6.1670e-05 - acc: 1.0000     \n",
      "Epoch 68/100\n",
      "1274/1274 [==============================] - 0s - loss: 5.6626e-05 - acc: 1.0000     \n",
      "Epoch 69/100\n",
      "1274/1274 [==============================] - 0s - loss: 5.2846e-05 - acc: 1.0000     \n",
      "Epoch 70/100\n",
      "1274/1274 [==============================] - 0s - loss: 4.8665e-05 - acc: 1.0000     \n",
      "Epoch 71/100\n",
      "1274/1274 [==============================] - 0s - loss: 4.6127e-05 - acc: 1.0000     \n",
      "Epoch 72/100\n",
      "1274/1274 [==============================] - 0s - loss: 4.2360e-05 - acc: 1.0000     \n",
      "Epoch 73/100\n",
      "1274/1274 [==============================] - 0s - loss: 3.9555e-05 - acc: 1.0000     \n",
      "Epoch 74/100\n",
      "1274/1274 [==============================] - 0s - loss: 3.6534e-05 - acc: 1.0000     \n",
      "Epoch 75/100\n",
      "1274/1274 [==============================] - 0s - loss: 3.4082e-05 - acc: 1.0000     \n",
      "Epoch 76/100\n",
      "1274/1274 [==============================] - 0s - loss: 3.1501e-05 - acc: 1.0000     \n",
      "Epoch 77/100\n",
      "1274/1274 [==============================] - 0s - loss: 2.9307e-05 - acc: 1.0000     \n",
      "Epoch 78/100\n",
      "1274/1274 [==============================] - 0s - loss: 2.7142e-05 - acc: 1.0000     \n",
      "Epoch 79/100\n",
      "1274/1274 [==============================] - 0s - loss: 2.5536e-05 - acc: 1.0000     \n",
      "Epoch 80/100\n",
      "1274/1274 [==============================] - 0s - loss: 2.3586e-05 - acc: 1.0000     \n",
      "Epoch 81/100\n",
      "1274/1274 [==============================] - 0s - loss: 2.2037e-05 - acc: 1.0000     \n",
      "Epoch 82/100\n",
      "1274/1274 [==============================] - 0s - loss: 2.0335e-05 - acc: 1.0000     \n",
      "Epoch 83/100\n",
      "1274/1274 [==============================] - 0s - loss: 1.8994e-05 - acc: 1.0000     \n",
      "Epoch 84/100\n",
      "1274/1274 [==============================] - 0s - loss: 1.7666e-05 - acc: 1.0000     \n",
      "Epoch 85/100\n"
     ]
    },
    {
     "name": "stdout",
     "output_type": "stream",
     "text": [
      "1274/1274 [==============================] - 0s - loss: 1.6537e-05 - acc: 1.0000     \n",
      "Epoch 86/100\n",
      "1274/1274 [==============================] - 0s - loss: 1.5354e-05 - acc: 1.0000     \n",
      "Epoch 87/100\n",
      "1274/1274 [==============================] - 0s - loss: 1.4294e-05 - acc: 1.0000     \n",
      "Epoch 88/100\n",
      "1274/1274 [==============================] - 0s - loss: 1.3312e-05 - acc: 1.0000     \n",
      "Epoch 89/100\n",
      "1274/1274 [==============================] - 0s - loss: 1.2414e-05 - acc: 1.0000     \n",
      "Epoch 90/100\n",
      "1274/1274 [==============================] - 0s - loss: 1.1492e-05 - acc: 1.0000     \n",
      "Epoch 91/100\n",
      "1274/1274 [==============================] - 0s - loss: 1.0796e-05 - acc: 1.0000     \n",
      "Epoch 92/100\n",
      "1274/1274 [==============================] - 0s - loss: 9.9846e-06 - acc: 1.0000     \n",
      "Epoch 93/100\n",
      "1274/1274 [==============================] - 0s - loss: 9.3076e-06 - acc: 1.0000     \n",
      "Epoch 94/100\n",
      "1274/1274 [==============================] - 0s - loss: 8.6896e-06 - acc: 1.0000     \n",
      "Epoch 95/100\n",
      "1274/1274 [==============================] - 0s - loss: 8.1074e-06 - acc: 1.0000     \n",
      "Epoch 96/100\n",
      "1274/1274 [==============================] - 0s - loss: 7.5206e-06 - acc: 1.0000     \n",
      "Epoch 97/100\n",
      "1274/1274 [==============================] - 0s - loss: 6.9866e-06 - acc: 1.0000     \n",
      "Epoch 98/100\n",
      "1274/1274 [==============================] - 0s - loss: 6.5544e-06 - acc: 1.0000     \n",
      "Epoch 99/100\n",
      "1274/1274 [==============================] - 0s - loss: 6.1149e-06 - acc: 1.0000     \n",
      "Epoch 100/100\n",
      "1274/1274 [==============================] - ETA: 0s - loss: 5.7074e-06 - acc: 1.000 - 0s - loss: 5.6747e-06 - acc: 1.0000     \n"
     ]
    },
    {
     "data": {
      "text/plain": [
       "<keras.callbacks.History at 0x1f2ddd2518>"
      ]
     },
     "execution_count": 16,
     "metadata": {},
     "output_type": "execute_result"
    }
   ],
   "source": [
    "clf_ann = Sequential()\n",
    "\n",
    "# First Hidden Layer\n",
    "clf_ann.add(Dense(output_dim = 133, init = 'uniform', activation = 'relu', input_dim = 256))\n",
    "\n",
    "# Second Hidden Layer\n",
    "#clf_ann.add(Dense(output_dim = 133, init = 'uniform', activation = 'relu'))\n",
    "\n",
    "# Output Layer\n",
    "clf_ann.add(Dense(output_dim = 10, init = 'uniform', activation = 'softmax'))\n",
    "\n",
    "# Compile the ANN\n",
    "clf_ann.compile(optimizer = 'adam', loss = 'categorical_crossentropy', metrics = ['accuracy'])\n",
    "\n",
    "# Train the ANN on the Train Data\n",
    "clf_ann.fit(X_train, Y_train, batch_size = 10, nb_epoch = 100)"
   ]
  },
  {
   "cell_type": "code",
   "execution_count": 17,
   "metadata": {
    "collapsed": true
   },
   "outputs": [],
   "source": [
    "# Test the ANN on the Test Data\n",
    "Y_pred = clf_ann.predict(X_test)\n",
    "Y_pred_class = np.argmax(Y_pred, axis = 1)\n",
    "Y_test_class = np.argmax(Y_test, axis = 1)"
   ]
  },
  {
   "cell_type": "markdown",
   "metadata": {},
   "source": [
    "## Check the Accuracy"
   ]
  },
  {
   "cell_type": "code",
   "execution_count": 18,
   "metadata": {
    "collapsed": true
   },
   "outputs": [],
   "source": [
    "from sklearn.metrics import accuracy_score, confusion_matrix"
   ]
  },
  {
   "cell_type": "code",
   "execution_count": 19,
   "metadata": {},
   "outputs": [
    {
     "data": {
      "text/plain": [
       "0.94357366771159878"
      ]
     },
     "execution_count": 19,
     "metadata": {},
     "output_type": "execute_result"
    }
   ],
   "source": [
    "accuracy_score(Y_test_class, Y_pred_class)"
   ]
  },
  {
   "cell_type": "code",
   "execution_count": 20,
   "metadata": {},
   "outputs": [
    {
     "data": {
      "text/plain": [
       "array([[36,  0,  0,  0,  0,  0,  0,  0,  0,  0],\n",
       "       [ 0, 31,  1,  0,  1,  0,  0,  0,  0,  0],\n",
       "       [ 0,  0, 25,  0,  0,  0,  0,  0,  0,  0],\n",
       "       [ 0,  1,  0, 30,  0,  1,  0,  0,  0,  1],\n",
       "       [ 2,  0,  0,  0, 36,  0,  1,  0,  0,  0],\n",
       "       [ 0,  0,  0,  1,  0, 27,  1,  0,  0,  0],\n",
       "       [ 0,  1,  0,  0,  1,  0, 32,  0,  0,  0],\n",
       "       [ 0,  0,  0,  0,  0,  0,  0, 23,  0,  1],\n",
       "       [ 0,  1,  0,  0,  0,  0,  0,  0, 31,  1],\n",
       "       [ 0,  1,  0,  1,  1,  0,  0,  0,  0, 30]], dtype=int64)"
      ]
     },
     "execution_count": 20,
     "metadata": {},
     "output_type": "execute_result"
    }
   ],
   "source": [
    "confusion_matrix(Y_test_class, Y_pred_class)"
   ]
  },
  {
   "cell_type": "code",
   "execution_count": null,
   "metadata": {
    "collapsed": true
   },
   "outputs": [],
   "source": []
  }
 ],
 "metadata": {
  "kernelspec": {
   "display_name": "Python [default]",
   "language": "python",
   "name": "python3"
  },
  "language_info": {
   "codemirror_mode": {
    "name": "ipython",
    "version": 3
   },
   "file_extension": ".py",
   "mimetype": "text/x-python",
   "name": "python",
   "nbconvert_exporter": "python",
   "pygments_lexer": "ipython3",
   "version": "3.5.4"
  }
 },
 "nbformat": 4,
 "nbformat_minor": 2
}
