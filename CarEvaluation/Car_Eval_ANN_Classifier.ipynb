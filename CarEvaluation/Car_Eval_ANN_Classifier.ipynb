{
 "cells": [
  {
   "cell_type": "markdown",
   "metadata": {},
   "source": [
    "## Initialization"
   ]
  },
  {
   "cell_type": "code",
   "execution_count": 1,
   "metadata": {},
   "outputs": [
    {
     "name": "stderr",
     "output_type": "stream",
     "text": [
      "Using Theano backend.\n"
     ]
    }
   ],
   "source": [
    "import pandas as pd\n",
    "import numpy as np\n",
    "import keras"
   ]
  },
  {
   "cell_type": "markdown",
   "metadata": {},
   "source": [
    "## Importing the Data"
   ]
  },
  {
   "cell_type": "code",
   "execution_count": 2,
   "metadata": {},
   "outputs": [
    {
     "data": {
      "text/html": [
       "<div>\n",
       "<style>\n",
       "    .dataframe thead tr:only-child th {\n",
       "        text-align: right;\n",
       "    }\n",
       "\n",
       "    .dataframe thead th {\n",
       "        text-align: left;\n",
       "    }\n",
       "\n",
       "    .dataframe tbody tr th {\n",
       "        vertical-align: top;\n",
       "    }\n",
       "</style>\n",
       "<table border=\"1\" class=\"dataframe\">\n",
       "  <thead>\n",
       "    <tr style=\"text-align: right;\">\n",
       "      <th></th>\n",
       "      <th>0</th>\n",
       "      <th>1</th>\n",
       "      <th>2</th>\n",
       "      <th>3</th>\n",
       "      <th>4</th>\n",
       "      <th>5</th>\n",
       "      <th>6</th>\n",
       "    </tr>\n",
       "  </thead>\n",
       "  <tbody>\n",
       "    <tr>\n",
       "      <th>0</th>\n",
       "      <td>vhigh</td>\n",
       "      <td>vhigh</td>\n",
       "      <td>2</td>\n",
       "      <td>2</td>\n",
       "      <td>small</td>\n",
       "      <td>low</td>\n",
       "      <td>unacc</td>\n",
       "    </tr>\n",
       "    <tr>\n",
       "      <th>1</th>\n",
       "      <td>vhigh</td>\n",
       "      <td>vhigh</td>\n",
       "      <td>2</td>\n",
       "      <td>2</td>\n",
       "      <td>small</td>\n",
       "      <td>med</td>\n",
       "      <td>unacc</td>\n",
       "    </tr>\n",
       "    <tr>\n",
       "      <th>2</th>\n",
       "      <td>vhigh</td>\n",
       "      <td>vhigh</td>\n",
       "      <td>2</td>\n",
       "      <td>2</td>\n",
       "      <td>small</td>\n",
       "      <td>high</td>\n",
       "      <td>unacc</td>\n",
       "    </tr>\n",
       "    <tr>\n",
       "      <th>3</th>\n",
       "      <td>vhigh</td>\n",
       "      <td>vhigh</td>\n",
       "      <td>2</td>\n",
       "      <td>2</td>\n",
       "      <td>med</td>\n",
       "      <td>low</td>\n",
       "      <td>unacc</td>\n",
       "    </tr>\n",
       "    <tr>\n",
       "      <th>4</th>\n",
       "      <td>vhigh</td>\n",
       "      <td>vhigh</td>\n",
       "      <td>2</td>\n",
       "      <td>2</td>\n",
       "      <td>med</td>\n",
       "      <td>med</td>\n",
       "      <td>unacc</td>\n",
       "    </tr>\n",
       "  </tbody>\n",
       "</table>\n",
       "</div>"
      ],
      "text/plain": [
       "       0      1  2  3      4     5      6\n",
       "0  vhigh  vhigh  2  2  small   low  unacc\n",
       "1  vhigh  vhigh  2  2  small   med  unacc\n",
       "2  vhigh  vhigh  2  2  small  high  unacc\n",
       "3  vhigh  vhigh  2  2    med   low  unacc\n",
       "4  vhigh  vhigh  2  2    med   med  unacc"
      ]
     },
     "execution_count": 2,
     "metadata": {},
     "output_type": "execute_result"
    }
   ],
   "source": [
    "dataset = pd.read_csv(\"Car.data\", header = None)\n",
    "dataset.head()"
   ]
  },
  {
   "cell_type": "markdown",
   "metadata": {},
   "source": [
    "## Create X and Y"
   ]
  },
  {
   "cell_type": "code",
   "execution_count": 3,
   "metadata": {
    "collapsed": true
   },
   "outputs": [],
   "source": [
    "X = dataset.iloc[:, 0:6].values\n",
    "Y = dataset.iloc[:, 6].values"
   ]
  },
  {
   "cell_type": "code",
   "execution_count": 4,
   "metadata": {},
   "outputs": [
    {
     "data": {
      "text/plain": [
       "(1728, 6)"
      ]
     },
     "execution_count": 4,
     "metadata": {},
     "output_type": "execute_result"
    }
   ],
   "source": [
    "X.shape"
   ]
  },
  {
   "cell_type": "code",
   "execution_count": 5,
   "metadata": {},
   "outputs": [
    {
     "data": {
      "text/plain": [
       "(1728,)"
      ]
     },
     "execution_count": 5,
     "metadata": {},
     "output_type": "execute_result"
    }
   ],
   "source": [
    "Y.shape"
   ]
  },
  {
   "cell_type": "code",
   "execution_count": 6,
   "metadata": {},
   "outputs": [
    {
     "data": {
      "text/plain": [
       "array(['vhigh', 'vhigh', '2', '2', 'small', 'low'], dtype=object)"
      ]
     },
     "execution_count": 6,
     "metadata": {},
     "output_type": "execute_result"
    }
   ],
   "source": [
    "X[0]"
   ]
  },
  {
   "cell_type": "code",
   "execution_count": 7,
   "metadata": {},
   "outputs": [
    {
     "data": {
      "text/plain": [
       "'unacc'"
      ]
     },
     "execution_count": 7,
     "metadata": {},
     "output_type": "execute_result"
    }
   ],
   "source": [
    "Y[0]"
   ]
  },
  {
   "cell_type": "markdown",
   "metadata": {},
   "source": [
    "## Preprocess the Data"
   ]
  },
  {
   "cell_type": "code",
   "execution_count": 8,
   "metadata": {
    "collapsed": true
   },
   "outputs": [],
   "source": [
    "from sklearn.preprocessing import LabelEncoder, OneHotEncoder\n",
    "\n",
    "le_Y = LabelEncoder()\n",
    "Y = le_Y.fit_transform(Y)\n",
    "Y = Y.reshape(len(Y), 1)\n",
    "\n",
    "def encoder(index):\n",
    "    le = LabelEncoder()\n",
    "    X[:, index] = le.fit_transform(X[:, index])"
   ]
  },
  {
   "cell_type": "code",
   "execution_count": 9,
   "metadata": {
    "collapsed": true
   },
   "outputs": [],
   "source": [
    "for i in range(0, 6):\n",
    "    encoder(i)"
   ]
  },
  {
   "cell_type": "code",
   "execution_count": 10,
   "metadata": {},
   "outputs": [
    {
     "data": {
      "text/plain": [
       "array([3, 3, 0, 0, 2, 1], dtype=object)"
      ]
     },
     "execution_count": 10,
     "metadata": {},
     "output_type": "execute_result"
    }
   ],
   "source": [
    "X[0]"
   ]
  },
  {
   "cell_type": "code",
   "execution_count": 11,
   "metadata": {},
   "outputs": [
    {
     "data": {
      "text/plain": [
       "array([2], dtype=int64)"
      ]
     },
     "execution_count": 11,
     "metadata": {},
     "output_type": "execute_result"
    }
   ],
   "source": [
    "Y[0]"
   ]
  },
  {
   "cell_type": "code",
   "execution_count": 12,
   "metadata": {
    "collapsed": true
   },
   "outputs": [],
   "source": [
    "ohe_Y = OneHotEncoder(categorical_features = [0])\n",
    "Y = ohe_Y.fit_transform(Y).toarray()"
   ]
  },
  {
   "cell_type": "code",
   "execution_count": 13,
   "metadata": {},
   "outputs": [
    {
     "data": {
      "text/plain": [
       "array([ 0.,  0.,  1.,  0.])"
      ]
     },
     "execution_count": 13,
     "metadata": {},
     "output_type": "execute_result"
    }
   ],
   "source": [
    "Y[0]"
   ]
  },
  {
   "cell_type": "code",
   "execution_count": 14,
   "metadata": {
    "collapsed": true
   },
   "outputs": [],
   "source": [
    "ohe_X = OneHotEncoder(categorical_features = [5])\n",
    "X = ohe_X.fit_transform(X).toarray()\n",
    "X = X[:, 1:]"
   ]
  },
  {
   "cell_type": "code",
   "execution_count": 15,
   "metadata": {
    "collapsed": true
   },
   "outputs": [],
   "source": [
    "ohe_X = OneHotEncoder(categorical_features = [6])\n",
    "X = ohe_X.fit_transform(X).toarray()\n",
    "X = X[:, 1:]"
   ]
  },
  {
   "cell_type": "code",
   "execution_count": 16,
   "metadata": {
    "collapsed": true
   },
   "outputs": [],
   "source": [
    "ohe_X = OneHotEncoder(categorical_features = [7])\n",
    "X = ohe_X.fit_transform(X).toarray()\n",
    "X = X[:, 1:]"
   ]
  },
  {
   "cell_type": "code",
   "execution_count": 17,
   "metadata": {
    "collapsed": true
   },
   "outputs": [],
   "source": [
    "ohe_X = OneHotEncoder(categorical_features = [8])\n",
    "X = ohe_X.fit_transform(X).toarray()\n",
    "X = X[:, 1:]"
   ]
  },
  {
   "cell_type": "code",
   "execution_count": 18,
   "metadata": {
    "collapsed": true
   },
   "outputs": [],
   "source": [
    "ohe_X = OneHotEncoder(categorical_features = [10])\n",
    "X = ohe_X.fit_transform(X).toarray()\n",
    "X = X[:, 1:]"
   ]
  },
  {
   "cell_type": "code",
   "execution_count": 19,
   "metadata": {
    "collapsed": true
   },
   "outputs": [],
   "source": [
    "ohe_X = OneHotEncoder(categorical_features = [12])\n",
    "X = ohe_X.fit_transform(X).toarray()\n",
    "X = X[:, 1:]"
   ]
  },
  {
   "cell_type": "code",
   "execution_count": 20,
   "metadata": {},
   "outputs": [
    {
     "data": {
      "text/plain": [
       "(1728, 15)"
      ]
     },
     "execution_count": 20,
     "metadata": {},
     "output_type": "execute_result"
    }
   ],
   "source": [
    "X.shape"
   ]
  },
  {
   "cell_type": "markdown",
   "metadata": {},
   "source": [
    "## Create Train and Test Data"
   ]
  },
  {
   "cell_type": "code",
   "execution_count": 21,
   "metadata": {
    "collapsed": true
   },
   "outputs": [],
   "source": [
    "from sklearn.model_selection import train_test_split\n",
    "X_train, X_test, Y_train, Y_test = train_test_split(X, Y, test_size = 0.2, random_state = 4)"
   ]
  },
  {
   "cell_type": "markdown",
   "metadata": {},
   "source": [
    "## Create and Train the Classifier"
   ]
  },
  {
   "cell_type": "code",
   "execution_count": 22,
   "metadata": {
    "collapsed": true
   },
   "outputs": [],
   "source": [
    "from keras.models import Sequential\n",
    "from keras.layers import Dense\n",
    "clf_ann = Sequential()"
   ]
  },
  {
   "cell_type": "code",
   "execution_count": 23,
   "metadata": {},
   "outputs": [
    {
     "name": "stderr",
     "output_type": "stream",
     "text": [
      "C:\\Users\\user\\Anaconda3\\lib\\site-packages\\ipykernel\\__main__.py:2: UserWarning: Update your `Dense` call to the Keras 2 API: `Dense(units=10, kernel_initializer=\"uniform\", input_dim=15, activation=\"relu\")`\n",
      "  from ipykernel import kernelapp as app\n",
      "C:\\Users\\user\\Anaconda3\\lib\\site-packages\\ipykernel\\__main__.py:5: UserWarning: Update your `Dense` call to the Keras 2 API: `Dense(units=4, kernel_initializer=\"uniform\", activation=\"softmax\")`\n",
      "C:\\Users\\user\\Anaconda3\\lib\\site-packages\\keras\\models.py:844: UserWarning: The `nb_epoch` argument in `fit` has been renamed `epochs`.\n",
      "  warnings.warn('The `nb_epoch` argument in `fit` '\n"
     ]
    },
    {
     "name": "stdout",
     "output_type": "stream",
     "text": [
      "Epoch 1/200\n",
      "1382/1382 [==============================] - 0s - loss: 0.9904 - acc: 0.6968     \n",
      "Epoch 2/200\n",
      "1382/1382 [==============================] - 0s - loss: 0.7170 - acc: 0.7012     \n",
      "Epoch 3/200\n",
      "1382/1382 [==============================] - 0s - loss: 0.6122 - acc: 0.7012     \n",
      "Epoch 4/200\n",
      "1382/1382 [==============================] - 0s - loss: 0.5400 - acc: 0.7279     \n",
      "Epoch 5/200\n",
      "1382/1382 [==============================] - 0s - loss: 0.4844 - acc: 0.7815     \n",
      "Epoch 6/200\n",
      "1382/1382 [==============================] - 0s - loss: 0.4405 - acc: 0.8133     \n",
      "Epoch 7/200\n",
      "1382/1382 [==============================] - 0s - loss: 0.4092 - acc: 0.8314     \n",
      "Epoch 8/200\n",
      "1382/1382 [==============================] - 0s - loss: 0.3855 - acc: 0.8423     \n",
      "Epoch 9/200\n",
      "1382/1382 [==============================] - 0s - loss: 0.3655 - acc: 0.8452     \n",
      "Epoch 10/200\n",
      "1382/1382 [==============================] - 0s - loss: 0.3491 - acc: 0.8567     \n",
      "Epoch 11/200\n",
      "1382/1382 [==============================] - 0s - loss: 0.3351 - acc: 0.8553     \n",
      "Epoch 12/200\n",
      "1382/1382 [==============================] - 0s - loss: 0.3221 - acc: 0.8560     \n",
      "Epoch 13/200\n",
      "1382/1382 [==============================] - 0s - loss: 0.3114 - acc: 0.8603     \n",
      "Epoch 14/200\n",
      "1382/1382 [==============================] - 0s - loss: 0.3011 - acc: 0.8625     \n",
      "Epoch 15/200\n",
      "1382/1382 [==============================] - 0s - loss: 0.2920 - acc: 0.8640     \n",
      "Epoch 16/200\n",
      "1382/1382 [==============================] - 0s - loss: 0.2832 - acc: 0.8647     \n",
      "Epoch 17/200\n",
      "1382/1382 [==============================] - 0s - loss: 0.2745 - acc: 0.8734     \n",
      "Epoch 18/200\n",
      "1382/1382 [==============================] - 0s - loss: 0.2680 - acc: 0.8944     \n",
      "Epoch 19/200\n",
      "1382/1382 [==============================] - 0s - loss: 0.2598 - acc: 0.8929     \n",
      "Epoch 20/200\n",
      "1382/1382 [==============================] - 0s - loss: 0.2528 - acc: 0.9009     \n",
      "Epoch 21/200\n",
      "1382/1382 [==============================] - 0s - loss: 0.2471 - acc: 0.9023     \n",
      "Epoch 22/200\n",
      "1382/1382 [==============================] - 0s - loss: 0.2410 - acc: 0.9030     \n",
      "Epoch 23/200\n",
      "1382/1382 [==============================] - 0s - loss: 0.2318 - acc: 0.9059     \n",
      "Epoch 24/200\n",
      "1382/1382 [==============================] - 0s - loss: 0.2251 - acc: 0.9081     \n",
      "Epoch 25/200\n",
      "1382/1382 [==============================] - 0s - loss: 0.2175 - acc: 0.9117     \n",
      "Epoch 26/200\n",
      "1382/1382 [==============================] - 0s - loss: 0.2107 - acc: 0.9132     \n",
      "Epoch 27/200\n",
      "1382/1382 [==============================] - 0s - loss: 0.2036 - acc: 0.9153     \n",
      "Epoch 28/200\n",
      "1382/1382 [==============================] - 0s - loss: 0.1978 - acc: 0.9182     \n",
      "Epoch 29/200\n",
      "1382/1382 [==============================] - 0s - loss: 0.1912 - acc: 0.9175     \n",
      "Epoch 30/200\n",
      "1382/1382 [==============================] - 0s - loss: 0.1858 - acc: 0.9233     \n",
      "Epoch 31/200\n",
      "1382/1382 [==============================] - 0s - loss: 0.1794 - acc: 0.9240     \n",
      "Epoch 32/200\n",
      "1382/1382 [==============================] - 0s - loss: 0.1736 - acc: 0.9255     \n",
      "Epoch 33/200\n",
      "1382/1382 [==============================] - 0s - loss: 0.1687 - acc: 0.9370     \n",
      "Epoch 34/200\n",
      "1382/1382 [==============================] - 0s - loss: 0.1632 - acc: 0.9450     \n",
      "Epoch 35/200\n",
      "1382/1382 [==============================] - 0s - loss: 0.1589 - acc: 0.9501     \n",
      "Epoch 36/200\n",
      "1382/1382 [==============================] - 0s - loss: 0.1541 - acc: 0.9602     \n",
      "Epoch 37/200\n",
      "1382/1382 [==============================] - 0s - loss: 0.1502 - acc: 0.9573     \n",
      "Epoch 38/200\n",
      "1382/1382 [==============================] - 0s - loss: 0.1462 - acc: 0.9580     \n",
      "Epoch 39/200\n",
      "1382/1382 [==============================] - 0s - loss: 0.1429 - acc: 0.9616     \n",
      "Epoch 40/200\n",
      "1382/1382 [==============================] - 0s - loss: 0.1395 - acc: 0.9631     \n",
      "Epoch 41/200\n",
      "1382/1382 [==============================] - 0s - loss: 0.1358 - acc: 0.9645     \n",
      "Epoch 42/200\n",
      "1382/1382 [==============================] - 0s - loss: 0.1337 - acc: 0.9653     \n",
      "Epoch 43/200\n",
      "1382/1382 [==============================] - 0s - loss: 0.1295 - acc: 0.9660       \n",
      "Epoch 44/200\n",
      "1382/1382 [==============================] - 0s - loss: 0.1267 - acc: 0.9674     \n",
      "Epoch 45/200\n",
      "1382/1382 [==============================] - 0s - loss: 0.1238 - acc: 0.9674     \n",
      "Epoch 46/200\n",
      "1382/1382 [==============================] - 0s - loss: 0.1231 - acc: 0.9660     \n",
      "Epoch 47/200\n",
      "1382/1382 [==============================] - 0s - loss: 0.1215 - acc: 0.9645     \n",
      "Epoch 48/200\n",
      "1382/1382 [==============================] - 0s - loss: 0.1175 - acc: 0.9667     \n",
      "Epoch 49/200\n",
      "1382/1382 [==============================] - 0s - loss: 0.1144 - acc: 0.9674     \n",
      "Epoch 50/200\n",
      "1382/1382 [==============================] - 0s - loss: 0.1126 - acc: 0.9703     \n",
      "Epoch 51/200\n",
      "1382/1382 [==============================] - 0s - loss: 0.1114 - acc: 0.9667     \n",
      "Epoch 52/200\n",
      "1382/1382 [==============================] - 0s - loss: 0.1084 - acc: 0.9689     \n",
      "Epoch 53/200\n",
      "1382/1382 [==============================] - 0s - loss: 0.1080 - acc: 0.9674     \n",
      "Epoch 54/200\n",
      "1382/1382 [==============================] - 0s - loss: 0.1041 - acc: 0.9696     \n",
      "Epoch 55/200\n",
      "1382/1382 [==============================] - 0s - loss: 0.1042 - acc: 0.9696     \n",
      "Epoch 56/200\n",
      "1382/1382 [==============================] - 0s - loss: 0.1015 - acc: 0.9696     \n",
      "Epoch 57/200\n",
      "1382/1382 [==============================] - 0s - loss: 0.0996 - acc: 0.9696     \n",
      "Epoch 58/200\n",
      "1382/1382 [==============================] - 0s - loss: 0.0971 - acc: 0.9732     \n",
      "Epoch 59/200\n",
      "1382/1382 [==============================] - 0s - loss: 0.0944 - acc: 0.9725     \n",
      "Epoch 60/200\n",
      "1382/1382 [==============================] - 0s - loss: 0.0946 - acc: 0.9732     \n",
      "Epoch 61/200\n",
      "1382/1382 [==============================] - 0s - loss: 0.0930 - acc: 0.9740     \n",
      "Epoch 62/200\n",
      "1382/1382 [==============================] - 0s - loss: 0.0904 - acc: 0.9732     \n",
      "Epoch 63/200\n",
      "1382/1382 [==============================] - 0s - loss: 0.0894 - acc: 0.9732     \n",
      "Epoch 64/200\n",
      "1382/1382 [==============================] - 0s - loss: 0.0870 - acc: 0.9754     \n",
      "Epoch 65/200\n",
      "1382/1382 [==============================] - 0s - loss: 0.0875 - acc: 0.9747     \n",
      "Epoch 66/200\n",
      "1382/1382 [==============================] - 0s - loss: 0.0852 - acc: 0.9747     \n",
      "Epoch 67/200\n",
      "1382/1382 [==============================] - 0s - loss: 0.0845 - acc: 0.9768     \n",
      "Epoch 68/200\n",
      "1382/1382 [==============================] - 0s - loss: 0.0837 - acc: 0.9761     \n",
      "Epoch 69/200\n",
      "1382/1382 [==============================] - 0s - loss: 0.0818 - acc: 0.9790     \n",
      "Epoch 70/200\n",
      "1382/1382 [==============================] - 0s - loss: 0.0813 - acc: 0.9776     \n",
      "Epoch 71/200\n",
      "1382/1382 [==============================] - 0s - loss: 0.0801 - acc: 0.9768     \n",
      "Epoch 72/200\n",
      "1382/1382 [==============================] - 0s - loss: 0.0798 - acc: 0.9747     \n",
      "Epoch 73/200\n",
      "1382/1382 [==============================] - 0s - loss: 0.0785 - acc: 0.9783     \n",
      "Epoch 74/200\n",
      "1382/1382 [==============================] - 0s - loss: 0.0775 - acc: 0.9797       \n",
      "Epoch 75/200\n",
      "1382/1382 [==============================] - 0s - loss: 0.0769 - acc: 0.9797     \n",
      "Epoch 76/200\n",
      "1382/1382 [==============================] - 0s - loss: 0.0758 - acc: 0.9819     \n",
      "Epoch 77/200\n",
      "1382/1382 [==============================] - 0s - loss: 0.0744 - acc: 0.9805     \n",
      "Epoch 78/200\n",
      "1382/1382 [==============================] - 0s - loss: 0.0746 - acc: 0.9790     \n",
      "Epoch 79/200\n",
      "1382/1382 [==============================] - 0s - loss: 0.0734 - acc: 0.9805     \n",
      "Epoch 80/200\n",
      "1382/1382 [==============================] - 0s - loss: 0.0723 - acc: 0.9819       \n",
      "Epoch 81/200\n",
      "1382/1382 [==============================] - 0s - loss: 0.0721 - acc: 0.9790     \n",
      "Epoch 82/200\n",
      "1382/1382 [==============================] - 0s - loss: 0.0710 - acc: 0.9834     \n",
      "Epoch 83/200\n",
      "1382/1382 [==============================] - 0s - loss: 0.0712 - acc: 0.9826     \n",
      "Epoch 84/200\n",
      "1382/1382 [==============================] - 0s - loss: 0.0699 - acc: 0.9819     \n",
      "Epoch 85/200\n",
      "1382/1382 [==============================] - 0s - loss: 0.0683 - acc: 0.9834     \n",
      "Epoch 86/200\n",
      "1382/1382 [==============================] - 0s - loss: 0.0682 - acc: 0.9812     \n",
      "Epoch 87/200\n"
     ]
    },
    {
     "name": "stdout",
     "output_type": "stream",
     "text": [
      "1382/1382 [==============================] - 0s - loss: 0.0671 - acc: 0.9819     \n",
      "Epoch 88/200\n",
      "1382/1382 [==============================] - 0s - loss: 0.0675 - acc: 0.9826     \n",
      "Epoch 89/200\n",
      "1382/1382 [==============================] - 0s - loss: 0.0665 - acc: 0.9834     \n",
      "Epoch 90/200\n",
      "1382/1382 [==============================] - 0s - loss: 0.0663 - acc: 0.9834     \n",
      "Epoch 91/200\n",
      "1382/1382 [==============================] - 0s - loss: 0.0659 - acc: 0.9834     \n",
      "Epoch 92/200\n",
      "1382/1382 [==============================] - 0s - loss: 0.0645 - acc: 0.9841       \n",
      "Epoch 93/200\n",
      "1382/1382 [==============================] - 0s - loss: 0.0633 - acc: 0.9826     \n",
      "Epoch 94/200\n",
      "1382/1382 [==============================] - 0s - loss: 0.0637 - acc: 0.9863     \n",
      "Epoch 95/200\n",
      "1382/1382 [==============================] - 0s - loss: 0.0619 - acc: 0.9848     \n",
      "Epoch 96/200\n",
      "1382/1382 [==============================] - 0s - loss: 0.0639 - acc: 0.9855     \n",
      "Epoch 97/200\n",
      "1382/1382 [==============================] - 0s - loss: 0.0624 - acc: 0.9841     \n",
      "Epoch 98/200\n",
      "1382/1382 [==============================] - 0s - loss: 0.0616 - acc: 0.9855     \n",
      "Epoch 99/200\n",
      "1382/1382 [==============================] - 0s - loss: 0.0608 - acc: 0.9826     \n",
      "Epoch 100/200\n",
      "1382/1382 [==============================] - 0s - loss: 0.0602 - acc: 0.9834     \n",
      "Epoch 101/200\n",
      "1382/1382 [==============================] - 0s - loss: 0.0598 - acc: 0.9841     \n",
      "Epoch 102/200\n",
      "1382/1382 [==============================] - 0s - loss: 0.0588 - acc: 0.9863     \n",
      "Epoch 103/200\n",
      "1382/1382 [==============================] - 0s - loss: 0.0578 - acc: 0.9870     \n",
      "Epoch 104/200\n",
      "1382/1382 [==============================] - 0s - loss: 0.0574 - acc: 0.9834     \n",
      "Epoch 105/200\n",
      "1382/1382 [==============================] - 0s - loss: 0.0569 - acc: 0.9848       \n",
      "Epoch 106/200\n",
      "1382/1382 [==============================] - 0s - loss: 0.0577 - acc: 0.9848     \n",
      "Epoch 107/200\n",
      "1382/1382 [==============================] - 0s - loss: 0.0561 - acc: 0.9863     - ETA: 0s - loss: 0.0617 - acc: 0.98\n",
      "Epoch 108/200\n",
      "1382/1382 [==============================] - 0s - loss: 0.0546 - acc: 0.9870     \n",
      "Epoch 109/200\n",
      "1382/1382 [==============================] - 0s - loss: 0.0566 - acc: 0.9826     \n",
      "Epoch 110/200\n",
      "1382/1382 [==============================] - 0s - loss: 0.0547 - acc: 0.9855     \n",
      "Epoch 111/200\n",
      "1382/1382 [==============================] - 0s - loss: 0.0533 - acc: 0.9877       \n",
      "Epoch 112/200\n",
      "1382/1382 [==============================] - 0s - loss: 0.0546 - acc: 0.9855     \n",
      "Epoch 113/200\n",
      "1382/1382 [==============================] - 0s - loss: 0.0531 - acc: 0.9848     \n",
      "Epoch 114/200\n",
      "1382/1382 [==============================] - 0s - loss: 0.0524 - acc: 0.9863     \n",
      "Epoch 115/200\n",
      "1382/1382 [==============================] - 0s - loss: 0.0531 - acc: 0.9855     \n",
      "Epoch 116/200\n",
      "1382/1382 [==============================] - 0s - loss: 0.0528 - acc: 0.9863     \n",
      "Epoch 117/200\n",
      "1382/1382 [==============================] - 0s - loss: 0.0521 - acc: 0.9855       \n",
      "Epoch 118/200\n",
      "1382/1382 [==============================] - 0s - loss: 0.0514 - acc: 0.9870     \n",
      "Epoch 119/200\n",
      "1382/1382 [==============================] - 0s - loss: 0.0511 - acc: 0.9884     \n",
      "Epoch 120/200\n",
      "1382/1382 [==============================] - 0s - loss: 0.0503 - acc: 0.9870       \n",
      "Epoch 121/200\n",
      "1382/1382 [==============================] - 0s - loss: 0.0500 - acc: 0.9884     \n",
      "Epoch 122/200\n",
      "1382/1382 [==============================] - 0s - loss: 0.0500 - acc: 0.9884     \n",
      "Epoch 123/200\n",
      "1382/1382 [==============================] - 0s - loss: 0.0493 - acc: 0.9855     \n",
      "Epoch 124/200\n",
      "1382/1382 [==============================] - 0s - loss: 0.0494 - acc: 0.9870     \n",
      "Epoch 125/200\n",
      "1382/1382 [==============================] - 0s - loss: 0.0481 - acc: 0.9899     \n",
      "Epoch 126/200\n",
      "1382/1382 [==============================] - 0s - loss: 0.0487 - acc: 0.9884     \n",
      "Epoch 127/200\n",
      "1382/1382 [==============================] - 0s - loss: 0.0485 - acc: 0.9884     \n",
      "Epoch 128/200\n",
      "1382/1382 [==============================] - 0s - loss: 0.0475 - acc: 0.9884     \n",
      "Epoch 129/200\n",
      "1382/1382 [==============================] - 0s - loss: 0.0475 - acc: 0.9870     \n",
      "Epoch 130/200\n",
      "1382/1382 [==============================] - 0s - loss: 0.0456 - acc: 0.9891     \n",
      "Epoch 131/200\n",
      "1382/1382 [==============================] - 0s - loss: 0.0473 - acc: 0.9884       \n",
      "Epoch 132/200\n",
      "1382/1382 [==============================] - 0s - loss: 0.0464 - acc: 0.9884     \n",
      "Epoch 133/200\n",
      "1382/1382 [==============================] - 0s - loss: 0.0466 - acc: 0.9870     \n",
      "Epoch 134/200\n",
      "1382/1382 [==============================] - 0s - loss: 0.0462 - acc: 0.9863     \n",
      "Epoch 135/200\n",
      "1382/1382 [==============================] - 0s - loss: 0.0458 - acc: 0.9906     \n",
      "Epoch 136/200\n",
      "1382/1382 [==============================] - 0s - loss: 0.0453 - acc: 0.9863     \n",
      "Epoch 137/200\n",
      "1382/1382 [==============================] - 0s - loss: 0.0445 - acc: 0.9899     \n",
      "Epoch 138/200\n",
      "1382/1382 [==============================] - 0s - loss: 0.0446 - acc: 0.9884     \n",
      "Epoch 139/200\n",
      "1382/1382 [==============================] - 0s - loss: 0.0428 - acc: 0.9877       \n",
      "Epoch 140/200\n",
      "1382/1382 [==============================] - 0s - loss: 0.0439 - acc: 0.9884     \n",
      "Epoch 141/200\n",
      "1382/1382 [==============================] - 0s - loss: 0.0432 - acc: 0.9877     \n",
      "Epoch 142/200\n",
      "1382/1382 [==============================] - 0s - loss: 0.0433 - acc: 0.9906     \n",
      "Epoch 143/200\n",
      "1382/1382 [==============================] - 0s - loss: 0.0443 - acc: 0.9884     \n",
      "Epoch 144/200\n",
      "1382/1382 [==============================] - 0s - loss: 0.0426 - acc: 0.9884     \n",
      "Epoch 145/200\n",
      "1382/1382 [==============================] - 0s - loss: 0.0420 - acc: 0.9899     \n",
      "Epoch 146/200\n",
      "1382/1382 [==============================] - 0s - loss: 0.0424 - acc: 0.9906     \n",
      "Epoch 147/200\n",
      "1382/1382 [==============================] - 0s - loss: 0.0422 - acc: 0.9891     \n",
      "Epoch 148/200\n",
      "1382/1382 [==============================] - 0s - loss: 0.0426 - acc: 0.9877     \n",
      "Epoch 149/200\n",
      "1382/1382 [==============================] - 0s - loss: 0.0414 - acc: 0.9891     \n",
      "Epoch 150/200\n",
      "1382/1382 [==============================] - 0s - loss: 0.0413 - acc: 0.9899     \n",
      "Epoch 151/200\n",
      "1382/1382 [==============================] - 0s - loss: 0.0425 - acc: 0.9877     \n",
      "Epoch 152/200\n",
      "1382/1382 [==============================] - 0s - loss: 0.0408 - acc: 0.9891       \n",
      "Epoch 153/200\n",
      "1382/1382 [==============================] - 0s - loss: 0.0407 - acc: 0.9906     \n",
      "Epoch 154/200\n",
      "1382/1382 [==============================] - 0s - loss: 0.0386 - acc: 0.9913       \n",
      "Epoch 155/200\n",
      "1382/1382 [==============================] - 0s - loss: 0.0411 - acc: 0.9870     \n",
      "Epoch 156/200\n",
      "1382/1382 [==============================] - 0s - loss: 0.0402 - acc: 0.9899     \n",
      "Epoch 157/200\n",
      "1382/1382 [==============================] - 0s - loss: 0.0399 - acc: 0.9913     \n",
      "Epoch 158/200\n",
      "1382/1382 [==============================] - 0s - loss: 0.0397 - acc: 0.9899       \n",
      "Epoch 159/200\n",
      "1382/1382 [==============================] - 0s - loss: 0.0388 - acc: 0.9906     \n",
      "Epoch 160/200\n",
      "1382/1382 [==============================] - 0s - loss: 0.0390 - acc: 0.9906     \n",
      "Epoch 161/200\n",
      "1382/1382 [==============================] - 0s - loss: 0.0391 - acc: 0.9899     \n",
      "Epoch 162/200\n",
      "1382/1382 [==============================] - 0s - loss: 0.0384 - acc: 0.9920     \n",
      "Epoch 163/200\n",
      "1382/1382 [==============================] - 0s - loss: 0.0375 - acc: 0.9906     - ETA: 0s - loss: 0.0269 - acc: 0.99\n",
      "Epoch 164/200\n",
      "1382/1382 [==============================] - 0s - loss: 0.0381 - acc: 0.9899     \n",
      "Epoch 165/200\n",
      "1382/1382 [==============================] - 0s - loss: 0.0362 - acc: 0.9920     \n",
      "Epoch 166/200\n",
      "1382/1382 [==============================] - 0s - loss: 0.0374 - acc: 0.9891     \n",
      "Epoch 167/200\n",
      "1382/1382 [==============================] - 0s - loss: 0.0374 - acc: 0.9906       \n",
      "Epoch 168/200\n",
      "1382/1382 [==============================] - 0s - loss: 0.0372 - acc: 0.9899       \n",
      "Epoch 169/200\n",
      "1382/1382 [==============================] - 0s - loss: 0.0360 - acc: 0.9920     \n",
      "Epoch 170/200\n",
      "1382/1382 [==============================] - 0s - loss: 0.0355 - acc: 0.9913     \n",
      "Epoch 171/200\n"
     ]
    },
    {
     "name": "stdout",
     "output_type": "stream",
     "text": [
      "1382/1382 [==============================] - 0s - loss: 0.0362 - acc: 0.9913       \n",
      "Epoch 172/200\n",
      "1382/1382 [==============================] - 0s - loss: 0.0361 - acc: 0.9906     \n",
      "Epoch 173/200\n",
      "1382/1382 [==============================] - 0s - loss: 0.0352 - acc: 0.9913     \n",
      "Epoch 174/200\n",
      "1382/1382 [==============================] - 0s - loss: 0.0357 - acc: 0.9913       \n",
      "Epoch 175/200\n",
      "1382/1382 [==============================] - 0s - loss: 0.0348 - acc: 0.9935     \n",
      "Epoch 176/200\n",
      "1382/1382 [==============================] - 0s - loss: 0.0344 - acc: 0.9913     \n",
      "Epoch 177/200\n",
      "1382/1382 [==============================] - 0s - loss: 0.0339 - acc: 0.9906     \n",
      "Epoch 178/200\n",
      "1382/1382 [==============================] - 0s - loss: 0.0340 - acc: 0.9928     \n",
      "Epoch 179/200\n",
      "1382/1382 [==============================] - 0s - loss: 0.0330 - acc: 0.9913     \n",
      "Epoch 180/200\n",
      "1382/1382 [==============================] - 0s - loss: 0.0339 - acc: 0.9920       \n",
      "Epoch 181/200\n",
      "1382/1382 [==============================] - 0s - loss: 0.0324 - acc: 0.9928     \n",
      "Epoch 182/200\n",
      "1382/1382 [==============================] - 0s - loss: 0.0327 - acc: 0.9913     \n",
      "Epoch 183/200\n",
      "1382/1382 [==============================] - 0s - loss: 0.0337 - acc: 0.9935       \n",
      "Epoch 184/200\n",
      "1382/1382 [==============================] - 0s - loss: 0.0335 - acc: 0.9899     \n",
      "Epoch 185/200\n",
      "1382/1382 [==============================] - 0s - loss: 0.0313 - acc: 0.9928       \n",
      "Epoch 186/200\n",
      "1382/1382 [==============================] - 0s - loss: 0.0306 - acc: 0.9913     \n",
      "Epoch 187/200\n",
      "1382/1382 [==============================] - 0s - loss: 0.0307 - acc: 0.9942     \n",
      "Epoch 188/200\n",
      "1382/1382 [==============================] - 0s - loss: 0.0303 - acc: 0.9949       \n",
      "Epoch 189/200\n",
      "1382/1382 [==============================] - 0s - loss: 0.0301 - acc: 0.9949       \n",
      "Epoch 190/200\n",
      "1382/1382 [==============================] - 0s - loss: 0.0294 - acc: 0.9928       \n",
      "Epoch 191/200\n",
      "1382/1382 [==============================] - 0s - loss: 0.0288 - acc: 0.9957     \n",
      "Epoch 192/200\n",
      "1382/1382 [==============================] - 0s - loss: 0.0290 - acc: 0.9949     \n",
      "Epoch 193/200\n",
      "1382/1382 [==============================] - 0s - loss: 0.0285 - acc: 0.9928     \n",
      "Epoch 194/200\n",
      "1382/1382 [==============================] - 0s - loss: 0.0287 - acc: 0.9928     \n",
      "Epoch 195/200\n",
      "1382/1382 [==============================] - 0s - loss: 0.0273 - acc: 0.9949     \n",
      "Epoch 196/200\n",
      "1382/1382 [==============================] - 0s - loss: 0.0280 - acc: 0.9935       \n",
      "Epoch 197/200\n",
      "1382/1382 [==============================] - 0s - loss: 0.0274 - acc: 0.9935       \n",
      "Epoch 198/200\n",
      "1382/1382 [==============================] - 0s - loss: 0.0267 - acc: 0.9949     \n",
      "Epoch 199/200\n",
      "1382/1382 [==============================] - 0s - loss: 0.0266 - acc: 0.9935     \n",
      "Epoch 200/200\n",
      "1382/1382 [==============================] - 0s - loss: 0.0267 - acc: 0.9935       \n"
     ]
    },
    {
     "data": {
      "text/plain": [
       "<keras.callbacks.History at 0x6be5934780>"
      ]
     },
     "execution_count": 23,
     "metadata": {},
     "output_type": "execute_result"
    }
   ],
   "source": [
    "# First Hidden Layer\n",
    "clf_ann.add(Dense(output_dim = 10, init = 'uniform', activation = 'relu', input_dim = 15))\n",
    "\n",
    "# Output Layer\n",
    "clf_ann.add(Dense(output_dim = 4, init = 'uniform', activation = 'softmax'))\n",
    "\n",
    "# Compile the ANN\n",
    "clf_ann.compile(optimizer = 'adam', loss = 'categorical_crossentropy', metrics = ['accuracy'])\n",
    "\n",
    "# Train the ANN on the Training Set\n",
    "clf_ann.fit(X_train, Y_train, batch_size = 5, nb_epoch = 200)"
   ]
  },
  {
   "cell_type": "code",
   "execution_count": 24,
   "metadata": {
    "collapsed": true
   },
   "outputs": [],
   "source": [
    "Y_pred = clf_ann.predict(X_test)\n",
    "Y_pred_class = np.argmax(Y_pred, axis = 1)\n",
    "Y_test_class = np.argmax(Y_test, axis = 1)"
   ]
  },
  {
   "cell_type": "markdown",
   "metadata": {},
   "source": [
    "## Check the Accuracy"
   ]
  },
  {
   "cell_type": "code",
   "execution_count": 25,
   "metadata": {},
   "outputs": [
    {
     "data": {
      "text/plain": [
       "0.99132947976878616"
      ]
     },
     "execution_count": 25,
     "metadata": {},
     "output_type": "execute_result"
    }
   ],
   "source": [
    "from sklearn.metrics import accuracy_score, confusion_matrix\n",
    "accuracy_score(Y_test_class, Y_pred_class)"
   ]
  },
  {
   "cell_type": "code",
   "execution_count": 26,
   "metadata": {},
   "outputs": [
    {
     "data": {
      "text/plain": [
       "array([[ 83,   0,   0,   0],\n",
       "       [  0,  11,   0,   2],\n",
       "       [  1,   0, 240,   0],\n",
       "       [  0,   0,   0,   9]], dtype=int64)"
      ]
     },
     "execution_count": 26,
     "metadata": {},
     "output_type": "execute_result"
    }
   ],
   "source": [
    "confusion_matrix(Y_test_class, Y_pred_class)"
   ]
  },
  {
   "cell_type": "code",
   "execution_count": null,
   "metadata": {
    "collapsed": true
   },
   "outputs": [],
   "source": []
  }
 ],
 "metadata": {
  "kernelspec": {
   "display_name": "Python [default]",
   "language": "python",
   "name": "python3"
  },
  "language_info": {
   "codemirror_mode": {
    "name": "ipython",
    "version": 3
   },
   "file_extension": ".py",
   "mimetype": "text/x-python",
   "name": "python",
   "nbconvert_exporter": "python",
   "pygments_lexer": "ipython3",
   "version": "3.5.4"
  }
 },
 "nbformat": 4,
 "nbformat_minor": 2
}
