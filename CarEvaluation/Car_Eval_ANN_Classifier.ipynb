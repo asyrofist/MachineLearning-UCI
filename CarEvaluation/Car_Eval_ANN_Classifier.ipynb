{
 "cells": [
  {
   "cell_type": "markdown",
   "metadata": {},
   "source": [
    "## Initialization"
   ]
  },
  {
   "cell_type": "code",
   "execution_count": 1,
   "metadata": {},
   "outputs": [
    {
     "name": "stderr",
     "output_type": "stream",
     "text": [
      "Using Theano backend.\n"
     ]
    }
   ],
   "source": [
    "import pandas as pd\n",
    "import numpy as np\n",
    "import keras"
   ]
  },
  {
   "cell_type": "markdown",
   "metadata": {},
   "source": [
    "## Importing the Data"
   ]
  },
  {
   "cell_type": "code",
   "execution_count": 2,
   "metadata": {},
   "outputs": [
    {
     "data": {
      "text/html": [
       "<div>\n",
       "<style>\n",
       "    .dataframe thead tr:only-child th {\n",
       "        text-align: right;\n",
       "    }\n",
       "\n",
       "    .dataframe thead th {\n",
       "        text-align: left;\n",
       "    }\n",
       "\n",
       "    .dataframe tbody tr th {\n",
       "        vertical-align: top;\n",
       "    }\n",
       "</style>\n",
       "<table border=\"1\" class=\"dataframe\">\n",
       "  <thead>\n",
       "    <tr style=\"text-align: right;\">\n",
       "      <th></th>\n",
       "      <th>0</th>\n",
       "      <th>1</th>\n",
       "      <th>2</th>\n",
       "      <th>3</th>\n",
       "      <th>4</th>\n",
       "      <th>5</th>\n",
       "      <th>6</th>\n",
       "    </tr>\n",
       "  </thead>\n",
       "  <tbody>\n",
       "    <tr>\n",
       "      <th>0</th>\n",
       "      <td>vhigh</td>\n",
       "      <td>vhigh</td>\n",
       "      <td>2</td>\n",
       "      <td>2</td>\n",
       "      <td>small</td>\n",
       "      <td>low</td>\n",
       "      <td>unacc</td>\n",
       "    </tr>\n",
       "    <tr>\n",
       "      <th>1</th>\n",
       "      <td>vhigh</td>\n",
       "      <td>vhigh</td>\n",
       "      <td>2</td>\n",
       "      <td>2</td>\n",
       "      <td>small</td>\n",
       "      <td>med</td>\n",
       "      <td>unacc</td>\n",
       "    </tr>\n",
       "    <tr>\n",
       "      <th>2</th>\n",
       "      <td>vhigh</td>\n",
       "      <td>vhigh</td>\n",
       "      <td>2</td>\n",
       "      <td>2</td>\n",
       "      <td>small</td>\n",
       "      <td>high</td>\n",
       "      <td>unacc</td>\n",
       "    </tr>\n",
       "    <tr>\n",
       "      <th>3</th>\n",
       "      <td>vhigh</td>\n",
       "      <td>vhigh</td>\n",
       "      <td>2</td>\n",
       "      <td>2</td>\n",
       "      <td>med</td>\n",
       "      <td>low</td>\n",
       "      <td>unacc</td>\n",
       "    </tr>\n",
       "    <tr>\n",
       "      <th>4</th>\n",
       "      <td>vhigh</td>\n",
       "      <td>vhigh</td>\n",
       "      <td>2</td>\n",
       "      <td>2</td>\n",
       "      <td>med</td>\n",
       "      <td>med</td>\n",
       "      <td>unacc</td>\n",
       "    </tr>\n",
       "  </tbody>\n",
       "</table>\n",
       "</div>"
      ],
      "text/plain": [
       "       0      1  2  3      4     5      6\n",
       "0  vhigh  vhigh  2  2  small   low  unacc\n",
       "1  vhigh  vhigh  2  2  small   med  unacc\n",
       "2  vhigh  vhigh  2  2  small  high  unacc\n",
       "3  vhigh  vhigh  2  2    med   low  unacc\n",
       "4  vhigh  vhigh  2  2    med   med  unacc"
      ]
     },
     "execution_count": 2,
     "metadata": {},
     "output_type": "execute_result"
    }
   ],
   "source": [
    "dataset = pd.read_csv(\"Car.data\", header = None)\n",
    "dataset.head()"
   ]
  },
  {
   "cell_type": "markdown",
   "metadata": {},
   "source": [
    "## Create X and Y"
   ]
  },
  {
   "cell_type": "code",
   "execution_count": 3,
   "metadata": {
    "collapsed": true
   },
   "outputs": [],
   "source": [
    "X = dataset.iloc[:, 0:6].values\n",
    "Y = dataset.iloc[:, 6].values"
   ]
  },
  {
   "cell_type": "code",
   "execution_count": 4,
   "metadata": {},
   "outputs": [
    {
     "data": {
      "text/plain": [
       "(1728, 6)"
      ]
     },
     "execution_count": 4,
     "metadata": {},
     "output_type": "execute_result"
    }
   ],
   "source": [
    "X.shape"
   ]
  },
  {
   "cell_type": "code",
   "execution_count": 5,
   "metadata": {},
   "outputs": [
    {
     "data": {
      "text/plain": [
       "(1728,)"
      ]
     },
     "execution_count": 5,
     "metadata": {},
     "output_type": "execute_result"
    }
   ],
   "source": [
    "Y.shape"
   ]
  },
  {
   "cell_type": "code",
   "execution_count": 6,
   "metadata": {},
   "outputs": [
    {
     "data": {
      "text/plain": [
       "array([['vhigh', 'vhigh', '2', '2', 'small', 'low'],\n",
       "       ['vhigh', 'vhigh', '2', '2', 'small', 'med'],\n",
       "       ['vhigh', 'vhigh', '2', '2', 'small', 'high'],\n",
       "       ..., \n",
       "       ['low', 'low', '5more', 'more', 'big', 'low'],\n",
       "       ['low', 'low', '5more', 'more', 'big', 'med'],\n",
       "       ['low', 'low', '5more', 'more', 'big', 'high']], dtype=object)"
      ]
     },
     "execution_count": 6,
     "metadata": {},
     "output_type": "execute_result"
    }
   ],
   "source": [
    "X"
   ]
  },
  {
   "cell_type": "code",
   "execution_count": 7,
   "metadata": {},
   "outputs": [
    {
     "data": {
      "text/plain": [
       "array(['unacc', 'unacc', 'unacc', ..., 'unacc', 'good', 'vgood'], dtype=object)"
      ]
     },
     "execution_count": 7,
     "metadata": {},
     "output_type": "execute_result"
    }
   ],
   "source": [
    "Y"
   ]
  },
  {
   "cell_type": "markdown",
   "metadata": {},
   "source": [
    "## Preprocess the Data"
   ]
  },
  {
   "cell_type": "code",
   "execution_count": 8,
   "metadata": {
    "collapsed": true
   },
   "outputs": [],
   "source": [
    "from sklearn.preprocessing import LabelEncoder, OneHotEncoder\n",
    "\n",
    "le_Y = LabelEncoder()\n",
    "Y = le_Y.fit_transform(Y)\n",
    "Y = Y.reshape(len(Y), 1)\n",
    "\n",
    "def encoder(index):\n",
    "    le = LabelEncoder()\n",
    "    X[:, index] = le.fit_transform(X[:, index])"
   ]
  },
  {
   "cell_type": "code",
   "execution_count": 9,
   "metadata": {
    "collapsed": true
   },
   "outputs": [],
   "source": [
    "for i in range(0, 6):\n",
    "    encoder(i)"
   ]
  },
  {
   "cell_type": "code",
   "execution_count": 10,
   "metadata": {},
   "outputs": [
    {
     "data": {
      "text/plain": [
       "array([[3, 3, 0, 0, 2, 1],\n",
       "       [3, 3, 0, 0, 2, 2],\n",
       "       [3, 3, 0, 0, 2, 0],\n",
       "       ..., \n",
       "       [1, 1, 3, 2, 0, 1],\n",
       "       [1, 1, 3, 2, 0, 2],\n",
       "       [1, 1, 3, 2, 0, 0]], dtype=object)"
      ]
     },
     "execution_count": 10,
     "metadata": {},
     "output_type": "execute_result"
    }
   ],
   "source": [
    "X"
   ]
  },
  {
   "cell_type": "code",
   "execution_count": 11,
   "metadata": {},
   "outputs": [
    {
     "data": {
      "text/plain": [
       "array([[2],\n",
       "       [2],\n",
       "       [2],\n",
       "       ..., \n",
       "       [2],\n",
       "       [1],\n",
       "       [3]], dtype=int64)"
      ]
     },
     "execution_count": 11,
     "metadata": {},
     "output_type": "execute_result"
    }
   ],
   "source": [
    "Y"
   ]
  },
  {
   "cell_type": "code",
   "execution_count": 12,
   "metadata": {
    "collapsed": true
   },
   "outputs": [],
   "source": [
    "ohe_Y = OneHotEncoder(categorical_features = [0])\n",
    "Y = ohe_Y.fit_transform(Y).toarray()"
   ]
  },
  {
   "cell_type": "code",
   "execution_count": 13,
   "metadata": {},
   "outputs": [
    {
     "data": {
      "text/plain": [
       "array([[ 0.,  0.,  1.,  0.],\n",
       "       [ 0.,  0.,  1.,  0.],\n",
       "       [ 0.,  0.,  1.,  0.],\n",
       "       ..., \n",
       "       [ 0.,  0.,  1.,  0.],\n",
       "       [ 0.,  1.,  0.,  0.],\n",
       "       [ 0.,  0.,  0.,  1.]])"
      ]
     },
     "execution_count": 13,
     "metadata": {},
     "output_type": "execute_result"
    }
   ],
   "source": [
    "Y"
   ]
  },
  {
   "cell_type": "code",
   "execution_count": 14,
   "metadata": {
    "collapsed": true
   },
   "outputs": [],
   "source": [
    "ohe_X = OneHotEncoder(categorical_features = [5])\n",
    "X = ohe_X.fit_transform(X).toarray()\n",
    "X = X[:, 1:]"
   ]
  },
  {
   "cell_type": "code",
   "execution_count": 15,
   "metadata": {
    "collapsed": true
   },
   "outputs": [],
   "source": [
    "ohe_X = OneHotEncoder(categorical_features = [6])\n",
    "X = ohe_X.fit_transform(X).toarray()\n",
    "X = X[:, 1:]"
   ]
  },
  {
   "cell_type": "code",
   "execution_count": 16,
   "metadata": {
    "collapsed": true
   },
   "outputs": [],
   "source": [
    "ohe_X = OneHotEncoder(categorical_features = [7])\n",
    "X = ohe_X.fit_transform(X).toarray()\n",
    "X = X[:, 1:]"
   ]
  },
  {
   "cell_type": "code",
   "execution_count": 17,
   "metadata": {
    "collapsed": true
   },
   "outputs": [],
   "source": [
    "ohe_X = OneHotEncoder(categorical_features = [8])\n",
    "X = ohe_X.fit_transform(X).toarray()\n",
    "X = X[:, 1:]"
   ]
  },
  {
   "cell_type": "code",
   "execution_count": 18,
   "metadata": {
    "collapsed": true
   },
   "outputs": [],
   "source": [
    "ohe_X = OneHotEncoder(categorical_features = [10])\n",
    "X = ohe_X.fit_transform(X).toarray()\n",
    "X = X[:, 1:]"
   ]
  },
  {
   "cell_type": "code",
   "execution_count": 19,
   "metadata": {
    "collapsed": true
   },
   "outputs": [],
   "source": [
    "ohe_X = OneHotEncoder(categorical_features = [12])\n",
    "X = ohe_X.fit_transform(X).toarray()\n",
    "X = X[:, 1:]"
   ]
  },
  {
   "cell_type": "code",
   "execution_count": 20,
   "metadata": {},
   "outputs": [
    {
     "data": {
      "text/plain": [
       "(1728, 15)"
      ]
     },
     "execution_count": 20,
     "metadata": {},
     "output_type": "execute_result"
    }
   ],
   "source": [
    "X.shape"
   ]
  },
  {
   "cell_type": "markdown",
   "metadata": {},
   "source": [
    "## Create Train and Test Data"
   ]
  },
  {
   "cell_type": "code",
   "execution_count": 21,
   "metadata": {
    "collapsed": true
   },
   "outputs": [],
   "source": [
    "from sklearn.model_selection import train_test_split\n",
    "X_train, X_test, Y_train, Y_test = train_test_split(X, Y, test_size = 0.2, random_state = 4)"
   ]
  },
  {
   "cell_type": "markdown",
   "metadata": {},
   "source": [
    "## Create and Train the Classifier"
   ]
  },
  {
   "cell_type": "code",
   "execution_count": 22,
   "metadata": {
    "collapsed": true
   },
   "outputs": [],
   "source": [
    "from keras.models import Sequential\n",
    "from keras.layers import Dense\n",
    "clf_ann = Sequential()"
   ]
  },
  {
   "cell_type": "code",
   "execution_count": 23,
   "metadata": {},
   "outputs": [
    {
     "name": "stderr",
     "output_type": "stream",
     "text": [
      "C:\\Users\\user\\Anaconda3\\lib\\site-packages\\ipykernel\\__main__.py:2: UserWarning: Update your `Dense` call to the Keras 2 API: `Dense(activation=\"relu\", units=10, input_dim=15, kernel_initializer=\"uniform\")`\n",
      "  from ipykernel import kernelapp as app\n",
      "C:\\Users\\user\\Anaconda3\\lib\\site-packages\\ipykernel\\__main__.py:5: UserWarning: Update your `Dense` call to the Keras 2 API: `Dense(activation=\"softmax\", units=4, kernel_initializer=\"uniform\")`\n",
      "C:\\Users\\user\\Anaconda3\\lib\\site-packages\\keras\\models.py:844: UserWarning: The `nb_epoch` argument in `fit` has been renamed `epochs`.\n",
      "  warnings.warn('The `nb_epoch` argument in `fit` '\n"
     ]
    },
    {
     "name": "stdout",
     "output_type": "stream",
     "text": [
      "Epoch 1/200\n",
      "1382/1382 [==============================] - 0s - loss: 0.9940 - acc: 0.6954       \n",
      "Epoch 2/200\n",
      "1382/1382 [==============================] - 0s - loss: 0.7109 - acc: 0.7012     \n",
      "Epoch 3/200\n",
      "1382/1382 [==============================] - 0s - loss: 0.6047 - acc: 0.7019     \n",
      "Epoch 4/200\n",
      "1382/1382 [==============================] - 0s - loss: 0.5304 - acc: 0.7373     \n",
      "Epoch 5/200\n",
      "1382/1382 [==============================] - 0s - loss: 0.4778 - acc: 0.7945     \n",
      "Epoch 6/200\n",
      "1382/1382 [==============================] - 0s - loss: 0.4386 - acc: 0.8111     \n",
      "Epoch 7/200\n",
      "1382/1382 [==============================] - 0s - loss: 0.4084 - acc: 0.8292     \n",
      "Epoch 8/200\n",
      "1382/1382 [==============================] - 0s - loss: 0.3851 - acc: 0.8452     \n",
      "Epoch 9/200\n",
      "1382/1382 [==============================] - 0s - loss: 0.3660 - acc: 0.8415     \n",
      "Epoch 10/200\n",
      "1382/1382 [==============================] - 0s - loss: 0.3489 - acc: 0.8560     \n",
      "Epoch 11/200\n",
      "1382/1382 [==============================] - 0s - loss: 0.3354 - acc: 0.8538     \n",
      "Epoch 12/200\n",
      "1382/1382 [==============================] - 0s - loss: 0.3224 - acc: 0.8553     \n",
      "Epoch 13/200\n",
      "1382/1382 [==============================] - 0s - loss: 0.3119 - acc: 0.8632     \n",
      "Epoch 14/200\n",
      "1382/1382 [==============================] - 0s - loss: 0.3021 - acc: 0.8603     \n",
      "Epoch 15/200\n",
      "1382/1382 [==============================] - 0s - loss: 0.2934 - acc: 0.8654     \n",
      "Epoch 16/200\n",
      "1382/1382 [==============================] - 0s - loss: 0.2857 - acc: 0.8625     \n",
      "Epoch 17/200\n",
      "1382/1382 [==============================] - 0s - loss: 0.2778 - acc: 0.8661     \n",
      "Epoch 18/200\n",
      "1382/1382 [==============================] - 0s - loss: 0.2701 - acc: 0.8813     \n",
      "Epoch 19/200\n",
      "1382/1382 [==============================] - 0s - loss: 0.2622 - acc: 0.8929     \n",
      "Epoch 20/200\n",
      "1382/1382 [==============================] - 0s - loss: 0.2567 - acc: 0.8944     \n",
      "Epoch 21/200\n",
      "1382/1382 [==============================] - 0s - loss: 0.2502 - acc: 0.9023     \n",
      "Epoch 22/200\n",
      "1382/1382 [==============================] - 0s - loss: 0.2442 - acc: 0.8987     \n",
      "Epoch 23/200\n",
      "1382/1382 [==============================] - 0s - loss: 0.2370 - acc: 0.9038     \n",
      "Epoch 24/200\n",
      "1382/1382 [==============================] - 0s - loss: 0.2317 - acc: 0.9009     \n",
      "Epoch 25/200\n",
      "1382/1382 [==============================] - 0s - loss: 0.2240 - acc: 0.9023     \n",
      "Epoch 26/200\n",
      "1382/1382 [==============================] - 0s - loss: 0.2208 - acc: 0.9074     \n",
      "Epoch 27/200\n",
      "1382/1382 [==============================] - 0s - loss: 0.2165 - acc: 0.9009     \n",
      "Epoch 28/200\n",
      "1382/1382 [==============================] - 0s - loss: 0.2109 - acc: 0.9074     \n",
      "Epoch 29/200\n",
      "1382/1382 [==============================] - 0s - loss: 0.2053 - acc: 0.9038     \n",
      "Epoch 30/200\n",
      "1382/1382 [==============================] - 0s - loss: 0.2002 - acc: 0.9124     \n",
      "Epoch 31/200\n",
      "1382/1382 [==============================] - 0s - loss: 0.1955 - acc: 0.9211     \n",
      "Epoch 32/200\n",
      "1382/1382 [==============================] - 0s - loss: 0.1913 - acc: 0.9204     \n",
      "Epoch 33/200\n",
      "1382/1382 [==============================] - 0s - loss: 0.1886 - acc: 0.9284     \n",
      "Epoch 34/200\n",
      "1382/1382 [==============================] - 0s - loss: 0.1852 - acc: 0.9313     \n",
      "Epoch 35/200\n",
      "1382/1382 [==============================] - 0s - loss: 0.1808 - acc: 0.9327     \n",
      "Epoch 36/200\n",
      "1382/1382 [==============================] - 0s - loss: 0.1783 - acc: 0.9392     \n",
      "Epoch 37/200\n",
      "1382/1382 [==============================] - 0s - loss: 0.1741 - acc: 0.9349     \n",
      "Epoch 38/200\n",
      "1382/1382 [==============================] - 0s - loss: 0.1732 - acc: 0.9370     \n",
      "Epoch 39/200\n",
      "1382/1382 [==============================] - 0s - loss: 0.1706 - acc: 0.9392     \n",
      "Epoch 40/200\n",
      "1382/1382 [==============================] - 0s - loss: 0.1673 - acc: 0.9378     \n",
      "Epoch 41/200\n",
      "1382/1382 [==============================] - 0s - loss: 0.1640 - acc: 0.9385     \n",
      "Epoch 42/200\n",
      "1382/1382 [==============================] - 0s - loss: 0.1637 - acc: 0.9436     \n",
      "Epoch 43/200\n",
      "1382/1382 [==============================] - 0s - loss: 0.1607 - acc: 0.9385     \n",
      "Epoch 44/200\n",
      "1382/1382 [==============================] - 0s - loss: 0.1568 - acc: 0.9363     \n",
      "Epoch 45/200\n",
      "1382/1382 [==============================] - 0s - loss: 0.1561 - acc: 0.9407     \n",
      "Epoch 46/200\n",
      "1382/1382 [==============================] - 0s - loss: 0.1546 - acc: 0.9399     \n",
      "Epoch 47/200\n",
      "1382/1382 [==============================] - 0s - loss: 0.1535 - acc: 0.9363     \n",
      "Epoch 48/200\n",
      "1382/1382 [==============================] - 0s - loss: 0.1504 - acc: 0.9450     \n",
      "Epoch 49/200\n",
      "1382/1382 [==============================] - 0s - loss: 0.1490 - acc: 0.9370     \n",
      "Epoch 50/200\n",
      "1382/1382 [==============================] - 0s - loss: 0.1486 - acc: 0.9407     \n",
      "Epoch 51/200\n",
      "1382/1382 [==============================] - 0s - loss: 0.1448 - acc: 0.9392       \n",
      "Epoch 52/200\n",
      "1382/1382 [==============================] - 0s - loss: 0.1425 - acc: 0.9428     \n",
      "Epoch 53/200\n",
      "1382/1382 [==============================] - 0s - loss: 0.1413 - acc: 0.9414     \n",
      "Epoch 54/200\n",
      "1382/1382 [==============================] - 0s - loss: 0.1394 - acc: 0.9450     \n",
      "Epoch 55/200\n",
      "1382/1382 [==============================] - 0s - loss: 0.1379 - acc: 0.9399     \n",
      "Epoch 56/200\n",
      "1382/1382 [==============================] - 0s - loss: 0.1365 - acc: 0.9450     \n",
      "Epoch 57/200\n",
      "1382/1382 [==============================] - 0s - loss: 0.1362 - acc: 0.9436     \n",
      "Epoch 58/200\n",
      "1382/1382 [==============================] - 0s - loss: 0.1333 - acc: 0.9493     \n",
      "Epoch 59/200\n",
      "1382/1382 [==============================] - 0s - loss: 0.1323 - acc: 0.9493     \n",
      "Epoch 60/200\n",
      "1382/1382 [==============================] - 0s - loss: 0.1293 - acc: 0.9493     \n",
      "Epoch 61/200\n",
      "1382/1382 [==============================] - 0s - loss: 0.1274 - acc: 0.9508     \n",
      "Epoch 62/200\n",
      "1382/1382 [==============================] - 0s - loss: 0.1248 - acc: 0.9551       \n",
      "Epoch 63/200\n",
      "1382/1382 [==============================] - 0s - loss: 0.1236 - acc: 0.9551     \n",
      "Epoch 64/200\n",
      "1382/1382 [==============================] - 0s - loss: 0.1222 - acc: 0.9537     \n",
      "Epoch 65/200\n",
      "1382/1382 [==============================] - 0s - loss: 0.1185 - acc: 0.9559     \n",
      "Epoch 66/200\n",
      "1382/1382 [==============================] - 0s - loss: 0.1158 - acc: 0.9616     \n",
      "Epoch 67/200\n",
      "1382/1382 [==============================] - 0s - loss: 0.1135 - acc: 0.9631     \n",
      "Epoch 68/200\n",
      "1382/1382 [==============================] - 0s - loss: 0.1106 - acc: 0.9667     \n",
      "Epoch 69/200\n",
      "1382/1382 [==============================] - 0s - loss: 0.1086 - acc: 0.9682       \n",
      "Epoch 70/200\n",
      "1382/1382 [==============================] - 0s - loss: 0.1065 - acc: 0.9732     \n",
      "Epoch 71/200\n",
      "1382/1382 [==============================] - 0s - loss: 0.1037 - acc: 0.9711     \n",
      "Epoch 72/200\n",
      "1382/1382 [==============================] - 0s - loss: 0.1044 - acc: 0.9689     \n",
      "Epoch 73/200\n",
      "1382/1382 [==============================] - 0s - loss: 0.1000 - acc: 0.9718     \n",
      "Epoch 74/200\n",
      "1382/1382 [==============================] - 0s - loss: 0.0982 - acc: 0.9718     \n",
      "Epoch 75/200\n",
      "1382/1382 [==============================] - 0s - loss: 0.0964 - acc: 0.9725     \n",
      "Epoch 76/200\n",
      "1382/1382 [==============================] - 0s - loss: 0.0953 - acc: 0.9718     \n",
      "Epoch 77/200\n",
      "1382/1382 [==============================] - 0s - loss: 0.0932 - acc: 0.9761     \n",
      "Epoch 78/200\n",
      "1382/1382 [==============================] - 0s - loss: 0.0922 - acc: 0.9732     \n",
      "Epoch 79/200\n",
      "1382/1382 [==============================] - 0s - loss: 0.0911 - acc: 0.9732     \n",
      "Epoch 80/200\n",
      "1382/1382 [==============================] - 0s - loss: 0.0882 - acc: 0.9768     \n",
      "Epoch 81/200\n",
      "1382/1382 [==============================] - 0s - loss: 0.0880 - acc: 0.9754     \n",
      "Epoch 82/200\n",
      "1382/1382 [==============================] - 0s - loss: 0.0856 - acc: 0.9754     \n",
      "Epoch 83/200\n",
      "1382/1382 [==============================] - 0s - loss: 0.0843 - acc: 0.9761     \n",
      "Epoch 84/200\n",
      "1382/1382 [==============================] - 0s - loss: 0.0845 - acc: 0.9776     \n",
      "Epoch 85/200\n",
      "1382/1382 [==============================] - 0s - loss: 0.0817 - acc: 0.9783     \n",
      "Epoch 86/200\n",
      "1382/1382 [==============================] - 0s - loss: 0.0801 - acc: 0.9776     \n",
      "Epoch 87/200\n"
     ]
    },
    {
     "name": "stdout",
     "output_type": "stream",
     "text": [
      "1382/1382 [==============================] - 0s - loss: 0.0792 - acc: 0.9790     \n",
      "Epoch 88/200\n",
      "1382/1382 [==============================] - 0s - loss: 0.0780 - acc: 0.9776     \n",
      "Epoch 89/200\n",
      "1382/1382 [==============================] - 0s - loss: 0.0766 - acc: 0.9812     \n",
      "Epoch 90/200\n",
      "1382/1382 [==============================] - 0s - loss: 0.0753 - acc: 0.9790     \n",
      "Epoch 91/200\n",
      "1382/1382 [==============================] - 0s - loss: 0.0744 - acc: 0.9776     \n",
      "Epoch 92/200\n",
      "1382/1382 [==============================] - 0s - loss: 0.0724 - acc: 0.9805     \n",
      "Epoch 93/200\n",
      "1382/1382 [==============================] - 0s - loss: 0.0712 - acc: 0.9812     \n",
      "Epoch 94/200\n",
      "1382/1382 [==============================] - 0s - loss: 0.0707 - acc: 0.9819     \n",
      "Epoch 95/200\n",
      "1382/1382 [==============================] - 0s - loss: 0.0684 - acc: 0.9826     - ETA: 0s - loss: 0.0724 - acc: 0.98\n",
      "Epoch 96/200\n",
      "1382/1382 [==============================] - 0s - loss: 0.0669 - acc: 0.9819     \n",
      "Epoch 97/200\n",
      "1382/1382 [==============================] - 0s - loss: 0.0656 - acc: 0.9790     \n",
      "Epoch 98/200\n",
      "1382/1382 [==============================] - 0s - loss: 0.0638 - acc: 0.9863     \n",
      "Epoch 99/200\n",
      "1382/1382 [==============================] - 0s - loss: 0.0625 - acc: 0.9863     \n",
      "Epoch 100/200\n",
      "1382/1382 [==============================] - 0s - loss: 0.0616 - acc: 0.9834     \n",
      "Epoch 101/200\n",
      "1382/1382 [==============================] - 0s - loss: 0.0600 - acc: 0.9834     \n",
      "Epoch 102/200\n",
      "1382/1382 [==============================] - 0s - loss: 0.0595 - acc: 0.9848     \n",
      "Epoch 103/200\n",
      "1382/1382 [==============================] - 0s - loss: 0.0578 - acc: 0.9870     \n",
      "Epoch 104/200\n",
      "1382/1382 [==============================] - 0s - loss: 0.0573 - acc: 0.9848     \n",
      "Epoch 105/200\n",
      "1382/1382 [==============================] - 0s - loss: 0.0566 - acc: 0.9884     \n",
      "Epoch 106/200\n",
      "1382/1382 [==============================] - 0s - loss: 0.0546 - acc: 0.9899     \n",
      "Epoch 107/200\n",
      "1382/1382 [==============================] - 0s - loss: 0.0545 - acc: 0.9877     \n",
      "Epoch 108/200\n",
      "1382/1382 [==============================] - 0s - loss: 0.0532 - acc: 0.9884     \n",
      "Epoch 109/200\n",
      "1382/1382 [==============================] - 0s - loss: 0.0528 - acc: 0.9928     \n",
      "Epoch 110/200\n",
      "1382/1382 [==============================] - 0s - loss: 0.0515 - acc: 0.9906     \n",
      "Epoch 111/200\n",
      "1382/1382 [==============================] - 0s - loss: 0.0509 - acc: 0.9906     \n",
      "Epoch 112/200\n",
      "1382/1382 [==============================] - 0s - loss: 0.0495 - acc: 0.9928     \n",
      "Epoch 113/200\n",
      "1382/1382 [==============================] - 0s - loss: 0.0491 - acc: 0.9913     \n",
      "Epoch 114/200\n",
      "1382/1382 [==============================] - 0s - loss: 0.0491 - acc: 0.9906       \n",
      "Epoch 115/200\n",
      "1382/1382 [==============================] - 0s - loss: 0.0475 - acc: 0.9920     \n",
      "Epoch 116/200\n",
      "1382/1382 [==============================] - 0s - loss: 0.0466 - acc: 0.9920     \n",
      "Epoch 117/200\n",
      "1382/1382 [==============================] - 0s - loss: 0.0463 - acc: 0.9942     \n",
      "Epoch 118/200\n",
      "1382/1382 [==============================] - 0s - loss: 0.0454 - acc: 0.9913     \n",
      "Epoch 119/200\n",
      "1382/1382 [==============================] - 0s - loss: 0.0447 - acc: 0.9928     \n",
      "Epoch 120/200\n",
      "1382/1382 [==============================] - 0s - loss: 0.0434 - acc: 0.9957     \n",
      "Epoch 121/200\n",
      "1382/1382 [==============================] - 0s - loss: 0.0434 - acc: 0.9935     \n",
      "Epoch 122/200\n",
      "1382/1382 [==============================] - 0s - loss: 0.0423 - acc: 0.9906     \n",
      "Epoch 123/200\n",
      "1382/1382 [==============================] - 0s - loss: 0.0410 - acc: 0.9964     \n",
      "Epoch 124/200\n",
      "1382/1382 [==============================] - 0s - loss: 0.0414 - acc: 0.9971     \n",
      "Epoch 125/200\n",
      "1382/1382 [==============================] - 0s - loss: 0.0399 - acc: 0.9935     \n",
      "Epoch 126/200\n",
      "1382/1382 [==============================] - 0s - loss: 0.0393 - acc: 0.9964     \n",
      "Epoch 127/200\n",
      "1382/1382 [==============================] - 0s - loss: 0.0390 - acc: 0.9949     \n",
      "Epoch 128/200\n",
      "1382/1382 [==============================] - 0s - loss: 0.0383 - acc: 0.9957     \n",
      "Epoch 129/200\n",
      "1382/1382 [==============================] - 0s - loss: 0.0369 - acc: 0.9964     \n",
      "Epoch 130/200\n",
      "1382/1382 [==============================] - 0s - loss: 0.0370 - acc: 0.9949     \n",
      "Epoch 131/200\n",
      "1382/1382 [==============================] - 0s - loss: 0.0359 - acc: 0.9957     \n",
      "Epoch 132/200\n",
      "1382/1382 [==============================] - 0s - loss: 0.0354 - acc: 0.9949     \n",
      "Epoch 133/200\n",
      "1382/1382 [==============================] - 0s - loss: 0.0345 - acc: 0.9971     \n",
      "Epoch 134/200\n",
      "1382/1382 [==============================] - 0s - loss: 0.0342 - acc: 0.9964     \n",
      "Epoch 135/200\n",
      "1382/1382 [==============================] - 0s - loss: 0.0337 - acc: 0.9986     \n",
      "Epoch 136/200\n",
      "1382/1382 [==============================] - 0s - loss: 0.0326 - acc: 0.9964     \n",
      "Epoch 137/200\n",
      "1382/1382 [==============================] - 0s - loss: 0.0326 - acc: 0.9978     \n",
      "Epoch 138/200\n",
      "1382/1382 [==============================] - 0s - loss: 0.0317 - acc: 0.9978     \n",
      "Epoch 139/200\n",
      "1382/1382 [==============================] - 0s - loss: 0.0314 - acc: 0.9986     \n",
      "Epoch 140/200\n",
      "1382/1382 [==============================] - 0s - loss: 0.0304 - acc: 0.9978     \n",
      "Epoch 141/200\n",
      "1382/1382 [==============================] - 0s - loss: 0.0300 - acc: 0.9978     \n",
      "Epoch 142/200\n",
      "1382/1382 [==============================] - 0s - loss: 0.0300 - acc: 0.9978     \n",
      "Epoch 143/200\n",
      "1382/1382 [==============================] - 0s - loss: 0.0300 - acc: 0.9978     \n",
      "Epoch 144/200\n",
      "1382/1382 [==============================] - 0s - loss: 0.0285 - acc: 0.9978       \n",
      "Epoch 145/200\n",
      "1382/1382 [==============================] - 0s - loss: 0.0281 - acc: 0.9986     \n",
      "Epoch 146/200\n",
      "1382/1382 [==============================] - 0s - loss: 0.0276 - acc: 0.9971     \n",
      "Epoch 147/200\n",
      "1382/1382 [==============================] - 0s - loss: 0.0275 - acc: 0.9986       \n",
      "Epoch 148/200\n",
      "1382/1382 [==============================] - 0s - loss: 0.0265 - acc: 0.9993     \n",
      "Epoch 149/200\n",
      "1382/1382 [==============================] - 0s - loss: 0.0262 - acc: 0.9986     \n",
      "Epoch 150/200\n",
      "1382/1382 [==============================] - 0s - loss: 0.0253 - acc: 1.0000     \n",
      "Epoch 151/200\n",
      "1382/1382 [==============================] - 0s - loss: 0.0252 - acc: 0.9986     \n",
      "Epoch 152/200\n",
      "1382/1382 [==============================] - 0s - loss: 0.0247 - acc: 0.9993     \n",
      "Epoch 153/200\n",
      "1382/1382 [==============================] - 0s - loss: 0.0240 - acc: 1.0000     \n",
      "Epoch 154/200\n",
      "1382/1382 [==============================] - 0s - loss: 0.0243 - acc: 0.9993     \n",
      "Epoch 155/200\n",
      "1382/1382 [==============================] - 0s - loss: 0.0233 - acc: 1.0000     \n",
      "Epoch 156/200\n",
      "1382/1382 [==============================] - 0s - loss: 0.0232 - acc: 1.0000     \n",
      "Epoch 157/200\n",
      "1382/1382 [==============================] - 0s - loss: 0.0228 - acc: 1.0000     \n",
      "Epoch 158/200\n",
      "1382/1382 [==============================] - 0s - loss: 0.0223 - acc: 1.0000     \n",
      "Epoch 159/200\n",
      "1382/1382 [==============================] - 0s - loss: 0.0221 - acc: 0.9993     \n",
      "Epoch 160/200\n",
      "1382/1382 [==============================] - 0s - loss: 0.0220 - acc: 1.0000     \n",
      "Epoch 161/200\n",
      "1382/1382 [==============================] - 0s - loss: 0.0213 - acc: 1.0000     \n",
      "Epoch 162/200\n",
      "1382/1382 [==============================] - 0s - loss: 0.0211 - acc: 0.9993     \n",
      "Epoch 163/200\n",
      "1382/1382 [==============================] - 0s - loss: 0.0209 - acc: 1.0000       \n",
      "Epoch 164/200\n",
      "1382/1382 [==============================] - 0s - loss: 0.0201 - acc: 0.9993     \n",
      "Epoch 165/200\n",
      "1382/1382 [==============================] - 0s - loss: 0.0196 - acc: 1.0000     \n",
      "Epoch 166/200\n",
      "1382/1382 [==============================] - 0s - loss: 0.0191 - acc: 1.0000       \n",
      "Epoch 167/200\n",
      "1382/1382 [==============================] - 0s - loss: 0.0192 - acc: 1.0000     \n",
      "Epoch 168/200\n",
      "1382/1382 [==============================] - 0s - loss: 0.0193 - acc: 1.0000     \n",
      "Epoch 169/200\n",
      "1382/1382 [==============================] - 0s - loss: 0.0186 - acc: 1.0000     \n",
      "Epoch 170/200\n",
      "1382/1382 [==============================] - 0s - loss: 0.0185 - acc: 0.9993     \n",
      "Epoch 171/200\n",
      "1382/1382 [==============================] - 0s - loss: 0.0181 - acc: 1.0000       \n",
      "Epoch 172/200\n"
     ]
    },
    {
     "name": "stdout",
     "output_type": "stream",
     "text": [
      "1382/1382 [==============================] - 0s - loss: 0.0176 - acc: 1.0000     \n",
      "Epoch 173/200\n",
      "1382/1382 [==============================] - 0s - loss: 0.0174 - acc: 1.0000       \n",
      "Epoch 174/200\n",
      "1382/1382 [==============================] - 0s - loss: 0.0173 - acc: 1.0000     \n",
      "Epoch 175/200\n",
      "1382/1382 [==============================] - 0s - loss: 0.0166 - acc: 1.0000     \n",
      "Epoch 176/200\n",
      "1382/1382 [==============================] - 0s - loss: 0.0162 - acc: 1.0000     \n",
      "Epoch 177/200\n",
      "1382/1382 [==============================] - 0s - loss: 0.0161 - acc: 1.0000     \n",
      "Epoch 178/200\n",
      "1382/1382 [==============================] - 0s - loss: 0.0158 - acc: 1.0000     \n",
      "Epoch 179/200\n",
      "1382/1382 [==============================] - 0s - loss: 0.0156 - acc: 1.0000     \n",
      "Epoch 180/200\n",
      "1382/1382 [==============================] - 0s - loss: 0.0150 - acc: 1.0000     \n",
      "Epoch 181/200\n",
      "1382/1382 [==============================] - 0s - loss: 0.0152 - acc: 1.0000     \n",
      "Epoch 182/200\n",
      "1382/1382 [==============================] - 0s - loss: 0.0148 - acc: 1.0000     \n",
      "Epoch 183/200\n",
      "1382/1382 [==============================] - 0s - loss: 0.0147 - acc: 1.0000     \n",
      "Epoch 184/200\n",
      "1382/1382 [==============================] - 0s - loss: 0.0143 - acc: 1.0000       \n",
      "Epoch 185/200\n",
      "1382/1382 [==============================] - 0s - loss: 0.0140 - acc: 1.0000       \n",
      "Epoch 186/200\n",
      "1382/1382 [==============================] - 0s - loss: 0.0139 - acc: 1.0000     \n",
      "Epoch 187/200\n",
      "1382/1382 [==============================] - 0s - loss: 0.0136 - acc: 1.0000     \n",
      "Epoch 188/200\n",
      "1382/1382 [==============================] - 0s - loss: 0.0134 - acc: 1.0000       \n",
      "Epoch 189/200\n",
      "1382/1382 [==============================] - 0s - loss: 0.0128 - acc: 1.0000       \n",
      "Epoch 190/200\n",
      "1382/1382 [==============================] - 0s - loss: 0.0126 - acc: 1.0000     \n",
      "Epoch 191/200\n",
      "1382/1382 [==============================] - 0s - loss: 0.0129 - acc: 1.0000     \n",
      "Epoch 192/200\n",
      "1382/1382 [==============================] - 0s - loss: 0.0123 - acc: 1.0000     \n",
      "Epoch 193/200\n",
      "1382/1382 [==============================] - 0s - loss: 0.0120 - acc: 1.0000     \n",
      "Epoch 194/200\n",
      "1382/1382 [==============================] - 0s - loss: 0.0119 - acc: 1.0000       \n",
      "Epoch 195/200\n",
      "1382/1382 [==============================] - 0s - loss: 0.0117 - acc: 1.0000     \n",
      "Epoch 196/200\n",
      "1382/1382 [==============================] - 0s - loss: 0.0113 - acc: 1.0000     \n",
      "Epoch 197/200\n",
      "1382/1382 [==============================] - 0s - loss: 0.0108 - acc: 1.0000     \n",
      "Epoch 198/200\n",
      "1382/1382 [==============================] - 0s - loss: 0.0109 - acc: 1.0000     \n",
      "Epoch 199/200\n",
      "1382/1382 [==============================] - 0s - loss: 0.0106 - acc: 1.0000     \n",
      "Epoch 200/200\n",
      "1382/1382 [==============================] - 0s - loss: 0.0103 - acc: 1.0000     \n"
     ]
    },
    {
     "data": {
      "text/plain": [
       "<keras.callbacks.History at 0x32af57fcc0>"
      ]
     },
     "execution_count": 23,
     "metadata": {},
     "output_type": "execute_result"
    }
   ],
   "source": [
    "# First Hidden Layer\n",
    "clf_ann.add(Dense(output_dim = 10, init = 'uniform', activation = 'relu', input_dim = 15))\n",
    "\n",
    "# Output Layer\n",
    "clf_ann.add(Dense(output_dim = 4, init = 'uniform', activation = 'softmax'))\n",
    "\n",
    "# Compile the ANN\n",
    "clf_ann.compile(optimizer = 'adam', loss = 'categorical_crossentropy', metrics = ['accuracy'])\n",
    "\n",
    "# Train the ANN on the Training Set\n",
    "clf_ann.fit(X_train, Y_train, batch_size = 5, nb_epoch = 200)"
   ]
  },
  {
   "cell_type": "code",
   "execution_count": 24,
   "metadata": {
    "collapsed": true
   },
   "outputs": [],
   "source": [
    "Y_pred = clf_ann.predict(X_test)\n",
    "Y_pred_class = np.argmax(Y_pred, axis = 1)\n",
    "Y_test_class = np.argmax(Y_test, axis = 1)"
   ]
  },
  {
   "cell_type": "markdown",
   "metadata": {},
   "source": [
    "## Check the Accuracy"
   ]
  },
  {
   "cell_type": "code",
   "execution_count": 25,
   "metadata": {},
   "outputs": [
    {
     "data": {
      "text/plain": [
       "0.98843930635838151"
      ]
     },
     "execution_count": 25,
     "metadata": {},
     "output_type": "execute_result"
    }
   ],
   "source": [
    "from sklearn.metrics import accuracy_score, confusion_matrix\n",
    "accuracy_score(Y_pred_class, Y_test_class)"
   ]
  },
  {
   "cell_type": "code",
   "execution_count": 26,
   "metadata": {},
   "outputs": [
    {
     "data": {
      "text/plain": [
       "array([[ 81,   0,   0,   0],\n",
       "       [  2,  11,   0,   0],\n",
       "       [  0,   0, 241,   0],\n",
       "       [  0,   2,   0,   9]], dtype=int64)"
      ]
     },
     "execution_count": 26,
     "metadata": {},
     "output_type": "execute_result"
    }
   ],
   "source": [
    "confusion_matrix(Y_pred_class, Y_test_class)"
   ]
  },
  {
   "cell_type": "code",
   "execution_count": null,
   "metadata": {
    "collapsed": true
   },
   "outputs": [],
   "source": []
  }
 ],
 "metadata": {
  "kernelspec": {
   "display_name": "Python [default]",
   "language": "python",
   "name": "python3"
  },
  "language_info": {
   "codemirror_mode": {
    "name": "ipython",
    "version": 3
   },
   "file_extension": ".py",
   "mimetype": "text/x-python",
   "name": "python",
   "nbconvert_exporter": "python",
   "pygments_lexer": "ipython3",
   "version": "3.5.4"
  }
 },
 "nbformat": 4,
 "nbformat_minor": 2
}
