{
 "cells": [
  {
   "cell_type": "markdown",
   "metadata": {},
   "source": [
    "## Initialization"
   ]
  },
  {
   "cell_type": "code",
   "execution_count": 1,
   "metadata": {
    "collapsed": true
   },
   "outputs": [],
   "source": [
    "import pandas as pd\n",
    "import numpy as np\n",
    "import re"
   ]
  },
  {
   "cell_type": "code",
   "execution_count": 2,
   "metadata": {
    "collapsed": true
   },
   "outputs": [],
   "source": [
    "from nltk.stem.porter import PorterStemmer\n",
    "from nltk.corpus import stopwords\n",
    "from sklearn.metrics import confusion_matrix, accuracy_score\n",
    "from sklearn.feature_extraction.text import CountVectorizer\n",
    "from sklearn.model_selection import train_test_split\n",
    "from sklearn.linear_model import LogisticRegression\n",
    "from sklearn.naive_bayes import GaussianNB\n",
    "from sklearn.tree import DecisionTreeClassifier\n",
    "from sklearn.ensemble import RandomForestClassifier\n",
    "from sklearn.neighbors import KNeighborsClassifier\n",
    "from sklearn.svm import SVC"
   ]
  },
  {
   "cell_type": "code",
   "execution_count": 3,
   "metadata": {
    "collapsed": true
   },
   "outputs": [],
   "source": [
    "model_accuracies = {'LogReg':1, 'DT':1, 'RF':1, 'LinearSVC':1, 'KernelSVC':1, 'NB':1, 'KNN':1}"
   ]
  },
  {
   "cell_type": "markdown",
   "metadata": {},
   "source": [
    "## Importing the data"
   ]
  },
  {
   "cell_type": "code",
   "execution_count": 4,
   "metadata": {},
   "outputs": [
    {
     "data": {
      "text/plain": [
       "(1000, 2)"
      ]
     },
     "execution_count": 4,
     "metadata": {},
     "output_type": "execute_result"
    }
   ],
   "source": [
    "dataset = pd.read_csv('amazon_cells_labelled.txt', header = None, delimiter = '\\t', quoting = 3)\n",
    "dataset.shape"
   ]
  },
  {
   "cell_type": "code",
   "execution_count": 5,
   "metadata": {},
   "outputs": [
    {
     "data": {
      "text/html": [
       "<div>\n",
       "<style>\n",
       "    .dataframe thead tr:only-child th {\n",
       "        text-align: right;\n",
       "    }\n",
       "\n",
       "    .dataframe thead th {\n",
       "        text-align: left;\n",
       "    }\n",
       "\n",
       "    .dataframe tbody tr th {\n",
       "        vertical-align: top;\n",
       "    }\n",
       "</style>\n",
       "<table border=\"1\" class=\"dataframe\">\n",
       "  <thead>\n",
       "    <tr style=\"text-align: right;\">\n",
       "      <th></th>\n",
       "      <th>0</th>\n",
       "      <th>1</th>\n",
       "    </tr>\n",
       "  </thead>\n",
       "  <tbody>\n",
       "    <tr>\n",
       "      <th>0</th>\n",
       "      <td>So there is no way for me to plug it in here i...</td>\n",
       "      <td>0</td>\n",
       "    </tr>\n",
       "    <tr>\n",
       "      <th>1</th>\n",
       "      <td>Good case, Excellent value.</td>\n",
       "      <td>1</td>\n",
       "    </tr>\n",
       "    <tr>\n",
       "      <th>2</th>\n",
       "      <td>Great for the jawbone.</td>\n",
       "      <td>1</td>\n",
       "    </tr>\n",
       "    <tr>\n",
       "      <th>3</th>\n",
       "      <td>Tied to charger for conversations lasting more...</td>\n",
       "      <td>0</td>\n",
       "    </tr>\n",
       "    <tr>\n",
       "      <th>4</th>\n",
       "      <td>The mic is great.</td>\n",
       "      <td>1</td>\n",
       "    </tr>\n",
       "  </tbody>\n",
       "</table>\n",
       "</div>"
      ],
      "text/plain": [
       "                                                   0  1\n",
       "0  So there is no way for me to plug it in here i...  0\n",
       "1                        Good case, Excellent value.  1\n",
       "2                             Great for the jawbone.  1\n",
       "3  Tied to charger for conversations lasting more...  0\n",
       "4                                  The mic is great.  1"
      ]
     },
     "execution_count": 5,
     "metadata": {},
     "output_type": "execute_result"
    }
   ],
   "source": [
    "dataset.head()"
   ]
  },
  {
   "cell_type": "markdown",
   "metadata": {},
   "source": [
    "## Preprocess the Data"
   ]
  },
  {
   "cell_type": "code",
   "execution_count": 6,
   "metadata": {
    "collapsed": true
   },
   "outputs": [],
   "source": [
    "corpus = []"
   ]
  },
  {
   "cell_type": "code",
   "execution_count": 9,
   "metadata": {
    "collapsed": true
   },
   "outputs": [],
   "source": [
    "for i in range(0, dataset.shape[0]):\n",
    "    sent = re.sub('[^a-zA-Z]', ' ', dataset[0][i])\n",
    "    sent = sent.lower()\n",
    "    sent = sent.split()\n",
    "    ps = PorterStemmer()\n",
    "    sent = [ps.stem(word) for word in sent if not word in set(stopwords.words('english'))]\n",
    "    sent = ' '.join(sent)\n",
    "    corpus.append(sent)"
   ]
  },
  {
   "cell_type": "code",
   "execution_count": 10,
   "metadata": {},
   "outputs": [
    {
     "data": {
      "text/plain": [
       "['way plug us unless go convert',\n",
       " 'good case excel valu',\n",
       " 'great jawbon',\n",
       " 'tie charger convers last minut major problem',\n",
       " 'mic great',\n",
       " 'jiggl plug get line right get decent volum',\n",
       " 'sever dozen sever hundr contact imagin fun send one one',\n",
       " 'razr owner must',\n",
       " 'needless say wast money',\n",
       " 'wast money time',\n",
       " 'sound qualiti great',\n",
       " 'impress go origin batteri extend batteri',\n",
       " 'two seper mere ft start notic excess static garbl sound headset',\n",
       " 'good qualiti though',\n",
       " 'design odd ear clip comfort',\n",
       " 'highli recommend one blue tooth phone',\n",
       " 'advis everyon fool',\n",
       " 'far good',\n",
       " 'work great',\n",
       " 'click place way make wonder long mechan would last',\n",
       " 'went motorola websit follow direct could get pair',\n",
       " 'bought use kindl fire absolut love',\n",
       " 'commerci mislead',\n",
       " 'yet run new batteri two bar three day without charg',\n",
       " 'bought mother problem batteri',\n",
       " 'great pocket pc phone combin',\n",
       " 'own phone month say best mobil phone',\n",
       " 'think instruct provid help',\n",
       " 'peopl couldnt hear talk pull earphon talk phone',\n",
       " 'hold charg',\n",
       " 'simpl littl phone use breakag unaccept',\n",
       " 'product ideal peopl like whose ear sensit',\n",
       " 'unus move car freeway speed',\n",
       " 'two year left contract hate phone',\n",
       " 'car charger well ac charger includ make sure never run juic highi recommend',\n",
       " 'need least min get phone book time first turn phone batteri life short',\n",
       " 'kept well',\n",
       " 'poor talk time perform',\n",
       " 'case great work fine',\n",
       " 'worthless product',\n",
       " 'great camera that mp pic nice clear great pictur qualiti',\n",
       " 'impress product',\n",
       " 'nice headset price right',\n",
       " 'hear garbag audio',\n",
       " 'excel bluetooth headset',\n",
       " 'featur want',\n",
       " 'right mind gonna buy batteri',\n",
       " 'argu verizon regard drop call return phone two day',\n",
       " 'case seem well made',\n",
       " 'disappoint batteri',\n",
       " 'loud enough turn like',\n",
       " 'good protect make phone bulki',\n",
       " 'usabl keyboard actual turn pda real world use machin instead neat gadget',\n",
       " 'phone pretti sturdi never larg problem',\n",
       " 'love thing',\n",
       " 'everyth fine reason price e',\n",
       " 'disappoint',\n",
       " 'even drop phone stream submerg second still work great',\n",
       " 'happi complaint one regard sound qualiti end',\n",
       " 'button bad',\n",
       " 'essenti forget microsoft tech support',\n",
       " 'realli recommend facepl sinc look nice eleg cool',\n",
       " 'headphon great find think perhap best purchas made last sever year serious',\n",
       " 'buy differ phone',\n",
       " 'hold phone particular angl parti hear clearli',\n",
       " 'one big drawback mp player button phone front cover let paus skip song lock second',\n",
       " 'week later activ suddenli die',\n",
       " 'feel comfort headset wear glass get way sometim',\n",
       " 'great ipod',\n",
       " 'devic great sever situat',\n",
       " 'mic work',\n",
       " 'even bmw seri fairli quiet troubl hear person say',\n",
       " 'great choic',\n",
       " 'nice dock station home work',\n",
       " 'beauti phone',\n",
       " 'love product',\n",
       " 'buy wrongli advertis',\n",
       " 'great littl item',\n",
       " 'love phone handi lot featur',\n",
       " 'purchas within day longer work',\n",
       " 'wear everyday hold well',\n",
       " 'good bargain',\n",
       " 'well packag arriv time work intend',\n",
       " 'batteri run quickli',\n",
       " 'item work great broke month use',\n",
       " 'headset easi use everyon love',\n",
       " 'phone work great',\n",
       " 'construct headset poor',\n",
       " 'product excel work better verizon one boy cheaper',\n",
       " 'phone load super',\n",
       " 'product cost much one expect work far better greater eas thing',\n",
       " 'made sturdi',\n",
       " 'work great',\n",
       " 'ear bud play music one ear',\n",
       " 'dont wast money',\n",
       " 'order',\n",
       " 'plan use car forget',\n",
       " 'found product waaay big',\n",
       " 'best found far tri bluetooth one best qualiti listen well eas use',\n",
       " 'disappoint decis',\n",
       " 'integr seamlessli motorola razr phone',\n",
       " 'buyer bewar could flush money right toilet',\n",
       " 'definit bargain',\n",
       " 'price good free ship good purchas',\n",
       " 'receiv supposedli new motorola appar match phone charger',\n",
       " 'pro good camera nice pictur also cool style like black white',\n",
       " 'huge design flaw unless use correctli think case',\n",
       " 'love headset jabra bluetooth headset great recept good ear piec comfort fit',\n",
       " 'camera although rate impress megapixel render imag fall well expect rel high resolut',\n",
       " 'purcash car charger work',\n",
       " 'sound qualiti end excel use headset call wife ask wife use headset call',\n",
       " 'phone slim light display beauti',\n",
       " 'littl geeki think that sex toast rock ooz sex right batteri embed sleek stylish leather case',\n",
       " 'great product fast ship',\n",
       " 'absolut great',\n",
       " 'keyboard nice compromis full qwerti basic cell phone number keypad',\n",
       " 'got phone around end may complet unhappi',\n",
       " 'comfort ear',\n",
       " 'winner us',\n",
       " 'setup simpler',\n",
       " 'tri sever differ earpiec cell phone jabra one first one found fit ear comfort',\n",
       " 'could get strong enough signal',\n",
       " 'iam pleas purchas',\n",
       " 'bad qualiti',\n",
       " 'get job done',\n",
       " 'great audio',\n",
       " 'basic servic bad',\n",
       " 'work cell phone plug set charger',\n",
       " 'bluetooth week realli like',\n",
       " 'bt headset disapoin',\n",
       " 'small even realiz get use',\n",
       " 'accompani softwar almost brilliant',\n",
       " 'headset work great packag nice avoid damag',\n",
       " 'definitli recommend',\n",
       " 'buyer care',\n",
       " 'major logitech earbud headset fail',\n",
       " 'good stuff price',\n",
       " 'headset work peachi keen',\n",
       " 'hous get drop coverag upstair coverag basement',\n",
       " 'voic recognit tremend',\n",
       " 'wast',\n",
       " 'sever differ minut call experienc drop area bar',\n",
       " 'happi item',\n",
       " 'disappoint',\n",
       " 'phone take forev charg like hour liter',\n",
       " 'got phone reccomend rel glad',\n",
       " 'wast time',\n",
       " 'recept poor',\n",
       " 'item state includ descript includ',\n",
       " 'month screen went black sudden',\n",
       " 'hope',\n",
       " 'audio qualiti poor poor',\n",
       " 'absolut problem headset link blackberri curv',\n",
       " 'know sound funni seem like sketchi technolog work well well one work great',\n",
       " 'bought wire headphon sound better',\n",
       " 'phone fast send kind messag web brows significantli faster previou phone use',\n",
       " 'nice qualiti build unlik cheap',\n",
       " 'item fantast work perfectli',\n",
       " 'love color',\n",
       " 'w superb',\n",
       " 'whine internet goe use thing less like',\n",
       " 'great charger',\n",
       " 'essenti commun tool commun',\n",
       " 'work like charm work one got phone',\n",
       " 'still maintain monkey make headphon obvious share enough dna copi design human',\n",
       " 'great valu',\n",
       " 'work bougth l c work',\n",
       " 'look sharp screen nice clear great graphic',\n",
       " 'last long',\n",
       " 'one thing hate mode set button side',\n",
       " 'excel servic',\n",
       " 'thank wast money',\n",
       " 'audio qualiti poor',\n",
       " 'igo charger tip realli great',\n",
       " 'file browser offer option one need handsfre great',\n",
       " 'superb phone great network',\n",
       " 'connect wife bluetooth motorola hs phone work like charm whether phone pocket case',\n",
       " 'put latest os v g like slow crawl lock everi',\n",
       " 'recogn phone storag devic',\n",
       " 'like loud buzz overrid convers phone',\n",
       " 'buy product',\n",
       " 'bluetoooth headset time still comfort way fit ear',\n",
       " 'sound qualiti good function awesom',\n",
       " 'phone thorn side realli abhor',\n",
       " 'recent problem could stay connect minut disconnect',\n",
       " 'incred',\n",
       " 'design flaw',\n",
       " 'great phone',\n",
       " 'wast buck',\n",
       " 'check voic mail night keypad backlight turn second first messag lost',\n",
       " 'replac die week',\n",
       " 'ring tone overal good phone buy',\n",
       " 'late extrem nice help phone',\n",
       " 'problem wit hit drop signal',\n",
       " 'impress',\n",
       " 'light weight hardli notic',\n",
       " 'love thin',\n",
       " 'bad choic',\n",
       " 'pleather case fit',\n",
       " 'useless phone simpli deaf',\n",
       " 'color even prettier thought would graphic incred sharp',\n",
       " 'think good invest',\n",
       " 'make strang tick nois end call',\n",
       " 'best electron avail fm transmitt',\n",
       " 'batteri last hour',\n",
       " 'great headset impress h',\n",
       " 'mega pixel camera part phone reason good',\n",
       " 'nearli year work great',\n",
       " 'good transmit audio',\n",
       " 'send back',\n",
       " 'bother contact compani dollar product learn lesson bought form onlin anyway',\n",
       " 'hate earbug avoid phone mean',\n",
       " 'great price also',\n",
       " 'rang decent abl roam around hous phone live room recept sound qualiti issu',\n",
       " 'fast servic',\n",
       " 'would highli recommend',\n",
       " 'would recommend',\n",
       " 'also like button felt like would crack use',\n",
       " 'worst phone ever',\n",
       " 'still infatu phone',\n",
       " 'freez frequent',\n",
       " 'kind embarrass use look mostli embarrass child like compani',\n",
       " 'simpl lightweight great fit',\n",
       " 'expect better consum experi motorola',\n",
       " 'horribl tick sound background call never experienc',\n",
       " 'certainli comfort function decent',\n",
       " 'usual like headband one lightweight mess hair',\n",
       " 'bit disappoint',\n",
       " 'phone year tell great',\n",
       " 'order soni ericsson w think work that first use',\n",
       " 'batteri complet useless',\n",
       " 'big wast time',\n",
       " 'wast one',\n",
       " 'great sound servic',\n",
       " 'realli pleas product far',\n",
       " 'one favorit purchas ever',\n",
       " 'best bluetooth market',\n",
       " 'authent leather nice shine comfort recommend case',\n",
       " 'excit get headset thought realli cute',\n",
       " 'make mistak',\n",
       " 'big disappoint calendar sync',\n",
       " 'phone unus new',\n",
       " 'worst custom servic ever',\n",
       " 'addit ear gel provid instruct whatsoev',\n",
       " 'defeat purpos bluetooth headset',\n",
       " 'worth everi penni',\n",
       " 'excel wallet type phone case',\n",
       " 'nice headphon price work great',\n",
       " 'internet excrutiatingli slow',\n",
       " 'comfort wear well probabl import aspect use case',\n",
       " 'fit like glove strong secur durabl',\n",
       " 'gosh best phone ever',\n",
       " 'attract appear good qualiti',\n",
       " 'love featur form factor',\n",
       " 'product strong rubber petroleum smell unbear caus return',\n",
       " 'poor qualiti servic',\n",
       " 'cabl look thin flimsi scari',\n",
       " 'great earpiec',\n",
       " 'excel hand free tool',\n",
       " 'great use home stereo',\n",
       " 'good product incred valu',\n",
       " 'month work flawlessli far',\n",
       " 'work great',\n",
       " 'absolutel junk',\n",
       " 'one work either',\n",
       " 'batteri life real good',\n",
       " 'return hour later',\n",
       " 'great item',\n",
       " 'wast money',\n",
       " 'love headset',\n",
       " 'drain player may also potenti fri',\n",
       " 'work perfectli',\n",
       " 'unreli give',\n",
       " 'gave star sound qualiti',\n",
       " 'avoid one',\n",
       " 'revers plug work great',\n",
       " 'wast littl money earpiec',\n",
       " 'good phone',\n",
       " 'best rotat featur help',\n",
       " 'comfort whole famili',\n",
       " 'good product good seller',\n",
       " 'love bluetooth',\n",
       " 'first wear well',\n",
       " 'impress headset plantron',\n",
       " 'got small ador',\n",
       " 'great phone',\n",
       " 'recommend buy product',\n",
       " 'piec junk',\n",
       " 'poorli contstruct hing',\n",
       " 'item great instal let charg overnit work good everi sinc problem',\n",
       " 'great phone',\n",
       " 'buy',\n",
       " 'excel phone',\n",
       " 'purchas phone',\n",
       " 'voic recognit thru handset excel',\n",
       " 'hand best phone ever',\n",
       " 'work great cat attack phone scratch protect strip instead destroy screen',\n",
       " 'one work price right',\n",
       " 'custom servic terribl',\n",
       " 'batteri life still long enough motorola razor v',\n",
       " 'send back',\n",
       " 'know made wise decis',\n",
       " 'someon shouldv invent sooner',\n",
       " 'good price',\n",
       " 'everyth work first tri devic certainli engin clever way construct feel good',\n",
       " 'receiv quickli work great',\n",
       " 'work great',\n",
       " 'mani peopl complain found headset microphon weak',\n",
       " 'year old nokia tracfon hold charg lot better',\n",
       " 'care consum one bit',\n",
       " 'good batteri got realli fast',\n",
       " 'instruct manual lack',\n",
       " 'also slim enough fit alarm clock dock station without remov case',\n",
       " 'phone hold charg like new',\n",
       " 'batteri unreli well servic use antena',\n",
       " 'uncomfort sound qualiti quit poor compar phone razr previou wire headset plug lg',\n",
       " 'gotten lot compliment',\n",
       " 'definit must state allow cell phone usag drive',\n",
       " 'want money back',\n",
       " 'love devic',\n",
       " 'also happi price',\n",
       " 'order product first unhappi immedi',\n",
       " 'ngage still lack earbud',\n",
       " 'abl voic dial car problem',\n",
       " 'bar cell phone home cant hear anyth',\n",
       " 'good item low price',\n",
       " 'howev riington best neither game',\n",
       " 'plug work well',\n",
       " 'amazon suck',\n",
       " 'rip charg ship',\n",
       " 'comfort',\n",
       " 'batteri work well replac origin came phone year ago',\n",
       " 'recept excel',\n",
       " 'fit comfort either ear sound clear loud charg last coupl day',\n",
       " 'clear qualiti sound mess sound ipod sinc sound button headset',\n",
       " 'long last batteri recharg frequentyli flip phone',\n",
       " 'obvious problem adhes',\n",
       " 'disappoint',\n",
       " 'inexpens piec would still expect better qualiti',\n",
       " 'practic useless add kind boost recept bought',\n",
       " 'excel sound qualiti',\n",
       " 'happi',\n",
       " 'piec junk broke phone day',\n",
       " 'new batteri work great phone',\n",
       " 'worst custom servic',\n",
       " 'drop phone time say even concret phone still great knock wood',\n",
       " 'recept terribl full static',\n",
       " 'good audio qualiti',\n",
       " 'littl devic transform organiz capabl made life whole lot easier',\n",
       " 'sit vehicl cradl belt headset lost signal',\n",
       " 'jerk phone',\n",
       " 'work like charm work advertis',\n",
       " 'comfort nice rang good batteri life',\n",
       " 'network coverag lo angel horribl',\n",
       " 'excel starter wireless headset',\n",
       " 'loudspeak option great bumper light appeal',\n",
       " 'thing think could improv sound leak headset',\n",
       " 'first recept suck never bar ever',\n",
       " 'phone get extrem hot',\n",
       " 'microphon also work well accord peopl call applifi everyth',\n",
       " 'nice design qualiti',\n",
       " 'also phone drop case go save special drop face',\n",
       " 'light easi use clear recept transmiss',\n",
       " 'bad fit way big',\n",
       " 'definit good',\n",
       " 'awesom devic',\n",
       " 'wast money',\n",
       " 'order motorola data cabl got well finish work product',\n",
       " 'love phone',\n",
       " 'look headset long time got happier',\n",
       " 'drivng along headset start ring reason',\n",
       " 'display excel camera good year',\n",
       " 'batteri life also great',\n",
       " 'worst phone ever month',\n",
       " 'good item work start problem auto revers tape player',\n",
       " 'embarass also ear hurt tri push ear plug ear',\n",
       " 'protect phone side',\n",
       " 'averag phone bad batteri life oper weak network',\n",
       " 'clear skype call long batteri life long rang',\n",
       " 'soyo technolog suck',\n",
       " 'great hand free devic',\n",
       " 'even take self portrait outsid exterior display cool',\n",
       " 'problem other mention',\n",
       " 'tri mani mani handsfre gadget one final work well',\n",
       " 'magic help',\n",
       " 'worst piec crap ever along verizon custom servic',\n",
       " 'poor sound qualiti',\n",
       " 'best phone market',\n",
       " 'work well',\n",
       " 'compani ship product promptli work well',\n",
       " 'exactli want',\n",
       " 'pictur resolut far compar price phone offer today',\n",
       " 'great deal',\n",
       " 'excel product satisfi purchas',\n",
       " 'highli recommend encourag peopl give tri',\n",
       " 'better expect',\n",
       " 'use earpiec left right thing stay ear',\n",
       " 'great product price',\n",
       " 'sound good reason price effect simpl',\n",
       " 'still wait sure item would work well ever reciev',\n",
       " 'disappoint',\n",
       " 'prompt servic',\n",
       " 'excel product price',\n",
       " 'pleas headset',\n",
       " 'wast money time',\n",
       " 'especi love long batteri life',\n",
       " 'stupid keep buy new charger car charger cradl headphon car kit everi time new phone come',\n",
       " 'work great',\n",
       " 'plantron bluetooth excel buy',\n",
       " 'came verizon cingulair nicer cell phone first thing notic realli bad servic',\n",
       " 'look new earpiec',\n",
       " 'highli recommend devic everyon',\n",
       " 'jawbon era awesom',\n",
       " 'receiv white color batteri goe dead coupl hoursth origin use last week still last longer thereplac',\n",
       " 'year batteri went complet dead headset',\n",
       " 'use sever phone two year one best',\n",
       " 'awesom new look fall',\n",
       " 'first phone cheapli made',\n",
       " 'att clear sound distort yell talk',\n",
       " 'plastic break realli easi clip',\n",
       " 'price good',\n",
       " 'make mistak',\n",
       " 'oh forgot also mention weird color effect phone',\n",
       " 'use iriv spinn case fit fine',\n",
       " 'also area unit broke fond magnet strap',\n",
       " 'overal psych phone appoint contact get great recept',\n",
       " 'everi thing phone work perfectli like',\n",
       " 'anoth note phone appear realli look rather bland especi black model',\n",
       " 'realli easi',\n",
       " 'sanyo surviv dozen drop blacktop without ill effect',\n",
       " 'fantast earphon',\n",
       " 'find cell phone right away enter car',\n",
       " 'low qualiti',\n",
       " 'highli recommend modest price cellular phone',\n",
       " 'get better recept clariti phone',\n",
       " 'warn stay away',\n",
       " 'wish could return unit get back money',\n",
       " 'awsom devic work great',\n",
       " 'use talk hour batteri would liter drain die',\n",
       " 'find bad unit come one earpad would recommend anyon',\n",
       " 'displeas',\n",
       " 'might gotten defect would risk buy built qualiti alon',\n",
       " 'made case small difficult instal',\n",
       " 'restor phone like new perform',\n",
       " 'would recommend purchas jabra jx seri work flawlessli moto q go figur',\n",
       " 'search internet found one best valu',\n",
       " 'fit',\n",
       " 'happi product',\n",
       " 'screen size big key pad lit well enough camera qualiti excel camera phone',\n",
       " 'realli noth bad say headset',\n",
       " 'glad found product amazon hard find high price',\n",
       " 'portabl work',\n",
       " 'colleagu get great recept littl expens perform great',\n",
       " 'even fulli charg went bed turn blue tooth wi fi notic left morn',\n",
       " 'also problem phone read memori card alway turn',\n",
       " 'good wear hat sunglass',\n",
       " 'time shipment qualiti product',\n",
       " 'nice solid keyboard',\n",
       " 'well made fit surefir gx perfectli',\n",
       " 'horribl phone',\n",
       " 'bt batteri junk',\n",
       " 'would recommend other',\n",
       " 'cant get softwar work comput',\n",
       " 'disappoint',\n",
       " 'poor voic clariti',\n",
       " 'batteri work great',\n",
       " 'buyer remors one',\n",
       " 'disappoint accessoryon',\n",
       " 'find inexcus probabl return phone perhap chang carrier',\n",
       " 'look great strong',\n",
       " 'tmobil servic year pretti happi',\n",
       " 'updat procedur difficult cumbersom',\n",
       " 'disappoint hate anyth goe ear',\n",
       " 'great softwar motorola',\n",
       " 'deliveri time',\n",
       " 'easi use',\n",
       " 'uncomfort ear use lg vx env',\n",
       " 'volum switch rocket unit destin unknown',\n",
       " 'hold charg long time reason comfort long wear condit qualiti sound tremend',\n",
       " 'like return',\n",
       " 'keyboard realli worthwhil use sturdi enough expect problem',\n",
       " 'verizon bill howev difficult understand even though price plan simpl',\n",
       " 'charg overnight batteri work great',\n",
       " 'regret',\n",
       " 'love phone',\n",
       " 'disappoint',\n",
       " 'user friendli',\n",
       " 'unfortun abil actual know receiv call rather import featur phone piti respect',\n",
       " 'exchang phone even problem',\n",
       " 'result phone either stuck max volum mute',\n",
       " 'pda rock',\n",
       " 'super charg use small hybrid palmtop camera cellphon excel role',\n",
       " 'would definit recommend jabra bt v look comfort clariti great price',\n",
       " 'verizon year ago realli like servic',\n",
       " 'pretti piec junk',\n",
       " 'plug wrong size',\n",
       " 'work describ',\n",
       " 'save money item month',\n",
       " 'bad purchas',\n",
       " 'well im satisfi',\n",
       " 'bose nois cancel amaz import nyc commut',\n",
       " 'batteri excel bargain',\n",
       " 'defect crap',\n",
       " 'would given star abl',\n",
       " 'wear glass fit fine',\n",
       " 'sound qualiti devic unaccept unless realli quiet area almost hear noth',\n",
       " 'would recommend item anyon',\n",
       " 'holster arriv match photo ad',\n",
       " 'great problem',\n",
       " 'earlier review note plug charger noth happen',\n",
       " 'frog phone charm ador eye catch',\n",
       " 'never know push hard enough right number time function want',\n",
       " 'sound clear peopl talk amaz qualiti',\n",
       " 'got aluminum case new palm vx work realli well protect handheld perfectli far',\n",
       " 'good product well made',\n",
       " 'mobil phone tool must',\n",
       " 'impress job motorola sturdi phone',\n",
       " 'receiv order well within ship timefram everyth good work order overal excit sourc',\n",
       " 'phone sturdi waterproof',\n",
       " 'impress would recommend item anyon',\n",
       " 'complaint standard sound volum littl low even turn',\n",
       " 'thank amazon thing need good price',\n",
       " 'end slide edg pant back pocket instead',\n",
       " 'go store bought new nokia phone work great',\n",
       " 'work great',\n",
       " 'realli ugli',\n",
       " 'horribl switch time',\n",
       " 'nois shield incredi',\n",
       " 'real improv',\n",
       " 'razr batteri good buy',\n",
       " 'keep good work amazon',\n",
       " 'refus refund replac',\n",
       " 'unfortun easi accident activ gentl touch button accident touch phone face listen',\n",
       " 'basic threw money window noth',\n",
       " 'great case price',\n",
       " 'took one drop inch kitchen counter crack impress laugh',\n",
       " 'bluetooth rang good day ago left phone trunk got call carri convers without hitch',\n",
       " 'small sleek impress look practic setup ampl storag place',\n",
       " 'eargel channel sound directli ear seem increas sound volum clariti',\n",
       " 'none new one ever quit work properli',\n",
       " 'glad purchas',\n",
       " 'miss numer call reason',\n",
       " 'perhap phone defect peopl cannot hear use',\n",
       " 'buy product',\n",
       " 'suck stuff work phone',\n",
       " 'shift bubbl peel even scratch noth happier new one droid',\n",
       " 'worst softwar ever use could give zero star would',\n",
       " 'tri make call exercis frustrat',\n",
       " 'case flimsi piec plastic front side protect whatsoev',\n",
       " 'jabra earset happi sound qualiti especi outgo better',\n",
       " 'love camera realli pretti good qualiti',\n",
       " 'thank great servic',\n",
       " 'total packag',\n",
       " 'seller understand patient would definit buy',\n",
       " 'give wirefli star contact cingular inform practic',\n",
       " 'aggrav',\n",
       " 'great product price',\n",
       " 'purchas famili friend enjoy clariti eas use',\n",
       " 'virgin wireless rock cheap littl phone',\n",
       " 'none work buy',\n",
       " 'muddi low qualiti sound case around wire insert poorli super glu slid',\n",
       " 'pleas dont wast money',\n",
       " 'quit satisfi purchas',\n",
       " 'look good qualiti motorola headset keep look',\n",
       " 'yet plantroninc continu use flaw charger design',\n",
       " 'disapoint result',\n",
       " 'cumbersom design',\n",
       " 'great new packag nice work good problem came less time expect',\n",
       " 'great product',\n",
       " 'piec crap',\n",
       " 'experi terribl fourth bluetooth headset much comfort last jabra hate',\n",
       " 'fix problem',\n",
       " 'worst ever',\n",
       " 'happi',\n",
       " 'troubl access internet download rington perform function',\n",
       " 'bare ever hear constantli say',\n",
       " 'batteri life highli unaccept',\n",
       " 'compani joke',\n",
       " 'everyth descript said would',\n",
       " 'due happen everi call forc stop use headset',\n",
       " 'work great car charger especi cannot plug two adapt time',\n",
       " 'verizon tech support walk procedur none work end hard set wipe data',\n",
       " 'voic qualiti signal strength drop call',\n",
       " 'play louder speaker size price low would think qualiti lack howev',\n",
       " 'better expect',\n",
       " 'feel poorli construct menu difficult navig button recess difficult push',\n",
       " 'batteri hold well',\n",
       " 'also difficult put recommend avoid product',\n",
       " 'use two day alway easi hear',\n",
       " 'got car charger even week charger broken went plug start smoke',\n",
       " 'sprint terribl custom servic',\n",
       " 'link phone without effort',\n",
       " 'cool',\n",
       " 'easi use',\n",
       " 'better new',\n",
       " 'posses get junk idea',\n",
       " 'piec trash',\n",
       " 'pretti good product',\n",
       " 'great phone',\n",
       " 'price amazon excel product would highli recommend',\n",
       " 'research develop divis obvious know',\n",
       " 'real killer volum cours break',\n",
       " 'phone work fine',\n",
       " 'happi product',\n",
       " 'poor construct',\n",
       " 'infuri',\n",
       " 'overal would recommend phone new walkman',\n",
       " 'sprint charg servic',\n",
       " 'cheap feel look cheap',\n",
       " 'fit ear well comfort',\n",
       " 'work europ asia',\n",
       " 'clip belt deffinit make feel like cent come',\n",
       " 'like design look jabra behe ear headset pretti comfort wear hour day without pain ear',\n",
       " 'amaz quick arriv two origin lg cell phone batteri fraction price',\n",
       " 'worst phone samsung crap crappi samsung e worst ever seeen',\n",
       " 'charger work week complet stop charg phone',\n",
       " 'poor product',\n",
       " 'howev need better instruct',\n",
       " 'need two hand oper screen softwar interfac decad old cannot compet new softwar design',\n",
       " 'work well pair treo w skype headset pc use usb bluetooth transceiv',\n",
       " 'steer clear product go genuin palm replacementr pen come three pack',\n",
       " 'buy buyit suck',\n",
       " 'great product sure beat use finger',\n",
       " 'plu serious believ worth steep price point',\n",
       " 'case tri normal fall apart month one seem long haul',\n",
       " 'dissapoint perform',\n",
       " 'make mistak pleas buy phone',\n",
       " 'phone might well worst ever brand',\n",
       " 'case less extra origin put later discard scratch ear',\n",
       " 'recommend igo anyon differ brand cell phone mp player famili',\n",
       " 'bother go store',\n",
       " 'post detail comment grey black phone fire red great color',\n",
       " 'problem item would order need',\n",
       " 'get pay guess',\n",
       " 'softwar great job could also make rington form exist cd without internet connect',\n",
       " 'im surpris good qualiti car charger much review',\n",
       " 'fabul',\n",
       " 'howev bt headset current good real time game like first person shooter sinc audio delay mess',\n",
       " 'use bitpim free program find internet transfer data phone price cabl excel',\n",
       " 'disappoint accessori good manufactur',\n",
       " 'perform aw muffl tinni incom sound sever echo end call',\n",
       " 'wind resist',\n",
       " 'obvious terribl custom servic get pay',\n",
       " 'last forev overli expens replac easi oper sound much better other tri',\n",
       " 'contact compani told although unit still warranti produc receipt luck',\n",
       " 'linksi way exchang bad phone refurb unit someth',\n",
       " 'phone sturdi nokia bar phone',\n",
       " 'great phone',\n",
       " 'place treo case snug lot extra room side',\n",
       " 'pleas',\n",
       " 'batteri terribl',\n",
       " 'found product easi set use',\n",
       " 'earpiec larg heavi keep fall ear',\n",
       " 'utter crap sound qualiti terribl',\n",
       " 'charger arriv within promis timefram work',\n",
       " 'ear loop need tini sound great',\n",
       " 'final three four time spring latch broke could use longer visor',\n",
       " 'handsfre part work fine car tri download address book treo reboot overal still rate devic high',\n",
       " 'talk useless custom servic',\n",
       " 'felt light tinni',\n",
       " 'fit palm tungsten e broke first time tri plug',\n",
       " 'happi purchas good qualiti low price',\n",
       " 'love look feel samsung flipphon',\n",
       " 'well design sharp blue nice color',\n",
       " 'everyth',\n",
       " 'could recommend',\n",
       " 'nice sound',\n",
       " 'look good pictur case huge disappoint',\n",
       " 'much less jawbon go replac',\n",
       " 'setup went smoothli',\n",
       " 'extrem slow take forev anyth',\n",
       " 'must studi anyon interest worst sin industri design',\n",
       " 'first thing happen track',\n",
       " 'well made easi access phone handi detach belt clip',\n",
       " 'continu pair period sinc somehow kept drop',\n",
       " 'upload rington third parti',\n",
       " 'bluetooth work phone lock screen flash make call randomli pocket lock',\n",
       " 'truli aw',\n",
       " 'work fine motorola cellphon lot better worn batteri',\n",
       " 'volum ringer real good choic loud',\n",
       " 'none tone accept',\n",
       " 'camera color balanc aw',\n",
       " 'product clearli readi prime time care cool look tell call come worthless',\n",
       " 'love rington upbeat',\n",
       " 'chines forgeri abound',\n",
       " 'easi pair samsung cell',\n",
       " 'instruct explain microphon jack could use',\n",
       " 'would advis purchas item never work well',\n",
       " 'bad pay month servic',\n",
       " 'work well',\n",
       " 'nokia ca usb cabl work phone',\n",
       " 'clear crisp sound',\n",
       " 'use smallest earpiec provid stay pretti well',\n",
       " 'biggest complaint batteri drain superfast',\n",
       " 'design might ergonom theori could stand ear',\n",
       " 'buy want use holster',\n",
       " 'phone also take great pictur even video clip',\n",
       " 'make look cool',\n",
       " 'ear occupi background distract',\n",
       " 'comfort fit need headset comfort least hour time entir day',\n",
       " 'also phone seem accept anyth except cbr mp prefer rip window media player',\n",
       " 'beat price',\n",
       " 'come strong light use light camera shot even flash so signal serious',\n",
       " 'lightweight work well',\n",
       " 'bewar',\n",
       " 'love cabl allow connect mini usb devic pc',\n",
       " 'anyon near hear part convers',\n",
       " 'cool case open allow screen get scratch',\n",
       " 'bought phone replac startac regret sinc',\n",
       " 'appear actual outperform origin batteri china came v',\n",
       " 'store anyth phone number sim',\n",
       " 'last less minut actual tri use phone wife phone problem',\n",
       " 'poor qualiti',\n",
       " 'jabra ear gel r best',\n",
       " 'worth',\n",
       " 'phone crash complet get replac',\n",
       " 'quit work use month purchas anoth one best headset ever own',\n",
       " 'unfortun recharg iphon despit connect multipl power sourc imac extern batteri wall outlet etc',\n",
       " 'great phone',\n",
       " 'simpli want small flip phone look elsewher extra bell whistl mediocr',\n",
       " 'good valu work fine power via usb car wall outlet',\n",
       " 'phone slide around car grip prevent phone slip hand',\n",
       " 'simpli best bluetooth headset sound qualiti',\n",
       " 'think plan one sure last moto phone',\n",
       " 'span hour two peopl exclaim whoa new phone tv',\n",
       " 'alway use cord headset freedom wireless help',\n",
       " 'case pass one year mark show sign wear function',\n",
       " 'leather nice soft fit tight cut face good shape',\n",
       " 'everyth need ask',\n",
       " 'receiv use product day broke',\n",
       " 'product great make work lot easier go copier wait hold someth',\n",
       " 'none three size sent headset would stay ear',\n",
       " 'mobil best custom servic anywher',\n",
       " 'arriv quickli much less expens other sold',\n",
       " 'tri unit fail within month pro',\n",
       " 'provid good protect look classi',\n",
       " 'krussel alway good',\n",
       " 'tracfonewebsit user friendli make easi toactiv etc',\n",
       " 'design good',\n",
       " 'great recept time',\n",
       " 'would highli recommend product',\n",
       " 'use unit sunglass good texa',\n",
       " 'dit work time nokia',\n",
       " 'bought mainli charger broke soon purchas',\n",
       " 'like loud buzz overrid convers phone',\n",
       " 'fantast buy get whatev next phone',\n",
       " 'stay away store care',\n",
       " 'blueant supertooth hand free phone speaker awesom',\n",
       " 'fit',\n",
       " 'item arriv quickli work great metro pc samsung sch r slider phone soni premium sound ear plug',\n",
       " 'light plenti batteri capac confort wear somewhat extend period time',\n",
       " 'disappoint',\n",
       " 'blue ant easi use',\n",
       " 'cheap hey work pleasantli supris given low cost item',\n",
       " 'camera phone may use dustpan indoor rather use dispos',\n",
       " 'day later puff smoke came phone use',\n",
       " 'conveni simpl use get job done make car ride much smoother',\n",
       " 'nano state son dissapoint',\n",
       " 'sound qualiti excel well',\n",
       " 'best headset use',\n",
       " 'would reccommend',\n",
       " 'around year carri highest qualiti anti glare screen protector found date',\n",
       " 'want',\n",
       " 'particular model would work motorola q smartphon',\n",
       " 'wont work right atleast',\n",
       " 'addit feel amp look phone lightweight cheap plastic',\n",
       " 'warranti problem reoccur bottom line put money somewher els cingular support',\n",
       " 'realli want plantron right one mani issu good',\n",
       " 'great product',\n",
       " 'crisp clear',\n",
       " 'first charg kept go dead minut',\n",
       " 'cheap plastic creak like old wooden floor',\n",
       " 'get absolut horribl recept apart phone problem',\n",
       " 'recept gener good',\n",
       " 'excel sound batteri life inconspicu boot',\n",
       " 'great bluetooth',\n",
       " 'highli recommend case',\n",
       " 'worthwhil',\n",
       " 'great deal',\n",
       " 'phone got year old slowli break despit much care part',\n",
       " 'sorri made purchas',\n",
       " 'bought hope could make bluetooth headset fit better thing made imposs wear',\n",
       " 'treo mobil refus replac forc buy anoth phone without kind upgrad discount',\n",
       " 'horribl',\n",
       " 'think would hold securli belt',\n",
       " 'allow possibl doubl book date time first',\n",
       " 'work week break',\n",
       " 'simpl use like',\n",
       " 'great tool entertain commun data manag oh sure use activesync optim data synchron result',\n",
       " 'use case smell disgust',\n",
       " 'want',\n",
       " 'case would order anoth',\n",
       " 'great phone',\n",
       " 'bought batteri coupon amazon happi purchas',\n",
       " 'internet access fine rare instanc work',\n",
       " 'perfect ps',\n",
       " 'five star plu plu',\n",
       " 'good qualiti bargain bought bought cheapi big lot sound aw peopl end hear',\n",
       " 'drain',\n",
       " 'tri talk real loud shout telephon get old still told great',\n",
       " 'good work fine',\n",
       " 'price great deal',\n",
       " 'great price',\n",
       " 'wind complet useless',\n",
       " 'ye shini front side love',\n",
       " 'work',\n",
       " 'first thought grtting good deal plug phone v c razr',\n",
       " 'recept headset excel',\n",
       " 'thumb seller',\n",
       " 'verizon lg phone work well togeth good recept rang exce feet line sight',\n",
       " 'improp descript return',\n",
       " 'work comfort',\n",
       " 'batteri charg life quit long',\n",
       " 'jabra eargel fit ear well',\n",
       " 'batteri life',\n",
       " 'check everywher featur realli disappoint',\n",
       " 'product exactli describ',\n",
       " 'get signal verizon phone',\n",
       " 'job',\n",
       " 'would recommend',\n",
       " 'plan order',\n",
       " 'said phone camera nice mani cool effect play video decent well',\n",
       " 'satisfi cell phone day one',\n",
       " 'keep get better better third one numer palm',\n",
       " 'awkward use unreli',\n",
       " 'ship time also quick',\n",
       " 'good hope',\n",
       " 'good case',\n",
       " 'work',\n",
       " 'realli good product',\n",
       " 'unfortun work',\n",
       " 'three broke within two month use',\n",
       " 'dont buy',\n",
       " 'father v batteri die',\n",
       " 'howev ear pad come easili one week lost one',\n",
       " 'call drop phone come screen goe black worst stop ring intermitt',\n",
       " 'horribl horribl protector',\n",
       " 'like nokia either',\n",
       " 'reach bottom row uncomfort send end key expect',\n",
       " 'bought nokia cell phone week ago nightmar',\n",
       " 'would take long describ bad custom servic experi amazon',\n",
       " 'disappoint thing speakerphon',\n",
       " 'terribl car accept cassett',\n",
       " 'product useless sinc enough charg current charg cellphon plan use',\n",
       " 'say',\n",
       " 'stay away q',\n",
       " 'use dirti',\n",
       " 'unreli servic mobil',\n",
       " 'good enough price',\n",
       " 'bought two neither charg',\n",
       " 'look nice',\n",
       " 'excel tool especi pair phone auto answer',\n",
       " 'read review problem',\n",
       " 'product cover import light sensor ear outlet',\n",
       " 'comfort hand',\n",
       " 'work',\n",
       " 'poor reliabl',\n",
       " 'work',\n",
       " 'take pictur batteri drop bar start beep let know die',\n",
       " 'terribl product wast money',\n",
       " 'last time buy',\n",
       " 'wast money',\n",
       " 'far work like charm',\n",
       " 'week far good',\n",
       " 'case best part download pictur laptop use ir even send pictur laptop phone',\n",
       " 'would recommend item',\n",
       " 'choic headset year great sound good volum good nois cancel',\n",
       " 'nice case feel good hand',\n",
       " 'item receiv counterfeit',\n",
       " 'realli good far probabl best bt headset ever',\n",
       " 'work fine',\n",
       " 'receiv headset good time happi',\n",
       " 'pleas see could replac well travl swivel holster blackberri flip',\n",
       " 'sister one also love',\n",
       " 'good qualiti',\n",
       " 'far worst purchas made amazon',\n",
       " 'excel dual purpos headset',\n",
       " 'excel',\n",
       " 'work listen music cingular',\n",
       " 'seem complet secur hold belt keep iphon insid',\n",
       " 'bottowm line anoth worthless cheap gimmick sprint',\n",
       " 'troubl volum',\n",
       " 'good thing fit comfort small ear',\n",
       " 'warn buy',\n",
       " 'pair iphon could happier far',\n",
       " 'open batteri connect broken devic turn',\n",
       " 'want clip go top ear caus discomfort',\n",
       " 'best headset ever',\n",
       " 'trust websit expect help support',\n",
       " 'loud glad say plantron maintain flawless connect cell static normal use',\n",
       " 'speaker low qualiti make ring tone sound cheap',\n",
       " 'fit comfort came three size earbud tip',\n",
       " 'excel product price',\n",
       " 'bad recept',\n",
       " 'product high qualiti chines crap',\n",
       " 'quit comfort ear',\n",
       " 'great phone',\n",
       " 'buy product fail',\n",
       " 'everyth product wrong first',\n",
       " 'pair two devic easi bare took coupl minut start make call voic dial featur',\n",
       " 'utterli confus first caus lose coupl import contact',\n",
       " 'terribl phone holder',\n",
       " 'cutout button place perfectli',\n",
       " 'love abl use one headset land line cell',\n",
       " 'problem ear loop made weak materi break easili',\n",
       " 'nearli good look amazon pictur make look',\n",
       " 'despit flaw case except qualiti well worth addit cost own offici oem product',\n",
       " 'stupid',\n",
       " 'hear drive car usual even put loudest set',\n",
       " 'seller ship quickli much cheaper competitor',\n",
       " 'good show samsung',\n",
       " 'bought save alot money',\n",
       " 'alway cut make beep beep beep sound say signal fail',\n",
       " 'figur',\n",
       " 'phone sound ok great ok wife phone almost total unintellig understand word said',\n",
       " 'take batteri phone put back togeth restart',\n",
       " 'manag bend leaf spring back place metal enough stress break next drop',\n",
       " 'leopard print wonder wild',\n",
       " 'work',\n",
       " 'saggi floppi piec junk',\n",
       " 'much better hard plastic case',\n",
       " 'also new problem',\n",
       " 'happi far',\n",
       " 'cool phone',\n",
       " 'work good',\n",
       " 'motorola final got voic qualiti bluetooth headset right',\n",
       " 'loos connect phone even within coupl feet two',\n",
       " 'great would realli recommend',\n",
       " 'make easier keep bluetooth wear',\n",
       " 'said pretti useless',\n",
       " 'never got',\n",
       " 'pair headphon worst ever sound wise',\n",
       " 'drain weak snap',\n",
       " 'charg cingular att phone',\n",
       " 'get extra minut carri call get cut',\n",
       " 'howev year fliptop start get loos wobbl eventu screen went black receiv place call',\n",
       " 'kept catch cabl seat pull phone turn',\n",
       " 'headset fulfil requir happi purchas',\n",
       " 'logitech bluetooth headset',\n",
       " 'like fact rest lightli ear rather insid',\n",
       " 'lot websit rate good phone',\n",
       " 'tri cabl comput ipod work fine',\n",
       " 'mic joke volum quit low',\n",
       " 'return',\n",
       " 'maintain connect comput lap',\n",
       " 'easi turn car volum control quit access',\n",
       " 'mine year christma bought rest famili',\n",
       " 'otherwis easi instal use clear sound',\n",
       " 'nice leather',\n",
       " 'purchas differ case',\n",
       " 'joy use',\n",
       " 'much disappoint compani',\n",
       " 'satisif',\n",
       " 'charg',\n",
       " 'phone get bought say wow',\n",
       " 'button small',\n",
       " 'read spec alon make say wow',\n",
       " 'love great armband',\n",
       " 'realli like product motorola allot clearer ear piec mic',\n",
       " 'howev keypad tinni sometim reach wrong button',\n",
       " 'exchang soni ericson z pretti happi decis',\n",
       " 'impress price case',\n",
       " 'also make easier hold',\n",
       " 'use product motor control center lot high voltag hum equip work great',\n",
       " 'pretti easi',\n",
       " 'cannot make call certain place',\n",
       " 'howev girl complain time phone wake like normal phone',\n",
       " 'beauti style though',\n",
       " 'compani charg restock fee still given refund back',\n",
       " 'tri return refund',\n",
       " 'plug find darn thing work',\n",
       " 'excel product',\n",
       " 'earbud piec break easili',\n",
       " 'lousi product',\n",
       " 'phone tri hard everyth fail abil phone',\n",
       " 'best charger seen market yet',\n",
       " 'sweetest phone',\n",
       " 'oh charger seem work fine',\n",
       " 'fit secur ear hook even need use sound better direct ear canal',\n",
       " 'enough volum',\n",
       " 'echo problem unsatisfactori',\n",
       " 'could take video time qualiti poor',\n",
       " 'wast money',\n",
       " 'go first neg review product',\n",
       " 'adapt provid enough charg current',\n",
       " 'much hype phone assum best mistak',\n",
       " 'also cannot take pictur case lens cover',\n",
       " 'phone fall easili',\n",
       " 'work peopl hear talk',\n",
       " 'text messag featur realli tricki use',\n",
       " 'realli disappoint charger work',\n",
       " 'pain ear',\n",
       " 'last one day blew',\n",
       " 'disappoint',\n",
       " 'kind flop around',\n",
       " 'screen get smudg easili touch ear face',\n",
       " 'piec junk lose call phone',\n",
       " 'item match pictur',\n",
       " 'thing disappoint infra red port irda',\n",
       " 'answer call unit never work']"
      ]
     },
     "execution_count": 10,
     "metadata": {},
     "output_type": "execute_result"
    }
   ],
   "source": [
    "corpus"
   ]
  },
  {
   "cell_type": "markdown",
   "metadata": {},
   "source": [
    "## Create Bag of Words Model"
   ]
  },
  {
   "cell_type": "code",
   "execution_count": 17,
   "metadata": {
    "collapsed": true
   },
   "outputs": [],
   "source": [
    "cv = CountVectorizer(max_features = 1300)"
   ]
  },
  {
   "cell_type": "code",
   "execution_count": 18,
   "metadata": {
    "collapsed": true
   },
   "outputs": [],
   "source": [
    "X = cv.fit_transform(corpus).toarray()"
   ]
  },
  {
   "cell_type": "code",
   "execution_count": 19,
   "metadata": {},
   "outputs": [],
   "source": [
    "Y = dataset.iloc[:, 1].values"
   ]
  },
  {
   "cell_type": "code",
   "execution_count": 20,
   "metadata": {},
   "outputs": [
    {
     "data": {
      "text/plain": [
       "(1000, 1300)"
      ]
     },
     "execution_count": 20,
     "metadata": {},
     "output_type": "execute_result"
    }
   ],
   "source": [
    "X.shape"
   ]
  },
  {
   "cell_type": "code",
   "execution_count": 21,
   "metadata": {},
   "outputs": [
    {
     "data": {
      "text/plain": [
       "(1000,)"
      ]
     },
     "execution_count": 21,
     "metadata": {},
     "output_type": "execute_result"
    }
   ],
   "source": [
    "Y.shape"
   ]
  },
  {
   "cell_type": "markdown",
   "metadata": {},
   "source": [
    "## Create Train and Test Data"
   ]
  },
  {
   "cell_type": "code",
   "execution_count": 22,
   "metadata": {
    "collapsed": true
   },
   "outputs": [],
   "source": [
    "X_train, X_test, Y_train, Y_test = train_test_split(X, Y, test_size = 0.2, random_state = 4)"
   ]
  },
  {
   "cell_type": "code",
   "execution_count": 23,
   "metadata": {},
   "outputs": [
    {
     "data": {
      "text/plain": [
       "(800, 1300)"
      ]
     },
     "execution_count": 23,
     "metadata": {},
     "output_type": "execute_result"
    }
   ],
   "source": [
    "X_train.shape"
   ]
  },
  {
   "cell_type": "code",
   "execution_count": 24,
   "metadata": {},
   "outputs": [
    {
     "data": {
      "text/plain": [
       "(200, 1300)"
      ]
     },
     "execution_count": 24,
     "metadata": {},
     "output_type": "execute_result"
    }
   ],
   "source": [
    "X_test.shape"
   ]
  },
  {
   "cell_type": "code",
   "execution_count": 25,
   "metadata": {},
   "outputs": [
    {
     "data": {
      "text/plain": [
       "(800,)"
      ]
     },
     "execution_count": 25,
     "metadata": {},
     "output_type": "execute_result"
    }
   ],
   "source": [
    "Y_train.shape"
   ]
  },
  {
   "cell_type": "code",
   "execution_count": 26,
   "metadata": {},
   "outputs": [
    {
     "data": {
      "text/plain": [
       "(200,)"
      ]
     },
     "execution_count": 26,
     "metadata": {},
     "output_type": "execute_result"
    }
   ],
   "source": [
    "Y_test.shape"
   ]
  },
  {
   "cell_type": "code",
   "execution_count": 27,
   "metadata": {},
   "outputs": [
    {
     "data": {
      "text/html": [
       "<div>\n",
       "<style>\n",
       "    .dataframe thead tr:only-child th {\n",
       "        text-align: right;\n",
       "    }\n",
       "\n",
       "    .dataframe thead th {\n",
       "        text-align: left;\n",
       "    }\n",
       "\n",
       "    .dataframe tbody tr th {\n",
       "        vertical-align: top;\n",
       "    }\n",
       "</style>\n",
       "<table border=\"1\" class=\"dataframe\">\n",
       "  <thead>\n",
       "    <tr style=\"text-align: right;\">\n",
       "      <th></th>\n",
       "      <th>0</th>\n",
       "    </tr>\n",
       "  </thead>\n",
       "  <tbody>\n",
       "    <tr>\n",
       "      <th>0</th>\n",
       "      <td>413</td>\n",
       "    </tr>\n",
       "    <tr>\n",
       "      <th>1</th>\n",
       "      <td>387</td>\n",
       "    </tr>\n",
       "  </tbody>\n",
       "</table>\n",
       "</div>"
      ],
      "text/plain": [
       "     0\n",
       "0  413\n",
       "1  387"
      ]
     },
     "execution_count": 27,
     "metadata": {},
     "output_type": "execute_result"
    }
   ],
   "source": [
    "pd.DataFrame(pd.DataFrame(Y_train)[0].value_counts())"
   ]
  },
  {
   "cell_type": "code",
   "execution_count": 28,
   "metadata": {},
   "outputs": [
    {
     "data": {
      "text/html": [
       "<div>\n",
       "<style>\n",
       "    .dataframe thead tr:only-child th {\n",
       "        text-align: right;\n",
       "    }\n",
       "\n",
       "    .dataframe thead th {\n",
       "        text-align: left;\n",
       "    }\n",
       "\n",
       "    .dataframe tbody tr th {\n",
       "        vertical-align: top;\n",
       "    }\n",
       "</style>\n",
       "<table border=\"1\" class=\"dataframe\">\n",
       "  <thead>\n",
       "    <tr style=\"text-align: right;\">\n",
       "      <th></th>\n",
       "      <th>0</th>\n",
       "    </tr>\n",
       "  </thead>\n",
       "  <tbody>\n",
       "    <tr>\n",
       "      <th>1</th>\n",
       "      <td>113</td>\n",
       "    </tr>\n",
       "    <tr>\n",
       "      <th>0</th>\n",
       "      <td>87</td>\n",
       "    </tr>\n",
       "  </tbody>\n",
       "</table>\n",
       "</div>"
      ],
      "text/plain": [
       "     0\n",
       "1  113\n",
       "0   87"
      ]
     },
     "execution_count": 28,
     "metadata": {},
     "output_type": "execute_result"
    }
   ],
   "source": [
    "pd.DataFrame(pd.DataFrame(Y_test)[0].value_counts())"
   ]
  },
  {
   "cell_type": "markdown",
   "metadata": {},
   "source": [
    "## DecisionTree"
   ]
  },
  {
   "cell_type": "code",
   "execution_count": 29,
   "metadata": {
    "collapsed": true
   },
   "outputs": [],
   "source": [
    "clf_dt = DecisionTreeClassifier(criterion = 'entropy')"
   ]
  },
  {
   "cell_type": "code",
   "execution_count": 30,
   "metadata": {},
   "outputs": [
    {
     "data": {
      "text/plain": [
       "DecisionTreeClassifier(class_weight=None, criterion='entropy', max_depth=None,\n",
       "            max_features=None, max_leaf_nodes=None,\n",
       "            min_impurity_decrease=0.0, min_impurity_split=None,\n",
       "            min_samples_leaf=1, min_samples_split=2,\n",
       "            min_weight_fraction_leaf=0.0, presort=False, random_state=None,\n",
       "            splitter='best')"
      ]
     },
     "execution_count": 30,
     "metadata": {},
     "output_type": "execute_result"
    }
   ],
   "source": [
    "clf_dt.fit(X_train, Y_train)"
   ]
  },
  {
   "cell_type": "code",
   "execution_count": 31,
   "metadata": {
    "collapsed": true
   },
   "outputs": [],
   "source": [
    "Y_pred_dt = clf_dt.predict(X_test)"
   ]
  },
  {
   "cell_type": "code",
   "execution_count": 32,
   "metadata": {},
   "outputs": [
    {
     "data": {
      "text/plain": [
       "array([[66, 34],\n",
       "       [21, 79]], dtype=int64)"
      ]
     },
     "execution_count": 32,
     "metadata": {},
     "output_type": "execute_result"
    }
   ],
   "source": [
    "confusion_matrix(Y_pred_dt, Y_test)"
   ]
  },
  {
   "cell_type": "markdown",
   "metadata": {},
   "source": [
    "## Random Forest"
   ]
  },
  {
   "cell_type": "code",
   "execution_count": 33,
   "metadata": {
    "collapsed": true
   },
   "outputs": [],
   "source": [
    "clf_rf = RandomForestClassifier(n_estimators = 10, criterion = 'entropy')"
   ]
  },
  {
   "cell_type": "code",
   "execution_count": 34,
   "metadata": {},
   "outputs": [
    {
     "data": {
      "text/plain": [
       "RandomForestClassifier(bootstrap=True, class_weight=None, criterion='entropy',\n",
       "            max_depth=None, max_features='auto', max_leaf_nodes=None,\n",
       "            min_impurity_decrease=0.0, min_impurity_split=None,\n",
       "            min_samples_leaf=1, min_samples_split=2,\n",
       "            min_weight_fraction_leaf=0.0, n_estimators=10, n_jobs=1,\n",
       "            oob_score=False, random_state=None, verbose=0,\n",
       "            warm_start=False)"
      ]
     },
     "execution_count": 34,
     "metadata": {},
     "output_type": "execute_result"
    }
   ],
   "source": [
    "clf_rf.fit(X_train, Y_train)"
   ]
  },
  {
   "cell_type": "code",
   "execution_count": 35,
   "metadata": {
    "collapsed": true
   },
   "outputs": [],
   "source": [
    "Y_pred_rf = clf_rf.predict(X_test)"
   ]
  },
  {
   "cell_type": "code",
   "execution_count": 36,
   "metadata": {},
   "outputs": [
    {
     "data": {
      "text/plain": [
       "array([[77, 40],\n",
       "       [10, 73]], dtype=int64)"
      ]
     },
     "execution_count": 36,
     "metadata": {},
     "output_type": "execute_result"
    }
   ],
   "source": [
    "confusion_matrix(Y_pred_rf, Y_test)"
   ]
  },
  {
   "cell_type": "markdown",
   "metadata": {},
   "source": [
    "## Naive Bayes"
   ]
  },
  {
   "cell_type": "code",
   "execution_count": 37,
   "metadata": {
    "collapsed": true
   },
   "outputs": [],
   "source": [
    "clf_nb = GaussianNB()"
   ]
  },
  {
   "cell_type": "code",
   "execution_count": 38,
   "metadata": {},
   "outputs": [
    {
     "data": {
      "text/plain": [
       "GaussianNB(priors=None)"
      ]
     },
     "execution_count": 38,
     "metadata": {},
     "output_type": "execute_result"
    }
   ],
   "source": [
    "clf_nb.fit(X_train, Y_train)"
   ]
  },
  {
   "cell_type": "code",
   "execution_count": 39,
   "metadata": {
    "collapsed": true
   },
   "outputs": [],
   "source": [
    "Y_pred_nb = clf_nb.predict(X_test)"
   ]
  },
  {
   "cell_type": "code",
   "execution_count": 40,
   "metadata": {},
   "outputs": [
    {
     "data": {
      "text/plain": [
       "array([[54, 20],\n",
       "       [33, 93]], dtype=int64)"
      ]
     },
     "execution_count": 40,
     "metadata": {},
     "output_type": "execute_result"
    }
   ],
   "source": [
    "confusion_matrix(Y_pred_nb, Y_test)"
   ]
  },
  {
   "cell_type": "markdown",
   "metadata": {},
   "source": [
    "## KNN"
   ]
  },
  {
   "cell_type": "code",
   "execution_count": 41,
   "metadata": {
    "collapsed": true
   },
   "outputs": [],
   "source": [
    "clf_knn = KNeighborsClassifier(n_neighbors = 5)"
   ]
  },
  {
   "cell_type": "code",
   "execution_count": 42,
   "metadata": {},
   "outputs": [
    {
     "data": {
      "text/plain": [
       "KNeighborsClassifier(algorithm='auto', leaf_size=30, metric='minkowski',\n",
       "           metric_params=None, n_jobs=1, n_neighbors=5, p=2,\n",
       "           weights='uniform')"
      ]
     },
     "execution_count": 42,
     "metadata": {},
     "output_type": "execute_result"
    }
   ],
   "source": [
    "clf_knn.fit(X_train, Y_train)"
   ]
  },
  {
   "cell_type": "code",
   "execution_count": 43,
   "metadata": {
    "collapsed": true
   },
   "outputs": [],
   "source": [
    "Y_pred_knn = clf_knn.predict(X_test)"
   ]
  },
  {
   "cell_type": "code",
   "execution_count": 44,
   "metadata": {},
   "outputs": [
    {
     "data": {
      "text/plain": [
       "array([[55, 31],\n",
       "       [32, 82]], dtype=int64)"
      ]
     },
     "execution_count": 44,
     "metadata": {},
     "output_type": "execute_result"
    }
   ],
   "source": [
    "confusion_matrix(Y_pred_knn, Y_test)"
   ]
  },
  {
   "cell_type": "markdown",
   "metadata": {},
   "source": [
    "## Logistic Regression"
   ]
  },
  {
   "cell_type": "code",
   "execution_count": 45,
   "metadata": {
    "collapsed": true
   },
   "outputs": [],
   "source": [
    "clf_lr = LogisticRegression()"
   ]
  },
  {
   "cell_type": "code",
   "execution_count": 46,
   "metadata": {},
   "outputs": [
    {
     "data": {
      "text/plain": [
       "LogisticRegression(C=1.0, class_weight=None, dual=False, fit_intercept=True,\n",
       "          intercept_scaling=1, max_iter=100, multi_class='ovr', n_jobs=1,\n",
       "          penalty='l2', random_state=None, solver='liblinear', tol=0.0001,\n",
       "          verbose=0, warm_start=False)"
      ]
     },
     "execution_count": 46,
     "metadata": {},
     "output_type": "execute_result"
    }
   ],
   "source": [
    "clf_lr.fit(X_train, Y_train)"
   ]
  },
  {
   "cell_type": "code",
   "execution_count": 47,
   "metadata": {
    "collapsed": true
   },
   "outputs": [],
   "source": [
    "Y_pred_lr = clf_lr.predict(X_test)"
   ]
  },
  {
   "cell_type": "code",
   "execution_count": 48,
   "metadata": {},
   "outputs": [
    {
     "data": {
      "text/plain": [
       "array([[74, 32],\n",
       "       [13, 81]], dtype=int64)"
      ]
     },
     "execution_count": 48,
     "metadata": {},
     "output_type": "execute_result"
    }
   ],
   "source": [
    "confusion_matrix(Y_pred_lr, Y_test)"
   ]
  },
  {
   "cell_type": "markdown",
   "metadata": {},
   "source": [
    "## Linear SVC"
   ]
  },
  {
   "cell_type": "code",
   "execution_count": 49,
   "metadata": {
    "collapsed": true
   },
   "outputs": [],
   "source": [
    "clf_lsvc = SVC(kernel = 'linear')"
   ]
  },
  {
   "cell_type": "code",
   "execution_count": 50,
   "metadata": {},
   "outputs": [
    {
     "data": {
      "text/plain": [
       "SVC(C=1.0, cache_size=200, class_weight=None, coef0=0.0,\n",
       "  decision_function_shape='ovr', degree=3, gamma='auto', kernel='linear',\n",
       "  max_iter=-1, probability=False, random_state=None, shrinking=True,\n",
       "  tol=0.001, verbose=False)"
      ]
     },
     "execution_count": 50,
     "metadata": {},
     "output_type": "execute_result"
    }
   ],
   "source": [
    "clf_lsvc.fit(X_train, Y_train)"
   ]
  },
  {
   "cell_type": "code",
   "execution_count": 51,
   "metadata": {
    "collapsed": true
   },
   "outputs": [],
   "source": [
    "Y_pred_lsvc = clf_lsvc.predict(X_test)"
   ]
  },
  {
   "cell_type": "code",
   "execution_count": 52,
   "metadata": {},
   "outputs": [
    {
     "data": {
      "text/plain": [
       "array([[67, 31],\n",
       "       [20, 82]], dtype=int64)"
      ]
     },
     "execution_count": 52,
     "metadata": {},
     "output_type": "execute_result"
    }
   ],
   "source": [
    "confusion_matrix(Y_pred_lsvc, Y_test)"
   ]
  },
  {
   "cell_type": "markdown",
   "metadata": {},
   "source": [
    "## Kernel SVC"
   ]
  },
  {
   "cell_type": "code",
   "execution_count": 53,
   "metadata": {
    "collapsed": true
   },
   "outputs": [],
   "source": [
    "clf_ksvc = SVC(kernel = 'rbf')"
   ]
  },
  {
   "cell_type": "code",
   "execution_count": 54,
   "metadata": {},
   "outputs": [
    {
     "data": {
      "text/plain": [
       "SVC(C=1.0, cache_size=200, class_weight=None, coef0=0.0,\n",
       "  decision_function_shape='ovr', degree=3, gamma='auto', kernel='rbf',\n",
       "  max_iter=-1, probability=False, random_state=None, shrinking=True,\n",
       "  tol=0.001, verbose=False)"
      ]
     },
     "execution_count": 54,
     "metadata": {},
     "output_type": "execute_result"
    }
   ],
   "source": [
    "clf_ksvc.fit(X_train, Y_train)"
   ]
  },
  {
   "cell_type": "code",
   "execution_count": 55,
   "metadata": {
    "collapsed": true
   },
   "outputs": [],
   "source": [
    "Y_pred_ksvc = clf_ksvc.predict(X_test)"
   ]
  },
  {
   "cell_type": "code",
   "execution_count": 56,
   "metadata": {},
   "outputs": [
    {
     "data": {
      "text/plain": [
       "array([[ 87, 113],\n",
       "       [  0,   0]], dtype=int64)"
      ]
     },
     "execution_count": 56,
     "metadata": {},
     "output_type": "execute_result"
    }
   ],
   "source": [
    "confusion_matrix(Y_pred_ksvc, Y_test)"
   ]
  },
  {
   "cell_type": "markdown",
   "metadata": {},
   "source": [
    "## Accuracy of Various Models"
   ]
  },
  {
   "cell_type": "code",
   "execution_count": 57,
   "metadata": {},
   "outputs": [
    {
     "data": {
      "text/plain": [
       "{'DT': 0.72499999999999998,\n",
       " 'KNN': 0.68500000000000005,\n",
       " 'KernelSVC': 0.435,\n",
       " 'LinearSVC': 0.745,\n",
       " 'LogReg': 0.77500000000000002,\n",
       " 'NB': 0.73499999999999999,\n",
       " 'RF': 0.75}"
      ]
     },
     "execution_count": 57,
     "metadata": {},
     "output_type": "execute_result"
    }
   ],
   "source": [
    "model_accuracies['DT'] = accuracy_score(Y_pred_dt, Y_test)\n",
    "model_accuracies['KNN'] = accuracy_score(Y_pred_knn, Y_test)\n",
    "model_accuracies['KernelSVC'] = accuracy_score(Y_pred_ksvc, Y_test)\n",
    "model_accuracies['LinearSVC'] = accuracy_score(Y_pred_lsvc, Y_test)\n",
    "model_accuracies['LogReg'] = accuracy_score(Y_pred_lr, Y_test)\n",
    "model_accuracies['NB'] = accuracy_score(Y_pred_nb, Y_test)\n",
    "model_accuracies['RF'] = accuracy_score(Y_pred_rf, Y_test)\n",
    "model_accuracies"
   ]
  },
  {
   "cell_type": "code",
   "execution_count": null,
   "metadata": {
    "collapsed": true
   },
   "outputs": [],
   "source": []
  },
  {
   "cell_type": "code",
   "execution_count": null,
   "metadata": {
    "collapsed": true
   },
   "outputs": [],
   "source": []
  }
 ],
 "metadata": {
  "kernelspec": {
   "display_name": "Python [default]",
   "language": "python",
   "name": "python3"
  },
  "language_info": {
   "codemirror_mode": {
    "name": "ipython",
    "version": 3
   },
   "file_extension": ".py",
   "mimetype": "text/x-python",
   "name": "python",
   "nbconvert_exporter": "python",
   "pygments_lexer": "ipython3",
   "version": "3.5.4"
  }
 },
 "nbformat": 4,
 "nbformat_minor": 2
}
