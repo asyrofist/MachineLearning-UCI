{
 "cells": [
  {
   "cell_type": "markdown",
   "metadata": {},
   "source": [
    "## Initialization"
   ]
  },
  {
   "cell_type": "code",
   "execution_count": 1,
   "metadata": {
    "collapsed": true
   },
   "outputs": [],
   "source": [
    "import pandas as pd\n",
    "import numpy as np\n",
    "import re"
   ]
  },
  {
   "cell_type": "code",
   "execution_count": 2,
   "metadata": {
    "collapsed": true
   },
   "outputs": [],
   "source": [
    "from nltk.stem.porter import PorterStemmer\n",
    "from nltk.corpus import stopwords\n",
    "from sklearn.metrics import confusion_matrix, accuracy_score\n",
    "from sklearn.feature_extraction.text import CountVectorizer\n",
    "from sklearn.model_selection import train_test_split\n",
    "from sklearn.linear_model import LogisticRegression\n",
    "from sklearn.naive_bayes import GaussianNB\n",
    "from sklearn.tree import DecisionTreeClassifier\n",
    "from sklearn.ensemble import RandomForestClassifier\n",
    "from sklearn.neighbors import KNeighborsClassifier\n",
    "from sklearn.svm import SVC"
   ]
  },
  {
   "cell_type": "code",
   "execution_count": 3,
   "metadata": {
    "collapsed": true
   },
   "outputs": [],
   "source": [
    "model_accuracies = {'LogReg':1, 'DT':1, 'RF':1, 'LinearSVC':1, 'KernelSVC':1, 'NB':1, 'KNN':1}"
   ]
  },
  {
   "cell_type": "markdown",
   "metadata": {},
   "source": [
    "## Importing the data"
   ]
  },
  {
   "cell_type": "code",
   "execution_count": 4,
   "metadata": {},
   "outputs": [
    {
     "data": {
      "text/plain": [
       "(1000, 2)"
      ]
     },
     "execution_count": 4,
     "metadata": {},
     "output_type": "execute_result"
    }
   ],
   "source": [
    "dataset = pd.read_csv('imdb_labelled.txt', header = None, delimiter = '\\t', quoting = 3)\n",
    "dataset.shape"
   ]
  },
  {
   "cell_type": "code",
   "execution_count": 5,
   "metadata": {},
   "outputs": [
    {
     "data": {
      "text/html": [
       "<div>\n",
       "<style>\n",
       "    .dataframe thead tr:only-child th {\n",
       "        text-align: right;\n",
       "    }\n",
       "\n",
       "    .dataframe thead th {\n",
       "        text-align: left;\n",
       "    }\n",
       "\n",
       "    .dataframe tbody tr th {\n",
       "        vertical-align: top;\n",
       "    }\n",
       "</style>\n",
       "<table border=\"1\" class=\"dataframe\">\n",
       "  <thead>\n",
       "    <tr style=\"text-align: right;\">\n",
       "      <th></th>\n",
       "      <th>0</th>\n",
       "      <th>1</th>\n",
       "    </tr>\n",
       "  </thead>\n",
       "  <tbody>\n",
       "    <tr>\n",
       "      <th>0</th>\n",
       "      <td>A very, very, very slow-moving, aimless movie ...</td>\n",
       "      <td>0</td>\n",
       "    </tr>\n",
       "    <tr>\n",
       "      <th>1</th>\n",
       "      <td>Not sure who was more lost - the flat characte...</td>\n",
       "      <td>0</td>\n",
       "    </tr>\n",
       "    <tr>\n",
       "      <th>2</th>\n",
       "      <td>Attempting artiness with black &amp; white and cle...</td>\n",
       "      <td>0</td>\n",
       "    </tr>\n",
       "    <tr>\n",
       "      <th>3</th>\n",
       "      <td>Very little music or anything to speak of.</td>\n",
       "      <td>0</td>\n",
       "    </tr>\n",
       "    <tr>\n",
       "      <th>4</th>\n",
       "      <td>The best scene in the movie was when Gerardo i...</td>\n",
       "      <td>1</td>\n",
       "    </tr>\n",
       "  </tbody>\n",
       "</table>\n",
       "</div>"
      ],
      "text/plain": [
       "                                                   0  1\n",
       "0  A very, very, very slow-moving, aimless movie ...  0\n",
       "1  Not sure who was more lost - the flat characte...  0\n",
       "2  Attempting artiness with black & white and cle...  0\n",
       "3       Very little music or anything to speak of.    0\n",
       "4  The best scene in the movie was when Gerardo i...  1"
      ]
     },
     "execution_count": 5,
     "metadata": {},
     "output_type": "execute_result"
    }
   ],
   "source": [
    "dataset.head()"
   ]
  },
  {
   "cell_type": "markdown",
   "metadata": {},
   "source": [
    "## Preprocess the Data"
   ]
  },
  {
   "cell_type": "code",
   "execution_count": 6,
   "metadata": {
    "collapsed": true
   },
   "outputs": [],
   "source": [
    "corpus = []"
   ]
  },
  {
   "cell_type": "code",
   "execution_count": 7,
   "metadata": {
    "collapsed": true
   },
   "outputs": [],
   "source": [
    "for i in range(0, dataset.shape[0]):\n",
    "    sent = re.sub('[^a-zA-Z]', ' ', dataset[0][i])\n",
    "    sent = sent.lower()\n",
    "    sent = sent.split()\n",
    "    ps = PorterStemmer()\n",
    "    sent = [ps.stem(word) for word in sent if not word in set(stopwords.words('english'))]\n",
    "    sent = ' '.join(sent)\n",
    "    corpus.append(sent)"
   ]
  },
  {
   "cell_type": "code",
   "execution_count": 8,
   "metadata": {},
   "outputs": [
    {
     "data": {
      "text/plain": [
       "['slow move aimless movi distress drift young man',\n",
       " 'sure lost flat charact audienc nearli half walk',\n",
       " 'attempt arti black white clever camera angl movi disappoint becam even ridicul act poor plot line almost non exist',\n",
       " 'littl music anyth speak',\n",
       " 'best scene movi gerardo tri find song keep run head',\n",
       " 'rest movi lack art charm mean empti work guess empti',\n",
       " 'wast two hour',\n",
       " 'saw movi today thought good effort good messag kid',\n",
       " 'bit predict',\n",
       " 'love cast jimmi buffet scienc teacher',\n",
       " 'babi owl ador',\n",
       " 'movi show lot florida best made look appeal',\n",
       " 'song best muppet hilari',\n",
       " 'cool',\n",
       " 'right case movi deliv everyth almost right face',\n",
       " 'averag act main person low budget clearli see',\n",
       " 'review long overdu sinc consid tale two sister singl greatest film ever made',\n",
       " 'put gem movi term screenplay cinematographi act post product edit direct aspect film make',\n",
       " 'practic perfect true masterpiec sea faux masterpiec',\n",
       " 'structur film easili tightli construct histori cinema',\n",
       " 'think film someth vital import occur everi minut',\n",
       " 'word content level film enough easili fill dozen film',\n",
       " 'anyon right mind ask anyth movi',\n",
       " 'quit simpli highest superl form cinema imagin',\n",
       " 'ye film requir rather signific amount puzzl solv piec fit togeth creat beauti pictur',\n",
       " 'short film certainli pull punch',\n",
       " 'graphic far best part game',\n",
       " 'number one best th game seri',\n",
       " 'deserv strong love',\n",
       " 'insan game',\n",
       " 'massiv level massiv unlock charact massiv game',\n",
       " 'wast money game',\n",
       " 'kind money wast properli',\n",
       " 'actual graphic good time',\n",
       " 'today graphic crap',\n",
       " 'say canada fun game aye',\n",
       " 'game rock',\n",
       " 'buy play enjoy love',\n",
       " 'pure brillianc',\n",
       " 'flick doom concept',\n",
       " 'idea lame take minor charact mediocr pg film make complet non sequel chang tone pg rate famili movi',\n",
       " 'least bit interest',\n",
       " 'confirm film would unfunni gener also manag give away entir movi exagger everi moment everi plot point everi joke told trailer',\n",
       " 'funni',\n",
       " 'even talent carrel save',\n",
       " 'co star fare much better peopl like morgan freeman jonah hill ed helm wast',\n",
       " 'stori predict lazi',\n",
       " 'real effect work presenc anim integr scene worst obviou blue green screen work ever seen',\n",
       " 'whatev cost much translat qualiti sure',\n",
       " 'film succe despit perhap obvious meagr budget',\n",
       " 'glad film go obviou choic lesser film certainli would',\n",
       " 'addit one love song ever written french cancan also boast one cutest lead ladi ever grace screen',\n",
       " 'hard fall head heel love girl',\n",
       " 'neg insipid enough caus regret anoth hour life wast front screen',\n",
       " 'long whini pointless',\n",
       " 'recommend wait futur effort let one go',\n",
       " 'excel cast stori line perform',\n",
       " 'total believ',\n",
       " 'ann hech utterli convinc',\n",
       " 'sam shepard portray gung ho marin sober',\n",
       " 'sat rivet tv screen',\n",
       " 'give one resound',\n",
       " 'think tom hank good actor',\n",
       " 'enjoy read book children littl',\n",
       " 'disappoint movi',\n",
       " 'one charact total annoy voic give feel fingernail chalkboard',\n",
       " 'total unnecessari train roller coaster scene',\n",
       " 'absolut warmth charm scene charact',\n",
       " 'movi total grate nerv',\n",
       " 'perform improv improvis actor twice much worri whether deliv line well whether line good',\n",
       " 'quit honestli often good',\n",
       " 'often dialogu realli follow one line anoth fit surround',\n",
       " 'crackl unpredict youth energi honestli found hard follow concentr meander badli',\n",
       " 'gener great thing',\n",
       " 'say worth hour time though',\n",
       " 'suspens builder good cross line g pg',\n",
       " 'especi like non clich choic parent movi could predict dialog verbatim write movi made better select',\n",
       " 'want movi gross give chill great choic',\n",
       " 'alexand nevski great film',\n",
       " 'amaz film artist one import whoever live',\n",
       " 'glad pretenti piec plan dodg stratu big shot gonna help movi maker restrain movi busi qu bec',\n",
       " 'first movi given year',\n",
       " 'ever movi need word mouth promot',\n",
       " 'overal film interest thought provok',\n",
       " 'plu well pace suit rel short run time',\n",
       " 'give one look',\n",
       " 'gave',\n",
       " 'wind lion well written superbl act',\n",
       " 'true classic',\n",
       " 'actual turn pretti decent far b list horror suspens film go',\n",
       " 'definit worth check',\n",
       " 'problem script',\n",
       " 'horrend',\n",
       " 'noth believ',\n",
       " 'suspens feel frustrat retard girl',\n",
       " 'manna heaven terrif film predict unpredict time',\n",
       " 'scene often funni occasion touch charact evalu live go',\n",
       " 'cast veteran actor nostalgia trip',\n",
       " 'ursula burton portray nun touch funni time make fun nun church',\n",
       " 'look movi terrif cast good music includ shirley jone rendit way look tonight uplift end give one tri',\n",
       " 'think disappoint',\n",
       " 'frankli cotton club unfaith kind embarrass watch lane gere film bad',\n",
       " 'act bad dialog extrem shallow insincer',\n",
       " 'predict even chick flick',\n",
       " 'polit correct',\n",
       " 'disappoint',\n",
       " 'thing realli worth watch sceneri hous beauti',\n",
       " 'love lane never seen movi lousi',\n",
       " 'hour half wish could bring back',\n",
       " 'term write fresh bold',\n",
       " 'act help write along well mayb idiot savant sister could play better real joy watch',\n",
       " 'direct cinematographi quit good',\n",
       " 'movi bore sometim found occupi peak paper instead watch never happen columbo movi',\n",
       " 'sometim embarrass look away',\n",
       " 'direct seem pretenti',\n",
       " 'scene oh matur neighbour girl misplac',\n",
       " 'gener line plot weaker averag episod',\n",
       " 'scene debat whether sack trumpet fals accus murder pure horror realli stupid',\n",
       " 'applaus given prelud howev',\n",
       " 'realli like',\n",
       " 'great film great director',\n",
       " 'movi edg seat made somewhat afraid go car end night',\n",
       " 'music film realli nice',\n",
       " 'advis anyon go see',\n",
       " 'brilliant',\n",
       " '',\n",
       " 'like movi way much',\n",
       " 'problem thought actor play villain low rent michael ironsid',\n",
       " 'rock world certainli must see anyon social physic outlet',\n",
       " 'howev make fact overal tremend bore movi',\n",
       " 'chemistri ben affleck sandra bullock film understand would consid even leav wife chick supposedli knock',\n",
       " 'sever moment movi need excruciatingli slow move',\n",
       " 'poor remak best friend wed',\n",
       " 'great disappoint',\n",
       " 'cannot believ actor agre film',\n",
       " 'could stand even watch long fear lose q',\n",
       " 'guess nobodi network air dribbl watch put',\n",
       " 'imdb rate go low aw time get neg number case',\n",
       " 'saw mirrormask last night unsatisfactori experi',\n",
       " 'unfortun inexperi direct meant scene scene pass littl way dramat tension conflict',\n",
       " 'central theme film handl ineptli stereotyp depth imagin',\n",
       " 'pretti pictur world cannot make piec work flaw core',\n",
       " 'hour half wast time follow bunch pretti high schooler whine cri life',\n",
       " 'relat hell bare understand',\n",
       " 'definit cult classic well worth view share other',\n",
       " 'movi pure disast stori stupid edit worst seen confus incred',\n",
       " 'fish badli made underwat shot repeat thousand time film',\n",
       " 'truli truli bad film',\n",
       " 'act terribl write wors',\n",
       " 'possibl way movi could redeem would mst k fodder',\n",
       " 'paid much',\n",
       " 'also real treat see anthoni quinn play crazi hors',\n",
       " 'bore',\n",
       " 'plot whatsoev',\n",
       " 'plot',\n",
       " 'horribl',\n",
       " 'worst hour half life oh gosh',\n",
       " 'walk theatr minut get relief',\n",
       " 'hate movi like',\n",
       " 'yeah movi pretti much suck',\n",
       " 'plot storylin',\n",
       " 'go see movi bring pillow girlfriend boyfriend keep occupi',\n",
       " 'aw',\n",
       " 'think ever gone movi dislik much',\n",
       " 'good thing ticket cost five dollar would mad paid see crap',\n",
       " 'nobodi identifi charact cardboard cutout stereotyp predict revers stereotyp',\n",
       " 'bad film bad write good actor ugli cartoon craft paul haggi peopl handl anyth bold stroke storytel pictur paint crayon',\n",
       " 'crash depress littl noth provok emot teach noth alreadi know racism prejudic bad thing',\n",
       " 'still like movi empower women enough movi like one',\n",
       " 'brain attempt shut part primal impuls self preserv',\n",
       " 'left shatter experi watch film took good two hour fulli recov',\n",
       " 'movi join reveng boogeyman zombiez part hellish triniti horror film',\n",
       " 'certainli mean distinct good way',\n",
       " 'mean terribl way',\n",
       " 'film redeem featur',\n",
       " 'everyth appal',\n",
       " 'artless camera work endlessli present us ugliest set imagin e',\n",
       " 'stori beyond stupid',\n",
       " 'script script',\n",
       " 'kid annoy',\n",
       " 'lead man charisma free',\n",
       " 'utterli without merit level akin tortur',\n",
       " 'even say tortur',\n",
       " 'mayb would reason explan atroc',\n",
       " 'pleasant voyag self discoveri',\n",
       " 'highli unrecommend',\n",
       " 'premis sound stupid',\n",
       " 'ye bad',\n",
       " 'noth recommend',\n",
       " 'excel perform ms',\n",
       " 'garbo show right bat talent could carri silent era want see silent work netflix seem stock',\n",
       " 'also great see renown silent screenwrit franc marion miss step go silent sound',\n",
       " 'movi suffer write need suspens',\n",
       " 'mani close up',\n",
       " 'movi seem drag hero realli work freedom',\n",
       " 'movi definit averag rent',\n",
       " 'love',\n",
       " 'movi bad',\n",
       " 'bad',\n",
       " 'film way long',\n",
       " 'definit one bad one',\n",
       " 'movi receiv great qualiti film age',\n",
       " 'john wayn incred job young movi industri',\n",
       " 'screen presenc shine thought even though senior actor screen',\n",
       " 'think must see older john wayn film',\n",
       " 'realli see anyon could enjoy movi',\n",
       " 'think ever seen movi half bore self indulg piec junk',\n",
       " 'probabl would better director spent movi showcas art work realli noteworthi',\n",
       " 'anoth thing realli like charact got punch face gallon blood would spew forth soon',\n",
       " 'jami foxx absolut ray charl',\n",
       " 'perform simpli geniu',\n",
       " 'own film spacek own coal miner daughter quaid own great ball fire',\n",
       " 'fact hard rememb part ray charl act play man',\n",
       " 'ray charl legendari',\n",
       " 'ray charl life provid excel biograph materi film goe well beyond anoth movi musician',\n",
       " 'hitchcock great director',\n",
       " 'iron mostli find film total wast time watch',\n",
       " 'secondli hitchcock pretti much perfect thriller chase movi',\n",
       " 'pander audienc sabotag film',\n",
       " 'henc whole stori lack certain energi',\n",
       " 'plot simpli rumbl like machin desper depend addit new scene',\n",
       " 'usual hitchcock logic flaw',\n",
       " 'mishima extrem uninterest',\n",
       " 'chilli unremark movi author live work chilli abstrus cultur',\n",
       " 'flat reenact hold attent emot adrift stagi',\n",
       " 'rest sit aw soldier sing song masculin pledg hairsplit puriti admir sword etc',\n",
       " 'bore piec kill momentum movi quicker anyon els',\n",
       " 'schrader made resum full lousi amateurish film',\n",
       " 'first watch movi love',\n",
       " 'total fascin music danc everyth',\n",
       " 'howev recent watch whole thing dvd complet struck extrem stupid storylin contain hole inconsist frankli whole lot crap horrid danc',\n",
       " 'mean realist world would never gotten ballet repertori whole thing quit pathet',\n",
       " 'charact develop also lack depth',\n",
       " 'woa talk aw',\n",
       " 'wast time',\n",
       " 'horribl',\n",
       " 'worst sappiest dialogu could go',\n",
       " 'realli made unwatch direct',\n",
       " 'poor actor',\n",
       " 'even tell talent pathet line speak director gave action',\n",
       " 'check director filmographi site see film chanc',\n",
       " 'would even good made tv flick',\n",
       " 'good intent made film great film might one greatest film ever made',\n",
       " 'film great actor master director signific theme least would signific theme underton fifti existenti world weari aerial scene ought thrill sens imagin charact one might deepli care',\n",
       " 'regrett film fail',\n",
       " 'movi lack visual interest drama express feel celebr patriot underlin narr',\n",
       " 'actress wors use june allison movi',\n",
       " 'yet enjoy watch',\n",
       " 'unfortun bad movi plain bad',\n",
       " 'bad script bad direct horribl act make one plain bad',\n",
       " 'dialogu suck',\n",
       " 'cinematographi call suck',\n",
       " 'soundtrack suck',\n",
       " 'act suck',\n",
       " 'concert sequenc suck',\n",
       " 'nice',\n",
       " 'funni',\n",
       " 'funni',\n",
       " 'overal movi cheap trash',\n",
       " 'movi funni consid ridicul',\n",
       " 'came feel angri',\n",
       " 'spoiler whatev els said surfac superbl craft',\n",
       " 'cinematographi simpli stun say least fx noth state art',\n",
       " 'conceptu show offer littl bit everyth everybodi parent kid fantasi fx fan',\n",
       " 'singl sour note struck act wise either surprisingli solid cast',\n",
       " 'thing consid job well done',\n",
       " 'thank good movi like done releas',\n",
       " 'one best mexican movi ever one less understood even mexican matter identifi felt',\n",
       " 'rank highli great noir crime drama incred perform belmondo lino ventura',\n",
       " 'attent given everi charact complex psycholog portray detail loyalti treacheri love hope tremend',\n",
       " 'excel drama excel thriller excel film',\n",
       " 'best melvil',\n",
       " 'everyth film simpli incred',\n",
       " 'truli take journey eye soul child',\n",
       " 'black water thriller manag complet transcend limit indi flick continu subvert expect emerg intens experi',\n",
       " 'perform real grip crocdodil extrem well done inde black water websit believ use real croc swamp locat fabul',\n",
       " 'thoroughli enjoy christoph eccleston took control tardi continu seri',\n",
       " 'sure tri film',\n",
       " 'turn good day feel night disturb memori guess succeed',\n",
       " 'lot beauti place',\n",
       " 'forc like everyth movi',\n",
       " 'lame',\n",
       " 'movi realli pi ed',\n",
       " 'even get start jerki camerawork',\n",
       " 'saw theater thought go sick',\n",
       " 'summari wittic witti',\n",
       " 'plot well said let one go',\n",
       " 'act bad',\n",
       " 'realli bad',\n",
       " 'even billi bob rise script wors',\n",
       " 'camerawork bad',\n",
       " 'rate',\n",
       " 'amaz final possibl best trilog time',\n",
       " 'kieslowski never ceas amaz',\n",
       " 'one favourit director one talent director histori cinema',\n",
       " 'use colour french flag three film noth short incred everi shot everi scene like work art',\n",
       " 'three visual appeal movi ever seen',\n",
       " 'subtl connect three film awesom',\n",
       " 'mention huge spoiler love end charact three film remain survivor ferri disast valentin young judg togeth old man watch tv solidifi happi suffer dealt mani year',\n",
       " 'think better way end film smile face great way wrap amaz film trilog',\n",
       " 'recommend everyon love film movi anyth work art',\n",
       " 'movi trilog',\n",
       " 'liter vomit watch film',\n",
       " 'think one peopl found anoth one roth pearl',\n",
       " 'perform award stun',\n",
       " 'stori told eloqu franci ford coppola year earlier realli unfold gradual leav room charact develop',\n",
       " 'wonder locat lie stori contrast',\n",
       " 'beauti direct film nicola roeg wih sublim cast',\n",
       " 'translat movi live first movi year work experi found offens intellig',\n",
       " 'someon strive great poetri deliv muddl often ridicul stori bunch dispar scene pretenti dialogu get worst kind movi review accur defin pretenti crap',\n",
       " 'find movi intellig even master say intellig imagin obvious use tri make sens piti attempt human natur tri make sens thing',\n",
       " 'one thing toler polit incorrect well artist freedom suspens disbelief slavic femal charact much',\n",
       " 'fun funni movi',\n",
       " 'highli entertain angl',\n",
       " 'featur outlandish array memor psychot lovabl nut',\n",
       " 'enjoy get see run around play game danger',\n",
       " 'even sweet moment',\n",
       " 'telephon repair man realli funni reaction nut bitchi boss truli genuin',\n",
       " 'charact film tremend well play',\n",
       " 'realli find funni',\n",
       " 'actual smart movi',\n",
       " 'brilliant twist end',\n",
       " 'love',\n",
       " 'end perfect shed tear',\n",
       " 'thrill see movi like',\n",
       " 'never forget',\n",
       " 'cult cult classic',\n",
       " 'depth charact man underneath',\n",
       " 'malta set dri barren dialogu',\n",
       " 'movi terribl',\n",
       " 'hockey scene terribl defensemen play like year old goali dive shot feet wide net etc',\n",
       " 'seen wast time',\n",
       " 'call movi drama ridicul',\n",
       " 'start watch believ charact',\n",
       " 'particular relationship bakeri assist waitress work',\n",
       " 'superfici movi gave feel watch play rather film',\n",
       " 'charact stagey storylin lot like stage farc',\n",
       " 'time pyromaniac waylaid assist bore care happen next switch',\n",
       " 'glad pay see',\n",
       " 'laugh even smile',\n",
       " 'anyth one big yawn',\n",
       " 'realli good show watch',\n",
       " 'educ children year old',\n",
       " 'barney definit super de duper',\n",
       " 'pretti funni',\n",
       " 'babi bop cute',\n",
       " 'kid cool',\n",
       " 'storm trooper even bad enough make list wonder terribl movi',\n",
       " 'lame',\n",
       " 'guy said better dialogu pot plant right',\n",
       " 'everyth movi stupid',\n",
       " 'even love bad movi watch movi',\n",
       " 'shame',\n",
       " 'would give televis seri plu could',\n",
       " 'writer smack think best actor actress bonu show charact real',\n",
       " 'must say tape episod find watch',\n",
       " 'know gave',\n",
       " 'know exactli movi latch endear movi becom special part famili memori',\n",
       " 'total absolut recommend movi anyon like good wholesom famili movi exactli',\n",
       " 'thing four kid get absolut hilari watch',\n",
       " 'one best movi show strong sibl bond',\n",
       " 'much interest action suspens less unneed controversi',\n",
       " 'everyth act cinematographi solid',\n",
       " 'definit worth check',\n",
       " 'damian talent versatil mani way write portray differ charact screen',\n",
       " 'movi cut edg',\n",
       " 'pleas know modern day geniu let passion art drive take us audienc',\n",
       " 'new charact memor found forget',\n",
       " 'felt though go ireland absolut noth whatsoev',\n",
       " 'make scare horrifi make sympathet toward charact simpli annoy',\n",
       " 'jerki camera movement also annoy',\n",
       " 'plot pretti much everi cheap horror',\n",
       " 'pathet attempt give charact depth realli work rest plot',\n",
       " 'guess suppos clever twist shed light situat stupid',\n",
       " 'see probabl leav shelf',\n",
       " 'elia kotea jack palanc play good role angelina hot get nake billi drago appear cool usual cameo sven ole thorsen help make enjoy movi good act decent budget',\n",
       " 'awesom movi bought ebay',\n",
       " 'realli love stori line poler bear kinda cute anyon question fort steel ask away',\n",
       " 'total unfunni movi top pathet unrealist throughout whole minut utter tortur probabl look watch time',\n",
       " 'luci bell much higher crap sink low quit depress',\n",
       " 'movi make sick watch slacker make excus stupid action minut',\n",
       " 'god never get minut back',\n",
       " 'think wonder part liter full wonder excerpt work',\n",
       " 'set especi design work camera amaz styliz beauti effect',\n",
       " 'could use exemplar set design',\n",
       " 'stori power explor natur man art',\n",
       " 'watch film want learn work artist',\n",
       " 'highli recommend movi anyon interest art poetri theater polit japanes histori',\n",
       " 'wind lion see wonder render america imperi age',\n",
       " 'make stori differ terrif product valu faultless photographi composit edit terrif cast underappreci brian keith play bulli teddi vivid histori',\n",
       " 'though wind lion told larg eye son everi member famili identifi one charact whether sean conneri nobl brigand candac bergen feisti heroin john huston wili john hay steve kanali spiffi radiant ruthless lieuten roosevelt big stick',\n",
       " 'high adventur best',\n",
       " 'think robert ryan best film portray someon like father schizophren real life father although never murder anyon affect second world war made wors',\n",
       " 'humour get get day apt',\n",
       " 'mother brother saw robert ryan portray type man good imit type individu impress',\n",
       " 'almost song cover girl old fashion tune',\n",
       " 'annoy thing cover girl way rita hayworth put pedest',\n",
       " 'unfortun cover girl exampl hollywood use exploit women financi gain',\n",
       " 'non linear narrat thu mani flashback everi part articul quit well',\n",
       " 'good cinematographi also make monica bellucci look beauti',\n",
       " 'good commentari today love undoubtedli film worth see',\n",
       " 'peopl first timer film make think excel job',\n",
       " 'popular cinema good hous good reaction plenti laugh',\n",
       " 'feel good film felt came cinema',\n",
       " 'northern humour posit commun repres',\n",
       " 'rather enjoy',\n",
       " 'like',\n",
       " 'take serious',\n",
       " 'realli creat uniqu feel though',\n",
       " 'vivian schill excel job script',\n",
       " 'world better garbag theatr today',\n",
       " 'role play well',\n",
       " 'screami masculin right',\n",
       " 'camera realli like movi',\n",
       " 'would cast role readi script',\n",
       " 'european movi nice throwback time student experi live abroad interact nation although circumst slightli differ',\n",
       " 'fan movi suck realli bad',\n",
       " 'even wors ticker',\n",
       " 'movi bad',\n",
       " 'like build use coupl locat mayb poor hummh',\n",
       " 'blew',\n",
       " 'movi excel angel beauti scamp ador littl yelp he scare funniest part scamp caught curtain angel scamp sing ive never feel total recommend movi come special edit june cover scamp garbag angel underneath lid',\n",
       " 'cant explain movi romant charm hilari ador junkyard scene funni junkyard dog someth special funni laugh kid love buy come new featur',\n",
       " 'chosen tortur disgust piec blatant american propaganda',\n",
       " 'show made american stupid full hatr clich admit elsewher',\n",
       " 'almost everyon involv must return school act utterli predict bad script pile garbag round',\n",
       " 'wish could enter neg valu admin',\n",
       " 'set bad look place thunderbird episod',\n",
       " 'use slow motion needlessli repeat throughout movi well back bad act bad kind word continu scene thrown reason whatsoev vehicl look like made corn flake box directori style border stupid',\n",
       " 'oh yeah storylin pathet',\n",
       " 'hate write bad review film especi realli like star film bad believ one second anyon could proud',\n",
       " 'filmmak director would hide head sand spent whatev amount money time movi',\n",
       " 'short monument wast time energi would recommend anyon ever see film',\n",
       " 'came free dvd player bought still turn thing halfway embarrass howel',\n",
       " 'set',\n",
       " 'interest premis billi drago alway good danger nut bag side note love see drago stephen mchatti lanc hendrikson flick togeth talk rage cheekbon',\n",
       " 'soundtrack terribl either',\n",
       " 'act even profession drago debbi rochon terribl direct wors perhap contributori former dialog chimp like camera work bare toler',\n",
       " 'still set got big oy vey scale',\n",
       " 'ye simplifi thing sake breviti realli core problem film much go without real fulfil explan',\n",
       " 'good job quit amus',\n",
       " 'convolut plot convinc much film watch weird question glanc',\n",
       " 'let girlfriend talk see bad idea hate',\n",
       " 'last minut movi also bad well',\n",
       " 'bela lugosi total extran inton odd line',\n",
       " 'act decid wooden though wors period univers b movi',\n",
       " 'like armand assant cabl compani summari sound interest watch twice alreadi probabl',\n",
       " 'believ screenwrit good job tie loos end',\n",
       " 'score mostli plot',\n",
       " 'say like spoiler want one believ film worth time',\n",
       " 'wow bad film',\n",
       " 'frighten least bare comprehens',\n",
       " 'plot hang togeth act absolut appal',\n",
       " 'even good camp valu',\n",
       " 'expect oscar materi',\n",
       " 'iq particularli stupid mollusk see one come',\n",
       " 'film use word loos insult movi go public',\n",
       " 'someon involv knew string togeth narr',\n",
       " 'get simpli noth lower',\n",
       " 'one watch recent fox movi channel disappoint',\n",
       " 'know contract player littl control script act bad script',\n",
       " 'victor mclaglen even bad brian donlevi almost unrecogniz',\n",
       " 'consid relat screen taylor stanwyck surpris littl chemistri screen two',\n",
       " 'premis film ridicul presid u',\n",
       " 'death row scene entir unmov',\n",
       " 'thing wors taylor act stanwyck sing',\n",
       " 'whatev produc go miss entir',\n",
       " 'deepli impress charact play',\n",
       " 'knew saw film great thing come gift actor',\n",
       " 'cheap cheerless heist movi poor characteris lot underbit style stoic emot think chow yun fat better tomorrow cheesi clich thrown abandon factori readi poorli execut fli judo roll la john woo',\n",
       " 'even squib look aw',\n",
       " 'point proceed look remot like america',\n",
       " 'plot deriv predict end like merci kill',\n",
       " 'aw dialogu hopeless overact everyon get shot top real wast space time',\n",
       " 'uneasi bad movi scare',\n",
       " 'dialogu compos thing make littl sens',\n",
       " 'minut footag wast show mediocr elderli actor awkwardli babbl overwrought pseudo satan gibberish corni enough make teen goth blush almost alway old english sometim latin may may made word',\n",
       " 'direct sloppi best',\n",
       " 'hackney write certainli made even wors bad direct',\n",
       " 'cours act blah',\n",
       " 'act whole cast could put scale balanc perfectli overact underact',\n",
       " 'final get end would great handl compet peopl jerri falwel',\n",
       " 'love movi great portray famili share up end knew special love',\n",
       " 'seen mani movi star jaclyn smith god one best though came year ago',\n",
       " 'movi contain star cast love open eye see actor seen',\n",
       " 'movi kind long length enjoy everi minut',\n",
       " 'overal rate movi scale',\n",
       " 'lifetim air enough anyon know store sell let know must',\n",
       " 'particularli rememb sens assault strident cord music would blare littl warn even less mean',\n",
       " 'sort pap screen afternoon punish unemploy job',\n",
       " 'total differ load understat black comedi film get see rememb',\n",
       " 'movi creat univers fascin everi way',\n",
       " 'movi realli got',\n",
       " 'see',\n",
       " 'realli hope team behind movi make movi continu kinda weird style',\n",
       " 'forgot cast superb trond fausa aurv g perfect role bothersom man understand',\n",
       " 'movi good humor comment life',\n",
       " 'found move beauti enjoy uplift',\n",
       " 'initi local site film film buffalo intrigu',\n",
       " 'later found lost power film',\n",
       " 'entir audienc applaud conclus film',\n",
       " 'left theater lilt step joy heart hope human race',\n",
       " 'duri wholesom appear give fine perform',\n",
       " 'rest cast also play well',\n",
       " 'cinematographi noteworthi includ fine view barcelona fame gaudi tower',\n",
       " 'ten minut film start second thought',\n",
       " 'half way film start dislik',\n",
       " 'time film end dislik despis',\n",
       " 'film lack convinc script',\n",
       " 'script look rough draft written shoot began finish script complet',\n",
       " 'thing happen charact person chang plot twist occur real reason script call',\n",
       " 'cast good',\n",
       " 'worth check',\n",
       " 'probabl irrit show ever seen entir life',\n",
       " 'indescrib annoy idiot show ever seen',\n",
       " 'everyth bad',\n",
       " 'could understand kind idiot would produc mess first place mention sever season',\n",
       " 'script bad bad contain cheesi uneth joke normal see rate r nc movi',\n",
       " 'cast also horribl caus see realli realli bad actor period',\n",
       " 'final word show real tortur',\n",
       " 'zillion time away realiti',\n",
       " 'watch wash machin twirl around hurt eye much show',\n",
       " 'rate grade z note show bad even mother cast pull daughter show',\n",
       " 'th centuri fox road hous quit silli noir implaus unmitig bore movi',\n",
       " 'full unconvinc cardboard charact blandli written edward chodorov also produc surprisingli direct jean negulesco one would expect great deal',\n",
       " 'widmark charact turn unintent comic',\n",
       " 'lose marbl earli proceed total implaus unconvinc',\n",
       " 'enough mess movi pictur also mar constant use studio set indoor exterior',\n",
       " 'whatev prompt documentari beyond',\n",
       " 'seriou spoiler movi huge disappoint',\n",
       " 'mani problem dont know start',\n",
       " 'cast great',\n",
       " 'steve martin deliv realli funni perform middl age upper class uptight white guy',\n",
       " 'add betti white jean smart great cast everyon play part realli well',\n",
       " 'movi make lot seriou mistak',\n",
       " 'first enough racial stereotyp racial joke offend everyon',\n",
       " 'movi litter overt racial slur toward black cast member return white depict moron boob',\n",
       " 'put race card asid let look major flaw film destroy latifa charact',\n",
       " 'real plot',\n",
       " 'wouldnt see movi free',\n",
       " 'steamboat willi amazingli import film cinema histori',\n",
       " 'second appear mickey mous follow silent plane crazi earlier year probabl famou film mostli ground break',\n",
       " 'yet hear mickey speak ton sound effect music throughout film someth take grant huge crowd pleaser',\n",
       " 'howev see short year amaz timeless film actual',\n",
       " 'ador see mickey play turkey straw highli imagin occasion cruel way',\n",
       " 'clever real crowd pleaser film still rank among mickey best film even wonder year',\n",
       " 'bipolar ruthless thug one minut ruthless killer next minut luv diaper commerci complet unconvinc',\n",
       " 'terribl disappoint film would receiv mani award accolad especi far deserv work film',\n",
       " 'origin bodi soul masterpiec',\n",
       " 'john garfield ann rever lilli plmer william conrad canada lee film one greatest cinematograph ever grace screen jame wong howe',\n",
       " 'think redeem qualiti remak',\n",
       " 'may bad film ever made',\n",
       " 'bad well bad',\n",
       " 'movi solid exampl bad plot bad idea way',\n",
       " 'shame see good actor like thomerson jame make live mess like',\n",
       " 'thought bad',\n",
       " 'film terribl credit version watchabl',\n",
       " 'let start problem act especi lead professor bad',\n",
       " 'script big flaw mess',\n",
       " 'best exampl dumb write establish turn zombi student back human remov necklac contain piec meteorit',\n",
       " 'director paul matthew also wrote direct weak monster movi grim clearli know pace film',\n",
       " 'movi terribl bore place',\n",
       " 'light aw',\n",
       " 'film look cheap bland',\n",
       " 'one disappoint aspect lack notabl gore',\n",
       " 'convent never work well past certainli work',\n",
       " 'visual effect aw',\n",
       " 'cg open sequenc space look like could creat microsoft slideshow god sake',\n",
       " 'explos ga tank end aw',\n",
       " 'okay like consid fair critic give credit credit due creatur effect actual pretti cool',\n",
       " 'gotta love close up slimi drool teeth',\n",
       " 'sum film breeder terribl cheapli made horror movi avoid like ebola viru',\n",
       " 'recommend',\n",
       " 'almost unbear watch screen littl charisma terribl comed time',\n",
       " 'asid terribl lead film load debit',\n",
       " 'understand suppos cheap popcorn comedi mean complet insult intellig write incred hackney border offens',\n",
       " 'lewi black consider talent wast incendiari unrestrain pg rate certainli allow',\n",
       " 'film sole bright spot jonah hill look almost unrecogniz fan recent superbad due amount weight lost interim',\n",
       " 'origin fresh first movi spent remak littl els offer',\n",
       " 'budget evid limit',\n",
       " 'reflect cast also par script borrow much earlier classic',\n",
       " 'howev decent act action locat work balanc thing',\n",
       " 'filmi less expans',\n",
       " 'fail convey broad sweep landscap great part origin',\n",
       " 'gener lack imagin',\n",
       " 'recommend',\n",
       " 'possibl movi get wors',\n",
       " 'plot keep go first place',\n",
       " 'even women final show sign improv expect thing happen time film might far asleep',\n",
       " 'bewar trashi cult movi trash period',\n",
       " 'believ even sequel',\n",
       " 'precis give bad review',\n",
       " 'child truli enjoy show proudli say enjoy big time even classic wb cartoon',\n",
       " 'tini toon kept vibe deliv one popular funni underr cartoon ever creat',\n",
       " 'memori murki say enjoy everi singl episod product relat show',\n",
       " 'easili none cartoon made laugh tender way get dark sitcom orient teenag',\n",
       " 'charact funni peculiar true lead charact',\n",
       " 'everi singl charact hilari deserv call lead',\n",
       " 'everi element stori top excess phoni contriv pain sit',\n",
       " 'line seem written fifteen year old though tri oh hard sound like fifteen year old would realli um know well talk',\n",
       " 'perabo nice energi level obvious comfort front camera',\n",
       " 'simpli excus someth poorli done',\n",
       " 'saw movi thought stupid movi',\n",
       " 'even stupid thought idea volcano lo angel',\n",
       " 'honest unbeliev nonsens foolish',\n",
       " 'conclus bother movi volcano lo angel noth nonsens',\n",
       " 'stori line aw',\n",
       " 'pain',\n",
       " 'accent absolut abysm',\n",
       " 'also enough hypocrisi film make vomit',\n",
       " 'wast time watch rubbish non research film',\n",
       " 'believ pitch black done well',\n",
       " 'charact interest want find longer movi goe think peopl surpris make',\n",
       " 'go watch',\n",
       " 'omit watch',\n",
       " 'funni',\n",
       " 'rate',\n",
       " 'charact interest realli care',\n",
       " 'instant classic great soundtrack catchi song end credit',\n",
       " 'miss',\n",
       " 'master piec film make mani theme simmer occasion boil wart studi poet bohemian self indulg wartim year span aerial bombard london outward tranquil welsh coastal retreat borderlin friendship lust love dedic art experi versu practic concern jealousi rivalri cowardic egot versu heroism self sacrific',\n",
       " 'matur subtl script suggest occasion bring dramat focu underli tension well serv perfect perform apart odd inappropri smile keira knightley prone though perhap direct time charact often mention',\n",
       " 'exquisit visual composit moment invent eleg use close camera angl light includ pointillist faux home movi footag wonder joy behold',\n",
       " 'continu beauti look bertolucci relationship convinc narr engag master work',\n",
       " 'basic premis wast sinc sidelin inexplic focu documentari crew',\n",
       " 'regardless film fail level',\n",
       " 'avoid cost',\n",
       " 'saw film christma great film',\n",
       " 'thought errol flynn brilliant custer sinc becom favourit actor',\n",
       " 'act alongsid olivia de havilland brilliant end fantast',\n",
       " 'alway known errol flynn brilliant actor dad favourit actor grew watch film child',\n",
       " 'watch film realis great actual',\n",
       " 'give film',\n",
       " 'know jim connor energet nobodi could much georg well dull',\n",
       " 'realli seem want host voic over monoton get involv guest',\n",
       " 'love littl thriller hitchcock lot nice shenanigan surround murder spi kidnap child nasti church foreign plot random taxidermist',\n",
       " 'jimmi stewart ever great hero hitchcock stori rip along cool climax embassi function lack brood menac hitchcock black white low budget origin',\n",
       " 'nevertheless yet anoth wonder film great master stabl',\n",
       " 'say film excel produc top rate typic sci fi film',\n",
       " 'excel produc one sci fi best produc scot vandiv',\n",
       " 'entertain nonetheless',\n",
       " 'campi sort film joy watch',\n",
       " 'bare bore moment film plenti humor part',\n",
       " 'cast alway entertain usual',\n",
       " 'overal delight',\n",
       " 'movi mind bendingli aw even creat',\n",
       " 'film lack real scare tension medic terminolog use throughout bit iffi say least say insulin depend diabet',\n",
       " 'least said act better',\n",
       " 'movi excel job reveal complex task incred challeng face south africa',\n",
       " 'believ everi one see movi think peopl outsid south africa understand past attempt truth reconcili process',\n",
       " 'noth short magnific photographi cinematographi film',\n",
       " 'act fantast stori seamlessli woven togeth dog splendid must rent view see',\n",
       " 'afraid subtitl worth littl avers therapi',\n",
       " 'excel perform',\n",
       " 'still good actor around',\n",
       " 'also great direct photographi',\n",
       " 'true shakespear must shakespear fan',\n",
       " 'macbeth jason conneri move tear final monolog brief candl gave sphere moral decay dark forc human face make interest',\n",
       " 'helen baxendal credibl ladi macbeth cheerful time sometim look like naughti girl deadli tast blood evil',\n",
       " 'love death decay shakespear lyric one',\n",
       " 'witti delight adapt dr seuss book brilliantli anim upa finest thoroughli deserv academi award',\n",
       " 'special mention made superb music score sound effect integr element help make memor enjoy cartoon',\n",
       " 'howev paul schrader inde made film mishima superb complex',\n",
       " 'also notabl john bailey fine crisp beauti color cinematographi great product design costum eiko ishioka went memor costum coppola dracula receiv well deserv oscar',\n",
       " 'even allow poor product valu time format kind mini seri baaaaaad',\n",
       " 'unless visual collect extant film austen work skip one',\n",
       " 'watch howev small consol actress play ann sister wonder job role',\n",
       " 'good',\n",
       " 'speak music unbear predict kitchi',\n",
       " 'film drop ball',\n",
       " 'stun movi',\n",
       " 'raw sublim move',\n",
       " 'felt like grip intellig stage play without overli theatric feel one actual get watch peopl stage play everyon terror white lie escal monstrou consequ',\n",
       " 'main player mesmeris',\n",
       " 'tom wilkinson broke heart end everyon els judg amount fumbl hanki hand go face among male femal alik',\n",
       " 'julian fellow triumph',\n",
       " 'nation treasur',\n",
       " 'go see',\n",
       " 'excel film',\n",
       " 'aerial scene well done',\n",
       " 'also right balanc war love',\n",
       " 'film give mean phrase never histori human conflict much owe mani',\n",
       " 'kri kristoffersen good movi realli make differ',\n",
       " 'good film great director',\n",
       " 'definit one better documentari seen look famili relationship marriag',\n",
       " 'mani continu error one user comment differ car garag joe glass one got fact joe facial hair configur seem chang scene scene',\n",
       " 'great movi',\n",
       " 'star',\n",
       " 'see movi inspir anyon come overcom fear reject',\n",
       " 'bad actual worth see reason',\n",
       " 'punish park brilliant piec cinema',\n",
       " 'shot southern california desert use patent faux documentari style watkin creat film like',\n",
       " 'one peter watkin access film',\n",
       " 'advis look',\n",
       " 'wont regret',\n",
       " 'highli recommend',\n",
       " 'well keep think bad',\n",
       " 'mediocr miser hollow laughabl predict piec garbag',\n",
       " 'case bad laughabl',\n",
       " 'bad perform play angela bennett comput expert home time',\n",
       " 'film noth pretext show ridicul action scene',\n",
       " 'aw',\n",
       " 'still bad actress repeat robot face move pictur',\n",
       " 'result well shame',\n",
       " 'delet film mind',\n",
       " 'one worst show time',\n",
       " 'show would begin smart ass ed comment would total wall uncal',\n",
       " 'fat comput geek unbeliev bibl thumper bad ass girl actor',\n",
       " 'never heard except cole total unbeliev part',\n",
       " 'everi time open mouth expect hear see kid pull plug merci kill horribl show',\n",
       " 'stori unbeliev actor',\n",
       " 'lame would best way describ',\n",
       " 'stanwyck morgan perfectli cast mani way modern equival dicken christma carol sensibl',\n",
       " 'success film depend cast sydney greenstreet alexand yardley charact',\n",
       " 'attract set use throughout film eye pleas gem',\n",
       " 'im big fan rpg game movi disgrac self respect rpger',\n",
       " 'line cut audio everyth wrong',\n",
       " 'find better movi youtub',\n",
       " 'top line wast time money one bad come',\n",
       " 'lassi movi put sleep forev',\n",
       " 'describ pain dreari time waster film',\n",
       " 'mediocr everi aspect becom dull uninterest mess one forgett movi seen',\n",
       " 'even achiev bad good bad memor movi',\n",
       " 'empti hollow shell movi',\n",
       " 'serious worth wast kid time',\n",
       " 'avoid avoid avoid',\n",
       " 'drive bark mad',\n",
       " 'transfer good',\n",
       " 'nice relax late night view',\n",
       " 'movi full wonder danc henc titl',\n",
       " 'great music terrif sceneri',\n",
       " 'handl tough issu digniti grace cours shock spoiler',\n",
       " 'happi wonder feel good end',\n",
       " 'point journey journey touch everi member famili',\n",
       " 'one movi need see whenev come tv never mind fact alreadi memor',\n",
       " 'noth new',\n",
       " 'done second movi',\n",
       " 'movi almost action scene littl comedi',\n",
       " 'plot hole pair fishnet stock direct edit astonishingli ham fist',\n",
       " 'earth iron film',\n",
       " 'saw film recommend',\n",
       " 'good plot hold complet attent act superb tom wilkinson fantast emili watson also good',\n",
       " 'good film inde great uncondit love',\n",
       " 'tom wilkinson charact man prepar ordeal begin take matter hand stori progress great actor give perform make feel charact anguish suffer',\n",
       " 'emili watson charact strong give quick glanc understand everyth',\n",
       " 'despit pan review like movi',\n",
       " 'fact like better interview vampir like lestat stuart townsend better cruis attempt',\n",
       " 'aailiyah pretti good akasha place compel first entranc mini danc scene',\n",
       " 'big fan seri mostli due ann rice style sensit treatment',\n",
       " 'guess like detail dysfunct believ',\n",
       " 'footbal scene end perplex',\n",
       " 'thought act skill',\n",
       " 'meredith better right',\n",
       " 'charm film wonder sentiment heart',\n",
       " 'rare film maker take time tell worthi moral tale care love fall trap overli syrupi indulg',\n",
       " 'nine ten truli love film',\n",
       " 'earli film futur goremeist lucio fulci good addit giallo sub genr',\n",
       " 'one best italian thriller earli',\n",
       " 'standout scene',\n",
       " 'scene strong unpleas',\n",
       " 'technic film well made impress camera work solid act effect music riz ortolani particularli good recur unaccompani femal vocal sound like come distant hill',\n",
       " 'still wild stuff though highli recommend fan giallo cinema',\n",
       " 'movi interest begin end',\n",
       " 'like way dustin hoffman charact readi everyth stay son',\n",
       " 'movi also reveal',\n",
       " 'person think show peopl learn find compromis self without involv peopl issu',\n",
       " 'bore',\n",
       " 'tire clich lazi write come thick fast',\n",
       " 'ps scene movi cool central charact find room blown',\n",
       " 'fresh subtl rather sublim effect',\n",
       " 'italian review call small great film right',\n",
       " 'actor give wonder perform especi jennif rubin jami harri chang nervou starlet begin strang event part cool star',\n",
       " 'learn lot real insid emot peopl movi lot movi busi',\n",
       " 'movi movi situat begin game play act coach fascin',\n",
       " 'also music mark snow possibl best score ever heard',\n",
       " 'forget movi',\n",
       " 'film made',\n",
       " 'film ultra cheap look',\n",
       " 'result film look right',\n",
       " 'none engag excit',\n",
       " 'plot nonsens interest slightest way uniqu',\n",
       " 'foreign worth one second time',\n",
       " 'saw child tv back stranger love',\n",
       " 'duet astronaut doctor begin movi perfect exchang one consid movi made well cold war astronaut biggest fear crash ussr',\n",
       " 'movi awesom',\n",
       " 'love realli scari',\n",
       " 'love scream movi horror movi one rank way',\n",
       " 'want real scare rent one',\n",
       " '',\n",
       " 'extraordinari film',\n",
       " 'courtroom drama compel indict american justic system frighten',\n",
       " 'film highlight fundament flaw legal process discov guilt innoc rather present better court',\n",
       " 'film well pace underst one best courtroom documentari seen',\n",
       " 'mostli routin fact base tv drama get boost fine perform cole',\n",
       " 'predict bad watch',\n",
       " 'clear rang abil pull part',\n",
       " 'carri movi well',\n",
       " 'constantin give everyth right intens seem good understand underli psycholog motiv',\n",
       " 'wonder inspir watch hope get releas video dvd',\n",
       " 'piec trash ever releas beyond act stori charact supposedli special effect etc wrong',\n",
       " 'fact stinker smell like direct video releas',\n",
       " 'avoid cost',\n",
       " 'star trek v final frontier worst seri',\n",
       " 'act involv includ like shatner nimoy bad wash make seem old look real life special effect tacki like spock rescu kirk jet pack fall mountain',\n",
       " 'attempt humor piti stori aw dosen bear think basic involv vulcan steal enterpris find god serious care film oh mention uhura belli danc distract male guard',\n",
       " 'place good film garbag',\n",
       " 'worst one seri',\n",
       " 'edit edit film phenomen opinion',\n",
       " 'song could explain emot subject better jay adam unfortun life subject talk song old man neil young play evok mani emot',\n",
       " 'cinematographi film shot interest way',\n",
       " 'cours footag graini enhanc film',\n",
       " 'film offer mani delight surpris',\n",
       " 'achil philippa beauti sing duet giovanni perfectli describ situat movi appreci subtl layer excel film',\n",
       " 'stori unfold th centuri jutland use period music play period instrument one fine touch',\n",
       " 'share gener loewenhielm exquisit joy partak caill en sarcophag even though watch movi wish small sampl savor',\n",
       " 'underst film leav last impress',\n",
       " 'warmth gener contrast auster backdrop',\n",
       " 'leav theater want go danc star',\n",
       " 'act expect cast top notch',\n",
       " 'charact flesh surprisingli well particularli grime blake actor deliv sharpli script line right amount deadpan tongu cheek make dialogu hilari realist',\n",
       " 'angu scrimm also turn good perform somewhat brief memor role gentli menac violin play anatomist doctor quinn',\n",
       " 'conclus love',\n",
       " 'long time sinc entertain movi',\n",
       " 'struggl find anyth bad say',\n",
       " 'mark word one cult film like evil dead phantasm peopl still discov fall love year line',\n",
       " 'pretti surpris wonder film made hollywood gener collect head sand concern black white issu time',\n",
       " 'film deserv strong kudo take stand except act mostli lesser known cast super intellig script insult audienc take easi way come white racism',\n",
       " 'plu movi rather modest budget fast run time amaz job',\n",
       " 'juano hernandez except actor play support role mani film era proud black man accus murder white man south',\n",
       " 'trumbul love luci',\n",
       " 'see kid chanc open amaz dialog far race relat come last year',\n",
       " 'see film',\n",
       " 'year howev remind us huston still top game evinc faith adapt jame joyc acclaim novella dead',\n",
       " 'feel thought gabriel discomfort danc intang leap life come within viewer grasp huston portray',\n",
       " 'disappoint wonder could oscar shortlist',\n",
       " 'slow',\n",
       " 'lot hole plot noth becam emperor noth spend year childhood matur age',\n",
       " 'wast time',\n",
       " 'end day one worst big budget action movi ever seen',\n",
       " 'sure know make coher action movi screenwrit air forc one oblig write script big sum money',\n",
       " 'one worst film ever seen',\n",
       " 'still tri get bad',\n",
       " 'movi possibl one creativ work horror ever',\n",
       " 'everyth could want suspens drama comedi confus subplot nativ american brain eat look end brainsuck movi look',\n",
       " 'great sound effect impress special effect recommend movi enough',\n",
       " 'call nut think one best movi ever',\n",
       " 'great charact actor telli savala peter boyl',\n",
       " 'hour minut sheer tedium melodrama horribl act mess script sink feel good lord think',\n",
       " 'lot hole script',\n",
       " 'like bad two hour tv movi',\n",
       " 'imagin everi singl one decis made wrong',\n",
       " 'dialogu atroci',\n",
       " 'act beyond abysm',\n",
       " 'everyth stink',\n",
       " 'troubl write direct make imposs establish thing make movi watchabl like charact stori theme',\n",
       " 'wors incred weak sub plot thrown follow littl band latter day mansonit go report work stori anniversari kill',\n",
       " 'dumb pointless complet wast time',\n",
       " 'short bother movi',\n",
       " 'spoil end pretti amaz',\n",
       " 'best scene movi end spoil',\n",
       " 'ever indic writer director abil meld two highli volatil tempera seamless union creativ',\n",
       " 'result powerhous achiev made time perhap cultur disturb fascin celebr distort interpret fame',\n",
       " 'film easili forgotten',\n",
       " 'kevin spacey excel verbal tsunami buddi ackerman total believ great actor',\n",
       " 'script subtl comedi unmatch movi recent year',\n",
       " 'charact interest even bit predict',\n",
       " 'highli recommend age although younger set probabl appreci subtl refer certainli appreci one galley scene particular',\n",
       " 'great movi',\n",
       " 'also stori act weak',\n",
       " 'around pm bought around pm start watch around pm fast forward remain film see anyth left watchabl human brain',\n",
       " 'either way suck',\n",
       " 'script horrend stupid',\n",
       " 'stori start fast absolut suspens build slightest',\n",
       " 'everyth captain howdi say either laughabl plain stupid',\n",
       " 'hell kind crap',\n",
       " 'plot hole',\n",
       " 'could drive semi truck hole',\n",
       " 'linda cardellini thing good film',\n",
       " 'pois amaz',\n",
       " 'dee snider plain suck',\n",
       " 'act one least scari villain ever seen write write damn movi sleep',\n",
       " 'bore throughout whole damn thing',\n",
       " 'act suck music suck script suck pace suck special fx suck direct suck basic movi suck',\n",
       " 'film tri seriou sophist thriller horror flick fail miser',\n",
       " 'probabl one least effect utterli unorigin film ever seen entir life',\n",
       " 'piec cinemat garbag captur celluloid',\n",
       " 'avoid cost',\n",
       " 'rate film stink funni fulci stay giallo supernatur zombi movi',\n",
       " 'avoid film cost',\n",
       " 'know happen season five mess',\n",
       " 'consist thread hold seri togeth amaz perform leni parker anita laselva two taelon quiet idealog conflict',\n",
       " 'movi realli dislik',\n",
       " 'one bore horror movi mainli start slow center bore atmospher',\n",
       " 'puppet look realli cheesi good way like puppet master flick',\n",
       " 'stori lame interest never realli explain sinist origin puppet',\n",
       " 'death scene like previou movi f x terribl',\n",
       " 'felt asleep first time watch recommend insomniac',\n",
       " 'fact film wonder heartwarm tale two peopl chase dream',\n",
       " 'best part nurs betti unpredict',\n",
       " 'director neil labut use brutal violenc seper dream realiti along touch drama hilari comedi never tell go happen next',\n",
       " 'otherwis even wast time',\n",
       " 'one fail creat real suspens',\n",
       " 'killer expect anyth origin even remot frighten',\n",
       " 'howev pretti good act least type film',\n",
       " 'sorri realli recommend anyon',\n",
       " 'one bore pointless movi ever seen',\n",
       " 'secondari plot line incomprehens relat primari plot line mystifi',\n",
       " 'hate',\n",
       " 'one worst sandra bullock movi sinc speed quit bad',\n",
       " 'understand garbag got shelv movi store even real movi',\n",
       " 'highli doubt anyon could ever like trash',\n",
       " 'movi make',\n",
       " 'act like watch wooden puppet move around read book bad',\n",
       " 'warn rent movi dumbest thing never seen',\n",
       " 'saw short film hbo day absolut love',\n",
       " 'realiz wonder short realli last two scene',\n",
       " 'excel short film',\n",
       " 'hope director jame cox turn short featur length film cast win us whole new film',\n",
       " 'agre jessica movi pretti bad',\n",
       " 'charact one dimension even good guy especi bad guy',\n",
       " 'stori line total predict',\n",
       " 'much dialogu much music whole film shot elabor aesthet like sculptur',\n",
       " 'seen soap opera intellig movi',\n",
       " 'bad charact bad stori bad act',\n",
       " 'realli aw',\n",
       " 'easi watch',\n",
       " 'funni clever hip like pray previou film hype',\n",
       " 'long time see charismat actor screen',\n",
       " 'paolo sorrentino written wonder stori loneli toni built one unforgett charact seen movi recent year',\n",
       " 'movi complet perfect titta di girolamo stay long time vision movi',\n",
       " 'rate movi',\n",
       " 'know emilio estevez directori debut pace interplay develop charact well clever camera work surround charact estevez play suggest natur eye',\n",
       " 'interplay martin emilio contain wonder chemistri saw wall street martin charli',\n",
       " 'kathi bate wonder charact subtl desper escap variat charact play field lord',\n",
       " 'reader alreadi seen one miyazaki film still top form made anoth worthwhil experi',\n",
       " 'never condescend charact good genuin heart believ problem',\n",
       " 'two main charact may two believ children ever saw put screen',\n",
       " 'easi love even easi identifi',\n",
       " 'movi great especi enjoy visual art',\n",
       " 'sceneri two daughter paint photograph beauti',\n",
       " 'stori also funni poignant time',\n",
       " 'peopl like european film art movi like movi',\n",
       " 'truli art movi actual lot art',\n",
       " 'go rent',\n",
       " 'howev final watch film realiz close mind brillianc depict also found watch',\n",
       " 'one movi never ceas interest simpli keep alert tri attempt deciph mean',\n",
       " 'brillianc inde',\n",
       " 'like movi like matrix better yet sequel think appreci thought provok mindblow experi film give',\n",
       " 'think film like dream',\n",
       " 'simpli beauti',\n",
       " 'rickman stow play role hilt tale children book writer mayb written subvers tract',\n",
       " 'glorious fun fast pace fairli accur portray night raver',\n",
       " 'present idyl yet seriou portray up down charact live',\n",
       " 'whatev avoid groov antithesi good human traffic',\n",
       " 'bad everyon els involv share crow level dedic qualiti far better film hand sub par mess',\n",
       " 'movi seem littl slow first',\n",
       " 'pick speed got right point',\n",
       " 'show exactli govern scientist argu human reason gadget',\n",
       " 'enjoy',\n",
       " 'recommend friend',\n",
       " 'particularli pleas act abil dwight schultz',\n",
       " 'actor truli understand becom particular charact deliv convinc sincer perform',\n",
       " 'screen chemistri critic entir film genuin',\n",
       " 'film dialogu natur real life',\n",
       " 'writer gorman bechard undoubtedli homework refer industri charact age appropri',\n",
       " 'incred soundtrack truli captur essenc film',\n",
       " 'track command sentiment actual contribut scene charact',\n",
       " 'definit worth see sort thought provok film forc question threshold loneli',\n",
       " 'hayao miyazaki latest eighth film studio ghibili gake ue ponyo ponyo cliff sea wonder fun imagin look childhood',\n",
       " 'time seem film anim domin disney pixar cgi masterpiec refresh comfort know miyazaki still reli tradit hand drawn anim tell charm enchant stori',\n",
       " 'enough said remark anim film',\n",
       " 'art style appear crayon pencil draw wonder color fanci',\n",
       " 'act film glad gonna drift away earth far possibl',\n",
       " 'one want surf small wave space movi deep impact armageddon one fail everywher',\n",
       " 'choke vomit end cheap drama worthless dialogu must bore death wast time',\n",
       " 'still make super end depict great sea vessel taken mighti frost',\n",
       " 'consid excel stori solid act look film ad bonus',\n",
       " 'instead got bore fest whini spoil brat babysit',\n",
       " 'watch two sunday ago march th began realli enjoy time tape entir thing',\n",
       " 'well act done tv movi',\n",
       " 'judith light one favorit actress think superb job film',\n",
       " 'keep watch',\n",
       " 'sad movi good',\n",
       " 'seen movi definit recommend',\n",
       " 'love usual cuti',\n",
       " 'still quit interest entertain follow',\n",
       " 'recommend confid',\n",
       " 'movi well balanc comedi drama thoroughli enjoy',\n",
       " 'riot see hugo weav play sex obsess gay real estat salesman use client hous tryst flame darren tom holland',\n",
       " 'anyway plot flow smoothli male bond scene hoot',\n",
       " 'open sequenc gem classic cat n mous game follow delight watch',\n",
       " 'fan genr heaven',\n",
       " 'lang becom great actress',\n",
       " 'look like wonder stori',\n",
       " 'never walk movi faster',\n",
       " 'got bore watch jessic lang take cloth',\n",
       " 'unfortun virtu film product work lost regrett script',\n",
       " 'word embarrass',\n",
       " 'except bad',\n",
       " 'insult one intellig huge wast money']"
      ]
     },
     "execution_count": 8,
     "metadata": {},
     "output_type": "execute_result"
    }
   ],
   "source": [
    "corpus"
   ]
  },
  {
   "cell_type": "markdown",
   "metadata": {},
   "source": [
    "## Create Bag of Words Model"
   ]
  },
  {
   "cell_type": "code",
   "execution_count": 15,
   "metadata": {
    "collapsed": true
   },
   "outputs": [],
   "source": [
    "cv = CountVectorizer(max_features = 2300)"
   ]
  },
  {
   "cell_type": "code",
   "execution_count": 16,
   "metadata": {
    "collapsed": true
   },
   "outputs": [],
   "source": [
    "X = cv.fit_transform(corpus).toarray()"
   ]
  },
  {
   "cell_type": "code",
   "execution_count": 17,
   "metadata": {
    "collapsed": true
   },
   "outputs": [],
   "source": [
    "Y = dataset.iloc[:, 1].values"
   ]
  },
  {
   "cell_type": "code",
   "execution_count": 18,
   "metadata": {},
   "outputs": [
    {
     "data": {
      "text/plain": [
       "(1000, 2300)"
      ]
     },
     "execution_count": 18,
     "metadata": {},
     "output_type": "execute_result"
    }
   ],
   "source": [
    "X.shape"
   ]
  },
  {
   "cell_type": "code",
   "execution_count": 19,
   "metadata": {},
   "outputs": [
    {
     "data": {
      "text/plain": [
       "(1000,)"
      ]
     },
     "execution_count": 19,
     "metadata": {},
     "output_type": "execute_result"
    }
   ],
   "source": [
    "Y.shape"
   ]
  },
  {
   "cell_type": "markdown",
   "metadata": {},
   "source": [
    "## Create Train and Test Data"
   ]
  },
  {
   "cell_type": "code",
   "execution_count": 20,
   "metadata": {
    "collapsed": true
   },
   "outputs": [],
   "source": [
    "X_train, X_test, Y_train, Y_test = train_test_split(X, Y, test_size = 0.2, random_state = 4)"
   ]
  },
  {
   "cell_type": "code",
   "execution_count": 21,
   "metadata": {},
   "outputs": [
    {
     "data": {
      "text/plain": [
       "(800, 2300)"
      ]
     },
     "execution_count": 21,
     "metadata": {},
     "output_type": "execute_result"
    }
   ],
   "source": [
    "X_train.shape"
   ]
  },
  {
   "cell_type": "code",
   "execution_count": 22,
   "metadata": {},
   "outputs": [
    {
     "data": {
      "text/plain": [
       "(200, 2300)"
      ]
     },
     "execution_count": 22,
     "metadata": {},
     "output_type": "execute_result"
    }
   ],
   "source": [
    "X_test.shape"
   ]
  },
  {
   "cell_type": "code",
   "execution_count": 23,
   "metadata": {},
   "outputs": [
    {
     "data": {
      "text/plain": [
       "(800,)"
      ]
     },
     "execution_count": 23,
     "metadata": {},
     "output_type": "execute_result"
    }
   ],
   "source": [
    "Y_train.shape"
   ]
  },
  {
   "cell_type": "code",
   "execution_count": 24,
   "metadata": {},
   "outputs": [
    {
     "data": {
      "text/plain": [
       "(200,)"
      ]
     },
     "execution_count": 24,
     "metadata": {},
     "output_type": "execute_result"
    }
   ],
   "source": [
    "Y_test.shape"
   ]
  },
  {
   "cell_type": "code",
   "execution_count": 25,
   "metadata": {},
   "outputs": [
    {
     "data": {
      "text/html": [
       "<div>\n",
       "<style>\n",
       "    .dataframe thead tr:only-child th {\n",
       "        text-align: right;\n",
       "    }\n",
       "\n",
       "    .dataframe thead th {\n",
       "        text-align: left;\n",
       "    }\n",
       "\n",
       "    .dataframe tbody tr th {\n",
       "        vertical-align: top;\n",
       "    }\n",
       "</style>\n",
       "<table border=\"1\" class=\"dataframe\">\n",
       "  <thead>\n",
       "    <tr style=\"text-align: right;\">\n",
       "      <th></th>\n",
       "      <th>0</th>\n",
       "    </tr>\n",
       "  </thead>\n",
       "  <tbody>\n",
       "    <tr>\n",
       "      <th>1</th>\n",
       "      <td>411</td>\n",
       "    </tr>\n",
       "    <tr>\n",
       "      <th>0</th>\n",
       "      <td>389</td>\n",
       "    </tr>\n",
       "  </tbody>\n",
       "</table>\n",
       "</div>"
      ],
      "text/plain": [
       "     0\n",
       "1  411\n",
       "0  389"
      ]
     },
     "execution_count": 25,
     "metadata": {},
     "output_type": "execute_result"
    }
   ],
   "source": [
    "pd.DataFrame(pd.DataFrame(Y_train)[0].value_counts())"
   ]
  },
  {
   "cell_type": "code",
   "execution_count": 26,
   "metadata": {},
   "outputs": [
    {
     "data": {
      "text/html": [
       "<div>\n",
       "<style>\n",
       "    .dataframe thead tr:only-child th {\n",
       "        text-align: right;\n",
       "    }\n",
       "\n",
       "    .dataframe thead th {\n",
       "        text-align: left;\n",
       "    }\n",
       "\n",
       "    .dataframe tbody tr th {\n",
       "        vertical-align: top;\n",
       "    }\n",
       "</style>\n",
       "<table border=\"1\" class=\"dataframe\">\n",
       "  <thead>\n",
       "    <tr style=\"text-align: right;\">\n",
       "      <th></th>\n",
       "      <th>0</th>\n",
       "    </tr>\n",
       "  </thead>\n",
       "  <tbody>\n",
       "    <tr>\n",
       "      <th>0</th>\n",
       "      <td>111</td>\n",
       "    </tr>\n",
       "    <tr>\n",
       "      <th>1</th>\n",
       "      <td>89</td>\n",
       "    </tr>\n",
       "  </tbody>\n",
       "</table>\n",
       "</div>"
      ],
      "text/plain": [
       "     0\n",
       "0  111\n",
       "1   89"
      ]
     },
     "execution_count": 26,
     "metadata": {},
     "output_type": "execute_result"
    }
   ],
   "source": [
    "pd.DataFrame(pd.DataFrame(Y_test)[0].value_counts())"
   ]
  },
  {
   "cell_type": "markdown",
   "metadata": {},
   "source": [
    "## DecisionTree"
   ]
  },
  {
   "cell_type": "code",
   "execution_count": 27,
   "metadata": {
    "collapsed": true
   },
   "outputs": [],
   "source": [
    "clf_dt = DecisionTreeClassifier(criterion = 'entropy')"
   ]
  },
  {
   "cell_type": "code",
   "execution_count": 28,
   "metadata": {},
   "outputs": [
    {
     "data": {
      "text/plain": [
       "DecisionTreeClassifier(class_weight=None, criterion='entropy', max_depth=None,\n",
       "            max_features=None, max_leaf_nodes=None,\n",
       "            min_impurity_decrease=0.0, min_impurity_split=None,\n",
       "            min_samples_leaf=1, min_samples_split=2,\n",
       "            min_weight_fraction_leaf=0.0, presort=False, random_state=None,\n",
       "            splitter='best')"
      ]
     },
     "execution_count": 28,
     "metadata": {},
     "output_type": "execute_result"
    }
   ],
   "source": [
    "clf_dt.fit(X_train, Y_train)"
   ]
  },
  {
   "cell_type": "code",
   "execution_count": 29,
   "metadata": {
    "collapsed": true
   },
   "outputs": [],
   "source": [
    "Y_pred_dt = clf_dt.predict(X_test)"
   ]
  },
  {
   "cell_type": "code",
   "execution_count": 30,
   "metadata": {},
   "outputs": [
    {
     "data": {
      "text/plain": [
       "array([[80, 15],\n",
       "       [31, 74]], dtype=int64)"
      ]
     },
     "execution_count": 30,
     "metadata": {},
     "output_type": "execute_result"
    }
   ],
   "source": [
    "confusion_matrix(Y_pred_dt, Y_test)"
   ]
  },
  {
   "cell_type": "markdown",
   "metadata": {},
   "source": [
    "## Random Forest"
   ]
  },
  {
   "cell_type": "code",
   "execution_count": 31,
   "metadata": {
    "collapsed": true
   },
   "outputs": [],
   "source": [
    "clf_rf = RandomForestClassifier(n_estimators = 10, criterion = 'entropy')"
   ]
  },
  {
   "cell_type": "code",
   "execution_count": 32,
   "metadata": {},
   "outputs": [
    {
     "data": {
      "text/plain": [
       "RandomForestClassifier(bootstrap=True, class_weight=None, criterion='entropy',\n",
       "            max_depth=None, max_features='auto', max_leaf_nodes=None,\n",
       "            min_impurity_decrease=0.0, min_impurity_split=None,\n",
       "            min_samples_leaf=1, min_samples_split=2,\n",
       "            min_weight_fraction_leaf=0.0, n_estimators=10, n_jobs=1,\n",
       "            oob_score=False, random_state=None, verbose=0,\n",
       "            warm_start=False)"
      ]
     },
     "execution_count": 32,
     "metadata": {},
     "output_type": "execute_result"
    }
   ],
   "source": [
    "clf_rf.fit(X_train, Y_train)"
   ]
  },
  {
   "cell_type": "code",
   "execution_count": 33,
   "metadata": {
    "collapsed": true
   },
   "outputs": [],
   "source": [
    "Y_pred_rf = clf_rf.predict(X_test)"
   ]
  },
  {
   "cell_type": "code",
   "execution_count": 34,
   "metadata": {},
   "outputs": [
    {
     "data": {
      "text/plain": [
       "array([[72, 12],\n",
       "       [39, 77]], dtype=int64)"
      ]
     },
     "execution_count": 34,
     "metadata": {},
     "output_type": "execute_result"
    }
   ],
   "source": [
    "confusion_matrix(Y_pred_rf, Y_test)"
   ]
  },
  {
   "cell_type": "markdown",
   "metadata": {},
   "source": [
    "## Naive Bayes"
   ]
  },
  {
   "cell_type": "code",
   "execution_count": 35,
   "metadata": {
    "collapsed": true
   },
   "outputs": [],
   "source": [
    "clf_nb = GaussianNB()"
   ]
  },
  {
   "cell_type": "code",
   "execution_count": 36,
   "metadata": {},
   "outputs": [
    {
     "data": {
      "text/plain": [
       "GaussianNB(priors=None)"
      ]
     },
     "execution_count": 36,
     "metadata": {},
     "output_type": "execute_result"
    }
   ],
   "source": [
    "clf_nb.fit(X_train, Y_train)"
   ]
  },
  {
   "cell_type": "code",
   "execution_count": 37,
   "metadata": {
    "collapsed": true
   },
   "outputs": [],
   "source": [
    "Y_pred_nb = clf_nb.predict(X_test)"
   ]
  },
  {
   "cell_type": "code",
   "execution_count": 38,
   "metadata": {},
   "outputs": [
    {
     "data": {
      "text/plain": [
       "array([[92, 38],\n",
       "       [19, 51]], dtype=int64)"
      ]
     },
     "execution_count": 38,
     "metadata": {},
     "output_type": "execute_result"
    }
   ],
   "source": [
    "confusion_matrix(Y_pred_nb, Y_test)"
   ]
  },
  {
   "cell_type": "markdown",
   "metadata": {},
   "source": [
    "## KNN"
   ]
  },
  {
   "cell_type": "code",
   "execution_count": 39,
   "metadata": {
    "collapsed": true
   },
   "outputs": [],
   "source": [
    "clf_knn = KNeighborsClassifier(n_neighbors = 5)"
   ]
  },
  {
   "cell_type": "code",
   "execution_count": 40,
   "metadata": {},
   "outputs": [
    {
     "data": {
      "text/plain": [
       "KNeighborsClassifier(algorithm='auto', leaf_size=30, metric='minkowski',\n",
       "           metric_params=None, n_jobs=1, n_neighbors=5, p=2,\n",
       "           weights='uniform')"
      ]
     },
     "execution_count": 40,
     "metadata": {},
     "output_type": "execute_result"
    }
   ],
   "source": [
    "clf_knn.fit(X_train, Y_train)"
   ]
  },
  {
   "cell_type": "code",
   "execution_count": 41,
   "metadata": {
    "collapsed": true
   },
   "outputs": [],
   "source": [
    "Y_pred_knn = clf_knn.predict(X_test)"
   ]
  },
  {
   "cell_type": "code",
   "execution_count": 42,
   "metadata": {},
   "outputs": [
    {
     "data": {
      "text/plain": [
       "array([[43,  8],\n",
       "       [68, 81]], dtype=int64)"
      ]
     },
     "execution_count": 42,
     "metadata": {},
     "output_type": "execute_result"
    }
   ],
   "source": [
    "confusion_matrix(Y_pred_knn, Y_test)"
   ]
  },
  {
   "cell_type": "markdown",
   "metadata": {},
   "source": [
    "## Logistic Regression"
   ]
  },
  {
   "cell_type": "code",
   "execution_count": 43,
   "metadata": {
    "collapsed": true
   },
   "outputs": [],
   "source": [
    "clf_lr = LogisticRegression()"
   ]
  },
  {
   "cell_type": "code",
   "execution_count": 44,
   "metadata": {},
   "outputs": [
    {
     "data": {
      "text/plain": [
       "LogisticRegression(C=1.0, class_weight=None, dual=False, fit_intercept=True,\n",
       "          intercept_scaling=1, max_iter=100, multi_class='ovr', n_jobs=1,\n",
       "          penalty='l2', random_state=None, solver='liblinear', tol=0.0001,\n",
       "          verbose=0, warm_start=False)"
      ]
     },
     "execution_count": 44,
     "metadata": {},
     "output_type": "execute_result"
    }
   ],
   "source": [
    "clf_lr.fit(X_train, Y_train)"
   ]
  },
  {
   "cell_type": "code",
   "execution_count": 45,
   "metadata": {
    "collapsed": true
   },
   "outputs": [],
   "source": [
    "Y_pred_lr = clf_lr.predict(X_test)"
   ]
  },
  {
   "cell_type": "code",
   "execution_count": 46,
   "metadata": {},
   "outputs": [
    {
     "data": {
      "text/plain": [
       "array([[85, 12],\n",
       "       [26, 77]], dtype=int64)"
      ]
     },
     "execution_count": 46,
     "metadata": {},
     "output_type": "execute_result"
    }
   ],
   "source": [
    "confusion_matrix(Y_pred_lr, Y_test)"
   ]
  },
  {
   "cell_type": "markdown",
   "metadata": {},
   "source": [
    "## Linear SVC"
   ]
  },
  {
   "cell_type": "code",
   "execution_count": 47,
   "metadata": {
    "collapsed": true
   },
   "outputs": [],
   "source": [
    "clf_lsvc = SVC(kernel = 'linear')"
   ]
  },
  {
   "cell_type": "code",
   "execution_count": 48,
   "metadata": {},
   "outputs": [
    {
     "data": {
      "text/plain": [
       "SVC(C=1.0, cache_size=200, class_weight=None, coef0=0.0,\n",
       "  decision_function_shape='ovr', degree=3, gamma='auto', kernel='linear',\n",
       "  max_iter=-1, probability=False, random_state=None, shrinking=True,\n",
       "  tol=0.001, verbose=False)"
      ]
     },
     "execution_count": 48,
     "metadata": {},
     "output_type": "execute_result"
    }
   ],
   "source": [
    "clf_lsvc.fit(X_train, Y_train)"
   ]
  },
  {
   "cell_type": "code",
   "execution_count": 49,
   "metadata": {
    "collapsed": true
   },
   "outputs": [],
   "source": [
    "Y_pred_lsvc = clf_lsvc.predict(X_test)"
   ]
  },
  {
   "cell_type": "code",
   "execution_count": 50,
   "metadata": {},
   "outputs": [
    {
     "data": {
      "text/plain": [
       "array([[82, 15],\n",
       "       [29, 74]], dtype=int64)"
      ]
     },
     "execution_count": 50,
     "metadata": {},
     "output_type": "execute_result"
    }
   ],
   "source": [
    "confusion_matrix(Y_pred_lsvc, Y_test)"
   ]
  },
  {
   "cell_type": "markdown",
   "metadata": {},
   "source": [
    "## Kernel SVC"
   ]
  },
  {
   "cell_type": "code",
   "execution_count": 51,
   "metadata": {
    "collapsed": true
   },
   "outputs": [],
   "source": [
    "clf_ksvc = SVC(kernel = 'rbf')"
   ]
  },
  {
   "cell_type": "code",
   "execution_count": 52,
   "metadata": {},
   "outputs": [
    {
     "data": {
      "text/plain": [
       "SVC(C=1.0, cache_size=200, class_weight=None, coef0=0.0,\n",
       "  decision_function_shape='ovr', degree=3, gamma='auto', kernel='rbf',\n",
       "  max_iter=-1, probability=False, random_state=None, shrinking=True,\n",
       "  tol=0.001, verbose=False)"
      ]
     },
     "execution_count": 52,
     "metadata": {},
     "output_type": "execute_result"
    }
   ],
   "source": [
    "clf_ksvc.fit(X_train, Y_train)"
   ]
  },
  {
   "cell_type": "code",
   "execution_count": 53,
   "metadata": {
    "collapsed": true
   },
   "outputs": [],
   "source": [
    "Y_pred_ksvc = clf_ksvc.predict(X_test)"
   ]
  },
  {
   "cell_type": "code",
   "execution_count": 54,
   "metadata": {},
   "outputs": [
    {
     "data": {
      "text/plain": [
       "array([[  0,   0],\n",
       "       [111,  89]], dtype=int64)"
      ]
     },
     "execution_count": 54,
     "metadata": {},
     "output_type": "execute_result"
    }
   ],
   "source": [
    "confusion_matrix(Y_pred_ksvc, Y_test)"
   ]
  },
  {
   "cell_type": "markdown",
   "metadata": {},
   "source": [
    "## Accuracy of Various Models"
   ]
  },
  {
   "cell_type": "code",
   "execution_count": 55,
   "metadata": {},
   "outputs": [
    {
     "data": {
      "text/plain": [
       "{'DT': 0.77000000000000002,\n",
       " 'KNN': 0.62,\n",
       " 'KernelSVC': 0.44500000000000001,\n",
       " 'LinearSVC': 0.78000000000000003,\n",
       " 'LogReg': 0.81000000000000005,\n",
       " 'NB': 0.71499999999999997,\n",
       " 'RF': 0.745}"
      ]
     },
     "execution_count": 55,
     "metadata": {},
     "output_type": "execute_result"
    }
   ],
   "source": [
    "model_accuracies['DT'] = accuracy_score(Y_pred_dt, Y_test)\n",
    "model_accuracies['KNN'] = accuracy_score(Y_pred_knn, Y_test)\n",
    "model_accuracies['KernelSVC'] = accuracy_score(Y_pred_ksvc, Y_test)\n",
    "model_accuracies['LinearSVC'] = accuracy_score(Y_pred_lsvc, Y_test)\n",
    "model_accuracies['LogReg'] = accuracy_score(Y_pred_lr, Y_test)\n",
    "model_accuracies['NB'] = accuracy_score(Y_pred_nb, Y_test)\n",
    "model_accuracies['RF'] = accuracy_score(Y_pred_rf, Y_test)\n",
    "model_accuracies"
   ]
  },
  {
   "cell_type": "code",
   "execution_count": null,
   "metadata": {
    "collapsed": true
   },
   "outputs": [],
   "source": []
  },
  {
   "cell_type": "code",
   "execution_count": null,
   "metadata": {
    "collapsed": true
   },
   "outputs": [],
   "source": []
  }
 ],
 "metadata": {
  "kernelspec": {
   "display_name": "Python [default]",
   "language": "python",
   "name": "python3"
  },
  "language_info": {
   "codemirror_mode": {
    "name": "ipython",
    "version": 3
   },
   "file_extension": ".py",
   "mimetype": "text/x-python",
   "name": "python",
   "nbconvert_exporter": "python",
   "pygments_lexer": "ipython3",
   "version": "3.5.4"
  }
 },
 "nbformat": 4,
 "nbformat_minor": 2
}
