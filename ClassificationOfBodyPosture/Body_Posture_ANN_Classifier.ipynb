{
 "cells": [
  {
   "cell_type": "markdown",
   "metadata": {},
   "source": [
    "## Initialization"
   ]
  },
  {
   "cell_type": "code",
   "execution_count": 1,
   "metadata": {},
   "outputs": [
    {
     "name": "stderr",
     "output_type": "stream",
     "text": [
      "Using Theano backend.\n"
     ]
    }
   ],
   "source": [
    "import pandas as pd\n",
    "import numpy as np\n",
    "import keras"
   ]
  },
  {
   "cell_type": "markdown",
   "metadata": {},
   "source": [
    "## Importing the Data"
   ]
  },
  {
   "cell_type": "code",
   "execution_count": 2,
   "metadata": {},
   "outputs": [
    {
     "data": {
      "text/plain": [
       "(165633, 19)"
      ]
     },
     "execution_count": 2,
     "metadata": {},
     "output_type": "execute_result"
    }
   ],
   "source": [
    "dataset = pd.read_csv('Dataset.csv', delimiter = ';')\n",
    "dataset.shape"
   ]
  },
  {
   "cell_type": "code",
   "execution_count": 3,
   "metadata": {},
   "outputs": [
    {
     "data": {
      "text/html": [
       "<div>\n",
       "<style>\n",
       "    .dataframe thead tr:only-child th {\n",
       "        text-align: right;\n",
       "    }\n",
       "\n",
       "    .dataframe thead th {\n",
       "        text-align: left;\n",
       "    }\n",
       "\n",
       "    .dataframe tbody tr th {\n",
       "        vertical-align: top;\n",
       "    }\n",
       "</style>\n",
       "<table border=\"1\" class=\"dataframe\">\n",
       "  <thead>\n",
       "    <tr style=\"text-align: right;\">\n",
       "      <th></th>\n",
       "      <th>user</th>\n",
       "      <th>gender</th>\n",
       "      <th>age</th>\n",
       "      <th>how_tall_in_meters</th>\n",
       "      <th>weight</th>\n",
       "      <th>body_mass_index</th>\n",
       "      <th>x1</th>\n",
       "      <th>y1</th>\n",
       "      <th>z1</th>\n",
       "      <th>x2</th>\n",
       "      <th>y2</th>\n",
       "      <th>z2</th>\n",
       "      <th>x3</th>\n",
       "      <th>y3</th>\n",
       "      <th>z3</th>\n",
       "      <th>x4</th>\n",
       "      <th>y4</th>\n",
       "      <th>z4</th>\n",
       "      <th>class</th>\n",
       "    </tr>\n",
       "  </thead>\n",
       "  <tbody>\n",
       "    <tr>\n",
       "      <th>0</th>\n",
       "      <td>debora</td>\n",
       "      <td>Woman</td>\n",
       "      <td>46</td>\n",
       "      <td>1.62</td>\n",
       "      <td>75</td>\n",
       "      <td>28.6</td>\n",
       "      <td>-3</td>\n",
       "      <td>92</td>\n",
       "      <td>-63</td>\n",
       "      <td>-23</td>\n",
       "      <td>18</td>\n",
       "      <td>-19</td>\n",
       "      <td>5</td>\n",
       "      <td>104</td>\n",
       "      <td>-92</td>\n",
       "      <td>-150</td>\n",
       "      <td>-103</td>\n",
       "      <td>-147</td>\n",
       "      <td>sitting</td>\n",
       "    </tr>\n",
       "    <tr>\n",
       "      <th>1</th>\n",
       "      <td>debora</td>\n",
       "      <td>Woman</td>\n",
       "      <td>46</td>\n",
       "      <td>1.62</td>\n",
       "      <td>75</td>\n",
       "      <td>28.6</td>\n",
       "      <td>-3</td>\n",
       "      <td>94</td>\n",
       "      <td>-64</td>\n",
       "      <td>-21</td>\n",
       "      <td>18</td>\n",
       "      <td>-18</td>\n",
       "      <td>-14</td>\n",
       "      <td>104</td>\n",
       "      <td>-90</td>\n",
       "      <td>-149</td>\n",
       "      <td>-104</td>\n",
       "      <td>-145</td>\n",
       "      <td>sitting</td>\n",
       "    </tr>\n",
       "    <tr>\n",
       "      <th>2</th>\n",
       "      <td>debora</td>\n",
       "      <td>Woman</td>\n",
       "      <td>46</td>\n",
       "      <td>1.62</td>\n",
       "      <td>75</td>\n",
       "      <td>28.6</td>\n",
       "      <td>-1</td>\n",
       "      <td>97</td>\n",
       "      <td>-61</td>\n",
       "      <td>-12</td>\n",
       "      <td>20</td>\n",
       "      <td>-15</td>\n",
       "      <td>-13</td>\n",
       "      <td>104</td>\n",
       "      <td>-90</td>\n",
       "      <td>-151</td>\n",
       "      <td>-104</td>\n",
       "      <td>-144</td>\n",
       "      <td>sitting</td>\n",
       "    </tr>\n",
       "    <tr>\n",
       "      <th>3</th>\n",
       "      <td>debora</td>\n",
       "      <td>Woman</td>\n",
       "      <td>46</td>\n",
       "      <td>1.62</td>\n",
       "      <td>75</td>\n",
       "      <td>28.6</td>\n",
       "      <td>-2</td>\n",
       "      <td>96</td>\n",
       "      <td>-57</td>\n",
       "      <td>-15</td>\n",
       "      <td>21</td>\n",
       "      <td>-16</td>\n",
       "      <td>-13</td>\n",
       "      <td>104</td>\n",
       "      <td>-89</td>\n",
       "      <td>-153</td>\n",
       "      <td>-103</td>\n",
       "      <td>-142</td>\n",
       "      <td>sitting</td>\n",
       "    </tr>\n",
       "    <tr>\n",
       "      <th>4</th>\n",
       "      <td>debora</td>\n",
       "      <td>Woman</td>\n",
       "      <td>46</td>\n",
       "      <td>1.62</td>\n",
       "      <td>75</td>\n",
       "      <td>28.6</td>\n",
       "      <td>-1</td>\n",
       "      <td>96</td>\n",
       "      <td>-61</td>\n",
       "      <td>-13</td>\n",
       "      <td>20</td>\n",
       "      <td>-15</td>\n",
       "      <td>-13</td>\n",
       "      <td>104</td>\n",
       "      <td>-89</td>\n",
       "      <td>-153</td>\n",
       "      <td>-104</td>\n",
       "      <td>-143</td>\n",
       "      <td>sitting</td>\n",
       "    </tr>\n",
       "  </tbody>\n",
       "</table>\n",
       "</div>"
      ],
      "text/plain": [
       "     user gender  age  how_tall_in_meters  weight  body_mass_index  x1  y1  \\\n",
       "0  debora  Woman   46                1.62      75             28.6  -3  92   \n",
       "1  debora  Woman   46                1.62      75             28.6  -3  94   \n",
       "2  debora  Woman   46                1.62      75             28.6  -1  97   \n",
       "3  debora  Woman   46                1.62      75             28.6  -2  96   \n",
       "4  debora  Woman   46                1.62      75             28.6  -1  96   \n",
       "\n",
       "   z1  x2  y2  z2  x3   y3  z3   x4   y4   z4    class  \n",
       "0 -63 -23  18 -19   5  104 -92 -150 -103 -147  sitting  \n",
       "1 -64 -21  18 -18 -14  104 -90 -149 -104 -145  sitting  \n",
       "2 -61 -12  20 -15 -13  104 -90 -151 -104 -144  sitting  \n",
       "3 -57 -15  21 -16 -13  104 -89 -153 -103 -142  sitting  \n",
       "4 -61 -13  20 -15 -13  104 -89 -153 -104 -143  sitting  "
      ]
     },
     "execution_count": 3,
     "metadata": {},
     "output_type": "execute_result"
    }
   ],
   "source": [
    "dataset.head()"
   ]
  },
  {
   "cell_type": "markdown",
   "metadata": {},
   "source": [
    "## Create X and Y"
   ]
  },
  {
   "cell_type": "code",
   "execution_count": 4,
   "metadata": {
    "collapsed": true
   },
   "outputs": [],
   "source": [
    "X = dataset.iloc[:, 1:18].values\n",
    "Y = dataset.iloc[:, 18].values"
   ]
  },
  {
   "cell_type": "code",
   "execution_count": 5,
   "metadata": {},
   "outputs": [
    {
     "data": {
      "text/plain": [
       "(165633, 17)"
      ]
     },
     "execution_count": 5,
     "metadata": {},
     "output_type": "execute_result"
    }
   ],
   "source": [
    "X.shape"
   ]
  },
  {
   "cell_type": "code",
   "execution_count": 6,
   "metadata": {},
   "outputs": [
    {
     "data": {
      "text/plain": [
       "(165633,)"
      ]
     },
     "execution_count": 6,
     "metadata": {},
     "output_type": "execute_result"
    }
   ],
   "source": [
    "Y.shape"
   ]
  },
  {
   "cell_type": "code",
   "execution_count": 7,
   "metadata": {},
   "outputs": [
    {
     "data": {
      "text/plain": [
       "array(['Woman', 46, 1.62, 75, 28.6, -3, 92, -63, -23, 18, -19, 5, 104, -92,\n",
       "       -150, -103, -147], dtype=object)"
      ]
     },
     "execution_count": 7,
     "metadata": {},
     "output_type": "execute_result"
    }
   ],
   "source": [
    "X[0]"
   ]
  },
  {
   "cell_type": "code",
   "execution_count": 8,
   "metadata": {},
   "outputs": [
    {
     "data": {
      "text/plain": [
       "'sitting'"
      ]
     },
     "execution_count": 8,
     "metadata": {},
     "output_type": "execute_result"
    }
   ],
   "source": [
    "Y[0]"
   ]
  },
  {
   "cell_type": "markdown",
   "metadata": {},
   "source": [
    "## Preprocess the Data"
   ]
  },
  {
   "cell_type": "code",
   "execution_count": 9,
   "metadata": {
    "collapsed": true
   },
   "outputs": [],
   "source": [
    "from sklearn.preprocessing import LabelEncoder, OneHotEncoder, StandardScaler"
   ]
  },
  {
   "cell_type": "code",
   "execution_count": 10,
   "metadata": {
    "collapsed": true
   },
   "outputs": [],
   "source": [
    "le_Y = LabelEncoder()"
   ]
  },
  {
   "cell_type": "code",
   "execution_count": 11,
   "metadata": {
    "collapsed": true
   },
   "outputs": [],
   "source": [
    "Y = le_Y.fit_transform(Y)"
   ]
  },
  {
   "cell_type": "code",
   "execution_count": 12,
   "metadata": {},
   "outputs": [
    {
     "data": {
      "text/plain": [
       "0"
      ]
     },
     "execution_count": 12,
     "metadata": {},
     "output_type": "execute_result"
    }
   ],
   "source": [
    "Y[0]"
   ]
  },
  {
   "cell_type": "code",
   "execution_count": 13,
   "metadata": {
    "collapsed": true
   },
   "outputs": [],
   "source": [
    "Y = Y.reshape(len(Y), 1)\n",
    "ohe_Y = OneHotEncoder(categorical_features = [0])"
   ]
  },
  {
   "cell_type": "code",
   "execution_count": 14,
   "metadata": {
    "collapsed": true
   },
   "outputs": [],
   "source": [
    "Y = ohe_Y.fit_transform(Y).toarray()"
   ]
  },
  {
   "cell_type": "code",
   "execution_count": 15,
   "metadata": {},
   "outputs": [
    {
     "data": {
      "text/plain": [
       "array([ 1.,  0.,  0.,  0.,  0.])"
      ]
     },
     "execution_count": 15,
     "metadata": {},
     "output_type": "execute_result"
    }
   ],
   "source": [
    "Y[0]"
   ]
  },
  {
   "cell_type": "code",
   "execution_count": 16,
   "metadata": {
    "collapsed": true
   },
   "outputs": [],
   "source": [
    "le_X = LabelEncoder()"
   ]
  },
  {
   "cell_type": "code",
   "execution_count": 17,
   "metadata": {
    "collapsed": true
   },
   "outputs": [],
   "source": [
    "X[:, 0] = le_X.fit_transform(X[:, 0])"
   ]
  },
  {
   "cell_type": "code",
   "execution_count": 18,
   "metadata": {},
   "outputs": [
    {
     "data": {
      "text/plain": [
       "array([1, 46, 1.62, 75, 28.6, -3, 92, -63, -23, 18, -19, 5, 104, -92, -150,\n",
       "       -103, -147], dtype=object)"
      ]
     },
     "execution_count": 18,
     "metadata": {},
     "output_type": "execute_result"
    }
   ],
   "source": [
    "X[0]"
   ]
  },
  {
   "cell_type": "code",
   "execution_count": 19,
   "metadata": {
    "collapsed": true
   },
   "outputs": [],
   "source": [
    "sc_X = StandardScaler()"
   ]
  },
  {
   "cell_type": "code",
   "execution_count": 20,
   "metadata": {},
   "outputs": [
    {
     "name": "stderr",
     "output_type": "stream",
     "text": [
      "C:\\Users\\user\\Anaconda3\\lib\\site-packages\\sklearn\\utils\\validation.py:444: DataConversionWarning: Data with input dtype object was converted to float64 by StandardScaler.\n",
      "  warnings.warn(msg, DataConversionWarning)\n"
     ]
    }
   ],
   "source": [
    "X = sc_X.fit_transform(X)"
   ]
  },
  {
   "cell_type": "code",
   "execution_count": 21,
   "metadata": {},
   "outputs": [
    {
     "data": {
      "text/plain": [
       "array([ 0.79616611,  0.58668263, -0.37319438,  0.37007877,  0.80496163,\n",
       "        0.31415835,  0.15510422,  0.76541851,  0.38261059,  0.3415156 ,\n",
       "        0.80934764, -0.23603041, -0.00954964,  0.0414573 ,  0.46047725,\n",
       "       -0.51955844,  0.95687879])"
      ]
     },
     "execution_count": 21,
     "metadata": {},
     "output_type": "execute_result"
    }
   ],
   "source": [
    "X[0]"
   ]
  },
  {
   "cell_type": "markdown",
   "metadata": {},
   "source": [
    "## Create Train and Test Data"
   ]
  },
  {
   "cell_type": "code",
   "execution_count": 22,
   "metadata": {
    "collapsed": true
   },
   "outputs": [],
   "source": [
    "from sklearn.model_selection import train_test_split"
   ]
  },
  {
   "cell_type": "code",
   "execution_count": 23,
   "metadata": {
    "collapsed": true
   },
   "outputs": [],
   "source": [
    "X_train, X_test, Y_train, Y_test = train_test_split(X, Y, test_size = 0.2, random_state = 4)"
   ]
  },
  {
   "cell_type": "code",
   "execution_count": 24,
   "metadata": {},
   "outputs": [
    {
     "data": {
      "text/plain": [
       "(132506, 17)"
      ]
     },
     "execution_count": 24,
     "metadata": {},
     "output_type": "execute_result"
    }
   ],
   "source": [
    "X_train.shape"
   ]
  },
  {
   "cell_type": "code",
   "execution_count": 25,
   "metadata": {},
   "outputs": [
    {
     "data": {
      "text/plain": [
       "(33127, 17)"
      ]
     },
     "execution_count": 25,
     "metadata": {},
     "output_type": "execute_result"
    }
   ],
   "source": [
    "X_test.shape"
   ]
  },
  {
   "cell_type": "code",
   "execution_count": 26,
   "metadata": {},
   "outputs": [
    {
     "data": {
      "text/plain": [
       "(132506, 5)"
      ]
     },
     "execution_count": 26,
     "metadata": {},
     "output_type": "execute_result"
    }
   ],
   "source": [
    "Y_train.shape"
   ]
  },
  {
   "cell_type": "code",
   "execution_count": 27,
   "metadata": {},
   "outputs": [
    {
     "data": {
      "text/plain": [
       "(33127, 5)"
      ]
     },
     "execution_count": 27,
     "metadata": {},
     "output_type": "execute_result"
    }
   ],
   "source": [
    "Y_test.shape"
   ]
  },
  {
   "cell_type": "markdown",
   "metadata": {},
   "source": [
    "## Create and train the ANN Classifier"
   ]
  },
  {
   "cell_type": "code",
   "execution_count": 28,
   "metadata": {
    "collapsed": true
   },
   "outputs": [],
   "source": [
    "from keras.models import Sequential\n",
    "from keras.layers import Dense"
   ]
  },
  {
   "cell_type": "code",
   "execution_count": 29,
   "metadata": {},
   "outputs": [
    {
     "name": "stderr",
     "output_type": "stream",
     "text": [
      "C:\\Users\\user\\Anaconda3\\lib\\site-packages\\ipykernel\\__main__.py:4: UserWarning: Update your `Dense` call to the Keras 2 API: `Dense(units=11, kernel_initializer=\"uniform\", activation=\"relu\", input_dim=17)`\n",
      "C:\\Users\\user\\Anaconda3\\lib\\site-packages\\ipykernel\\__main__.py:7: UserWarning: Update your `Dense` call to the Keras 2 API: `Dense(kernel_initializer=\"uniform\", activation=\"relu\", units=11)`\n",
      "C:\\Users\\user\\Anaconda3\\lib\\site-packages\\ipykernel\\__main__.py:10: UserWarning: Update your `Dense` call to the Keras 2 API: `Dense(kernel_initializer=\"uniform\", activation=\"softmax\", units=5)`\n",
      "C:\\Users\\user\\Anaconda3\\lib\\site-packages\\keras\\models.py:844: UserWarning: The `nb_epoch` argument in `fit` has been renamed `epochs`.\n",
      "  warnings.warn('The `nb_epoch` argument in `fit` '\n"
     ]
    },
    {
     "name": "stdout",
     "output_type": "stream",
     "text": [
      "Epoch 1/100\n",
      "132506/132506 [==============================] - 7s - loss: 0.2972 - acc: 0.8914     - ETA: 2s - loss: 0.3509 - acc: 0.86 - ETA: 1s - loss:  - ETA: 1s - loss: 0.319 - ETA: 0s - loss: 0.3014 - acc: 0.\n",
      "Epoch 2/100\n",
      "132506/132506 [==============================] - 7s - loss: 0.1327 - acc: 0.9611     - ETA: 5s - loss: 0.1 - ETA: 0s - loss: 0.1338\n",
      "Epoch 3/100\n",
      "132506/132506 [==============================] - 7s - loss: 0.1114 - acc: 0.9683     - ETA: 5s - loss: 0. - ETA: 4s -  - ETA: 2s - loss: 0.1157 - acc: 0.9  - ETA: 0s - loss: 0.1127 - acc: 0.9 - ETA: 0s - loss: 0.\n",
      "Epoch 4/100\n",
      "132506/132506 [==============================] - 6s - loss: 0.1005 - acc: 0.9715      - ETA: 1s - loss: 0.0 - ETA: 0s - loss: 0.0991 - a - ETA: 0s - loss: 0.1002 - acc\n",
      "Epoch 5/100\n",
      "132506/132506 [==============================] - 7s - loss: 0.0946 - acc: 0.9733     - ETA: 6s - loss: 0.0952 - ac - ETA: 6s - loss - ETA: 5s - loss: 0.0912 - acc: 0.97 - ETA: 5s - loss: 0.0912  - ETA: 4s - loss: 0.0923 - acc - ETA: 3s - loss: 0.0923 - acc: - ETA: 3s - loss: 0.0926 - acc: 0.973 - ETA: 3\n",
      "Epoch 6/100\n",
      "132506/132506 [==============================] - 7s - loss: 0.0897 - acc: 0.9742     - ETA: 6s - loss: 0.0874 - a - E - ETA: 0s - loss: 0.0899\n",
      "Epoch 7/100\n",
      "132506/132506 [==============================] - 7s - loss: 0.0864 - acc: 0.9753     - ETA: 2s - loss: 0.0865 - acc - ETA: 2s - loss: 0.0862 - ETA: 1s - loss: 0.0867 - acc: - ETA: 1s - loss: 0.08 - ETA: 0s - loss: 0.0865 - acc: 0\n",
      "Epoch 8/100\n",
      "132506/132506 [==============================] - 7s - loss: 0.0839 - acc: 0.9759     - ETA: 6s - loss: 0 - ETA: 3s - lo - ETA: 2s - loss: 0.0846 - acc: 0\n",
      "Epoch 9/100\n",
      "132506/132506 [==============================] - 7s - loss: 0.0820 - acc: 0.9761     - ETA: 4s - loss: 0.0835 - acc: - ETA: 4s - loss: 0.0834 - acc:  - ETA: 3s - loss: 0.0833 - acc: 0 - ETA: 3s - loss: 0.0830 - acc:  - ETA: 3 -\n",
      "Epoch 10/100\n",
      "132506/132506 [==============================] - 8s - loss: 0.0801 - acc: 0.9773     - ETA: 5s - loss: 0.0861 - ETA: 3s - l - ETA: 2s - loss: 0.0803 - acc - ETA: 2s - loss: 0.0800 - acc: 0 - ETA: 2s - loss: 0.0801 - acc: 0.97 - ETA: 2s - loss: 0.0802 -  - ETA: 0s - loss: 0.0804 - acc: 0.\n",
      "Epoch 11/100\n",
      "132506/132506 [==============================] - 9s - loss: 0.0788 - acc: 0.9775     - ETA: 6s - loss - ETA: 5s - - ETA: 3s - los - ETA: 2s - loss: 0.0798 - acc: 0.9 - ETA: 2s - loss: 0.0797 - ac - ETA: 1s - loss: 0.0799 - acc: 0.9 - ETA: 1s - loss: 0.0803 - ac - ETA: 1s - loss: 0.0799 - acc: 0.9 - ETA: 1s - loss: 0.0799 - acc: - ETA: 0s - loss: 0.0799 - acc: 0.97 - ETA: 0s - loss: 0.0800\n",
      "Epoch 12/100\n",
      "132506/132506 [==============================] - 9s - loss: 0.0777 - acc: 0.9781     - ETA: 9s - loss: 0.0898  - ETA: 8s - los - ETA: 7s - loss: 0.0780 - acc:  - ETA: 6s - loss: 0.0764 - acc: 0.9 - ETA: 6s - loss: 0.0775 - acc: 0 - ETA: 6s - loss: 0.0774 - acc - ETA: 6s - lo - ETA: 4s - loss: 0.07 - ETA: 4s -  - ETA: 2s -  - ETA\n",
      "Epoch 13/100\n",
      "132506/132506 [==============================] - 9s - loss: 0.0763 - acc: 0.9786      - ETA: 9s - loss:  - ETA: 9s - loss: 0.0756 - acc: 0.97 - ETA: 8s - loss: 0.0742 - acc - ETA: 8s -  - ETA: 6s - loss: 0.0743 - acc: 0.97 - ETA: 6s - loss: 0.0742 - acc: 0.978 - ETA:   - ETA: 3s - loss: 0.0776 - acc:  - ETA: 2s - loss: 0.0770 - acc: 0.978 - ETA: 2s  - ETA: 1s -\n",
      "Epoch 14/100\n",
      "132506/132506 [==============================] - 9s - loss: 0.0751 - acc: 0.9792     - - ETA: 4s - loss: 0.0738 - ETA - ETA: 2s - loss: 0.0754 - acc: 0 - ETA: 1s - loss: 0.0 - ETA: 1s - loss: 0.0751 - acc: 0.97 - ETA: 0s - loss: 0.0753 - ETA: 0s - loss: 0.0754 - acc: 0.97 - ETA: 0s - loss: 0.0752 - acc: 0.979\n",
      "Epoch 15/100\n",
      "132506/132506 [==============================] - 9s - loss: 0.0737 - acc: 0.9795     - ETA: 9s - loss: 0.0812  - ETA: 8s - loss: 0.0741 - acc:  - ET - ETA: 2s - loss: 0.0737 - acc:  - ETA: 2s - loss: 0.0734 - acc:  - ETA: 2s - loss: 0.0731 - - ETA: 1s - loss: 0.0735 - acc: 0.9 - ETA: 1s - loss: 0.0736 -  - ETA: 0s - loss: 0.0736\n",
      "Epoch 16/100\n",
      "132506/132506 [==============================] - 9s - loss: 0.0735 - acc: 0.9796     - ETA: 8s - loss: 0.07 - ETA: 7s - loss: 0.0733 - acc: 0.9 - ETA: 7s - loss: 0.0 - ETA: 6s - loss: 0.0725 - acc: 0.98 - ETA: 6s - loss - ETA: 5s - loss - ETA: 4s - loss: 0.0732 - acc:  - ETA: 4s - loss: 0.0739 - acc: 0.980 - ETA: 4s - loss: 0.0739 - acc - ETA: 3s - loss: 0.0744 - acc:  - ETA: 3s - loss: 0.0742 - acc - ETA: 2s - ETA: 1s - loss: 0.0736 - acc: 0.979 - ETA: 1s - loss: 0 - ETA: 0s - loss: 0.0737 - acc: 0.979 - ETA: 0s - loss: 0.0736 - ac\n",
      "Epoch 17/100\n",
      "132506/132506 [==============================] - 9s - loss: 0.0731 - acc: 0.9802     - ETA - ETA: 6s - - ETA: 4s - loss: 0.0713 - acc: 0.9 - ETA: 4s - loss: 0.0714 - acc: 0 - ETA: 4s - loss: 0.0709 - acc: 0.9 - ETA - ETA: 2s - loss: 0.0729 - a - ETA: 2s - loss: 0.0734 - acc: 0.98 - ETA: 2s - loss: 0.0736 - ac\n",
      "Epoch 18/100\n",
      "132506/132506 [==============================] - 9s - loss: 0.0734 - acc: 0.9800       ETA: 10s - loss - ETA: 9s - loss: 0. - ETA: 7s - loss: 0.0720 - acc: 0 - ETA: 7s - loss: 0.07 - ETA: 6s - loss: 0.0706 - acc: 0.98 - ETA: 6s - loss: 0 - ETA: 3s - loss: - ETA: 2s - loss: - ETA: 1s - loss: 0.0732 -  - ETA: 0s - loss: 0.0734 - acc - ETA: 0s - loss: 0.0732 - acc: 0.\n",
      "Epoch 19/100\n",
      "132506/132506 [==============================] - 9s - loss: 0.0719 - acc: 0.9800     - ETA: 8s - loss: 0.0718 - acc: 0 - ETA: 7s - loss: 0.074 - ETA: 7s -  - ETA: 5s - loss: 0.0728 - ETA: 4s - loss: 0.0710 - acc: - ETA: 4s - loss: - ETA: 3s - loss: 0.0700 - acc: 0.98 - ETA: 3\n",
      "Epoch 20/100\n",
      "132506/132506 [==============================] - 9s - loss: 0.0719 - acc: 0.9804     - E - ETA: 4s  - ETA: 2s - loss: 0.0706 - - ETA: 2s - loss: 0.0706 - acc: 0.980 - ETA: 2s - loss: 0.0706 - acc:  - ETA: 1s - loss: 0.07 - ETA: 1s - loss\n",
      "Epoch 21/100\n",
      "132506/132506 [==============================] - 9s - loss: 0.0713 - acc: 0.9804     - ETA: 8s - ETA - ETA: 5s - loss: 0.0707 - acc: 0 - ETA: 5s - loss: 0.0717 - acc: 0.98 - ETA: 5s -  - ETA: 1s - loss: 0.0698 - acc: 0.98 - ETA: 1s - ETA: 0s - loss: 0.0714 - acc\n",
      "Epoch 22/100\n",
      "132506/132506 [==============================] - 9s - loss: 0.0713 - acc: 0.9802     - ETA: 7s - l - ETA: 5s - loss: 0.0691 - acc:  - ETA: 5s - loss: 0.068 - ETA: 4s - loss: 0.0696 - ac - ETA: 4s - ETA: 2s - loss: 0.0700 - acc: 0.980 - ETA: 2s - loss: 0.0 - ETA: 1s - loss: 0.0703 - acc: 0 - ETA: 1s - loss: 0.0701 - acc: - ETA: 1s - loss: 0.0703 - acc: 0 - ETA: 1s - loss\n",
      "Epoch 23/100\n",
      "132506/132506 [==============================] - 9s - loss: 0.0707 - acc: 0.9804     - ETA: 8s - loss: 0.0687 -  - ETA: 8s - loss: 0.0700  - ET - ETA: 5s - loss:  - ETA:  - ETA: 1s  - ETA: 0s - loss: 0.0707 - acc: 0.980\n",
      "Epoch 24/100\n",
      "132506/132506 [==============================] - 10s - loss: 0.0697 - acc: 0.9809    - ETA:  - ETA: 8s - loss: 0.0685 -  - ETA: 7s - loss - ETA: 4s - loss: 0.0675 - acc: 0. - ETA: 0s - loss: 0.0694 - a\n",
      "Epoch 25/100\n",
      "132506/132506 [==============================] - 10s - loss: 0.0698 - acc: 0.9807    8 ETA: 10s - loss: - ETA: 1s - loss: 0.0696 - acc:  - ETA: 1s - loss: 0.0699 - acc - ETA: 1s - loss: 0.0702 - acc: 0.98 - ETA: 0s - loss: 0.070\n",
      "Epoch 26/100\n",
      "132506/132506 [==============================] - 9s - loss: 0.0686 - acc: 0.9814     - ETA: 7s - loss: 0.0698 - acc:  - ETA: 7s - loss: 0.066 - ETA: 4s - loss: 0.06\n",
      "Epoch 27/100\n",
      "132506/132506 [==============================] - 9s - loss: 0.0688 - acc: 0.9810     - ETA: 4s - l - ETA: 3 - ETA: 1 - ETA: 0s - loss: 0.0684 - ac\n",
      "Epoch 28/100\n",
      "132506/132506 [==============================] - 9s - loss: 0.0685 - acc: 0.9811     - ETA: 7s - loss: 0.0656 - acc: 0 - ETA: 7s -  - ETA: 4s - loss: 0.0663 - ETA: 3s - loss: 0.0659 - acc: 0 - ETA: 1s - loss: 0.0678  - ETA: 0s - loss: 0.0680 - acc:  - ETA: 0s - loss: 0.0684 - \n",
      "Epoch 29/100\n",
      "132506/132506 [==============================] - 9s - loss: 0.0681 - acc: 0.9812     - ET - ETA: 3\n",
      "Epoch 30/100\n",
      "132506/132506 [==============================] - 10s - loss: 0.0678 - acc: 0.9812    - ETA: 9s - loss: 0.0555 - acc: 0.9 - ETA: 9s - loss: 0 - ETA: 5s - loss: 0\n",
      "Epoch 31/100\n"
     ]
    },
    {
     "name": "stdout",
     "output_type": "stream",
     "text": [
      "132506/132506 [==============================] - 10s - loss: 0.0672 - acc: 0.9818    - ETA: 8s - loss:  - ETA: 7s - loss:  - ETA: 4s - loss: 0.0685 - acc: 0.98 - ETA: 4s - loss: 0.0685 - acc: 0.9 - ETA: 4s - loss: 0.0686 -  - ETA: 3s - loss: 0.0689 - acc: 0.9 - ETA: 3s - loss: - ETA: 2s - loss: 0.069 - ETA: 1s - loss: 0.0689 - acc: 0 - \n",
      "Epoch 32/100\n",
      "132506/132506 [==============================] - 10s - loss: 0.0671 - acc: 0.9816    - ETA: 8s - ETA - ETA: 1s - loss: 0.066 - ETA: 0s - loss: 0.067 - ETA: 0s - loss: 0.0673 - acc: 0.981 - ETA: 0s - loss: 0.0672 - acc: 0\n",
      "Epoch 33/100\n",
      "132506/132506 [==============================] - 9s - loss: 0.0672 - acc: 0.9818     - ETA: 9s - loss: 0.0655 - acc: 0 - ETA: 8s - loss: 0.0679 - acc: 0.98 - ETA: 8s - loss: - ETA: 7s -   - ETA: 0s - loss: 0.0673 - acc\n",
      "Epoch 34/100\n",
      "132506/132506 [==============================] - 9s - loss: 0.0664 - acc: 0.9814     - ETA: 9s - loss: 0.0689 - acc - ETA: 8s - loss: 0.0666 - acc: 0 - ETA: 8s - loss: 0.0691  - ETA: 7s - loss - ETA: 6s -  - ETA: 2s - loss: 0.0666 -  - ETA: 2s - loss: 0.0668 - acc: - ETA: 1s - loss: 0.0665 - acc: 0.981 - ETA: 1s - loss: 0.0665 - acc - ETA: 1s - lo\n",
      "Epoch 35/100\n",
      "132506/132506 [==============================] - 9s - loss: 0.0664 - acc: 0.9818     - ETA: 9s - loss: 0.0883 - acc: 0.97 -  - ETA: 5s - loss: 0.0659 - acc: 0.982 - ETA: 5s - loss: 0.0663 - acc: - ETA: 4s - loss: 0.0651 - acc - ETA: 4s - loss: 0.0646 - - ETA: 3s - loss:  - ETA: 2s - l - ETA: 1s - loss: 0.0660 - acc: 0.981 - ETA: 1s - loss: 0.0662 -  - ETA: 0s - loss: 0.06\n",
      "Epoch 36/100\n",
      "132506/132506 [==============================] - 9s - loss: 0.0660 - acc: 0.9817     - ETA: 8s - loss: 0.0676 - acc: 0.980 - ETA: - ETA: 6s - loss: 0.0670 - acc: - ETA: 6s - loss: 0.0655 - acc: - ETA: 6s - loss: 0.0646 - ETA: 5s - loss: 0. - ETA: 4s - loss: 0.0627 - acc: - ETA: 4s - loss: 0.0639 - acc - ETA: 3s - loss: - ET - ETA: 1s - loss: 0.0653 - acc - ETA: 0s - loss: 0.0656 - acc: - ETA: 0s - loss: 0.0661 - acc: 0.9 - ETA: 0s - loss: 0.0663 - acc: 0.\n",
      "Epoch 37/100\n",
      "132506/132506 [==============================] - 9s - loss: 0.0660 - acc: 0.9819     - ETA: 9s - los - ETA: 7s - loss: 0.0669 - ETA: 6s \n",
      "Epoch 38/100\n",
      "132506/132506 [==============================] - 9s - loss: 0.0656 - acc: 0.9822     - ETA: 9s - loss: 0.0659  - ETA: 8s - loss: 0.07 - ETA: 7s  - ETA: 5s - loss: 0.0673 - acc: 0.982 - ETA: 5s - loss: 0.0669 - acc - ETA: 5s - loss: 0.0668  - ETA: 4s - loss: 0.0675 - acc: 0.9 - ETA: 4s - loss: 0.067  - ETA: 2s - loss - ETA: 0s - loss: 0.0665 - acc: 0 - ETA: 0s - loss: 0.0662 - acc: 0.982 - ETA: 0s - loss: 0.0662\n",
      "Epoch 39/100\n",
      "132506/132506 [==============================] - 9s - loss: 0.0652 - acc: 0.9820     - ETA: 3s - loss: 0.0667 - acc: - ETA: 2s - loss: 0.066 - ETA: 1s - loss: 0.0656 - acc: - ETA: 1s - loss: 0.0658 - acc: 0.98 - ETA: 1s - loss: 0.0658 - a - ETA: 0s - loss: 0.0\n",
      "Epoch 40/100\n",
      "132506/132506 [==============================] - 9s - loss: 0.0651 - acc: 0.9824     - ETA: 8s - loss: 0.0659 - acc: - ETA: 8s - los - ETA: 6s - loss: 0.0695 - acc:  - ETA: 6s - loss: 0.06 - ETA: 5s - loss: 0.0661 - acc: 0.98 - ETA: 5s - loss: 0.0 - ETA: 4s - loss: 0.0635 - acc: 0.98 - ETA:  - ETA: 3s - loss: 0.0644 - a - ETA: 2s - loss: 0.0652 - - ETA: 2s - loss: 0.0642 - acc:  - ETA: 1s - loss: 0.0 - ETA: 0s - loss: 0.0653 - acc: 0 - ETA: 0s - loss: 0.0651 - acc: 0 - ETA: 0s - loss: 0.0653 - acc:\n",
      "Epoch 41/100\n",
      "132506/132506 [==============================] - 9s - loss: 0.0643 - acc: 0.9823     - ETA: 9s - l - ETA: 4s - loss:  - ETA: 3s - loss: 0.0664 - acc: - ETA: 2s - loss: 0.0665  - ETA: 2s - loss: 0.0662 - ETA: 1s - loss: 0.065 - ETA: 0s - loss: 0.0645\n",
      "Epoch 42/100\n",
      "132506/132506 [==============================] - 9s - loss: 0.0649 - acc: 0.9820     - ETA: 7s - loss: 0.0645 - acc - ETA: 6s - loss: 0.0630 - acc: - ETA: 4s - loss: 0 - ETA: 3s - loss:  - ETA: 2s - loss: 0.06 - ET\n",
      "Epoch 43/100\n",
      "132506/132506 [==============================] - 9s - loss: 0.0644 - acc: 0.9820     - ETA: 9s - loss: - ETA: 7s - loss: 0.0679 - acc: 0.982 - ETA: 7s - loss: 0.0679 - a - ETA: 7s - loss: 0.0640 - acc: 0 - ETA: 6s - los - ETA: 1s - loss: 0.0635 - acc: - ETA: 1s - loss: 0.0635 - acc: 0 - ETA: 1s - - ETA: 0s - loss: 0.0644 - acc: 0.982 - ETA: 0s - loss: 0.0646 - acc: 0.982\n",
      "Epoch 44/100\n",
      "132506/132506 [==============================] - 10s - loss: 0.0644 - acc: 0.9823    - ETA: 9s - loss: 0.0662 - acc: 0.9 - ETA: 9s - loss: 0.0658 - acc:  - ETA: 8s - loss: 0.0651 - acc: 0.9 - ETA: 4s - loss: 0.0652 - - ETA: 3s - loss: - ETA: 2s - loss: \n",
      "Epoch 45/100\n",
      "132506/132506 [==============================] - 9s - loss: 0.0644 - acc: 0.9825       ETA: 10s - loss: 0.0682 - acc:  - ETA: 10s - loss: 0.0603 - ac - ETA: 9s - loss: 0.0564 - acc: 0.98 - ETA: 9s - loss: 0.0576 - ac - ETA: 8s - loss: 0.0589 - acc: 0.9 - ETA: 8s - loss: 0.0606 - ac - ETA: 7s - loss: 0  - ETA: 4 - ETA: 3s - loss: 0.0638 - acc: - ETA: 2s - loss: 0.06  - ETA: 0s - loss: 0.0644 - acc: 0.98\n",
      "Epoch 46/100\n",
      "132506/132506 [==============================] - 9s - loss: 0.0637 - acc: 0.9826     - ETA: 4s - los - ETA:  - ETA: 1s - loss: 0.0637 - acc: 0.982 - ETA: 1s - loss: 0.0636 - acc:  - ETA: 1s - loss: 0.0635 - acc: 0.982 - ETA: 1s - loss: 0.0635 - acc: 0.982 - ETA: 1s - loss: 0.0633 - - ETA: 0s - loss: 0.0630 - a\n",
      "Epoch 47/100\n",
      "132506/132506 [==============================] - 9s - loss: 0.0638 - acc: 0.9823     - ETA: 6s - loss: 0.05 - ETA: 6s - loss - ETA: 1s \n",
      "Epoch 48/100\n",
      "132506/132506 [==============================] - 9s - loss: 0.0633 - acc: 0.9825     - ET - ETA: 7s - - ET - ETA: 4s - loss: 0.0642 -  - ETA: 3s - loss: 0.0638 - acc: 0.982 - ETA: 3s - loss: 0.0636 - acc: - ETA: 3s - loss: 0 - ETA: 2s - loss: 0.0633 - - ETA: 1s - loss: 0.0632 - acc - ETA: 1s - loss: 0.0636 - ac - ETA: 0s - loss: 0.0633 - - ETA: 0s - loss: 0.0634 - acc: 0.982 - ETA: 0s - loss: 0.0633 - acc: 0.982 - ETA: 0s - loss: 0.0631 - acc: 0.98\n",
      "Epoch 49/100\n",
      "132506/132506 [==============================] - 10s - loss: 0.0637 - acc: 0.9825    - ETA: 5s - loss: 0.0621 - acc: 0.98 - ETA: 5s - loss: 0.06 - ETA: 4s - loss: 0.0636 - ac - ETA: 4s - loss: 0.0 - ETA: 3s - loss: 0.0632 - acc: 0.982 - ETA: 3s - loss: 0.0632 - ac - E - ETA: 1s - loss: 0.0638 - acc: 0.9 - ETA: 1s - loss: 0.0639  - ETA: 0s - loss: 0.06\n",
      "Epoch 50/100\n",
      "132506/132506 [==============================] - 9s - loss: 0.0632 - acc: 0.9825     5 ETA: 9s - loss: 0.0691 - - ETA: 9s - loss: 0 - ETA: 8s - los - ETA: 7s - loss: 0.0581 - acc: 0.9 - ETA: 7s - loss: 0.0585 - acc: 0 - ETA: 6s - loss: 0.0584 - acc: 0.9 - ETA: 6s - loss: 0.0589 - acc: 0 - ETA: 6s - loss: 0 - ETA: 5s - loss: - ETA: 4s - - ETA: 2s - loss: 0.0610 - acc: 0.9 - ETA: - ETA: 0s - loss: 0\n",
      "Epoch 51/100\n",
      "132506/132506 [==============================] - 10s - loss: 0.0635 - acc: 0.9826      ETA: 10s - loss: 0.0610 -  - E - ETA:\n",
      "Epoch 52/100\n",
      "132506/132506 [==============================] - 10s - loss: 0.0632 - acc: 0.9826      ETA: 1 - ETA: 2s - loss: 0.0614 - a - ETA: 2s - loss: 0.0614 - ac - ETA: 1s - loss: 0.0615 - a - ETA: 1s - loss\n",
      "Epoch 53/100\n",
      "132506/132506 [==============================] - 10s - loss: 0.0633 - acc: 0.9827    - ETA: 9s - loss: 0.063 - ETA: 8s - - ETA: 7s - loss: 0.060 - ETA: 6s - l - ETA: 5s - loss: 0.0617 - acc - ETA: 4s - loss: 0.0616 - acc  - ETA: 0s - loss: 0.0632 - acc: 0.982 - ETA: 0s - loss: 0.0630 - acc: 0\n",
      "Epoch 54/100\n",
      "132506/132506 [==============================] - 9s - loss: 0.0634 - acc: 0.9828       ETA: 11s - loss: 0.0698 - a - ETA: 10s - loss:  - ETA: 8s - loss: 0.0656 - - ETA: 7s - loss: 0.0676 - a - ETA: 7s - loss: 0.0675 - acc: 0.98 - ETA: 7s - l - ETA: 5s - loss: 0.0661 - acc:  - ETA: 5s - loss: 0.065 - ETA: 4s - loss: 0.0637 - acc: - ETA: - ETA - ETA: 0s - loss: 0. - ETA: 0s - loss: 0.0633 - acc: 0.982 - ETA: 0s - loss: 0.0634 - acc: 0.982\n",
      "Epoch 55/100\n",
      "132506/132506 [==============================] - 9s - loss: 0.0632 - acc: 0.9827     - ETA: 8s - loss: 0. - ETA: 7 - ETA: 1 - ETA: 0s - loss: 0.0634 - acc: 0\n",
      "Epoch 56/100\n",
      "132506/132506 [==============================] - 9s - loss: 0.0632 - acc: 0.9824     - ETA: 3s -  - ETA: 2s - lo - ETA: 0s - loss: 0.0627 - acc: 0.982 - ETA: 0s - loss: 0\n",
      "Epoch 57/100\n"
     ]
    },
    {
     "name": "stdout",
     "output_type": "stream",
     "text": [
      "132506/132506 [==============================] - 9s - loss: 0.0629 - acc: 0.9826     - ETA: 8s - loss: 0.0594 - acc:  - ETA: 7s - loss: 0.0 - ETA: 6s - loss:  - ETA: 5s - loss: - ETA: 4s - loss: 0.0 - ETA: 4s - loss: 0 - ETA: 3s - loss: 0.0620 - acc: 0.982 - ETA: 3s - loss: 0.0621 - acc: 0.9 - ETA: 0s - loss: 0.0630 - a - ETA: 0s - loss: 0.0624 - acc:\n",
      "Epoch 58/100\n",
      "132506/132506 [==============================] - 9s - loss: 0.0632 - acc: 0.9828     - ETA: 7s - loss: 0.0636 - acc: 0.9 - ETA: 7s - loss: 0.0644 - acc: 0.9 - ETA: 7s - loss: 0.065 - ETA:  - ETA: 5s - loss: 0.06 - ETA: 1s - loss:\n",
      "Epoch 59/100\n",
      "132506/132506 [==============================] - 11s - loss: 0.0626 - acc: 0.9828    - ETA: 7s - loss: 0.0582 - a - ETA: 7s - loss: 0.0577 - acc - ETA: 7s - loss - ETA: 3s - loss: 0.0632 - - ETA: 3s - loss: 0.0631  - ETA: 2s - loss: 0. - ETA: 1s - loss: 0.0630 -  - ETA: 0s - loss: 0.0\n",
      "Epoch 60/100\n",
      "132506/132506 [==============================] - 10s - loss: 0.0626 - acc: 0.9828    - ETA: 7s - - ETA: 6s - loss: 0.0655 - acc: - E - ETA: 4s - loss: 0.0631 - acc: 0.9 - ETA: 4s - loss: 0. - ETA: 3s - loss: 0.0621 - acc: - ETA: 3s - loss: 0.0621 - acc: 0 -  - ETA: 1s - loss: 0.0614 - acc: 0.983 - ETA: 1s - lo\n",
      "Epoch 61/100\n",
      "132506/132506 [==============================] - 9s - loss: 0.0627 - acc: 0.9827     - ETA: 5s - loss: 0.0611 - acc - ETA: 4s - loss: 0.0602 - acc:  - ETA: 4s - loss: 0.0612 - acc: 0.982 - ETA: 4s - l - ETA: 0s - loss: 0.0633 - acc - ETA: 0s - loss: 0.0629 - \n",
      "Epoch 62/100\n",
      "132506/132506 [==============================] - 9s - loss: 0.0627 - acc: 0.9826     - ETA: 7s - loss: 0.0681 - acc: - ETA: 7s -  - ETA: 6s - loss: 0.0 - ETA: 5s - los - ETA: 4s - loss: 0. - ETA: 3s - loss: 0.0642 - - ETA: 3s - loss: 0.0640 - acc: 0 - ETA: 3s -  - E\n",
      "Epoch 63/100\n",
      "132506/132506 [==============================] - 9s - loss: 0.0627 - acc: 0.9830     - ETA: 7s - loss: 0.0631 - a - ETA: 7s - loss: 0.0615 -  - ETA: 6s - loss: 0.0619 - acc:  - ETA: 6s - loss:  - ETA: 5s - loss: 0.0634 - acc: - ETA: 5s - loss: 0.0637 - acc: 0 - ETA: 4s - loss: 0.0 - ETA: 4s - loss: 0.0 - ETA: 3s - - ETA: 1s - loss: 0.0635 - acc: 0.982 \n",
      "Epoch 64/100\n",
      "132506/132506 [==============================] - 10s - loss: 0.0626 - acc: 0.9826    - ETA: 1s - loss: 0.0627 -  - ETA: 0s - loss: 0.\n",
      "Epoch 65/100\n",
      "132506/132506 [==============================] - 10s - loss: 0.0625 - acc: 0.9830    - ETA: 8s - loss: 0.0\n",
      "Epoch 66/100\n",
      "132506/132506 [==============================] - 11s - loss: 0.0627 - acc: 0.9827    - ETA: 5s - lo - ETA: 3s - loss: 0. - ETA: 0s - loss: 0.0623 - a\n",
      "Epoch 67/100\n",
      "132506/132506 [==============================] - 9s - loss: 0.0622 - acc: 0.9830     - ETA: 8s - loss: 0.0655 - acc: 0.9 - ETA: 8s - loss: 0.066 - ETA: 2s - loss: 0.0621 - - ETA: 1s - loss: 0.0 - ETA: 0s - loss: 0.0621 - acc: 0.9 - ETA: 0s - loss: 0.0623 - ac\n",
      "Epoch 68/100\n",
      "132506/132506 [==============================] - 9s - loss: 0.0619 - acc: 0.9829     - ETA: 8s - ETA: 7s - loss: 0.0 - ETA: 6s - loss: 0 - ETA: 5s - l - ETA: 4s - l - ETA: 3s - loss: 0.0620 - acc: 0 - ET - ETA: 1s - loss\n",
      "Epoch 69/100\n",
      "132506/132506 [==============================] - 9s - loss: 0.0618 - acc: 0.9831     - ETA: 8s - loss: 0.0485  - ETA: 7s - loss: 0.0577 -  - ETA: 7s - loss: 0.0565 - - ET - ETA: 5s - loss: 0.0616  - ETA: 4s - loss: 0.0619 - acc: 0.9 - ETA: 4s - loss: 0.0611 - acc:  - ETA: 4s - loss: 0.0611 -\n",
      "Epoch 70/100\n",
      "132506/132506 [==============================] - 9s - loss: 0.0614 - acc: 0.9830     - ETA: 7s - loss: 0.0612 - acc: - ETA: 7s - l - ETA: 5s - loss: 0.0626 - acc - ETA: 5s - loss: 0.0644 - a - ETA: 5s - loss: 0 - E - ETA: 0s - loss: 0.0609 -\n",
      "Epoch 71/100\n",
      "132506/132506 [==============================] - 9s - loss: 0.0622 - acc: 0.9825     - ETA: 1s - loss: 0.0621 -  - ETA: 1s - loss: 0.0626 - acc - ETA: 0s - loss: 0.0626 - acc: 0.982 - ETA: 0s - loss: 0.0\n",
      "Epoch 72/100\n",
      "132506/132506 [==============================] - 9s - loss: 0.0621 - acc: 0.9829     - ETA: 8s - loss: 0.0561 - acc: 0.9 - ETA: 8s - loss: 0.0550 - acc:  - ETA: 8s - loss: 0.0556 - ETA: 7s - loss: 0.0606 - ETA: 6s - loss: 0.0608 - ETA: 6s - loss: 0.0605 - ac - ETA: 5s - loss: 0.0618 - - ETA: 3s -  - ETA: 1s - loss: 0.0620 - acc: 0.982 - ETA: 1s - loss: - ETA: 0s - loss: \n",
      "Epoch 73/100\n",
      "132506/132506 [==============================] - 9s - loss: 0.0618 - acc: 0.9831     - ETA: 9s - loss: - ETA: 8s - loss: 0.0584 - ET - ETA: 5s - loss: 0.0614 - acc: 0.9 - ETA: 5s - los - ETA: 4s - loss: 0.0607 - ac - ETA: 2s -  - ETA: 0s - loss: 0.0 - ETA: 0s - loss: 0.0617 - acc: 0.9\n",
      "Epoch 74/100\n",
      "132506/132506 [==============================] - 9s - loss: 0.0617 - acc: 0.9827     - ETA: 8s - loss: 0.0651  - ETA: 8s - loss: 0.0665 - acc: 0.982 - ETA: 8s - loss: 0.0665 - acc: 0.982 - ETA: 7s - loss: 0.0668 - acc: 0.981 - ETA: 7s - loss: 0.0668 - acc: 0 - ETA: 5s - loss: 0.0598 -  - ETA: 5s - loss: 0.0600 - acc:  - ETA: 4s - loss: 0.0601 - acc: 0.982 - ETA: 4s - loss: 0.0603 - acc: 0.982 - ETA: 4s - loss: 0.0602 - acc: 0 - ETA: 4s - loss: 0.0600 - acc: 0.98 - ETA: 4s - ETA: 2s - loss: - ETA: 1s - loss: 0.0614 - acc: 0.982 - ETA: 1s - loss: 0.0614  - ETA: 1s - loss: 0.06 - ETA: 0s - loss: 0.0614 - acc: 0 - ETA: 0s - loss: 0.0618 - acc: 0.98\n",
      "Epoch 75/100\n",
      "132506/132506 [==============================] - 9s - loss: 0.0613 - acc: 0.9833     - ETA: 7s - - ETA: 6s - loss: 0.0598 -  - ETA: 6s - loss: 0.0620 - a - ETA: 5s - ETA: 4s - los - ETA: 2s - loss: 0.0622 - acc: - ETA: 2s - loss: 0.0617 - - ETA: 1s - loss: 0.0615 - - ETA: 1s - loss: 0.06 - ETA: 0s - loss: 0.0609 -\n",
      "Epoch 76/100\n",
      "132506/132506 [==============================] - 9s - loss: 0.0615 - acc: 0.9830     -  - ETA: 4s - loss:  - ETA: 1s - loss: 0. - ETA: 0s - loss: 0.0596 - acc - ETA: 0s - loss: 0.0603 - acc: 0.983 - ETA: 0s - loss: 0.0603 - acc: - ETA: 0s - loss: 0.0613 - acc: 0.98\n",
      "Epoch 77/100\n",
      "132506/132506 [==============================] - 9s - loss: 0.0617 - acc: 0.9829     - ETA: 9s - loss: - ETA: 8s - loss: 0.0556 - acc:  - ETA: 7s - loss: 0.0585 - ETA: 6s - loss: 0.0591 - acc: 0.9 - ETA: 6s - loss: 0.0601 - acc: 0 - ETA: 6s - loss: 0.0619 - acc: 0.98 - ETA: 6s - loss: 0.0613 - ETA: 5s - loss: 0.0596 - a - ETA: 5s - lo - ETA: 4s - loss: 0.0609 - acc: 0.98 - ETA: 4s - loss - ETA: 2s - loss: 0.0607 - acc: 0.98 - ETA: 2s - loss: 0.0604 - ETA:  - ETA: 0s - loss: 0.0612 - acc: 0 - ETA: 0s - loss: 0.0614 - acc:\n",
      "Epoch 78/100\n",
      "132506/132506 [==============================] - 9s - loss: 0.0612 - acc: 0.9833     - ETA: 6s - loss: 0.0636 - acc:  - ETA: 6s - loss: 0.0625 - acc: 0.98 - ETA: 6s - loss: 0.0 - ETA: 5s - ETA: 4s - - ETA: 2s - loss: 0.0611 - acc: 0.983 - ETA: 2s - loss: 0.0612 - acc:  - ETA: 2s - loss: 0.0611  - ETA: 1s - loss: 0.0620 - acc: - ETA: 1s - loss: 0.0621 - - ETA: 0s - loss: 0.0619 - acc: 0.983 - ETA: 0s - loss: 0.0\n",
      "Epoch 79/100\n",
      "132506/132506 [==============================] - 9s - loss: 0.0612 - acc: 0.9831     - ETA: 9s - loss: 0. - ETA: 8s - loss:  - ETA: 7s - loss: 0 - ETA: 4s - loss: 0.0619 - a - ETA: 3s - loss: 0.0616 - acc:  - ETA: 3s - loss: 0.0614 - acc: 0 - ETA: 3s - - ETA: 2s - lo - ETA: 0s - loss: 0.06\n",
      "Epoch 80/100\n",
      "132506/132506 [==============================] - 9s - loss: 0.0617 - acc: 0.9829     - ETA: 8s - loss: 0.0742 - a - ETA: 8s - loss: 0.0668 - acc: - ETA: 5s - loss - ETA: 4s - loss: 0.0629 - acc: 0.98 - ETA: 4s - ETA - ETA: 1s - loss: 0.0620 - acc: 0.982 - ETA: 1s - loss: 0.0618 -  - ETA: 1s - loss: 0.0618 - acc: 0.983 - ETA: 0s - loss: 0.0618 - acc: 0.98 - ETA: 0s - loss: 0\n",
      "Epoch 81/100\n",
      "132506/132506 [==============================] - 9s - loss: 0.0615 - acc: 0.9828      - ETA: 9s - loss: 0.0635 - acc - ETA: 9 - ETA: 7s - loss: 0.0555 -  - ETA: 6s - loss: 0.05 - ETA: 5s - loss:  - ETA: 4s - loss: 0.0604 - a - ETA: 4s - loss: 0 - ETA: 3s - loss: 0.0603 - ac - E - ETA: 1s - l\n",
      "Epoch 82/100\n"
     ]
    },
    {
     "name": "stdout",
     "output_type": "stream",
     "text": [
      "132506/132506 [==============================] - 9s - loss: 0.0610 - acc: 0.9831     - ETA: 6s - loss: 0.0587 - acc:  - ETA: 6s - loss: 0.0594 - acc:  - ETA: 6s - loss: 0.0598  - ETA: 5s - loss: 0.0593 - ac - ETA: 5s - loss: 0.0597 - acc - ETA: 4s - loss: 0.0595  - ETA: 3s - lo - ETA: 2s - loss: 0.0597 - acc: 0.983 - ETA: 2s - loss: 0.0598 - acc: 0.98 - ETA: 2s - loss: 0. - ETA: 1s - loss: - ETA: 0s - loss: 0.0608 - acc: - ETA: 0s - loss: 0.0611 - acc: 0 - ETA: 0s - loss: 0.0612 - acc: 0\n",
      "Epoch 83/100\n",
      "132506/132506 [==============================] - 9s - loss: 0.0611 - acc: 0.9830     - ETA: 9s - loss - ETA: 8s -  - ETA: 7s - loss: 0\n",
      "Epoch 84/100\n",
      "132506/132506 [==============================] - 9s - loss: 0.0613 - acc: 0.9831     - - ETA: 6s - loss: 0.0554 - - ETA: 5s - - ETA: 2s - loss: 0.0606 - acc: 0.983 - ETA: 2s - loss: 0.0607 \n",
      "Epoch 85/100\n",
      "132506/132506 [==============================] - 9s - loss: 0.0611 - acc: 0.9831     - ETA: 8s - loss: 0.060 - ETA: 7s - loss: 0 - ETA: 6s - loss: 0.0624 - ac - ETA: 5s - loss: 0.0623 - acc: 0.983 - ETA: 5s - loss: 0.0623 - acc: - ETA\n",
      "Epoch 86/100\n",
      "132506/132506 [==============================] - 9s - loss: 0.0609 - acc: 0.9833     - ETA: 8s - loss: 0.0627 - acc: - ETA: 7s - loss: 0.0624 - acc: 0  - ETA: 5s - loss: - ETA: 4s - loss: 0.0603 - acc:  - ETA: 3s - loss: 0.0598 - acc:  - ETA: 3s - loss: 0.0597 - ETA: 2s - loss: 0. - ETA: 1s - loss: 0.0603 - acc: 0.98 - ETA: 1s - loss: 0.06 - ETA: 0s - loss: \n",
      "Epoch 87/100\n",
      "132506/132506 [==============================] - 9s - loss: 0.0605 - acc: 0.9830     -  - ETA: 7s - loss: 0.0580 - - ETA: 6s - loss: 0.0607 - acc: 0.9 - ETA: 6s - loss: 0.0603 -  - ETA: 5s - loss: 0.0601 - acc: 0.983 - ETA: 5s - loss: 0.0600 - acc: 0.98 - ETA: 5s - loss - ETA: 4s - loss: 0.0587 - acc: - ETA: 4s - loss - ETA: 1s - loss: 0.060 - ETA: 0s - loss: 0.0610 - \n",
      "Epoch 88/100\n",
      "132506/132506 [==============================] - 9s - loss: 0.0609 - acc: 0.9831     - ETA: 5s - loss: 0.0609 - a - ETA: 5s - loss: 0.0591 - - ETA: 4s - loss: 0.0594 - acc - ETA: 4s - loss: 0.0598 - ac - ETA: 3s - loss: 0.0602 - acc: 0.983 - ETA: 3s - loss: 0.0599 - a - ETA: 3s - loss: 0.0599 - acc: - ETA: 3s - loss: 0.0600 - acc: 0.9 - ETA: 2s - lo - ETA: 1s - loss: 0 - ETA: 0s - loss: 0.0609 - ETA: 0s - loss: 0.0609 - acc: 0.983 - ETA: 0s - loss: 0.0610 - acc: 0.983\n",
      "Epoch 89/100\n",
      "132506/132506 [==============================] - 9s - loss: 0.0607 - acc: 0.9832      - ETA: 7s - loss: 0.0575 - a - ETA: 6s - loss: 0.0582 - acc: 0.9 - ETA: 6s - loss: 0. - ETA: 3s - ETA: 2s - loss: 0.0593 - ETA: 1s - loss: 0.0594 - acc: - ETA: 1s - loss: 0.0601 - ETA: 0s - loss: 0.0601 - acc:  - ETA: 0s - loss: 0.0608 - acc: \n",
      "Epoch 90/100\n",
      "132506/132506 [==============================] - 9s - loss: 0.0609 - acc: 0.9830     - ETA: 8s - loss: 0.0605 - acc: 0.9 - ETA: 8s - loss: 0.0617 - acc: 0.9 - ETA: 8 - ETA: 6s - loss: 0.0612 - a -  - ETA: 4s - loss: 0.0601  - ETA: 3s - loss: 0.06 - ETA: 2s - loss: \n",
      "Epoch 91/100\n",
      "132506/132506 [==============================] - 9s - loss: 0.0607 - acc: 0.9833     - ETA: 9s - loss: 0.0587 - acc: - ETA: 8s - loss: 0.0604  - ETA: 8s - loss: 0.0596 - a - ETA: 7s - loss: 0.0618 - acc: 0 -  - ETA: 1s  - ETA: 0s - loss: 0.0604 - acc: 0.9\n",
      "Epoch 92/100\n",
      "132506/132506 [==============================] - 9s - loss: 0.0607 - acc: 0.9835     - ETA: 6s  - ETA: 4s - loss: 0.0613 - acc: 0.983 - ETA: 4s - loss: 0.0610 - ETA: 4s - loss: 0.0613 - ac - ETA: 3s - loss:  - E - ETA: 1s - loss:\n",
      "Epoch 93/100\n",
      "132506/132506 [==============================] - 9s - loss: 0.0601 - acc: 0.9829     - ETA: 9s - loss: 0.0495 - acc: 0.98 - ETA: 9s - loss: 0.0525 - acc: - ETA: 8s - loss: 0.0580 - - ETA: 2s - l - ETA: 0s - loss: 0\n",
      "Epoch 94/100\n",
      "132506/132506 [==============================] - 9s - loss: 0.0605 - acc: 0.9834     - ETA: 8s - loss: 0.0615 - acc: 0.98 - ETA: 8s - los - ETA: 7s - loss: 0.0583 - acc: 0.98 - ETA:  - ETA: 5s - loss: 0.0588 - acc: 0.9 - ETA: 5s - loss: 0.0590 - acc:  - ETA: 5s - loss: 0.0606 - acc:  - ETA: 5s - loss: 0.0608 - acc: 0 - ETA: 4s - loss: 0.06 - ETA: 4s -  - ETA: 2s - loss: 0. - ETA: 1s - lo - ETA: 0s - loss: 0.0611 - - ETA: 0s - loss: 0.0606 - acc: 0\n",
      "Epoch 95/100\n",
      "132506/132506 [==============================] - 9s - loss: 0.0601 - acc: 0.9835     \n",
      "Epoch 96/100\n",
      "132506/132506 [==============================] - 10s - loss: 0.0601 - acc: 0.9837    - ETA: 6s - loss: 0.0582 - acc: 0.984 - ETA: 5s - loss: 0.0586 - acc: 0.98 - ETA: 5s - lo - ETA: 4s - loss: 0.0571 - ac - ETA: 4s - loss: 0.0575 - a - ETA: 3s - loss: 0.0569 - acc:  - ETA: 3s - loss: 0.0575 - acc:  - ETA: 2s - loss: 0.0580 - a - E - ETA: 0s - loss: 0.05\n",
      "Epoch 97/100\n",
      "132506/132506 [==============================] - 9s - loss: 0.0605 - acc: 0.9835     -\n",
      "Epoch 98/100\n",
      "132506/132506 [==============================] - 9s - loss: 0.0599 - acc: 0.9836     - ETA: 8s - loss: 0.0619 - acc: 0.983 - ETA: 8 - ETA: 6s - lo - ETA: 5s - loss: 0.0593 - ac - ETA: 4s - loss - ETA: 1s - loss: 0.0587 - acc:  - ETA: 1s - loss: 0 - ETA: 0s - loss: 0.0593 - a\n",
      "Epoch 99/100\n",
      "132506/132506 [==============================] - 9s - loss: 0.0603 - acc: 0.9832     - ETA: 9s - loss: 0.0615 - acc:  - ETA: 8s - loss: 0.0595 - acc - ETA: 8s - ETA: 5s - loss: 0.0614  - ETA: 4s - loss: 0.0607 - acc: 0.98 - ETA: 4s - loss: 0.0609 - acc: 0.9 - ETA:  - ETA: 2s - loss: 0.0606 - acc: 0 - ETA: 2s - loss: 0.0607 - acc - ETA: 1s - loss: 0.0606 - acc: 0.983 - ET\n",
      "Epoch 100/100\n",
      "132506/132506 [==============================] - 9s - loss: 0.0601 - acc: 0.9832     - ETA: 8s - los - ET - ETA: 5s - loss: 0.0596 - acc: 0 - ETA: 5s - loss: - ETA: 2s - loss: 0.0602 - acc: 0.9 - ETA: 2s - loss - ETA: 0s - loss: 0.0597 - acc: 0.98 - ETA: 0s - loss: 0.0599 - a - ETA: 0s - loss: 0.0602 - acc:\n"
     ]
    },
    {
     "data": {
      "text/plain": [
       "<keras.callbacks.History at 0xb55b3abba8>"
      ]
     },
     "execution_count": 29,
     "metadata": {},
     "output_type": "execute_result"
    }
   ],
   "source": [
    "clf_ann = Sequential()\n",
    "\n",
    "# First Hidden Layer\n",
    "clf_ann.add(Dense(output_dim = 11, init = 'uniform', activation = 'relu', input_dim = 17))\n",
    "\n",
    "# Second Hidden Layer\n",
    "clf_ann.add(Dense(output_dim = 11, init = 'uniform', activation = 'relu'))\n",
    "\n",
    "# Output Layer\n",
    "clf_ann.add(Dense(output_dim = 5, init = 'uniform', activation = 'softmax'))\n",
    "\n",
    "# Compile the ANN\n",
    "clf_ann.compile(optimizer = 'adam', loss = 'categorical_crossentropy', metrics = ['accuracy'])\n",
    "\n",
    "# Train the ANN on the Train Data\n",
    "clf_ann.fit(X_train, Y_train, batch_size = 10, nb_epoch = 100)"
   ]
  },
  {
   "cell_type": "code",
   "execution_count": 30,
   "metadata": {
    "collapsed": true
   },
   "outputs": [],
   "source": [
    "# Test the ANN on the Test Data\n",
    "Y_pred = clf_ann.predict(X_test)\n",
    "Y_pred_class = np.argmax(Y_pred, axis = 1)\n",
    "Y_test_class = np.argmax(Y_test, axis = 1)"
   ]
  },
  {
   "cell_type": "markdown",
   "metadata": {},
   "source": [
    "## Check the Accuracy"
   ]
  },
  {
   "cell_type": "code",
   "execution_count": 31,
   "metadata": {
    "collapsed": true
   },
   "outputs": [],
   "source": [
    "from sklearn.metrics import accuracy_score, confusion_matrix"
   ]
  },
  {
   "cell_type": "code",
   "execution_count": 32,
   "metadata": {},
   "outputs": [
    {
     "data": {
      "text/plain": [
       "0.98188788601442933"
      ]
     },
     "execution_count": 32,
     "metadata": {},
     "output_type": "execute_result"
    }
   ],
   "source": [
    "accuracy_score(Y_test_class, Y_pred_class)"
   ]
  },
  {
   "cell_type": "code",
   "execution_count": 33,
   "metadata": {},
   "outputs": [
    {
     "data": {
      "text/plain": [
       "array([[10155,     1,     0,    27,     5],\n",
       "       [    0,  2299,    45,    51,    13],\n",
       "       [    0,    13,  9395,    16,    24],\n",
       "       [   14,    91,    78,  2240,    21],\n",
       "       [    1,    29,   144,    27,  8438]], dtype=int64)"
      ]
     },
     "execution_count": 33,
     "metadata": {},
     "output_type": "execute_result"
    }
   ],
   "source": [
    "confusion_matrix(Y_test_class, Y_pred_class)"
   ]
  },
  {
   "cell_type": "code",
   "execution_count": null,
   "metadata": {
    "collapsed": true
   },
   "outputs": [],
   "source": []
  }
 ],
 "metadata": {
  "kernelspec": {
   "display_name": "Python [default]",
   "language": "python",
   "name": "python3"
  },
  "language_info": {
   "codemirror_mode": {
    "name": "ipython",
    "version": 3
   },
   "file_extension": ".py",
   "mimetype": "text/x-python",
   "name": "python",
   "nbconvert_exporter": "python",
   "pygments_lexer": "ipython3",
   "version": "3.5.4"
  }
 },
 "nbformat": 4,
 "nbformat_minor": 2
}
