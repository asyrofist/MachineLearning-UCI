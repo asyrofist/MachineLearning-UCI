{
 "cells": [
  {
   "cell_type": "markdown",
   "metadata": {},
   "source": [
    "## Initialization"
   ]
  },
  {
   "cell_type": "code",
   "execution_count": 1,
   "metadata": {},
   "outputs": [
    {
     "name": "stderr",
     "output_type": "stream",
     "text": [
      "Using Theano backend.\n"
     ]
    }
   ],
   "source": [
    "import pandas as pd\n",
    "import numpy as np\n",
    "import keras"
   ]
  },
  {
   "cell_type": "markdown",
   "metadata": {},
   "source": [
    "## Importing the Data"
   ]
  },
  {
   "cell_type": "code",
   "execution_count": 2,
   "metadata": {},
   "outputs": [
    {
     "data": {
      "text/plain": [
       "(165633, 19)"
      ]
     },
     "execution_count": 2,
     "metadata": {},
     "output_type": "execute_result"
    }
   ],
   "source": [
    "dataset = pd.read_csv('Dataset.csv', delimiter = ';')\n",
    "dataset.shape"
   ]
  },
  {
   "cell_type": "code",
   "execution_count": 3,
   "metadata": {},
   "outputs": [
    {
     "data": {
      "text/html": [
       "<div>\n",
       "<style>\n",
       "    .dataframe thead tr:only-child th {\n",
       "        text-align: right;\n",
       "    }\n",
       "\n",
       "    .dataframe thead th {\n",
       "        text-align: left;\n",
       "    }\n",
       "\n",
       "    .dataframe tbody tr th {\n",
       "        vertical-align: top;\n",
       "    }\n",
       "</style>\n",
       "<table border=\"1\" class=\"dataframe\">\n",
       "  <thead>\n",
       "    <tr style=\"text-align: right;\">\n",
       "      <th></th>\n",
       "      <th>user</th>\n",
       "      <th>gender</th>\n",
       "      <th>age</th>\n",
       "      <th>how_tall_in_meters</th>\n",
       "      <th>weight</th>\n",
       "      <th>body_mass_index</th>\n",
       "      <th>x1</th>\n",
       "      <th>y1</th>\n",
       "      <th>z1</th>\n",
       "      <th>x2</th>\n",
       "      <th>y2</th>\n",
       "      <th>z2</th>\n",
       "      <th>x3</th>\n",
       "      <th>y3</th>\n",
       "      <th>z3</th>\n",
       "      <th>x4</th>\n",
       "      <th>y4</th>\n",
       "      <th>z4</th>\n",
       "      <th>class</th>\n",
       "    </tr>\n",
       "  </thead>\n",
       "  <tbody>\n",
       "    <tr>\n",
       "      <th>0</th>\n",
       "      <td>debora</td>\n",
       "      <td>Woman</td>\n",
       "      <td>46</td>\n",
       "      <td>1.62</td>\n",
       "      <td>75</td>\n",
       "      <td>28.6</td>\n",
       "      <td>-3</td>\n",
       "      <td>92</td>\n",
       "      <td>-63</td>\n",
       "      <td>-23</td>\n",
       "      <td>18</td>\n",
       "      <td>-19</td>\n",
       "      <td>5</td>\n",
       "      <td>104</td>\n",
       "      <td>-92</td>\n",
       "      <td>-150</td>\n",
       "      <td>-103</td>\n",
       "      <td>-147</td>\n",
       "      <td>sitting</td>\n",
       "    </tr>\n",
       "    <tr>\n",
       "      <th>1</th>\n",
       "      <td>debora</td>\n",
       "      <td>Woman</td>\n",
       "      <td>46</td>\n",
       "      <td>1.62</td>\n",
       "      <td>75</td>\n",
       "      <td>28.6</td>\n",
       "      <td>-3</td>\n",
       "      <td>94</td>\n",
       "      <td>-64</td>\n",
       "      <td>-21</td>\n",
       "      <td>18</td>\n",
       "      <td>-18</td>\n",
       "      <td>-14</td>\n",
       "      <td>104</td>\n",
       "      <td>-90</td>\n",
       "      <td>-149</td>\n",
       "      <td>-104</td>\n",
       "      <td>-145</td>\n",
       "      <td>sitting</td>\n",
       "    </tr>\n",
       "    <tr>\n",
       "      <th>2</th>\n",
       "      <td>debora</td>\n",
       "      <td>Woman</td>\n",
       "      <td>46</td>\n",
       "      <td>1.62</td>\n",
       "      <td>75</td>\n",
       "      <td>28.6</td>\n",
       "      <td>-1</td>\n",
       "      <td>97</td>\n",
       "      <td>-61</td>\n",
       "      <td>-12</td>\n",
       "      <td>20</td>\n",
       "      <td>-15</td>\n",
       "      <td>-13</td>\n",
       "      <td>104</td>\n",
       "      <td>-90</td>\n",
       "      <td>-151</td>\n",
       "      <td>-104</td>\n",
       "      <td>-144</td>\n",
       "      <td>sitting</td>\n",
       "    </tr>\n",
       "    <tr>\n",
       "      <th>3</th>\n",
       "      <td>debora</td>\n",
       "      <td>Woman</td>\n",
       "      <td>46</td>\n",
       "      <td>1.62</td>\n",
       "      <td>75</td>\n",
       "      <td>28.6</td>\n",
       "      <td>-2</td>\n",
       "      <td>96</td>\n",
       "      <td>-57</td>\n",
       "      <td>-15</td>\n",
       "      <td>21</td>\n",
       "      <td>-16</td>\n",
       "      <td>-13</td>\n",
       "      <td>104</td>\n",
       "      <td>-89</td>\n",
       "      <td>-153</td>\n",
       "      <td>-103</td>\n",
       "      <td>-142</td>\n",
       "      <td>sitting</td>\n",
       "    </tr>\n",
       "    <tr>\n",
       "      <th>4</th>\n",
       "      <td>debora</td>\n",
       "      <td>Woman</td>\n",
       "      <td>46</td>\n",
       "      <td>1.62</td>\n",
       "      <td>75</td>\n",
       "      <td>28.6</td>\n",
       "      <td>-1</td>\n",
       "      <td>96</td>\n",
       "      <td>-61</td>\n",
       "      <td>-13</td>\n",
       "      <td>20</td>\n",
       "      <td>-15</td>\n",
       "      <td>-13</td>\n",
       "      <td>104</td>\n",
       "      <td>-89</td>\n",
       "      <td>-153</td>\n",
       "      <td>-104</td>\n",
       "      <td>-143</td>\n",
       "      <td>sitting</td>\n",
       "    </tr>\n",
       "  </tbody>\n",
       "</table>\n",
       "</div>"
      ],
      "text/plain": [
       "     user gender  age  how_tall_in_meters  weight  body_mass_index  x1  y1  \\\n",
       "0  debora  Woman   46                1.62      75             28.6  -3  92   \n",
       "1  debora  Woman   46                1.62      75             28.6  -3  94   \n",
       "2  debora  Woman   46                1.62      75             28.6  -1  97   \n",
       "3  debora  Woman   46                1.62      75             28.6  -2  96   \n",
       "4  debora  Woman   46                1.62      75             28.6  -1  96   \n",
       "\n",
       "   z1  x2  y2  z2  x3   y3  z3   x4   y4   z4    class  \n",
       "0 -63 -23  18 -19   5  104 -92 -150 -103 -147  sitting  \n",
       "1 -64 -21  18 -18 -14  104 -90 -149 -104 -145  sitting  \n",
       "2 -61 -12  20 -15 -13  104 -90 -151 -104 -144  sitting  \n",
       "3 -57 -15  21 -16 -13  104 -89 -153 -103 -142  sitting  \n",
       "4 -61 -13  20 -15 -13  104 -89 -153 -104 -143  sitting  "
      ]
     },
     "execution_count": 3,
     "metadata": {},
     "output_type": "execute_result"
    }
   ],
   "source": [
    "dataset.head()"
   ]
  },
  {
   "cell_type": "markdown",
   "metadata": {},
   "source": [
    "## Create X and Y"
   ]
  },
  {
   "cell_type": "code",
   "execution_count": 4,
   "metadata": {
    "collapsed": true
   },
   "outputs": [],
   "source": [
    "X = dataset.iloc[:, 1:18].values\n",
    "Y = dataset.iloc[:, 18].values"
   ]
  },
  {
   "cell_type": "code",
   "execution_count": 5,
   "metadata": {},
   "outputs": [
    {
     "data": {
      "text/plain": [
       "(165633, 17)"
      ]
     },
     "execution_count": 5,
     "metadata": {},
     "output_type": "execute_result"
    }
   ],
   "source": [
    "X.shape"
   ]
  },
  {
   "cell_type": "code",
   "execution_count": 6,
   "metadata": {},
   "outputs": [
    {
     "data": {
      "text/plain": [
       "(165633,)"
      ]
     },
     "execution_count": 6,
     "metadata": {},
     "output_type": "execute_result"
    }
   ],
   "source": [
    "Y.shape"
   ]
  },
  {
   "cell_type": "code",
   "execution_count": 7,
   "metadata": {},
   "outputs": [
    {
     "data": {
      "text/plain": [
       "array([['Woman', 46, 1.62, ..., -150, -103, -147],\n",
       "       ['Woman', 46, 1.62, ..., -149, -104, -145],\n",
       "       ['Woman', 46, 1.62, ..., -151, -104, -144],\n",
       "       ..., \n",
       "       ['Man', 75, 1.67, ..., -185, -80, -153],\n",
       "       ['Man', 75, 1.67, ..., -185, -84, -156],\n",
       "       ['Man', 75, 1.67, ..., -210, -88, -148]], dtype=object)"
      ]
     },
     "execution_count": 7,
     "metadata": {},
     "output_type": "execute_result"
    }
   ],
   "source": [
    "X"
   ]
  },
  {
   "cell_type": "code",
   "execution_count": 8,
   "metadata": {},
   "outputs": [
    {
     "data": {
      "text/plain": [
       "array(['sitting', 'sitting', 'sitting', ..., 'walking', 'walking',\n",
       "       'walking'], dtype=object)"
      ]
     },
     "execution_count": 8,
     "metadata": {},
     "output_type": "execute_result"
    }
   ],
   "source": [
    "Y"
   ]
  },
  {
   "cell_type": "markdown",
   "metadata": {},
   "source": [
    "## Preprocess the Data"
   ]
  },
  {
   "cell_type": "code",
   "execution_count": 9,
   "metadata": {
    "collapsed": true
   },
   "outputs": [],
   "source": [
    "from sklearn.preprocessing import LabelEncoder, OneHotEncoder, StandardScaler"
   ]
  },
  {
   "cell_type": "code",
   "execution_count": 10,
   "metadata": {
    "collapsed": true
   },
   "outputs": [],
   "source": [
    "le_Y = LabelEncoder()"
   ]
  },
  {
   "cell_type": "code",
   "execution_count": 11,
   "metadata": {
    "collapsed": true
   },
   "outputs": [],
   "source": [
    "Y = le_Y.fit_transform(Y)"
   ]
  },
  {
   "cell_type": "code",
   "execution_count": 12,
   "metadata": {},
   "outputs": [
    {
     "data": {
      "text/plain": [
       "array([0, 0, 0, ..., 4, 4, 4], dtype=int64)"
      ]
     },
     "execution_count": 12,
     "metadata": {},
     "output_type": "execute_result"
    }
   ],
   "source": [
    "Y"
   ]
  },
  {
   "cell_type": "code",
   "execution_count": 13,
   "metadata": {
    "collapsed": true
   },
   "outputs": [],
   "source": [
    "Y = Y.reshape(len(Y), 1)\n",
    "ohe_Y = OneHotEncoder(categorical_features = [0])"
   ]
  },
  {
   "cell_type": "code",
   "execution_count": 14,
   "metadata": {
    "collapsed": true
   },
   "outputs": [],
   "source": [
    "Y = ohe_Y.fit_transform(Y).toarray()"
   ]
  },
  {
   "cell_type": "code",
   "execution_count": 15,
   "metadata": {},
   "outputs": [
    {
     "data": {
      "text/plain": [
       "array([[ 1.,  0.,  0.,  0.,  0.],\n",
       "       [ 1.,  0.,  0.,  0.,  0.],\n",
       "       [ 1.,  0.,  0.,  0.,  0.],\n",
       "       ..., \n",
       "       [ 0.,  0.,  0.,  0.,  1.],\n",
       "       [ 0.,  0.,  0.,  0.,  1.],\n",
       "       [ 0.,  0.,  0.,  0.,  1.]])"
      ]
     },
     "execution_count": 15,
     "metadata": {},
     "output_type": "execute_result"
    }
   ],
   "source": [
    "Y"
   ]
  },
  {
   "cell_type": "code",
   "execution_count": 16,
   "metadata": {
    "collapsed": true
   },
   "outputs": [],
   "source": [
    "le_X = LabelEncoder()"
   ]
  },
  {
   "cell_type": "code",
   "execution_count": 17,
   "metadata": {
    "collapsed": true
   },
   "outputs": [],
   "source": [
    "X[:, 0] = le_X.fit_transform(X[:, 0])"
   ]
  },
  {
   "cell_type": "code",
   "execution_count": 18,
   "metadata": {},
   "outputs": [
    {
     "data": {
      "text/plain": [
       "array([[1, 46, 1.62, ..., -150, -103, -147],\n",
       "       [1, 46, 1.62, ..., -149, -104, -145],\n",
       "       [1, 46, 1.62, ..., -151, -104, -144],\n",
       "       ..., \n",
       "       [0, 75, 1.67, ..., -185, -80, -153],\n",
       "       [0, 75, 1.67, ..., -185, -84, -156],\n",
       "       [0, 75, 1.67, ..., -210, -88, -148]], dtype=object)"
      ]
     },
     "execution_count": 18,
     "metadata": {},
     "output_type": "execute_result"
    }
   ],
   "source": [
    "X"
   ]
  },
  {
   "cell_type": "code",
   "execution_count": 19,
   "metadata": {
    "collapsed": true
   },
   "outputs": [],
   "source": [
    "sc_X = StandardScaler()"
   ]
  },
  {
   "cell_type": "code",
   "execution_count": 20,
   "metadata": {},
   "outputs": [
    {
     "name": "stderr",
     "output_type": "stream",
     "text": [
      "C:\\Users\\user\\Anaconda3\\lib\\site-packages\\sklearn\\utils\\validation.py:444: DataConversionWarning: Data with input dtype object was converted to float64 by StandardScaler.\n",
      "  warnings.warn(msg, DataConversionWarning)\n"
     ]
    }
   ],
   "source": [
    "X = sc_X.fit_transform(X)"
   ]
  },
  {
   "cell_type": "code",
   "execution_count": 21,
   "metadata": {},
   "outputs": [
    {
     "data": {
      "text/plain": [
       "array([[ 0.79616611,  0.58668263, -0.37319438, ...,  0.46047725,\n",
       "        -0.51955844,  0.95687879],\n",
       "       [ 0.79616611,  0.58668263, -0.37319438, ...,  0.48657926,\n",
       "        -0.56963719,  1.10815332],\n",
       "       [ 0.79616611,  0.58668263, -0.37319438, ...,  0.43437524,\n",
       "        -0.56963719,  1.18379059],\n",
       "       ..., \n",
       "       [-1.25601929,  2.78631009,  0.57341349, ..., -0.45309309,\n",
       "         0.63225278,  0.5030552 ],\n",
       "       [-1.25601929,  2.78631009,  0.57341349, ..., -0.45309309,\n",
       "         0.43193779,  0.2761434 ],\n",
       "       [-1.25601929,  2.78631009,  0.57341349, ..., -1.10564333,\n",
       "         0.23162279,  0.88124153]])"
      ]
     },
     "execution_count": 21,
     "metadata": {},
     "output_type": "execute_result"
    }
   ],
   "source": [
    "X"
   ]
  },
  {
   "cell_type": "markdown",
   "metadata": {},
   "source": [
    "## Create Train and Test Data"
   ]
  },
  {
   "cell_type": "code",
   "execution_count": 22,
   "metadata": {
    "collapsed": true
   },
   "outputs": [],
   "source": [
    "from sklearn.model_selection import train_test_split"
   ]
  },
  {
   "cell_type": "code",
   "execution_count": 23,
   "metadata": {
    "collapsed": true
   },
   "outputs": [],
   "source": [
    "X_train, X_test, Y_train, Y_test = train_test_split(X, Y, test_size = 0.2, random_state = 4)"
   ]
  },
  {
   "cell_type": "code",
   "execution_count": 24,
   "metadata": {},
   "outputs": [
    {
     "data": {
      "text/plain": [
       "(132506, 17)"
      ]
     },
     "execution_count": 24,
     "metadata": {},
     "output_type": "execute_result"
    }
   ],
   "source": [
    "X_train.shape"
   ]
  },
  {
   "cell_type": "code",
   "execution_count": 25,
   "metadata": {},
   "outputs": [
    {
     "data": {
      "text/plain": [
       "(33127, 17)"
      ]
     },
     "execution_count": 25,
     "metadata": {},
     "output_type": "execute_result"
    }
   ],
   "source": [
    "X_test.shape"
   ]
  },
  {
   "cell_type": "code",
   "execution_count": 26,
   "metadata": {},
   "outputs": [
    {
     "data": {
      "text/plain": [
       "(132506, 5)"
      ]
     },
     "execution_count": 26,
     "metadata": {},
     "output_type": "execute_result"
    }
   ],
   "source": [
    "Y_train.shape"
   ]
  },
  {
   "cell_type": "code",
   "execution_count": 27,
   "metadata": {},
   "outputs": [
    {
     "data": {
      "text/plain": [
       "(33127, 5)"
      ]
     },
     "execution_count": 27,
     "metadata": {},
     "output_type": "execute_result"
    }
   ],
   "source": [
    "Y_test.shape"
   ]
  },
  {
   "cell_type": "markdown",
   "metadata": {},
   "source": [
    "## Create and train the ANN Classifier"
   ]
  },
  {
   "cell_type": "code",
   "execution_count": 28,
   "metadata": {
    "collapsed": true
   },
   "outputs": [],
   "source": [
    "from keras.models import Sequential\n",
    "from keras.layers import Dense"
   ]
  },
  {
   "cell_type": "code",
   "execution_count": 34,
   "metadata": {},
   "outputs": [
    {
     "name": "stderr",
     "output_type": "stream",
     "text": [
      "C:\\Users\\user\\Anaconda3\\lib\\site-packages\\ipykernel\\__main__.py:4: UserWarning: Update your `Dense` call to the Keras 2 API: `Dense(input_dim=17, units=11, kernel_initializer=\"uniform\", activation=\"relu\")`\n",
      "C:\\Users\\user\\Anaconda3\\lib\\site-packages\\ipykernel\\__main__.py:7: UserWarning: Update your `Dense` call to the Keras 2 API: `Dense(units=11, kernel_initializer=\"uniform\", activation=\"relu\")`\n",
      "C:\\Users\\user\\Anaconda3\\lib\\site-packages\\ipykernel\\__main__.py:10: UserWarning: Update your `Dense` call to the Keras 2 API: `Dense(units=5, kernel_initializer=\"uniform\", activation=\"softmax\")`\n",
      "C:\\Users\\user\\Anaconda3\\lib\\site-packages\\keras\\models.py:844: UserWarning: The `nb_epoch` argument in `fit` has been renamed `epochs`.\n",
      "  warnings.warn('The `nb_epoch` argument in `fit` '\n"
     ]
    },
    {
     "name": "stdout",
     "output_type": "stream",
     "text": [
      "Epoch 1/100\n",
      "132506/132506 [==============================] - 7s - loss: 0.3085 - acc: 0.8929     - ETA: 6s - loss:  - ETA: 5s - loss - ETA: 0s - loss: 0.3150 - acc\n",
      "Epoch 2/100\n",
      "132506/132506 [==============================] - 6s - loss: 0.1506 - acc: 0.9557     \n",
      "Epoch 3/100\n",
      "132506/132506 [==============================] - 7s - loss: 0.1281 - acc: 0.9633     \n",
      "Epoch 4/100\n",
      "132506/132506 [==============================] - 6s - loss: 0.1159 - acc: 0.9670     \n",
      "Epoch 5/100\n",
      "132506/132506 [==============================] - 7s - loss: 0.1061 - acc: 0.9698     - ETA: - ETA: 2s - l - ETA: 0s - loss: 0.1071 - acc: 0.969 - ETA: 0s - loss: 0.\n",
      "Epoch 6/100\n",
      "132506/132506 [==============================] - 7s - loss: 0.0985 - acc: 0.9724     - ETA: 5s - loss: 0.1024 - ac - ETA: 4s - loss\n",
      "Epoch 7/100\n",
      "132506/132506 [==============================] - 7s - loss: 0.0934 - acc: 0.9739     - ETA:  - ETA: 1s - loss: 0.092 - ETA: 0s - loss: 0.09 - ETA: 0s - loss: 0.0933 - acc: 0.9\n",
      "Epoch 8/100\n",
      "132506/132506 [==============================] - 7s - loss: 0.0899 - acc: 0.9749     - ETA: 2s - loss: 0\n",
      "Epoch 9/100\n",
      "132506/132506 [==============================] - 7s - loss: 0.0878 - acc: 0.9759     - ETA: 6s - loss: 0.0911 - ac - ETA: 5s - - ETA: 0s - loss: 0.0881 - acc\n",
      "Epoch 10/100\n",
      "132506/132506 [==============================] - 7s - loss: 0.0852 - acc: 0.9764     - ETA: 5s - loss: 0.0837 - - ETA: 4s -  - ETA: 3s - lo - ETA: 2s - loss: 0 - ETA: 1s - lo\n",
      "Epoch 11/100\n",
      "132506/132506 [==============================] - 7s - loss: 0.0841 - acc: 0.9770     - ETA: 5s - loss: 0.0903 - acc: 0.9 - ETA: 5s - loss: 0.0900 - acc:  - ETA: 5s - loss: 0.09 - ETA: 0s - loss: 0.084\n",
      "Epoch 12/100\n",
      "132506/132506 [==============================] - 7s - loss: 0.0817 - acc: 0.9776     - ETA: 4s - loss:  - ETA\n",
      "Epoch 13/100\n",
      "132506/132506 [==============================] - 7s - loss: 0.0800 - acc: 0.9780     - - ETA: 2s - loss: 0.0801 - acc: \n",
      "Epoch 14/100\n",
      "132506/132506 [==============================] - 7s - loss: 0.0785 - acc: 0.9785     - ETA: 6s - loss: 0.0747 - acc: 0.98 - ETA: 6s - loss: - ETA: 1s - lo\n",
      "Epoch 15/100\n",
      "132506/132506 [==============================] - 7s - loss: 0.0772 - acc: 0.9783     - ETA: 4s - loss: 0.0806 - ETA: 3s - loss: 0.0787 - a - ETA: 3s - loss: 0.0783 - - ETA: 2 - ETA: 1s - loss:  - ETA: 0s - loss: 0.0774 - acc: 0.\n",
      "Epoch 16/100\n",
      "132506/132506 [==============================] - 7s - loss: 0.0761 - acc: 0.9788     - ETA: 0s - loss: 0\n",
      "Epoch 17/100\n",
      "132506/132506 [==============================] - 7s - loss: 0.0750 - acc: 0.9790     \n",
      "Epoch 18/100\n",
      "132506/132506 [==============================] - 7s - loss: 0.0749 - acc: 0.9793     - ETA: 6s - loss: 0.0\n",
      "Epoch 19/100\n",
      "132506/132506 [==============================] - 7s - loss: 0.0738 - acc: 0.9795     \n",
      "Epoch 20/100\n",
      "132506/132506 [==============================] - 7s - loss: 0.0731 - acc: 0.9798     - ETA: 3s - los\n",
      "Epoch 21/100\n",
      "132506/132506 [==============================] - 7s - loss: 0.0731 - acc: 0.9797     - ETA: 7s - loss: 0.0651  - ETA: 6s - loss: 0.0706 - acc: - ETA: 5s - loss: 0.0703 - acc: - ETA: 5s - ETA: 2s - loss: 0.0737 - acc: - ETA: 1s - los - ETA: 0s - loss: 0.0728\n",
      "Epoch 22/100\n",
      "132506/132506 [==============================] - 7s - loss: 0.0726 - acc: 0.9799     - ETA: 0s - loss: 0.0723 - acc\n",
      "Epoch 23/100\n",
      "132506/132506 [==============================] - 7s - loss: 0.0720 - acc: 0.9797     - ETA: 0s - loss: 0.0719 - acc: 0.979\n",
      "Epoch 24/100\n",
      "132506/132506 [==============================] - 7s - loss: 0.0718 - acc: 0.9802     - ETA:\n",
      "Epoch 25/100\n",
      "132506/132506 [==============================] - 7s - loss: 0.0712 - acc: 0.9803     - ETA: 2s - loss: 0.0742 - ETA: 0s - loss: 0.0713 - acc: 0.9 - ETA: 0s - loss: 0.0712 - acc: 0.980\n",
      "Epoch 26/100\n",
      "132506/132506 [==============================] - 7s - loss: 0.0707 - acc: 0.9805     - ETA: 7s - loss: 0.0705\n",
      "Epoch 27/100\n",
      "132506/132506 [==============================] - 7s - loss: 0.0703 - acc: 0.9807     \n",
      "Epoch 28/100\n",
      "132506/132506 [==============================] - 7s - loss: 0.0697 - acc: 0.9806     - ETA: - ETA: 3s\n",
      "Epoch 29/100\n",
      "132506/132506 [==============================] - 7s - loss: 0.0694 - acc: 0.9809     - ETA: 0s - loss: 0.0690 - acc:\n",
      "Epoch 30/100\n",
      "132506/132506 [==============================] - 7s - loss: 0.0692 - acc: 0.9810     - ETA: 2s - los - ETA: 1s - loss:\n",
      "Epoch 31/100\n",
      "132506/132506 [==============================] - 7s - loss: 0.0687 - acc: 0.9809     \n",
      "Epoch 32/100\n",
      "132506/132506 [==============================] - 7s - loss: 0.0681 - acc: 0.9811     - ETA: 1s - loss: 0.0682 -  - ETA: 0s - loss: 0.0681 - acc - ETA: 0s - loss: 0.0679 - acc: 0.9\n",
      "Epoch 33/100\n",
      "132506/132506 [==============================] - 7s - loss: 0.0680 - acc: 0.9809     - \n",
      "Epoch 34/100\n",
      "132506/132506 [==============================] - 7s - loss: 0.0678 - acc: 0.9810     - ETA: 7s - loss: 0.0766 -  -  - ETA: 0s - loss: 0.0679 - acc:  - ETA: 0s - loss: 0.0680 - a\n",
      "Epoch 35/100\n",
      "132506/132506 [==============================] - 7s - loss: 0.0674 - acc: 0.9814     - ETA: 3s - loss: 0.0 - ETA: 0s - loss: 0.0674\n",
      "Epoch 36/100\n",
      "132506/132506 [==============================] - 7s - loss: 0.0669 - acc: 0.9812     - ETA: 7s - loss: 0.0689 - a - ET - ETA: 4 - ETA: 3s -\n",
      "Epoch 37/100\n",
      "132506/132506 [==============================] - 9s - loss: 0.0665 - acc: 0.9814     - ETA: 6s  - ETA: 6s - loss: 0.0678 - acc: - ETA: 4s - loss - ETA: 1s - loss: 0.066 - ETA: 1s - loss: 0.0660 - acc: 0 - ETA: 0s - loss: 0.0668 - acc:  - ETA: 0s - loss: 0.0671 - a - ETA: 0s - loss: 0.0665 - acc: 0.981\n",
      "Epoch 38/100\n",
      "132506/132506 [==============================] - 9s - loss: 0.0665 - acc: 0.9819     - ETA: 8s - loss: 0.0645 - acc: 0.9 - ETA: 8s - loss - ETA: 7s - loss: 0.0666 - acc:  - ETA: 6s - loss: 0.0657 - acc: 0.98 - ETA: 6s -  - ETA: 5s - loss: 0.0642 - acc - ETA: 5s - lo - ETA: 3s - loss: 0.0673 - ac - ETA: 3s - loss: 0.06 - ETA: 2s - loss: 0.0667 - acc: 0.982 - ETA: 2s - loss: 0 - ETA: 1s - loss: 0.0661 - acc: 0 - ETA: 1s - loss: 0.0661  - ETA: 0s - loss: 0.0663 - acc: 0.981 - ETA: 0s - loss: 0.0663 - a\n",
      "Epoch 39/100\n",
      "132506/132506 [==============================] - 9s - loss: 0.0659 - acc: 0.9820     - ETA: 7s - loss: 0.0601 - acc: 0.98 - ETA: 7s - loss: 0.0612 - - ETA: 6s - loss: 0.06 - ETA: 5s - lo - ETA: 4s - loss: 0.064 - ETA: 4s - loss: 0.064 - ETA: 3s - loss: - ETA: 2s - loss: 0.0646 - ac - ETA: 1s - loss: 0.0653 - acc: 0.9 - ETA:  - ETA: 0s - loss: 0.0660 - acc: 0.981\n",
      "Epoch 40/100\n",
      "132506/132506 [==============================] - 9s - loss: 0.0662 - acc: 0.9814     - ETA: 5s - loss: 0.0687 - acc - ETA: 5s - loss: 0.0685 - acc: 0.9 - ETA: 5s - loss: 0.068 - ETA: 4s  - ETA: 3 - ETA: 1s - loss: 0.0658 - ac - ETA: 1s - loss: 0.0658 - a - ETA: 1s - loss: 0.0668 - acc: 0 - ETA: 0s - loss: 0.0666 - ETA: 0s - loss: 0.0659 - acc: 0.98\n",
      "Epoch 41/100\n",
      "132506/132506 [==============================] - 9s - loss: 0.0660 - acc: 0.9817     - ETA: 9s - los - ETA: 7s - loss: 0.0675  - - ETA: 3s - loss: 0.0663 - acc - ETA: 3s - loss: 0.0664 - acc: 0.98 - ETA: 3s - loss: 0.0664  - ETA: 0s - loss: 0.0657 - acc: - ETA: 0s - loss: 0.0659 - acc: 0.98\n",
      "Epoch 42/100\n",
      "132506/132506 [==============================] - 9s - loss: 0.0658 - acc: 0.9819     - ETA: 9s - loss: 0.0648 - acc:  - ETA: 9s - loss: 0 - ETA: 8s - loss: 0.0650 - acc: 0.98 - ETA: 7s - loss: 0.0656 - acc:  - ETA:  - ETA: 6s - loss: 0.0633 - acc - ETA: 5s - los - ETA: 2s - loss: 0.0658 - acc: 0.98 - ETA: 2s - lo - ETA: 1s - loss: 0.0662 -  - ETA: 0s - loss: 0.06\n",
      "Epoch 43/100\n",
      "132506/132506 [==============================] - 9s - loss: 0.0648 - acc: 0.9821     - ETA: 9s - loss: 0.0618 - acc: 0.983 - ETA: - ETA: 3s - loss: 0.0635 - - ETA: 2s - loss: 0.0631 - acc: - ETA: 2s - loss: 0.0641 - acc: - ETA: 2s - loss: 0. - ETA: 1s - los\n",
      "Epoch 44/100\n",
      "132506/132506 [==============================] - 9s - loss: 0.0650 - acc: 0.9816     - ETA: 8s - loss: 0.0674 - acc: - ETA: 7s - los - ETA: 4s - loss: 0.0663 - acc: 0 - ETA: 4s - loss: 0.0661 - acc: 0.981 - ETA: 4s - loss: 0.0663 - ac - ETA: 3s - loss: 0.0657 - acc: 0.9 - ETA: 3s - loss: 0.0655 - acc:  - ETA: 3s - loss: 0.0656 -  - ETA: 2s - loss: 0.0656 - ac - ETA: 0s - loss: 0.0648 - \n",
      "Epoch 45/100\n"
     ]
    },
    {
     "name": "stdout",
     "output_type": "stream",
     "text": [
      "132506/132506 [==============================] - 9s - loss: 0.0653 - acc: 0.9821     - ETA: 7s - - ETA:  - ETA: 4s - loss: 0.0657 - acc: 0.981 - ETA: 4s - loss - ETA: 3s - loss: 0.0664 - acc - ETA: 3s -  - ETA: 0s - loss: 0.0653 - acc: 0.982 - ETA: 0s - loss: 0.0652 - acc: 0.9\n",
      "Epoch 46/100\n",
      "132506/132506 [==============================] - 9s - loss: 0.0648 - acc: 0.9820     - ETA: 8s - loss: 0.0591 - acc: 0.98 - ETA: 8s - loss: 0.0596 - acc: 0.983 - ETA: 8s - los - ETA: 4s - loss: 0.0647 - acc: 0.98 - ETA: - ETA: 3s - l\n",
      "Epoch 47/100\n",
      "132506/132506 [==============================] - 9s - loss: 0.0646 - acc: 0.9820     - ETA: 2s - loss: 0.0633 - acc: 0 - ETA: 2s - los - ETA: 1s - loss: 0.0643 - acc: 0.9 - ETA: 1s - loss: 0.0 - ETA: 0s - loss: 0.0639 -\n",
      "Epoch 48/100\n",
      "132506/132506 [==============================] - 9s - loss: 0.0646 - acc: 0.9822     - ETA: 8s - loss: 0. - ETA: 5s - loss: 0.0672 - acc: 0.982 - ETA: 5s - - ET - ETA: 0s - loss: 0\n",
      "Epoch 49/100\n",
      "132506/132506 [==============================] - 9s - loss: 0.0643 - acc: 0.9822     - ETA: 0s - loss: 0.0644 - acc: 0.9 - ETA: 0s - loss: 0.0645 - acc: 0.9\n",
      "Epoch 50/100\n",
      "132506/132506 [==============================] - 9s - loss: 0.0642 - acc: 0.9823     \n",
      "Epoch 51/100\n",
      "132506/132506 [==============================] - 9s - loss: 0.0639 - acc: 0.9824     - ETA: 8s - l - ETA: 7s - loss: 0.0596 - acc: - ETA: 7s - loss: 0. - ETA: 6s - loss: 0. - ETA: 5s - loss: 0.0636 - a - ETA: 4s - loss: 0.0631 - acc: 0.98 - ETA: 4s - loss: 0.0629 - acc: 0 - ETA: 4s - loss:  - ETA: 3s - loss: 0.0 - ETA: 0s - loss: 0.0640 - \n",
      "Epoch 52/100\n",
      "132506/132506 [==============================] - 9s - loss: 0.0636 - acc: 0.9821     - ETA: 9s - loss: 0.0637 - acc: 0 - ETA: 6s - loss: 0.0632 - acc:  - ETA: 6s - loss: 0.0638 - acc: 0.982 - ETA: 6s - loss: 0.0638 -  - ETA: 5s - loss: 0.064 - ETA: - ETA: 3s - loss: 0.0647 - a - ETA: 3s - loss:\n",
      "Epoch 53/100\n",
      "132506/132506 [==============================] - 9s - loss: 0.0637 - acc: 0.9824     - ETA: 1s - loss: 0.0645 - acc: 0.982 - ETA: 1\n",
      "Epoch 54/100\n",
      "132506/132506 [==============================] - 9s - loss: 0.0635 - acc: 0.9826     - ETA: 8s - - ETA: 7 - ETA: 6s - loss: 0.063 - ETA: 5s - loss: 0.0629 - - ETA: 4s - loss: 0.  - ETA: 1s - loss: 0.0642 -  - ETA: 1s - loss: 0. - ETA: 0s - loss: 0.0639 - acc\n",
      "Epoch 55/100\n",
      "132506/132506 [==============================] - 9s - loss: 0.0633 - acc: 0.9826     - ETA: 8s - loss: 0.0608 - acc: 0.9 - ETA: 7s - loss: 0.0607 - acc: 0.9 - ETA: 7s - loss: 0.0629 - acc: 0 - ETA: 7s - loss: 0.0648 - acc: 0.9 - ETA: 7s - loss: 0.0640 -  - ETA: 6 - ETA: 5s - loss:  - ETA: 4s - loss: 0.0628 - acc:   - ETA: 0s - loss: 0.0635 - acc: 0.98\n",
      "Epoch 56/100\n",
      "132506/132506 [==============================] - 9s - loss: 0.0630 - acc: 0.9827     - ETA: 8s - loss: 0.0583 - ETA: 5s - loss: 0.0635   - ETA: 3s  - ETA: 2s - loss: 0.0630 - acc:  - ETA: 1s - loss: 0.0635 - ETA: 1s - loss: 0.0631 - acc: 0.98 - ETA: 0s - loss: 0\n",
      "Epoch 57/100\n",
      "132506/132506 [==============================] - 9s - loss: 0.0632 - acc: 0.9826     - ETA: 7s - loss: 0.0650 - acc: 0.98 - ETA: 7s - loss: 0.0639 - acc - ETA: 7s - loss: 0.0646 -  - ETA: 6s - loss: 0.0647 - acc: 0.981 - ETA: 6s - loss: 0.0645 - ac - ETA: 6s - loss: 0.06 - ETA: 3s - loss: 0.0650 - ETA: 2s - ETA: 1s - loss - ETA: 0s - loss: 0.0636 - acc: 0.982 - ETA: 0s - loss: 0.0635 - acc: 0\n",
      "Epoch 58/100\n",
      "132506/132506 [==============================] - 9s - loss: 0.0628 - acc: 0.9826     - ETA: 7s - loss: 0.05 - ETA: 6s - loss - ETA:\n",
      "Epoch 59/100\n",
      "132506/132506 [==============================] - 9s - loss: 0.0629 - acc: 0.9825     - ETA: 9s - - ETA: 8s - loss: 0.0604 - acc:  - ETA: 7s - loss: 0.0604 - acc:  - ETA: 5s - loss: 0.0626 - acc: 0.9 - ETA: 5s  - - ETA: 1s - loss: 0.0 - ETA: 0s - loss: \n",
      "Epoch 60/100\n",
      "132506/132506 [==============================] - 9s - loss: 0.0631 - acc: 0.9824     - ETA: 8s - loss: 0.0556  - ETA: 8s - loss: 0.0585 - acc: - ETA: 3s - loss: 0.0615 - acc: - ETA: 3s - loss: 0.0614 - ETA: 2s -  - ETA: 1s - loss: 0.0632  - ETA: 0s - loss: 0.0629 -  - ETA: 0s - loss: 0.0632 - acc: 0.9 - ETA: 0s - loss: 0.0630 - acc: 0.98\n",
      "Epoch 61/100\n",
      "132506/132506 [==============================] - 9s - loss: 0.0625 - acc: 0.9826     - ETA: 7s - loss: 0.063 -  - ETA: 4s - loss: 0.0617  - ETA: 4 - ETA: 0s - loss: 0.062\n",
      "Epoch 62/100\n",
      "132506/132506 [==============================] - 9s - loss: 0.0625 - acc: 0.9828     - ETA: 6s - loss: 0 - ETA: 2s - lo - ETA: 0s - loss: 0.0622 - acc: 0.98 - ETA: 0s - loss: 0.06\n",
      "Epoch 63/100\n",
      "132506/132506 [==============================] - 9s - loss: 0.0623 - acc: 0.9825     - ETA: 6s - loss: 0 - ETA: 5s - loss: 0.0602 - acc: 0.98 - ETA: 4s - loss: 0.0601 - ETA: 4s - loss: 0.0620 - acc - ETA: 3s - loss: 0.0619 - ETA: 3s - loss: 0.0622 - - ETA: 2 - ETA: 1s - l\n",
      "Epoch 64/100\n",
      "132506/132506 [==============================] - 9s - loss: 0.0615 - acc: 0.9826     - ETA: 9s - loss: 0.0658 - acc: 0 - ETA: 9s - loss: 0.0649 - acc: 0.98 - ETA: 9s - loss: 0.0645 - ETA: 6s - loss - ETA: 5s - loss: 0.0594 - ETA: 4s - loss: 0.0587 - acc: 0 - ETA: 4s - loss: 0.0591 - ac - ETA: 3s - - ETA: 2s - lo - ETA: 1s - loss: 0.0611 - a - ETA: 0s - loss: 0.0611 - acc: 0.98 - ETA: 0s - loss: 0.0612 - ac\n",
      "Epoch 65/100\n",
      "132506/132506 [==============================] - 9s - loss: 0.0623 - acc: 0.9826     - ETA: 6s - loss: 0.0625 - acc:  - ETA: 6s - loss: 0.0618 - acc - ETA: 5s - loss: 0.0618 - acc: 0 - ETA: 5s - - ETA: 4s - loss: 0.0614 - acc:  - ETA - ETA: 0s - loss: 0.0623 - acc: 0.982 - ETA: 0s - loss: 0.0623 - acc: \n",
      "Epoch 66/100\n",
      "132506/132506 [==============================] - 9s - loss: 0.0619 - acc: 0.9826     - ETA: 0s - loss: 0.0623 -\n",
      "Epoch 67/100\n",
      "132506/132506 [==============================] - 9s - loss: 0.0619 - acc: 0.9830     - ETA: 5s - loss:  - ETA: 4s - - ETA: 3s - loss: 0.0617 - a - ETA: 2s - loss: 0.0613 - acc: 0.983 - ETA: 2s - loss: 0.0614 -  - ETA: 1s - loss: 0.0611 - acc: 0.983 - ETA:  - ETA: 0s - loss: 0.0620 - acc:  - ETA: 0s - loss: 0.0620 - acc: 0.98\n",
      "Epoch 68/100\n",
      "132506/132506 [==============================] - 9s - loss: 0.0621 - acc: 0.9827     - ETA: 8s - loss: - ETA: 7s - loss: 0.0625 - - ETA: 4s - loss: 0. - ETA: 3s - loss: 0.0623  - ETA: 3s - loss: 0.0621 - acc: - E - ETA: 0s - loss: 0\n",
      "Epoch 69/100\n",
      "132506/132506 [==============================] - 9s - loss: 0.0615 - acc: 0.9828     - ETA: 9s - loss: 0.0657 - ac - ETA: 8s - loss: 0.0623 -  - ETA: 8s - loss: 0.0632 - - ETA: 7s - loss - ETA: 6s - loss: 0.0622 - acc: 0.9 - ETA: 6s - loss: 0.0623 - - ETA: 5s - loss: 0 - ETA: 2s - loss: 0.0613 -  - ETA: 2s - los - ETA: 1s -\n",
      "Epoch 70/100\n",
      "132506/132506 [==============================] - 9s - loss: 0.0619 - acc: 0.9831     - ETA: 7s - loss: 0.0621 -  - ETA: 4s - loss: 0.0608 - acc: 0.98 - ETA: 4s - loss: 0 - ETA: 3s - - ETA: 1s - loss: 0.0611 - a - ETA: 1s - loss: 0.0613 - acc: 0.983 - ETA: 1s - loss: 0.0613 - ETA: 0s - loss: 0.0619 -\n",
      "Epoch 71/100\n",
      "132506/132506 [==============================] - 9s - loss: 0.0613 - acc: 0.9833     - ETA: 3s - loss:\n",
      "Epoch 72/100\n",
      "132506/132506 [==============================] - 9s - loss: 0.0612 - acc: 0.9828     - ETA: 9s - loss: 0.0470 - acc: 0.9 - ETA: 8s - loss: 0.0553  - - ETA: 2s - loss: 0.0611 - acc - ETA: 2s - loss: 0.0607 - acc: 0.982 - ETA: 2s - loss:  - ETA: 1s - loss: 0.0602 - acc: - ETA: 0s - loss: 0.0604 - acc: 0.9 - ETA: 0s - loss: 0.0612 \n",
      "Epoch 73/100\n",
      "132506/132506 [==============================] - 9s - loss: 0.0610 - acc: 0.9827     - ETA: 8s - loss: 0.0630 - ETA: 7s - - ETA: 6s - loss: 0.0609 - acc: 0 - E - ETA: 5s - loss: 0.0 - ETA: 4s - loss: 0.0613 - acc: - ETA: 3s - loss - ETA: 0s - loss: 0.0603 \n",
      "Epoch 74/100\n",
      "132506/132506 [==============================] - 9s - loss: 0.0606 - acc: 0.9833     - ETA: 6s - loss: 0.06 - ETA: 6s - loss: 0.0 - ETA: 0s - loss: 0.0603 - acc: 0.\n",
      "Epoch 75/100\n",
      "132506/132506 [==============================] - 9s - loss: 0.0611 - acc: 0.9832     - ETA: 7s - loss: 0.0579 - acc:  - ETA: 7s - loss: 0.0 - ETA: 2s - loss: 0.0617 - ac - ETA: 1s - loss: 0.0612 - acc - ETA: 1s - l - ETA: 0s - loss: 0.0610 - acc: 0.\n",
      "Epoch 76/100\n"
     ]
    },
    {
     "name": "stdout",
     "output_type": "stream",
     "text": [
      "132506/132506 [==============================] - 9s - loss: 0.0603 - acc: 0.9832     - ETA: 6s - loss: 0.0624 - ETA: 5s - loss - ETA: 0s - loss: 0.0607 - a\n",
      "Epoch 77/100\n",
      "132506/132506 [==============================] - 9s - loss: 0.0611 - acc: 0.9828     - ETA: 5s - loss: 0.0623 - ETA: 5s - loss: 0.0613 - ac - ETA: 4s - loss: 0.0614 -  - ETA: 4s - loss - ETA: 3s - lo - ETA: 1s - loss: 0.0604 - a - ETA: 1s - loss: 0 - ETA: 0s - loss: 0.0610 - acc\n",
      "Epoch 78/100\n",
      "132506/132506 [==============================] - 9s - loss: 0.0606 - acc: 0.9833     - ETA: 7s - loss: 0.0588 - acc: 0.984 - ETA: 7s - loss: 0.0593 - acc: 0 - ETA: 7s  - ETA: 5s - loss: 0.061 - ETA: 4s - loss: 0.0607 - ETA: 4s - loss: 0.0596 - acc - ETA: 3s - loss: 0.05 - ETA: 3s - loss: 0.0600 - acc: 0.983 - ETA: 3s - loss: 0.0600 - acc: 0 - ETA: 2s - loss: 0.0597 - - ETA: 2s -  - ETA: 0s - loss: 0.0605  - ETA: 0s - loss: 0.0608 - acc: 0\n",
      "Epoch 79/100\n",
      "132506/132506 [==============================] - 9s - loss: 0.0603 - acc: 0.9832     - ETA: 8s - loss: 0.0579 - ac - ETA: 7s - loss: 0.05 - ETA: 7s - loss: 0.0586 - acc: 0.983 - ETA: 6s - loss: 0.0585 - acc:  - ETA: 6s - loss: 0.0579 -  - ETA: 6s - loss: 0.0603 - acc: 0.983 - ETA: 6s - loss: 0 - ETA: 5s - loss:  - ETA: 4s - loss: 0.060 - ETA: 3s - loss: 0.0599 -  - ETA: 2s - loss: 0.059 - ETA: 1s - loss: 0.0594 -  - ETA: 1s\n",
      "Epoch 80/100\n",
      "132506/132506 [==============================] - 9s - loss: 0.0604 - acc: 0.9833     - ETA: 9s - loss: 0.0768 - a - ETA: 8s - loss: 0.\n",
      "Epoch 81/100\n",
      "132506/132506 [==============================] - 9s - loss: 0.0606 - acc: 0.9831     - ETA: 7s - loss: - ETA: 6s - loss: 0. - ETA: 5s - loss: 0. - ETA: 4s - loss: 0.0601 - acc: - ETA: 4s - loss: 0.0602 - acc: 0.98 - ETA: 4s - loss: 0.0604 - acc: 0.983 - ETA: 4s - - ETA: 0s - loss: 0.0604 - - ETA: 0s - loss: 0.0605 - acc: 0.9 - ETA: 0s - loss: 0.0606 - acc: 0\n",
      "Epoch 82/100\n",
      "132506/132506 [==============================] - 9s - loss: 0.0604 - acc: 0.9834     - ETA: 9s - loss: 0.0597 - acc:  - ETA: 8s - loss: 0.0631 - acc - ETA: 7s - loss - ETA: 5s - loss: 0.0631  - ETA: 5s - loss: 0.0623 - acc: 0.983  - ETA: 2s - loss: 0.0612 - acc: - ETA: 2s - loss: 0.0609 - ac - - ETA: 0s - loss: 0.0602 - acc: 0.9\n",
      "Epoch 83/100\n",
      "132506/132506 [==============================] - 9s - loss: 0.0599 - acc: 0.9834     - ETA: 7s - loss: 0.0604 - acc: 0.983 - ETA: 7s - loss: 0.0602 - acc:  - ETA: 7s - los - ETA: 6s - loss: 0.0577 - acc: 0.\n",
      "Epoch 84/100\n",
      "132506/132506 [==============================] - 9s - loss: 0.0603 - acc: 0.9833     - ETA: 9s - loss: 0.0 - ETA: 8s - loss: 0.0575  - ETA: 7s - loss: 0.0611 - a - ETA: 6s - loss: 0.0621 - ETA: 6s - loss - ETA: 5s - loss: 0 - ETA: 4s - loss: 0.0615 - acc: 0.98 - ETA: 4s - loss: 0.0 - ETA: 3s -  - ETA: 1s - loss: 0.06 - ETA: 1s - loss\n",
      "Epoch 85/100\n",
      "132506/132506 [==============================] - 9s - loss: 0.0600 - acc: 0.9832     - ETA: 7s - loss: 0. - ETA: 7s - loss: 0.05 - ETA: 4s - loss: 0.058 - ETA - ETA: 1s - loss: 0.0598 - acc: 0.983 - ETA: 1s - loss: 0.0597 -  - ETA: 1s - loss: 0.0602 - acc: 0.983 - ETA: 1s - l\n",
      "Epoch 86/100\n",
      "132506/132506 [==============================] - 9s - loss: 0.0597 - acc: 0.9834     - ETA: 6s - loss: 0.0604 - ac - ETA: 5s - loss: 0.060 - ETA: 5s  - ETA: 3s - loss: 0.0590 - acc: 0.983 - ETA: 3s - loss: 0.0592 - - ETA: 2s - loss: 0.0591 - acc: 0.9 - ETA: 2s - loss: 0.0592  - ETA: 2s - - ETA: 0s - loss: 0.0601 - acc - ETA: 0s - loss: 0.0600 - acc:  - ETA: 0s - loss: 0.0597 - acc: 0.9\n",
      "Epoch 87/100\n",
      "132506/132506 [==============================] - 9s - loss: 0.0597 - acc: 0.9833      - ETA: 9s - loss: 0 - ETA - ETA: 6s - loss: 0.0592 - acc: 0 - ETA: 6s - loss: 0.05 - ETA: 5s - loss: 0.0582 - acc: - ETA: 4s - loss: 0.0584 - acc: 0.983 - ETA: 4s - loss: 0.0583 - - ETA: 4s - loss: - ETA: 3s - loss: 0.0582 - acc: 0.9 - ETA: 3s - loss: 0.0579 - acc: 0.9 - ETA: 2s - loss: 0.0581 - acc: 0 - ETA: 2s - loss: \n",
      "Epoch 88/100\n",
      "132506/132506 [==============================] - 9s - loss: 0.0593 - acc: 0.9832      - ETA: 9s - loss: 0.0541 - acc: - ETA: 9s - loss: 0.0563 - a - ET - ETA: 6s - loss: 0.0 - ETA: 5s - loss: 0. - ETA: 5s - loss: 0.0584  - ETA: 2s - loss: 0.0599 - acc: 0.9 - ETA: 2s - loss: 0.0603 -  - ETA: 1s - loss: 0.0600  - ETA: 1s - loss: 0 - ETA: 0s - loss: 0.0594 - acc: 0.98\n",
      "Epoch 89/100\n",
      "132506/132506 [==============================] - 9s - loss: 0.0592 - acc: 0.9834     - ETA: 8s - loss: 0.0522 - acc: - ETA: 8s - los - ETA: 7s - loss: 0.0581 - acc: 0.982 - ETA: 6s - loss: 0.058 - ETA: 4s - loss: 0.0595 - acc: 0 - ETA: 3s - loss: 0.0596 - acc: 0 - ETA: 3s - loss: - ETA: 2s - loss: 0.0592 - ac - ETA: 2s - loss: 0.05 - ETA: 1s \n",
      "Epoch 90/100\n",
      "132506/132506 [==============================] - 9s - loss: 0.0589 - acc: 0.9836     - ETA: 9s - loss: 0 - ETA: 8s - loss: 0. - ETA: 3s - loss: 0.0586 - a - ETA: 3s - loss: 0.0586 - acc: - ETA: 2s - loss: 0.0583\n",
      "Epoch 91/100\n",
      "132506/132506 [==============================] - 9s - loss: 0.0592 - acc: 0.9833     - ETA: 6s - l - ETA: 5s - loss: 0.0601 - acc: - ETA: 5s - loss: 0.0591 - ac - - ETA: 2s - loss: 0.0588 - acc: 0 - ETA - ETA: 0s - loss: 0.0595  - ETA: 0s - loss: 0.0592 - acc: 0.983\n",
      "Epoch 92/100\n",
      "132506/132506 [==============================] - 9s - loss: 0.0589 - acc: 0.9835     -  - ETA: 4s - loss: 0.0574 - a -  - ETA: 0s - loss: 0.0589 - acc: 0.9\n",
      "Epoch 93/100\n",
      "132506/132506 [==============================] - 9s - loss: 0.0590 - acc: 0.9835     - ETA: 7s - loss: 0.0620 - acc: 0.9 - ETA: 7s - loss: 0.0616 - acc: - ETA: 7s - loss: 0.0615 - acc: - ETA: 7s - loss: 0.0603 -  - ETA:  - ETA: 4s - loss: 0.0593 - ac - ETA: 4s - loss: 0.0587  - ETA: 3s - loss: 0.0589 - acc: 0.983 - ETA: 3s -  - ETA: 0s - loss: 0.0584 - ac\n",
      "Epoch 94/100\n",
      "132506/132506 [==============================] - 9s - loss: 0.0589 - acc: 0.9835     -  - ETA: 4s - loss: 0 - ETA: 3s - los - ETA: 0s - loss: 0.0588 - acc - ETA: 0s - loss: 0.0590 - acc: \n",
      "Epoch 95/100\n",
      "132506/132506 [==============================] - 9s - loss: 0.0584 - acc: 0.9833     - ETA: 8s - l - ETA: 6s - loss: 0.0567 - acc - ETA: 6s - lo - ETA: 5s - l - ETA: 4s - loss: 0.0 - ETA: 3s - loss: 0.0591 - ETA: 2s - loss: 0.0588 - acc:  - ETA: 0s - loss: 0.0583 - \n",
      "Epoch 96/100\n",
      "132506/132506 [==============================] - 9s - loss: 0.0587 - acc: 0.9836     - ETA: 5s - loss: 0.0589 -  - ETA: 5s - loss: 0.0589 - acc: 0.983 - ET - ETA: 3s - loss - ETA: 2s - - ETA: 0s - loss: 0.0586 - acc: 0.98 - ETA: 0s - loss: 0.0\n",
      "Epoch 97/100\n",
      "132506/132506 [==============================] - 9s - loss: 0.0589 - acc: 0.9835     - ETA: 8s -  - ETA: 6s - loss: 0.0603 - acc: 0.983 - ETA: 6s - loss: 0.0600 - acc: 0.983 - ETA: 6s - loss: 0 - ETA: 5s - loss: 0.0598  - ETA: 5s - loss: 0.0600 - ETA: 2s - loss: 0.059 - ETA: 1s - loss: 0.0587 - acc:  - ETA: 1s - loss - ETA: 0s - loss: 0.0584 - acc: 0.98 - ETA: 0s - loss: 0.0587 - acc: 0.9 - ETA: 0s - loss: 0.0587 - acc: \n",
      "Epoch 98/100\n",
      "132506/132506 [==============================] - 9s - loss: 0.0587 - acc: 0.9835     - ETA: - ETA: 6s - loss: 0.0 - ETA: 5s - loss: 0.0584 - acc: 0 - ETA: 5s - loss: 0.0580 -  - E - ETA: 1s - loss: 0.0590 - acc: 0.9 - ETA: 0s - loss: 0.0589 -  - ETA: 0s - loss: 0.0590 - acc:\n",
      "Epoch 99/100\n",
      "132506/132506 [==============================] - 9s - loss: 0.0584 - acc: 0.9835     - ETA: 6s - loss: 0.0578 -  - ETA: 5s - los - ETA: 4s - loss: 0.0584 - acc: 0.9 - ETA: 4s - loss:  - ETA: 3s - loss: 0.0585 - - ETA: 2s - lo - ETA: 1s - loss: 0.0588 - acc: 0.98 - ETA: 1s - loss: 0.0587 - ac - ETA: 0s - loss: \n",
      "Epoch 100/100\n",
      "132506/132506 [==============================] - 9s - loss: 0.0587 - acc: 0.9836     - ETA: 9s - - ETA: 3s - - ETA: 2s - loss: 0.0584 - acc: 0.9 - ETA: 2s - loss: 0.0584 - acc: 0\n"
     ]
    },
    {
     "data": {
      "text/plain": [
       "<keras.callbacks.History at 0x22408b40b8>"
      ]
     },
     "execution_count": 34,
     "metadata": {},
     "output_type": "execute_result"
    }
   ],
   "source": [
    "clf_ann = Sequential()\n",
    "\n",
    "# First Hidden Layer\n",
    "clf_ann.add(Dense(output_dim = 11, init = 'uniform', activation = 'relu', input_dim = 17))\n",
    "\n",
    "# Second Hidden Layer\n",
    "clf_ann.add(Dense(output_dim = 11, init = 'uniform', activation = 'relu'))\n",
    "\n",
    "# Output Layer\n",
    "clf_ann.add(Dense(output_dim = 5, init = 'uniform', activation = 'softmax'))\n",
    "\n",
    "# Compile the ANN\n",
    "clf_ann.compile(optimizer = 'adam', loss = 'categorical_crossentropy', metrics = ['accuracy'])\n",
    "\n",
    "# Train the ANN on the Train Data\n",
    "clf_ann.fit(X_train, Y_train, batch_size = 10, nb_epoch = 100)"
   ]
  },
  {
   "cell_type": "code",
   "execution_count": 35,
   "metadata": {
    "collapsed": true
   },
   "outputs": [],
   "source": [
    "# Test the ANN on the Test Data\n",
    "Y_pred = clf_ann.predict(X_test)\n",
    "Y_pred_class = np.argmax(Y_pred, axis = 1)\n",
    "Y_test_class = np.argmax(Y_test, axis = 1)"
   ]
  },
  {
   "cell_type": "markdown",
   "metadata": {},
   "source": [
    "## Check the Accuracy"
   ]
  },
  {
   "cell_type": "code",
   "execution_count": 36,
   "metadata": {
    "collapsed": true
   },
   "outputs": [],
   "source": [
    "from sklearn.metrics import accuracy_score, confusion_matrix"
   ]
  },
  {
   "cell_type": "code",
   "execution_count": 37,
   "metadata": {},
   "outputs": [
    {
     "data": {
      "text/plain": [
       "0.98300479971020616"
      ]
     },
     "execution_count": 37,
     "metadata": {},
     "output_type": "execute_result"
    }
   ],
   "source": [
    "accuracy_score(Y_pred_class, Y_test_class)"
   ]
  },
  {
   "cell_type": "code",
   "execution_count": 38,
   "metadata": {},
   "outputs": [
    {
     "data": {
      "text/plain": [
       "array([[10160,     2,     0,    10,     5],\n",
       "       [    4,  2273,    11,    74,    45],\n",
       "       [    0,    31,  9330,    33,    67],\n",
       "       [   23,    72,    36,  2301,    22],\n",
       "       [    1,    30,    71,    26,  8500]], dtype=int64)"
      ]
     },
     "execution_count": 38,
     "metadata": {},
     "output_type": "execute_result"
    }
   ],
   "source": [
    "confusion_matrix(Y_pred_class, Y_test_class)"
   ]
  },
  {
   "cell_type": "code",
   "execution_count": null,
   "metadata": {
    "collapsed": true
   },
   "outputs": [],
   "source": []
  }
 ],
 "metadata": {
  "kernelspec": {
   "display_name": "Python [default]",
   "language": "python",
   "name": "python3"
  },
  "language_info": {
   "codemirror_mode": {
    "name": "ipython",
    "version": 3
   },
   "file_extension": ".py",
   "mimetype": "text/x-python",
   "name": "python",
   "nbconvert_exporter": "python",
   "pygments_lexer": "ipython3",
   "version": "3.5.4"
  }
 },
 "nbformat": 4,
 "nbformat_minor": 2
}
