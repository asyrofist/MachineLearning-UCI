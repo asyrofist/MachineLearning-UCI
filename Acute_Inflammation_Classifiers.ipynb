{
 "cells": [
  {
   "cell_type": "markdown",
   "metadata": {},
   "source": [
    "## Initialization"
   ]
  },
  {
   "cell_type": "code",
   "execution_count": 1,
   "metadata": {
    "collapsed": true
   },
   "outputs": [],
   "source": [
    "import pandas as pd\n",
    "import numpy as np"
   ]
  },
  {
   "cell_type": "code",
   "execution_count": 2,
   "metadata": {
    "collapsed": true
   },
   "outputs": [],
   "source": [
    "from sklearn.model_selection import train_test_split\n",
    "from sklearn.metrics import accuracy_score, confusion_matrix\n",
    "from sklearn.preprocessing import LabelEncoder"
   ]
  },
  {
   "cell_type": "code",
   "execution_count": 3,
   "metadata": {
    "collapsed": true
   },
   "outputs": [],
   "source": [
    "from sklearn.tree import DecisionTreeClassifier\n",
    "from sklearn.neighbors import KNeighborsClassifier\n",
    "from sklearn.naive_bayes import GaussianNB\n",
    "from sklearn.svm import SVC\n",
    "from sklearn.linear_model import LogisticRegression\n",
    "from sklearn.ensemble import RandomForestClassifier"
   ]
  },
  {
   "cell_type": "code",
   "execution_count": 32,
   "metadata": {
    "collapsed": true
   },
   "outputs": [],
   "source": [
    "model_accuracies_1 = {'KNN':1, 'LogReg':1, 'DT':1, 'RF':1, 'NB':1, 'LinearSVC':1, 'KernelSVC':1}\n",
    "model_accuracies_2 = {'KNN':1, 'LogReg':1, 'DT':1, 'RF':1, 'NB':1, 'LinearSVC':1, 'KernelSVC':1}"
   ]
  },
  {
   "cell_type": "markdown",
   "metadata": {},
   "source": [
    "## Importing the Data"
   ]
  },
  {
   "cell_type": "code",
   "execution_count": 5,
   "metadata": {
    "collapsed": true
   },
   "outputs": [],
   "source": [
    "dataset = pd.read_csv(\"diagnosis.data\", header = None, delimiter = r\"\\s+\")\n",
    "X = dataset.iloc[:, 0:6].values\n",
    "Y1 = dataset.iloc[:, 6:7].values\n",
    "Y2 = dataset.iloc[:, 7:8].values"
   ]
  },
  {
   "cell_type": "code",
   "execution_count": 6,
   "metadata": {},
   "outputs": [
    {
     "data": {
      "text/html": [
       "<div>\n",
       "<style>\n",
       "    .dataframe thead tr:only-child th {\n",
       "        text-align: right;\n",
       "    }\n",
       "\n",
       "    .dataframe thead th {\n",
       "        text-align: left;\n",
       "    }\n",
       "\n",
       "    .dataframe tbody tr th {\n",
       "        vertical-align: top;\n",
       "    }\n",
       "</style>\n",
       "<table border=\"1\" class=\"dataframe\">\n",
       "  <thead>\n",
       "    <tr style=\"text-align: right;\">\n",
       "      <th></th>\n",
       "      <th>0</th>\n",
       "      <th>1</th>\n",
       "      <th>2</th>\n",
       "      <th>3</th>\n",
       "      <th>4</th>\n",
       "      <th>5</th>\n",
       "      <th>6</th>\n",
       "      <th>7</th>\n",
       "    </tr>\n",
       "  </thead>\n",
       "  <tbody>\n",
       "    <tr>\n",
       "      <th>0</th>\n",
       "      <td>35.5</td>\n",
       "      <td>no</td>\n",
       "      <td>yes</td>\n",
       "      <td>no</td>\n",
       "      <td>no</td>\n",
       "      <td>no</td>\n",
       "      <td>no</td>\n",
       "      <td>no</td>\n",
       "    </tr>\n",
       "    <tr>\n",
       "      <th>1</th>\n",
       "      <td>35.9</td>\n",
       "      <td>no</td>\n",
       "      <td>no</td>\n",
       "      <td>yes</td>\n",
       "      <td>yes</td>\n",
       "      <td>yes</td>\n",
       "      <td>yes</td>\n",
       "      <td>no</td>\n",
       "    </tr>\n",
       "    <tr>\n",
       "      <th>2</th>\n",
       "      <td>35.9</td>\n",
       "      <td>no</td>\n",
       "      <td>yes</td>\n",
       "      <td>no</td>\n",
       "      <td>no</td>\n",
       "      <td>no</td>\n",
       "      <td>no</td>\n",
       "      <td>no</td>\n",
       "    </tr>\n",
       "    <tr>\n",
       "      <th>3</th>\n",
       "      <td>36.0</td>\n",
       "      <td>no</td>\n",
       "      <td>no</td>\n",
       "      <td>yes</td>\n",
       "      <td>yes</td>\n",
       "      <td>yes</td>\n",
       "      <td>yes</td>\n",
       "      <td>no</td>\n",
       "    </tr>\n",
       "    <tr>\n",
       "      <th>4</th>\n",
       "      <td>36.0</td>\n",
       "      <td>no</td>\n",
       "      <td>yes</td>\n",
       "      <td>no</td>\n",
       "      <td>no</td>\n",
       "      <td>no</td>\n",
       "      <td>no</td>\n",
       "      <td>no</td>\n",
       "    </tr>\n",
       "  </tbody>\n",
       "</table>\n",
       "</div>"
      ],
      "text/plain": [
       "      0   1    2    3    4    5    6   7\n",
       "0  35.5  no  yes   no   no   no   no  no\n",
       "1  35.9  no   no  yes  yes  yes  yes  no\n",
       "2  35.9  no  yes   no   no   no   no  no\n",
       "3  36.0  no   no  yes  yes  yes  yes  no\n",
       "4  36.0  no  yes   no   no   no   no  no"
      ]
     },
     "execution_count": 6,
     "metadata": {},
     "output_type": "execute_result"
    }
   ],
   "source": [
    "dataset.head()"
   ]
  },
  {
   "cell_type": "markdown",
   "metadata": {},
   "source": [
    "## Preprocess the Data"
   ]
  },
  {
   "cell_type": "code",
   "execution_count": 8,
   "metadata": {},
   "outputs": [],
   "source": [
    "le_Y = LabelEncoder()\n",
    "Y1 = le_Y.fit_transform(Y1)\n",
    "Y2 = le_Y.transform(Y2)"
   ]
  },
  {
   "cell_type": "code",
   "execution_count": 9,
   "metadata": {},
   "outputs": [
    {
     "data": {
      "text/plain": [
       "array([0, 1, 0, 1, 0, 0, 1, 0, 1, 1, 1, 0, 0, 1, 0, 0, 1, 1, 1, 0, 1, 1, 0,\n",
       "       1, 1, 1, 1, 1, 0, 1, 1, 1, 0, 1, 0, 1, 1, 0, 1, 1, 0, 0, 1, 1, 1, 1,\n",
       "       1, 1, 1, 1, 0, 1, 0, 1, 1, 1, 1, 0, 1, 1, 0, 0, 0, 0, 0, 0, 0, 0, 0,\n",
       "       0, 1, 1, 1, 0, 0, 0, 0, 0, 1, 1, 0, 0, 0, 1, 1, 1, 0, 0, 1, 1, 0, 0,\n",
       "       1, 1, 0, 0, 0, 0, 1, 1, 0, 1, 0, 0, 0, 1, 1, 0, 0, 0, 1, 0, 0, 0, 1,\n",
       "       0, 0, 0, 0, 0], dtype=int64)"
      ]
     },
     "execution_count": 9,
     "metadata": {},
     "output_type": "execute_result"
    }
   ],
   "source": [
    "Y1"
   ]
  },
  {
   "cell_type": "code",
   "execution_count": 10,
   "metadata": {},
   "outputs": [
    {
     "data": {
      "text/plain": [
       "array([0, 0, 0, 0, 0, 0, 0, 0, 0, 0, 0, 0, 0, 0, 0, 0, 0, 0, 0, 0, 0, 0, 0,\n",
       "       0, 0, 0, 0, 0, 0, 0, 0, 0, 0, 0, 0, 0, 0, 0, 0, 0, 0, 0, 0, 0, 0, 0,\n",
       "       0, 0, 0, 0, 0, 0, 0, 0, 0, 0, 0, 0, 0, 0, 1, 1, 1, 1, 1, 1, 1, 1, 1,\n",
       "       1, 1, 1, 1, 0, 0, 1, 1, 1, 1, 1, 0, 1, 1, 1, 1, 1, 0, 1, 1, 1, 0, 1,\n",
       "       1, 1, 0, 1, 1, 1, 1, 1, 1, 1, 0, 1, 1, 1, 1, 0, 1, 1, 1, 0, 1, 1, 1,\n",
       "       1, 0, 1, 1, 1], dtype=int64)"
      ]
     },
     "execution_count": 10,
     "metadata": {},
     "output_type": "execute_result"
    }
   ],
   "source": [
    "Y2"
   ]
  },
  {
   "cell_type": "code",
   "execution_count": 11,
   "metadata": {
    "collapsed": true
   },
   "outputs": [],
   "source": [
    "le_X = LabelEncoder()\n",
    "le_X.fit(X[:, 1])\n",
    "\n",
    "X[:, 1] = le_X.transform(X[:, 1])\n",
    "X[:, 2] = le_X.transform(X[:, 2])\n",
    "X[:, 3] = le_X.transform(X[:, 3])\n",
    "X[:, 4] = le_X.transform(X[:, 4])\n",
    "X[:, 5] = le_X.transform(X[:, 5])"
   ]
  },
  {
   "cell_type": "code",
   "execution_count": 12,
   "metadata": {},
   "outputs": [
    {
     "data": {
      "text/plain": [
       "array([[35.5, 0, 1, 0, 0, 0],\n",
       "       [35.9, 0, 0, 1, 1, 1],\n",
       "       [35.9, 0, 1, 0, 0, 0],\n",
       "       [36.0, 0, 0, 1, 1, 1],\n",
       "       [36.0, 0, 1, 0, 0, 0],\n",
       "       [36.0, 0, 1, 0, 0, 0],\n",
       "       [36.2, 0, 0, 1, 1, 1],\n",
       "       [36.2, 0, 1, 0, 0, 0],\n",
       "       [36.3, 0, 0, 1, 1, 1],\n",
       "       [36.6, 0, 0, 1, 1, 1],\n",
       "       [36.6, 0, 0, 1, 1, 1],\n",
       "       [36.6, 0, 1, 0, 0, 0],\n",
       "       [36.6, 0, 1, 0, 0, 0],\n",
       "       [36.7, 0, 0, 1, 1, 1],\n",
       "       [36.7, 0, 1, 0, 0, 0],\n",
       "       [36.7, 0, 1, 0, 0, 0],\n",
       "       [36.8, 0, 0, 1, 1, 1],\n",
       "       [36.8, 0, 0, 1, 1, 1],\n",
       "       [36.9, 0, 0, 1, 1, 1],\n",
       "       [36.9, 0, 1, 0, 0, 0],\n",
       "       [37.0, 0, 0, 1, 1, 0],\n",
       "       [37.0, 0, 0, 1, 1, 0],\n",
       "       [37.0, 0, 1, 0, 0, 0],\n",
       "       [37.0, 0, 0, 1, 1, 1],\n",
       "       [37.0, 0, 0, 1, 1, 1],\n",
       "       [37.0, 0, 0, 1, 1, 1],\n",
       "       [37.0, 0, 0, 1, 1, 1],\n",
       "       [37.0, 0, 0, 1, 0, 0],\n",
       "       [37.1, 0, 1, 0, 0, 0],\n",
       "       [37.1, 0, 0, 1, 1, 1],\n",
       "       [37.1, 0, 0, 1, 0, 0],\n",
       "       [37.2, 0, 0, 1, 1, 0],\n",
       "       [37.2, 0, 1, 0, 0, 0],\n",
       "       [37.2, 0, 0, 1, 0, 0],\n",
       "       [37.3, 0, 1, 0, 0, 0],\n",
       "       [37.3, 0, 0, 1, 1, 1],\n",
       "       [37.3, 0, 0, 1, 0, 0],\n",
       "       [37.4, 0, 1, 0, 0, 0],\n",
       "       [37.4, 0, 0, 1, 0, 0],\n",
       "       [37.5, 0, 0, 1, 1, 0],\n",
       "       [37.5, 0, 1, 0, 0, 0],\n",
       "       [37.5, 0, 1, 0, 0, 0],\n",
       "       [37.5, 0, 0, 1, 1, 1],\n",
       "       [37.5, 0, 0, 1, 0, 0],\n",
       "       [37.5, 0, 0, 1, 0, 0],\n",
       "       [37.6, 0, 0, 1, 1, 0],\n",
       "       [37.6, 0, 0, 1, 1, 0],\n",
       "       [37.6, 0, 0, 1, 1, 1],\n",
       "       [37.7, 0, 0, 1, 1, 0],\n",
       "       [37.7, 0, 0, 1, 1, 0],\n",
       "       [37.7, 0, 1, 0, 0, 0],\n",
       "       [37.7, 0, 0, 1, 0, 0],\n",
       "       [37.8, 0, 1, 0, 0, 0],\n",
       "       [37.8, 0, 0, 1, 1, 1],\n",
       "       [37.8, 0, 0, 1, 0, 0],\n",
       "       [37.9, 0, 0, 1, 1, 0],\n",
       "       [37.9, 0, 0, 1, 1, 0],\n",
       "       [37.9, 0, 1, 0, 0, 0],\n",
       "       [37.9, 0, 0, 1, 1, 1],\n",
       "       [37.9, 0, 0, 1, 0, 0],\n",
       "       [38.0, 0, 1, 1, 0, 1],\n",
       "       [38.0, 0, 1, 1, 0, 1],\n",
       "       [38.1, 0, 1, 1, 0, 1],\n",
       "       [38.3, 0, 1, 1, 0, 1],\n",
       "       [38.5, 0, 1, 1, 0, 1],\n",
       "       [38.7, 0, 1, 1, 0, 1],\n",
       "       [38.9, 0, 1, 1, 0, 1],\n",
       "       [39.0, 0, 1, 1, 0, 1],\n",
       "       [39.4, 0, 1, 1, 0, 1],\n",
       "       [39.7, 0, 1, 1, 0, 1],\n",
       "       [40.0, 1, 1, 1, 1, 1],\n",
       "       [40.0, 1, 1, 1, 1, 1],\n",
       "       [40.0, 1, 1, 1, 1, 0],\n",
       "       [40.0, 0, 0, 0, 0, 0],\n",
       "       [40.0, 0, 0, 0, 0, 0],\n",
       "       [40.0, 1, 1, 0, 1, 0],\n",
       "       [40.0, 1, 1, 0, 1, 0],\n",
       "       [40.0, 0, 1, 1, 0, 1],\n",
       "       [40.1, 1, 1, 1, 1, 0],\n",
       "       [40.2, 1, 1, 1, 1, 1],\n",
       "       [40.2, 0, 0, 0, 0, 0],\n",
       "       [40.2, 1, 1, 0, 1, 0],\n",
       "       [40.3, 0, 1, 1, 0, 1],\n",
       "       [40.4, 1, 1, 1, 1, 1],\n",
       "       [40.4, 1, 1, 1, 1, 0],\n",
       "       [40.4, 1, 1, 1, 1, 0],\n",
       "       [40.4, 0, 0, 0, 0, 0],\n",
       "       [40.4, 1, 1, 0, 1, 0],\n",
       "       [40.5, 1, 1, 1, 1, 0],\n",
       "       [40.6, 1, 1, 1, 1, 1],\n",
       "       [40.6, 0, 0, 0, 0, 0],\n",
       "       [40.6, 1, 1, 0, 1, 0],\n",
       "       [40.7, 1, 1, 1, 1, 1],\n",
       "       [40.7, 1, 1, 1, 1, 0],\n",
       "       [40.7, 0, 0, 0, 0, 0],\n",
       "       [40.7, 1, 1, 0, 1, 0],\n",
       "       [40.7, 0, 1, 1, 0, 1],\n",
       "       [40.8, 0, 1, 1, 0, 1],\n",
       "       [40.9, 1, 1, 1, 1, 0],\n",
       "       [40.9, 1, 1, 1, 1, 0],\n",
       "       [40.9, 0, 1, 1, 0, 1],\n",
       "       [41.0, 1, 1, 1, 1, 1],\n",
       "       [41.0, 0, 0, 0, 0, 0],\n",
       "       [41.0, 1, 1, 0, 1, 0],\n",
       "       [41.0, 0, 1, 1, 0, 1],\n",
       "       [41.1, 1, 1, 1, 1, 1],\n",
       "       [41.1, 1, 1, 1, 1, 0],\n",
       "       [41.1, 0, 0, 0, 0, 0],\n",
       "       [41.1, 1, 1, 0, 1, 0],\n",
       "       [41.1, 0, 1, 1, 0, 1],\n",
       "       [41.2, 1, 1, 1, 1, 1],\n",
       "       [41.2, 0, 0, 0, 0, 0],\n",
       "       [41.2, 1, 1, 0, 1, 0],\n",
       "       [41.2, 0, 1, 1, 0, 1],\n",
       "       [41.3, 1, 1, 1, 1, 0],\n",
       "       [41.4, 0, 1, 1, 0, 1],\n",
       "       [41.5, 0, 0, 0, 0, 0],\n",
       "       [41.5, 1, 1, 0, 1, 0],\n",
       "       [41.5, 0, 1, 1, 0, 1],\n",
       "       [41.5, 0, 1, 1, 0, 1]], dtype=object)"
      ]
     },
     "execution_count": 12,
     "metadata": {},
     "output_type": "execute_result"
    }
   ],
   "source": [
    "X"
   ]
  },
  {
   "cell_type": "markdown",
   "metadata": {},
   "source": [
    "## Create Train and Test Data"
   ]
  },
  {
   "cell_type": "code",
   "execution_count": 13,
   "metadata": {
    "collapsed": true
   },
   "outputs": [],
   "source": [
    "X1_train, X1_test, Y1_train, Y1_test = train_test_split(X, Y1, test_size = 0.2, random_state = 4)\n",
    "X2_train, X2_test, Y2_train, Y2_test = train_test_split(X, Y2, test_size = 0.2, random_state = 4)"
   ]
  },
  {
   "cell_type": "markdown",
   "metadata": {},
   "source": [
    "## Decision Tree Classifier Y1"
   ]
  },
  {
   "cell_type": "code",
   "execution_count": 14,
   "metadata": {
    "collapsed": true
   },
   "outputs": [],
   "source": [
    "clf_dt_1 = DecisionTreeClassifier(criterion = 'entropy')"
   ]
  },
  {
   "cell_type": "code",
   "execution_count": 15,
   "metadata": {},
   "outputs": [
    {
     "data": {
      "text/plain": [
       "DecisionTreeClassifier(class_weight=None, criterion='entropy', max_depth=None,\n",
       "            max_features=None, max_leaf_nodes=None,\n",
       "            min_impurity_decrease=0.0, min_impurity_split=None,\n",
       "            min_samples_leaf=1, min_samples_split=2,\n",
       "            min_weight_fraction_leaf=0.0, presort=False, random_state=None,\n",
       "            splitter='best')"
      ]
     },
     "execution_count": 15,
     "metadata": {},
     "output_type": "execute_result"
    }
   ],
   "source": [
    "clf_dt_1.fit(X1_train, Y1_train)"
   ]
  },
  {
   "cell_type": "code",
   "execution_count": 16,
   "metadata": {
    "collapsed": true
   },
   "outputs": [],
   "source": [
    "Y1_pred_dt = clf_dt_1.predict(X1_test)"
   ]
  },
  {
   "cell_type": "code",
   "execution_count": 17,
   "metadata": {},
   "outputs": [
    {
     "data": {
      "text/plain": [
       "array([[13,  0],\n",
       "       [ 0, 11]], dtype=int64)"
      ]
     },
     "execution_count": 17,
     "metadata": {},
     "output_type": "execute_result"
    }
   ],
   "source": [
    "cm1_dt = confusion_matrix(Y1_pred_dt, Y1_test)\n",
    "cm1_dt"
   ]
  },
  {
   "cell_type": "markdown",
   "metadata": {},
   "source": [
    "## Decision Tree Classifier Y2"
   ]
  },
  {
   "cell_type": "code",
   "execution_count": 18,
   "metadata": {
    "collapsed": true
   },
   "outputs": [],
   "source": [
    "clf_dt_2 = DecisionTreeClassifier(criterion = 'entropy')"
   ]
  },
  {
   "cell_type": "code",
   "execution_count": 19,
   "metadata": {},
   "outputs": [
    {
     "data": {
      "text/plain": [
       "DecisionTreeClassifier(class_weight=None, criterion='entropy', max_depth=None,\n",
       "            max_features=None, max_leaf_nodes=None,\n",
       "            min_impurity_decrease=0.0, min_impurity_split=None,\n",
       "            min_samples_leaf=1, min_samples_split=2,\n",
       "            min_weight_fraction_leaf=0.0, presort=False, random_state=None,\n",
       "            splitter='best')"
      ]
     },
     "execution_count": 19,
     "metadata": {},
     "output_type": "execute_result"
    }
   ],
   "source": [
    "clf_dt_2.fit(X2_train, Y2_train)"
   ]
  },
  {
   "cell_type": "code",
   "execution_count": 20,
   "metadata": {
    "collapsed": true
   },
   "outputs": [],
   "source": [
    "Y2_pred_dt = clf_dt_2.predict(X2_test)"
   ]
  },
  {
   "cell_type": "code",
   "execution_count": 21,
   "metadata": {},
   "outputs": [
    {
     "data": {
      "text/plain": [
       "array([[15,  0],\n",
       "       [ 0,  9]], dtype=int64)"
      ]
     },
     "execution_count": 21,
     "metadata": {},
     "output_type": "execute_result"
    }
   ],
   "source": [
    "cm2_dt = confusion_matrix(Y2_pred_dt, Y2_test)\n",
    "cm2_dt"
   ]
  },
  {
   "cell_type": "markdown",
   "metadata": {},
   "source": [
    "## Random Forest Classifier Y1"
   ]
  },
  {
   "cell_type": "code",
   "execution_count": 22,
   "metadata": {
    "collapsed": true
   },
   "outputs": [],
   "source": [
    "clf_rf_1 = RandomForestClassifier(n_estimators = 10, criterion = 'entropy')"
   ]
  },
  {
   "cell_type": "code",
   "execution_count": 23,
   "metadata": {},
   "outputs": [
    {
     "data": {
      "text/plain": [
       "RandomForestClassifier(bootstrap=True, class_weight=None, criterion='entropy',\n",
       "            max_depth=None, max_features='auto', max_leaf_nodes=None,\n",
       "            min_impurity_decrease=0.0, min_impurity_split=None,\n",
       "            min_samples_leaf=1, min_samples_split=2,\n",
       "            min_weight_fraction_leaf=0.0, n_estimators=10, n_jobs=1,\n",
       "            oob_score=False, random_state=None, verbose=0,\n",
       "            warm_start=False)"
      ]
     },
     "execution_count": 23,
     "metadata": {},
     "output_type": "execute_result"
    }
   ],
   "source": [
    "clf_rf_1.fit(X1_train, Y1_train)"
   ]
  },
  {
   "cell_type": "code",
   "execution_count": 25,
   "metadata": {
    "collapsed": true
   },
   "outputs": [],
   "source": [
    "Y1_pred_rf = clf_rf_1.predict(X1_test)"
   ]
  },
  {
   "cell_type": "code",
   "execution_count": 26,
   "metadata": {},
   "outputs": [
    {
     "data": {
      "text/plain": [
       "array([[13,  0],\n",
       "       [ 0, 11]], dtype=int64)"
      ]
     },
     "execution_count": 26,
     "metadata": {},
     "output_type": "execute_result"
    }
   ],
   "source": [
    "cm1_rf = confusion_matrix(Y1_pred_dt, Y1_test)\n",
    "cm1_rf"
   ]
  },
  {
   "cell_type": "markdown",
   "metadata": {},
   "source": [
    "## Random Forest Classifier Y2"
   ]
  },
  {
   "cell_type": "code",
   "execution_count": 27,
   "metadata": {
    "collapsed": true
   },
   "outputs": [],
   "source": [
    "clf_rf_2 = RandomForestClassifier(n_estimators = 10, criterion = 'entropy')"
   ]
  },
  {
   "cell_type": "code",
   "execution_count": 28,
   "metadata": {},
   "outputs": [
    {
     "data": {
      "text/plain": [
       "RandomForestClassifier(bootstrap=True, class_weight=None, criterion='entropy',\n",
       "            max_depth=None, max_features='auto', max_leaf_nodes=None,\n",
       "            min_impurity_decrease=0.0, min_impurity_split=None,\n",
       "            min_samples_leaf=1, min_samples_split=2,\n",
       "            min_weight_fraction_leaf=0.0, n_estimators=10, n_jobs=1,\n",
       "            oob_score=False, random_state=None, verbose=0,\n",
       "            warm_start=False)"
      ]
     },
     "execution_count": 28,
     "metadata": {},
     "output_type": "execute_result"
    }
   ],
   "source": [
    "clf_rf_2.fit(X2_train, Y2_train)"
   ]
  },
  {
   "cell_type": "code",
   "execution_count": 29,
   "metadata": {
    "collapsed": true
   },
   "outputs": [],
   "source": [
    "Y2_pred_rf = clf_rf_2.predict(X2_test)"
   ]
  },
  {
   "cell_type": "code",
   "execution_count": 30,
   "metadata": {},
   "outputs": [
    {
     "data": {
      "text/plain": [
       "array([[15,  0],\n",
       "       [ 0,  9]], dtype=int64)"
      ]
     },
     "execution_count": 30,
     "metadata": {},
     "output_type": "execute_result"
    }
   ],
   "source": [
    "cm2_rf = confusion_matrix(Y2_pred_dt, Y2_test)\n",
    "cm2_rf"
   ]
  },
  {
   "cell_type": "markdown",
   "metadata": {},
   "source": [
    "## Naive Bayes Classifier Y1"
   ]
  },
  {
   "cell_type": "code",
   "execution_count": 33,
   "metadata": {
    "collapsed": true
   },
   "outputs": [],
   "source": [
    "clf_nb_1 = GaussianNB()"
   ]
  },
  {
   "cell_type": "code",
   "execution_count": 34,
   "metadata": {},
   "outputs": [
    {
     "data": {
      "text/plain": [
       "GaussianNB(priors=None)"
      ]
     },
     "execution_count": 34,
     "metadata": {},
     "output_type": "execute_result"
    }
   ],
   "source": [
    "clf_nb_1.fit(X1_train, Y1_train)"
   ]
  },
  {
   "cell_type": "code",
   "execution_count": 35,
   "metadata": {
    "collapsed": true
   },
   "outputs": [],
   "source": [
    "Y1_pred_nb = clf_nb_1.predict(X1_test)"
   ]
  },
  {
   "cell_type": "code",
   "execution_count": 36,
   "metadata": {},
   "outputs": [
    {
     "data": {
      "text/plain": [
       "array([[ 9,  0],\n",
       "       [ 4, 11]], dtype=int64)"
      ]
     },
     "execution_count": 36,
     "metadata": {},
     "output_type": "execute_result"
    }
   ],
   "source": [
    "cm1_nb = confusion_matrix(Y1_pred_nb, Y1_test)\n",
    "cm1_nb"
   ]
  },
  {
   "cell_type": "markdown",
   "metadata": {},
   "source": [
    "## Naive Bayes Classifier Y2"
   ]
  },
  {
   "cell_type": "code",
   "execution_count": 37,
   "metadata": {
    "collapsed": true
   },
   "outputs": [],
   "source": [
    "clf_nb_2 = GaussianNB()"
   ]
  },
  {
   "cell_type": "code",
   "execution_count": 38,
   "metadata": {},
   "outputs": [
    {
     "data": {
      "text/plain": [
       "GaussianNB(priors=None)"
      ]
     },
     "execution_count": 38,
     "metadata": {},
     "output_type": "execute_result"
    }
   ],
   "source": [
    "clf_nb_2.fit(X2_train, Y2_train)"
   ]
  },
  {
   "cell_type": "code",
   "execution_count": 39,
   "metadata": {
    "collapsed": true
   },
   "outputs": [],
   "source": [
    "Y2_pred_nb = clf_nb_2.predict(X2_test)"
   ]
  },
  {
   "cell_type": "code",
   "execution_count": 40,
   "metadata": {},
   "outputs": [
    {
     "data": {
      "text/plain": [
       "array([[15,  0],\n",
       "       [ 0,  9]], dtype=int64)"
      ]
     },
     "execution_count": 40,
     "metadata": {},
     "output_type": "execute_result"
    }
   ],
   "source": [
    "cm2_nb = confusion_matrix(Y2_pred_nb, Y2_test)\n",
    "cm2_nb"
   ]
  },
  {
   "cell_type": "markdown",
   "metadata": {},
   "source": [
    "## KNN Classifier Y1"
   ]
  },
  {
   "cell_type": "code",
   "execution_count": 41,
   "metadata": {
    "collapsed": true
   },
   "outputs": [],
   "source": [
    "clf_knn_1 = KNeighborsClassifier(n_neighbors = 5)"
   ]
  },
  {
   "cell_type": "code",
   "execution_count": 42,
   "metadata": {},
   "outputs": [
    {
     "data": {
      "text/plain": [
       "KNeighborsClassifier(algorithm='auto', leaf_size=30, metric='minkowski',\n",
       "           metric_params=None, n_jobs=1, n_neighbors=5, p=2,\n",
       "           weights='uniform')"
      ]
     },
     "execution_count": 42,
     "metadata": {},
     "output_type": "execute_result"
    }
   ],
   "source": [
    "clf_knn_1.fit(X1_train, Y1_train)"
   ]
  },
  {
   "cell_type": "code",
   "execution_count": 43,
   "metadata": {
    "collapsed": true
   },
   "outputs": [],
   "source": [
    "Y1_pred_knn = clf_knn_1.predict(X1_test)"
   ]
  },
  {
   "cell_type": "code",
   "execution_count": 44,
   "metadata": {},
   "outputs": [
    {
     "data": {
      "text/plain": [
       "array([[13,  0],\n",
       "       [ 0, 11]], dtype=int64)"
      ]
     },
     "execution_count": 44,
     "metadata": {},
     "output_type": "execute_result"
    }
   ],
   "source": [
    "cm1_knn = confusion_matrix(Y1_pred_knn, Y1_test)\n",
    "cm1_knn"
   ]
  },
  {
   "cell_type": "markdown",
   "metadata": {},
   "source": [
    "## KNN Classifier Y2"
   ]
  },
  {
   "cell_type": "code",
   "execution_count": 45,
   "metadata": {
    "collapsed": true
   },
   "outputs": [],
   "source": [
    "clf_knn_2 = KNeighborsClassifier(n_neighbors = 5)"
   ]
  },
  {
   "cell_type": "code",
   "execution_count": 46,
   "metadata": {},
   "outputs": [
    {
     "data": {
      "text/plain": [
       "KNeighborsClassifier(algorithm='auto', leaf_size=30, metric='minkowski',\n",
       "           metric_params=None, n_jobs=1, n_neighbors=5, p=2,\n",
       "           weights='uniform')"
      ]
     },
     "execution_count": 46,
     "metadata": {},
     "output_type": "execute_result"
    }
   ],
   "source": [
    "clf_knn_2.fit(X2_train, Y2_train)"
   ]
  },
  {
   "cell_type": "code",
   "execution_count": 47,
   "metadata": {
    "collapsed": true
   },
   "outputs": [],
   "source": [
    "Y2_pred_knn = clf_knn_2.predict(X2_test)"
   ]
  },
  {
   "cell_type": "code",
   "execution_count": 48,
   "metadata": {},
   "outputs": [
    {
     "data": {
      "text/plain": [
       "array([[15,  0],\n",
       "       [ 0,  9]], dtype=int64)"
      ]
     },
     "execution_count": 48,
     "metadata": {},
     "output_type": "execute_result"
    }
   ],
   "source": [
    "cm2_knn = confusion_matrix(Y2_pred_knn, Y2_test)\n",
    "cm2_knn"
   ]
  },
  {
   "cell_type": "markdown",
   "metadata": {},
   "source": [
    "## Logistic Regression Classifier Y1"
   ]
  },
  {
   "cell_type": "code",
   "execution_count": 49,
   "metadata": {
    "collapsed": true
   },
   "outputs": [],
   "source": [
    "clf_lr_1 = LogisticRegression()"
   ]
  },
  {
   "cell_type": "code",
   "execution_count": 50,
   "metadata": {},
   "outputs": [
    {
     "data": {
      "text/plain": [
       "LogisticRegression(C=1.0, class_weight=None, dual=False, fit_intercept=True,\n",
       "          intercept_scaling=1, max_iter=100, multi_class='ovr', n_jobs=1,\n",
       "          penalty='l2', random_state=None, solver='liblinear', tol=0.0001,\n",
       "          verbose=0, warm_start=False)"
      ]
     },
     "execution_count": 50,
     "metadata": {},
     "output_type": "execute_result"
    }
   ],
   "source": [
    "clf_lr_1.fit(X1_train, Y1_train)"
   ]
  },
  {
   "cell_type": "code",
   "execution_count": 51,
   "metadata": {
    "collapsed": true
   },
   "outputs": [],
   "source": [
    "Y1_pred_lr = clf_lr_1.predict(X1_test)"
   ]
  },
  {
   "cell_type": "code",
   "execution_count": 52,
   "metadata": {},
   "outputs": [
    {
     "data": {
      "text/plain": [
       "array([[13,  0],\n",
       "       [ 0, 11]], dtype=int64)"
      ]
     },
     "execution_count": 52,
     "metadata": {},
     "output_type": "execute_result"
    }
   ],
   "source": [
    "cm1_lr = confusion_matrix(Y1_pred_lr, Y1_test)\n",
    "cm1_lr"
   ]
  },
  {
   "cell_type": "markdown",
   "metadata": {},
   "source": [
    "## Logistic Regression Classifier Y2"
   ]
  },
  {
   "cell_type": "code",
   "execution_count": 53,
   "metadata": {
    "collapsed": true
   },
   "outputs": [],
   "source": [
    "clf_lr_2 = LogisticRegression()"
   ]
  },
  {
   "cell_type": "code",
   "execution_count": 54,
   "metadata": {},
   "outputs": [
    {
     "data": {
      "text/plain": [
       "LogisticRegression(C=1.0, class_weight=None, dual=False, fit_intercept=True,\n",
       "          intercept_scaling=1, max_iter=100, multi_class='ovr', n_jobs=1,\n",
       "          penalty='l2', random_state=None, solver='liblinear', tol=0.0001,\n",
       "          verbose=0, warm_start=False)"
      ]
     },
     "execution_count": 54,
     "metadata": {},
     "output_type": "execute_result"
    }
   ],
   "source": [
    "clf_lr_2.fit(X2_train, Y2_train)"
   ]
  },
  {
   "cell_type": "code",
   "execution_count": 55,
   "metadata": {
    "collapsed": true
   },
   "outputs": [],
   "source": [
    "Y2_pred_lr = clf_lr_2.predict(X2_test)"
   ]
  },
  {
   "cell_type": "code",
   "execution_count": 56,
   "metadata": {},
   "outputs": [
    {
     "data": {
      "text/plain": [
       "array([[15,  0],\n",
       "       [ 0,  9]], dtype=int64)"
      ]
     },
     "execution_count": 56,
     "metadata": {},
     "output_type": "execute_result"
    }
   ],
   "source": [
    "cm2_lr = confusion_matrix(Y2_pred_lr, Y2_test)\n",
    "cm2_lr"
   ]
  },
  {
   "cell_type": "markdown",
   "metadata": {},
   "source": [
    "## Linear SVC Classifier Y1"
   ]
  },
  {
   "cell_type": "code",
   "execution_count": 57,
   "metadata": {
    "collapsed": true
   },
   "outputs": [],
   "source": [
    "clf_lsvc_1 = SVC(kernel = 'linear')"
   ]
  },
  {
   "cell_type": "code",
   "execution_count": 58,
   "metadata": {},
   "outputs": [
    {
     "data": {
      "text/plain": [
       "SVC(C=1.0, cache_size=200, class_weight=None, coef0=0.0,\n",
       "  decision_function_shape='ovr', degree=3, gamma='auto', kernel='linear',\n",
       "  max_iter=-1, probability=False, random_state=None, shrinking=True,\n",
       "  tol=0.001, verbose=False)"
      ]
     },
     "execution_count": 58,
     "metadata": {},
     "output_type": "execute_result"
    }
   ],
   "source": [
    "clf_lsvc_1.fit(X1_train, Y1_train)"
   ]
  },
  {
   "cell_type": "code",
   "execution_count": 59,
   "metadata": {
    "collapsed": true
   },
   "outputs": [],
   "source": [
    "Y1_pred_lsvc = clf_lsvc_1.predict(X1_test)"
   ]
  },
  {
   "cell_type": "code",
   "execution_count": 61,
   "metadata": {},
   "outputs": [
    {
     "data": {
      "text/plain": [
       "array([[13,  0],\n",
       "       [ 0, 11]], dtype=int64)"
      ]
     },
     "execution_count": 61,
     "metadata": {},
     "output_type": "execute_result"
    }
   ],
   "source": [
    "cm1_lsvc = confusion_matrix(Y1_pred_lsvc, Y1_test)\n",
    "cm1_lsvc"
   ]
  },
  {
   "cell_type": "markdown",
   "metadata": {},
   "source": [
    "## Linear SVC Classifier Y2"
   ]
  },
  {
   "cell_type": "code",
   "execution_count": 63,
   "metadata": {
    "collapsed": true
   },
   "outputs": [],
   "source": [
    "clf_lsvc_2 = SVC(kernel = 'linear')"
   ]
  },
  {
   "cell_type": "code",
   "execution_count": 64,
   "metadata": {},
   "outputs": [
    {
     "data": {
      "text/plain": [
       "SVC(C=1.0, cache_size=200, class_weight=None, coef0=0.0,\n",
       "  decision_function_shape='ovr', degree=3, gamma='auto', kernel='linear',\n",
       "  max_iter=-1, probability=False, random_state=None, shrinking=True,\n",
       "  tol=0.001, verbose=False)"
      ]
     },
     "execution_count": 64,
     "metadata": {},
     "output_type": "execute_result"
    }
   ],
   "source": [
    "clf_lsvc_2.fit(X2_train, Y2_train)"
   ]
  },
  {
   "cell_type": "code",
   "execution_count": 65,
   "metadata": {
    "collapsed": true
   },
   "outputs": [],
   "source": [
    "Y2_pred_lsvc = clf_lsvc_2.predict(X2_test)"
   ]
  },
  {
   "cell_type": "code",
   "execution_count": 66,
   "metadata": {},
   "outputs": [
    {
     "data": {
      "text/plain": [
       "array([[15,  0],\n",
       "       [ 0,  9]], dtype=int64)"
      ]
     },
     "execution_count": 66,
     "metadata": {},
     "output_type": "execute_result"
    }
   ],
   "source": [
    "cm2_lsvc = confusion_matrix(Y2_pred_lsvc, Y2_test)\n",
    "cm2_lsvc"
   ]
  },
  {
   "cell_type": "markdown",
   "metadata": {},
   "source": [
    "## Kernel SVC Classifier Y1"
   ]
  },
  {
   "cell_type": "code",
   "execution_count": 67,
   "metadata": {
    "collapsed": true
   },
   "outputs": [],
   "source": [
    "clf_ksvc_1 = SVC(kernel = 'rbf')"
   ]
  },
  {
   "cell_type": "code",
   "execution_count": 68,
   "metadata": {},
   "outputs": [
    {
     "data": {
      "text/plain": [
       "SVC(C=1.0, cache_size=200, class_weight=None, coef0=0.0,\n",
       "  decision_function_shape='ovr', degree=3, gamma='auto', kernel='rbf',\n",
       "  max_iter=-1, probability=False, random_state=None, shrinking=True,\n",
       "  tol=0.001, verbose=False)"
      ]
     },
     "execution_count": 68,
     "metadata": {},
     "output_type": "execute_result"
    }
   ],
   "source": [
    "clf_ksvc_1.fit(X1_train, Y1_train)"
   ]
  },
  {
   "cell_type": "code",
   "execution_count": 69,
   "metadata": {
    "collapsed": true
   },
   "outputs": [],
   "source": [
    "Y1_pred_ksvc = clf_ksvc_1.predict(X1_test)"
   ]
  },
  {
   "cell_type": "code",
   "execution_count": 70,
   "metadata": {},
   "outputs": [
    {
     "data": {
      "text/plain": [
       "array([[13,  0],\n",
       "       [ 0, 11]], dtype=int64)"
      ]
     },
     "execution_count": 70,
     "metadata": {},
     "output_type": "execute_result"
    }
   ],
   "source": [
    "cm1_ksvc = confusion_matrix(Y1_pred_ksvc, Y1_test)\n",
    "cm1_ksvc"
   ]
  },
  {
   "cell_type": "markdown",
   "metadata": {},
   "source": [
    "## Kernel SVC Classifier Y2"
   ]
  },
  {
   "cell_type": "code",
   "execution_count": 71,
   "metadata": {
    "collapsed": true
   },
   "outputs": [],
   "source": [
    "clf_ksvc_2 = SVC(kernel = 'rbf')"
   ]
  },
  {
   "cell_type": "code",
   "execution_count": 72,
   "metadata": {},
   "outputs": [
    {
     "data": {
      "text/plain": [
       "SVC(C=1.0, cache_size=200, class_weight=None, coef0=0.0,\n",
       "  decision_function_shape='ovr', degree=3, gamma='auto', kernel='rbf',\n",
       "  max_iter=-1, probability=False, random_state=None, shrinking=True,\n",
       "  tol=0.001, verbose=False)"
      ]
     },
     "execution_count": 72,
     "metadata": {},
     "output_type": "execute_result"
    }
   ],
   "source": [
    "clf_ksvc_2.fit(X2_train, Y2_train)"
   ]
  },
  {
   "cell_type": "code",
   "execution_count": 73,
   "metadata": {
    "collapsed": true
   },
   "outputs": [],
   "source": [
    "Y2_pred_ksvc = clf_ksvc_2.predict(X2_test)"
   ]
  },
  {
   "cell_type": "code",
   "execution_count": 74,
   "metadata": {},
   "outputs": [
    {
     "data": {
      "text/plain": [
       "array([[15,  0],\n",
       "       [ 0,  9]], dtype=int64)"
      ]
     },
     "execution_count": 74,
     "metadata": {},
     "output_type": "execute_result"
    }
   ],
   "source": [
    "cm2_ksvc = confusion_matrix(Y2_pred_ksvc, Y2_test)\n",
    "cm2_ksvc"
   ]
  },
  {
   "cell_type": "markdown",
   "metadata": {},
   "source": [
    "## Checking the Model Accuracies"
   ]
  },
  {
   "cell_type": "code",
   "execution_count": 75,
   "metadata": {},
   "outputs": [
    {
     "data": {
      "text/plain": [
       "{'DT': 1.0,\n",
       " 'KNN': 1.0,\n",
       " 'KernelSVC': 1.0,\n",
       " 'LinearSVC': 1.0,\n",
       " 'LogReg': 1.0,\n",
       " 'NB': 0.83333333333333337,\n",
       " 'RF': 1.0}"
      ]
     },
     "execution_count": 75,
     "metadata": {},
     "output_type": "execute_result"
    }
   ],
   "source": [
    "model_accuracies_1['DT'] = accuracy_score(Y1_pred_dt, Y1_test)\n",
    "model_accuracies_1['KNN'] = accuracy_score(Y1_pred_knn, Y1_test)\n",
    "model_accuracies_1['KernelSVC'] = accuracy_score(Y1_pred_ksvc, Y1_test)\n",
    "model_accuracies_1['LinearSVC'] = accuracy_score(Y1_pred_lsvc, Y1_test)\n",
    "model_accuracies_1['LogReg'] = accuracy_score(Y1_pred_lr, Y1_test)\n",
    "model_accuracies_1['NB'] = accuracy_score(Y1_pred_nb, Y1_test)\n",
    "model_accuracies_1['RF'] = accuracy_score(Y1_pred_rf, Y1_test)\n",
    "model_accuracies_1"
   ]
  },
  {
   "cell_type": "code",
   "execution_count": 76,
   "metadata": {},
   "outputs": [
    {
     "data": {
      "text/plain": [
       "{'DT': 1.0,\n",
       " 'KNN': 1.0,\n",
       " 'KernelSVC': 1.0,\n",
       " 'LinearSVC': 1.0,\n",
       " 'LogReg': 1.0,\n",
       " 'NB': 1.0,\n",
       " 'RF': 1.0}"
      ]
     },
     "execution_count": 76,
     "metadata": {},
     "output_type": "execute_result"
    }
   ],
   "source": [
    "model_accuracies_2['DT'] = accuracy_score(Y2_pred_dt, Y2_test)\n",
    "model_accuracies_2['KNN'] = accuracy_score(Y2_pred_knn, Y2_test)\n",
    "model_accuracies_2['KernelSVC'] = accuracy_score(Y2_pred_ksvc, Y2_test)\n",
    "model_accuracies_2['LinearSVC'] = accuracy_score(Y2_pred_lsvc, Y2_test)\n",
    "model_accuracies_2['LogReg'] = accuracy_score(Y2_pred_lr, Y2_test)\n",
    "model_accuracies_2['NB'] = accuracy_score(Y2_pred_nb, Y2_test)\n",
    "model_accuracies_2['RF'] = accuracy_score(Y2_pred_rf, Y2_test)\n",
    "model_accuracies_2"
   ]
  },
  {
   "cell_type": "code",
   "execution_count": null,
   "metadata": {
    "collapsed": true
   },
   "outputs": [],
   "source": []
  }
 ],
 "metadata": {
  "kernelspec": {
   "display_name": "Python [default]",
   "language": "python",
   "name": "python3"
  },
  "language_info": {
   "codemirror_mode": {
    "name": "ipython",
    "version": 3
   },
   "file_extension": ".py",
   "mimetype": "text/x-python",
   "name": "python",
   "nbconvert_exporter": "python",
   "pygments_lexer": "ipython3",
   "version": "3.5.4"
  }
 },
 "nbformat": 4,
 "nbformat_minor": 2
}
