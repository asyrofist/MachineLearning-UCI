{
 "cells": [
  {
   "cell_type": "markdown",
   "metadata": {},
   "source": [
    "## Initialization"
   ]
  },
  {
   "cell_type": "code",
   "execution_count": 1,
   "metadata": {},
   "outputs": [
    {
     "name": "stderr",
     "output_type": "stream",
     "text": [
      "Using Theano backend.\n"
     ]
    }
   ],
   "source": [
    "import pandas as pd\n",
    "import numpy as np\n",
    "import keras"
   ]
  },
  {
   "cell_type": "markdown",
   "metadata": {},
   "source": [
    "## Importing the Data"
   ]
  },
  {
   "cell_type": "code",
   "execution_count": 2,
   "metadata": {},
   "outputs": [
    {
     "data": {
      "text/plain": [
       "(30000, 24)"
      ]
     },
     "execution_count": 2,
     "metadata": {},
     "output_type": "execute_result"
    }
   ],
   "source": [
    "dataset = pd.read_excel('Dataset.xls')\n",
    "dataset.shape"
   ]
  },
  {
   "cell_type": "code",
   "execution_count": 3,
   "metadata": {},
   "outputs": [
    {
     "data": {
      "text/html": [
       "<div>\n",
       "<style>\n",
       "    .dataframe thead tr:only-child th {\n",
       "        text-align: right;\n",
       "    }\n",
       "\n",
       "    .dataframe thead th {\n",
       "        text-align: left;\n",
       "    }\n",
       "\n",
       "    .dataframe tbody tr th {\n",
       "        vertical-align: top;\n",
       "    }\n",
       "</style>\n",
       "<table border=\"1\" class=\"dataframe\">\n",
       "  <thead>\n",
       "    <tr style=\"text-align: right;\">\n",
       "      <th></th>\n",
       "      <th>LIMIT_BAL</th>\n",
       "      <th>SEX</th>\n",
       "      <th>EDUCATION</th>\n",
       "      <th>MARRIAGE</th>\n",
       "      <th>AGE</th>\n",
       "      <th>PAY_0</th>\n",
       "      <th>PAY_2</th>\n",
       "      <th>PAY_3</th>\n",
       "      <th>PAY_4</th>\n",
       "      <th>PAY_5</th>\n",
       "      <th>...</th>\n",
       "      <th>BILL_AMT4</th>\n",
       "      <th>BILL_AMT5</th>\n",
       "      <th>BILL_AMT6</th>\n",
       "      <th>PAY_AMT1</th>\n",
       "      <th>PAY_AMT2</th>\n",
       "      <th>PAY_AMT3</th>\n",
       "      <th>PAY_AMT4</th>\n",
       "      <th>PAY_AMT5</th>\n",
       "      <th>PAY_AMT6</th>\n",
       "      <th>default payment next month</th>\n",
       "    </tr>\n",
       "  </thead>\n",
       "  <tbody>\n",
       "    <tr>\n",
       "      <th>0</th>\n",
       "      <td>20000</td>\n",
       "      <td>2</td>\n",
       "      <td>2</td>\n",
       "      <td>1</td>\n",
       "      <td>24</td>\n",
       "      <td>2</td>\n",
       "      <td>2</td>\n",
       "      <td>-1</td>\n",
       "      <td>-1</td>\n",
       "      <td>-2</td>\n",
       "      <td>...</td>\n",
       "      <td>0</td>\n",
       "      <td>0</td>\n",
       "      <td>0</td>\n",
       "      <td>0</td>\n",
       "      <td>689</td>\n",
       "      <td>0</td>\n",
       "      <td>0</td>\n",
       "      <td>0</td>\n",
       "      <td>0</td>\n",
       "      <td>1</td>\n",
       "    </tr>\n",
       "    <tr>\n",
       "      <th>1</th>\n",
       "      <td>120000</td>\n",
       "      <td>2</td>\n",
       "      <td>2</td>\n",
       "      <td>2</td>\n",
       "      <td>26</td>\n",
       "      <td>-1</td>\n",
       "      <td>2</td>\n",
       "      <td>0</td>\n",
       "      <td>0</td>\n",
       "      <td>0</td>\n",
       "      <td>...</td>\n",
       "      <td>3272</td>\n",
       "      <td>3455</td>\n",
       "      <td>3261</td>\n",
       "      <td>0</td>\n",
       "      <td>1000</td>\n",
       "      <td>1000</td>\n",
       "      <td>1000</td>\n",
       "      <td>0</td>\n",
       "      <td>2000</td>\n",
       "      <td>1</td>\n",
       "    </tr>\n",
       "    <tr>\n",
       "      <th>2</th>\n",
       "      <td>90000</td>\n",
       "      <td>2</td>\n",
       "      <td>2</td>\n",
       "      <td>2</td>\n",
       "      <td>34</td>\n",
       "      <td>0</td>\n",
       "      <td>0</td>\n",
       "      <td>0</td>\n",
       "      <td>0</td>\n",
       "      <td>0</td>\n",
       "      <td>...</td>\n",
       "      <td>14331</td>\n",
       "      <td>14948</td>\n",
       "      <td>15549</td>\n",
       "      <td>1518</td>\n",
       "      <td>1500</td>\n",
       "      <td>1000</td>\n",
       "      <td>1000</td>\n",
       "      <td>1000</td>\n",
       "      <td>5000</td>\n",
       "      <td>0</td>\n",
       "    </tr>\n",
       "    <tr>\n",
       "      <th>3</th>\n",
       "      <td>50000</td>\n",
       "      <td>2</td>\n",
       "      <td>2</td>\n",
       "      <td>1</td>\n",
       "      <td>37</td>\n",
       "      <td>0</td>\n",
       "      <td>0</td>\n",
       "      <td>0</td>\n",
       "      <td>0</td>\n",
       "      <td>0</td>\n",
       "      <td>...</td>\n",
       "      <td>28314</td>\n",
       "      <td>28959</td>\n",
       "      <td>29547</td>\n",
       "      <td>2000</td>\n",
       "      <td>2019</td>\n",
       "      <td>1200</td>\n",
       "      <td>1100</td>\n",
       "      <td>1069</td>\n",
       "      <td>1000</td>\n",
       "      <td>0</td>\n",
       "    </tr>\n",
       "    <tr>\n",
       "      <th>4</th>\n",
       "      <td>50000</td>\n",
       "      <td>1</td>\n",
       "      <td>2</td>\n",
       "      <td>1</td>\n",
       "      <td>57</td>\n",
       "      <td>-1</td>\n",
       "      <td>0</td>\n",
       "      <td>-1</td>\n",
       "      <td>0</td>\n",
       "      <td>0</td>\n",
       "      <td>...</td>\n",
       "      <td>20940</td>\n",
       "      <td>19146</td>\n",
       "      <td>19131</td>\n",
       "      <td>2000</td>\n",
       "      <td>36681</td>\n",
       "      <td>10000</td>\n",
       "      <td>9000</td>\n",
       "      <td>689</td>\n",
       "      <td>679</td>\n",
       "      <td>0</td>\n",
       "    </tr>\n",
       "  </tbody>\n",
       "</table>\n",
       "<p>5 rows × 24 columns</p>\n",
       "</div>"
      ],
      "text/plain": [
       "   LIMIT_BAL  SEX  EDUCATION  MARRIAGE  AGE  PAY_0  PAY_2  PAY_3  PAY_4  \\\n",
       "0      20000    2          2         1   24      2      2     -1     -1   \n",
       "1     120000    2          2         2   26     -1      2      0      0   \n",
       "2      90000    2          2         2   34      0      0      0      0   \n",
       "3      50000    2          2         1   37      0      0      0      0   \n",
       "4      50000    1          2         1   57     -1      0     -1      0   \n",
       "\n",
       "   PAY_5             ...              BILL_AMT4  BILL_AMT5  BILL_AMT6  \\\n",
       "0     -2             ...                      0          0          0   \n",
       "1      0             ...                   3272       3455       3261   \n",
       "2      0             ...                  14331      14948      15549   \n",
       "3      0             ...                  28314      28959      29547   \n",
       "4      0             ...                  20940      19146      19131   \n",
       "\n",
       "   PAY_AMT1  PAY_AMT2  PAY_AMT3  PAY_AMT4  PAY_AMT5  PAY_AMT6  \\\n",
       "0         0       689         0         0         0         0   \n",
       "1         0      1000      1000      1000         0      2000   \n",
       "2      1518      1500      1000      1000      1000      5000   \n",
       "3      2000      2019      1200      1100      1069      1000   \n",
       "4      2000     36681     10000      9000       689       679   \n",
       "\n",
       "   default payment next month  \n",
       "0                           1  \n",
       "1                           1  \n",
       "2                           0  \n",
       "3                           0  \n",
       "4                           0  \n",
       "\n",
       "[5 rows x 24 columns]"
      ]
     },
     "execution_count": 3,
     "metadata": {},
     "output_type": "execute_result"
    }
   ],
   "source": [
    "dataset.head()"
   ]
  },
  {
   "cell_type": "markdown",
   "metadata": {},
   "source": [
    "## Create X and Y"
   ]
  },
  {
   "cell_type": "code",
   "execution_count": 4,
   "metadata": {},
   "outputs": [
    {
     "data": {
      "text/plain": [
       "(30000,)"
      ]
     },
     "execution_count": 4,
     "metadata": {},
     "output_type": "execute_result"
    }
   ],
   "source": [
    "Y = dataset.iloc[:, 23].values\n",
    "Y.shape"
   ]
  },
  {
   "cell_type": "code",
   "execution_count": 5,
   "metadata": {},
   "outputs": [
    {
     "data": {
      "text/plain": [
       "1"
      ]
     },
     "execution_count": 5,
     "metadata": {},
     "output_type": "execute_result"
    }
   ],
   "source": [
    "Y[0]"
   ]
  },
  {
   "cell_type": "code",
   "execution_count": 6,
   "metadata": {},
   "outputs": [
    {
     "data": {
      "text/plain": [
       "(30000, 23)"
      ]
     },
     "execution_count": 6,
     "metadata": {},
     "output_type": "execute_result"
    }
   ],
   "source": [
    "X = dataset.iloc[:, 0:23].values\n",
    "X.shape"
   ]
  },
  {
   "cell_type": "code",
   "execution_count": 7,
   "metadata": {},
   "outputs": [
    {
     "data": {
      "text/plain": [
       "array([20000,     2,     2,     1,    24,     2,     2,    -1,    -1,\n",
       "          -2,    -2,  3913,  3102,   689,     0,     0,     0,     0,\n",
       "         689,     0,     0,     0,     0], dtype=int64)"
      ]
     },
     "execution_count": 7,
     "metadata": {},
     "output_type": "execute_result"
    }
   ],
   "source": [
    "X[0]"
   ]
  },
  {
   "cell_type": "markdown",
   "metadata": {},
   "source": [
    "## Preprocess the Data"
   ]
  },
  {
   "cell_type": "code",
   "execution_count": 8,
   "metadata": {
    "collapsed": true
   },
   "outputs": [],
   "source": [
    "from sklearn.preprocessing import StandardScaler, LabelEncoder, OneHotEncoder"
   ]
  },
  {
   "cell_type": "code",
   "execution_count": 9,
   "metadata": {
    "collapsed": true
   },
   "outputs": [],
   "source": [
    "le_X = LabelEncoder()\n",
    "X[:, 1] = le_X.fit_transform(X[:, 1])"
   ]
  },
  {
   "cell_type": "code",
   "execution_count": 10,
   "metadata": {
    "collapsed": true
   },
   "outputs": [],
   "source": [
    "le_X = LabelEncoder()\n",
    "X[:, 2] = le_X.fit_transform(X[:, 2])"
   ]
  },
  {
   "cell_type": "code",
   "execution_count": 11,
   "metadata": {
    "collapsed": true
   },
   "outputs": [],
   "source": [
    "le_X = LabelEncoder()\n",
    "X[:, 3] = le_X.fit_transform(X[:, 3])"
   ]
  },
  {
   "cell_type": "code",
   "execution_count": 12,
   "metadata": {
    "collapsed": true
   },
   "outputs": [],
   "source": [
    "ohe_X = OneHotEncoder(categorical_features = [1])\n",
    "X = ohe_X.fit_transform(X).toarray()\n",
    "X = X[:, 1:]"
   ]
  },
  {
   "cell_type": "code",
   "execution_count": 13,
   "metadata": {
    "collapsed": true
   },
   "outputs": [],
   "source": [
    "ohe_X = OneHotEncoder(categorical_features = [2])\n",
    "X = ohe_X.fit_transform(X).toarray()\n",
    "X = X[:, 1:]"
   ]
  },
  {
   "cell_type": "code",
   "execution_count": 14,
   "metadata": {
    "collapsed": true
   },
   "outputs": [],
   "source": [
    "ohe_X = OneHotEncoder(categorical_features = [8])\n",
    "X = ohe_X.fit_transform(X).toarray()\n",
    "X = X[:, 1:]"
   ]
  },
  {
   "cell_type": "code",
   "execution_count": 15,
   "metadata": {
    "collapsed": true
   },
   "outputs": [],
   "source": [
    "sc_X = StandardScaler()\n",
    "X = sc_X.fit_transform(X)"
   ]
  },
  {
   "cell_type": "code",
   "execution_count": 16,
   "metadata": {},
   "outputs": [
    {
     "data": {
      "text/html": [
       "<div>\n",
       "<style>\n",
       "    .dataframe thead tr:only-child th {\n",
       "        text-align: right;\n",
       "    }\n",
       "\n",
       "    .dataframe thead th {\n",
       "        text-align: left;\n",
       "    }\n",
       "\n",
       "    .dataframe tbody tr th {\n",
       "        vertical-align: top;\n",
       "    }\n",
       "</style>\n",
       "<table border=\"1\" class=\"dataframe\">\n",
       "  <thead>\n",
       "    <tr style=\"text-align: right;\">\n",
       "      <th></th>\n",
       "      <th>0</th>\n",
       "      <th>1</th>\n",
       "      <th>2</th>\n",
       "      <th>3</th>\n",
       "      <th>4</th>\n",
       "      <th>5</th>\n",
       "      <th>6</th>\n",
       "      <th>7</th>\n",
       "      <th>8</th>\n",
       "      <th>9</th>\n",
       "      <th>...</th>\n",
       "      <th>20</th>\n",
       "      <th>21</th>\n",
       "      <th>22</th>\n",
       "      <th>23</th>\n",
       "      <th>24</th>\n",
       "      <th>25</th>\n",
       "      <th>26</th>\n",
       "      <th>27</th>\n",
       "      <th>28</th>\n",
       "      <th>29</th>\n",
       "    </tr>\n",
       "  </thead>\n",
       "  <tbody>\n",
       "    <tr>\n",
       "      <th>0</th>\n",
       "      <td>1.093780</td>\n",
       "      <td>-1.066471</td>\n",
       "      <td>-0.104326</td>\n",
       "      <td>-0.738375</td>\n",
       "      <td>1.0669</td>\n",
       "      <td>-0.442752</td>\n",
       "      <td>-0.064163</td>\n",
       "      <td>-0.097063</td>\n",
       "      <td>-0.041266</td>\n",
       "      <td>0.810161</td>\n",
       "      <td>...</td>\n",
       "      <td>-0.667993</td>\n",
       "      <td>-0.672497</td>\n",
       "      <td>-0.663059</td>\n",
       "      <td>-0.652724</td>\n",
       "      <td>-0.341942</td>\n",
       "      <td>-0.227086</td>\n",
       "      <td>-0.296801</td>\n",
       "      <td>-0.308063</td>\n",
       "      <td>-0.314136</td>\n",
       "      <td>-0.293382</td>\n",
       "    </tr>\n",
       "    <tr>\n",
       "      <th>1</th>\n",
       "      <td>-0.914261</td>\n",
       "      <td>0.937672</td>\n",
       "      <td>-0.104326</td>\n",
       "      <td>-0.738375</td>\n",
       "      <td>1.0669</td>\n",
       "      <td>-0.442752</td>\n",
       "      <td>-0.064163</td>\n",
       "      <td>-0.097063</td>\n",
       "      <td>-0.041266</td>\n",
       "      <td>0.810161</td>\n",
       "      <td>...</td>\n",
       "      <td>-0.639254</td>\n",
       "      <td>-0.621636</td>\n",
       "      <td>-0.606229</td>\n",
       "      <td>-0.597966</td>\n",
       "      <td>-0.341942</td>\n",
       "      <td>-0.213588</td>\n",
       "      <td>-0.240005</td>\n",
       "      <td>-0.244230</td>\n",
       "      <td>-0.314136</td>\n",
       "      <td>-0.180878</td>\n",
       "    </tr>\n",
       "    <tr>\n",
       "      <th>2</th>\n",
       "      <td>-0.914261</td>\n",
       "      <td>0.937672</td>\n",
       "      <td>-0.104326</td>\n",
       "      <td>-0.738375</td>\n",
       "      <td>1.0669</td>\n",
       "      <td>-0.442752</td>\n",
       "      <td>-0.064163</td>\n",
       "      <td>-0.097063</td>\n",
       "      <td>-0.041266</td>\n",
       "      <td>0.810161</td>\n",
       "      <td>...</td>\n",
       "      <td>-0.482408</td>\n",
       "      <td>-0.449730</td>\n",
       "      <td>-0.417188</td>\n",
       "      <td>-0.391630</td>\n",
       "      <td>-0.250292</td>\n",
       "      <td>-0.191887</td>\n",
       "      <td>-0.240005</td>\n",
       "      <td>-0.244230</td>\n",
       "      <td>-0.248683</td>\n",
       "      <td>-0.012122</td>\n",
       "    </tr>\n",
       "    <tr>\n",
       "      <th>3</th>\n",
       "      <td>1.093780</td>\n",
       "      <td>-1.066471</td>\n",
       "      <td>-0.104326</td>\n",
       "      <td>-0.738375</td>\n",
       "      <td>1.0669</td>\n",
       "      <td>-0.442752</td>\n",
       "      <td>-0.064163</td>\n",
       "      <td>-0.097063</td>\n",
       "      <td>-0.041266</td>\n",
       "      <td>0.810161</td>\n",
       "      <td>...</td>\n",
       "      <td>0.032846</td>\n",
       "      <td>-0.232373</td>\n",
       "      <td>-0.186729</td>\n",
       "      <td>-0.156579</td>\n",
       "      <td>-0.221191</td>\n",
       "      <td>-0.169361</td>\n",
       "      <td>-0.228645</td>\n",
       "      <td>-0.237846</td>\n",
       "      <td>-0.244166</td>\n",
       "      <td>-0.237130</td>\n",
       "    </tr>\n",
       "    <tr>\n",
       "      <th>4</th>\n",
       "      <td>1.093780</td>\n",
       "      <td>-1.066471</td>\n",
       "      <td>-0.104326</td>\n",
       "      <td>-0.738375</td>\n",
       "      <td>1.0669</td>\n",
       "      <td>-0.442752</td>\n",
       "      <td>-0.064163</td>\n",
       "      <td>-0.097063</td>\n",
       "      <td>-0.041266</td>\n",
       "      <td>-1.234323</td>\n",
       "      <td>...</td>\n",
       "      <td>-0.161189</td>\n",
       "      <td>-0.346997</td>\n",
       "      <td>-0.348137</td>\n",
       "      <td>-0.331482</td>\n",
       "      <td>-0.221191</td>\n",
       "      <td>1.335034</td>\n",
       "      <td>0.271165</td>\n",
       "      <td>0.266434</td>\n",
       "      <td>-0.269039</td>\n",
       "      <td>-0.255187</td>\n",
       "    </tr>\n",
       "  </tbody>\n",
       "</table>\n",
       "<p>5 rows × 30 columns</p>\n",
       "</div>"
      ],
      "text/plain": [
       "         0         1         2         3       4         5         6   \\\n",
       "0  1.093780 -1.066471 -0.104326 -0.738375  1.0669 -0.442752 -0.064163   \n",
       "1 -0.914261  0.937672 -0.104326 -0.738375  1.0669 -0.442752 -0.064163   \n",
       "2 -0.914261  0.937672 -0.104326 -0.738375  1.0669 -0.442752 -0.064163   \n",
       "3  1.093780 -1.066471 -0.104326 -0.738375  1.0669 -0.442752 -0.064163   \n",
       "4  1.093780 -1.066471 -0.104326 -0.738375  1.0669 -0.442752 -0.064163   \n",
       "\n",
       "         7         8         9     ...           20        21        22  \\\n",
       "0 -0.097063 -0.041266  0.810161    ...    -0.667993 -0.672497 -0.663059   \n",
       "1 -0.097063 -0.041266  0.810161    ...    -0.639254 -0.621636 -0.606229   \n",
       "2 -0.097063 -0.041266  0.810161    ...    -0.482408 -0.449730 -0.417188   \n",
       "3 -0.097063 -0.041266  0.810161    ...     0.032846 -0.232373 -0.186729   \n",
       "4 -0.097063 -0.041266 -1.234323    ...    -0.161189 -0.346997 -0.348137   \n",
       "\n",
       "         23        24        25        26        27        28        29  \n",
       "0 -0.652724 -0.341942 -0.227086 -0.296801 -0.308063 -0.314136 -0.293382  \n",
       "1 -0.597966 -0.341942 -0.213588 -0.240005 -0.244230 -0.314136 -0.180878  \n",
       "2 -0.391630 -0.250292 -0.191887 -0.240005 -0.244230 -0.248683 -0.012122  \n",
       "3 -0.156579 -0.221191 -0.169361 -0.228645 -0.237846 -0.244166 -0.237130  \n",
       "4 -0.331482 -0.221191  1.335034  0.271165  0.266434 -0.269039 -0.255187  \n",
       "\n",
       "[5 rows x 30 columns]"
      ]
     },
     "execution_count": 16,
     "metadata": {},
     "output_type": "execute_result"
    }
   ],
   "source": [
    "pd.DataFrame(X).head()"
   ]
  },
  {
   "cell_type": "markdown",
   "metadata": {},
   "source": [
    "## Create Train and Test Data"
   ]
  },
  {
   "cell_type": "code",
   "execution_count": 17,
   "metadata": {
    "collapsed": true
   },
   "outputs": [],
   "source": [
    "from sklearn.model_selection import train_test_split\n",
    "X_train, X_test, Y_train, Y_test = train_test_split(X, Y, test_size = 0.2, random_state = 4)"
   ]
  },
  {
   "cell_type": "code",
   "execution_count": 18,
   "metadata": {},
   "outputs": [
    {
     "data": {
      "text/html": [
       "<div>\n",
       "<style>\n",
       "    .dataframe thead tr:only-child th {\n",
       "        text-align: right;\n",
       "    }\n",
       "\n",
       "    .dataframe thead th {\n",
       "        text-align: left;\n",
       "    }\n",
       "\n",
       "    .dataframe tbody tr th {\n",
       "        vertical-align: top;\n",
       "    }\n",
       "</style>\n",
       "<table border=\"1\" class=\"dataframe\">\n",
       "  <thead>\n",
       "    <tr style=\"text-align: right;\">\n",
       "      <th></th>\n",
       "      <th>0</th>\n",
       "    </tr>\n",
       "  </thead>\n",
       "  <tbody>\n",
       "    <tr>\n",
       "      <th>0</th>\n",
       "      <td>18726</td>\n",
       "    </tr>\n",
       "    <tr>\n",
       "      <th>1</th>\n",
       "      <td>5274</td>\n",
       "    </tr>\n",
       "  </tbody>\n",
       "</table>\n",
       "</div>"
      ],
      "text/plain": [
       "       0\n",
       "0  18726\n",
       "1   5274"
      ]
     },
     "execution_count": 18,
     "metadata": {},
     "output_type": "execute_result"
    }
   ],
   "source": [
    "pd.DataFrame(pd.DataFrame(Y_train)[0].value_counts())"
   ]
  },
  {
   "cell_type": "code",
   "execution_count": 19,
   "metadata": {},
   "outputs": [
    {
     "data": {
      "text/html": [
       "<div>\n",
       "<style>\n",
       "    .dataframe thead tr:only-child th {\n",
       "        text-align: right;\n",
       "    }\n",
       "\n",
       "    .dataframe thead th {\n",
       "        text-align: left;\n",
       "    }\n",
       "\n",
       "    .dataframe tbody tr th {\n",
       "        vertical-align: top;\n",
       "    }\n",
       "</style>\n",
       "<table border=\"1\" class=\"dataframe\">\n",
       "  <thead>\n",
       "    <tr style=\"text-align: right;\">\n",
       "      <th></th>\n",
       "      <th>0</th>\n",
       "    </tr>\n",
       "  </thead>\n",
       "  <tbody>\n",
       "    <tr>\n",
       "      <th>0</th>\n",
       "      <td>4638</td>\n",
       "    </tr>\n",
       "    <tr>\n",
       "      <th>1</th>\n",
       "      <td>1362</td>\n",
       "    </tr>\n",
       "  </tbody>\n",
       "</table>\n",
       "</div>"
      ],
      "text/plain": [
       "      0\n",
       "0  4638\n",
       "1  1362"
      ]
     },
     "execution_count": 19,
     "metadata": {},
     "output_type": "execute_result"
    }
   ],
   "source": [
    "pd.DataFrame(pd.DataFrame(Y_test)[0].value_counts())"
   ]
  },
  {
   "cell_type": "markdown",
   "metadata": {},
   "source": [
    "## Create and train the Classifier"
   ]
  },
  {
   "cell_type": "code",
   "execution_count": 20,
   "metadata": {
    "collapsed": true
   },
   "outputs": [],
   "source": [
    "from keras.models import Sequential\n",
    "from keras.layers import Dense"
   ]
  },
  {
   "cell_type": "code",
   "execution_count": 21,
   "metadata": {},
   "outputs": [
    {
     "name": "stderr",
     "output_type": "stream",
     "text": [
      "C:\\Users\\user\\Anaconda3\\lib\\site-packages\\ipykernel\\__main__.py:3: UserWarning: Update your `Dense` call to the Keras 2 API: `Dense(input_dim=30, activation=\"relu\", kernel_initializer=\"uniform\", units=15)`\n",
      "  app.launch_new_instance()\n",
      "C:\\Users\\user\\Anaconda3\\lib\\site-packages\\ipykernel\\__main__.py:5: UserWarning: Update your `Dense` call to the Keras 2 API: `Dense(activation=\"relu\", kernel_initializer=\"uniform\", units=15)`\n",
      "C:\\Users\\user\\Anaconda3\\lib\\site-packages\\ipykernel\\__main__.py:7: UserWarning: Update your `Dense` call to the Keras 2 API: `Dense(activation=\"relu\", kernel_initializer=\"uniform\", units=15)`\n",
      "C:\\Users\\user\\Anaconda3\\lib\\site-packages\\ipykernel\\__main__.py:10: UserWarning: Update your `Dense` call to the Keras 2 API: `Dense(activation=\"sigmoid\", kernel_initializer=\"uniform\", units=1)`\n",
      "C:\\Users\\user\\Anaconda3\\lib\\site-packages\\keras\\models.py:844: UserWarning: The `nb_epoch` argument in `fit` has been renamed `epochs`.\n",
      "  warnings.warn('The `nb_epoch` argument in `fit` '\n"
     ]
    },
    {
     "name": "stdout",
     "output_type": "stream",
     "text": [
      "Epoch 1/100\n",
      "24000/24000 [==============================] - 5s - loss: 0.4840 - acc: 0.7886     \n",
      "Epoch 2/100\n",
      "24000/24000 [==============================] - 5s - loss: 0.4498 - acc: 0.8170     \n",
      "Epoch 3/100\n",
      "24000/24000 [==============================] - 5s - loss: 0.4444 - acc: 0.8184     \n",
      "Epoch 4/100\n",
      "24000/24000 [==============================] - 5s - loss: 0.4425 - acc: 0.8190     \n",
      "Epoch 5/100\n",
      "24000/24000 [==============================] - 4s - loss: 0.4417 - acc: 0.8192     \n",
      "Epoch 6/100\n",
      "24000/24000 [==============================] - 5s - loss: 0.4406 - acc: 0.8201     \n",
      "Epoch 7/100\n",
      "24000/24000 [==============================] - 5s - loss: 0.4402 - acc: 0.8194     \n",
      "Epoch 8/100\n",
      "24000/24000 [==============================] - 5s - loss: 0.4388 - acc: 0.8207     \n",
      "Epoch 9/100\n",
      "24000/24000 [==============================] - 5s - loss: 0.4377 - acc: 0.8208     \n",
      "Epoch 10/100\n",
      "24000/24000 [==============================] - 4s - loss: 0.4353 - acc: 0.8210     \n",
      "Epoch 11/100\n",
      "24000/24000 [==============================] - 4s - loss: 0.4339 - acc: 0.8219     \n",
      "Epoch 12/100\n",
      "24000/24000 [==============================] - 4s - loss: 0.4317 - acc: 0.8222     \n",
      "Epoch 13/100\n",
      "24000/24000 [==============================] - 4s - loss: 0.4309 - acc: 0.8225     \n",
      "Epoch 14/100\n",
      "24000/24000 [==============================] - 4s - loss: 0.4303 - acc: 0.8222     \n",
      "Epoch 15/100\n",
      "24000/24000 [==============================] - 4s - loss: 0.4289 - acc: 0.8227     \n",
      "Epoch 16/100\n",
      "24000/24000 [==============================] - 5s - loss: 0.4284 - acc: 0.8232     \n",
      "Epoch 17/100\n",
      "24000/24000 [==============================] - 4s - loss: 0.4286 - acc: 0.8222     \n",
      "Epoch 18/100\n",
      "24000/24000 [==============================] - 4s - loss: 0.4282 - acc: 0.8225     \n",
      "Epoch 19/100\n",
      "24000/24000 [==============================] - 4s - loss: 0.4279 - acc: 0.8231     \n",
      "Epoch 20/100\n",
      "24000/24000 [==============================] - 4s - loss: 0.4271 - acc: 0.8230     - ETA: 1s - loss: 0.4218 - acc: 0.827 - ETA: 1s \n",
      "Epoch 21/100\n",
      "24000/24000 [==============================] - 4s - loss: 0.4274 - acc: 0.8232     \n",
      "Epoch 22/100\n",
      "24000/24000 [==============================] - 4s - loss: 0.4266 - acc: 0.8228     \n",
      "Epoch 23/100\n",
      "24000/24000 [==============================] - 4s - loss: 0.4264 - acc: 0.8212     \n",
      "Epoch 24/100\n",
      "24000/24000 [==============================] - 4s - loss: 0.4257 - acc: 0.8242     - ETA: 0s - loss: 0.4256 - acc: 0.82\n",
      "Epoch 25/100\n",
      "24000/24000 [==============================] - 4s - loss: 0.4254 - acc: 0.8224     \n",
      "Epoch 26/100\n",
      "24000/24000 [==============================] - 4s - loss: 0.4253 - acc: 0.8230     \n",
      "Epoch 27/100\n",
      "24000/24000 [==============================] - 4s - loss: 0.4251 - acc: 0.8233     \n",
      "Epoch 28/100\n",
      "24000/24000 [==============================] - 4s - loss: 0.4250 - acc: 0.8228     \n",
      "Epoch 29/100\n",
      "24000/24000 [==============================] - 4s - loss: 0.4244 - acc: 0.8229     \n",
      "Epoch 30/100\n",
      "24000/24000 [==============================] - 4s - loss: 0.4242 - acc: 0.8237     \n",
      "Epoch 31/100\n",
      "24000/24000 [==============================] - 4s - loss: 0.4241 - acc: 0.8230     \n",
      "Epoch 32/100\n",
      "24000/24000 [==============================] - 4s - loss: 0.4238 - acc: 0.8245     - ETA: 0s - loss: 0.4238 - acc\n",
      "Epoch 33/100\n",
      "24000/24000 [==============================] - 4s - loss: 0.4229 - acc: 0.8239     \n",
      "Epoch 34/100\n",
      "24000/24000 [==============================] - 4s - loss: 0.4230 - acc: 0.8238     \n",
      "Epoch 35/100\n",
      "24000/24000 [==============================] - 4s - loss: 0.4223 - acc: 0.8237     \n",
      "Epoch 36/100\n",
      "24000/24000 [==============================] - 4s - loss: 0.4219 - acc: 0.8240     \n",
      "Epoch 37/100\n",
      "24000/24000 [==============================] - 4s - loss: 0.4217 - acc: 0.8244     - ET\n",
      "Epoch 38/100\n",
      "24000/24000 [==============================] - 4s - loss: 0.4213 - acc: 0.8253     \n",
      "Epoch 39/100\n",
      "24000/24000 [==============================] - 4s - loss: 0.4211 - acc: 0.8243     - ETA: 0s - loss: 0.4210 - acc\n",
      "Epoch 40/100\n",
      "24000/24000 [==============================] - 4s - loss: 0.4214 - acc: 0.8246     \n",
      "Epoch 41/100\n",
      "24000/24000 [==============================] - 4s - loss: 0.4211 - acc: 0.8245     - ETA: 2s - loss: 0.4229 - acc -\n",
      "Epoch 42/100\n",
      "24000/24000 [==============================] - 5s - loss: 0.4206 - acc: 0.8249     \n",
      "Epoch 43/100\n",
      "24000/24000 [==============================] - 5s - loss: 0.4205 - acc: 0.8247     \n",
      "Epoch 44/100\n",
      "24000/24000 [==============================] - 4s - loss: 0.4204 - acc: 0.8253     - ETA: 0s - loss: 0.4207 - ac\n",
      "Epoch 45/100\n",
      "24000/24000 [==============================] - 5s - loss: 0.4201 - acc: 0.8253     \n",
      "Epoch 46/100\n",
      "24000/24000 [==============================] - 6s - loss: 0.4195 - acc: 0.8248     \n",
      "Epoch 47/100\n",
      "24000/24000 [==============================] - 5s - loss: 0.4198 - acc: 0.8242     \n",
      "Epoch 48/100\n",
      "24000/24000 [==============================] - 5s - loss: 0.4199 - acc: 0.8242     - ETA: 1s - \n",
      "Epoch 49/100\n",
      "24000/24000 [==============================] - 5s - loss: 0.4198 - acc: 0.8241     \n",
      "Epoch 50/100\n",
      "24000/24000 [==============================] - 6s - loss: 0.4192 - acc: 0.8243     \n",
      "Epoch 51/100\n",
      "24000/24000 [==============================] - 6s - loss: 0.4188 - acc: 0.8253     \n",
      "Epoch 52/100\n",
      "24000/24000 [==============================] - 5s - loss: 0.4188 - acc: 0.8244     \n",
      "Epoch 53/100\n",
      "24000/24000 [==============================] - 5s - loss: 0.4186 - acc: 0.8253     \n",
      "Epoch 54/100\n",
      "24000/24000 [==============================] - 5s - loss: 0.4186 - acc: 0.8244     - ETA: 2s - loss: 0.41 - ETA: 1s - \n",
      "Epoch 55/100\n",
      "24000/24000 [==============================] - 5s - loss: 0.4183 - acc: 0.8248     \n",
      "Epoch 56/100\n",
      "24000/24000 [==============================] - 5s - loss: 0.4178 - acc: 0.8250     \n",
      "Epoch 57/100\n",
      "24000/24000 [==============================] - 5s - loss: 0.4175 - acc: 0.8247     \n",
      "Epoch 58/100\n",
      "24000/24000 [==============================] - 5s - loss: 0.4178 - acc: 0.8251     \n",
      "Epoch 59/100\n",
      "24000/24000 [==============================] - 5s - loss: 0.4178 - acc: 0.8247     \n",
      "Epoch 60/100\n",
      "24000/24000 [==============================] - 5s - loss: 0.4178 - acc: 0.8241     \n",
      "Epoch 61/100\n",
      "24000/24000 [==============================] - 5s - loss: 0.4176 - acc: 0.8248     \n",
      "Epoch 62/100\n",
      "24000/24000 [==============================] - 5s - loss: 0.4167 - acc: 0.8255     \n",
      "Epoch 63/100\n",
      "24000/24000 [==============================] - 4s - loss: 0.4169 - acc: 0.8256     \n",
      "Epoch 64/100\n",
      "24000/24000 [==============================] - 4s - loss: 0.4169 - acc: 0.8241     \n",
      "Epoch 65/100\n",
      "24000/24000 [==============================] - 4s - loss: 0.4168 - acc: 0.8251     \n",
      "Epoch 66/100\n",
      "24000/24000 [==============================] - 4s - loss: 0.4171 - acc: 0.8247     \n",
      "Epoch 67/100\n",
      "24000/24000 [==============================] - 4s - loss: 0.4165 - acc: 0.8241     \n",
      "Epoch 68/100\n",
      "24000/24000 [==============================] - 4s - loss: 0.4164 - acc: 0.8245     - ETA: 0s - loss: 0.41\n",
      "Epoch 69/100\n",
      "24000/24000 [==============================] - 4s - loss: 0.4164 - acc: 0.8251     \n",
      "Epoch 70/100\n",
      "24000/24000 [==============================] - 4s - loss: 0.4165 - acc: 0.8256     \n",
      "Epoch 71/100\n",
      "24000/24000 [==============================] - 4s - loss: 0.4159 - acc: 0.8245     \n",
      "Epoch 72/100\n",
      "24000/24000 [==============================] - 4s - loss: 0.4160 - acc: 0.8248     \n",
      "Epoch 73/100\n",
      "24000/24000 [==============================] - 4s - loss: 0.4156 - acc: 0.8250     \n",
      "Epoch 74/100\n",
      "24000/24000 [==============================] - 4s - loss: 0.4154 - acc: 0.8248     \n",
      "Epoch 75/100\n",
      "24000/24000 [==============================] - 4s - loss: 0.4157 - acc: 0.8250     \n",
      "Epoch 76/100\n",
      "24000/24000 [==============================] - 4s - loss: 0.4155 - acc: 0.8256     \n",
      "Epoch 77/100\n",
      "24000/24000 [==============================] - 4s - loss: 0.4157 - acc: 0.8238     - ETA: 0s - loss: 0.4154 - acc: 0.824\n",
      "Epoch 78/100\n",
      "24000/24000 [==============================] - 4s - loss: 0.4156 - acc: 0.8250     \n",
      "Epoch 79/100\n",
      "24000/24000 [==============================] - 4s - loss: 0.4150 - acc: 0.8259     - ETA: 1s -\n",
      "Epoch 80/100\n",
      "24000/24000 [==============================] - 4s - loss: 0.4147 - acc: 0.8250     \n",
      "Epoch 81/100\n",
      "24000/24000 [==============================] - 4s - loss: 0.4146 - acc: 0.8259     \n",
      "Epoch 82/100\n"
     ]
    },
    {
     "name": "stdout",
     "output_type": "stream",
     "text": [
      "24000/24000 [==============================] - 3s - loss: 0.4146 - acc: 0.8255     - ETA: 0s - loss: 0.4147 - \n",
      "Epoch 83/100\n",
      "24000/24000 [==============================] - 4s - loss: 0.4146 - acc: 0.8256     \n",
      "Epoch 84/100\n",
      "24000/24000 [==============================] - 4s - loss: 0.4148 - acc: 0.8260     \n",
      "Epoch 85/100\n",
      "24000/24000 [==============================] - 4s - loss: 0.4138 - acc: 0.8258     \n",
      "Epoch 86/100\n",
      "24000/24000 [==============================] - 3s - loss: 0.4146 - acc: 0.8258     \n",
      "Epoch 87/100\n",
      "24000/24000 [==============================] - 2s - loss: 0.4142 - acc: 0.8259     \n",
      "Epoch 88/100\n",
      "24000/24000 [==============================] - 2s - loss: 0.4143 - acc: 0.8258     - ETA: 1s - loss: 0.4133 - acc: 0.824 - ETA: 1s - loss: 0.4146 -  - ETA: 0s - loss: 0\n",
      "Epoch 89/100\n",
      "24000/24000 [==============================] - 1s - loss: 0.4137 - acc: 0.8274     - ETA: 0s - loss: 0.4131 - acc:\n",
      "Epoch 90/100\n",
      "24000/24000 [==============================] - 1s - loss: 0.4135 - acc: 0.8258     \n",
      "Epoch 91/100\n",
      "24000/24000 [==============================] - 1s - loss: 0.4140 - acc: 0.8255     - ETA:  - ETA: 0s - loss: 0.4140 - acc: 0.825\n",
      "Epoch 92/100\n",
      "24000/24000 [==============================] - 1s - loss: 0.4138 - acc: 0.8264     - ETA: 1s - loss: 0.4109 - acc: 0.83 - ETA: 1s - ETA: 0s - loss: 0.4135 - acc: 0.82\n",
      "Epoch 93/100\n",
      "24000/24000 [==============================] - 1s - loss: 0.4136 - acc: 0.8264     - ETA: 1s - loss:\n",
      "Epoch 94/100\n",
      "24000/24000 [==============================] - 1s - loss: 0.4133 - acc: 0.8256     \n",
      "Epoch 95/100\n",
      "24000/24000 [==============================] - 1s - loss: 0.4132 - acc: 0.8269     - ETA: 1s - loss: 0.4154  - ETA: 0s - loss: 0.4127 - acc: 0.82 - ETA: 0s - loss: 0.4112 - acc: 0.82 - ETA: 0s - loss: 0.4129 - acc: 0.8 - ETA: 0s - loss: 0.4113 - acc: 0.82 - ETA: 0s - loss: 0.4124 - acc: 0\n",
      "Epoch 96/100\n",
      "24000/24000 [==============================] - 2s - loss: 0.4127 - acc: 0.8265     - ETA: 0s - loss: 0.4127 - acc: 0\n",
      "Epoch 97/100\n",
      "24000/24000 [==============================] - 1s - loss: 0.4131 - acc: 0.8252     - ETA: 1s - loss: 0.410 - ETA: 0s - loss: 0.4112 - acc: 0 - ETA: 0s - loss: 0.4117 - acc: 0.8 - ETA: 0s - loss: 0.4112 - acc: 0.\n",
      "Epoch 98/100\n",
      "24000/24000 [==============================] - 1s - loss: 0.4130 - acc: 0.8269     - ETA: 1s - loss: 0.4099 - acc: 0 - ETA: 1s - ETA: 0s - loss: 0.4131 - acc: 0.826\n",
      "Epoch 99/100\n",
      "24000/24000 [==============================] - 2s - loss: 0.4128 - acc: 0.8267     - ETA: 1s - loss:  - ETA: 0s - loss: 0.4138 - acc: - ETA: 0s - loss: 0.4136 - acc: 0.82\n",
      "Epoch 100/100\n",
      "24000/24000 [==============================] - 2s - loss: 0.4123 - acc: 0.8260     - ETA: 1s - loss: 0.4094 - acc:  - ETA: 1s - loss: 0.4099 - acc:  - ETA: 0s - loss: \n"
     ]
    },
    {
     "data": {
      "text/plain": [
       "<keras.callbacks.History at 0xf4c4db1320>"
      ]
     },
     "execution_count": 21,
     "metadata": {},
     "output_type": "execute_result"
    }
   ],
   "source": [
    "clf_ann = Sequential()\n",
    "\n",
    "clf_ann.add(Dense(output_dim = 15, init = 'uniform', activation = 'relu', input_dim = 30))\n",
    "\n",
    "clf_ann.add(Dense(output_dim = 15, init = 'uniform', activation = 'relu'))\n",
    "\n",
    "clf_ann.add(Dense(output_dim = 15, init = 'uniform', activation = 'relu'))\n",
    "\n",
    "# Output Layer\n",
    "clf_ann.add(Dense(output_dim = 1, init = 'uniform', activation = 'sigmoid'))\n",
    "\n",
    "# Compile the ANN\n",
    "clf_ann.compile(optimizer = 'adam', loss = 'binary_crossentropy', metrics = ['accuracy'])\n",
    "\n",
    "# Train the ANN on the Training Set\n",
    "clf_ann.fit(X_train, Y_train, batch_size = 10, nb_epoch = 100)"
   ]
  },
  {
   "cell_type": "code",
   "execution_count": 22,
   "metadata": {
    "collapsed": true
   },
   "outputs": [],
   "source": [
    "Y_pred = clf_ann.predict(X_test)\n",
    "Y_pred = (Y_pred > 0.5)"
   ]
  },
  {
   "cell_type": "markdown",
   "metadata": {},
   "source": [
    "## Check the Accuracy"
   ]
  },
  {
   "cell_type": "code",
   "execution_count": 23,
   "metadata": {
    "collapsed": true
   },
   "outputs": [],
   "source": [
    "from sklearn.metrics import accuracy_score, confusion_matrix"
   ]
  },
  {
   "cell_type": "code",
   "execution_count": 24,
   "metadata": {},
   "outputs": [
    {
     "data": {
      "text/plain": [
       "0.8175"
      ]
     },
     "execution_count": 24,
     "metadata": {},
     "output_type": "execute_result"
    }
   ],
   "source": [
    "accuracy_score(Y_test, Y_pred)"
   ]
  },
  {
   "cell_type": "code",
   "execution_count": 25,
   "metadata": {},
   "outputs": [
    {
     "data": {
      "text/plain": [
       "array([[4416,  222],\n",
       "       [ 873,  489]], dtype=int64)"
      ]
     },
     "execution_count": 25,
     "metadata": {},
     "output_type": "execute_result"
    }
   ],
   "source": [
    "confusion_matrix(Y_test, Y_pred)"
   ]
  },
  {
   "cell_type": "code",
   "execution_count": null,
   "metadata": {
    "collapsed": true
   },
   "outputs": [],
   "source": []
  }
 ],
 "metadata": {
  "kernelspec": {
   "display_name": "Python [default]",
   "language": "python",
   "name": "python3"
  },
  "language_info": {
   "codemirror_mode": {
    "name": "ipython",
    "version": 3
   },
   "file_extension": ".py",
   "mimetype": "text/x-python",
   "name": "python",
   "nbconvert_exporter": "python",
   "pygments_lexer": "ipython3",
   "version": "3.5.4"
  }
 },
 "nbformat": 4,
 "nbformat_minor": 2
}
