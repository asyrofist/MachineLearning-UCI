{
 "cells": [
  {
   "cell_type": "markdown",
   "metadata": {},
   "source": [
    "## Initialize"
   ]
  },
  {
   "cell_type": "code",
   "execution_count": 1,
   "metadata": {
    "collapsed": true
   },
   "outputs": [],
   "source": [
    "import numpy as np\n",
    "import pandas as pd\n",
    "import tensorflow as tf"
   ]
  },
  {
   "cell_type": "code",
   "execution_count": 2,
   "metadata": {
    "collapsed": true
   },
   "outputs": [],
   "source": [
    "from sklearn.preprocessing import LabelEncoder, OneHotEncoder, StandardScaler\n",
    "from sklearn.metrics import accuracy_score, confusion_matrix\n",
    "from sklearn.model_selection import train_test_split"
   ]
  },
  {
   "cell_type": "markdown",
   "metadata": {},
   "source": [
    "## Import the data"
   ]
  },
  {
   "cell_type": "code",
   "execution_count": 3,
   "metadata": {},
   "outputs": [
    {
     "data": {
      "text/plain": [
       "(30000, 24)"
      ]
     },
     "execution_count": 3,
     "metadata": {},
     "output_type": "execute_result"
    }
   ],
   "source": [
    "dataset = pd.read_excel('Dataset.xls')\n",
    "dataset.shape"
   ]
  },
  {
   "cell_type": "code",
   "execution_count": 4,
   "metadata": {},
   "outputs": [
    {
     "data": {
      "text/html": [
       "<div>\n",
       "<style>\n",
       "    .dataframe thead tr:only-child th {\n",
       "        text-align: right;\n",
       "    }\n",
       "\n",
       "    .dataframe thead th {\n",
       "        text-align: left;\n",
       "    }\n",
       "\n",
       "    .dataframe tbody tr th {\n",
       "        vertical-align: top;\n",
       "    }\n",
       "</style>\n",
       "<table border=\"1\" class=\"dataframe\">\n",
       "  <thead>\n",
       "    <tr style=\"text-align: right;\">\n",
       "      <th></th>\n",
       "      <th>LIMIT_BAL</th>\n",
       "      <th>SEX</th>\n",
       "      <th>EDUCATION</th>\n",
       "      <th>MARRIAGE</th>\n",
       "      <th>AGE</th>\n",
       "      <th>PAY_0</th>\n",
       "      <th>PAY_2</th>\n",
       "      <th>PAY_3</th>\n",
       "      <th>PAY_4</th>\n",
       "      <th>PAY_5</th>\n",
       "      <th>...</th>\n",
       "      <th>BILL_AMT4</th>\n",
       "      <th>BILL_AMT5</th>\n",
       "      <th>BILL_AMT6</th>\n",
       "      <th>PAY_AMT1</th>\n",
       "      <th>PAY_AMT2</th>\n",
       "      <th>PAY_AMT3</th>\n",
       "      <th>PAY_AMT4</th>\n",
       "      <th>PAY_AMT5</th>\n",
       "      <th>PAY_AMT6</th>\n",
       "      <th>default payment next month</th>\n",
       "    </tr>\n",
       "  </thead>\n",
       "  <tbody>\n",
       "    <tr>\n",
       "      <th>0</th>\n",
       "      <td>20000</td>\n",
       "      <td>2</td>\n",
       "      <td>2</td>\n",
       "      <td>1</td>\n",
       "      <td>24</td>\n",
       "      <td>2</td>\n",
       "      <td>2</td>\n",
       "      <td>-1</td>\n",
       "      <td>-1</td>\n",
       "      <td>-2</td>\n",
       "      <td>...</td>\n",
       "      <td>0</td>\n",
       "      <td>0</td>\n",
       "      <td>0</td>\n",
       "      <td>0</td>\n",
       "      <td>689</td>\n",
       "      <td>0</td>\n",
       "      <td>0</td>\n",
       "      <td>0</td>\n",
       "      <td>0</td>\n",
       "      <td>1</td>\n",
       "    </tr>\n",
       "    <tr>\n",
       "      <th>1</th>\n",
       "      <td>120000</td>\n",
       "      <td>2</td>\n",
       "      <td>2</td>\n",
       "      <td>2</td>\n",
       "      <td>26</td>\n",
       "      <td>-1</td>\n",
       "      <td>2</td>\n",
       "      <td>0</td>\n",
       "      <td>0</td>\n",
       "      <td>0</td>\n",
       "      <td>...</td>\n",
       "      <td>3272</td>\n",
       "      <td>3455</td>\n",
       "      <td>3261</td>\n",
       "      <td>0</td>\n",
       "      <td>1000</td>\n",
       "      <td>1000</td>\n",
       "      <td>1000</td>\n",
       "      <td>0</td>\n",
       "      <td>2000</td>\n",
       "      <td>1</td>\n",
       "    </tr>\n",
       "    <tr>\n",
       "      <th>2</th>\n",
       "      <td>90000</td>\n",
       "      <td>2</td>\n",
       "      <td>2</td>\n",
       "      <td>2</td>\n",
       "      <td>34</td>\n",
       "      <td>0</td>\n",
       "      <td>0</td>\n",
       "      <td>0</td>\n",
       "      <td>0</td>\n",
       "      <td>0</td>\n",
       "      <td>...</td>\n",
       "      <td>14331</td>\n",
       "      <td>14948</td>\n",
       "      <td>15549</td>\n",
       "      <td>1518</td>\n",
       "      <td>1500</td>\n",
       "      <td>1000</td>\n",
       "      <td>1000</td>\n",
       "      <td>1000</td>\n",
       "      <td>5000</td>\n",
       "      <td>0</td>\n",
       "    </tr>\n",
       "    <tr>\n",
       "      <th>3</th>\n",
       "      <td>50000</td>\n",
       "      <td>2</td>\n",
       "      <td>2</td>\n",
       "      <td>1</td>\n",
       "      <td>37</td>\n",
       "      <td>0</td>\n",
       "      <td>0</td>\n",
       "      <td>0</td>\n",
       "      <td>0</td>\n",
       "      <td>0</td>\n",
       "      <td>...</td>\n",
       "      <td>28314</td>\n",
       "      <td>28959</td>\n",
       "      <td>29547</td>\n",
       "      <td>2000</td>\n",
       "      <td>2019</td>\n",
       "      <td>1200</td>\n",
       "      <td>1100</td>\n",
       "      <td>1069</td>\n",
       "      <td>1000</td>\n",
       "      <td>0</td>\n",
       "    </tr>\n",
       "    <tr>\n",
       "      <th>4</th>\n",
       "      <td>50000</td>\n",
       "      <td>1</td>\n",
       "      <td>2</td>\n",
       "      <td>1</td>\n",
       "      <td>57</td>\n",
       "      <td>-1</td>\n",
       "      <td>0</td>\n",
       "      <td>-1</td>\n",
       "      <td>0</td>\n",
       "      <td>0</td>\n",
       "      <td>...</td>\n",
       "      <td>20940</td>\n",
       "      <td>19146</td>\n",
       "      <td>19131</td>\n",
       "      <td>2000</td>\n",
       "      <td>36681</td>\n",
       "      <td>10000</td>\n",
       "      <td>9000</td>\n",
       "      <td>689</td>\n",
       "      <td>679</td>\n",
       "      <td>0</td>\n",
       "    </tr>\n",
       "  </tbody>\n",
       "</table>\n",
       "<p>5 rows × 24 columns</p>\n",
       "</div>"
      ],
      "text/plain": [
       "   LIMIT_BAL  SEX  EDUCATION  MARRIAGE  AGE  PAY_0  PAY_2  PAY_3  PAY_4  \\\n",
       "0      20000    2          2         1   24      2      2     -1     -1   \n",
       "1     120000    2          2         2   26     -1      2      0      0   \n",
       "2      90000    2          2         2   34      0      0      0      0   \n",
       "3      50000    2          2         1   37      0      0      0      0   \n",
       "4      50000    1          2         1   57     -1      0     -1      0   \n",
       "\n",
       "   PAY_5             ...              BILL_AMT4  BILL_AMT5  BILL_AMT6  \\\n",
       "0     -2             ...                      0          0          0   \n",
       "1      0             ...                   3272       3455       3261   \n",
       "2      0             ...                  14331      14948      15549   \n",
       "3      0             ...                  28314      28959      29547   \n",
       "4      0             ...                  20940      19146      19131   \n",
       "\n",
       "   PAY_AMT1  PAY_AMT2  PAY_AMT3  PAY_AMT4  PAY_AMT5  PAY_AMT6  \\\n",
       "0         0       689         0         0         0         0   \n",
       "1         0      1000      1000      1000         0      2000   \n",
       "2      1518      1500      1000      1000      1000      5000   \n",
       "3      2000      2019      1200      1100      1069      1000   \n",
       "4      2000     36681     10000      9000       689       679   \n",
       "\n",
       "   default payment next month  \n",
       "0                           1  \n",
       "1                           1  \n",
       "2                           0  \n",
       "3                           0  \n",
       "4                           0  \n",
       "\n",
       "[5 rows x 24 columns]"
      ]
     },
     "execution_count": 4,
     "metadata": {},
     "output_type": "execute_result"
    }
   ],
   "source": [
    "dataset.head()"
   ]
  },
  {
   "cell_type": "markdown",
   "metadata": {},
   "source": [
    "## Create X and Y"
   ]
  },
  {
   "cell_type": "code",
   "execution_count": 5,
   "metadata": {
    "collapsed": true
   },
   "outputs": [],
   "source": [
    "X = dataset.iloc[:, 0:23].values\n",
    "Y = dataset.iloc[:, 23].values"
   ]
  },
  {
   "cell_type": "code",
   "execution_count": 6,
   "metadata": {},
   "outputs": [
    {
     "data": {
      "text/plain": [
       "(30000, 23)"
      ]
     },
     "execution_count": 6,
     "metadata": {},
     "output_type": "execute_result"
    }
   ],
   "source": [
    "X.shape"
   ]
  },
  {
   "cell_type": "code",
   "execution_count": 7,
   "metadata": {},
   "outputs": [
    {
     "data": {
      "text/plain": [
       "(30000,)"
      ]
     },
     "execution_count": 7,
     "metadata": {},
     "output_type": "execute_result"
    }
   ],
   "source": [
    "Y.shape"
   ]
  },
  {
   "cell_type": "markdown",
   "metadata": {},
   "source": [
    "## Preprocess the Data"
   ]
  },
  {
   "cell_type": "code",
   "execution_count": 8,
   "metadata": {
    "collapsed": true
   },
   "outputs": [],
   "source": [
    "le_X = LabelEncoder()\n",
    "X[:, 1] = le_X.fit_transform(X[:, 1])"
   ]
  },
  {
   "cell_type": "code",
   "execution_count": 9,
   "metadata": {
    "collapsed": true
   },
   "outputs": [],
   "source": [
    "le_X = LabelEncoder()\n",
    "X[:, 2] = le_X.fit_transform(X[:, 2])"
   ]
  },
  {
   "cell_type": "code",
   "execution_count": 10,
   "metadata": {
    "collapsed": true
   },
   "outputs": [],
   "source": [
    "le_X = LabelEncoder()\n",
    "X[:, 3] = le_X.fit_transform(X[:, 3])"
   ]
  },
  {
   "cell_type": "code",
   "execution_count": 11,
   "metadata": {
    "collapsed": true
   },
   "outputs": [],
   "source": [
    "ohe_X = OneHotEncoder(categorical_features = [1])\n",
    "X = ohe_X.fit_transform(X).toarray()\n",
    "X = X[:, 1:]"
   ]
  },
  {
   "cell_type": "code",
   "execution_count": 12,
   "metadata": {
    "collapsed": true
   },
   "outputs": [],
   "source": [
    "ohe_X = OneHotEncoder(categorical_features = [2])\n",
    "X = ohe_X.fit_transform(X).toarray()\n",
    "X = X[:, 1:]"
   ]
  },
  {
   "cell_type": "code",
   "execution_count": 13,
   "metadata": {
    "collapsed": true
   },
   "outputs": [],
   "source": [
    "ohe_X = OneHotEncoder(categorical_features = [8])\n",
    "X = ohe_X.fit_transform(X).toarray()\n",
    "X = X[:, 1:]"
   ]
  },
  {
   "cell_type": "code",
   "execution_count": 14,
   "metadata": {
    "collapsed": true
   },
   "outputs": [],
   "source": [
    "sc_X = StandardScaler()"
   ]
  },
  {
   "cell_type": "code",
   "execution_count": 15,
   "metadata": {
    "collapsed": true
   },
   "outputs": [],
   "source": [
    "X = sc_X.fit_transform(X)"
   ]
  },
  {
   "cell_type": "code",
   "execution_count": 16,
   "metadata": {},
   "outputs": [
    {
     "data": {
      "text/plain": [
       "array([ 1.09377971, -1.06647132, -0.10432569, -0.73837457,  1.06689977,\n",
       "       -0.44275183, -0.06416291, -0.0970632 , -0.04126615,  0.81016074,\n",
       "       -1.13672015, -1.24601985,  1.79456386,  1.78234817, -0.69666346,\n",
       "       -0.66659873, -1.53004603, -1.48604076, -0.64250107, -0.64739923,\n",
       "       -0.66799331, -0.67249727, -0.66305853, -0.65272422, -0.34194162,\n",
       "       -0.22708564, -0.29680127, -0.30806256, -0.31413612, -0.29338206])"
      ]
     },
     "execution_count": 16,
     "metadata": {},
     "output_type": "execute_result"
    }
   ],
   "source": [
    "X[0]"
   ]
  },
  {
   "cell_type": "code",
   "execution_count": 17,
   "metadata": {},
   "outputs": [
    {
     "data": {
      "text/plain": [
       "(30000, 30)"
      ]
     },
     "execution_count": 17,
     "metadata": {},
     "output_type": "execute_result"
    }
   ],
   "source": [
    "X.shape"
   ]
  },
  {
   "cell_type": "code",
   "execution_count": 18,
   "metadata": {
    "collapsed": true
   },
   "outputs": [],
   "source": [
    "ohe_Y = OneHotEncoder(categorical_features = [0])"
   ]
  },
  {
   "cell_type": "code",
   "execution_count": 19,
   "metadata": {
    "collapsed": true
   },
   "outputs": [],
   "source": [
    "Y = Y.reshape(len(Y), 1)"
   ]
  },
  {
   "cell_type": "code",
   "execution_count": 20,
   "metadata": {},
   "outputs": [
    {
     "data": {
      "text/plain": [
       "array([ 0.,  1.])"
      ]
     },
     "execution_count": 20,
     "metadata": {},
     "output_type": "execute_result"
    }
   ],
   "source": [
    "Y = ohe_Y.fit_transform(Y).toarray()\n",
    "Y[0]"
   ]
  },
  {
   "cell_type": "markdown",
   "metadata": {},
   "source": [
    "## Create Train and Test Data"
   ]
  },
  {
   "cell_type": "code",
   "execution_count": 21,
   "metadata": {
    "collapsed": true
   },
   "outputs": [],
   "source": [
    "X_train, X_test, Y_train, Y_test = train_test_split(X, Y, test_size = 0.2, random_state = 4)"
   ]
  },
  {
   "cell_type": "code",
   "execution_count": 22,
   "metadata": {},
   "outputs": [
    {
     "data": {
      "text/plain": [
       "(24000, 30)"
      ]
     },
     "execution_count": 22,
     "metadata": {},
     "output_type": "execute_result"
    }
   ],
   "source": [
    "X_train.shape"
   ]
  },
  {
   "cell_type": "code",
   "execution_count": 23,
   "metadata": {},
   "outputs": [
    {
     "data": {
      "text/plain": [
       "(6000, 30)"
      ]
     },
     "execution_count": 23,
     "metadata": {},
     "output_type": "execute_result"
    }
   ],
   "source": [
    "X_test.shape"
   ]
  },
  {
   "cell_type": "code",
   "execution_count": 24,
   "metadata": {},
   "outputs": [
    {
     "data": {
      "text/plain": [
       "(24000, 2)"
      ]
     },
     "execution_count": 24,
     "metadata": {},
     "output_type": "execute_result"
    }
   ],
   "source": [
    "Y_train.shape"
   ]
  },
  {
   "cell_type": "code",
   "execution_count": 25,
   "metadata": {},
   "outputs": [
    {
     "data": {
      "text/plain": [
       "(6000, 2)"
      ]
     },
     "execution_count": 25,
     "metadata": {},
     "output_type": "execute_result"
    }
   ],
   "source": [
    "Y_test.shape"
   ]
  },
  {
   "cell_type": "markdown",
   "metadata": {},
   "source": [
    "## Create TF Classifier"
   ]
  },
  {
   "cell_type": "code",
   "execution_count": 26,
   "metadata": {},
   "outputs": [
    {
     "data": {
      "text/plain": [
       "30"
      ]
     },
     "execution_count": 26,
     "metadata": {},
     "output_type": "execute_result"
    }
   ],
   "source": [
    "num_features = X.shape[1]\n",
    "num_features"
   ]
  },
  {
   "cell_type": "code",
   "execution_count": 27,
   "metadata": {},
   "outputs": [
    {
     "data": {
      "text/plain": [
       "2"
      ]
     },
     "execution_count": 27,
     "metadata": {},
     "output_type": "execute_result"
    }
   ],
   "source": [
    "num_classes = Y.shape[1]\n",
    "num_classes"
   ]
  },
  {
   "cell_type": "code",
   "execution_count": 28,
   "metadata": {
    "collapsed": true
   },
   "outputs": [],
   "source": [
    "# Y = W1.X1 + W2.X2 + ... + Wn.Xn + B\n",
    "# output = 1 / (1 + e ^ (- Y))\n",
    "# Create Weights and Biases Variables\n",
    "\n",
    "W = tf.Variable(tf.zeros([num_features, num_classes]))\n",
    "B = tf.Variable(tf.zeros([num_classes]))"
   ]
  },
  {
   "cell_type": "code",
   "execution_count": 29,
   "metadata": {
    "collapsed": true
   },
   "outputs": [],
   "source": [
    "# Create x and y_ placeholders to hold actual data\n",
    "x = tf.placeholder(tf.float32, [None, num_features])\n",
    "y_ = tf.placeholder(tf.float32, [None, num_classes])"
   ]
  },
  {
   "cell_type": "code",
   "execution_count": 30,
   "metadata": {
    "collapsed": true
   },
   "outputs": [],
   "source": [
    "# Calculate y which holds the model's predicted values\n",
    "Wx = tf.matmul(x, W)\n",
    "y = Wx + B"
   ]
  },
  {
   "cell_type": "code",
   "execution_count": 31,
   "metadata": {
    "collapsed": true
   },
   "outputs": [],
   "source": [
    "# Create a cost function to minimize\n",
    "cost_cross_entropy = tf.reduce_mean(tf.nn.softmax_cross_entropy_with_logits(logits = y, labels = y_))"
   ]
  },
  {
   "cell_type": "code",
   "execution_count": 32,
   "metadata": {
    "collapsed": true
   },
   "outputs": [],
   "source": [
    "# Create an Optimizer to minimize the cost\n",
    "# Use different Optimizers to compare which suits the given problem\n",
    "optimizer = tf.train.GradientDescentOptimizer(learning_rate = 0.5).minimize(cost_cross_entropy)"
   ]
  },
  {
   "cell_type": "code",
   "execution_count": 33,
   "metadata": {
    "collapsed": true
   },
   "outputs": [],
   "source": [
    "def trainTheData(num_steps, optimizer_to_use, batch_size):\n",
    "    init = tf.global_variables_initializer()\n",
    "    # initialize the global variables\n",
    "    \n",
    "    with tf.Session() as sess:\n",
    "        sess.run(init)\n",
    "        \n",
    "        for i in range(num_steps):\n",
    "            \n",
    "            # Calculate the batch start index\n",
    "            if batch_size == len(X_train):\n",
    "                batch_start_index = 0\n",
    "            elif batch_size > len(X_train):\n",
    "                raise ValueError(\"Batch Size : \" + str(batch_size) + \" cannot be greater than Data Size : \", len(X_train))\n",
    "            else:\n",
    "                batch_start_index = (i * batch_size) % (len(X_train) - batch_size)\n",
    "                \n",
    "            # Calculate the batch end index\n",
    "            batch_end_index = batch_size + batch_start_index\n",
    "            \n",
    "            # Calculate the batch X and Y Values\n",
    "            batch_X_values = X_train[batch_start_index : batch_end_index]\n",
    "            batch_Y_values = Y_train[batch_start_index : batch_end_index]\n",
    "            \n",
    "            # Create feed dict to feed it to the optimizer\n",
    "            feed = {x : np.array(batch_X_values), y_ : np.array(batch_Y_values)}\n",
    "            \n",
    "            sess.run(optimizer_to_use, feed_dict = feed)\n",
    "            \n",
    "            # Print the metrics and other parameters for every 25th iteration\n",
    "            if (i + 1) % 25 == 0:\n",
    "                print(\"After \" + str(i + 1) + \" iterations, cost : \", sess.run(cost_cross_entropy, feed_dict = feed))\n",
    "                print(\"W : \", sess.run(W))\n",
    "                print(\"B : \", sess.run(B))\n",
    "                print(\"\")\n",
    "        \n",
    "        # Calculate the model's predicted logit values\n",
    "        Y_pred_logits = sess.run(y, feed_dict = {x : np.array(X_test)})\n",
    "        \n",
    "        # Convert the logit values to a tensor\n",
    "        Y_pred_logits_tensor = tf.convert_to_tensor(Y_pred_logits)\n",
    "        \n",
    "        # Apply softmax function\n",
    "        apply_softmax = tf.nn.softmax(Y_pred_logits_tensor)\n",
    "        \n",
    "        # Calculate the model's predicted classes\n",
    "        Y_pred_classes = np.argmax(sess.run(apply_softmax), axis = 1)\n",
    "        \n",
    "        sess.close()\n",
    "    return Y_pred_classes   "
   ]
  },
  {
   "cell_type": "code",
   "execution_count": 34,
   "metadata": {},
   "outputs": [
    {
     "name": "stdout",
     "output_type": "stream",
     "text": [
      "After 25 iterations, cost :  0.46294\n",
      "W :  [[ -2.55725048e-02   2.55725048e-02]\n",
      " [  1.96826924e-02  -1.96826886e-02]\n",
      " [ -2.29861820e-03   2.29861657e-03]\n",
      " [ -1.75379664e-02   1.75379701e-02]\n",
      " [ -1.08885244e-04   1.08884196e-04]\n",
      " [  2.65040435e-03  -2.65040365e-03]\n",
      " [  2.30737422e-02  -2.30737459e-02]\n",
      " [  5.22771664e-02  -5.22771664e-02]\n",
      " [  1.10360153e-03  -1.10360235e-03]\n",
      " [  2.60542538e-02  -2.60542538e-02]\n",
      " [  4.57527265e-02  -4.57527265e-02]\n",
      " [ -2.65986491e-02   2.65986491e-02]\n",
      " [ -2.83038080e-01   2.83038080e-01]\n",
      " [ -7.50421733e-02   7.50421658e-02]\n",
      " [ -4.37878817e-02   4.37878817e-02]\n",
      " [ -1.63744334e-02   1.63744353e-02]\n",
      " [ -1.71639808e-02   1.71639845e-02]\n",
      " [ -5.99427475e-03   5.99427335e-03]\n",
      " [  4.38490883e-02  -4.38490883e-02]\n",
      " [  1.85206085e-02  -1.85206123e-02]\n",
      " [  9.94602311e-03  -9.94602311e-03]\n",
      " [  1.42447022e-03  -1.42446952e-03]\n",
      " [ -6.15971768e-03   6.15971629e-03]\n",
      " [ -8.04230012e-03   8.04229733e-03]\n",
      " [  5.53700440e-02  -5.53700440e-02]\n",
      " [  5.75915352e-02  -5.75915277e-02]\n",
      " [  3.13876681e-02  -3.13876644e-02]\n",
      " [  3.20306197e-02  -3.20306197e-02]\n",
      " [  2.97996290e-02  -2.97996271e-02]\n",
      " [  2.34966446e-02  -2.34966408e-02]]\n",
      "B :  [ 0.70876998 -0.70877004]\n",
      "\n",
      "After 50 iterations, cost :  0.462286\n",
      "W :  [[-0.02896284  0.02896284]\n",
      " [ 0.01699286 -0.01699286]\n",
      " [-0.00265362  0.00265361]\n",
      " [-0.02027672  0.02027673]\n",
      " [-0.00159453  0.00159453]\n",
      " [ 0.00261844 -0.00261844]\n",
      " [ 0.02698152 -0.02698152]\n",
      " [ 0.06231436 -0.06231436]\n",
      " [ 0.00087704 -0.00087704]\n",
      " [ 0.02763872 -0.02763872]\n",
      " [ 0.04819084 -0.04819084]\n",
      " [-0.02813122  0.02813122]\n",
      " [-0.31377465  0.31377465]\n",
      " [-0.05964712  0.0596471 ]\n",
      " [-0.04395664  0.04395664]\n",
      " [-0.01170564  0.01170565]\n",
      " [-0.01834905  0.01834905]\n",
      " [-0.00309764  0.00309764]\n",
      " [ 0.06621562 -0.06621562]\n",
      " [ 0.01924207 -0.01924208]\n",
      " [ 0.00325211 -0.00325211]\n",
      " [-0.00508333  0.00508333]\n",
      " [-0.01569039  0.01569039]\n",
      " [-0.01700359  0.01700359]\n",
      " [ 0.06846512 -0.06846512]\n",
      " [ 0.08174386 -0.08174385]\n",
      " [ 0.0390105  -0.03901049]\n",
      " [ 0.03724813 -0.03724813]\n",
      " [ 0.03386518 -0.03386518]\n",
      " [ 0.02400682 -0.02400681]]\n",
      "B :  [ 0.73317993 -0.73317993]\n",
      "\n",
      "After 75 iterations, cost :  0.462164\n",
      "W :  [[-0.03188898  0.03188898]\n",
      " [ 0.01400221 -0.0140022 ]\n",
      " [-0.00327761  0.00327761]\n",
      " [-0.0210586   0.02105861]\n",
      " [-0.00256937  0.00256936]\n",
      " [ 0.00193598 -0.00193598]\n",
      " [ 0.02773796 -0.02773797]\n",
      " [ 0.06463948 -0.06463948]\n",
      " [ 0.00070824 -0.00070824]\n",
      " [ 0.028081   -0.028081  ]\n",
      " [ 0.04789443 -0.04789443]\n",
      " [-0.02826923  0.02826923]\n",
      " [-0.318571    0.318571  ]\n",
      " [-0.05366435  0.05366435]\n",
      " [-0.04627206  0.04627206]\n",
      " [-0.01026027  0.01026028]\n",
      " [-0.01984562  0.01984562]\n",
      " [-0.0015961   0.0015961 ]\n",
      " [ 0.08301325 -0.08301324]\n",
      " [ 0.01762927 -0.01762927]\n",
      " [-0.00404463  0.00404463]\n",
      " [-0.00865889  0.00865889]\n",
      " [-0.0200411   0.02004111]\n",
      " [-0.0199717   0.01997169]\n",
      " [ 0.07423474 -0.07423475]\n",
      " [ 0.09603442 -0.09603442]\n",
      " [ 0.04170989 -0.04170987]\n",
      " [ 0.03815928 -0.03815928]\n",
      " [ 0.03395874 -0.03395874]\n",
      " [ 0.02236705 -0.02236704]]\n",
      "B :  [ 0.73702693 -0.73702693]\n",
      "\n",
      "After 100 iterations, cost :  0.462104\n",
      "W :  [[-0.03477741  0.0347774 ]\n",
      " [ 0.01106104 -0.01106104]\n",
      " [-0.00392158  0.00392157]\n",
      " [-0.02163364  0.02163365]\n",
      " [-0.00332967  0.00332966]\n",
      " [ 0.00132069 -0.00132069]\n",
      " [ 0.02780814 -0.02780815]\n",
      " [ 0.0650445  -0.0650445 ]\n",
      " [ 0.00061652 -0.00061652]\n",
      " [ 0.0282742  -0.0282742 ]\n",
      " [ 0.04742471 -0.0474247 ]\n",
      " [-0.02825752  0.02825752]\n",
      " [-0.31934971  0.31934974]\n",
      " [-0.05180868  0.05180867]\n",
      " [-0.0474583   0.0474583 ]\n",
      " [-0.00941301  0.00941302]\n",
      " [-0.02076272  0.02076271]\n",
      " [-0.00064464  0.00064464]\n",
      " [ 0.09625918 -0.09625918]\n",
      " [ 0.01481945 -0.01481944]\n",
      " [-0.01142199  0.01142199]\n",
      " [-0.01076507  0.01076507]\n",
      " [-0.02198432  0.02198432]\n",
      " [-0.02020663  0.02020662]\n",
      " [ 0.07744659 -0.07744659]\n",
      " [ 0.10528522 -0.10528522]\n",
      " [ 0.04265818 -0.04265818]\n",
      " [ 0.03803419 -0.03803419]\n",
      " [ 0.03342511 -0.03342511]\n",
      " [ 0.02123655 -0.02123654]]\n",
      "B :  [ 0.73824918 -0.73824918]\n",
      "\n",
      "After 125 iterations, cost :  0.462065\n",
      "W :  [[ -3.76386493e-02   3.76386382e-02]\n",
      " [  8.16674158e-03  -8.16673413e-03]\n",
      " [ -4.55300091e-03   4.55299392e-03]\n",
      " [ -2.22016480e-02   2.22016592e-02]\n",
      " [ -4.02573356e-03   4.02573124e-03]\n",
      " [  7.57456990e-04  -7.57453497e-04]\n",
      " [  2.77410671e-02  -2.77410690e-02]\n",
      " [  6.49995282e-02  -6.49995282e-02]\n",
      " [  5.56500978e-04  -5.56500163e-04]\n",
      " [  2.83759777e-02  -2.83759758e-02]\n",
      " [  4.70332988e-02  -4.70332913e-02]\n",
      " [ -2.82341111e-02   2.82341130e-02]\n",
      " [ -3.19393486e-01   3.19393516e-01]\n",
      " [ -5.13501167e-02   5.13501167e-02]\n",
      " [ -4.77701984e-02   4.77701947e-02]\n",
      " [ -8.90507456e-03   8.90508015e-03]\n",
      " [ -2.13390328e-02   2.13390291e-02]\n",
      " [ -1.19779317e-04   1.19775912e-04]\n",
      " [  1.07171297e-01  -1.07171290e-01]\n",
      " [  1.14857713e-02  -1.14857685e-02]\n",
      " [ -1.85099225e-02   1.85099225e-02]\n",
      " [ -1.19955596e-02   1.19955596e-02]\n",
      " [ -2.27628015e-02   2.27627959e-02]\n",
      " [ -1.92436539e-02   1.92436483e-02]\n",
      " [  7.95651898e-02  -7.95651898e-02]\n",
      " [  1.11639239e-01  -1.11639239e-01]\n",
      " [  4.28330638e-02  -4.28330526e-02]\n",
      " [  3.76130603e-02  -3.76130603e-02]\n",
      " [  3.28218713e-02  -3.28218713e-02]\n",
      " [  2.06211694e-02  -2.06211638e-02]]\n",
      "B :  [ 0.73883647 -0.73883647]\n",
      "\n",
      "After 150 iterations, cost :  0.462035\n",
      "W :  [[ -4.04701605e-02   4.04701419e-02]\n",
      " [  5.31384256e-03  -5.31383371e-03]\n",
      " [ -5.16977627e-03   5.16977208e-03]\n",
      " [ -2.27827542e-02   2.27827653e-02]\n",
      " [ -4.70154453e-03   4.70153987e-03]\n",
      " [  2.18141504e-04  -2.18137604e-04]\n",
      " [  2.76515409e-02  -2.76515428e-02]\n",
      " [  6.48636892e-02  -6.48636892e-02]\n",
      " [  5.09366044e-04  -5.09364181e-04]\n",
      " [  2.84364950e-02  -2.84364950e-02]\n",
      " [  4.67193946e-02  -4.67193872e-02]\n",
      " [ -2.82116383e-02   2.82116439e-02]\n",
      " [ -3.19298118e-01   3.19298148e-01]\n",
      " [ -5.13571016e-02   5.13571054e-02]\n",
      " [ -4.76789251e-02   4.76789251e-02]\n",
      " [ -8.61837808e-03   8.61838274e-03]\n",
      " [ -2.16958094e-02   2.16958113e-02]\n",
      " [  1.45576458e-04  -1.45578990e-04]\n",
      " [  1.16449326e-01  -1.16449311e-01]\n",
      " [  7.98381027e-03  -7.98380561e-03]\n",
      " [ -2.51150560e-02   2.51150597e-02]\n",
      " [ -1.26402266e-02   1.26402304e-02]\n",
      " [ -2.29713712e-02   2.29713637e-02]\n",
      " [ -1.78152528e-02   1.78152472e-02]\n",
      " [  8.11757743e-02  -8.11757743e-02]\n",
      " [  1.16210833e-01  -1.16210833e-01]\n",
      " [  4.26298380e-02  -4.26298268e-02]\n",
      " [  3.71153839e-02  -3.71153839e-02]\n",
      " [  3.22482400e-02  -3.22482400e-02]\n",
      " [  2.03024950e-02  -2.03024875e-02]]\n",
      "B :  [ 0.73918641 -0.73918641]\n",
      "\n",
      "After 175 iterations, cost :  0.462011\n",
      "W :  [[ -4.32702601e-02   4.32702377e-02]\n",
      " [  2.49946630e-03  -2.49945745e-03]\n",
      " [ -5.77354245e-03   5.77353546e-03]\n",
      " [ -2.33746562e-02   2.33746655e-02]\n",
      " [ -5.36925485e-03   5.36924973e-03]\n",
      " [ -3.09169322e-04   3.09171854e-04]\n",
      " [  2.75614373e-02  -2.75614392e-02]\n",
      " [  6.47175685e-02  -6.47175685e-02]\n",
      " [  4.67445294e-04  -4.67442791e-04]\n",
      " [  2.84757558e-02  -2.84757521e-02]\n",
      " [  4.64636013e-02  -4.64635938e-02]\n",
      " [ -2.81906445e-02   2.81906482e-02]\n",
      " [ -3.19187433e-01   3.19187462e-01]\n",
      " [ -5.15093207e-02   5.15093207e-02]\n",
      " [ -4.74420637e-02   4.74420674e-02]\n",
      " [ -8.46081413e-03   8.46082158e-03]\n",
      " [ -2.19093990e-02   2.19094027e-02]\n",
      " [  2.63552240e-04  -2.63553404e-04]\n",
      " [  1.24513060e-01  -1.24513060e-01]\n",
      " [  4.49409755e-03  -4.49409289e-03]\n",
      " [ -3.11609991e-02   3.11610010e-02]\n",
      " [ -1.28691215e-02   1.28691262e-02]\n",
      " [ -2.29134019e-02   2.29133964e-02]\n",
      " [ -1.62786469e-02   1.62786394e-02]\n",
      " [  8.25300440e-02  -8.25300366e-02]\n",
      " [  1.19625941e-01  -1.19625933e-01]\n",
      " [  4.22387458e-02  -4.22387309e-02]\n",
      " [  3.66240665e-02  -3.66240665e-02]\n",
      " [  3.17274854e-02  -3.17274854e-02]\n",
      " [  2.01392118e-02  -2.01392025e-02]]\n",
      "B :  [ 0.73942226 -0.73942226]\n",
      "\n",
      "After 200 iterations, cost :  0.461992\n",
      "W :  [[ -4.60380539e-02   4.60380316e-02]\n",
      " [ -2.78252992e-04   2.78261345e-04]\n",
      " [ -6.36592647e-03   6.36591902e-03]\n",
      " [ -2.39735022e-02   2.39735097e-02]\n",
      " [ -6.03250973e-03   6.03250507e-03]\n",
      " [ -8.29383382e-04   8.29383673e-04]\n",
      " [  2.74738837e-02  -2.74738856e-02]\n",
      " [  6.45757988e-02  -6.45757988e-02]\n",
      " [  4.27232415e-04  -4.27230756e-04]\n",
      " [  2.85029914e-02  -2.85029877e-02]\n",
      " [  4.62507494e-02  -4.62507345e-02]\n",
      " [ -2.81710215e-02   2.81710234e-02]\n",
      " [ -3.19087595e-01   3.19087654e-01]\n",
      " [ -5.16939573e-02   5.16939536e-02]\n",
      " [ -4.71732803e-02   4.71732952e-02]\n",
      " [ -8.37239064e-03   8.37239902e-03]\n",
      " [ -2.20334101e-02   2.20334120e-02]\n",
      " [  3.00074113e-04  -3.00073763e-04]\n",
      " [  1.31628320e-01  -1.31628335e-01]\n",
      " [  1.10431889e-03  -1.10431586e-03]\n",
      " [ -3.66360173e-02   3.66360173e-02]\n",
      " [ -1.27930809e-02   1.27930911e-02]\n",
      " [ -2.27464829e-02   2.27464810e-02]\n",
      " [ -1.48036843e-02   1.48036852e-02]\n",
      " [  8.37357566e-02  -8.37357491e-02]\n",
      " [  1.22255996e-01  -1.22255988e-01]\n",
      " [  4.17604446e-02  -4.17604297e-02]\n",
      " [  3.61732282e-02  -3.61732244e-02]\n",
      " [  3.12654302e-02  -3.12654302e-02]\n",
      " [  2.00555697e-02  -2.00555641e-02]]\n",
      "B :  [ 0.73959565 -0.73959565]\n",
      "\n"
     ]
    }
   ],
   "source": [
    "Y_pred_classes = trainTheData(num_steps = 200, optimizer_to_use = optimizer, batch_size = len(X_train))"
   ]
  },
  {
   "cell_type": "code",
   "execution_count": 35,
   "metadata": {
    "collapsed": true
   },
   "outputs": [],
   "source": [
    "Y_test_classes = np.argmax(Y_test, axis = 1)"
   ]
  },
  {
   "cell_type": "markdown",
   "metadata": {},
   "source": [
    "## Check the accuracy"
   ]
  },
  {
   "cell_type": "code",
   "execution_count": 36,
   "metadata": {},
   "outputs": [
    {
     "data": {
      "text/plain": [
       "0.80349999999999999"
      ]
     },
     "execution_count": 36,
     "metadata": {},
     "output_type": "execute_result"
    }
   ],
   "source": [
    "accuracy_score(Y_test_classes, Y_pred_classes)"
   ]
  },
  {
   "cell_type": "code",
   "execution_count": 37,
   "metadata": {},
   "outputs": [
    {
     "data": {
      "text/plain": [
       "array([[4509,  129],\n",
       "       [1050,  312]], dtype=int64)"
      ]
     },
     "execution_count": 37,
     "metadata": {},
     "output_type": "execute_result"
    }
   ],
   "source": [
    "confusion_matrix(Y_test_classes, Y_pred_classes)"
   ]
  },
  {
   "cell_type": "code",
   "execution_count": null,
   "metadata": {
    "collapsed": true
   },
   "outputs": [],
   "source": []
  }
 ],
 "metadata": {
  "kernelspec": {
   "display_name": "Python [default]",
   "language": "python",
   "name": "python3"
  },
  "language_info": {
   "codemirror_mode": {
    "name": "ipython",
    "version": 3
   },
   "file_extension": ".py",
   "mimetype": "text/x-python",
   "name": "python",
   "nbconvert_exporter": "python",
   "pygments_lexer": "ipython3",
   "version": "3.5.4"
  }
 },
 "nbformat": 4,
 "nbformat_minor": 2
}
