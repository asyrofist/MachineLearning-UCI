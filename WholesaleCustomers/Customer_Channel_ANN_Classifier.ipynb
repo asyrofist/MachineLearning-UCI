{
 "cells": [
  {
   "cell_type": "markdown",
   "metadata": {},
   "source": [
    "## Initialization"
   ]
  },
  {
   "cell_type": "code",
   "execution_count": 1,
   "metadata": {},
   "outputs": [
    {
     "name": "stderr",
     "output_type": "stream",
     "text": [
      "Using Theano backend.\n"
     ]
    }
   ],
   "source": [
    "import pandas as pd\n",
    "import numpy as np\n",
    "import keras"
   ]
  },
  {
   "cell_type": "markdown",
   "metadata": {},
   "source": [
    "## Importing the Data"
   ]
  },
  {
   "cell_type": "code",
   "execution_count": 2,
   "metadata": {},
   "outputs": [
    {
     "data": {
      "text/plain": [
       "(440, 8)"
      ]
     },
     "execution_count": 2,
     "metadata": {},
     "output_type": "execute_result"
    }
   ],
   "source": [
    "dataset = pd.read_csv('Wholesale customers data.csv')\n",
    "dataset.shape"
   ]
  },
  {
   "cell_type": "code",
   "execution_count": 3,
   "metadata": {},
   "outputs": [
    {
     "data": {
      "text/html": [
       "<div>\n",
       "<style>\n",
       "    .dataframe thead tr:only-child th {\n",
       "        text-align: right;\n",
       "    }\n",
       "\n",
       "    .dataframe thead th {\n",
       "        text-align: left;\n",
       "    }\n",
       "\n",
       "    .dataframe tbody tr th {\n",
       "        vertical-align: top;\n",
       "    }\n",
       "</style>\n",
       "<table border=\"1\" class=\"dataframe\">\n",
       "  <thead>\n",
       "    <tr style=\"text-align: right;\">\n",
       "      <th></th>\n",
       "      <th>Channel</th>\n",
       "      <th>Region</th>\n",
       "      <th>Fresh</th>\n",
       "      <th>Milk</th>\n",
       "      <th>Grocery</th>\n",
       "      <th>Frozen</th>\n",
       "      <th>Detergents_Paper</th>\n",
       "      <th>Delicassen</th>\n",
       "    </tr>\n",
       "  </thead>\n",
       "  <tbody>\n",
       "    <tr>\n",
       "      <th>0</th>\n",
       "      <td>2</td>\n",
       "      <td>3</td>\n",
       "      <td>12669</td>\n",
       "      <td>9656</td>\n",
       "      <td>7561</td>\n",
       "      <td>214</td>\n",
       "      <td>2674</td>\n",
       "      <td>1338</td>\n",
       "    </tr>\n",
       "    <tr>\n",
       "      <th>1</th>\n",
       "      <td>2</td>\n",
       "      <td>3</td>\n",
       "      <td>7057</td>\n",
       "      <td>9810</td>\n",
       "      <td>9568</td>\n",
       "      <td>1762</td>\n",
       "      <td>3293</td>\n",
       "      <td>1776</td>\n",
       "    </tr>\n",
       "    <tr>\n",
       "      <th>2</th>\n",
       "      <td>2</td>\n",
       "      <td>3</td>\n",
       "      <td>6353</td>\n",
       "      <td>8808</td>\n",
       "      <td>7684</td>\n",
       "      <td>2405</td>\n",
       "      <td>3516</td>\n",
       "      <td>7844</td>\n",
       "    </tr>\n",
       "    <tr>\n",
       "      <th>3</th>\n",
       "      <td>1</td>\n",
       "      <td>3</td>\n",
       "      <td>13265</td>\n",
       "      <td>1196</td>\n",
       "      <td>4221</td>\n",
       "      <td>6404</td>\n",
       "      <td>507</td>\n",
       "      <td>1788</td>\n",
       "    </tr>\n",
       "    <tr>\n",
       "      <th>4</th>\n",
       "      <td>2</td>\n",
       "      <td>3</td>\n",
       "      <td>22615</td>\n",
       "      <td>5410</td>\n",
       "      <td>7198</td>\n",
       "      <td>3915</td>\n",
       "      <td>1777</td>\n",
       "      <td>5185</td>\n",
       "    </tr>\n",
       "  </tbody>\n",
       "</table>\n",
       "</div>"
      ],
      "text/plain": [
       "   Channel  Region  Fresh  Milk  Grocery  Frozen  Detergents_Paper  Delicassen\n",
       "0        2       3  12669  9656     7561     214              2674        1338\n",
       "1        2       3   7057  9810     9568    1762              3293        1776\n",
       "2        2       3   6353  8808     7684    2405              3516        7844\n",
       "3        1       3  13265  1196     4221    6404               507        1788\n",
       "4        2       3  22615  5410     7198    3915              1777        5185"
      ]
     },
     "execution_count": 3,
     "metadata": {},
     "output_type": "execute_result"
    }
   ],
   "source": [
    "dataset.head()"
   ]
  },
  {
   "cell_type": "markdown",
   "metadata": {},
   "source": [
    "## Create X and Y"
   ]
  },
  {
   "cell_type": "code",
   "execution_count": 4,
   "metadata": {
    "collapsed": true
   },
   "outputs": [],
   "source": [
    "X = dataset.iloc[:, 2:].values\n",
    "Y = dataset.iloc[:, 0].values"
   ]
  },
  {
   "cell_type": "code",
   "execution_count": 5,
   "metadata": {},
   "outputs": [
    {
     "data": {
      "text/plain": [
       "(440, 6)"
      ]
     },
     "execution_count": 5,
     "metadata": {},
     "output_type": "execute_result"
    }
   ],
   "source": [
    "X.shape"
   ]
  },
  {
   "cell_type": "code",
   "execution_count": 6,
   "metadata": {},
   "outputs": [
    {
     "data": {
      "text/plain": [
       "(440,)"
      ]
     },
     "execution_count": 6,
     "metadata": {},
     "output_type": "execute_result"
    }
   ],
   "source": [
    "Y.shape"
   ]
  },
  {
   "cell_type": "code",
   "execution_count": 7,
   "metadata": {},
   "outputs": [
    {
     "data": {
      "text/plain": [
       "array([12669,  9656,  7561,   214,  2674,  1338], dtype=int64)"
      ]
     },
     "execution_count": 7,
     "metadata": {},
     "output_type": "execute_result"
    }
   ],
   "source": [
    "X[0]"
   ]
  },
  {
   "cell_type": "code",
   "execution_count": 8,
   "metadata": {},
   "outputs": [
    {
     "data": {
      "text/plain": [
       "2"
      ]
     },
     "execution_count": 8,
     "metadata": {},
     "output_type": "execute_result"
    }
   ],
   "source": [
    "Y[0]"
   ]
  },
  {
   "cell_type": "markdown",
   "metadata": {},
   "source": [
    "## Preprocess the Data"
   ]
  },
  {
   "cell_type": "code",
   "execution_count": 9,
   "metadata": {
    "collapsed": true
   },
   "outputs": [],
   "source": [
    "from sklearn.preprocessing import LabelEncoder, StandardScaler"
   ]
  },
  {
   "cell_type": "code",
   "execution_count": 10,
   "metadata": {
    "collapsed": true
   },
   "outputs": [],
   "source": [
    "le_Y = LabelEncoder()"
   ]
  },
  {
   "cell_type": "code",
   "execution_count": 11,
   "metadata": {
    "collapsed": true
   },
   "outputs": [],
   "source": [
    "Y = le_Y.fit_transform(Y)"
   ]
  },
  {
   "cell_type": "code",
   "execution_count": 12,
   "metadata": {},
   "outputs": [
    {
     "data": {
      "text/plain": [
       "1"
      ]
     },
     "execution_count": 12,
     "metadata": {},
     "output_type": "execute_result"
    }
   ],
   "source": [
    "Y[0]"
   ]
  },
  {
   "cell_type": "code",
   "execution_count": 13,
   "metadata": {
    "collapsed": true
   },
   "outputs": [],
   "source": [
    "sc_X = StandardScaler()"
   ]
  },
  {
   "cell_type": "code",
   "execution_count": 14,
   "metadata": {},
   "outputs": [
    {
     "name": "stderr",
     "output_type": "stream",
     "text": [
      "C:\\Users\\user\\Anaconda3\\lib\\site-packages\\sklearn\\utils\\validation.py:444: DataConversionWarning: Data with input dtype int64 was converted to float64 by StandardScaler.\n",
      "  warnings.warn(msg, DataConversionWarning)\n"
     ]
    }
   ],
   "source": [
    "X = sc_X.fit_transform(X)"
   ]
  },
  {
   "cell_type": "code",
   "execution_count": 15,
   "metadata": {},
   "outputs": [
    {
     "data": {
      "text/plain": [
       "array([ 0.05293319,  0.52356777, -0.04111489, -0.58936716, -0.04356873,\n",
       "       -0.06633906])"
      ]
     },
     "execution_count": 15,
     "metadata": {},
     "output_type": "execute_result"
    }
   ],
   "source": [
    "X[0]"
   ]
  },
  {
   "cell_type": "markdown",
   "metadata": {},
   "source": [
    "## Create Train and Test Data"
   ]
  },
  {
   "cell_type": "code",
   "execution_count": 16,
   "metadata": {
    "collapsed": true
   },
   "outputs": [],
   "source": [
    "from sklearn.model_selection import train_test_split"
   ]
  },
  {
   "cell_type": "code",
   "execution_count": 17,
   "metadata": {
    "collapsed": true
   },
   "outputs": [],
   "source": [
    "X_train, X_test, Y_train, Y_test = train_test_split(X, Y, test_size = 0.2, random_state = 4)"
   ]
  },
  {
   "cell_type": "code",
   "execution_count": 18,
   "metadata": {},
   "outputs": [
    {
     "data": {
      "text/plain": [
       "(352, 6)"
      ]
     },
     "execution_count": 18,
     "metadata": {},
     "output_type": "execute_result"
    }
   ],
   "source": [
    "X_train.shape"
   ]
  },
  {
   "cell_type": "code",
   "execution_count": 19,
   "metadata": {},
   "outputs": [
    {
     "data": {
      "text/plain": [
       "(88, 6)"
      ]
     },
     "execution_count": 19,
     "metadata": {},
     "output_type": "execute_result"
    }
   ],
   "source": [
    "X_test.shape"
   ]
  },
  {
   "cell_type": "code",
   "execution_count": 20,
   "metadata": {},
   "outputs": [
    {
     "data": {
      "text/plain": [
       "(352,)"
      ]
     },
     "execution_count": 20,
     "metadata": {},
     "output_type": "execute_result"
    }
   ],
   "source": [
    "Y_train.shape"
   ]
  },
  {
   "cell_type": "code",
   "execution_count": 21,
   "metadata": {},
   "outputs": [
    {
     "data": {
      "text/plain": [
       "(88,)"
      ]
     },
     "execution_count": 21,
     "metadata": {},
     "output_type": "execute_result"
    }
   ],
   "source": [
    "Y_test.shape"
   ]
  },
  {
   "cell_type": "code",
   "execution_count": 22,
   "metadata": {},
   "outputs": [
    {
     "data": {
      "text/html": [
       "<div>\n",
       "<style>\n",
       "    .dataframe thead tr:only-child th {\n",
       "        text-align: right;\n",
       "    }\n",
       "\n",
       "    .dataframe thead th {\n",
       "        text-align: left;\n",
       "    }\n",
       "\n",
       "    .dataframe tbody tr th {\n",
       "        vertical-align: top;\n",
       "    }\n",
       "</style>\n",
       "<table border=\"1\" class=\"dataframe\">\n",
       "  <thead>\n",
       "    <tr style=\"text-align: right;\">\n",
       "      <th></th>\n",
       "      <th>0</th>\n",
       "    </tr>\n",
       "  </thead>\n",
       "  <tbody>\n",
       "    <tr>\n",
       "      <th>0</th>\n",
       "      <td>240</td>\n",
       "    </tr>\n",
       "    <tr>\n",
       "      <th>1</th>\n",
       "      <td>112</td>\n",
       "    </tr>\n",
       "  </tbody>\n",
       "</table>\n",
       "</div>"
      ],
      "text/plain": [
       "     0\n",
       "0  240\n",
       "1  112"
      ]
     },
     "execution_count": 22,
     "metadata": {},
     "output_type": "execute_result"
    }
   ],
   "source": [
    "pd.DataFrame(pd.DataFrame(Y_train)[0].value_counts())"
   ]
  },
  {
   "cell_type": "code",
   "execution_count": 23,
   "metadata": {},
   "outputs": [
    {
     "data": {
      "text/html": [
       "<div>\n",
       "<style>\n",
       "    .dataframe thead tr:only-child th {\n",
       "        text-align: right;\n",
       "    }\n",
       "\n",
       "    .dataframe thead th {\n",
       "        text-align: left;\n",
       "    }\n",
       "\n",
       "    .dataframe tbody tr th {\n",
       "        vertical-align: top;\n",
       "    }\n",
       "</style>\n",
       "<table border=\"1\" class=\"dataframe\">\n",
       "  <thead>\n",
       "    <tr style=\"text-align: right;\">\n",
       "      <th></th>\n",
       "      <th>0</th>\n",
       "    </tr>\n",
       "  </thead>\n",
       "  <tbody>\n",
       "    <tr>\n",
       "      <th>0</th>\n",
       "      <td>58</td>\n",
       "    </tr>\n",
       "    <tr>\n",
       "      <th>1</th>\n",
       "      <td>30</td>\n",
       "    </tr>\n",
       "  </tbody>\n",
       "</table>\n",
       "</div>"
      ],
      "text/plain": [
       "    0\n",
       "0  58\n",
       "1  30"
      ]
     },
     "execution_count": 23,
     "metadata": {},
     "output_type": "execute_result"
    }
   ],
   "source": [
    "pd.DataFrame(pd.DataFrame(Y_test)[0].value_counts())"
   ]
  },
  {
   "cell_type": "markdown",
   "metadata": {},
   "source": [
    "## Create and train the ANN Classifier"
   ]
  },
  {
   "cell_type": "code",
   "execution_count": 24,
   "metadata": {
    "collapsed": true
   },
   "outputs": [],
   "source": [
    "from keras.models import Sequential\n",
    "from keras.layers import Dense"
   ]
  },
  {
   "cell_type": "code",
   "execution_count": 25,
   "metadata": {},
   "outputs": [
    {
     "name": "stderr",
     "output_type": "stream",
     "text": [
      "C:\\Users\\user\\Anaconda3\\lib\\site-packages\\ipykernel\\__main__.py:4: UserWarning: Update your `Dense` call to the Keras 2 API: `Dense(units=3, input_dim=6, kernel_initializer=\"uniform\", activation=\"relu\")`\n",
      "C:\\Users\\user\\Anaconda3\\lib\\site-packages\\ipykernel\\__main__.py:7: UserWarning: Update your `Dense` call to the Keras 2 API: `Dense(units=1, kernel_initializer=\"uniform\", activation=\"sigmoid\")`\n",
      "C:\\Users\\user\\Anaconda3\\lib\\site-packages\\keras\\models.py:844: UserWarning: The `nb_epoch` argument in `fit` has been renamed `epochs`.\n",
      "  warnings.warn('The `nb_epoch` argument in `fit` '\n"
     ]
    },
    {
     "name": "stdout",
     "output_type": "stream",
     "text": [
      "Epoch 1/200\n",
      "352/352 [==============================] - 0s - loss: 0.6862 - acc: 0.7443     \n",
      "Epoch 2/200\n",
      "352/352 [==============================] - 0s - loss: 0.6663 - acc: 0.8523     \n",
      "Epoch 3/200\n",
      "352/352 [==============================] - 0s - loss: 0.6373 - acc: 0.8835     \n",
      "Epoch 4/200\n",
      "352/352 [==============================] - 0s - loss: 0.6034 - acc: 0.9034     \n",
      "Epoch 5/200\n",
      "352/352 [==============================] - 0s - loss: 0.5714 - acc: 0.9006     \n",
      "Epoch 6/200\n",
      "352/352 [==============================] - 0s - loss: 0.5443 - acc: 0.9006     \n",
      "Epoch 7/200\n",
      "352/352 [==============================] - 0s - loss: 0.5212 - acc: 0.9034     \n",
      "Epoch 8/200\n",
      "352/352 [==============================] - 0s - loss: 0.5012 - acc: 0.9091     \n",
      "Epoch 9/200\n",
      "352/352 [==============================] - 0s - loss: 0.4837 - acc: 0.9091     \n",
      "Epoch 10/200\n",
      "352/352 [==============================] - 0s - loss: 0.4680 - acc: 0.9119     \n",
      "Epoch 11/200\n",
      "352/352 [==============================] - 0s - loss: 0.4536 - acc: 0.9148     \n",
      "Epoch 12/200\n",
      "352/352 [==============================] - 0s - loss: 0.4406 - acc: 0.9148     \n",
      "Epoch 13/200\n",
      "352/352 [==============================] - 0s - loss: 0.4284 - acc: 0.9119     \n",
      "Epoch 14/200\n",
      "352/352 [==============================] - 0s - loss: 0.4174 - acc: 0.9091     \n",
      "Epoch 15/200\n",
      "352/352 [==============================] - 0s - loss: 0.4070 - acc: 0.9119     \n",
      "Epoch 16/200\n",
      "352/352 [==============================] - 0s - loss: 0.3973 - acc: 0.9119     \n",
      "Epoch 17/200\n",
      "352/352 [==============================] - 0s - loss: 0.3879 - acc: 0.9091     \n",
      "Epoch 18/200\n",
      "352/352 [==============================] - 0s - loss: 0.3793 - acc: 0.9091     \n",
      "Epoch 19/200\n",
      "352/352 [==============================] - 0s - loss: 0.3712 - acc: 0.9091     \n",
      "Epoch 20/200\n",
      "352/352 [==============================] - 0s - loss: 0.3636 - acc: 0.9091     \n",
      "Epoch 21/200\n",
      "352/352 [==============================] - 0s - loss: 0.3564 - acc: 0.9119     \n",
      "Epoch 22/200\n",
      "352/352 [==============================] - 0s - loss: 0.3500 - acc: 0.9091     \n",
      "Epoch 23/200\n",
      "352/352 [==============================] - 0s - loss: 0.3435 - acc: 0.9091     \n",
      "Epoch 24/200\n",
      "352/352 [==============================] - 0s - loss: 0.3377 - acc: 0.9119     \n",
      "Epoch 25/200\n",
      "352/352 [==============================] - 0s - loss: 0.3321 - acc: 0.9148     \n",
      "Epoch 26/200\n",
      "352/352 [==============================] - ETA: 0s - loss: 0.3296 - acc: 1.000 - 0s - loss: 0.3268 - acc: 0.9148     \n",
      "Epoch 27/200\n",
      "352/352 [==============================] - 0s - loss: 0.3220 - acc: 0.9148     \n",
      "Epoch 28/200\n",
      "352/352 [==============================] - 0s - loss: 0.3176 - acc: 0.9148     \n",
      "Epoch 29/200\n",
      "352/352 [==============================] - ETA: 0s - loss: 0.1423 - acc: 1.000 - 0s - loss: 0.3130 - acc: 0.9148     \n",
      "Epoch 30/200\n",
      "352/352 [==============================] - 0s - loss: 0.3088 - acc: 0.9176     \n",
      "Epoch 31/200\n",
      "352/352 [==============================] - 0s - loss: 0.3050 - acc: 0.9148     \n",
      "Epoch 32/200\n",
      "352/352 [==============================] - 0s - loss: 0.3012 - acc: 0.9176     \n",
      "Epoch 33/200\n",
      "352/352 [==============================] - 0s - loss: 0.2976 - acc: 0.9176     \n",
      "Epoch 34/200\n",
      "352/352 [==============================] - 0s - loss: 0.2943 - acc: 0.9176     \n",
      "Epoch 35/200\n",
      "352/352 [==============================] - 0s - loss: 0.2912 - acc: 0.9148     \n",
      "Epoch 36/200\n",
      "352/352 [==============================] - 0s - loss: 0.2880 - acc: 0.9176     \n",
      "Epoch 37/200\n",
      "352/352 [==============================] - 0s - loss: 0.2854 - acc: 0.9176     \n",
      "Epoch 38/200\n",
      "352/352 [==============================] - 0s - loss: 0.2827 - acc: 0.9205     \n",
      "Epoch 39/200\n",
      "352/352 [==============================] - 0s - loss: 0.2800 - acc: 0.9176     \n",
      "Epoch 40/200\n",
      "352/352 [==============================] - 0s - loss: 0.2775 - acc: 0.9148     \n",
      "Epoch 41/200\n",
      "352/352 [==============================] - 0s - loss: 0.2756 - acc: 0.9176     \n",
      "Epoch 42/200\n",
      "352/352 [==============================] - 0s - loss: 0.2730 - acc: 0.9176     \n",
      "Epoch 43/200\n",
      "352/352 [==============================] - 0s - loss: 0.2708 - acc: 0.9176     \n",
      "Epoch 44/200\n",
      "352/352 [==============================] - 0s - loss: 0.2688 - acc: 0.9176     \n",
      "Epoch 45/200\n",
      "352/352 [==============================] - 0s - loss: 0.2670 - acc: 0.9176     \n",
      "Epoch 46/200\n",
      "352/352 [==============================] - 0s - loss: 0.2652 - acc: 0.9176     \n",
      "Epoch 47/200\n",
      "352/352 [==============================] - 0s - loss: 0.2637 - acc: 0.9148     \n",
      "Epoch 48/200\n",
      "352/352 [==============================] - 0s - loss: 0.2617 - acc: 0.9233     \n",
      "Epoch 49/200\n",
      "352/352 [==============================] - 0s - loss: 0.2602 - acc: 0.9205     \n",
      "Epoch 50/200\n",
      "352/352 [==============================] - 0s - loss: 0.2589 - acc: 0.9176     \n",
      "Epoch 51/200\n",
      "352/352 [==============================] - 0s - loss: 0.2574 - acc: 0.9176     \n",
      "Epoch 52/200\n",
      "352/352 [==============================] - 0s - loss: 0.2559 - acc: 0.9176     \n",
      "Epoch 53/200\n",
      "352/352 [==============================] - 0s - loss: 0.2552 - acc: 0.9176     \n",
      "Epoch 54/200\n",
      "352/352 [==============================] - 0s - loss: 0.2536 - acc: 0.9176     \n",
      "Epoch 55/200\n",
      "352/352 [==============================] - 0s - loss: 0.2519 - acc: 0.9176     \n",
      "Epoch 56/200\n",
      "352/352 [==============================] - 0s - loss: 0.2508 - acc: 0.9176     \n",
      "Epoch 57/200\n",
      "352/352 [==============================] - 0s - loss: 0.2499 - acc: 0.9176     \n",
      "Epoch 58/200\n",
      "352/352 [==============================] - 0s - loss: 0.2488 - acc: 0.9233     \n",
      "Epoch 59/200\n",
      "352/352 [==============================] - 0s - loss: 0.2476 - acc: 0.9176     \n",
      "Epoch 60/200\n",
      "352/352 [==============================] - 0s - loss: 0.2468 - acc: 0.9176     \n",
      "Epoch 61/200\n",
      "352/352 [==============================] - 0s - loss: 0.2454 - acc: 0.9176     \n",
      "Epoch 62/200\n",
      "352/352 [==============================] - 0s - loss: 0.2444 - acc: 0.9176     \n",
      "Epoch 63/200\n",
      "352/352 [==============================] - 0s - loss: 0.2433 - acc: 0.9176     \n",
      "Epoch 64/200\n",
      "352/352 [==============================] - 0s - loss: 0.2421 - acc: 0.9148     \n",
      "Epoch 65/200\n",
      "352/352 [==============================] - 0s - loss: 0.2418 - acc: 0.9148     \n",
      "Epoch 66/200\n",
      "352/352 [==============================] - 0s - loss: 0.2405 - acc: 0.9148     \n",
      "Epoch 67/200\n",
      "352/352 [==============================] - 0s - loss: 0.2400 - acc: 0.9148     \n",
      "Epoch 68/200\n",
      "352/352 [==============================] - 0s - loss: 0.2392 - acc: 0.9148     \n",
      "Epoch 69/200\n",
      "352/352 [==============================] - 0s - loss: 0.2384 - acc: 0.9148     \n",
      "Epoch 70/200\n",
      "352/352 [==============================] - 0s - loss: 0.2374 - acc: 0.9176     \n",
      "Epoch 71/200\n",
      "352/352 [==============================] - 0s - loss: 0.2369 - acc: 0.9176     \n",
      "Epoch 72/200\n",
      "352/352 [==============================] - 0s - loss: 0.2364 - acc: 0.9205     \n",
      "Epoch 73/200\n",
      "352/352 [==============================] - 0s - loss: 0.2359 - acc: 0.9119     \n",
      "Epoch 74/200\n",
      "352/352 [==============================] - 0s - loss: 0.2354 - acc: 0.9205     \n",
      "Epoch 75/200\n",
      "352/352 [==============================] - 0s - loss: 0.2343 - acc: 0.9148     \n",
      "Epoch 76/200\n",
      "352/352 [==============================] - 0s - loss: 0.2338 - acc: 0.9176     \n",
      "Epoch 77/200\n",
      "352/352 [==============================] - 0s - loss: 0.2332 - acc: 0.9176     \n",
      "Epoch 78/200\n",
      "352/352 [==============================] - 0s - loss: 0.2330 - acc: 0.9233     \n",
      "Epoch 79/200\n",
      "352/352 [==============================] - 0s - loss: 0.2321 - acc: 0.9176     \n",
      "Epoch 80/200\n",
      "352/352 [==============================] - 0s - loss: 0.2318 - acc: 0.9148     \n",
      "Epoch 81/200\n",
      "352/352 [==============================] - 0s - loss: 0.2313 - acc: 0.9148     \n",
      "Epoch 82/200\n",
      "352/352 [==============================] - 0s - loss: 0.2309 - acc: 0.9119     \n",
      "Epoch 83/200\n",
      "352/352 [==============================] - 0s - loss: 0.2302 - acc: 0.9148     \n",
      "Epoch 84/200\n",
      "352/352 [==============================] - 0s - loss: 0.2301 - acc: 0.9119     \n",
      "Epoch 85/200\n",
      "352/352 [==============================] - 0s - loss: 0.2294 - acc: 0.9148     \n",
      "Epoch 86/200\n",
      "352/352 [==============================] - 0s - loss: 0.2289 - acc: 0.9148     \n",
      "Epoch 87/200\n",
      "352/352 [==============================] - 0s - loss: 0.2286 - acc: 0.9148     \n",
      "Epoch 88/200\n"
     ]
    },
    {
     "name": "stdout",
     "output_type": "stream",
     "text": [
      "352/352 [==============================] - 0s - loss: 0.2284 - acc: 0.9176     \n",
      "Epoch 89/200\n",
      "352/352 [==============================] - 0s - loss: 0.2280 - acc: 0.9119     \n",
      "Epoch 90/200\n",
      "352/352 [==============================] - 0s - loss: 0.2279 - acc: 0.9148     \n",
      "Epoch 91/200\n",
      "352/352 [==============================] - 0s - loss: 0.2274 - acc: 0.9148     \n",
      "Epoch 92/200\n",
      "352/352 [==============================] - 0s - loss: 0.2269 - acc: 0.9119     \n",
      "Epoch 93/200\n",
      "352/352 [==============================] - 0s - loss: 0.2268 - acc: 0.9119     \n",
      "Epoch 94/200\n",
      "352/352 [==============================] - 0s - loss: 0.2264 - acc: 0.9176     \n",
      "Epoch 95/200\n",
      "352/352 [==============================] - 0s - loss: 0.2265 - acc: 0.9148     \n",
      "Epoch 96/200\n",
      "352/352 [==============================] - 0s - loss: 0.2260 - acc: 0.9119     \n",
      "Epoch 97/200\n",
      "352/352 [==============================] - 0s - loss: 0.2257 - acc: 0.9119     \n",
      "Epoch 98/200\n",
      "352/352 [==============================] - 0s - loss: 0.2252 - acc: 0.9119     \n",
      "Epoch 99/200\n",
      "352/352 [==============================] - 0s - loss: 0.2253 - acc: 0.9119     \n",
      "Epoch 100/200\n",
      "352/352 [==============================] - 0s - loss: 0.2255 - acc: 0.9176     \n",
      "Epoch 101/200\n",
      "352/352 [==============================] - 0s - loss: 0.2251 - acc: 0.9119     \n",
      "Epoch 102/200\n",
      "352/352 [==============================] - 0s - loss: 0.2245 - acc: 0.9176     \n",
      "Epoch 103/200\n",
      "352/352 [==============================] - 0s - loss: 0.2243 - acc: 0.9176     \n",
      "Epoch 104/200\n",
      "352/352 [==============================] - 0s - loss: 0.2239 - acc: 0.9148     \n",
      "Epoch 105/200\n",
      "352/352 [==============================] - 0s - loss: 0.2240 - acc: 0.9148     \n",
      "Epoch 106/200\n",
      "352/352 [==============================] - 0s - loss: 0.2236 - acc: 0.9176     \n",
      "Epoch 107/200\n",
      "352/352 [==============================] - 0s - loss: 0.2236 - acc: 0.9176     \n",
      "Epoch 108/200\n",
      "352/352 [==============================] - 0s - loss: 0.2234 - acc: 0.9176     \n",
      "Epoch 109/200\n",
      "352/352 [==============================] - 0s - loss: 0.2230 - acc: 0.9176     \n",
      "Epoch 110/200\n",
      "352/352 [==============================] - ETA: 0s - loss: 0.0431 - acc: 1.000 - 0s - loss: 0.2231 - acc: 0.9148     \n",
      "Epoch 111/200\n",
      "352/352 [==============================] - 0s - loss: 0.2228 - acc: 0.9148     \n",
      "Epoch 112/200\n",
      "352/352 [==============================] - 0s - loss: 0.2228 - acc: 0.9176     \n",
      "Epoch 113/200\n",
      "352/352 [==============================] - 0s - loss: 0.2226 - acc: 0.9148     \n",
      "Epoch 114/200\n",
      "352/352 [==============================] - 0s - loss: 0.2227 - acc: 0.9148     \n",
      "Epoch 115/200\n",
      "352/352 [==============================] - 0s - loss: 0.2219 - acc: 0.9148     \n",
      "Epoch 116/200\n",
      "352/352 [==============================] - 0s - loss: 0.2223 - acc: 0.9176     \n",
      "Epoch 117/200\n",
      "352/352 [==============================] - 0s - loss: 0.2222 - acc: 0.9148     \n",
      "Epoch 118/200\n",
      "352/352 [==============================] - 0s - loss: 0.2220 - acc: 0.9119     \n",
      "Epoch 119/200\n",
      "352/352 [==============================] - 0s - loss: 0.2220 - acc: 0.9119     \n",
      "Epoch 120/200\n",
      "352/352 [==============================] - 0s - loss: 0.2215 - acc: 0.9176     \n",
      "Epoch 121/200\n",
      "352/352 [==============================] - 0s - loss: 0.2215 - acc: 0.9148     \n",
      "Epoch 122/200\n",
      "352/352 [==============================] - 0s - loss: 0.2211 - acc: 0.9148     \n",
      "Epoch 123/200\n",
      "352/352 [==============================] - 0s - loss: 0.2212 - acc: 0.9148     \n",
      "Epoch 124/200\n",
      "352/352 [==============================] - 0s - loss: 0.2209 - acc: 0.9176     \n",
      "Epoch 125/200\n",
      "352/352 [==============================] - 0s - loss: 0.2209 - acc: 0.9148     \n",
      "Epoch 126/200\n",
      "352/352 [==============================] - 0s - loss: 0.2208 - acc: 0.9148     \n",
      "Epoch 127/200\n",
      "352/352 [==============================] - 0s - loss: 0.2205 - acc: 0.9148     \n",
      "Epoch 128/200\n",
      "352/352 [==============================] - 0s - loss: 0.2205 - acc: 0.9148     \n",
      "Epoch 129/200\n",
      "352/352 [==============================] - 0s - loss: 0.2206 - acc: 0.9176     \n",
      "Epoch 130/200\n",
      "352/352 [==============================] - 0s - loss: 0.2208 - acc: 0.9148     \n",
      "Epoch 131/200\n",
      "352/352 [==============================] - 0s - loss: 0.2205 - acc: 0.9148     \n",
      "Epoch 132/200\n",
      "352/352 [==============================] - 0s - loss: 0.2202 - acc: 0.9148     \n",
      "Epoch 133/200\n",
      "352/352 [==============================] - 0s - loss: 0.2201 - acc: 0.9119     \n",
      "Epoch 134/200\n",
      "352/352 [==============================] - 0s - loss: 0.2203 - acc: 0.9119     \n",
      "Epoch 135/200\n",
      "352/352 [==============================] - 0s - loss: 0.2198 - acc: 0.9176     \n",
      "Epoch 136/200\n",
      "352/352 [==============================] - 0s - loss: 0.2197 - acc: 0.9119     \n",
      "Epoch 137/200\n",
      "352/352 [==============================] - 0s - loss: 0.2197 - acc: 0.9119     \n",
      "Epoch 138/200\n",
      "352/352 [==============================] - 0s - loss: 0.2198 - acc: 0.9148     \n",
      "Epoch 139/200\n",
      "352/352 [==============================] - 0s - loss: 0.2198 - acc: 0.9119     \n",
      "Epoch 140/200\n",
      "352/352 [==============================] - 0s - loss: 0.2194 - acc: 0.9119     \n",
      "Epoch 141/200\n",
      "352/352 [==============================] - 0s - loss: 0.2197 - acc: 0.9148     \n",
      "Epoch 142/200\n",
      "352/352 [==============================] - 0s - loss: 0.2195 - acc: 0.9119     \n",
      "Epoch 143/200\n",
      "352/352 [==============================] - 0s - loss: 0.2194 - acc: 0.9091     \n",
      "Epoch 144/200\n",
      "352/352 [==============================] - 0s - loss: 0.2196 - acc: 0.9148     \n",
      "Epoch 145/200\n",
      "352/352 [==============================] - 0s - loss: 0.2191 - acc: 0.9119     \n",
      "Epoch 146/200\n",
      "352/352 [==============================] - 0s - loss: 0.2189 - acc: 0.9148     \n",
      "Epoch 147/200\n",
      "352/352 [==============================] - 0s - loss: 0.2190 - acc: 0.9148     \n",
      "Epoch 148/200\n",
      "352/352 [==============================] - 0s - loss: 0.2191 - acc: 0.9205     \n",
      "Epoch 149/200\n",
      "352/352 [==============================] - 0s - loss: 0.2196 - acc: 0.9091     \n",
      "Epoch 150/200\n",
      "352/352 [==============================] - 0s - loss: 0.2188 - acc: 0.9148     \n",
      "Epoch 151/200\n",
      "352/352 [==============================] - 0s - loss: 0.2188 - acc: 0.9091     \n",
      "Epoch 152/200\n",
      "352/352 [==============================] - 0s - loss: 0.2185 - acc: 0.9148     \n",
      "Epoch 153/200\n",
      "352/352 [==============================] - 0s - loss: 0.2189 - acc: 0.9119     \n",
      "Epoch 154/200\n",
      "352/352 [==============================] - 0s - loss: 0.2188 - acc: 0.9119     \n",
      "Epoch 155/200\n",
      "352/352 [==============================] - 0s - loss: 0.2186 - acc: 0.9148     \n",
      "Epoch 156/200\n",
      "352/352 [==============================] - 0s - loss: 0.2183 - acc: 0.9119     \n",
      "Epoch 157/200\n",
      "352/352 [==============================] - 0s - loss: 0.2184 - acc: 0.9091     \n",
      "Epoch 158/200\n",
      "352/352 [==============================] - 0s - loss: 0.2183 - acc: 0.9119     \n",
      "Epoch 159/200\n",
      "352/352 [==============================] - 0s - loss: 0.2183 - acc: 0.9119     \n",
      "Epoch 160/200\n",
      "352/352 [==============================] - 0s - loss: 0.2184 - acc: 0.9091     \n",
      "Epoch 161/200\n",
      "352/352 [==============================] - 0s - loss: 0.2182 - acc: 0.9119     \n",
      "Epoch 162/200\n",
      "352/352 [==============================] - 0s - loss: 0.2182 - acc: 0.9148     \n",
      "Epoch 163/200\n",
      "352/352 [==============================] - 0s - loss: 0.2182 - acc: 0.9091     \n",
      "Epoch 164/200\n",
      "352/352 [==============================] - 0s - loss: 0.2180 - acc: 0.9119     \n",
      "Epoch 165/200\n",
      "352/352 [==============================] - 0s - loss: 0.2181 - acc: 0.9148     \n",
      "Epoch 166/200\n",
      "352/352 [==============================] - 0s - loss: 0.2185 - acc: 0.9119     \n",
      "Epoch 167/200\n",
      "352/352 [==============================] - 0s - loss: 0.2182 - acc: 0.9119     \n",
      "Epoch 168/200\n",
      "352/352 [==============================] - 0s - loss: 0.2182 - acc: 0.9119     \n",
      "Epoch 169/200\n",
      "352/352 [==============================] - 0s - loss: 0.2183 - acc: 0.9119     \n",
      "Epoch 170/200\n",
      "352/352 [==============================] - 0s - loss: 0.2178 - acc: 0.9119     \n",
      "Epoch 171/200\n",
      "352/352 [==============================] - 0s - loss: 0.2182 - acc: 0.9119     \n",
      "Epoch 172/200\n",
      "352/352 [==============================] - 0s - loss: 0.2176 - acc: 0.9148     \n",
      "Epoch 173/200\n",
      "352/352 [==============================] - 0s - loss: 0.2177 - acc: 0.9119     \n",
      "Epoch 174/200\n",
      "352/352 [==============================] - 0s - loss: 0.2177 - acc: 0.9148     \n",
      "Epoch 175/200\n"
     ]
    },
    {
     "name": "stdout",
     "output_type": "stream",
     "text": [
      "352/352 [==============================] - 0s - loss: 0.2178 - acc: 0.9119     \n",
      "Epoch 176/200\n",
      "352/352 [==============================] - 0s - loss: 0.2179 - acc: 0.9091     \n",
      "Epoch 177/200\n",
      "352/352 [==============================] - 0s - loss: 0.2178 - acc: 0.9148     \n",
      "Epoch 178/200\n",
      "352/352 [==============================] - 0s - loss: 0.2177 - acc: 0.9119     \n",
      "Epoch 179/200\n",
      "352/352 [==============================] - 0s - loss: 0.2176 - acc: 0.9119     \n",
      "Epoch 180/200\n",
      "352/352 [==============================] - 0s - loss: 0.2176 - acc: 0.9119     \n",
      "Epoch 181/200\n",
      "352/352 [==============================] - 0s - loss: 0.2179 - acc: 0.9119     \n",
      "Epoch 182/200\n",
      "352/352 [==============================] - 0s - loss: 0.2178 - acc: 0.9148     \n",
      "Epoch 183/200\n",
      "352/352 [==============================] - 0s - loss: 0.2175 - acc: 0.9119     \n",
      "Epoch 184/200\n",
      "352/352 [==============================] - 0s - loss: 0.2174 - acc: 0.9119     \n",
      "Epoch 185/200\n",
      "352/352 [==============================] - 0s - loss: 0.2172 - acc: 0.9119     \n",
      "Epoch 186/200\n",
      "352/352 [==============================] - 0s - loss: 0.2174 - acc: 0.9119     \n",
      "Epoch 187/200\n",
      "352/352 [==============================] - 0s - loss: 0.2181 - acc: 0.9119     \n",
      "Epoch 188/200\n",
      "352/352 [==============================] - 0s - loss: 0.2176 - acc: 0.9148     \n",
      "Epoch 189/200\n",
      "352/352 [==============================] - 0s - loss: 0.2174 - acc: 0.9148     \n",
      "Epoch 190/200\n",
      "352/352 [==============================] - 0s - loss: 0.2174 - acc: 0.9176     \n",
      "Epoch 191/200\n",
      "352/352 [==============================] - 0s - loss: 0.2172 - acc: 0.9148     \n",
      "Epoch 192/200\n",
      "352/352 [==============================] - 0s - loss: 0.2172 - acc: 0.9119     \n",
      "Epoch 193/200\n",
      "352/352 [==============================] - 0s - loss: 0.2173 - acc: 0.9119     \n",
      "Epoch 194/200\n",
      "352/352 [==============================] - 0s - loss: 0.2173 - acc: 0.9148     \n",
      "Epoch 195/200\n",
      "352/352 [==============================] - 0s - loss: 0.2172 - acc: 0.9091     \n",
      "Epoch 196/200\n",
      "352/352 [==============================] - 0s - loss: 0.2172 - acc: 0.9119     \n",
      "Epoch 197/200\n",
      "352/352 [==============================] - 0s - loss: 0.2171 - acc: 0.9091     \n",
      "Epoch 198/200\n",
      "352/352 [==============================] - 0s - loss: 0.2170 - acc: 0.9091     \n",
      "Epoch 199/200\n",
      "352/352 [==============================] - 0s - loss: 0.2172 - acc: 0.9119     \n",
      "Epoch 200/200\n",
      "352/352 [==============================] - 0s - loss: 0.2169 - acc: 0.9091     \n"
     ]
    },
    {
     "data": {
      "text/plain": [
       "<keras.callbacks.History at 0xb76ea5c390>"
      ]
     },
     "execution_count": 25,
     "metadata": {},
     "output_type": "execute_result"
    }
   ],
   "source": [
    "clf_ann = Sequential()\n",
    "\n",
    "# First Hidden Layer\n",
    "clf_ann.add(Dense(output_dim = 3, init = 'uniform', activation = 'relu', input_dim = 6))\n",
    "\n",
    "# Output Layer\n",
    "clf_ann.add(Dense(output_dim = 1, init = 'uniform', activation = 'sigmoid'))\n",
    "\n",
    "# Compile the ANN\n",
    "clf_ann.compile(optimizer = 'adam', loss = 'binary_crossentropy', metrics = ['accuracy'])\n",
    "\n",
    "# Train the ANN on the Train Data\n",
    "clf_ann.fit(X_train, Y_train, batch_size = 5, nb_epoch = 200)"
   ]
  },
  {
   "cell_type": "code",
   "execution_count": 26,
   "metadata": {
    "collapsed": true
   },
   "outputs": [],
   "source": [
    "# Test the ANN on the Test Data\n",
    "Y_pred = clf_ann.predict(X_test)\n",
    "Y_pred = (Y_pred > 0.5)"
   ]
  },
  {
   "cell_type": "markdown",
   "metadata": {},
   "source": [
    "## Check the Accuracy"
   ]
  },
  {
   "cell_type": "code",
   "execution_count": 27,
   "metadata": {
    "collapsed": true
   },
   "outputs": [],
   "source": [
    "from sklearn.metrics import accuracy_score, confusion_matrix"
   ]
  },
  {
   "cell_type": "code",
   "execution_count": 28,
   "metadata": {},
   "outputs": [
    {
     "data": {
      "text/plain": [
       "0.88636363636363635"
      ]
     },
     "execution_count": 28,
     "metadata": {},
     "output_type": "execute_result"
    }
   ],
   "source": [
    "accuracy_score(Y_test, Y_pred)"
   ]
  },
  {
   "cell_type": "code",
   "execution_count": 29,
   "metadata": {},
   "outputs": [
    {
     "data": {
      "text/plain": [
       "array([[56,  2],\n",
       "       [ 8, 22]], dtype=int64)"
      ]
     },
     "execution_count": 29,
     "metadata": {},
     "output_type": "execute_result"
    }
   ],
   "source": [
    "confusion_matrix(Y_test, Y_pred)"
   ]
  },
  {
   "cell_type": "code",
   "execution_count": null,
   "metadata": {
    "collapsed": true
   },
   "outputs": [],
   "source": []
  }
 ],
 "metadata": {
  "kernelspec": {
   "display_name": "Python [default]",
   "language": "python",
   "name": "python3"
  },
  "language_info": {
   "codemirror_mode": {
    "name": "ipython",
    "version": 3
   },
   "file_extension": ".py",
   "mimetype": "text/x-python",
   "name": "python",
   "nbconvert_exporter": "python",
   "pygments_lexer": "ipython3",
   "version": "3.5.4"
  }
 },
 "nbformat": 4,
 "nbformat_minor": 2
}
