{
 "cells": [
  {
   "cell_type": "markdown",
   "metadata": {},
   "source": [
    "## Initialization"
   ]
  },
  {
   "cell_type": "code",
   "execution_count": 1,
   "metadata": {},
   "outputs": [
    {
     "name": "stderr",
     "output_type": "stream",
     "text": [
      "Using Theano backend.\n"
     ]
    }
   ],
   "source": [
    "import pandas as pd\n",
    "import numpy as np\n",
    "import keras"
   ]
  },
  {
   "cell_type": "markdown",
   "metadata": {},
   "source": [
    "## Importing the Data"
   ]
  },
  {
   "cell_type": "code",
   "execution_count": 2,
   "metadata": {},
   "outputs": [
    {
     "data": {
      "text/plain": [
       "(4521, 17)"
      ]
     },
     "execution_count": 2,
     "metadata": {},
     "output_type": "execute_result"
    }
   ],
   "source": [
    "dataset = pd.read_csv('bank.csv', delimiter=';', quoting=3)\n",
    "dataset.shape"
   ]
  },
  {
   "cell_type": "code",
   "execution_count": 3,
   "metadata": {},
   "outputs": [
    {
     "data": {
      "text/html": [
       "<div>\n",
       "<style>\n",
       "    .dataframe thead tr:only-child th {\n",
       "        text-align: right;\n",
       "    }\n",
       "\n",
       "    .dataframe thead th {\n",
       "        text-align: left;\n",
       "    }\n",
       "\n",
       "    .dataframe tbody tr th {\n",
       "        vertical-align: top;\n",
       "    }\n",
       "</style>\n",
       "<table border=\"1\" class=\"dataframe\">\n",
       "  <thead>\n",
       "    <tr style=\"text-align: right;\">\n",
       "      <th></th>\n",
       "      <th>\"age\"\"</th>\n",
       "      <th>\"\"job\"\"</th>\n",
       "      <th>\"\"marital\"\"</th>\n",
       "      <th>\"\"education\"\"</th>\n",
       "      <th>\"\"default\"\"</th>\n",
       "      <th>\"\"balance\"\"</th>\n",
       "      <th>\"\"housing\"\"</th>\n",
       "      <th>\"\"loan\"\"</th>\n",
       "      <th>\"\"contact\"\"</th>\n",
       "      <th>\"\"day\"\"</th>\n",
       "      <th>\"\"month\"\"</th>\n",
       "      <th>\"\"duration\"\"</th>\n",
       "      <th>\"\"campaign\"\"</th>\n",
       "      <th>\"\"pdays\"\"</th>\n",
       "      <th>\"\"previous\"\"</th>\n",
       "      <th>\"\"poutcome\"\"</th>\n",
       "      <th>\"\"y\"\"\"</th>\n",
       "    </tr>\n",
       "  </thead>\n",
       "  <tbody>\n",
       "    <tr>\n",
       "      <th>0</th>\n",
       "      <td>\"30</td>\n",
       "      <td>\"\"unemployed\"\"</td>\n",
       "      <td>\"\"married\"\"</td>\n",
       "      <td>\"\"primary\"\"</td>\n",
       "      <td>\"\"no\"\"</td>\n",
       "      <td>1787</td>\n",
       "      <td>\"\"no\"\"</td>\n",
       "      <td>\"\"no\"\"</td>\n",
       "      <td>\"\"cellular\"\"</td>\n",
       "      <td>19</td>\n",
       "      <td>\"\"oct\"\"</td>\n",
       "      <td>79</td>\n",
       "      <td>1</td>\n",
       "      <td>-1</td>\n",
       "      <td>0</td>\n",
       "      <td>\"\"unknown\"\"</td>\n",
       "      <td>\"\"no\"\"\"</td>\n",
       "    </tr>\n",
       "    <tr>\n",
       "      <th>1</th>\n",
       "      <td>\"33</td>\n",
       "      <td>\"\"services\"\"</td>\n",
       "      <td>\"\"married\"\"</td>\n",
       "      <td>\"\"secondary\"\"</td>\n",
       "      <td>\"\"no\"\"</td>\n",
       "      <td>4789</td>\n",
       "      <td>\"\"yes\"\"</td>\n",
       "      <td>\"\"yes\"\"</td>\n",
       "      <td>\"\"cellular\"\"</td>\n",
       "      <td>11</td>\n",
       "      <td>\"\"may\"\"</td>\n",
       "      <td>220</td>\n",
       "      <td>1</td>\n",
       "      <td>339</td>\n",
       "      <td>4</td>\n",
       "      <td>\"\"failure\"\"</td>\n",
       "      <td>\"\"no\"\"\"</td>\n",
       "    </tr>\n",
       "    <tr>\n",
       "      <th>2</th>\n",
       "      <td>\"35</td>\n",
       "      <td>\"\"management\"\"</td>\n",
       "      <td>\"\"single\"\"</td>\n",
       "      <td>\"\"tertiary\"\"</td>\n",
       "      <td>\"\"no\"\"</td>\n",
       "      <td>1350</td>\n",
       "      <td>\"\"yes\"\"</td>\n",
       "      <td>\"\"no\"\"</td>\n",
       "      <td>\"\"cellular\"\"</td>\n",
       "      <td>16</td>\n",
       "      <td>\"\"apr\"\"</td>\n",
       "      <td>185</td>\n",
       "      <td>1</td>\n",
       "      <td>330</td>\n",
       "      <td>1</td>\n",
       "      <td>\"\"failure\"\"</td>\n",
       "      <td>\"\"no\"\"\"</td>\n",
       "    </tr>\n",
       "    <tr>\n",
       "      <th>3</th>\n",
       "      <td>\"30</td>\n",
       "      <td>\"\"management\"\"</td>\n",
       "      <td>\"\"married\"\"</td>\n",
       "      <td>\"\"tertiary\"\"</td>\n",
       "      <td>\"\"no\"\"</td>\n",
       "      <td>1476</td>\n",
       "      <td>\"\"yes\"\"</td>\n",
       "      <td>\"\"yes\"\"</td>\n",
       "      <td>\"\"unknown\"\"</td>\n",
       "      <td>3</td>\n",
       "      <td>\"\"jun\"\"</td>\n",
       "      <td>199</td>\n",
       "      <td>4</td>\n",
       "      <td>-1</td>\n",
       "      <td>0</td>\n",
       "      <td>\"\"unknown\"\"</td>\n",
       "      <td>\"\"no\"\"\"</td>\n",
       "    </tr>\n",
       "    <tr>\n",
       "      <th>4</th>\n",
       "      <td>\"59</td>\n",
       "      <td>\"\"blue-collar\"\"</td>\n",
       "      <td>\"\"married\"\"</td>\n",
       "      <td>\"\"secondary\"\"</td>\n",
       "      <td>\"\"no\"\"</td>\n",
       "      <td>0</td>\n",
       "      <td>\"\"yes\"\"</td>\n",
       "      <td>\"\"no\"\"</td>\n",
       "      <td>\"\"unknown\"\"</td>\n",
       "      <td>5</td>\n",
       "      <td>\"\"may\"\"</td>\n",
       "      <td>226</td>\n",
       "      <td>1</td>\n",
       "      <td>-1</td>\n",
       "      <td>0</td>\n",
       "      <td>\"\"unknown\"\"</td>\n",
       "      <td>\"\"no\"\"\"</td>\n",
       "    </tr>\n",
       "  </tbody>\n",
       "</table>\n",
       "</div>"
      ],
      "text/plain": [
       "  \"age\"\"          \"\"job\"\"  \"\"marital\"\"  \"\"education\"\" \"\"default\"\"  \\\n",
       "0    \"30   \"\"unemployed\"\"  \"\"married\"\"    \"\"primary\"\"      \"\"no\"\"   \n",
       "1    \"33     \"\"services\"\"  \"\"married\"\"  \"\"secondary\"\"      \"\"no\"\"   \n",
       "2    \"35   \"\"management\"\"   \"\"single\"\"   \"\"tertiary\"\"      \"\"no\"\"   \n",
       "3    \"30   \"\"management\"\"  \"\"married\"\"   \"\"tertiary\"\"      \"\"no\"\"   \n",
       "4    \"59  \"\"blue-collar\"\"  \"\"married\"\"  \"\"secondary\"\"      \"\"no\"\"   \n",
       "\n",
       "   \"\"balance\"\" \"\"housing\"\" \"\"loan\"\"   \"\"contact\"\"  \"\"day\"\" \"\"month\"\"  \\\n",
       "0         1787      \"\"no\"\"   \"\"no\"\"  \"\"cellular\"\"       19   \"\"oct\"\"   \n",
       "1         4789     \"\"yes\"\"  \"\"yes\"\"  \"\"cellular\"\"       11   \"\"may\"\"   \n",
       "2         1350     \"\"yes\"\"   \"\"no\"\"  \"\"cellular\"\"       16   \"\"apr\"\"   \n",
       "3         1476     \"\"yes\"\"  \"\"yes\"\"   \"\"unknown\"\"        3   \"\"jun\"\"   \n",
       "4            0     \"\"yes\"\"   \"\"no\"\"   \"\"unknown\"\"        5   \"\"may\"\"   \n",
       "\n",
       "   \"\"duration\"\"  \"\"campaign\"\"  \"\"pdays\"\"  \"\"previous\"\" \"\"poutcome\"\"   \"\"y\"\"\"  \n",
       "0            79             1         -1             0  \"\"unknown\"\"  \"\"no\"\"\"  \n",
       "1           220             1        339             4  \"\"failure\"\"  \"\"no\"\"\"  \n",
       "2           185             1        330             1  \"\"failure\"\"  \"\"no\"\"\"  \n",
       "3           199             4         -1             0  \"\"unknown\"\"  \"\"no\"\"\"  \n",
       "4           226             1         -1             0  \"\"unknown\"\"  \"\"no\"\"\"  "
      ]
     },
     "execution_count": 3,
     "metadata": {},
     "output_type": "execute_result"
    }
   ],
   "source": [
    "dataset.head()"
   ]
  },
  {
   "cell_type": "code",
   "execution_count": 4,
   "metadata": {},
   "outputs": [
    {
     "data": {
      "text/html": [
       "<div>\n",
       "<style>\n",
       "    .dataframe thead tr:only-child th {\n",
       "        text-align: right;\n",
       "    }\n",
       "\n",
       "    .dataframe thead th {\n",
       "        text-align: left;\n",
       "    }\n",
       "\n",
       "    .dataframe tbody tr th {\n",
       "        vertical-align: top;\n",
       "    }\n",
       "</style>\n",
       "<table border=\"1\" class=\"dataframe\">\n",
       "  <thead>\n",
       "    <tr style=\"text-align: right;\">\n",
       "      <th></th>\n",
       "      <th>age</th>\n",
       "      <th>job</th>\n",
       "      <th>marital</th>\n",
       "      <th>education</th>\n",
       "      <th>default</th>\n",
       "      <th>balance</th>\n",
       "      <th>housing</th>\n",
       "      <th>loan</th>\n",
       "      <th>contact</th>\n",
       "      <th>day</th>\n",
       "      <th>month</th>\n",
       "      <th>duration</th>\n",
       "      <th>campaign</th>\n",
       "      <th>pdays</th>\n",
       "      <th>previous</th>\n",
       "      <th>poutcome</th>\n",
       "      <th>y</th>\n",
       "    </tr>\n",
       "  </thead>\n",
       "  <tbody>\n",
       "    <tr>\n",
       "      <th>0</th>\n",
       "      <td>\"30</td>\n",
       "      <td>\"\"unemployed\"\"</td>\n",
       "      <td>\"\"married\"\"</td>\n",
       "      <td>\"\"primary\"\"</td>\n",
       "      <td>\"\"no\"\"</td>\n",
       "      <td>1787</td>\n",
       "      <td>\"\"no\"\"</td>\n",
       "      <td>\"\"no\"\"</td>\n",
       "      <td>\"\"cellular\"\"</td>\n",
       "      <td>19</td>\n",
       "      <td>\"\"oct\"\"</td>\n",
       "      <td>79</td>\n",
       "      <td>1</td>\n",
       "      <td>-1</td>\n",
       "      <td>0</td>\n",
       "      <td>\"\"unknown\"\"</td>\n",
       "      <td>\"\"no\"\"\"</td>\n",
       "    </tr>\n",
       "    <tr>\n",
       "      <th>1</th>\n",
       "      <td>\"33</td>\n",
       "      <td>\"\"services\"\"</td>\n",
       "      <td>\"\"married\"\"</td>\n",
       "      <td>\"\"secondary\"\"</td>\n",
       "      <td>\"\"no\"\"</td>\n",
       "      <td>4789</td>\n",
       "      <td>\"\"yes\"\"</td>\n",
       "      <td>\"\"yes\"\"</td>\n",
       "      <td>\"\"cellular\"\"</td>\n",
       "      <td>11</td>\n",
       "      <td>\"\"may\"\"</td>\n",
       "      <td>220</td>\n",
       "      <td>1</td>\n",
       "      <td>339</td>\n",
       "      <td>4</td>\n",
       "      <td>\"\"failure\"\"</td>\n",
       "      <td>\"\"no\"\"\"</td>\n",
       "    </tr>\n",
       "    <tr>\n",
       "      <th>2</th>\n",
       "      <td>\"35</td>\n",
       "      <td>\"\"management\"\"</td>\n",
       "      <td>\"\"single\"\"</td>\n",
       "      <td>\"\"tertiary\"\"</td>\n",
       "      <td>\"\"no\"\"</td>\n",
       "      <td>1350</td>\n",
       "      <td>\"\"yes\"\"</td>\n",
       "      <td>\"\"no\"\"</td>\n",
       "      <td>\"\"cellular\"\"</td>\n",
       "      <td>16</td>\n",
       "      <td>\"\"apr\"\"</td>\n",
       "      <td>185</td>\n",
       "      <td>1</td>\n",
       "      <td>330</td>\n",
       "      <td>1</td>\n",
       "      <td>\"\"failure\"\"</td>\n",
       "      <td>\"\"no\"\"\"</td>\n",
       "    </tr>\n",
       "    <tr>\n",
       "      <th>3</th>\n",
       "      <td>\"30</td>\n",
       "      <td>\"\"management\"\"</td>\n",
       "      <td>\"\"married\"\"</td>\n",
       "      <td>\"\"tertiary\"\"</td>\n",
       "      <td>\"\"no\"\"</td>\n",
       "      <td>1476</td>\n",
       "      <td>\"\"yes\"\"</td>\n",
       "      <td>\"\"yes\"\"</td>\n",
       "      <td>\"\"unknown\"\"</td>\n",
       "      <td>3</td>\n",
       "      <td>\"\"jun\"\"</td>\n",
       "      <td>199</td>\n",
       "      <td>4</td>\n",
       "      <td>-1</td>\n",
       "      <td>0</td>\n",
       "      <td>\"\"unknown\"\"</td>\n",
       "      <td>\"\"no\"\"\"</td>\n",
       "    </tr>\n",
       "    <tr>\n",
       "      <th>4</th>\n",
       "      <td>\"59</td>\n",
       "      <td>\"\"blue-collar\"\"</td>\n",
       "      <td>\"\"married\"\"</td>\n",
       "      <td>\"\"secondary\"\"</td>\n",
       "      <td>\"\"no\"\"</td>\n",
       "      <td>0</td>\n",
       "      <td>\"\"yes\"\"</td>\n",
       "      <td>\"\"no\"\"</td>\n",
       "      <td>\"\"unknown\"\"</td>\n",
       "      <td>5</td>\n",
       "      <td>\"\"may\"\"</td>\n",
       "      <td>226</td>\n",
       "      <td>1</td>\n",
       "      <td>-1</td>\n",
       "      <td>0</td>\n",
       "      <td>\"\"unknown\"\"</td>\n",
       "      <td>\"\"no\"\"\"</td>\n",
       "    </tr>\n",
       "  </tbody>\n",
       "</table>\n",
       "</div>"
      ],
      "text/plain": [
       "   age              job      marital      education default  balance  housing  \\\n",
       "0  \"30   \"\"unemployed\"\"  \"\"married\"\"    \"\"primary\"\"  \"\"no\"\"     1787   \"\"no\"\"   \n",
       "1  \"33     \"\"services\"\"  \"\"married\"\"  \"\"secondary\"\"  \"\"no\"\"     4789  \"\"yes\"\"   \n",
       "2  \"35   \"\"management\"\"   \"\"single\"\"   \"\"tertiary\"\"  \"\"no\"\"     1350  \"\"yes\"\"   \n",
       "3  \"30   \"\"management\"\"  \"\"married\"\"   \"\"tertiary\"\"  \"\"no\"\"     1476  \"\"yes\"\"   \n",
       "4  \"59  \"\"blue-collar\"\"  \"\"married\"\"  \"\"secondary\"\"  \"\"no\"\"        0  \"\"yes\"\"   \n",
       "\n",
       "      loan       contact  day    month  duration  campaign  pdays  previous  \\\n",
       "0   \"\"no\"\"  \"\"cellular\"\"   19  \"\"oct\"\"        79         1     -1         0   \n",
       "1  \"\"yes\"\"  \"\"cellular\"\"   11  \"\"may\"\"       220         1    339         4   \n",
       "2   \"\"no\"\"  \"\"cellular\"\"   16  \"\"apr\"\"       185         1    330         1   \n",
       "3  \"\"yes\"\"   \"\"unknown\"\"    3  \"\"jun\"\"       199         4     -1         0   \n",
       "4   \"\"no\"\"   \"\"unknown\"\"    5  \"\"may\"\"       226         1     -1         0   \n",
       "\n",
       "      poutcome        y  \n",
       "0  \"\"unknown\"\"  \"\"no\"\"\"  \n",
       "1  \"\"failure\"\"  \"\"no\"\"\"  \n",
       "2  \"\"failure\"\"  \"\"no\"\"\"  \n",
       "3  \"\"unknown\"\"  \"\"no\"\"\"  \n",
       "4  \"\"unknown\"\"  \"\"no\"\"\"  "
      ]
     },
     "execution_count": 4,
     "metadata": {},
     "output_type": "execute_result"
    }
   ],
   "source": [
    "dataset = dataset.rename(columns = lambda x : x.replace('\"', ''))\n",
    "dataset.head()"
   ]
  },
  {
   "cell_type": "code",
   "execution_count": 5,
   "metadata": {
    "collapsed": true
   },
   "outputs": [],
   "source": [
    "columns = ['age', 'job', 'marital', 'education', 'default', 'housing', 'loan', 'contact', 'month', 'poutcome', 'y']\n",
    "\n",
    "for x in columns:\n",
    "    dataset[x] = dataset[x].apply(lambda x : x.replace('\"', ''))"
   ]
  },
  {
   "cell_type": "code",
   "execution_count": 6,
   "metadata": {},
   "outputs": [
    {
     "data": {
      "text/html": [
       "<div>\n",
       "<style>\n",
       "    .dataframe thead tr:only-child th {\n",
       "        text-align: right;\n",
       "    }\n",
       "\n",
       "    .dataframe thead th {\n",
       "        text-align: left;\n",
       "    }\n",
       "\n",
       "    .dataframe tbody tr th {\n",
       "        vertical-align: top;\n",
       "    }\n",
       "</style>\n",
       "<table border=\"1\" class=\"dataframe\">\n",
       "  <thead>\n",
       "    <tr style=\"text-align: right;\">\n",
       "      <th></th>\n",
       "      <th>age</th>\n",
       "      <th>job</th>\n",
       "      <th>marital</th>\n",
       "      <th>education</th>\n",
       "      <th>default</th>\n",
       "      <th>balance</th>\n",
       "      <th>housing</th>\n",
       "      <th>loan</th>\n",
       "      <th>contact</th>\n",
       "      <th>day</th>\n",
       "      <th>month</th>\n",
       "      <th>duration</th>\n",
       "      <th>campaign</th>\n",
       "      <th>pdays</th>\n",
       "      <th>previous</th>\n",
       "      <th>poutcome</th>\n",
       "      <th>y</th>\n",
       "    </tr>\n",
       "  </thead>\n",
       "  <tbody>\n",
       "    <tr>\n",
       "      <th>0</th>\n",
       "      <td>30</td>\n",
       "      <td>unemployed</td>\n",
       "      <td>married</td>\n",
       "      <td>primary</td>\n",
       "      <td>no</td>\n",
       "      <td>1787</td>\n",
       "      <td>no</td>\n",
       "      <td>no</td>\n",
       "      <td>cellular</td>\n",
       "      <td>19</td>\n",
       "      <td>oct</td>\n",
       "      <td>79</td>\n",
       "      <td>1</td>\n",
       "      <td>-1</td>\n",
       "      <td>0</td>\n",
       "      <td>unknown</td>\n",
       "      <td>no</td>\n",
       "    </tr>\n",
       "    <tr>\n",
       "      <th>1</th>\n",
       "      <td>33</td>\n",
       "      <td>services</td>\n",
       "      <td>married</td>\n",
       "      <td>secondary</td>\n",
       "      <td>no</td>\n",
       "      <td>4789</td>\n",
       "      <td>yes</td>\n",
       "      <td>yes</td>\n",
       "      <td>cellular</td>\n",
       "      <td>11</td>\n",
       "      <td>may</td>\n",
       "      <td>220</td>\n",
       "      <td>1</td>\n",
       "      <td>339</td>\n",
       "      <td>4</td>\n",
       "      <td>failure</td>\n",
       "      <td>no</td>\n",
       "    </tr>\n",
       "    <tr>\n",
       "      <th>2</th>\n",
       "      <td>35</td>\n",
       "      <td>management</td>\n",
       "      <td>single</td>\n",
       "      <td>tertiary</td>\n",
       "      <td>no</td>\n",
       "      <td>1350</td>\n",
       "      <td>yes</td>\n",
       "      <td>no</td>\n",
       "      <td>cellular</td>\n",
       "      <td>16</td>\n",
       "      <td>apr</td>\n",
       "      <td>185</td>\n",
       "      <td>1</td>\n",
       "      <td>330</td>\n",
       "      <td>1</td>\n",
       "      <td>failure</td>\n",
       "      <td>no</td>\n",
       "    </tr>\n",
       "    <tr>\n",
       "      <th>3</th>\n",
       "      <td>30</td>\n",
       "      <td>management</td>\n",
       "      <td>married</td>\n",
       "      <td>tertiary</td>\n",
       "      <td>no</td>\n",
       "      <td>1476</td>\n",
       "      <td>yes</td>\n",
       "      <td>yes</td>\n",
       "      <td>unknown</td>\n",
       "      <td>3</td>\n",
       "      <td>jun</td>\n",
       "      <td>199</td>\n",
       "      <td>4</td>\n",
       "      <td>-1</td>\n",
       "      <td>0</td>\n",
       "      <td>unknown</td>\n",
       "      <td>no</td>\n",
       "    </tr>\n",
       "    <tr>\n",
       "      <th>4</th>\n",
       "      <td>59</td>\n",
       "      <td>blue-collar</td>\n",
       "      <td>married</td>\n",
       "      <td>secondary</td>\n",
       "      <td>no</td>\n",
       "      <td>0</td>\n",
       "      <td>yes</td>\n",
       "      <td>no</td>\n",
       "      <td>unknown</td>\n",
       "      <td>5</td>\n",
       "      <td>may</td>\n",
       "      <td>226</td>\n",
       "      <td>1</td>\n",
       "      <td>-1</td>\n",
       "      <td>0</td>\n",
       "      <td>unknown</td>\n",
       "      <td>no</td>\n",
       "    </tr>\n",
       "  </tbody>\n",
       "</table>\n",
       "</div>"
      ],
      "text/plain": [
       "  age          job  marital  education default  balance housing loan  \\\n",
       "0  30   unemployed  married    primary      no     1787      no   no   \n",
       "1  33     services  married  secondary      no     4789     yes  yes   \n",
       "2  35   management   single   tertiary      no     1350     yes   no   \n",
       "3  30   management  married   tertiary      no     1476     yes  yes   \n",
       "4  59  blue-collar  married  secondary      no        0     yes   no   \n",
       "\n",
       "    contact  day month  duration  campaign  pdays  previous poutcome   y  \n",
       "0  cellular   19   oct        79         1     -1         0  unknown  no  \n",
       "1  cellular   11   may       220         1    339         4  failure  no  \n",
       "2  cellular   16   apr       185         1    330         1  failure  no  \n",
       "3   unknown    3   jun       199         4     -1         0  unknown  no  \n",
       "4   unknown    5   may       226         1     -1         0  unknown  no  "
      ]
     },
     "execution_count": 6,
     "metadata": {},
     "output_type": "execute_result"
    }
   ],
   "source": [
    "dataset.head()"
   ]
  },
  {
   "cell_type": "code",
   "execution_count": 7,
   "metadata": {
    "collapsed": true
   },
   "outputs": [],
   "source": [
    "dataset['age'] = pd.to_numeric(dataset['age'])"
   ]
  },
  {
   "cell_type": "markdown",
   "metadata": {},
   "source": [
    "## Create X and Y"
   ]
  },
  {
   "cell_type": "code",
   "execution_count": 8,
   "metadata": {
    "collapsed": true
   },
   "outputs": [],
   "source": [
    "X = dataset.iloc[:, 0:16].values\n",
    "Y = dataset.iloc[:, 16].values"
   ]
  },
  {
   "cell_type": "code",
   "execution_count": 9,
   "metadata": {},
   "outputs": [
    {
     "data": {
      "text/plain": [
       "(4521, 16)"
      ]
     },
     "execution_count": 9,
     "metadata": {},
     "output_type": "execute_result"
    }
   ],
   "source": [
    "X.shape"
   ]
  },
  {
   "cell_type": "code",
   "execution_count": 10,
   "metadata": {},
   "outputs": [
    {
     "data": {
      "text/plain": [
       "(4521,)"
      ]
     },
     "execution_count": 10,
     "metadata": {},
     "output_type": "execute_result"
    }
   ],
   "source": [
    "Y.shape"
   ]
  },
  {
   "cell_type": "code",
   "execution_count": 11,
   "metadata": {},
   "outputs": [
    {
     "data": {
      "text/plain": [
       "array([[30, 'unemployed', 'married', ..., -1, 0, 'unknown'],\n",
       "       [33, 'services', 'married', ..., 339, 4, 'failure'],\n",
       "       [35, 'management', 'single', ..., 330, 1, 'failure'],\n",
       "       ..., \n",
       "       [57, 'technician', 'married', ..., -1, 0, 'unknown'],\n",
       "       [28, 'blue-collar', 'married', ..., 211, 3, 'other'],\n",
       "       [44, 'entrepreneur', 'single', ..., 249, 7, 'other']], dtype=object)"
      ]
     },
     "execution_count": 11,
     "metadata": {},
     "output_type": "execute_result"
    }
   ],
   "source": [
    "X"
   ]
  },
  {
   "cell_type": "code",
   "execution_count": 12,
   "metadata": {},
   "outputs": [
    {
     "data": {
      "text/plain": [
       "array(['no', 'no', 'no', ..., 'no', 'no', 'no'], dtype=object)"
      ]
     },
     "execution_count": 12,
     "metadata": {},
     "output_type": "execute_result"
    }
   ],
   "source": [
    "Y"
   ]
  },
  {
   "cell_type": "markdown",
   "metadata": {},
   "source": [
    "## Preprocess the Data"
   ]
  },
  {
   "cell_type": "code",
   "execution_count": 13,
   "metadata": {
    "collapsed": true
   },
   "outputs": [],
   "source": [
    "from sklearn.preprocessing import LabelEncoder, OneHotEncoder, StandardScaler"
   ]
  },
  {
   "cell_type": "code",
   "execution_count": 14,
   "metadata": {
    "collapsed": true
   },
   "outputs": [],
   "source": [
    "le_Y = LabelEncoder()"
   ]
  },
  {
   "cell_type": "code",
   "execution_count": 15,
   "metadata": {},
   "outputs": [
    {
     "data": {
      "text/plain": [
       "array([0, 0, 0, ..., 0, 0, 0], dtype=int64)"
      ]
     },
     "execution_count": 15,
     "metadata": {},
     "output_type": "execute_result"
    }
   ],
   "source": [
    "Y = le_Y.fit_transform(Y)\n",
    "Y"
   ]
  },
  {
   "cell_type": "code",
   "execution_count": 16,
   "metadata": {
    "collapsed": true
   },
   "outputs": [],
   "source": [
    "cols_to_encode = [1, 2, 3, 4, 6, 7, 8, 10, 15]\n",
    "def encoder_X(index):\n",
    "    le_X = LabelEncoder()\n",
    "    X[:, index] = le_X.fit_transform(X[:, index])\n",
    "    return"
   ]
  },
  {
   "cell_type": "code",
   "execution_count": 17,
   "metadata": {
    "collapsed": true
   },
   "outputs": [],
   "source": [
    "for i in cols_to_encode:\n",
    "    encoder_X(i)"
   ]
  },
  {
   "cell_type": "code",
   "execution_count": 18,
   "metadata": {},
   "outputs": [
    {
     "data": {
      "text/plain": [
       "array([30, 10, 1, 0, 0, 1787, 0, 0, 0, 19, 10, 79, 1, -1, 0, 3], dtype=object)"
      ]
     },
     "execution_count": 18,
     "metadata": {},
     "output_type": "execute_result"
    }
   ],
   "source": [
    "X[0, :]"
   ]
  },
  {
   "cell_type": "code",
   "execution_count": 19,
   "metadata": {},
   "outputs": [
    {
     "data": {
      "text/plain": [
       "(4521, 18)"
      ]
     },
     "execution_count": 19,
     "metadata": {},
     "output_type": "execute_result"
    }
   ],
   "source": [
    "ohe_X = OneHotEncoder(categorical_features = [15])\n",
    "X = ohe_X.fit_transform(X).toarray()\n",
    "X = X[:, 1:]\n",
    "X.shape"
   ]
  },
  {
   "cell_type": "code",
   "execution_count": 20,
   "metadata": {
    "scrolled": true
   },
   "outputs": [
    {
     "data": {
      "text/html": [
       "<div>\n",
       "<style>\n",
       "    .dataframe thead tr:only-child th {\n",
       "        text-align: right;\n",
       "    }\n",
       "\n",
       "    .dataframe thead th {\n",
       "        text-align: left;\n",
       "    }\n",
       "\n",
       "    .dataframe tbody tr th {\n",
       "        vertical-align: top;\n",
       "    }\n",
       "</style>\n",
       "<table border=\"1\" class=\"dataframe\">\n",
       "  <thead>\n",
       "    <tr style=\"text-align: right;\">\n",
       "      <th></th>\n",
       "      <th>0</th>\n",
       "    </tr>\n",
       "  </thead>\n",
       "  <tbody>\n",
       "    <tr>\n",
       "      <th>8.0</th>\n",
       "      <td>1398</td>\n",
       "    </tr>\n",
       "    <tr>\n",
       "      <th>5.0</th>\n",
       "      <td>706</td>\n",
       "    </tr>\n",
       "    <tr>\n",
       "      <th>1.0</th>\n",
       "      <td>633</td>\n",
       "    </tr>\n",
       "    <tr>\n",
       "      <th>6.0</th>\n",
       "      <td>531</td>\n",
       "    </tr>\n",
       "    <tr>\n",
       "      <th>9.0</th>\n",
       "      <td>389</td>\n",
       "    </tr>\n",
       "    <tr>\n",
       "      <th>0.0</th>\n",
       "      <td>293</td>\n",
       "    </tr>\n",
       "    <tr>\n",
       "      <th>3.0</th>\n",
       "      <td>222</td>\n",
       "    </tr>\n",
       "    <tr>\n",
       "      <th>4.0</th>\n",
       "      <td>148</td>\n",
       "    </tr>\n",
       "    <tr>\n",
       "      <th>10.0</th>\n",
       "      <td>80</td>\n",
       "    </tr>\n",
       "    <tr>\n",
       "      <th>11.0</th>\n",
       "      <td>52</td>\n",
       "    </tr>\n",
       "    <tr>\n",
       "      <th>7.0</th>\n",
       "      <td>49</td>\n",
       "    </tr>\n",
       "    <tr>\n",
       "      <th>2.0</th>\n",
       "      <td>20</td>\n",
       "    </tr>\n",
       "  </tbody>\n",
       "</table>\n",
       "</div>"
      ],
      "text/plain": [
       "         0\n",
       "8.0   1398\n",
       "5.0    706\n",
       "1.0    633\n",
       "6.0    531\n",
       "9.0    389\n",
       "0.0    293\n",
       "3.0    222\n",
       "4.0    148\n",
       "10.0    80\n",
       "11.0    52\n",
       "7.0     49\n",
       "2.0     20"
      ]
     },
     "execution_count": 20,
     "metadata": {},
     "output_type": "execute_result"
    }
   ],
   "source": [
    "pd.DataFrame(pd.DataFrame(X[:, 13])[0].value_counts())"
   ]
  },
  {
   "cell_type": "code",
   "execution_count": 21,
   "metadata": {},
   "outputs": [
    {
     "data": {
      "text/plain": [
       "(4521, 28)"
      ]
     },
     "execution_count": 21,
     "metadata": {},
     "output_type": "execute_result"
    }
   ],
   "source": [
    "ohe_X = OneHotEncoder(categorical_features = [13])\n",
    "X = ohe_X.fit_transform(X).toarray()\n",
    "X = X[:, 1:]\n",
    "X.shape"
   ]
  },
  {
   "cell_type": "code",
   "execution_count": 22,
   "metadata": {},
   "outputs": [
    {
     "data": {
      "text/html": [
       "<div>\n",
       "<style>\n",
       "    .dataframe thead tr:only-child th {\n",
       "        text-align: right;\n",
       "    }\n",
       "\n",
       "    .dataframe thead th {\n",
       "        text-align: left;\n",
       "    }\n",
       "\n",
       "    .dataframe tbody tr th {\n",
       "        vertical-align: top;\n",
       "    }\n",
       "</style>\n",
       "<table border=\"1\" class=\"dataframe\">\n",
       "  <thead>\n",
       "    <tr style=\"text-align: right;\">\n",
       "      <th></th>\n",
       "      <th>0</th>\n",
       "    </tr>\n",
       "  </thead>\n",
       "  <tbody>\n",
       "    <tr>\n",
       "      <th>0.0</th>\n",
       "      <td>2896</td>\n",
       "    </tr>\n",
       "    <tr>\n",
       "      <th>2.0</th>\n",
       "      <td>1324</td>\n",
       "    </tr>\n",
       "    <tr>\n",
       "      <th>1.0</th>\n",
       "      <td>301</td>\n",
       "    </tr>\n",
       "  </tbody>\n",
       "</table>\n",
       "</div>"
      ],
      "text/plain": [
       "        0\n",
       "0.0  2896\n",
       "2.0  1324\n",
       "1.0   301"
      ]
     },
     "execution_count": 22,
     "metadata": {},
     "output_type": "execute_result"
    }
   ],
   "source": [
    "pd.DataFrame(pd.DataFrame(X[:, 22])[0].value_counts())"
   ]
  },
  {
   "cell_type": "code",
   "execution_count": 23,
   "metadata": {},
   "outputs": [
    {
     "data": {
      "text/plain": [
       "(4521, 29)"
      ]
     },
     "execution_count": 23,
     "metadata": {},
     "output_type": "execute_result"
    }
   ],
   "source": [
    "ohe_X = OneHotEncoder(categorical_features = [22])\n",
    "X = ohe_X.fit_transform(X).toarray()\n",
    "X = X[:, 1:]\n",
    "X.shape"
   ]
  },
  {
   "cell_type": "code",
   "execution_count": 24,
   "metadata": {},
   "outputs": [
    {
     "data": {
      "text/html": [
       "<div>\n",
       "<style>\n",
       "    .dataframe thead tr:only-child th {\n",
       "        text-align: right;\n",
       "    }\n",
       "\n",
       "    .dataframe thead th {\n",
       "        text-align: left;\n",
       "    }\n",
       "\n",
       "    .dataframe tbody tr th {\n",
       "        vertical-align: top;\n",
       "    }\n",
       "</style>\n",
       "<table border=\"1\" class=\"dataframe\">\n",
       "  <thead>\n",
       "    <tr style=\"text-align: right;\">\n",
       "      <th></th>\n",
       "      <th>0</th>\n",
       "    </tr>\n",
       "  </thead>\n",
       "  <tbody>\n",
       "    <tr>\n",
       "      <th>1.0</th>\n",
       "      <td>2306</td>\n",
       "    </tr>\n",
       "    <tr>\n",
       "      <th>2.0</th>\n",
       "      <td>1350</td>\n",
       "    </tr>\n",
       "    <tr>\n",
       "      <th>0.0</th>\n",
       "      <td>678</td>\n",
       "    </tr>\n",
       "    <tr>\n",
       "      <th>3.0</th>\n",
       "      <td>187</td>\n",
       "    </tr>\n",
       "  </tbody>\n",
       "</table>\n",
       "</div>"
      ],
      "text/plain": [
       "        0\n",
       "1.0  2306\n",
       "2.0  1350\n",
       "0.0   678\n",
       "3.0   187"
      ]
     },
     "execution_count": 24,
     "metadata": {},
     "output_type": "execute_result"
    }
   ],
   "source": [
    "pd.DataFrame(pd.DataFrame(X[:, 19])[0].value_counts())"
   ]
  },
  {
   "cell_type": "code",
   "execution_count": 25,
   "metadata": {},
   "outputs": [
    {
     "data": {
      "text/plain": [
       "(4521, 31)"
      ]
     },
     "execution_count": 25,
     "metadata": {},
     "output_type": "execute_result"
    }
   ],
   "source": [
    "ohe_X = OneHotEncoder(categorical_features = [19])\n",
    "X = ohe_X.fit_transform(X).toarray()\n",
    "X = X[:, 1:]\n",
    "X.shape"
   ]
  },
  {
   "cell_type": "code",
   "execution_count": 26,
   "metadata": {},
   "outputs": [
    {
     "data": {
      "text/html": [
       "<div>\n",
       "<style>\n",
       "    .dataframe thead tr:only-child th {\n",
       "        text-align: right;\n",
       "    }\n",
       "\n",
       "    .dataframe thead th {\n",
       "        text-align: left;\n",
       "    }\n",
       "\n",
       "    .dataframe tbody tr th {\n",
       "        vertical-align: top;\n",
       "    }\n",
       "</style>\n",
       "<table border=\"1\" class=\"dataframe\">\n",
       "  <thead>\n",
       "    <tr style=\"text-align: right;\">\n",
       "      <th></th>\n",
       "      <th>0</th>\n",
       "    </tr>\n",
       "  </thead>\n",
       "  <tbody>\n",
       "    <tr>\n",
       "      <th>1.0</th>\n",
       "      <td>2797</td>\n",
       "    </tr>\n",
       "    <tr>\n",
       "      <th>2.0</th>\n",
       "      <td>1196</td>\n",
       "    </tr>\n",
       "    <tr>\n",
       "      <th>0.0</th>\n",
       "      <td>528</td>\n",
       "    </tr>\n",
       "  </tbody>\n",
       "</table>\n",
       "</div>"
      ],
      "text/plain": [
       "        0\n",
       "1.0  2797\n",
       "2.0  1196\n",
       "0.0   528"
      ]
     },
     "execution_count": 26,
     "metadata": {},
     "output_type": "execute_result"
    }
   ],
   "source": [
    "pd.DataFrame(pd.DataFrame(X[:, 21])[0].value_counts())"
   ]
  },
  {
   "cell_type": "code",
   "execution_count": 27,
   "metadata": {},
   "outputs": [
    {
     "data": {
      "text/plain": [
       "(4521, 32)"
      ]
     },
     "execution_count": 27,
     "metadata": {},
     "output_type": "execute_result"
    }
   ],
   "source": [
    "ohe_X = OneHotEncoder(categorical_features = [21])\n",
    "X = ohe_X.fit_transform(X).toarray()\n",
    "X = X[:, 1:]\n",
    "X.shape"
   ]
  },
  {
   "cell_type": "code",
   "execution_count": 28,
   "metadata": {
    "scrolled": true
   },
   "outputs": [
    {
     "data": {
      "text/html": [
       "<div>\n",
       "<style>\n",
       "    .dataframe thead tr:only-child th {\n",
       "        text-align: right;\n",
       "    }\n",
       "\n",
       "    .dataframe thead th {\n",
       "        text-align: left;\n",
       "    }\n",
       "\n",
       "    .dataframe tbody tr th {\n",
       "        vertical-align: top;\n",
       "    }\n",
       "</style>\n",
       "<table border=\"1\" class=\"dataframe\">\n",
       "  <thead>\n",
       "    <tr style=\"text-align: right;\">\n",
       "      <th></th>\n",
       "      <th>0</th>\n",
       "    </tr>\n",
       "  </thead>\n",
       "  <tbody>\n",
       "    <tr>\n",
       "      <th>4.0</th>\n",
       "      <td>969</td>\n",
       "    </tr>\n",
       "    <tr>\n",
       "      <th>1.0</th>\n",
       "      <td>946</td>\n",
       "    </tr>\n",
       "    <tr>\n",
       "      <th>9.0</th>\n",
       "      <td>768</td>\n",
       "    </tr>\n",
       "    <tr>\n",
       "      <th>0.0</th>\n",
       "      <td>478</td>\n",
       "    </tr>\n",
       "    <tr>\n",
       "      <th>7.0</th>\n",
       "      <td>417</td>\n",
       "    </tr>\n",
       "    <tr>\n",
       "      <th>5.0</th>\n",
       "      <td>230</td>\n",
       "    </tr>\n",
       "    <tr>\n",
       "      <th>6.0</th>\n",
       "      <td>183</td>\n",
       "    </tr>\n",
       "    <tr>\n",
       "      <th>2.0</th>\n",
       "      <td>168</td>\n",
       "    </tr>\n",
       "    <tr>\n",
       "      <th>10.0</th>\n",
       "      <td>128</td>\n",
       "    </tr>\n",
       "    <tr>\n",
       "      <th>3.0</th>\n",
       "      <td>112</td>\n",
       "    </tr>\n",
       "    <tr>\n",
       "      <th>8.0</th>\n",
       "      <td>84</td>\n",
       "    </tr>\n",
       "    <tr>\n",
       "      <th>11.0</th>\n",
       "      <td>38</td>\n",
       "    </tr>\n",
       "  </tbody>\n",
       "</table>\n",
       "</div>"
      ],
      "text/plain": [
       "        0\n",
       "4.0   969\n",
       "1.0   946\n",
       "9.0   768\n",
       "0.0   478\n",
       "7.0   417\n",
       "5.0   230\n",
       "6.0   183\n",
       "2.0   168\n",
       "10.0  128\n",
       "3.0   112\n",
       "8.0    84\n",
       "11.0   38"
      ]
     },
     "execution_count": 28,
     "metadata": {},
     "output_type": "execute_result"
    }
   ],
   "source": [
    "pd.DataFrame(pd.DataFrame(X[:, 22])[0].value_counts())"
   ]
  },
  {
   "cell_type": "code",
   "execution_count": 29,
   "metadata": {},
   "outputs": [
    {
     "data": {
      "text/plain": [
       "(4521, 42)"
      ]
     },
     "execution_count": 29,
     "metadata": {},
     "output_type": "execute_result"
    }
   ],
   "source": [
    "ohe_X = OneHotEncoder(categorical_features = [22])\n",
    "X = ohe_X.fit_transform(X).toarray()\n",
    "X = X[:, 1:]\n",
    "X.shape"
   ]
  },
  {
   "cell_type": "code",
   "execution_count": 30,
   "metadata": {
    "collapsed": true
   },
   "outputs": [],
   "source": [
    "sc_X = StandardScaler()"
   ]
  },
  {
   "cell_type": "code",
   "execution_count": 31,
   "metadata": {
    "collapsed": true
   },
   "outputs": [],
   "source": [
    "X = sc_X.fit_transform(X)"
   ]
  },
  {
   "cell_type": "code",
   "execution_count": 32,
   "metadata": {},
   "outputs": [
    {
     "data": {
      "text/plain": [
       "array([[-0.5144078 , -0.19645374, -0.15938189, ..., -0.57682947,\n",
       "        -0.4072183 , -0.32041282],\n",
       "       [-0.5144078 , -0.19645374, -0.15938189, ..., -0.57682947,\n",
       "         2.98904408,  2.04173372],\n",
       "       [-0.5144078 , -0.19645374, -0.15938189, ..., -0.57682947,\n",
       "         2.89914302,  0.27012381],\n",
       "       ..., \n",
       "       [-0.5144078 , -0.19645374, -0.15938189, ...,  2.63916021,\n",
       "        -0.4072183 , -0.32041282],\n",
       "       [ 1.94398296, -0.19645374, -0.15938189, ...,  0.38796743,\n",
       "         1.71045119,  1.45119709],\n",
       "       [-0.5144078 ,  5.0902568 , -0.15938189, ..., -0.2552305 ,\n",
       "         2.09003345,  3.81334363]])"
      ]
     },
     "execution_count": 32,
     "metadata": {},
     "output_type": "execute_result"
    }
   ],
   "source": [
    "X"
   ]
  },
  {
   "cell_type": "markdown",
   "metadata": {},
   "source": [
    "## Create Train and Test Data"
   ]
  },
  {
   "cell_type": "code",
   "execution_count": 33,
   "metadata": {
    "collapsed": true
   },
   "outputs": [],
   "source": [
    "from sklearn.model_selection import train_test_split"
   ]
  },
  {
   "cell_type": "code",
   "execution_count": 34,
   "metadata": {
    "collapsed": true
   },
   "outputs": [],
   "source": [
    "X_train, X_test, Y_train, Y_test = train_test_split(X, Y, test_size = 0.2, random_state = 4)"
   ]
  },
  {
   "cell_type": "code",
   "execution_count": 35,
   "metadata": {},
   "outputs": [
    {
     "data": {
      "text/plain": [
       "(3616, 42)"
      ]
     },
     "execution_count": 35,
     "metadata": {},
     "output_type": "execute_result"
    }
   ],
   "source": [
    "X_train.shape"
   ]
  },
  {
   "cell_type": "code",
   "execution_count": 36,
   "metadata": {},
   "outputs": [
    {
     "data": {
      "text/plain": [
       "(905, 42)"
      ]
     },
     "execution_count": 36,
     "metadata": {},
     "output_type": "execute_result"
    }
   ],
   "source": [
    "X_test.shape"
   ]
  },
  {
   "cell_type": "code",
   "execution_count": 37,
   "metadata": {},
   "outputs": [
    {
     "data": {
      "text/plain": [
       "(3616,)"
      ]
     },
     "execution_count": 37,
     "metadata": {},
     "output_type": "execute_result"
    }
   ],
   "source": [
    "Y_train.shape"
   ]
  },
  {
   "cell_type": "code",
   "execution_count": 38,
   "metadata": {},
   "outputs": [
    {
     "data": {
      "text/plain": [
       "(905,)"
      ]
     },
     "execution_count": 38,
     "metadata": {},
     "output_type": "execute_result"
    }
   ],
   "source": [
    "Y_test.shape"
   ]
  },
  {
   "cell_type": "code",
   "execution_count": 39,
   "metadata": {},
   "outputs": [
    {
     "data": {
      "text/html": [
       "<div>\n",
       "<style>\n",
       "    .dataframe thead tr:only-child th {\n",
       "        text-align: right;\n",
       "    }\n",
       "\n",
       "    .dataframe thead th {\n",
       "        text-align: left;\n",
       "    }\n",
       "\n",
       "    .dataframe tbody tr th {\n",
       "        vertical-align: top;\n",
       "    }\n",
       "</style>\n",
       "<table border=\"1\" class=\"dataframe\">\n",
       "  <thead>\n",
       "    <tr style=\"text-align: right;\">\n",
       "      <th></th>\n",
       "      <th>0</th>\n",
       "    </tr>\n",
       "  </thead>\n",
       "  <tbody>\n",
       "    <tr>\n",
       "      <th>0</th>\n",
       "      <td>3194</td>\n",
       "    </tr>\n",
       "    <tr>\n",
       "      <th>1</th>\n",
       "      <td>422</td>\n",
       "    </tr>\n",
       "  </tbody>\n",
       "</table>\n",
       "</div>"
      ],
      "text/plain": [
       "      0\n",
       "0  3194\n",
       "1   422"
      ]
     },
     "execution_count": 39,
     "metadata": {},
     "output_type": "execute_result"
    }
   ],
   "source": [
    "pd.DataFrame(pd.DataFrame(Y_train)[0].value_counts())"
   ]
  },
  {
   "cell_type": "code",
   "execution_count": 40,
   "metadata": {},
   "outputs": [
    {
     "data": {
      "text/html": [
       "<div>\n",
       "<style>\n",
       "    .dataframe thead tr:only-child th {\n",
       "        text-align: right;\n",
       "    }\n",
       "\n",
       "    .dataframe thead th {\n",
       "        text-align: left;\n",
       "    }\n",
       "\n",
       "    .dataframe tbody tr th {\n",
       "        vertical-align: top;\n",
       "    }\n",
       "</style>\n",
       "<table border=\"1\" class=\"dataframe\">\n",
       "  <thead>\n",
       "    <tr style=\"text-align: right;\">\n",
       "      <th></th>\n",
       "      <th>0</th>\n",
       "    </tr>\n",
       "  </thead>\n",
       "  <tbody>\n",
       "    <tr>\n",
       "      <th>0</th>\n",
       "      <td>806</td>\n",
       "    </tr>\n",
       "    <tr>\n",
       "      <th>1</th>\n",
       "      <td>99</td>\n",
       "    </tr>\n",
       "  </tbody>\n",
       "</table>\n",
       "</div>"
      ],
      "text/plain": [
       "     0\n",
       "0  806\n",
       "1   99"
      ]
     },
     "execution_count": 40,
     "metadata": {},
     "output_type": "execute_result"
    }
   ],
   "source": [
    "pd.DataFrame(pd.DataFrame(Y_test)[0].value_counts())"
   ]
  },
  {
   "cell_type": "markdown",
   "metadata": {},
   "source": [
    "## Create and train the ANN Classifier"
   ]
  },
  {
   "cell_type": "code",
   "execution_count": 41,
   "metadata": {
    "collapsed": true
   },
   "outputs": [],
   "source": [
    "from keras.models import Sequential\n",
    "from keras.layers import Dense"
   ]
  },
  {
   "cell_type": "code",
   "execution_count": 42,
   "metadata": {},
   "outputs": [
    {
     "name": "stderr",
     "output_type": "stream",
     "text": [
      "C:\\Users\\user\\Anaconda3\\lib\\site-packages\\ipykernel\\__main__.py:4: UserWarning: Update your `Dense` call to the Keras 2 API: `Dense(activation=\"relu\", input_dim=42, kernel_initializer=\"uniform\", units=84)`\n",
      "C:\\Users\\user\\Anaconda3\\lib\\site-packages\\ipykernel\\__main__.py:7: UserWarning: Update your `Dense` call to the Keras 2 API: `Dense(kernel_initializer=\"uniform\", activation=\"relu\", units=84)`\n",
      "C:\\Users\\user\\Anaconda3\\lib\\site-packages\\ipykernel\\__main__.py:12: UserWarning: Update your `Dense` call to the Keras 2 API: `Dense(kernel_initializer=\"uniform\", activation=\"sigmoid\", units=1)`\n",
      "C:\\Users\\user\\Anaconda3\\lib\\site-packages\\keras\\models.py:844: UserWarning: The `nb_epoch` argument in `fit` has been renamed `epochs`.\n",
      "  warnings.warn('The `nb_epoch` argument in `fit` '\n"
     ]
    },
    {
     "name": "stdout",
     "output_type": "stream",
     "text": [
      "Epoch 1/100\n",
      "3616/3616 [==============================] - 0s - loss: 0.2999 - acc: 0.8827     \n",
      "Epoch 2/100\n",
      "3616/3616 [==============================] - 0s - loss: 0.2250 - acc: 0.9010     \n",
      "Epoch 3/100\n",
      "3616/3616 [==============================] - 0s - loss: 0.2131 - acc: 0.9076     \n",
      "Epoch 4/100\n",
      "3616/3616 [==============================] - 0s - loss: 0.2010 - acc: 0.9157     \n",
      "Epoch 5/100\n",
      "3616/3616 [==============================] - 0s - loss: 0.1933 - acc: 0.9231     - ETA: 0s - loss: 0.1886 - acc: 0.92\n",
      "Epoch 6/100\n",
      "3616/3616 [==============================] - 0s - loss: 0.1815 - acc: 0.9264     \n",
      "Epoch 7/100\n",
      "3616/3616 [==============================] - 0s - loss: 0.1729 - acc: 0.9314     \n",
      "Epoch 8/100\n",
      "3616/3616 [==============================] - 0s - loss: 0.1612 - acc: 0.9350     \n",
      "Epoch 9/100\n",
      "3616/3616 [==============================] - 0s - loss: 0.1517 - acc: 0.9389     \n",
      "Epoch 10/100\n",
      "3616/3616 [==============================] - 0s - loss: 0.1415 - acc: 0.9447     \n",
      "Epoch 11/100\n",
      "3616/3616 [==============================] - 0s - loss: 0.1343 - acc: 0.9475     \n",
      "Epoch 12/100\n",
      "3616/3616 [==============================] - 0s - loss: 0.1243 - acc: 0.9544     \n",
      "Epoch 13/100\n",
      "3616/3616 [==============================] - 0s - loss: 0.1125 - acc: 0.9563     \n",
      "Epoch 14/100\n",
      "3616/3616 [==============================] - 0s - loss: 0.1043 - acc: 0.9621     \n",
      "Epoch 15/100\n",
      "3616/3616 [==============================] - 0s - loss: 0.0950 - acc: 0.9660     \n",
      "Epoch 16/100\n",
      "3616/3616 [==============================] - 0s - loss: 0.0899 - acc: 0.9643     \n",
      "Epoch 17/100\n",
      "3616/3616 [==============================] - 0s - loss: 0.0834 - acc: 0.9696     \n",
      "Epoch 18/100\n",
      "3616/3616 [==============================] - 0s - loss: 0.0776 - acc: 0.9701     \n",
      "Epoch 19/100\n",
      "3616/3616 [==============================] - 0s - loss: 0.0743 - acc: 0.9723     \n",
      "Epoch 20/100\n",
      "3616/3616 [==============================] - 0s - loss: 0.0651 - acc: 0.9751     \n",
      "Epoch 21/100\n",
      "3616/3616 [==============================] - 0s - loss: 0.0641 - acc: 0.9768     \n",
      "Epoch 22/100\n",
      "3616/3616 [==============================] - 0s - loss: 0.0562 - acc: 0.9793     \n",
      "Epoch 23/100\n",
      "3616/3616 [==============================] - 0s - loss: 0.0534 - acc: 0.9793     \n",
      "Epoch 24/100\n",
      "3616/3616 [==============================] - 0s - loss: 0.0494 - acc: 0.9815     \n",
      "Epoch 25/100\n",
      "3616/3616 [==============================] - 0s - loss: 0.0573 - acc: 0.9776     \n",
      "Epoch 26/100\n",
      "3616/3616 [==============================] - 0s - loss: 0.0434 - acc: 0.9848     \n",
      "Epoch 27/100\n",
      "3616/3616 [==============================] - 0s - loss: 0.0339 - acc: 0.9878     \n",
      "Epoch 28/100\n",
      "3616/3616 [==============================] - 0s - loss: 0.0333 - acc: 0.9884     \n",
      "Epoch 29/100\n",
      "3616/3616 [==============================] - 0s - loss: 0.0393 - acc: 0.9851     \n",
      "Epoch 30/100\n",
      "3616/3616 [==============================] - 0s - loss: 0.0343 - acc: 0.9867     \n",
      "Epoch 31/100\n",
      "3616/3616 [==============================] - 0s - loss: 0.0430 - acc: 0.9823     \n",
      "Epoch 32/100\n",
      "3616/3616 [==============================] - 0s - loss: 0.0341 - acc: 0.9889     \n",
      "Epoch 33/100\n",
      "3616/3616 [==============================] - 0s - loss: 0.0293 - acc: 0.9889     \n",
      "Epoch 34/100\n",
      "3616/3616 [==============================] - 0s - loss: 0.0351 - acc: 0.9851     \n",
      "Epoch 35/100\n",
      "3616/3616 [==============================] - 0s - loss: 0.0427 - acc: 0.9842     \n",
      "Epoch 36/100\n",
      "3616/3616 [==============================] - 0s - loss: 0.0223 - acc: 0.9920     \n",
      "Epoch 37/100\n",
      "3616/3616 [==============================] - 0s - loss: 0.0159 - acc: 0.9947     \n",
      "Epoch 38/100\n",
      "3616/3616 [==============================] - 0s - loss: 0.0168 - acc: 0.9959     \n",
      "Epoch 39/100\n",
      "3616/3616 [==============================] - 0s - loss: 0.0152 - acc: 0.9950     \n",
      "Epoch 40/100\n",
      "3616/3616 [==============================] - 0s - loss: 0.0324 - acc: 0.9851     \n",
      "Epoch 41/100\n",
      "3616/3616 [==============================] - 0s - loss: 0.0366 - acc: 0.9864     \n",
      "Epoch 42/100\n",
      "3616/3616 [==============================] - 0s - loss: 0.0520 - acc: 0.9820     \n",
      "Epoch 43/100\n",
      "3616/3616 [==============================] - 0s - loss: 0.0240 - acc: 0.9909      - ETA: 0s - loss: 0.0252 - acc: 0.9\n",
      "Epoch 44/100\n",
      "3616/3616 [==============================] - 0s - loss: 0.0207 - acc: 0.9942     \n",
      "Epoch 45/100\n",
      "3616/3616 [==============================] - 0s - loss: 0.0236 - acc: 0.9917     \n",
      "Epoch 46/100\n",
      "3616/3616 [==============================] - 0s - loss: 0.0256 - acc: 0.9953     \n",
      "Epoch 47/100\n",
      "3616/3616 [==============================] - 0s - loss: 0.0233 - acc: 0.9914     \n",
      "Epoch 48/100\n",
      "3616/3616 [==============================] - 0s - loss: 0.0255 - acc: 0.9920     - ETA: 0s - loss: 0.0279 - acc: 0.9\n",
      "Epoch 49/100\n",
      "3616/3616 [==============================] - 0s - loss: 0.0121 - acc: 0.9950     - ETA: 0s - loss: 0.0119 - acc: 0.9\n",
      "Epoch 50/100\n",
      "3616/3616 [==============================] - 0s - loss: 0.0102 - acc: 0.9961     \n",
      "Epoch 51/100\n",
      "3616/3616 [==============================] - 0s - loss: 0.0168 - acc: 0.9947     \n",
      "Epoch 52/100\n",
      "3616/3616 [==============================] - 0s - loss: 0.0262 - acc: 0.9917     \n",
      "Epoch 53/100\n",
      "3616/3616 [==============================] - 0s - loss: 0.0136 - acc: 0.9953     \n",
      "Epoch 54/100\n",
      "3616/3616 [==============================] - 0s - loss: 0.0134 - acc: 0.9956     \n",
      "Epoch 55/100\n",
      "3616/3616 [==============================] - 0s - loss: 0.0088 - acc: 0.9978     - ETA: 0s - loss: 0.0083 - acc: 0.998\n",
      "Epoch 56/100\n",
      "3616/3616 [==============================] - 0s - loss: 0.0118 - acc: 0.9972     \n",
      "Epoch 57/100\n",
      "3616/3616 [==============================] - 0s - loss: 0.0156 - acc: 0.9947     \n",
      "Epoch 58/100\n",
      "3616/3616 [==============================] - 0s - loss: 0.0440 - acc: 0.9848     \n",
      "Epoch 59/100\n",
      "3616/3616 [==============================] - 0s - loss: 0.0241 - acc: 0.9923     \n",
      "Epoch 60/100\n",
      "3616/3616 [==============================] - 0s - loss: 0.0114 - acc: 0.9961     \n",
      "Epoch 61/100\n",
      "3616/3616 [==============================] - 0s - loss: 0.0130 - acc: 0.9981     \n",
      "Epoch 62/100\n",
      "3616/3616 [==============================] - 0s - loss: 0.0098 - acc: 0.9964     \n",
      "Epoch 63/100\n",
      "3616/3616 [==============================] - 0s - loss: 0.0089 - acc: 0.9967     \n",
      "Epoch 64/100\n",
      "3616/3616 [==============================] - 0s - loss: 0.0088 - acc: 0.9970     \n",
      "Epoch 65/100\n",
      "3616/3616 [==============================] - 0s - loss: 0.0150 - acc: 0.9961     \n",
      "Epoch 66/100\n",
      "3616/3616 [==============================] - 0s - loss: 0.0215 - acc: 0.9953     - ETA: 0s - loss: 0.0193 - acc: \n",
      "Epoch 67/100\n",
      "3616/3616 [==============================] - 0s - loss: 0.0266 - acc: 0.9909     \n",
      "Epoch 68/100\n",
      "3616/3616 [==============================] - 0s - loss: 0.0320 - acc: 0.9892     - ETA: 0s - loss: 0.0331 - acc: 0.98\n",
      "Epoch 69/100\n",
      "3616/3616 [==============================] - 0s - loss: 0.0245 - acc: 0.9923     - ETA: 0s - loss: 0.0225 - acc: 0\n",
      "Epoch 70/100\n",
      "3616/3616 [==============================] - 0s - loss: 0.0161 - acc: 0.9959     \n",
      "Epoch 71/100\n",
      "3616/3616 [==============================] - 0s - loss: 0.0135 - acc: 0.9959     \n",
      "Epoch 72/100\n",
      "3616/3616 [==============================] - 0s - loss: 0.0065 - acc: 0.9989     - ETA: 0s - loss: 0.0062 - acc: 0.99\n",
      "Epoch 73/100\n",
      "3616/3616 [==============================] - 0s - loss: 0.0046 - acc: 0.9992     - ETA: 0s - loss: 0.0045 - acc: 0.99\n",
      "Epoch 74/100\n",
      "3616/3616 [==============================] - 0s - loss: 0.0052 - acc: 0.9986     \n",
      "Epoch 75/100\n",
      "3616/3616 [==============================] - 0s - loss: 0.0099 - acc: 0.9978     \n",
      "Epoch 76/100\n",
      "3616/3616 [==============================] - 0s - loss: 0.0057 - acc: 0.9986     \n",
      "Epoch 77/100\n",
      "3616/3616 [==============================] - 0s - loss: 0.0173 - acc: 0.9959     \n",
      "Epoch 78/100\n",
      "3616/3616 [==============================] - 0s - loss: 0.0469 - acc: 0.9851     \n",
      "Epoch 79/100\n",
      "3616/3616 [==============================] - 0s - loss: 0.0316 - acc: 0.9881     \n",
      "Epoch 80/100\n",
      "3616/3616 [==============================] - 0s - loss: 0.0218 - acc: 0.9931     \n",
      "Epoch 81/100\n",
      "3616/3616 [==============================] - 0s - loss: 0.0057 - acc: 0.9986     \n",
      "Epoch 82/100\n",
      "3616/3616 [==============================] - 0s - loss: 0.0061 - acc: 0.9992     \n",
      "Epoch 83/100\n"
     ]
    },
    {
     "name": "stdout",
     "output_type": "stream",
     "text": [
      "3616/3616 [==============================] - 0s - loss: 0.0026 - acc: 0.9994     \n",
      "Epoch 84/100\n",
      "3616/3616 [==============================] - 0s - loss: 0.0025 - acc: 0.9997     - ETA: 0s - loss: 0.0019 - acc: 0.9\n",
      "Epoch 85/100\n",
      "3616/3616 [==============================] - 0s - loss: 0.0023 - acc: 0.9997     \n",
      "Epoch 86/100\n",
      "3616/3616 [==============================] - 0s - loss: 0.0052 - acc: 0.9986     \n",
      "Epoch 87/100\n",
      "3616/3616 [==============================] - 0s - loss: 0.0094 - acc: 0.9972     \n",
      "Epoch 88/100\n",
      "3616/3616 [==============================] - 0s - loss: 0.0298 - acc: 0.9895     \n",
      "Epoch 89/100\n",
      "3616/3616 [==============================] - 0s - loss: 0.0183 - acc: 0.9936     \n",
      "Epoch 90/100\n",
      "3616/3616 [==============================] - 0s - loss: 0.0232 - acc: 0.9950     \n",
      "Epoch 91/100\n",
      "3616/3616 [==============================] - 0s - loss: 0.0146 - acc: 0.9970     \n",
      "Epoch 92/100\n",
      "3616/3616 [==============================] - 0s - loss: 0.0084 - acc: 0.9986     \n",
      "Epoch 93/100\n",
      "3616/3616 [==============================] - 0s - loss: 0.0075 - acc: 0.9983     \n",
      "Epoch 94/100\n",
      "3616/3616 [==============================] - 0s - loss: 0.0021 - acc: 1.0000     \n",
      "Epoch 95/100\n",
      "3616/3616 [==============================] - 0s - loss: 0.0017 - acc: 1.0000     \n",
      "Epoch 96/100\n",
      "3616/3616 [==============================] - 0s - loss: 0.0015 - acc: 1.0000     \n",
      "Epoch 97/100\n",
      "3616/3616 [==============================] - 0s - loss: 0.0017 - acc: 0.9997     \n",
      "Epoch 98/100\n",
      "3616/3616 [==============================] - 0s - loss: 0.0022 - acc: 0.9997     \n",
      "Epoch 99/100\n",
      "3616/3616 [==============================] - 0s - loss: 0.0100 - acc: 0.9986     \n",
      "Epoch 100/100\n",
      "3616/3616 [==============================] - 0s - loss: 0.0270 - acc: 0.9909     \n"
     ]
    },
    {
     "data": {
      "text/plain": [
       "<keras.callbacks.History at 0x222f618c88>"
      ]
     },
     "execution_count": 42,
     "metadata": {},
     "output_type": "execute_result"
    }
   ],
   "source": [
    "clf_ann = Sequential()\n",
    "\n",
    "# First Hidden Layer\n",
    "clf_ann.add(Dense(output_dim = 84, init = 'uniform', activation = 'relu', input_dim = 42))\n",
    "\n",
    "# Second Hidden Layer\n",
    "clf_ann.add(Dense(output_dim = 84, init = 'uniform', activation = 'relu'))\n",
    "\n",
    "#clf_ann.add(Dense(output_dim = 21, init = 'uniform', activation = 'relu'))\n",
    "\n",
    "# Output Layer\n",
    "clf_ann.add(Dense(output_dim = 1, init = 'uniform', activation = 'sigmoid'))\n",
    "\n",
    "# Compile the ANN\n",
    "clf_ann.compile(optimizer = 'adam', loss = 'binary_crossentropy', metrics = ['accuracy'])\n",
    "\n",
    "# Train the ANN on the Train Data\n",
    "clf_ann.fit(X_train, Y_train, batch_size = 10, nb_epoch = 100)"
   ]
  },
  {
   "cell_type": "code",
   "execution_count": 43,
   "metadata": {
    "collapsed": true
   },
   "outputs": [],
   "source": [
    "# Test the ANN on the Test Data\n",
    "Y_pred = clf_ann.predict(X_test)\n",
    "Y_pred = (Y_pred > 0.5)"
   ]
  },
  {
   "cell_type": "markdown",
   "metadata": {},
   "source": [
    "## Check the Accuracy"
   ]
  },
  {
   "cell_type": "code",
   "execution_count": 44,
   "metadata": {
    "collapsed": true
   },
   "outputs": [],
   "source": [
    "from sklearn.metrics import accuracy_score, confusion_matrix"
   ]
  },
  {
   "cell_type": "code",
   "execution_count": 45,
   "metadata": {},
   "outputs": [
    {
     "data": {
      "text/plain": [
       "0.89281767955801106"
      ]
     },
     "execution_count": 45,
     "metadata": {},
     "output_type": "execute_result"
    }
   ],
   "source": [
    "accuracy_score(Y_test, Y_pred)"
   ]
  },
  {
   "cell_type": "code",
   "execution_count": 46,
   "metadata": {},
   "outputs": [
    {
     "data": {
      "text/plain": [
       "array([[753,  53],\n",
       "       [ 44,  55]], dtype=int64)"
      ]
     },
     "execution_count": 46,
     "metadata": {},
     "output_type": "execute_result"
    }
   ],
   "source": [
    "confusion_matrix(Y_test, Y_pred)"
   ]
  },
  {
   "cell_type": "code",
   "execution_count": null,
   "metadata": {
    "collapsed": true
   },
   "outputs": [],
   "source": []
  }
 ],
 "metadata": {
  "kernelspec": {
   "display_name": "Python [default]",
   "language": "python",
   "name": "python3"
  },
  "language_info": {
   "codemirror_mode": {
    "name": "ipython",
    "version": 3
   },
   "file_extension": ".py",
   "mimetype": "text/x-python",
   "name": "python",
   "nbconvert_exporter": "python",
   "pygments_lexer": "ipython3",
   "version": "3.5.4"
  }
 },
 "nbformat": 4,
 "nbformat_minor": 2
}
