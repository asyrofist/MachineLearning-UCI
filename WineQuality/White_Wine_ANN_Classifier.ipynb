{
 "cells": [
  {
   "cell_type": "markdown",
   "metadata": {},
   "source": [
    "## Initialization"
   ]
  },
  {
   "cell_type": "code",
   "execution_count": 1,
   "metadata": {},
   "outputs": [
    {
     "name": "stderr",
     "output_type": "stream",
     "text": [
      "Using Theano backend.\n"
     ]
    }
   ],
   "source": [
    "import pandas as pd\n",
    "import numpy as np\n",
    "import keras"
   ]
  },
  {
   "cell_type": "markdown",
   "metadata": {},
   "source": [
    "## Importing the Data"
   ]
  },
  {
   "cell_type": "code",
   "execution_count": 2,
   "metadata": {},
   "outputs": [
    {
     "data": {
      "text/plain": [
       "(4898, 12)"
      ]
     },
     "execution_count": 2,
     "metadata": {},
     "output_type": "execute_result"
    }
   ],
   "source": [
    "dataset = pd.read_csv(\"winequality-white.csv\")\n",
    "dataset.shape"
   ]
  },
  {
   "cell_type": "code",
   "execution_count": 3,
   "metadata": {},
   "outputs": [
    {
     "data": {
      "text/html": [
       "<div>\n",
       "<style>\n",
       "    .dataframe thead tr:only-child th {\n",
       "        text-align: right;\n",
       "    }\n",
       "\n",
       "    .dataframe thead th {\n",
       "        text-align: left;\n",
       "    }\n",
       "\n",
       "    .dataframe tbody tr th {\n",
       "        vertical-align: top;\n",
       "    }\n",
       "</style>\n",
       "<table border=\"1\" class=\"dataframe\">\n",
       "  <thead>\n",
       "    <tr style=\"text-align: right;\">\n",
       "      <th></th>\n",
       "      <th>fixed acidity</th>\n",
       "      <th>volatile acidity</th>\n",
       "      <th>citric acid</th>\n",
       "      <th>residual sugar</th>\n",
       "      <th>chlorides</th>\n",
       "      <th>free sulfur dioxide</th>\n",
       "      <th>total sulfur dioxide</th>\n",
       "      <th>density</th>\n",
       "      <th>pH</th>\n",
       "      <th>sulphates</th>\n",
       "      <th>alcohol</th>\n",
       "      <th>quality</th>\n",
       "    </tr>\n",
       "  </thead>\n",
       "  <tbody>\n",
       "    <tr>\n",
       "      <th>0</th>\n",
       "      <td>7.0</td>\n",
       "      <td>0.27</td>\n",
       "      <td>0.36</td>\n",
       "      <td>20.7</td>\n",
       "      <td>0.045</td>\n",
       "      <td>45.0</td>\n",
       "      <td>170.0</td>\n",
       "      <td>1.0010</td>\n",
       "      <td>3.00</td>\n",
       "      <td>0.45</td>\n",
       "      <td>8.8</td>\n",
       "      <td>6</td>\n",
       "    </tr>\n",
       "    <tr>\n",
       "      <th>1</th>\n",
       "      <td>6.3</td>\n",
       "      <td>0.30</td>\n",
       "      <td>0.34</td>\n",
       "      <td>1.6</td>\n",
       "      <td>0.049</td>\n",
       "      <td>14.0</td>\n",
       "      <td>132.0</td>\n",
       "      <td>0.9940</td>\n",
       "      <td>3.30</td>\n",
       "      <td>0.49</td>\n",
       "      <td>9.5</td>\n",
       "      <td>6</td>\n",
       "    </tr>\n",
       "    <tr>\n",
       "      <th>2</th>\n",
       "      <td>8.1</td>\n",
       "      <td>0.28</td>\n",
       "      <td>0.40</td>\n",
       "      <td>6.9</td>\n",
       "      <td>0.050</td>\n",
       "      <td>30.0</td>\n",
       "      <td>97.0</td>\n",
       "      <td>0.9951</td>\n",
       "      <td>3.26</td>\n",
       "      <td>0.44</td>\n",
       "      <td>10.1</td>\n",
       "      <td>6</td>\n",
       "    </tr>\n",
       "    <tr>\n",
       "      <th>3</th>\n",
       "      <td>7.2</td>\n",
       "      <td>0.23</td>\n",
       "      <td>0.32</td>\n",
       "      <td>8.5</td>\n",
       "      <td>0.058</td>\n",
       "      <td>47.0</td>\n",
       "      <td>186.0</td>\n",
       "      <td>0.9956</td>\n",
       "      <td>3.19</td>\n",
       "      <td>0.40</td>\n",
       "      <td>9.9</td>\n",
       "      <td>6</td>\n",
       "    </tr>\n",
       "    <tr>\n",
       "      <th>4</th>\n",
       "      <td>7.2</td>\n",
       "      <td>0.23</td>\n",
       "      <td>0.32</td>\n",
       "      <td>8.5</td>\n",
       "      <td>0.058</td>\n",
       "      <td>47.0</td>\n",
       "      <td>186.0</td>\n",
       "      <td>0.9956</td>\n",
       "      <td>3.19</td>\n",
       "      <td>0.40</td>\n",
       "      <td>9.9</td>\n",
       "      <td>6</td>\n",
       "    </tr>\n",
       "  </tbody>\n",
       "</table>\n",
       "</div>"
      ],
      "text/plain": [
       "   fixed acidity  volatile acidity  citric acid  residual sugar  chlorides  \\\n",
       "0            7.0              0.27         0.36            20.7      0.045   \n",
       "1            6.3              0.30         0.34             1.6      0.049   \n",
       "2            8.1              0.28         0.40             6.9      0.050   \n",
       "3            7.2              0.23         0.32             8.5      0.058   \n",
       "4            7.2              0.23         0.32             8.5      0.058   \n",
       "\n",
       "   free sulfur dioxide  total sulfur dioxide  density    pH  sulphates  \\\n",
       "0                 45.0                 170.0   1.0010  3.00       0.45   \n",
       "1                 14.0                 132.0   0.9940  3.30       0.49   \n",
       "2                 30.0                  97.0   0.9951  3.26       0.44   \n",
       "3                 47.0                 186.0   0.9956  3.19       0.40   \n",
       "4                 47.0                 186.0   0.9956  3.19       0.40   \n",
       "\n",
       "   alcohol  quality  \n",
       "0      8.8        6  \n",
       "1      9.5        6  \n",
       "2     10.1        6  \n",
       "3      9.9        6  \n",
       "4      9.9        6  "
      ]
     },
     "execution_count": 3,
     "metadata": {},
     "output_type": "execute_result"
    }
   ],
   "source": [
    "dataset.head()"
   ]
  },
  {
   "cell_type": "markdown",
   "metadata": {},
   "source": [
    "## Creating X and Y"
   ]
  },
  {
   "cell_type": "code",
   "execution_count": 4,
   "metadata": {
    "collapsed": true
   },
   "outputs": [],
   "source": [
    "X = dataset.iloc[:, 0:11].values\n",
    "Y = dataset.iloc[:, 11].values"
   ]
  },
  {
   "cell_type": "code",
   "execution_count": 5,
   "metadata": {},
   "outputs": [
    {
     "data": {
      "text/plain": [
       "array([[  7.  ,   0.27,   0.36, ...,   3.  ,   0.45,   8.8 ],\n",
       "       [  6.3 ,   0.3 ,   0.34, ...,   3.3 ,   0.49,   9.5 ],\n",
       "       [  8.1 ,   0.28,   0.4 , ...,   3.26,   0.44,  10.1 ],\n",
       "       ..., \n",
       "       [  6.5 ,   0.24,   0.19, ...,   2.99,   0.46,   9.4 ],\n",
       "       [  5.5 ,   0.29,   0.3 , ...,   3.34,   0.38,  12.8 ],\n",
       "       [  6.  ,   0.21,   0.38, ...,   3.26,   0.32,  11.8 ]])"
      ]
     },
     "execution_count": 5,
     "metadata": {},
     "output_type": "execute_result"
    }
   ],
   "source": [
    "X"
   ]
  },
  {
   "cell_type": "code",
   "execution_count": 6,
   "metadata": {},
   "outputs": [
    {
     "data": {
      "text/plain": [
       "array([6, 6, 6, ..., 6, 7, 6], dtype=int64)"
      ]
     },
     "execution_count": 6,
     "metadata": {},
     "output_type": "execute_result"
    }
   ],
   "source": [
    "Y"
   ]
  },
  {
   "cell_type": "markdown",
   "metadata": {},
   "source": [
    "## Preprocess the Data"
   ]
  },
  {
   "cell_type": "code",
   "execution_count": 7,
   "metadata": {
    "collapsed": true
   },
   "outputs": [],
   "source": [
    "from sklearn.preprocessing import LabelEncoder, OneHotEncoder, StandardScaler"
   ]
  },
  {
   "cell_type": "code",
   "execution_count": 8,
   "metadata": {
    "collapsed": true
   },
   "outputs": [],
   "source": [
    "le_Y = LabelEncoder()"
   ]
  },
  {
   "cell_type": "code",
   "execution_count": 9,
   "metadata": {},
   "outputs": [
    {
     "data": {
      "text/plain": [
       "array([3, 3, 3, ..., 3, 4, 3], dtype=int64)"
      ]
     },
     "execution_count": 9,
     "metadata": {},
     "output_type": "execute_result"
    }
   ],
   "source": [
    "Y = le_Y.fit_transform(Y)\n",
    "Y"
   ]
  },
  {
   "cell_type": "code",
   "execution_count": 10,
   "metadata": {
    "collapsed": true
   },
   "outputs": [],
   "source": [
    "Y = Y.reshape(len(Y), 1)\n",
    "ohe_Y = OneHotEncoder(categorical_features = [0])"
   ]
  },
  {
   "cell_type": "code",
   "execution_count": 11,
   "metadata": {},
   "outputs": [
    {
     "data": {
      "text/plain": [
       "array([[ 0.,  0.,  0., ...,  0.,  0.,  0.],\n",
       "       [ 0.,  0.,  0., ...,  0.,  0.,  0.],\n",
       "       [ 0.,  0.,  0., ...,  0.,  0.,  0.],\n",
       "       ..., \n",
       "       [ 0.,  0.,  0., ...,  0.,  0.,  0.],\n",
       "       [ 0.,  0.,  0., ...,  1.,  0.,  0.],\n",
       "       [ 0.,  0.,  0., ...,  0.,  0.,  0.]])"
      ]
     },
     "execution_count": 11,
     "metadata": {},
     "output_type": "execute_result"
    }
   ],
   "source": [
    "Y = ohe_Y.fit_transform(Y).toarray()\n",
    "Y"
   ]
  },
  {
   "cell_type": "code",
   "execution_count": 12,
   "metadata": {
    "collapsed": true
   },
   "outputs": [],
   "source": [
    "sc_X = StandardScaler()"
   ]
  },
  {
   "cell_type": "code",
   "execution_count": 13,
   "metadata": {},
   "outputs": [
    {
     "data": {
      "text/plain": [
       "array([[  1.72096961e-01,  -8.17699008e-02,   2.13280202e-01, ...,\n",
       "         -1.24692128e+00,  -3.49184257e-01,  -1.39315246e+00],\n",
       "       [ -6.57501128e-01,   2.15895632e-01,   4.80011213e-02, ...,\n",
       "          7.40028640e-01,   1.34184656e-03,  -8.24275678e-01],\n",
       "       [  1.47575110e+00,   1.74519434e-02,   5.43838363e-01, ...,\n",
       "          4.75101984e-01,  -4.36815783e-01,  -3.36667007e-01],\n",
       "       ..., \n",
       "       [ -4.20473102e-01,  -3.79435433e-01,  -1.19159198e+00, ...,\n",
       "         -1.31315295e+00,  -2.61552731e-01,  -9.05543789e-01],\n",
       "       [ -1.60561323e+00,   1.16673788e-01,  -2.82557040e-01, ...,\n",
       "          1.00495530e+00,  -9.62604939e-01,   1.85757201e+00],\n",
       "       [ -1.01304317e+00,  -6.77100966e-01,   3.78559282e-01, ...,\n",
       "          4.75101984e-01,  -1.48839409e+00,   1.04489089e+00]])"
      ]
     },
     "execution_count": 13,
     "metadata": {},
     "output_type": "execute_result"
    }
   ],
   "source": [
    "X = sc_X.fit_transform(X)\n",
    "X"
   ]
  },
  {
   "cell_type": "markdown",
   "metadata": {},
   "source": [
    "## Create Train and Test Data"
   ]
  },
  {
   "cell_type": "code",
   "execution_count": 14,
   "metadata": {
    "collapsed": true
   },
   "outputs": [],
   "source": [
    "from sklearn.model_selection import train_test_split\n",
    "X_train, X_test, Y_train, Y_test = train_test_split(X, Y, test_size = 0.2, random_state = 4)"
   ]
  },
  {
   "cell_type": "code",
   "execution_count": 15,
   "metadata": {},
   "outputs": [
    {
     "data": {
      "text/plain": [
       "(3918, 11)"
      ]
     },
     "execution_count": 15,
     "metadata": {},
     "output_type": "execute_result"
    }
   ],
   "source": [
    "X_train.shape"
   ]
  },
  {
   "cell_type": "code",
   "execution_count": 16,
   "metadata": {},
   "outputs": [
    {
     "data": {
      "text/plain": [
       "(980, 11)"
      ]
     },
     "execution_count": 16,
     "metadata": {},
     "output_type": "execute_result"
    }
   ],
   "source": [
    "X_test.shape"
   ]
  },
  {
   "cell_type": "code",
   "execution_count": 17,
   "metadata": {},
   "outputs": [
    {
     "data": {
      "text/plain": [
       "(3918, 7)"
      ]
     },
     "execution_count": 17,
     "metadata": {},
     "output_type": "execute_result"
    }
   ],
   "source": [
    "Y_train.shape"
   ]
  },
  {
   "cell_type": "code",
   "execution_count": 18,
   "metadata": {},
   "outputs": [
    {
     "data": {
      "text/plain": [
       "(980, 7)"
      ]
     },
     "execution_count": 18,
     "metadata": {},
     "output_type": "execute_result"
    }
   ],
   "source": [
    "Y_test.shape"
   ]
  },
  {
   "cell_type": "markdown",
   "metadata": {},
   "source": [
    "## Create and train the Classifier"
   ]
  },
  {
   "cell_type": "code",
   "execution_count": 19,
   "metadata": {
    "collapsed": true
   },
   "outputs": [],
   "source": [
    "from keras.models import Sequential\n",
    "from keras.layers import Dense"
   ]
  },
  {
   "cell_type": "code",
   "execution_count": 45,
   "metadata": {},
   "outputs": [
    {
     "name": "stderr",
     "output_type": "stream",
     "text": [
      "C:\\Users\\user\\Anaconda3\\lib\\site-packages\\ipykernel\\__main__.py:4: UserWarning: Update your `Dense` call to the Keras 2 API: `Dense(activation=\"relu\", units=36, input_dim=11, kernel_initializer=\"uniform\")`\n",
      "C:\\Users\\user\\Anaconda3\\lib\\site-packages\\ipykernel\\__main__.py:7: UserWarning: Update your `Dense` call to the Keras 2 API: `Dense(activation=\"relu\", kernel_initializer=\"uniform\", units=72)`\n",
      "C:\\Users\\user\\Anaconda3\\lib\\site-packages\\ipykernel\\__main__.py:9: UserWarning: Update your `Dense` call to the Keras 2 API: `Dense(activation=\"relu\", kernel_initializer=\"uniform\", units=108)`\n",
      "C:\\Users\\user\\Anaconda3\\lib\\site-packages\\ipykernel\\__main__.py:11: UserWarning: Update your `Dense` call to the Keras 2 API: `Dense(activation=\"relu\", kernel_initializer=\"uniform\", units=144)`\n",
      "C:\\Users\\user\\Anaconda3\\lib\\site-packages\\ipykernel\\__main__.py:13: UserWarning: Update your `Dense` call to the Keras 2 API: `Dense(activation=\"relu\", kernel_initializer=\"uniform\", units=216)`\n",
      "C:\\Users\\user\\Anaconda3\\lib\\site-packages\\ipykernel\\__main__.py:16: UserWarning: Update your `Dense` call to the Keras 2 API: `Dense(activation=\"softmax\", kernel_initializer=\"uniform\", units=7)`\n",
      "C:\\Users\\user\\Anaconda3\\lib\\site-packages\\keras\\models.py:844: UserWarning: The `nb_epoch` argument in `fit` has been renamed `epochs`.\n",
      "  warnings.warn('The `nb_epoch` argument in `fit` '\n"
     ]
    },
    {
     "name": "stdout",
     "output_type": "stream",
     "text": [
      "Epoch 1/100\n",
      "3918/3918 [==============================] - 0s - loss: 1.3306 - acc: 0.4403     \n",
      "Epoch 2/100\n",
      "3918/3918 [==============================] - 1s - loss: 1.2315 - acc: 0.4630     \n",
      "Epoch 3/100\n",
      "3918/3918 [==============================] - 1s - loss: 1.1134 - acc: 0.5235     \n",
      "Epoch 4/100\n",
      "3918/3918 [==============================] - 1s - loss: 1.0643 - acc: 0.5401     \n",
      "Epoch 5/100\n",
      "3918/3918 [==============================] - 2s - loss: 1.0499 - acc: 0.5536     \n",
      "Epoch 6/100\n",
      "3918/3918 [==============================] - 2s - loss: 1.0326 - acc: 0.5646     \n",
      "Epoch 7/100\n",
      "3918/3918 [==============================] - 2s - loss: 1.0259 - acc: 0.5569     \n",
      "Epoch 8/100\n",
      "3918/3918 [==============================] - 2s - loss: 1.0090 - acc: 0.5727     \n",
      "Epoch 9/100\n",
      "3918/3918 [==============================] - 2s - loss: 1.0026 - acc: 0.5664     \n",
      "Epoch 10/100\n",
      "3918/3918 [==============================] - 2s - loss: 0.9888 - acc: 0.5753     \n",
      "Epoch 11/100\n",
      "3918/3918 [==============================] - 2s - loss: 0.9838 - acc: 0.5745     \n",
      "Epoch 12/100\n",
      "3918/3918 [==============================] - 2s - loss: 0.9748 - acc: 0.5837     \n",
      "Epoch 13/100\n",
      "3918/3918 [==============================] - 2s - loss: 0.9675 - acc: 0.5881     \n",
      "Epoch 14/100\n",
      "3918/3918 [==============================] - 2s - loss: 0.9653 - acc: 0.5978     \n",
      "Epoch 15/100\n",
      "3918/3918 [==============================] - 2s - loss: 0.9514 - acc: 0.5965     \n",
      "Epoch 16/100\n",
      "3918/3918 [==============================] - 2s - loss: 0.9466 - acc: 0.5942     \n",
      "Epoch 17/100\n",
      "3918/3918 [==============================] - 2s - loss: 0.9378 - acc: 0.5962     \n",
      "Epoch 18/100\n",
      "3918/3918 [==============================] - 2s - loss: 0.9251 - acc: 0.6100     \n",
      "Epoch 19/100\n",
      "3918/3918 [==============================] - 2s - loss: 0.9124 - acc: 0.6097     \n",
      "Epoch 20/100\n",
      "3918/3918 [==============================] - 2s - loss: 0.9068 - acc: 0.6100     \n",
      "Epoch 21/100\n",
      "3918/3918 [==============================] - 2s - loss: 0.8898 - acc: 0.6217     \n",
      "Epoch 22/100\n",
      "3918/3918 [==============================] - 2s - loss: 0.8835 - acc: 0.6220     \n",
      "Epoch 23/100\n",
      "3918/3918 [==============================] - 2s - loss: 0.8718 - acc: 0.6240     \n",
      "Epoch 24/100\n",
      "3918/3918 [==============================] - 2s - loss: 0.8629 - acc: 0.6330     \n",
      "Epoch 25/100\n",
      "3918/3918 [==============================] - 2s - loss: 0.8582 - acc: 0.6304     \n",
      "Epoch 26/100\n",
      "3918/3918 [==============================] - 2s - loss: 0.8345 - acc: 0.6470     \n",
      "Epoch 27/100\n",
      "3918/3918 [==============================] - 2s - loss: 0.8302 - acc: 0.6419     \n",
      "Epoch 28/100\n",
      "3918/3918 [==============================] - 2s - loss: 0.8147 - acc: 0.6511     \n",
      "Epoch 29/100\n",
      "3918/3918 [==============================] - 2s - loss: 0.8014 - acc: 0.6503     \n",
      "Epoch 30/100\n",
      "3918/3918 [==============================] - 2s - loss: 0.7872 - acc: 0.6582     \n",
      "Epoch 31/100\n",
      "3918/3918 [==============================] - 2s - loss: 0.7908 - acc: 0.6598     \n",
      "Epoch 32/100\n",
      "3918/3918 [==============================] - 2s - loss: 0.7662 - acc: 0.6656     \n",
      "Epoch 33/100\n",
      "3918/3918 [==============================] - 2s - loss: 0.7665 - acc: 0.6764     \n",
      "Epoch 34/100\n",
      "3918/3918 [==============================] - 2s - loss: 0.7475 - acc: 0.6764     \n",
      "Epoch 35/100\n",
      "3918/3918 [==============================] - 2s - loss: 0.7237 - acc: 0.6863     \n",
      "Epoch 36/100\n",
      "3918/3918 [==============================] - 2s - loss: 0.7166 - acc: 0.6955     \n",
      "Epoch 37/100\n",
      "3918/3918 [==============================] - 2s - loss: 0.7109 - acc: 0.6975     \n",
      "Epoch 38/100\n",
      "3918/3918 [==============================] - 2s - loss: 0.6970 - acc: 0.7021     \n",
      "Epoch 39/100\n",
      "3918/3918 [==============================] - 2s - loss: 0.6862 - acc: 0.7024     \n",
      "Epoch 40/100\n",
      "3918/3918 [==============================] - 2s - loss: 0.6741 - acc: 0.7098     \n",
      "Epoch 41/100\n",
      "3918/3918 [==============================] - 2s - loss: 0.6626 - acc: 0.7180     \n",
      "Epoch 42/100\n",
      "3918/3918 [==============================] - 2s - loss: 0.6577 - acc: 0.7169     \n",
      "Epoch 43/100\n",
      "3918/3918 [==============================] - 2s - loss: 0.6494 - acc: 0.7221     \n",
      "Epoch 44/100\n",
      "3918/3918 [==============================] - 2s - loss: 0.6343 - acc: 0.7238     \n",
      "Epoch 45/100\n",
      "3918/3918 [==============================] - 2s - loss: 0.6265 - acc: 0.7351     \n",
      "Epoch 46/100\n",
      "3918/3918 [==============================] - 2s - loss: 0.6026 - acc: 0.7409     \n",
      "Epoch 47/100\n",
      "3918/3918 [==============================] - 2s - loss: 0.6097 - acc: 0.7445     \n",
      "Epoch 48/100\n",
      "3918/3918 [==============================] - 2s - loss: 0.5840 - acc: 0.7545     \n",
      "Epoch 49/100\n",
      "3918/3918 [==============================] - 2s - loss: 0.5843 - acc: 0.7466     \n",
      "Epoch 50/100\n",
      "3918/3918 [==============================] - 2s - loss: 0.5699 - acc: 0.7588     \n",
      "Epoch 51/100\n",
      "3918/3918 [==============================] - 2s - loss: 0.5618 - acc: 0.7665     \n",
      "Epoch 52/100\n",
      "3918/3918 [==============================] - 2s - loss: 0.5443 - acc: 0.7695     \n",
      "Epoch 53/100\n",
      "3918/3918 [==============================] - 2s - loss: 0.5534 - acc: 0.7680     \n",
      "Epoch 54/100\n",
      "3918/3918 [==============================] - 2s - loss: 0.5084 - acc: 0.7859     \n",
      "Epoch 55/100\n",
      "3918/3918 [==============================] - 2s - loss: 0.5308 - acc: 0.7779     \n",
      "Epoch 56/100\n",
      "3918/3918 [==============================] - 2s - loss: 0.5050 - acc: 0.7879     \n",
      "Epoch 57/100\n",
      "3918/3918 [==============================] - 2s - loss: 0.5021 - acc: 0.7889     \n",
      "Epoch 58/100\n",
      "3918/3918 [==============================] - 2s - loss: 0.4877 - acc: 0.7876     \n",
      "Epoch 59/100\n",
      "3918/3918 [==============================] - 2s - loss: 0.4886 - acc: 0.7948     \n",
      "Epoch 60/100\n",
      "3918/3918 [==============================] - 2s - loss: 0.4765 - acc: 0.8014     \n",
      "Epoch 61/100\n",
      "3918/3918 [==============================] - 2s - loss: 0.4532 - acc: 0.8121     \n",
      "Epoch 62/100\n",
      "3918/3918 [==============================] - 2s - loss: 0.4391 - acc: 0.8196     \n",
      "Epoch 63/100\n",
      "3918/3918 [==============================] - 2s - loss: 0.4371 - acc: 0.8170     \n",
      "Epoch 64/100\n",
      "3918/3918 [==============================] - 2s - loss: 0.4359 - acc: 0.8111     \n",
      "Epoch 65/100\n",
      "3918/3918 [==============================] - 2s - loss: 0.4192 - acc: 0.8213     \n",
      "Epoch 66/100\n",
      "3918/3918 [==============================] - 2s - loss: 0.4000 - acc: 0.8354     \n",
      "Epoch 67/100\n",
      "3918/3918 [==============================] - 2s - loss: 0.3894 - acc: 0.8331     \n",
      "Epoch 68/100\n",
      "3918/3918 [==============================] - 2s - loss: 0.3872 - acc: 0.8420     \n",
      "Epoch 69/100\n",
      "3918/3918 [==============================] - 2s - loss: 0.3870 - acc: 0.8354     \n",
      "Epoch 70/100\n",
      "3918/3918 [==============================] - 2s - loss: 0.3426 - acc: 0.8589     \n",
      "Epoch 71/100\n",
      "3918/3918 [==============================] - 2s - loss: 0.3392 - acc: 0.8622     \n",
      "Epoch 72/100\n",
      "3918/3918 [==============================] - 2s - loss: 0.3471 - acc: 0.8568     \n",
      "Epoch 73/100\n",
      "3918/3918 [==============================] - 2s - loss: 0.3659 - acc: 0.8522     \n",
      "Epoch 74/100\n",
      "3918/3918 [==============================] - 2s - loss: 0.3200 - acc: 0.8721     \n",
      "Epoch 75/100\n",
      "3918/3918 [==============================] - 2s - loss: 0.3566 - acc: 0.8581     \n",
      "Epoch 76/100\n",
      "3918/3918 [==============================] - 2s - loss: 0.3160 - acc: 0.8698     \n",
      "Epoch 77/100\n",
      "3918/3918 [==============================] - 2s - loss: 0.2922 - acc: 0.8846     \n",
      "Epoch 78/100\n",
      "3918/3918 [==============================] - 3s - loss: 0.3302 - acc: 0.8680     \n",
      "Epoch 79/100\n",
      "3918/3918 [==============================] - ETA: 0s - loss: 0.3077 - acc: 0.882 - 4s - loss: 0.3072 - acc: 0.8821     \n",
      "Epoch 80/100\n",
      "3918/3918 [==============================] - 4s - loss: 0.2780 - acc: 0.8920     \n",
      "Epoch 81/100\n",
      "3918/3918 [==============================] - 4s - loss: 0.2749 - acc: 0.8925     \n",
      "Epoch 82/100\n",
      "3918/3918 [==============================] - 4s - loss: 0.2637 - acc: 0.8992     \n",
      "Epoch 83/100\n",
      "3918/3918 [==============================] - 4s - loss: 0.2784 - acc: 0.8984     \n",
      "Epoch 84/100\n",
      "3918/3918 [==============================] - 4s - loss: 0.3026 - acc: 0.8910     \n",
      "Epoch 85/100\n",
      "3918/3918 [==============================] - 4s - loss: 0.3068 - acc: 0.8841     \n",
      "Epoch 86/100\n"
     ]
    },
    {
     "name": "stdout",
     "output_type": "stream",
     "text": [
      "3918/3918 [==============================] - 4s - loss: 0.2455 - acc: 0.9040     \n",
      "Epoch 87/100\n",
      "3918/3918 [==============================] - 4s - loss: 0.2323 - acc: 0.9135     \n",
      "Epoch 88/100\n",
      "3918/3918 [==============================] - ETA: 0s - loss: 0.2515 - acc: 0.907 - 4s - loss: 0.2518 - acc: 0.9066     \n",
      "Epoch 89/100\n",
      "3918/3918 [==============================] - 4s - loss: 0.2559 - acc: 0.9048     \n",
      "Epoch 90/100\n",
      "3918/3918 [==============================] - 4s - loss: 0.2519 - acc: 0.9071     \n",
      "Epoch 91/100\n",
      "3918/3918 [==============================] - 4s - loss: 0.2421 - acc: 0.9051     \n",
      "Epoch 92/100\n",
      "3918/3918 [==============================] - 4s - loss: 0.2049 - acc: 0.9283     \n",
      "Epoch 93/100\n",
      "3918/3918 [==============================] - 4s - loss: 0.2231 - acc: 0.9173     \n",
      "Epoch 94/100\n",
      "3918/3918 [==============================] - 4s - loss: 0.2067 - acc: 0.9201     \n",
      "Epoch 95/100\n",
      "3918/3918 [==============================] - 4s - loss: 0.2513 - acc: 0.9091     \n",
      "Epoch 96/100\n",
      "3918/3918 [==============================] - 4s - loss: 0.2481 - acc: 0.9109     \n",
      "Epoch 97/100\n",
      "3918/3918 [==============================] - 3s - loss: 0.1649 - acc: 0.9336     \n",
      "Epoch 98/100\n",
      "3918/3918 [==============================] - 2s - loss: 0.1915 - acc: 0.9252     \n",
      "Epoch 99/100\n",
      "3918/3918 [==============================] - 2s - loss: 0.2313 - acc: 0.9094     \n",
      "Epoch 100/100\n",
      "3918/3918 [==============================] - 2s - loss: 0.1847 - acc: 0.9293     \n"
     ]
    },
    {
     "data": {
      "text/plain": [
       "<keras.callbacks.History at 0x961ed1deb8>"
      ]
     },
     "execution_count": 45,
     "metadata": {},
     "output_type": "execute_result"
    }
   ],
   "source": [
    "clf_ann = Sequential()\n",
    "\n",
    "# First Hidden Layer\n",
    "clf_ann.add(Dense(output_dim = 36, init = 'uniform', activation = 'relu', input_dim = 11))\n",
    "\n",
    "# Second Hidden Layer\n",
    "clf_ann.add(Dense(output_dim = 72, init = 'uniform', activation = 'relu'))\n",
    "\n",
    "clf_ann.add(Dense(output_dim = 108, init = 'uniform', activation = 'relu'))\n",
    "\n",
    "clf_ann.add(Dense(output_dim = 144, init = 'uniform', activation = 'relu'))\n",
    "\n",
    "clf_ann.add(Dense(output_dim = 216, init = 'uniform', activation = 'relu'))\n",
    "\n",
    "# Output Layer\n",
    "clf_ann.add(Dense(output_dim = 7, init = 'uniform', activation = 'softmax'))\n",
    "\n",
    "clf_ann.compile(optimizer = 'adam', loss = 'categorical_crossentropy', metrics = ['accuracy'])\n",
    "\n",
    "clf_ann.fit(X_train, Y_train, batch_size = 10, nb_epoch = 100)"
   ]
  },
  {
   "cell_type": "code",
   "execution_count": 46,
   "metadata": {
    "collapsed": true
   },
   "outputs": [],
   "source": [
    "Y_pred = clf_ann.predict(X_test)\n",
    "Y_pred = (Y_pred > 0.5)"
   ]
  },
  {
   "cell_type": "markdown",
   "metadata": {},
   "source": [
    "## Check the Accuracy"
   ]
  },
  {
   "cell_type": "code",
   "execution_count": 47,
   "metadata": {},
   "outputs": [
    {
     "data": {
      "text/plain": [
       "0.59795918367346934"
      ]
     },
     "execution_count": 47,
     "metadata": {},
     "output_type": "execute_result"
    }
   ],
   "source": [
    "from sklearn.metrics import accuracy_score\n",
    "accuracy_score(Y_pred, Y_test)"
   ]
  },
  {
   "cell_type": "code",
   "execution_count": null,
   "metadata": {
    "collapsed": true
   },
   "outputs": [],
   "source": []
  }
 ],
 "metadata": {
  "kernelspec": {
   "display_name": "Python [default]",
   "language": "python",
   "name": "python3"
  },
  "language_info": {
   "codemirror_mode": {
    "name": "ipython",
    "version": 3
   },
   "file_extension": ".py",
   "mimetype": "text/x-python",
   "name": "python",
   "nbconvert_exporter": "python",
   "pygments_lexer": "ipython3",
   "version": "3.5.4"
  }
 },
 "nbformat": 4,
 "nbformat_minor": 2
}
