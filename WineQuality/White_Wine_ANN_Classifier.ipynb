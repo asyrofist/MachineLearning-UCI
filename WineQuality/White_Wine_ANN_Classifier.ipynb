{
 "cells": [
  {
   "cell_type": "markdown",
   "metadata": {},
   "source": [
    "## Initialization"
   ]
  },
  {
   "cell_type": "code",
   "execution_count": 1,
   "metadata": {},
   "outputs": [
    {
     "name": "stderr",
     "output_type": "stream",
     "text": [
      "Using Theano backend.\n"
     ]
    }
   ],
   "source": [
    "import pandas as pd\n",
    "import numpy as np\n",
    "import keras"
   ]
  },
  {
   "cell_type": "markdown",
   "metadata": {},
   "source": [
    "## Importing the Data"
   ]
  },
  {
   "cell_type": "code",
   "execution_count": 2,
   "metadata": {},
   "outputs": [
    {
     "data": {
      "text/plain": [
       "(4898, 12)"
      ]
     },
     "execution_count": 2,
     "metadata": {},
     "output_type": "execute_result"
    }
   ],
   "source": [
    "dataset = pd.read_csv(\"winequality-white.csv\")\n",
    "dataset.shape"
   ]
  },
  {
   "cell_type": "code",
   "execution_count": 3,
   "metadata": {},
   "outputs": [
    {
     "data": {
      "text/html": [
       "<div>\n",
       "<style>\n",
       "    .dataframe thead tr:only-child th {\n",
       "        text-align: right;\n",
       "    }\n",
       "\n",
       "    .dataframe thead th {\n",
       "        text-align: left;\n",
       "    }\n",
       "\n",
       "    .dataframe tbody tr th {\n",
       "        vertical-align: top;\n",
       "    }\n",
       "</style>\n",
       "<table border=\"1\" class=\"dataframe\">\n",
       "  <thead>\n",
       "    <tr style=\"text-align: right;\">\n",
       "      <th></th>\n",
       "      <th>fixed acidity</th>\n",
       "      <th>volatile acidity</th>\n",
       "      <th>citric acid</th>\n",
       "      <th>residual sugar</th>\n",
       "      <th>chlorides</th>\n",
       "      <th>free sulfur dioxide</th>\n",
       "      <th>total sulfur dioxide</th>\n",
       "      <th>density</th>\n",
       "      <th>pH</th>\n",
       "      <th>sulphates</th>\n",
       "      <th>alcohol</th>\n",
       "      <th>quality</th>\n",
       "    </tr>\n",
       "  </thead>\n",
       "  <tbody>\n",
       "    <tr>\n",
       "      <th>0</th>\n",
       "      <td>7.0</td>\n",
       "      <td>0.27</td>\n",
       "      <td>0.36</td>\n",
       "      <td>20.7</td>\n",
       "      <td>0.045</td>\n",
       "      <td>45.0</td>\n",
       "      <td>170.0</td>\n",
       "      <td>1.0010</td>\n",
       "      <td>3.00</td>\n",
       "      <td>0.45</td>\n",
       "      <td>8.8</td>\n",
       "      <td>6</td>\n",
       "    </tr>\n",
       "    <tr>\n",
       "      <th>1</th>\n",
       "      <td>6.3</td>\n",
       "      <td>0.30</td>\n",
       "      <td>0.34</td>\n",
       "      <td>1.6</td>\n",
       "      <td>0.049</td>\n",
       "      <td>14.0</td>\n",
       "      <td>132.0</td>\n",
       "      <td>0.9940</td>\n",
       "      <td>3.30</td>\n",
       "      <td>0.49</td>\n",
       "      <td>9.5</td>\n",
       "      <td>6</td>\n",
       "    </tr>\n",
       "    <tr>\n",
       "      <th>2</th>\n",
       "      <td>8.1</td>\n",
       "      <td>0.28</td>\n",
       "      <td>0.40</td>\n",
       "      <td>6.9</td>\n",
       "      <td>0.050</td>\n",
       "      <td>30.0</td>\n",
       "      <td>97.0</td>\n",
       "      <td>0.9951</td>\n",
       "      <td>3.26</td>\n",
       "      <td>0.44</td>\n",
       "      <td>10.1</td>\n",
       "      <td>6</td>\n",
       "    </tr>\n",
       "    <tr>\n",
       "      <th>3</th>\n",
       "      <td>7.2</td>\n",
       "      <td>0.23</td>\n",
       "      <td>0.32</td>\n",
       "      <td>8.5</td>\n",
       "      <td>0.058</td>\n",
       "      <td>47.0</td>\n",
       "      <td>186.0</td>\n",
       "      <td>0.9956</td>\n",
       "      <td>3.19</td>\n",
       "      <td>0.40</td>\n",
       "      <td>9.9</td>\n",
       "      <td>6</td>\n",
       "    </tr>\n",
       "    <tr>\n",
       "      <th>4</th>\n",
       "      <td>7.2</td>\n",
       "      <td>0.23</td>\n",
       "      <td>0.32</td>\n",
       "      <td>8.5</td>\n",
       "      <td>0.058</td>\n",
       "      <td>47.0</td>\n",
       "      <td>186.0</td>\n",
       "      <td>0.9956</td>\n",
       "      <td>3.19</td>\n",
       "      <td>0.40</td>\n",
       "      <td>9.9</td>\n",
       "      <td>6</td>\n",
       "    </tr>\n",
       "  </tbody>\n",
       "</table>\n",
       "</div>"
      ],
      "text/plain": [
       "   fixed acidity  volatile acidity  citric acid  residual sugar  chlorides  \\\n",
       "0            7.0              0.27         0.36            20.7      0.045   \n",
       "1            6.3              0.30         0.34             1.6      0.049   \n",
       "2            8.1              0.28         0.40             6.9      0.050   \n",
       "3            7.2              0.23         0.32             8.5      0.058   \n",
       "4            7.2              0.23         0.32             8.5      0.058   \n",
       "\n",
       "   free sulfur dioxide  total sulfur dioxide  density    pH  sulphates  \\\n",
       "0                 45.0                 170.0   1.0010  3.00       0.45   \n",
       "1                 14.0                 132.0   0.9940  3.30       0.49   \n",
       "2                 30.0                  97.0   0.9951  3.26       0.44   \n",
       "3                 47.0                 186.0   0.9956  3.19       0.40   \n",
       "4                 47.0                 186.0   0.9956  3.19       0.40   \n",
       "\n",
       "   alcohol  quality  \n",
       "0      8.8        6  \n",
       "1      9.5        6  \n",
       "2     10.1        6  \n",
       "3      9.9        6  \n",
       "4      9.9        6  "
      ]
     },
     "execution_count": 3,
     "metadata": {},
     "output_type": "execute_result"
    }
   ],
   "source": [
    "dataset.head()"
   ]
  },
  {
   "cell_type": "markdown",
   "metadata": {},
   "source": [
    "## Creating X and Y"
   ]
  },
  {
   "cell_type": "code",
   "execution_count": 4,
   "metadata": {
    "collapsed": true
   },
   "outputs": [],
   "source": [
    "X = dataset.iloc[:, 0:11].values\n",
    "Y = dataset.iloc[:, 11].values"
   ]
  },
  {
   "cell_type": "code",
   "execution_count": 5,
   "metadata": {},
   "outputs": [
    {
     "data": {
      "text/plain": [
       "array([[  7.  ,   0.27,   0.36, ...,   3.  ,   0.45,   8.8 ],\n",
       "       [  6.3 ,   0.3 ,   0.34, ...,   3.3 ,   0.49,   9.5 ],\n",
       "       [  8.1 ,   0.28,   0.4 , ...,   3.26,   0.44,  10.1 ],\n",
       "       ..., \n",
       "       [  6.5 ,   0.24,   0.19, ...,   2.99,   0.46,   9.4 ],\n",
       "       [  5.5 ,   0.29,   0.3 , ...,   3.34,   0.38,  12.8 ],\n",
       "       [  6.  ,   0.21,   0.38, ...,   3.26,   0.32,  11.8 ]])"
      ]
     },
     "execution_count": 5,
     "metadata": {},
     "output_type": "execute_result"
    }
   ],
   "source": [
    "X"
   ]
  },
  {
   "cell_type": "code",
   "execution_count": 6,
   "metadata": {},
   "outputs": [
    {
     "data": {
      "text/plain": [
       "array([6, 6, 6, ..., 6, 7, 6], dtype=int64)"
      ]
     },
     "execution_count": 6,
     "metadata": {},
     "output_type": "execute_result"
    }
   ],
   "source": [
    "Y"
   ]
  },
  {
   "cell_type": "markdown",
   "metadata": {},
   "source": [
    "## Preprocess the Data"
   ]
  },
  {
   "cell_type": "code",
   "execution_count": 7,
   "metadata": {
    "collapsed": true
   },
   "outputs": [],
   "source": [
    "from sklearn.preprocessing import LabelEncoder, OneHotEncoder, StandardScaler"
   ]
  },
  {
   "cell_type": "code",
   "execution_count": 8,
   "metadata": {
    "collapsed": true
   },
   "outputs": [],
   "source": [
    "le_Y = LabelEncoder()"
   ]
  },
  {
   "cell_type": "code",
   "execution_count": 9,
   "metadata": {},
   "outputs": [
    {
     "data": {
      "text/plain": [
       "array([3, 3, 3, ..., 3, 4, 3], dtype=int64)"
      ]
     },
     "execution_count": 9,
     "metadata": {},
     "output_type": "execute_result"
    }
   ],
   "source": [
    "Y = le_Y.fit_transform(Y)\n",
    "Y"
   ]
  },
  {
   "cell_type": "code",
   "execution_count": 10,
   "metadata": {
    "collapsed": true
   },
   "outputs": [],
   "source": [
    "Y = Y.reshape(len(Y), 1)\n",
    "ohe_Y = OneHotEncoder(categorical_features = [0])"
   ]
  },
  {
   "cell_type": "code",
   "execution_count": 11,
   "metadata": {},
   "outputs": [
    {
     "data": {
      "text/plain": [
       "array([[ 0.,  0.,  0., ...,  0.,  0.,  0.],\n",
       "       [ 0.,  0.,  0., ...,  0.,  0.,  0.],\n",
       "       [ 0.,  0.,  0., ...,  0.,  0.,  0.],\n",
       "       ..., \n",
       "       [ 0.,  0.,  0., ...,  0.,  0.,  0.],\n",
       "       [ 0.,  0.,  0., ...,  1.,  0.,  0.],\n",
       "       [ 0.,  0.,  0., ...,  0.,  0.,  0.]])"
      ]
     },
     "execution_count": 11,
     "metadata": {},
     "output_type": "execute_result"
    }
   ],
   "source": [
    "Y = ohe_Y.fit_transform(Y).toarray()\n",
    "Y"
   ]
  },
  {
   "cell_type": "code",
   "execution_count": 12,
   "metadata": {
    "collapsed": true
   },
   "outputs": [],
   "source": [
    "sc_X = StandardScaler()"
   ]
  },
  {
   "cell_type": "code",
   "execution_count": 13,
   "metadata": {},
   "outputs": [
    {
     "data": {
      "text/plain": [
       "array([[  1.72096961e-01,  -8.17699008e-02,   2.13280202e-01, ...,\n",
       "         -1.24692128e+00,  -3.49184257e-01,  -1.39315246e+00],\n",
       "       [ -6.57501128e-01,   2.15895632e-01,   4.80011213e-02, ...,\n",
       "          7.40028640e-01,   1.34184656e-03,  -8.24275678e-01],\n",
       "       [  1.47575110e+00,   1.74519434e-02,   5.43838363e-01, ...,\n",
       "          4.75101984e-01,  -4.36815783e-01,  -3.36667007e-01],\n",
       "       ..., \n",
       "       [ -4.20473102e-01,  -3.79435433e-01,  -1.19159198e+00, ...,\n",
       "         -1.31315295e+00,  -2.61552731e-01,  -9.05543789e-01],\n",
       "       [ -1.60561323e+00,   1.16673788e-01,  -2.82557040e-01, ...,\n",
       "          1.00495530e+00,  -9.62604939e-01,   1.85757201e+00],\n",
       "       [ -1.01304317e+00,  -6.77100966e-01,   3.78559282e-01, ...,\n",
       "          4.75101984e-01,  -1.48839409e+00,   1.04489089e+00]])"
      ]
     },
     "execution_count": 13,
     "metadata": {},
     "output_type": "execute_result"
    }
   ],
   "source": [
    "X = sc_X.fit_transform(X)\n",
    "X"
   ]
  },
  {
   "cell_type": "markdown",
   "metadata": {},
   "source": [
    "## Create Train and Test Data"
   ]
  },
  {
   "cell_type": "code",
   "execution_count": 14,
   "metadata": {
    "collapsed": true
   },
   "outputs": [],
   "source": [
    "from sklearn.model_selection import train_test_split\n",
    "X_train, X_test, Y_train, Y_test = train_test_split(X, Y, test_size = 0.2, random_state = 4)"
   ]
  },
  {
   "cell_type": "code",
   "execution_count": 15,
   "metadata": {},
   "outputs": [
    {
     "data": {
      "text/plain": [
       "(3918, 11)"
      ]
     },
     "execution_count": 15,
     "metadata": {},
     "output_type": "execute_result"
    }
   ],
   "source": [
    "X_train.shape"
   ]
  },
  {
   "cell_type": "code",
   "execution_count": 16,
   "metadata": {},
   "outputs": [
    {
     "data": {
      "text/plain": [
       "(980, 11)"
      ]
     },
     "execution_count": 16,
     "metadata": {},
     "output_type": "execute_result"
    }
   ],
   "source": [
    "X_test.shape"
   ]
  },
  {
   "cell_type": "code",
   "execution_count": 17,
   "metadata": {},
   "outputs": [
    {
     "data": {
      "text/plain": [
       "(3918, 7)"
      ]
     },
     "execution_count": 17,
     "metadata": {},
     "output_type": "execute_result"
    }
   ],
   "source": [
    "Y_train.shape"
   ]
  },
  {
   "cell_type": "code",
   "execution_count": 18,
   "metadata": {},
   "outputs": [
    {
     "data": {
      "text/plain": [
       "(980, 7)"
      ]
     },
     "execution_count": 18,
     "metadata": {},
     "output_type": "execute_result"
    }
   ],
   "source": [
    "Y_test.shape"
   ]
  },
  {
   "cell_type": "markdown",
   "metadata": {},
   "source": [
    "## Create and train the Classifier"
   ]
  },
  {
   "cell_type": "code",
   "execution_count": 19,
   "metadata": {
    "collapsed": true
   },
   "outputs": [],
   "source": [
    "from keras.models import Sequential\n",
    "from keras.layers import Dense"
   ]
  },
  {
   "cell_type": "code",
   "execution_count": 20,
   "metadata": {},
   "outputs": [
    {
     "name": "stderr",
     "output_type": "stream",
     "text": [
      "C:\\Users\\user\\Anaconda3\\lib\\site-packages\\ipykernel\\__main__.py:4: UserWarning: Update your `Dense` call to the Keras 2 API: `Dense(kernel_initializer=\"uniform\", activation=\"relu\", input_dim=11, units=9)`\n",
      "C:\\Users\\user\\Anaconda3\\lib\\site-packages\\ipykernel\\__main__.py:7: UserWarning: Update your `Dense` call to the Keras 2 API: `Dense(activation=\"relu\", units=18, kernel_initializer=\"uniform\")`\n",
      "C:\\Users\\user\\Anaconda3\\lib\\site-packages\\ipykernel\\__main__.py:10: UserWarning: Update your `Dense` call to the Keras 2 API: `Dense(activation=\"softmax\", units=7, kernel_initializer=\"uniform\")`\n",
      "C:\\Users\\user\\Anaconda3\\lib\\site-packages\\keras\\models.py:844: UserWarning: The `nb_epoch` argument in `fit` has been renamed `epochs`.\n",
      "  warnings.warn('The `nb_epoch` argument in `fit` '\n"
     ]
    },
    {
     "name": "stdout",
     "output_type": "stream",
     "text": [
      "Epoch 1/100\n",
      "3918/3918 [==============================] - 0s - loss: 1.4228 - acc: 0.4484     \n",
      "Epoch 2/100\n",
      "3918/3918 [==============================] - 0s - loss: 1.1961 - acc: 0.4964     \n",
      "Epoch 3/100\n",
      "3918/3918 [==============================] - 0s - loss: 1.1343 - acc: 0.5309     \n",
      "Epoch 4/100\n",
      "3918/3918 [==============================] - 0s - loss: 1.1127 - acc: 0.5413     \n",
      "Epoch 5/100\n",
      "3918/3918 [==============================] - 0s - loss: 1.1027 - acc: 0.5426     \n",
      "Epoch 6/100\n",
      "3918/3918 [==============================] - 0s - loss: 1.0962 - acc: 0.5413     \n",
      "Epoch 7/100\n",
      "3918/3918 [==============================] - 0s - loss: 1.0911 - acc: 0.5465     \n",
      "Epoch 8/100\n",
      "3918/3918 [==============================] - 0s - loss: 1.0856 - acc: 0.5472     \n",
      "Epoch 9/100\n",
      "3918/3918 [==============================] - 0s - loss: 1.0797 - acc: 0.5472     \n",
      "Epoch 10/100\n",
      "3918/3918 [==============================] - 0s - loss: 1.0738 - acc: 0.5485     \n",
      "Epoch 11/100\n",
      "3918/3918 [==============================] - 0s - loss: 1.0685 - acc: 0.5442     \n",
      "Epoch 12/100\n",
      "3918/3918 [==============================] - 0s - loss: 1.0650 - acc: 0.5459     \n",
      "Epoch 13/100\n",
      "3918/3918 [==============================] - 0s - loss: 1.0622 - acc: 0.5490     \n",
      "Epoch 14/100\n",
      "3918/3918 [==============================] - 0s - loss: 1.0581 - acc: 0.5567     \n",
      "Epoch 15/100\n",
      "3918/3918 [==============================] - 0s - loss: 1.0565 - acc: 0.5485     - ETA: 0s - loss: 1.0578 - acc: 0.549\n",
      "Epoch 16/100\n",
      "3918/3918 [==============================] - 0s - loss: 1.0529 - acc: 0.5503     \n",
      "Epoch 17/100\n",
      "3918/3918 [==============================] - 0s - loss: 1.0491 - acc: 0.5500     \n",
      "Epoch 18/100\n",
      "3918/3918 [==============================] - 0s - loss: 1.0492 - acc: 0.5521     \n",
      "Epoch 19/100\n",
      "3918/3918 [==============================] - 0s - loss: 1.0465 - acc: 0.5562     \n",
      "Epoch 20/100\n",
      "3918/3918 [==============================] - 0s - loss: 1.0446 - acc: 0.5482     \n",
      "Epoch 21/100\n",
      "3918/3918 [==============================] - 0s - loss: 1.0433 - acc: 0.5508     \n",
      "Epoch 22/100\n",
      "3918/3918 [==============================] - 0s - loss: 1.0410 - acc: 0.5523     \n",
      "Epoch 23/100\n",
      "3918/3918 [==============================] - 0s - loss: 1.0392 - acc: 0.5485     \n",
      "Epoch 24/100\n",
      "3918/3918 [==============================] - 0s - loss: 1.0384 - acc: 0.5480     - ETA: 0s - loss: 1.0369 - acc: 0.543\n",
      "Epoch 25/100\n",
      "3918/3918 [==============================] - 0s - loss: 1.0384 - acc: 0.5577     \n",
      "Epoch 26/100\n",
      "3918/3918 [==============================] - 0s - loss: 1.0367 - acc: 0.5559     \n",
      "Epoch 27/100\n",
      "3918/3918 [==============================] - 0s - loss: 1.0368 - acc: 0.5546     \n",
      "Epoch 28/100\n",
      "3918/3918 [==============================] - 0s - loss: 1.0349 - acc: 0.5500     \n",
      "Epoch 29/100\n",
      "3918/3918 [==============================] - 0s - loss: 1.0338 - acc: 0.5508     \n",
      "Epoch 30/100\n",
      "3918/3918 [==============================] - 0s - loss: 1.0342 - acc: 0.5564     \n",
      "Epoch 31/100\n",
      "3918/3918 [==============================] - 0s - loss: 1.0329 - acc: 0.5495     \n",
      "Epoch 32/100\n",
      "3918/3918 [==============================] - 0s - loss: 1.0310 - acc: 0.5521     \n",
      "Epoch 33/100\n",
      "3918/3918 [==============================] - 0s - loss: 1.0313 - acc: 0.5539     \n",
      "Epoch 34/100\n",
      "3918/3918 [==============================] - 0s - loss: 1.0299 - acc: 0.5516     \n",
      "Epoch 35/100\n",
      "3918/3918 [==============================] - 0s - loss: 1.0297 - acc: 0.5518     \n",
      "Epoch 36/100\n",
      "3918/3918 [==============================] - 0s - loss: 1.0283 - acc: 0.5582     \n",
      "Epoch 37/100\n",
      "3918/3918 [==============================] - 0s - loss: 1.0277 - acc: 0.5546     \n",
      "Epoch 38/100\n",
      "3918/3918 [==============================] - 0s - loss: 1.0282 - acc: 0.5605     \n",
      "Epoch 39/100\n",
      "3918/3918 [==============================] - 0s - loss: 1.0255 - acc: 0.5539     \n",
      "Epoch 40/100\n",
      "3918/3918 [==============================] - 0s - loss: 1.0255 - acc: 0.5562     \n",
      "Epoch 41/100\n",
      "3918/3918 [==============================] - 0s - loss: 1.0240 - acc: 0.5562     \n",
      "Epoch 42/100\n",
      "3918/3918 [==============================] - 0s - loss: 1.0231 - acc: 0.5595     \n",
      "Epoch 43/100\n",
      "3918/3918 [==============================] - 0s - loss: 1.0227 - acc: 0.5600     \n",
      "Epoch 44/100\n",
      "3918/3918 [==============================] - 0s - loss: 1.0210 - acc: 0.5549     \n",
      "Epoch 45/100\n",
      "3918/3918 [==============================] - 0s - loss: 1.0200 - acc: 0.5564     \n",
      "Epoch 46/100\n",
      "3918/3918 [==============================] - 0s - loss: 1.0199 - acc: 0.5574     \n",
      "Epoch 47/100\n",
      "3918/3918 [==============================] - 0s - loss: 1.0184 - acc: 0.5610     \n",
      "Epoch 48/100\n",
      "3918/3918 [==============================] - 0s - loss: 1.0197 - acc: 0.5551     \n",
      "Epoch 49/100\n",
      "3918/3918 [==============================] - 0s - loss: 1.0170 - acc: 0.5602     \n",
      "Epoch 50/100\n",
      "3918/3918 [==============================] - 0s - loss: 1.0168 - acc: 0.5582     \n",
      "Epoch 51/100\n",
      "3918/3918 [==============================] - 0s - loss: 1.0152 - acc: 0.5641     \n",
      "Epoch 52/100\n",
      "3918/3918 [==============================] - 0s - loss: 1.0143 - acc: 0.5590     \n",
      "Epoch 53/100\n",
      "3918/3918 [==============================] - 0s - loss: 1.0142 - acc: 0.5623     \n",
      "Epoch 54/100\n",
      "3918/3918 [==============================] - 0s - loss: 1.0111 - acc: 0.5684     \n",
      "Epoch 55/100\n",
      "3918/3918 [==============================] - 0s - loss: 1.0119 - acc: 0.5671     \n",
      "Epoch 56/100\n",
      "3918/3918 [==============================] - 0s - loss: 1.0109 - acc: 0.5679     \n",
      "Epoch 57/100\n",
      "3918/3918 [==============================] - 0s - loss: 1.0111 - acc: 0.5679     \n",
      "Epoch 58/100\n",
      "3918/3918 [==============================] - 0s - loss: 1.0103 - acc: 0.5722     \n",
      "Epoch 59/100\n",
      "3918/3918 [==============================] - 0s - loss: 1.0082 - acc: 0.5687     \n",
      "Epoch 60/100\n",
      "3918/3918 [==============================] - 0s - loss: 1.0081 - acc: 0.5694     \n",
      "Epoch 61/100\n",
      "3918/3918 [==============================] - 0s - loss: 1.0066 - acc: 0.5692     \n",
      "Epoch 62/100\n",
      "3918/3918 [==============================] - 0s - loss: 1.0070 - acc: 0.5763     \n",
      "Epoch 63/100\n",
      "3918/3918 [==============================] - 0s - loss: 1.0071 - acc: 0.5712     \n",
      "Epoch 64/100\n",
      "3918/3918 [==============================] - 0s - loss: 1.0044 - acc: 0.5743     \n",
      "Epoch 65/100\n",
      "3918/3918 [==============================] - 0s - loss: 1.0044 - acc: 0.5730     \n",
      "Epoch 66/100\n",
      "3918/3918 [==============================] - 0s - loss: 1.0050 - acc: 0.5669     \n",
      "Epoch 67/100\n",
      "3918/3918 [==============================] - 0s - loss: 1.0039 - acc: 0.5809     \n",
      "Epoch 68/100\n",
      "3918/3918 [==============================] - 0s - loss: 1.0027 - acc: 0.5745     \n",
      "Epoch 69/100\n",
      "3918/3918 [==============================] - 0s - loss: 1.0030 - acc: 0.5727     \n",
      "Epoch 70/100\n",
      "3918/3918 [==============================] - 0s - loss: 1.0031 - acc: 0.5725     \n",
      "Epoch 71/100\n",
      "3918/3918 [==============================] - 0s - loss: 1.0037 - acc: 0.5733     \n",
      "Epoch 72/100\n",
      "3918/3918 [==============================] - 0s - loss: 1.0011 - acc: 0.5753     \n",
      "Epoch 73/100\n",
      "3918/3918 [==============================] - 0s - loss: 0.9995 - acc: 0.5735     \n",
      "Epoch 74/100\n",
      "3918/3918 [==============================] - 0s - loss: 1.0015 - acc: 0.5733     \n",
      "Epoch 75/100\n",
      "3918/3918 [==============================] - 0s - loss: 1.0011 - acc: 0.5755     \n",
      "Epoch 76/100\n",
      "3918/3918 [==============================] - 0s - loss: 0.9988 - acc: 0.5763     \n",
      "Epoch 77/100\n",
      "3918/3918 [==============================] - 0s - loss: 0.9993 - acc: 0.5730     \n",
      "Epoch 78/100\n",
      "3918/3918 [==============================] - 0s - loss: 1.0000 - acc: 0.5748     \n",
      "Epoch 79/100\n",
      "3918/3918 [==============================] - 0s - loss: 0.9993 - acc: 0.5738     \n",
      "Epoch 80/100\n",
      "3918/3918 [==============================] - 0s - loss: 0.9982 - acc: 0.5758     \n",
      "Epoch 81/100\n",
      "3918/3918 [==============================] - 0s - loss: 0.9996 - acc: 0.5669     \n",
      "Epoch 82/100\n",
      "3918/3918 [==============================] - 0s - loss: 0.9985 - acc: 0.5766     \n",
      "Epoch 83/100\n",
      "3918/3918 [==============================] - 0s - loss: 0.9966 - acc: 0.5743     \n",
      "Epoch 84/100\n",
      "3918/3918 [==============================] - 0s - loss: 0.9963 - acc: 0.5740     \n",
      "Epoch 85/100\n",
      "3918/3918 [==============================] - 0s - loss: 0.9979 - acc: 0.5702     \n",
      "Epoch 86/100\n"
     ]
    },
    {
     "name": "stdout",
     "output_type": "stream",
     "text": [
      "3918/3918 [==============================] - 0s - loss: 0.9963 - acc: 0.5743     \n",
      "Epoch 87/100\n",
      "3918/3918 [==============================] - 0s - loss: 0.9948 - acc: 0.5755     \n",
      "Epoch 88/100\n",
      "3918/3918 [==============================] - 0s - loss: 0.9941 - acc: 0.5748     \n",
      "Epoch 89/100\n",
      "3918/3918 [==============================] - 0s - loss: 0.9960 - acc: 0.5755     \n",
      "Epoch 90/100\n",
      "3918/3918 [==============================] - 0s - loss: 0.9945 - acc: 0.5743     \n",
      "Epoch 91/100\n",
      "3918/3918 [==============================] - 0s - loss: 0.9945 - acc: 0.5730     \n",
      "Epoch 92/100\n",
      "3918/3918 [==============================] - 0s - loss: 0.9951 - acc: 0.5771     \n",
      "Epoch 93/100\n",
      "3918/3918 [==============================] - 0s - loss: 0.9938 - acc: 0.5725     \n",
      "Epoch 94/100\n",
      "3918/3918 [==============================] - 0s - loss: 0.9929 - acc: 0.5784     \n",
      "Epoch 95/100\n",
      "3918/3918 [==============================] - 0s - loss: 0.9927 - acc: 0.5755     \n",
      "Epoch 96/100\n",
      "3918/3918 [==============================] - 0s - loss: 0.9927 - acc: 0.5761     \n",
      "Epoch 97/100\n",
      "3918/3918 [==============================] - 0s - loss: 0.9922 - acc: 0.5743     - ETA: 0s - loss: 0.9933 - acc: 0.573\n",
      "Epoch 98/100\n",
      "3918/3918 [==============================] - 0s - loss: 0.9928 - acc: 0.5748     \n",
      "Epoch 99/100\n",
      "3918/3918 [==============================] - 0s - loss: 0.9920 - acc: 0.5743     \n",
      "Epoch 100/100\n",
      "3918/3918 [==============================] - 0s - loss: 0.9899 - acc: 0.5778     \n"
     ]
    },
    {
     "data": {
      "text/plain": [
       "<keras.callbacks.History at 0x351b678c18>"
      ]
     },
     "execution_count": 20,
     "metadata": {},
     "output_type": "execute_result"
    }
   ],
   "source": [
    "clf_ann = Sequential()\n",
    "\n",
    "# First Hidden Layer\n",
    "clf_ann.add(Dense(output_dim = 9, init = 'uniform', activation = 'relu', input_dim = 11))\n",
    "\n",
    "# Second Hidden Layer\n",
    "clf_ann.add(Dense(output_dim = 18, init = 'uniform', activation = 'relu'))\n",
    "\n",
    "# Output Layer\n",
    "clf_ann.add(Dense(output_dim = 7, init = 'uniform', activation = 'softmax'))\n",
    "\n",
    "clf_ann.compile(optimizer = 'adam', loss = 'categorical_crossentropy', metrics = ['accuracy'])\n",
    "\n",
    "clf_ann.fit(X_train, Y_train, batch_size = 10, nb_epoch = 100)"
   ]
  },
  {
   "cell_type": "code",
   "execution_count": 21,
   "metadata": {
    "collapsed": true
   },
   "outputs": [],
   "source": [
    "Y_pred = clf_ann.predict(X_test)\n",
    "Y_pred_class = np.argmax(Y_pred, axis = 1)\n",
    "Y_test_class = np.argmax(Y_test, axis = 1)"
   ]
  },
  {
   "cell_type": "markdown",
   "metadata": {},
   "source": [
    "## Check the Accuracy"
   ]
  },
  {
   "cell_type": "code",
   "execution_count": 22,
   "metadata": {},
   "outputs": [
    {
     "data": {
      "text/plain": [
       "0.5357142857142857"
      ]
     },
     "execution_count": 22,
     "metadata": {},
     "output_type": "execute_result"
    }
   ],
   "source": [
    "from sklearn.metrics import accuracy_score, confusion_matrix\n",
    "accuracy_score(Y_pred_class, Y_test_class)"
   ]
  },
  {
   "cell_type": "code",
   "execution_count": 23,
   "metadata": {},
   "outputs": [
    {
     "data": {
      "text/plain": [
       "array([[  0,   0,   0,   0,   0,   0,   0],\n",
       "       [  0,   1,   1,   0,   0,   0,   0],\n",
       "       [  2,  25, 202, 132,   5,   0,   1],\n",
       "       [  1,   6,  78, 255,  99,  17,   0],\n",
       "       [  1,   0,   3,  59,  67,  25,   0],\n",
       "       [  0,   0,   0,   0,   0,   0,   0],\n",
       "       [  0,   0,   0,   0,   0,   0,   0]], dtype=int64)"
      ]
     },
     "execution_count": 23,
     "metadata": {},
     "output_type": "execute_result"
    }
   ],
   "source": [
    "confusion_matrix(Y_pred_class, Y_test_class)"
   ]
  }
 ],
 "metadata": {
  "kernelspec": {
   "display_name": "Python [default]",
   "language": "python",
   "name": "python3"
  },
  "language_info": {
   "codemirror_mode": {
    "name": "ipython",
    "version": 3
   },
   "file_extension": ".py",
   "mimetype": "text/x-python",
   "name": "python",
   "nbconvert_exporter": "python",
   "pygments_lexer": "ipython3",
   "version": "3.5.4"
  }
 },
 "nbformat": 4,
 "nbformat_minor": 2
}
