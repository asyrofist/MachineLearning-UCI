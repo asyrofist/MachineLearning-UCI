{
 "cells": [
  {
   "cell_type": "markdown",
   "metadata": {},
   "source": [
    "## Initialization"
   ]
  },
  {
   "cell_type": "code",
   "execution_count": 1,
   "metadata": {},
   "outputs": [
    {
     "name": "stderr",
     "output_type": "stream",
     "text": [
      "Using Theano backend.\n"
     ]
    }
   ],
   "source": [
    "import pandas as pd\n",
    "import numpy as np\n",
    "import keras"
   ]
  },
  {
   "cell_type": "markdown",
   "metadata": {},
   "source": [
    "## Importing the Data"
   ]
  },
  {
   "cell_type": "code",
   "execution_count": 2,
   "metadata": {},
   "outputs": [
    {
     "data": {
      "text/plain": [
       "(1599, 12)"
      ]
     },
     "execution_count": 2,
     "metadata": {},
     "output_type": "execute_result"
    }
   ],
   "source": [
    "dataset = pd.read_csv(\"winequality-red.csv\")\n",
    "dataset.shape"
   ]
  },
  {
   "cell_type": "code",
   "execution_count": 3,
   "metadata": {},
   "outputs": [
    {
     "data": {
      "text/html": [
       "<div>\n",
       "<style>\n",
       "    .dataframe thead tr:only-child th {\n",
       "        text-align: right;\n",
       "    }\n",
       "\n",
       "    .dataframe thead th {\n",
       "        text-align: left;\n",
       "    }\n",
       "\n",
       "    .dataframe tbody tr th {\n",
       "        vertical-align: top;\n",
       "    }\n",
       "</style>\n",
       "<table border=\"1\" class=\"dataframe\">\n",
       "  <thead>\n",
       "    <tr style=\"text-align: right;\">\n",
       "      <th></th>\n",
       "      <th>fixed acidity</th>\n",
       "      <th>volatile acidity</th>\n",
       "      <th>citric acid</th>\n",
       "      <th>residual sugar</th>\n",
       "      <th>chlorides</th>\n",
       "      <th>free sulfur dioxide</th>\n",
       "      <th>total sulfur dioxide</th>\n",
       "      <th>density</th>\n",
       "      <th>pH</th>\n",
       "      <th>sulphates</th>\n",
       "      <th>alcohol</th>\n",
       "      <th>quality</th>\n",
       "    </tr>\n",
       "  </thead>\n",
       "  <tbody>\n",
       "    <tr>\n",
       "      <th>0</th>\n",
       "      <td>7.4</td>\n",
       "      <td>0.70</td>\n",
       "      <td>0.00</td>\n",
       "      <td>1.9</td>\n",
       "      <td>0.076</td>\n",
       "      <td>11.0</td>\n",
       "      <td>34.0</td>\n",
       "      <td>0.9978</td>\n",
       "      <td>3.51</td>\n",
       "      <td>0.56</td>\n",
       "      <td>9.4</td>\n",
       "      <td>5</td>\n",
       "    </tr>\n",
       "    <tr>\n",
       "      <th>1</th>\n",
       "      <td>7.8</td>\n",
       "      <td>0.88</td>\n",
       "      <td>0.00</td>\n",
       "      <td>2.6</td>\n",
       "      <td>0.098</td>\n",
       "      <td>25.0</td>\n",
       "      <td>67.0</td>\n",
       "      <td>0.9968</td>\n",
       "      <td>3.20</td>\n",
       "      <td>0.68</td>\n",
       "      <td>9.8</td>\n",
       "      <td>5</td>\n",
       "    </tr>\n",
       "    <tr>\n",
       "      <th>2</th>\n",
       "      <td>7.8</td>\n",
       "      <td>0.76</td>\n",
       "      <td>0.04</td>\n",
       "      <td>2.3</td>\n",
       "      <td>0.092</td>\n",
       "      <td>15.0</td>\n",
       "      <td>54.0</td>\n",
       "      <td>0.9970</td>\n",
       "      <td>3.26</td>\n",
       "      <td>0.65</td>\n",
       "      <td>9.8</td>\n",
       "      <td>5</td>\n",
       "    </tr>\n",
       "    <tr>\n",
       "      <th>3</th>\n",
       "      <td>11.2</td>\n",
       "      <td>0.28</td>\n",
       "      <td>0.56</td>\n",
       "      <td>1.9</td>\n",
       "      <td>0.075</td>\n",
       "      <td>17.0</td>\n",
       "      <td>60.0</td>\n",
       "      <td>0.9980</td>\n",
       "      <td>3.16</td>\n",
       "      <td>0.58</td>\n",
       "      <td>9.8</td>\n",
       "      <td>6</td>\n",
       "    </tr>\n",
       "    <tr>\n",
       "      <th>4</th>\n",
       "      <td>7.4</td>\n",
       "      <td>0.70</td>\n",
       "      <td>0.00</td>\n",
       "      <td>1.9</td>\n",
       "      <td>0.076</td>\n",
       "      <td>11.0</td>\n",
       "      <td>34.0</td>\n",
       "      <td>0.9978</td>\n",
       "      <td>3.51</td>\n",
       "      <td>0.56</td>\n",
       "      <td>9.4</td>\n",
       "      <td>5</td>\n",
       "    </tr>\n",
       "  </tbody>\n",
       "</table>\n",
       "</div>"
      ],
      "text/plain": [
       "   fixed acidity  volatile acidity  citric acid  residual sugar  chlorides  \\\n",
       "0            7.4              0.70         0.00             1.9      0.076   \n",
       "1            7.8              0.88         0.00             2.6      0.098   \n",
       "2            7.8              0.76         0.04             2.3      0.092   \n",
       "3           11.2              0.28         0.56             1.9      0.075   \n",
       "4            7.4              0.70         0.00             1.9      0.076   \n",
       "\n",
       "   free sulfur dioxide  total sulfur dioxide  density    pH  sulphates  \\\n",
       "0                 11.0                  34.0   0.9978  3.51       0.56   \n",
       "1                 25.0                  67.0   0.9968  3.20       0.68   \n",
       "2                 15.0                  54.0   0.9970  3.26       0.65   \n",
       "3                 17.0                  60.0   0.9980  3.16       0.58   \n",
       "4                 11.0                  34.0   0.9978  3.51       0.56   \n",
       "\n",
       "   alcohol  quality  \n",
       "0      9.4        5  \n",
       "1      9.8        5  \n",
       "2      9.8        5  \n",
       "3      9.8        6  \n",
       "4      9.4        5  "
      ]
     },
     "execution_count": 3,
     "metadata": {},
     "output_type": "execute_result"
    }
   ],
   "source": [
    "dataset.head()"
   ]
  },
  {
   "cell_type": "markdown",
   "metadata": {},
   "source": [
    "## Creating X and Y"
   ]
  },
  {
   "cell_type": "code",
   "execution_count": 4,
   "metadata": {
    "collapsed": true
   },
   "outputs": [],
   "source": [
    "X = dataset.iloc[:, 0:11].values\n",
    "Y = dataset.iloc[:, 11].values"
   ]
  },
  {
   "cell_type": "code",
   "execution_count": 5,
   "metadata": {},
   "outputs": [
    {
     "data": {
      "text/plain": [
       "array([[  7.4  ,   0.7  ,   0.   , ...,   3.51 ,   0.56 ,   9.4  ],\n",
       "       [  7.8  ,   0.88 ,   0.   , ...,   3.2  ,   0.68 ,   9.8  ],\n",
       "       [  7.8  ,   0.76 ,   0.04 , ...,   3.26 ,   0.65 ,   9.8  ],\n",
       "       ..., \n",
       "       [  6.3  ,   0.51 ,   0.13 , ...,   3.42 ,   0.75 ,  11.   ],\n",
       "       [  5.9  ,   0.645,   0.12 , ...,   3.57 ,   0.71 ,  10.2  ],\n",
       "       [  6.   ,   0.31 ,   0.47 , ...,   3.39 ,   0.66 ,  11.   ]])"
      ]
     },
     "execution_count": 5,
     "metadata": {},
     "output_type": "execute_result"
    }
   ],
   "source": [
    "X"
   ]
  },
  {
   "cell_type": "code",
   "execution_count": 6,
   "metadata": {},
   "outputs": [
    {
     "data": {
      "text/plain": [
       "array([5, 5, 5, ..., 6, 5, 6], dtype=int64)"
      ]
     },
     "execution_count": 6,
     "metadata": {},
     "output_type": "execute_result"
    }
   ],
   "source": [
    "Y"
   ]
  },
  {
   "cell_type": "markdown",
   "metadata": {},
   "source": [
    "## Preprocess the Data"
   ]
  },
  {
   "cell_type": "code",
   "execution_count": 7,
   "metadata": {
    "collapsed": true
   },
   "outputs": [],
   "source": [
    "from sklearn.preprocessing import LabelEncoder, OneHotEncoder, StandardScaler"
   ]
  },
  {
   "cell_type": "code",
   "execution_count": 8,
   "metadata": {
    "collapsed": true
   },
   "outputs": [],
   "source": [
    "le_Y = LabelEncoder()"
   ]
  },
  {
   "cell_type": "code",
   "execution_count": 9,
   "metadata": {},
   "outputs": [
    {
     "data": {
      "text/plain": [
       "array([2, 2, 2, ..., 3, 2, 3], dtype=int64)"
      ]
     },
     "execution_count": 9,
     "metadata": {},
     "output_type": "execute_result"
    }
   ],
   "source": [
    "Y = le_Y.fit_transform(Y)\n",
    "Y"
   ]
  },
  {
   "cell_type": "code",
   "execution_count": 10,
   "metadata": {
    "collapsed": true
   },
   "outputs": [],
   "source": [
    "Y = Y.reshape(len(Y), 1)\n",
    "ohe_Y = OneHotEncoder(categorical_features = [0])"
   ]
  },
  {
   "cell_type": "code",
   "execution_count": 11,
   "metadata": {},
   "outputs": [
    {
     "data": {
      "text/plain": [
       "array([[ 0.,  0.,  1.,  0.,  0.,  0.],\n",
       "       [ 0.,  0.,  1.,  0.,  0.,  0.],\n",
       "       [ 0.,  0.,  1.,  0.,  0.,  0.],\n",
       "       ..., \n",
       "       [ 0.,  0.,  0.,  1.,  0.,  0.],\n",
       "       [ 0.,  0.,  1.,  0.,  0.,  0.],\n",
       "       [ 0.,  0.,  0.,  1.,  0.,  0.]])"
      ]
     },
     "execution_count": 11,
     "metadata": {},
     "output_type": "execute_result"
    }
   ],
   "source": [
    "Y = ohe_Y.fit_transform(Y).toarray()\n",
    "Y"
   ]
  },
  {
   "cell_type": "code",
   "execution_count": 12,
   "metadata": {
    "collapsed": true
   },
   "outputs": [],
   "source": [
    "sc_X = StandardScaler()"
   ]
  },
  {
   "cell_type": "code",
   "execution_count": 13,
   "metadata": {},
   "outputs": [
    {
     "data": {
      "text/plain": [
       "array([[-0.52835961,  0.96187667, -1.39147228, ...,  1.28864292,\n",
       "        -0.57920652, -0.96024611],\n",
       "       [-0.29854743,  1.96744245, -1.39147228, ..., -0.7199333 ,\n",
       "         0.1289504 , -0.58477711],\n",
       "       [-0.29854743,  1.29706527, -1.18607043, ..., -0.33117661,\n",
       "        -0.04808883, -0.58477711],\n",
       "       ..., \n",
       "       [-1.1603431 , -0.09955388, -0.72391627, ...,  0.70550789,\n",
       "         0.54204194,  0.54162988],\n",
       "       [-1.39015528,  0.65462046, -0.77526673, ...,  1.6773996 ,\n",
       "         0.30598963, -0.20930812],\n",
       "       [-1.33270223, -1.21684919,  1.02199944, ...,  0.51112954,\n",
       "         0.01092425,  0.54162988]])"
      ]
     },
     "execution_count": 13,
     "metadata": {},
     "output_type": "execute_result"
    }
   ],
   "source": [
    "X = sc_X.fit_transform(X)\n",
    "X"
   ]
  },
  {
   "cell_type": "markdown",
   "metadata": {},
   "source": [
    "## Create Train and Test Data"
   ]
  },
  {
   "cell_type": "code",
   "execution_count": 14,
   "metadata": {
    "collapsed": true
   },
   "outputs": [],
   "source": [
    "from sklearn.model_selection import train_test_split\n",
    "X_train, X_test, Y_train, Y_test = train_test_split(X, Y, test_size = 0.2, random_state = 4)"
   ]
  },
  {
   "cell_type": "code",
   "execution_count": 15,
   "metadata": {},
   "outputs": [
    {
     "data": {
      "text/plain": [
       "(1279, 11)"
      ]
     },
     "execution_count": 15,
     "metadata": {},
     "output_type": "execute_result"
    }
   ],
   "source": [
    "X_train.shape"
   ]
  },
  {
   "cell_type": "code",
   "execution_count": 16,
   "metadata": {},
   "outputs": [
    {
     "data": {
      "text/plain": [
       "(320, 11)"
      ]
     },
     "execution_count": 16,
     "metadata": {},
     "output_type": "execute_result"
    }
   ],
   "source": [
    "X_test.shape"
   ]
  },
  {
   "cell_type": "code",
   "execution_count": 17,
   "metadata": {},
   "outputs": [
    {
     "data": {
      "text/plain": [
       "(1279, 6)"
      ]
     },
     "execution_count": 17,
     "metadata": {},
     "output_type": "execute_result"
    }
   ],
   "source": [
    "Y_train.shape"
   ]
  },
  {
   "cell_type": "code",
   "execution_count": 18,
   "metadata": {},
   "outputs": [
    {
     "data": {
      "text/plain": [
       "(320, 6)"
      ]
     },
     "execution_count": 18,
     "metadata": {},
     "output_type": "execute_result"
    }
   ],
   "source": [
    "Y_test.shape"
   ]
  },
  {
   "cell_type": "markdown",
   "metadata": {},
   "source": [
    "## Create and train the Classifier"
   ]
  },
  {
   "cell_type": "code",
   "execution_count": 19,
   "metadata": {
    "collapsed": true
   },
   "outputs": [],
   "source": [
    "from keras.models import Sequential\n",
    "from keras.layers import Dense"
   ]
  },
  {
   "cell_type": "code",
   "execution_count": 20,
   "metadata": {},
   "outputs": [
    {
     "name": "stderr",
     "output_type": "stream",
     "text": [
      "C:\\Users\\user\\Anaconda3\\lib\\site-packages\\ipykernel\\__main__.py:4: UserWarning: Update your `Dense` call to the Keras 2 API: `Dense(kernel_initializer=\"uniform\", units=8, input_dim=11, activation=\"relu\")`\n",
      "C:\\Users\\user\\Anaconda3\\lib\\site-packages\\ipykernel\\__main__.py:18: UserWarning: Update your `Dense` call to the Keras 2 API: `Dense(kernel_initializer=\"uniform\", units=6, activation=\"softmax\")`\n",
      "C:\\Users\\user\\Anaconda3\\lib\\site-packages\\keras\\models.py:844: UserWarning: The `nb_epoch` argument in `fit` has been renamed `epochs`.\n",
      "  warnings.warn('The `nb_epoch` argument in `fit` '\n"
     ]
    },
    {
     "name": "stdout",
     "output_type": "stream",
     "text": [
      "Epoch 1/100\n",
      "1279/1279 [==============================] - 0s - loss: 1.6706 - acc: 0.4887     \n",
      "Epoch 2/100\n",
      "1279/1279 [==============================] - 0s - loss: 1.2849 - acc: 0.5168     \n",
      "Epoch 3/100\n",
      "1279/1279 [==============================] - 0s - loss: 1.1058 - acc: 0.5356     \n",
      "Epoch 4/100\n",
      "1279/1279 [==============================] - 0s - loss: 1.0441 - acc: 0.5645     \n",
      "Epoch 5/100\n",
      "1279/1279 [==============================] - 0s - loss: 1.0138 - acc: 0.5731     \n",
      "Epoch 6/100\n",
      "1279/1279 [==============================] - 0s - loss: 0.9955 - acc: 0.5887     \n",
      "Epoch 7/100\n",
      "1279/1279 [==============================] - 0s - loss: 0.9848 - acc: 0.5809     \n",
      "Epoch 8/100\n",
      "1279/1279 [==============================] - 0s - loss: 0.9763 - acc: 0.5895     \n",
      "Epoch 9/100\n",
      "1279/1279 [==============================] - 0s - loss: 0.9694 - acc: 0.5966     \n",
      "Epoch 10/100\n",
      "1279/1279 [==============================] - 0s - loss: 0.9646 - acc: 0.5973     \n",
      "Epoch 11/100\n",
      "1279/1279 [==============================] - 0s - loss: 0.9606 - acc: 0.5989     \n",
      "Epoch 12/100\n",
      "1279/1279 [==============================] - 0s - loss: 0.9565 - acc: 0.5958     \n",
      "Epoch 13/100\n",
      "1279/1279 [==============================] - 0s - loss: 0.9531 - acc: 0.5989     \n",
      "Epoch 14/100\n",
      "1279/1279 [==============================] - 0s - loss: 0.9505 - acc: 0.5973     \n",
      "Epoch 15/100\n",
      "1279/1279 [==============================] - 0s - loss: 0.9478 - acc: 0.5973     \n",
      "Epoch 16/100\n",
      "1279/1279 [==============================] - 0s - loss: 0.9456 - acc: 0.5966     \n",
      "Epoch 17/100\n",
      "1279/1279 [==============================] - 0s - loss: 0.9433 - acc: 0.6020     \n",
      "Epoch 18/100\n",
      "1279/1279 [==============================] - 0s - loss: 0.9412 - acc: 0.5997     \n",
      "Epoch 19/100\n",
      "1279/1279 [==============================] - 0s - loss: 0.9397 - acc: 0.6028     \n",
      "Epoch 20/100\n",
      "1279/1279 [==============================] - 0s - loss: 0.9374 - acc: 0.5981     \n",
      "Epoch 21/100\n",
      "1279/1279 [==============================] - 0s - loss: 0.9356 - acc: 0.6075     \n",
      "Epoch 22/100\n",
      "1279/1279 [==============================] - 0s - loss: 0.9339 - acc: 0.6059     \n",
      "Epoch 23/100\n",
      "1279/1279 [==============================] - 0s - loss: 0.9325 - acc: 0.6036     \n",
      "Epoch 24/100\n",
      "1279/1279 [==============================] - 0s - loss: 0.9309 - acc: 0.6036     \n",
      "Epoch 25/100\n",
      "1279/1279 [==============================] - 0s - loss: 0.9308 - acc: 0.6036     \n",
      "Epoch 26/100\n",
      "1279/1279 [==============================] - 0s - loss: 0.9293 - acc: 0.6099     \n",
      "Epoch 27/100\n",
      "1279/1279 [==============================] - 0s - loss: 0.9273 - acc: 0.6044     \n",
      "Epoch 28/100\n",
      "1279/1279 [==============================] - 0s - loss: 0.9257 - acc: 0.6091     \n",
      "Epoch 29/100\n",
      "1279/1279 [==============================] - 0s - loss: 0.9248 - acc: 0.6091     \n",
      "Epoch 30/100\n",
      "1279/1279 [==============================] - 0s - loss: 0.9238 - acc: 0.6052     \n",
      "Epoch 31/100\n",
      "1279/1279 [==============================] - 0s - loss: 0.9219 - acc: 0.6099     \n",
      "Epoch 32/100\n",
      "1279/1279 [==============================] - 0s - loss: 0.9205 - acc: 0.6091     \n",
      "Epoch 33/100\n",
      "1279/1279 [==============================] - 0s - loss: 0.9193 - acc: 0.6169     \n",
      "Epoch 34/100\n",
      "1279/1279 [==============================] - 0s - loss: 0.9174 - acc: 0.6114     \n",
      "Epoch 35/100\n",
      "1279/1279 [==============================] - 0s - loss: 0.9157 - acc: 0.6091     \n",
      "Epoch 36/100\n",
      "1279/1279 [==============================] - 0s - loss: 0.9153 - acc: 0.6099     \n",
      "Epoch 37/100\n",
      "1279/1279 [==============================] - 0s - loss: 0.9139 - acc: 0.6106     \n",
      "Epoch 38/100\n",
      "1279/1279 [==============================] - 0s - loss: 0.9120 - acc: 0.6083     \n",
      "Epoch 39/100\n",
      "1279/1279 [==============================] - 0s - loss: 0.9113 - acc: 0.6106     \n",
      "Epoch 40/100\n",
      "1279/1279 [==============================] - 0s - loss: 0.9096 - acc: 0.6106     \n",
      "Epoch 41/100\n",
      "1279/1279 [==============================] - 0s - loss: 0.9090 - acc: 0.6122     \n",
      "Epoch 42/100\n",
      "1279/1279 [==============================] - 0s - loss: 0.9077 - acc: 0.6138     \n",
      "Epoch 43/100\n",
      "1279/1279 [==============================] - 0s - loss: 0.9064 - acc: 0.6122     \n",
      "Epoch 44/100\n",
      "1279/1279 [==============================] - 0s - loss: 0.9061 - acc: 0.6083     \n",
      "Epoch 45/100\n",
      "1279/1279 [==============================] - 0s - loss: 0.9054 - acc: 0.6067     \n",
      "Epoch 46/100\n",
      "1279/1279 [==============================] - 0s - loss: 0.9038 - acc: 0.6099     \n",
      "Epoch 47/100\n",
      "1279/1279 [==============================] - 0s - loss: 0.9035 - acc: 0.6138     \n",
      "Epoch 48/100\n",
      "1279/1279 [==============================] - 0s - loss: 0.9026 - acc: 0.6083     \n",
      "Epoch 49/100\n",
      "1279/1279 [==============================] - 0s - loss: 0.9022 - acc: 0.6130     \n",
      "Epoch 50/100\n",
      "1279/1279 [==============================] - 0s - loss: 0.9015 - acc: 0.6099     \n",
      "Epoch 51/100\n",
      "1279/1279 [==============================] - 0s - loss: 0.9008 - acc: 0.6114     \n",
      "Epoch 52/100\n",
      "1279/1279 [==============================] - 0s - loss: 0.8996 - acc: 0.6138     \n",
      "Epoch 53/100\n",
      "1279/1279 [==============================] - 0s - loss: 0.8988 - acc: 0.6099     \n",
      "Epoch 54/100\n",
      "1279/1279 [==============================] - 0s - loss: 0.8980 - acc: 0.6083     \n",
      "Epoch 55/100\n",
      "1279/1279 [==============================] - 0s - loss: 0.8977 - acc: 0.6145     \n",
      "Epoch 56/100\n",
      "1279/1279 [==============================] - 0s - loss: 0.8959 - acc: 0.6106     \n",
      "Epoch 57/100\n",
      "1279/1279 [==============================] - 0s - loss: 0.8966 - acc: 0.6161     \n",
      "Epoch 58/100\n",
      "1279/1279 [==============================] - 0s - loss: 0.8953 - acc: 0.6138     \n",
      "Epoch 59/100\n",
      "1279/1279 [==============================] - 0s - loss: 0.8948 - acc: 0.6130     \n",
      "Epoch 60/100\n",
      "1279/1279 [==============================] - 0s - loss: 0.8942 - acc: 0.6122     \n",
      "Epoch 61/100\n",
      "1279/1279 [==============================] - 0s - loss: 0.8931 - acc: 0.6138     \n",
      "Epoch 62/100\n",
      "1279/1279 [==============================] - 0s - loss: 0.8928 - acc: 0.6130     \n",
      "Epoch 63/100\n",
      "1279/1279 [==============================] - 0s - loss: 0.8921 - acc: 0.6138     \n",
      "Epoch 64/100\n",
      "1279/1279 [==============================] - 0s - loss: 0.8916 - acc: 0.6130     \n",
      "Epoch 65/100\n",
      "1279/1279 [==============================] - 0s - loss: 0.8906 - acc: 0.6145     \n",
      "Epoch 66/100\n",
      "1279/1279 [==============================] - 0s - loss: 0.8907 - acc: 0.6153     \n",
      "Epoch 67/100\n",
      "1279/1279 [==============================] - 0s - loss: 0.8901 - acc: 0.6145     \n",
      "Epoch 68/100\n",
      "1279/1279 [==============================] - 0s - loss: 0.8891 - acc: 0.6161     \n",
      "Epoch 69/100\n",
      "1279/1279 [==============================] - 0s - loss: 0.8886 - acc: 0.6122     \n",
      "Epoch 70/100\n",
      "1279/1279 [==============================] - 0s - loss: 0.8888 - acc: 0.6153     \n",
      "Epoch 71/100\n",
      "1279/1279 [==============================] - 0s - loss: 0.8880 - acc: 0.6185     \n",
      "Epoch 72/100\n",
      "1279/1279 [==============================] - 0s - loss: 0.8876 - acc: 0.6161     \n",
      "Epoch 73/100\n",
      "1279/1279 [==============================] - 0s - loss: 0.8865 - acc: 0.6106     \n",
      "Epoch 74/100\n",
      "1279/1279 [==============================] - 0s - loss: 0.8863 - acc: 0.6130     \n",
      "Epoch 75/100\n",
      "1279/1279 [==============================] - 0s - loss: 0.8854 - acc: 0.6161     \n",
      "Epoch 76/100\n",
      "1279/1279 [==============================] - 0s - loss: 0.8855 - acc: 0.6122     \n",
      "Epoch 77/100\n",
      "1279/1279 [==============================] - 0s - loss: 0.8845 - acc: 0.6138     \n",
      "Epoch 78/100\n",
      "1279/1279 [==============================] - 0s - loss: 0.8846 - acc: 0.6130     \n",
      "Epoch 79/100\n",
      "1279/1279 [==============================] - 0s - loss: 0.8836 - acc: 0.6138     \n",
      "Epoch 80/100\n",
      "1279/1279 [==============================] - 0s - loss: 0.8843 - acc: 0.6145     \n",
      "Epoch 81/100\n",
      "1279/1279 [==============================] - 0s - loss: 0.8831 - acc: 0.6177     \n",
      "Epoch 82/100\n",
      "1279/1279 [==============================] - 0s - loss: 0.8824 - acc: 0.6185     \n",
      "Epoch 83/100\n",
      "1279/1279 [==============================] - 0s - loss: 0.8832 - acc: 0.6161     \n",
      "Epoch 84/100\n",
      "1279/1279 [==============================] - 0s - loss: 0.8817 - acc: 0.6185     \n",
      "Epoch 85/100\n",
      "1279/1279 [==============================] - 0s - loss: 0.8812 - acc: 0.6138     \n",
      "Epoch 86/100\n",
      "1279/1279 [==============================] - 0s - loss: 0.8807 - acc: 0.6122     \n",
      "Epoch 87/100\n"
     ]
    },
    {
     "name": "stdout",
     "output_type": "stream",
     "text": [
      "1279/1279 [==============================] - 0s - loss: 0.8807 - acc: 0.6138     \n",
      "Epoch 88/100\n",
      "1279/1279 [==============================] - 0s - loss: 0.8803 - acc: 0.6122     \n",
      "Epoch 89/100\n",
      "1279/1279 [==============================] - 0s - loss: 0.8795 - acc: 0.6106     \n",
      "Epoch 90/100\n",
      "1279/1279 [==============================] - 0s - loss: 0.8794 - acc: 0.6161     \n",
      "Epoch 91/100\n",
      "1279/1279 [==============================] - 0s - loss: 0.8789 - acc: 0.6153     \n",
      "Epoch 92/100\n",
      "1279/1279 [==============================] - 0s - loss: 0.8779 - acc: 0.6153     \n",
      "Epoch 93/100\n",
      "1279/1279 [==============================] - 0s - loss: 0.8778 - acc: 0.6099     \n",
      "Epoch 94/100\n",
      "1279/1279 [==============================] - 0s - loss: 0.8782 - acc: 0.6114     \n",
      "Epoch 95/100\n",
      "1279/1279 [==============================] - 0s - loss: 0.8772 - acc: 0.6122     \n",
      "Epoch 96/100\n",
      "1279/1279 [==============================] - 0s - loss: 0.8764 - acc: 0.6091     \n",
      "Epoch 97/100\n",
      "1279/1279 [==============================] - 0s - loss: 0.8756 - acc: 0.6138     \n",
      "Epoch 98/100\n",
      "1279/1279 [==============================] - 0s - loss: 0.8761 - acc: 0.6122     \n",
      "Epoch 99/100\n",
      "1279/1279 [==============================] - 0s - loss: 0.8753 - acc: 0.6114     \n",
      "Epoch 100/100\n",
      "1279/1279 [==============================] - 0s - loss: 0.8749 - acc: 0.6106     \n"
     ]
    },
    {
     "data": {
      "text/plain": [
       "<keras.callbacks.History at 0xcc800cc6d8>"
      ]
     },
     "execution_count": 20,
     "metadata": {},
     "output_type": "execute_result"
    }
   ],
   "source": [
    "clf_ann = Sequential()\n",
    "\n",
    "# First Hidden Layer\n",
    "clf_ann.add(Dense(output_dim = 8, init = 'uniform', activation = 'relu', input_dim = 11))\n",
    "\n",
    "# Output Layer\n",
    "clf_ann.add(Dense(output_dim = 6, init = 'uniform', activation = 'softmax'))\n",
    "\n",
    "clf_ann.compile(optimizer = 'adam', loss = 'categorical_crossentropy', metrics = ['accuracy'])\n",
    "\n",
    "clf_ann.fit(X_train, Y_train, batch_size = 10, nb_epoch = 100)"
   ]
  },
  {
   "cell_type": "code",
   "execution_count": 21,
   "metadata": {
    "collapsed": true
   },
   "outputs": [],
   "source": [
    "Y_pred = clf_ann.predict(X_test)\n",
    "Y_pred_class = np.argmax(Y_pred, axis = 1)\n",
    "Y_test_class = np.argmax(Y_test, axis = 1)"
   ]
  },
  {
   "cell_type": "markdown",
   "metadata": {},
   "source": [
    "## Check the Accuracy"
   ]
  },
  {
   "cell_type": "code",
   "execution_count": 22,
   "metadata": {},
   "outputs": [
    {
     "data": {
      "text/plain": [
       "0.61875000000000002"
      ]
     },
     "execution_count": 22,
     "metadata": {},
     "output_type": "execute_result"
    }
   ],
   "source": [
    "from sklearn.metrics import accuracy_score, confusion_matrix\n",
    "accuracy_score(Y_pred_class, Y_test_class)"
   ]
  },
  {
   "cell_type": "code",
   "execution_count": 23,
   "metadata": {},
   "outputs": [
    {
     "data": {
      "text/plain": [
       "array([[  0,   0,   0,   0,   0,   0],\n",
       "       [  1,   0,   1,   0,   0,   0],\n",
       "       [  0,   7, 112,  36,   0,   0],\n",
       "       [  1,   4,  31,  75,  30,   2],\n",
       "       [  0,   0,   2,   7,  11,   0],\n",
       "       [  0,   0,   0,   0,   0,   0]], dtype=int64)"
      ]
     },
     "execution_count": 23,
     "metadata": {},
     "output_type": "execute_result"
    }
   ],
   "source": [
    "confusion_matrix(Y_pred_class, Y_test_class)"
   ]
  },
  {
   "cell_type": "code",
   "execution_count": null,
   "metadata": {
    "collapsed": true
   },
   "outputs": [],
   "source": []
  }
 ],
 "metadata": {
  "kernelspec": {
   "display_name": "Python [default]",
   "language": "python",
   "name": "python3"
  },
  "language_info": {
   "codemirror_mode": {
    "name": "ipython",
    "version": 3
   },
   "file_extension": ".py",
   "mimetype": "text/x-python",
   "name": "python",
   "nbconvert_exporter": "python",
   "pygments_lexer": "ipython3",
   "version": "3.5.4"
  }
 },
 "nbformat": 4,
 "nbformat_minor": 2
}
