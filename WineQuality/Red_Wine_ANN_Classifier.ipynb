{
 "cells": [
  {
   "cell_type": "markdown",
   "metadata": {},
   "source": [
    "## Initialization"
   ]
  },
  {
   "cell_type": "code",
   "execution_count": 1,
   "metadata": {},
   "outputs": [
    {
     "name": "stderr",
     "output_type": "stream",
     "text": [
      "Using Theano backend.\n"
     ]
    }
   ],
   "source": [
    "import pandas as pd\n",
    "import numpy as np\n",
    "import keras"
   ]
  },
  {
   "cell_type": "markdown",
   "metadata": {},
   "source": [
    "## Importing the Data"
   ]
  },
  {
   "cell_type": "code",
   "execution_count": 2,
   "metadata": {},
   "outputs": [
    {
     "data": {
      "text/plain": [
       "(1599, 12)"
      ]
     },
     "execution_count": 2,
     "metadata": {},
     "output_type": "execute_result"
    }
   ],
   "source": [
    "dataset = pd.read_csv(\"winequality-red.csv\")\n",
    "dataset.shape"
   ]
  },
  {
   "cell_type": "code",
   "execution_count": 3,
   "metadata": {},
   "outputs": [
    {
     "data": {
      "text/html": [
       "<div>\n",
       "<style>\n",
       "    .dataframe thead tr:only-child th {\n",
       "        text-align: right;\n",
       "    }\n",
       "\n",
       "    .dataframe thead th {\n",
       "        text-align: left;\n",
       "    }\n",
       "\n",
       "    .dataframe tbody tr th {\n",
       "        vertical-align: top;\n",
       "    }\n",
       "</style>\n",
       "<table border=\"1\" class=\"dataframe\">\n",
       "  <thead>\n",
       "    <tr style=\"text-align: right;\">\n",
       "      <th></th>\n",
       "      <th>fixed acidity</th>\n",
       "      <th>volatile acidity</th>\n",
       "      <th>citric acid</th>\n",
       "      <th>residual sugar</th>\n",
       "      <th>chlorides</th>\n",
       "      <th>free sulfur dioxide</th>\n",
       "      <th>total sulfur dioxide</th>\n",
       "      <th>density</th>\n",
       "      <th>pH</th>\n",
       "      <th>sulphates</th>\n",
       "      <th>alcohol</th>\n",
       "      <th>quality</th>\n",
       "    </tr>\n",
       "  </thead>\n",
       "  <tbody>\n",
       "    <tr>\n",
       "      <th>0</th>\n",
       "      <td>7.4</td>\n",
       "      <td>0.70</td>\n",
       "      <td>0.00</td>\n",
       "      <td>1.9</td>\n",
       "      <td>0.076</td>\n",
       "      <td>11.0</td>\n",
       "      <td>34.0</td>\n",
       "      <td>0.9978</td>\n",
       "      <td>3.51</td>\n",
       "      <td>0.56</td>\n",
       "      <td>9.4</td>\n",
       "      <td>5</td>\n",
       "    </tr>\n",
       "    <tr>\n",
       "      <th>1</th>\n",
       "      <td>7.8</td>\n",
       "      <td>0.88</td>\n",
       "      <td>0.00</td>\n",
       "      <td>2.6</td>\n",
       "      <td>0.098</td>\n",
       "      <td>25.0</td>\n",
       "      <td>67.0</td>\n",
       "      <td>0.9968</td>\n",
       "      <td>3.20</td>\n",
       "      <td>0.68</td>\n",
       "      <td>9.8</td>\n",
       "      <td>5</td>\n",
       "    </tr>\n",
       "    <tr>\n",
       "      <th>2</th>\n",
       "      <td>7.8</td>\n",
       "      <td>0.76</td>\n",
       "      <td>0.04</td>\n",
       "      <td>2.3</td>\n",
       "      <td>0.092</td>\n",
       "      <td>15.0</td>\n",
       "      <td>54.0</td>\n",
       "      <td>0.9970</td>\n",
       "      <td>3.26</td>\n",
       "      <td>0.65</td>\n",
       "      <td>9.8</td>\n",
       "      <td>5</td>\n",
       "    </tr>\n",
       "    <tr>\n",
       "      <th>3</th>\n",
       "      <td>11.2</td>\n",
       "      <td>0.28</td>\n",
       "      <td>0.56</td>\n",
       "      <td>1.9</td>\n",
       "      <td>0.075</td>\n",
       "      <td>17.0</td>\n",
       "      <td>60.0</td>\n",
       "      <td>0.9980</td>\n",
       "      <td>3.16</td>\n",
       "      <td>0.58</td>\n",
       "      <td>9.8</td>\n",
       "      <td>6</td>\n",
       "    </tr>\n",
       "    <tr>\n",
       "      <th>4</th>\n",
       "      <td>7.4</td>\n",
       "      <td>0.70</td>\n",
       "      <td>0.00</td>\n",
       "      <td>1.9</td>\n",
       "      <td>0.076</td>\n",
       "      <td>11.0</td>\n",
       "      <td>34.0</td>\n",
       "      <td>0.9978</td>\n",
       "      <td>3.51</td>\n",
       "      <td>0.56</td>\n",
       "      <td>9.4</td>\n",
       "      <td>5</td>\n",
       "    </tr>\n",
       "  </tbody>\n",
       "</table>\n",
       "</div>"
      ],
      "text/plain": [
       "   fixed acidity  volatile acidity  citric acid  residual sugar  chlorides  \\\n",
       "0            7.4              0.70         0.00             1.9      0.076   \n",
       "1            7.8              0.88         0.00             2.6      0.098   \n",
       "2            7.8              0.76         0.04             2.3      0.092   \n",
       "3           11.2              0.28         0.56             1.9      0.075   \n",
       "4            7.4              0.70         0.00             1.9      0.076   \n",
       "\n",
       "   free sulfur dioxide  total sulfur dioxide  density    pH  sulphates  \\\n",
       "0                 11.0                  34.0   0.9978  3.51       0.56   \n",
       "1                 25.0                  67.0   0.9968  3.20       0.68   \n",
       "2                 15.0                  54.0   0.9970  3.26       0.65   \n",
       "3                 17.0                  60.0   0.9980  3.16       0.58   \n",
       "4                 11.0                  34.0   0.9978  3.51       0.56   \n",
       "\n",
       "   alcohol  quality  \n",
       "0      9.4        5  \n",
       "1      9.8        5  \n",
       "2      9.8        5  \n",
       "3      9.8        6  \n",
       "4      9.4        5  "
      ]
     },
     "execution_count": 3,
     "metadata": {},
     "output_type": "execute_result"
    }
   ],
   "source": [
    "dataset.head()"
   ]
  },
  {
   "cell_type": "markdown",
   "metadata": {},
   "source": [
    "## Creating X and Y"
   ]
  },
  {
   "cell_type": "code",
   "execution_count": 5,
   "metadata": {},
   "outputs": [],
   "source": [
    "X = dataset.iloc[:, 0:11].values\n",
    "Y = dataset.iloc[:, 11].values"
   ]
  },
  {
   "cell_type": "code",
   "execution_count": 6,
   "metadata": {},
   "outputs": [
    {
     "data": {
      "text/plain": [
       "array([[  7.4  ,   0.7  ,   0.   , ...,   3.51 ,   0.56 ,   9.4  ],\n",
       "       [  7.8  ,   0.88 ,   0.   , ...,   3.2  ,   0.68 ,   9.8  ],\n",
       "       [  7.8  ,   0.76 ,   0.04 , ...,   3.26 ,   0.65 ,   9.8  ],\n",
       "       ..., \n",
       "       [  6.3  ,   0.51 ,   0.13 , ...,   3.42 ,   0.75 ,  11.   ],\n",
       "       [  5.9  ,   0.645,   0.12 , ...,   3.57 ,   0.71 ,  10.2  ],\n",
       "       [  6.   ,   0.31 ,   0.47 , ...,   3.39 ,   0.66 ,  11.   ]])"
      ]
     },
     "execution_count": 6,
     "metadata": {},
     "output_type": "execute_result"
    }
   ],
   "source": [
    "X"
   ]
  },
  {
   "cell_type": "code",
   "execution_count": 7,
   "metadata": {},
   "outputs": [
    {
     "data": {
      "text/plain": [
       "array([5, 5, 5, ..., 6, 5, 6], dtype=int64)"
      ]
     },
     "execution_count": 7,
     "metadata": {},
     "output_type": "execute_result"
    }
   ],
   "source": [
    "Y"
   ]
  },
  {
   "cell_type": "markdown",
   "metadata": {},
   "source": [
    "## Preprocess the Data"
   ]
  },
  {
   "cell_type": "code",
   "execution_count": 8,
   "metadata": {
    "collapsed": true
   },
   "outputs": [],
   "source": [
    "from sklearn.preprocessing import LabelEncoder, OneHotEncoder, StandardScaler"
   ]
  },
  {
   "cell_type": "code",
   "execution_count": 9,
   "metadata": {
    "collapsed": true
   },
   "outputs": [],
   "source": [
    "le_Y = LabelEncoder()"
   ]
  },
  {
   "cell_type": "code",
   "execution_count": 10,
   "metadata": {},
   "outputs": [
    {
     "data": {
      "text/plain": [
       "array([2, 2, 2, ..., 3, 2, 3], dtype=int64)"
      ]
     },
     "execution_count": 10,
     "metadata": {},
     "output_type": "execute_result"
    }
   ],
   "source": [
    "Y = le_Y.fit_transform(Y)\n",
    "Y"
   ]
  },
  {
   "cell_type": "code",
   "execution_count": 11,
   "metadata": {
    "collapsed": true
   },
   "outputs": [],
   "source": [
    "Y = Y.reshape(len(Y), 1)\n",
    "ohe_Y = OneHotEncoder(categorical_features = [0])"
   ]
  },
  {
   "cell_type": "code",
   "execution_count": 12,
   "metadata": {},
   "outputs": [
    {
     "data": {
      "text/plain": [
       "array([[ 0.,  0.,  1.,  0.,  0.,  0.],\n",
       "       [ 0.,  0.,  1.,  0.,  0.,  0.],\n",
       "       [ 0.,  0.,  1.,  0.,  0.,  0.],\n",
       "       ..., \n",
       "       [ 0.,  0.,  0.,  1.,  0.,  0.],\n",
       "       [ 0.,  0.,  1.,  0.,  0.,  0.],\n",
       "       [ 0.,  0.,  0.,  1.,  0.,  0.]])"
      ]
     },
     "execution_count": 12,
     "metadata": {},
     "output_type": "execute_result"
    }
   ],
   "source": [
    "Y = ohe_Y.fit_transform(Y).toarray()\n",
    "Y"
   ]
  },
  {
   "cell_type": "code",
   "execution_count": 13,
   "metadata": {
    "collapsed": true
   },
   "outputs": [],
   "source": [
    "sc_X = StandardScaler()"
   ]
  },
  {
   "cell_type": "code",
   "execution_count": 14,
   "metadata": {},
   "outputs": [
    {
     "data": {
      "text/plain": [
       "array([[-0.52835961,  0.96187667, -1.39147228, ...,  1.28864292,\n",
       "        -0.57920652, -0.96024611],\n",
       "       [-0.29854743,  1.96744245, -1.39147228, ..., -0.7199333 ,\n",
       "         0.1289504 , -0.58477711],\n",
       "       [-0.29854743,  1.29706527, -1.18607043, ..., -0.33117661,\n",
       "        -0.04808883, -0.58477711],\n",
       "       ..., \n",
       "       [-1.1603431 , -0.09955388, -0.72391627, ...,  0.70550789,\n",
       "         0.54204194,  0.54162988],\n",
       "       [-1.39015528,  0.65462046, -0.77526673, ...,  1.6773996 ,\n",
       "         0.30598963, -0.20930812],\n",
       "       [-1.33270223, -1.21684919,  1.02199944, ...,  0.51112954,\n",
       "         0.01092425,  0.54162988]])"
      ]
     },
     "execution_count": 14,
     "metadata": {},
     "output_type": "execute_result"
    }
   ],
   "source": [
    "X = sc_X.fit_transform(X)\n",
    "X"
   ]
  },
  {
   "cell_type": "markdown",
   "metadata": {},
   "source": [
    "## Create Train and Test Data"
   ]
  },
  {
   "cell_type": "code",
   "execution_count": 15,
   "metadata": {
    "collapsed": true
   },
   "outputs": [],
   "source": [
    "from sklearn.model_selection import train_test_split\n",
    "X_train, X_test, Y_train, Y_test = train_test_split(X, Y, test_size = 0.2, random_state = 4)"
   ]
  },
  {
   "cell_type": "code",
   "execution_count": 16,
   "metadata": {},
   "outputs": [
    {
     "data": {
      "text/plain": [
       "(1279, 11)"
      ]
     },
     "execution_count": 16,
     "metadata": {},
     "output_type": "execute_result"
    }
   ],
   "source": [
    "X_train.shape"
   ]
  },
  {
   "cell_type": "code",
   "execution_count": 17,
   "metadata": {},
   "outputs": [
    {
     "data": {
      "text/plain": [
       "(320, 11)"
      ]
     },
     "execution_count": 17,
     "metadata": {},
     "output_type": "execute_result"
    }
   ],
   "source": [
    "X_test.shape"
   ]
  },
  {
   "cell_type": "code",
   "execution_count": 18,
   "metadata": {},
   "outputs": [
    {
     "data": {
      "text/plain": [
       "(1279, 6)"
      ]
     },
     "execution_count": 18,
     "metadata": {},
     "output_type": "execute_result"
    }
   ],
   "source": [
    "Y_train.shape"
   ]
  },
  {
   "cell_type": "code",
   "execution_count": 19,
   "metadata": {},
   "outputs": [
    {
     "data": {
      "text/plain": [
       "(320, 6)"
      ]
     },
     "execution_count": 19,
     "metadata": {},
     "output_type": "execute_result"
    }
   ],
   "source": [
    "Y_test.shape"
   ]
  },
  {
   "cell_type": "markdown",
   "metadata": {},
   "source": [
    "## Create and train the Classifier"
   ]
  },
  {
   "cell_type": "code",
   "execution_count": 20,
   "metadata": {
    "collapsed": true
   },
   "outputs": [],
   "source": [
    "from keras.models import Sequential\n",
    "from keras.layers import Dense"
   ]
  },
  {
   "cell_type": "code",
   "execution_count": 63,
   "metadata": {},
   "outputs": [
    {
     "name": "stderr",
     "output_type": "stream",
     "text": [
      "C:\\Users\\user\\Anaconda3\\lib\\site-packages\\ipykernel\\__main__.py:4: UserWarning: Update your `Dense` call to the Keras 2 API: `Dense(activation=\"relu\", units=36, kernel_initializer=\"uniform\", input_dim=11)`\n",
      "C:\\Users\\user\\Anaconda3\\lib\\site-packages\\ipykernel\\__main__.py:7: UserWarning: Update your `Dense` call to the Keras 2 API: `Dense(activation=\"relu\", units=72, kernel_initializer=\"uniform\")`\n",
      "C:\\Users\\user\\Anaconda3\\lib\\site-packages\\ipykernel\\__main__.py:9: UserWarning: Update your `Dense` call to the Keras 2 API: `Dense(activation=\"relu\", units=108, kernel_initializer=\"uniform\")`\n",
      "C:\\Users\\user\\Anaconda3\\lib\\site-packages\\ipykernel\\__main__.py:11: UserWarning: Update your `Dense` call to the Keras 2 API: `Dense(activation=\"relu\", units=144, kernel_initializer=\"uniform\")`\n",
      "C:\\Users\\user\\Anaconda3\\lib\\site-packages\\ipykernel\\__main__.py:13: UserWarning: Update your `Dense` call to the Keras 2 API: `Dense(activation=\"relu\", units=180, kernel_initializer=\"uniform\")`\n",
      "C:\\Users\\user\\Anaconda3\\lib\\site-packages\\ipykernel\\__main__.py:15: UserWarning: Update your `Dense` call to the Keras 2 API: `Dense(activation=\"relu\", units=216, kernel_initializer=\"uniform\")`\n",
      "C:\\Users\\user\\Anaconda3\\lib\\site-packages\\ipykernel\\__main__.py:18: UserWarning: Update your `Dense` call to the Keras 2 API: `Dense(activation=\"softmax\", units=6, kernel_initializer=\"uniform\")`\n",
      "C:\\Users\\user\\Anaconda3\\lib\\site-packages\\keras\\models.py:844: UserWarning: The `nb_epoch` argument in `fit` has been renamed `epochs`.\n",
      "  warnings.warn('The `nb_epoch` argument in `fit` '\n"
     ]
    },
    {
     "name": "stdout",
     "output_type": "stream",
     "text": [
      "Epoch 1/100\n",
      "1279/1279 [==============================] - 0s - loss: 1.2918 - acc: 0.4144     \n",
      "Epoch 2/100\n",
      "1279/1279 [==============================] - 0s - loss: 1.1391 - acc: 0.4605     \n",
      "Epoch 3/100\n",
      "1279/1279 [==============================] - 0s - loss: 1.1285 - acc: 0.5340     \n",
      "Epoch 4/100\n",
      "1279/1279 [==============================] - 0s - loss: 1.0729 - acc: 0.5536     \n",
      "Epoch 5/100\n",
      "1279/1279 [==============================] - 0s - loss: 1.0059 - acc: 0.5825     \n",
      "Epoch 6/100\n",
      "1279/1279 [==============================] - 1s - loss: 0.9780 - acc: 0.5911     \n",
      "Epoch 7/100\n",
      "1279/1279 [==============================] - 1s - loss: 0.9628 - acc: 0.5864     \n",
      "Epoch 8/100\n",
      "1279/1279 [==============================] - 0s - loss: 0.9482 - acc: 0.6005     \n",
      "Epoch 9/100\n",
      "1279/1279 [==============================] - 1s - loss: 0.9483 - acc: 0.5887     \n",
      "Epoch 10/100\n",
      "1279/1279 [==============================] - 1s - loss: 0.9380 - acc: 0.6013     \n",
      "Epoch 11/100\n",
      "1279/1279 [==============================] - 1s - loss: 0.9212 - acc: 0.6310     \n",
      "Epoch 12/100\n",
      "1279/1279 [==============================] - 1s - loss: 0.9074 - acc: 0.6255     \n",
      "Epoch 13/100\n",
      "1279/1279 [==============================] - 1s - loss: 0.9011 - acc: 0.6310     \n",
      "Epoch 14/100\n",
      "1279/1279 [==============================] - 1s - loss: 0.8968 - acc: 0.6372     \n",
      "Epoch 15/100\n",
      "1279/1279 [==============================] - 1s - loss: 0.8848 - acc: 0.6435     \n",
      "Epoch 16/100\n",
      "1279/1279 [==============================] - 1s - loss: 0.8660 - acc: 0.6450     \n",
      "Epoch 17/100\n",
      "1279/1279 [==============================] - 1s - loss: 0.8576 - acc: 0.6443     \n",
      "Epoch 18/100\n",
      "1279/1279 [==============================] - 1s - loss: 0.8503 - acc: 0.6489     \n",
      "Epoch 19/100\n",
      "1279/1279 [==============================] - 1s - loss: 0.8473 - acc: 0.6435     \n",
      "Epoch 20/100\n",
      "1279/1279 [==============================] - 1s - loss: 0.8421 - acc: 0.6529     \n",
      "Epoch 21/100\n",
      "1279/1279 [==============================] - 1s - loss: 0.8200 - acc: 0.6654     \n",
      "Epoch 22/100\n",
      "1279/1279 [==============================] - 1s - loss: 0.8091 - acc: 0.6701     \n",
      "Epoch 23/100\n",
      "1279/1279 [==============================] - 1s - loss: 0.8033 - acc: 0.6794     \n",
      "Epoch 24/100\n",
      "1279/1279 [==============================] - 1s - loss: 0.7979 - acc: 0.6771     \n",
      "Epoch 25/100\n",
      "1279/1279 [==============================] - 1s - loss: 0.7907 - acc: 0.6685     \n",
      "Epoch 26/100\n",
      "1279/1279 [==============================] - 1s - loss: 0.7918 - acc: 0.6771     \n",
      "Epoch 27/100\n",
      "1279/1279 [==============================] - 1s - loss: 0.7593 - acc: 0.6888     \n",
      "Epoch 28/100\n",
      "1279/1279 [==============================] - 1s - loss: 0.7781 - acc: 0.6794     \n",
      "Epoch 29/100\n",
      "1279/1279 [==============================] - 1s - loss: 0.7584 - acc: 0.6974     \n",
      "Epoch 30/100\n",
      "1279/1279 [==============================] - 1s - loss: 0.7567 - acc: 0.6990     \n",
      "Epoch 31/100\n",
      "1279/1279 [==============================] - 1s - loss: 0.7398 - acc: 0.7029     \n",
      "Epoch 32/100\n",
      "1279/1279 [==============================] - 1s - loss: 0.7220 - acc: 0.7029     \n",
      "Epoch 33/100\n",
      "1279/1279 [==============================] - 1s - loss: 0.7188 - acc: 0.7076     \n",
      "Epoch 34/100\n",
      "1279/1279 [==============================] - 1s - loss: 0.7138 - acc: 0.7248     \n",
      "Epoch 35/100\n",
      "1279/1279 [==============================] - 1s - loss: 0.6858 - acc: 0.7209     \n",
      "Epoch 36/100\n",
      "1279/1279 [==============================] - 1s - loss: 0.6813 - acc: 0.7271     \n",
      "Epoch 37/100\n",
      "1279/1279 [==============================] - 1s - loss: 0.6803 - acc: 0.7224     \n",
      "Epoch 38/100\n",
      "1279/1279 [==============================] - 1s - loss: 0.6707 - acc: 0.7412     \n",
      "Epoch 39/100\n",
      "1279/1279 [==============================] - 1s - loss: 0.6475 - acc: 0.7365     \n",
      "Epoch 40/100\n",
      "1279/1279 [==============================] - 1s - loss: 0.6328 - acc: 0.7514     \n",
      "Epoch 41/100\n",
      "1279/1279 [==============================] - 1s - loss: 0.6404 - acc: 0.7529     \n",
      "Epoch 42/100\n",
      "1279/1279 [==============================] - 1s - loss: 0.6162 - acc: 0.7576     \n",
      "Epoch 43/100\n",
      "1279/1279 [==============================] - 1s - loss: 0.6048 - acc: 0.7553     \n",
      "Epoch 44/100\n",
      "1279/1279 [==============================] - 1s - loss: 0.6041 - acc: 0.7576     \n",
      "Epoch 45/100\n",
      "1279/1279 [==============================] - 1s - loss: 0.5570 - acc: 0.7897     \n",
      "Epoch 46/100\n",
      "1279/1279 [==============================] - 1s - loss: 0.5839 - acc: 0.7733     \n",
      "Epoch 47/100\n",
      "1279/1279 [==============================] - 1s - loss: 0.5958 - acc: 0.7647     \n",
      "Epoch 48/100\n",
      "1279/1279 [==============================] - 1s - loss: 0.5679 - acc: 0.7842     \n",
      "Epoch 49/100\n",
      "1279/1279 [==============================] - 1s - loss: 0.5503 - acc: 0.7850     \n",
      "Epoch 50/100\n",
      "1279/1279 [==============================] - 1s - loss: 0.5140 - acc: 0.8084     \n",
      "Epoch 51/100\n",
      "1279/1279 [==============================] - 1s - loss: 0.5369 - acc: 0.7905     \n",
      "Epoch 52/100\n",
      "1279/1279 [==============================] - 1s - loss: 0.4992 - acc: 0.8116     \n",
      "Epoch 53/100\n",
      "1279/1279 [==============================] - 1s - loss: 0.5461 - acc: 0.7881     \n",
      "Epoch 54/100\n",
      "1279/1279 [==============================] - 1s - loss: 0.4970 - acc: 0.8194     \n",
      "Epoch 55/100\n",
      "1279/1279 [==============================] - 1s - loss: 0.4970 - acc: 0.8014     \n",
      "Epoch 56/100\n",
      "1279/1279 [==============================] - 1s - loss: 0.4969 - acc: 0.8108     \n",
      "Epoch 57/100\n",
      "1279/1279 [==============================] - 1s - loss: 0.5008 - acc: 0.8100     \n",
      "Epoch 58/100\n",
      "1279/1279 [==============================] - 1s - loss: 0.4840 - acc: 0.8194     \n",
      "Epoch 59/100\n",
      "1279/1279 [==============================] - 1s - loss: 0.4769 - acc: 0.8202     \n",
      "Epoch 60/100\n",
      "1279/1279 [==============================] - 1s - loss: 0.4623 - acc: 0.8342     \n",
      "Epoch 61/100\n",
      "1279/1279 [==============================] - 1s - loss: 0.4652 - acc: 0.8389     \n",
      "Epoch 62/100\n",
      "1279/1279 [==============================] - 1s - loss: 0.4650 - acc: 0.8280     \n",
      "Epoch 63/100\n",
      "1279/1279 [==============================] - 1s - loss: 0.4264 - acc: 0.8436     \n",
      "Epoch 64/100\n",
      "1279/1279 [==============================] - 1s - loss: 0.4164 - acc: 0.8514     \n",
      "Epoch 65/100\n",
      "1279/1279 [==============================] - 1s - loss: 0.4121 - acc: 0.8468     \n",
      "Epoch 66/100\n",
      "1279/1279 [==============================] - 1s - loss: 0.4167 - acc: 0.8436     \n",
      "Epoch 67/100\n",
      "1279/1279 [==============================] - 1s - loss: 0.3925 - acc: 0.8530     \n",
      "Epoch 68/100\n",
      "1279/1279 [==============================] - 1s - loss: 0.4028 - acc: 0.8546     \n",
      "Epoch 69/100\n",
      "1279/1279 [==============================] - 1s - loss: 0.3951 - acc: 0.8522     \n",
      "Epoch 70/100\n",
      "1279/1279 [==============================] - 1s - loss: 0.4049 - acc: 0.8499     \n",
      "Epoch 71/100\n",
      "1279/1279 [==============================] - 1s - loss: 0.3702 - acc: 0.8624     \n",
      "Epoch 72/100\n",
      "1279/1279 [==============================] - 1s - loss: 0.3991 - acc: 0.8616     \n",
      "Epoch 73/100\n",
      "1279/1279 [==============================] - 1s - loss: 0.3860 - acc: 0.8632     \n",
      "Epoch 74/100\n",
      "1279/1279 [==============================] - 1s - loss: 0.3853 - acc: 0.8663     \n",
      "Epoch 75/100\n",
      "1279/1279 [==============================] - 1s - loss: 0.3624 - acc: 0.8757     \n",
      "Epoch 76/100\n",
      "1279/1279 [==============================] - 1s - loss: 0.3742 - acc: 0.8585     \n",
      "Epoch 77/100\n",
      "1279/1279 [==============================] - 1s - loss: 0.3383 - acc: 0.8772     \n",
      "Epoch 78/100\n",
      "1279/1279 [==============================] - 1s - loss: 0.3500 - acc: 0.8718     \n",
      "Epoch 79/100\n",
      "1279/1279 [==============================] - 1s - loss: 0.3484 - acc: 0.8663     \n",
      "Epoch 80/100\n",
      "1279/1279 [==============================] - 1s - loss: 0.3162 - acc: 0.8890     \n",
      "Epoch 81/100\n",
      "1279/1279 [==============================] - 1s - loss: 0.3138 - acc: 0.8952     \n",
      "Epoch 82/100\n",
      "1279/1279 [==============================] - 1s - loss: 0.3370 - acc: 0.8718     \n",
      "Epoch 83/100\n",
      "1279/1279 [==============================] - 1s - loss: 0.3299 - acc: 0.8788     \n",
      "Epoch 84/100\n",
      "1279/1279 [==============================] - 1s - loss: 0.3065 - acc: 0.8898     \n",
      "Epoch 85/100\n",
      "1279/1279 [==============================] - 1s - loss: 0.3065 - acc: 0.8929     \n",
      "Epoch 86/100\n",
      "1279/1279 [==============================] - 1s - loss: 0.3128 - acc: 0.8851     \n",
      "Epoch 87/100\n"
     ]
    },
    {
     "name": "stdout",
     "output_type": "stream",
     "text": [
      "1279/1279 [==============================] - 1s - loss: 0.2787 - acc: 0.9015     \n",
      "Epoch 88/100\n",
      "1279/1279 [==============================] - 1s - loss: 0.2972 - acc: 0.8960     \n",
      "Epoch 89/100\n",
      "1279/1279 [==============================] - 1s - loss: 0.2726 - acc: 0.9085     \n",
      "Epoch 90/100\n",
      "1279/1279 [==============================] - 1s - loss: 0.3195 - acc: 0.8812     - ETA: 1s - loss: 0.\n",
      "Epoch 91/100\n",
      "1279/1279 [==============================] - 1s - loss: 0.2893 - acc: 0.8952     \n",
      "Epoch 92/100\n",
      "1279/1279 [==============================] - 1s - loss: 0.2504 - acc: 0.9148     \n",
      "Epoch 93/100\n",
      "1279/1279 [==============================] - 1s - loss: 0.2614 - acc: 0.9077     \n",
      "Epoch 94/100\n",
      "1279/1279 [==============================] - 1s - loss: 0.2389 - acc: 0.9218     \n",
      "Epoch 95/100\n",
      "1279/1279 [==============================] - 1s - loss: 0.2512 - acc: 0.9109     \n",
      "Epoch 96/100\n",
      "1279/1279 [==============================] - 1s - loss: 0.2840 - acc: 0.8890     \n",
      "Epoch 97/100\n",
      "1279/1279 [==============================] - 1s - loss: 0.2428 - acc: 0.9116     \n",
      "Epoch 98/100\n",
      "1279/1279 [==============================] - 1s - loss: 0.2529 - acc: 0.9116     \n",
      "Epoch 99/100\n",
      "1279/1279 [==============================] - 1s - loss: 0.2407 - acc: 0.9195     \n",
      "Epoch 100/100\n",
      "1279/1279 [==============================] - 1s - loss: 0.1932 - acc: 0.9359     \n"
     ]
    },
    {
     "data": {
      "text/plain": [
       "<keras.callbacks.History at 0x93794fdc18>"
      ]
     },
     "execution_count": 63,
     "metadata": {},
     "output_type": "execute_result"
    }
   ],
   "source": [
    "clf_ann = Sequential()\n",
    "\n",
    "# First Hidden Layer\n",
    "clf_ann.add(Dense(output_dim = 36, init = 'uniform', activation = 'relu', input_dim = 11))\n",
    "\n",
    "# Second Hidden Layer\n",
    "clf_ann.add(Dense(output_dim = 72, init = 'uniform', activation = 'relu'))\n",
    "\n",
    "clf_ann.add(Dense(output_dim = 108, init = 'uniform', activation = 'relu'))\n",
    "\n",
    "clf_ann.add(Dense(output_dim = 144, init = 'uniform', activation = 'relu'))\n",
    "\n",
    "clf_ann.add(Dense(output_dim = 180, init = 'uniform', activation = 'relu'))\n",
    "\n",
    "clf_ann.add(Dense(output_dim = 216, init = 'uniform', activation = 'relu'))\n",
    "\n",
    "# Output Layer\n",
    "clf_ann.add(Dense(output_dim = 6, init = 'uniform', activation = 'softmax'))\n",
    "\n",
    "clf_ann.compile(optimizer = 'adam', loss = 'categorical_crossentropy', metrics = ['accuracy'])\n",
    "\n",
    "clf_ann.fit(X_train, Y_train, batch_size = 10, nb_epoch = 100)"
   ]
  },
  {
   "cell_type": "code",
   "execution_count": 64,
   "metadata": {
    "collapsed": true
   },
   "outputs": [],
   "source": [
    "Y_pred = clf_ann.predict(X_test)\n",
    "Y_pred = (Y_pred > 0.5)"
   ]
  },
  {
   "cell_type": "markdown",
   "metadata": {},
   "source": [
    "## Check the Accuracy"
   ]
  },
  {
   "cell_type": "code",
   "execution_count": 65,
   "metadata": {},
   "outputs": [
    {
     "data": {
      "text/plain": [
       "0.66874999999999996"
      ]
     },
     "execution_count": 65,
     "metadata": {},
     "output_type": "execute_result"
    }
   ],
   "source": [
    "from sklearn.metrics import accuracy_score\n",
    "accuracy_score(Y_pred, Y_test)"
   ]
  },
  {
   "cell_type": "code",
   "execution_count": null,
   "metadata": {
    "collapsed": true
   },
   "outputs": [],
   "source": []
  }
 ],
 "metadata": {
  "kernelspec": {
   "display_name": "Python [default]",
   "language": "python",
   "name": "python3"
  },
  "language_info": {
   "codemirror_mode": {
    "name": "ipython",
    "version": 3
   },
   "file_extension": ".py",
   "mimetype": "text/x-python",
   "name": "python",
   "nbconvert_exporter": "python",
   "pygments_lexer": "ipython3",
   "version": "3.5.4"
  }
 },
 "nbformat": 4,
 "nbformat_minor": 2
}
