{
 "cells": [
  {
   "cell_type": "markdown",
   "metadata": {},
   "source": [
    "## Initialization"
   ]
  },
  {
   "cell_type": "code",
   "execution_count": 1,
   "metadata": {},
   "outputs": [
    {
     "name": "stderr",
     "output_type": "stream",
     "text": [
      "Using Theano backend.\n"
     ]
    }
   ],
   "source": [
    "import pandas as pd\n",
    "import numpy as np\n",
    "import keras"
   ]
  },
  {
   "cell_type": "markdown",
   "metadata": {},
   "source": [
    "## Importing the Data"
   ]
  },
  {
   "cell_type": "code",
   "execution_count": 2,
   "metadata": {},
   "outputs": [
    {
     "data": {
      "text/plain": [
       "(1599, 12)"
      ]
     },
     "execution_count": 2,
     "metadata": {},
     "output_type": "execute_result"
    }
   ],
   "source": [
    "dataset = pd.read_csv(\"winequality-red.csv\")\n",
    "dataset.shape"
   ]
  },
  {
   "cell_type": "code",
   "execution_count": 3,
   "metadata": {},
   "outputs": [
    {
     "data": {
      "text/html": [
       "<div>\n",
       "<style>\n",
       "    .dataframe thead tr:only-child th {\n",
       "        text-align: right;\n",
       "    }\n",
       "\n",
       "    .dataframe thead th {\n",
       "        text-align: left;\n",
       "    }\n",
       "\n",
       "    .dataframe tbody tr th {\n",
       "        vertical-align: top;\n",
       "    }\n",
       "</style>\n",
       "<table border=\"1\" class=\"dataframe\">\n",
       "  <thead>\n",
       "    <tr style=\"text-align: right;\">\n",
       "      <th></th>\n",
       "      <th>fixed acidity</th>\n",
       "      <th>volatile acidity</th>\n",
       "      <th>citric acid</th>\n",
       "      <th>residual sugar</th>\n",
       "      <th>chlorides</th>\n",
       "      <th>free sulfur dioxide</th>\n",
       "      <th>total sulfur dioxide</th>\n",
       "      <th>density</th>\n",
       "      <th>pH</th>\n",
       "      <th>sulphates</th>\n",
       "      <th>alcohol</th>\n",
       "      <th>quality</th>\n",
       "    </tr>\n",
       "  </thead>\n",
       "  <tbody>\n",
       "    <tr>\n",
       "      <th>0</th>\n",
       "      <td>7.4</td>\n",
       "      <td>0.70</td>\n",
       "      <td>0.00</td>\n",
       "      <td>1.9</td>\n",
       "      <td>0.076</td>\n",
       "      <td>11.0</td>\n",
       "      <td>34.0</td>\n",
       "      <td>0.9978</td>\n",
       "      <td>3.51</td>\n",
       "      <td>0.56</td>\n",
       "      <td>9.4</td>\n",
       "      <td>5</td>\n",
       "    </tr>\n",
       "    <tr>\n",
       "      <th>1</th>\n",
       "      <td>7.8</td>\n",
       "      <td>0.88</td>\n",
       "      <td>0.00</td>\n",
       "      <td>2.6</td>\n",
       "      <td>0.098</td>\n",
       "      <td>25.0</td>\n",
       "      <td>67.0</td>\n",
       "      <td>0.9968</td>\n",
       "      <td>3.20</td>\n",
       "      <td>0.68</td>\n",
       "      <td>9.8</td>\n",
       "      <td>5</td>\n",
       "    </tr>\n",
       "    <tr>\n",
       "      <th>2</th>\n",
       "      <td>7.8</td>\n",
       "      <td>0.76</td>\n",
       "      <td>0.04</td>\n",
       "      <td>2.3</td>\n",
       "      <td>0.092</td>\n",
       "      <td>15.0</td>\n",
       "      <td>54.0</td>\n",
       "      <td>0.9970</td>\n",
       "      <td>3.26</td>\n",
       "      <td>0.65</td>\n",
       "      <td>9.8</td>\n",
       "      <td>5</td>\n",
       "    </tr>\n",
       "    <tr>\n",
       "      <th>3</th>\n",
       "      <td>11.2</td>\n",
       "      <td>0.28</td>\n",
       "      <td>0.56</td>\n",
       "      <td>1.9</td>\n",
       "      <td>0.075</td>\n",
       "      <td>17.0</td>\n",
       "      <td>60.0</td>\n",
       "      <td>0.9980</td>\n",
       "      <td>3.16</td>\n",
       "      <td>0.58</td>\n",
       "      <td>9.8</td>\n",
       "      <td>6</td>\n",
       "    </tr>\n",
       "    <tr>\n",
       "      <th>4</th>\n",
       "      <td>7.4</td>\n",
       "      <td>0.70</td>\n",
       "      <td>0.00</td>\n",
       "      <td>1.9</td>\n",
       "      <td>0.076</td>\n",
       "      <td>11.0</td>\n",
       "      <td>34.0</td>\n",
       "      <td>0.9978</td>\n",
       "      <td>3.51</td>\n",
       "      <td>0.56</td>\n",
       "      <td>9.4</td>\n",
       "      <td>5</td>\n",
       "    </tr>\n",
       "  </tbody>\n",
       "</table>\n",
       "</div>"
      ],
      "text/plain": [
       "   fixed acidity  volatile acidity  citric acid  residual sugar  chlorides  \\\n",
       "0            7.4              0.70         0.00             1.9      0.076   \n",
       "1            7.8              0.88         0.00             2.6      0.098   \n",
       "2            7.8              0.76         0.04             2.3      0.092   \n",
       "3           11.2              0.28         0.56             1.9      0.075   \n",
       "4            7.4              0.70         0.00             1.9      0.076   \n",
       "\n",
       "   free sulfur dioxide  total sulfur dioxide  density    pH  sulphates  \\\n",
       "0                 11.0                  34.0   0.9978  3.51       0.56   \n",
       "1                 25.0                  67.0   0.9968  3.20       0.68   \n",
       "2                 15.0                  54.0   0.9970  3.26       0.65   \n",
       "3                 17.0                  60.0   0.9980  3.16       0.58   \n",
       "4                 11.0                  34.0   0.9978  3.51       0.56   \n",
       "\n",
       "   alcohol  quality  \n",
       "0      9.4        5  \n",
       "1      9.8        5  \n",
       "2      9.8        5  \n",
       "3      9.8        6  \n",
       "4      9.4        5  "
      ]
     },
     "execution_count": 3,
     "metadata": {},
     "output_type": "execute_result"
    }
   ],
   "source": [
    "dataset.head()"
   ]
  },
  {
   "cell_type": "markdown",
   "metadata": {},
   "source": [
    "## Creating X and Y"
   ]
  },
  {
   "cell_type": "code",
   "execution_count": 4,
   "metadata": {
    "collapsed": true
   },
   "outputs": [],
   "source": [
    "X = dataset.iloc[:, 0:11].values\n",
    "Y = dataset.iloc[:, 11].values"
   ]
  },
  {
   "cell_type": "code",
   "execution_count": 5,
   "metadata": {},
   "outputs": [
    {
     "data": {
      "text/plain": [
       "array([  7.4   ,   0.7   ,   0.    ,   1.9   ,   0.076 ,  11.    ,\n",
       "        34.    ,   0.9978,   3.51  ,   0.56  ,   9.4   ])"
      ]
     },
     "execution_count": 5,
     "metadata": {},
     "output_type": "execute_result"
    }
   ],
   "source": [
    "X[0]"
   ]
  },
  {
   "cell_type": "code",
   "execution_count": 6,
   "metadata": {},
   "outputs": [
    {
     "data": {
      "text/plain": [
       "5"
      ]
     },
     "execution_count": 6,
     "metadata": {},
     "output_type": "execute_result"
    }
   ],
   "source": [
    "Y[0]"
   ]
  },
  {
   "cell_type": "markdown",
   "metadata": {},
   "source": [
    "## Preprocess the Data"
   ]
  },
  {
   "cell_type": "code",
   "execution_count": 7,
   "metadata": {
    "collapsed": true
   },
   "outputs": [],
   "source": [
    "from sklearn.preprocessing import LabelEncoder, OneHotEncoder, StandardScaler"
   ]
  },
  {
   "cell_type": "code",
   "execution_count": 8,
   "metadata": {
    "collapsed": true
   },
   "outputs": [],
   "source": [
    "le_Y = LabelEncoder()"
   ]
  },
  {
   "cell_type": "code",
   "execution_count": 9,
   "metadata": {},
   "outputs": [
    {
     "data": {
      "text/plain": [
       "2"
      ]
     },
     "execution_count": 9,
     "metadata": {},
     "output_type": "execute_result"
    }
   ],
   "source": [
    "Y = le_Y.fit_transform(Y)\n",
    "Y[0]"
   ]
  },
  {
   "cell_type": "code",
   "execution_count": 10,
   "metadata": {
    "collapsed": true
   },
   "outputs": [],
   "source": [
    "Y = Y.reshape(len(Y), 1)\n",
    "ohe_Y = OneHotEncoder(categorical_features = [0])"
   ]
  },
  {
   "cell_type": "code",
   "execution_count": 11,
   "metadata": {},
   "outputs": [
    {
     "data": {
      "text/plain": [
       "array([ 0.,  0.,  1.,  0.,  0.,  0.])"
      ]
     },
     "execution_count": 11,
     "metadata": {},
     "output_type": "execute_result"
    }
   ],
   "source": [
    "Y = ohe_Y.fit_transform(Y).toarray()\n",
    "Y[0]"
   ]
  },
  {
   "cell_type": "code",
   "execution_count": 12,
   "metadata": {
    "collapsed": true
   },
   "outputs": [],
   "source": [
    "sc_X = StandardScaler()"
   ]
  },
  {
   "cell_type": "code",
   "execution_count": 13,
   "metadata": {},
   "outputs": [
    {
     "data": {
      "text/plain": [
       "array([-0.52835961,  0.96187667, -1.39147228, -0.45321841, -0.24370669,\n",
       "       -0.46619252, -0.37913269,  0.55827446,  1.28864292, -0.57920652,\n",
       "       -0.96024611])"
      ]
     },
     "execution_count": 13,
     "metadata": {},
     "output_type": "execute_result"
    }
   ],
   "source": [
    "X = sc_X.fit_transform(X)\n",
    "X[0]"
   ]
  },
  {
   "cell_type": "markdown",
   "metadata": {},
   "source": [
    "## Create Train and Test Data"
   ]
  },
  {
   "cell_type": "code",
   "execution_count": 14,
   "metadata": {
    "collapsed": true
   },
   "outputs": [],
   "source": [
    "from sklearn.model_selection import train_test_split\n",
    "X_train, X_test, Y_train, Y_test = train_test_split(X, Y, test_size = 0.2, random_state = 4)"
   ]
  },
  {
   "cell_type": "code",
   "execution_count": 15,
   "metadata": {},
   "outputs": [
    {
     "data": {
      "text/plain": [
       "(1279, 11)"
      ]
     },
     "execution_count": 15,
     "metadata": {},
     "output_type": "execute_result"
    }
   ],
   "source": [
    "X_train.shape"
   ]
  },
  {
   "cell_type": "code",
   "execution_count": 16,
   "metadata": {},
   "outputs": [
    {
     "data": {
      "text/plain": [
       "(320, 11)"
      ]
     },
     "execution_count": 16,
     "metadata": {},
     "output_type": "execute_result"
    }
   ],
   "source": [
    "X_test.shape"
   ]
  },
  {
   "cell_type": "code",
   "execution_count": 17,
   "metadata": {},
   "outputs": [
    {
     "data": {
      "text/plain": [
       "(1279, 6)"
      ]
     },
     "execution_count": 17,
     "metadata": {},
     "output_type": "execute_result"
    }
   ],
   "source": [
    "Y_train.shape"
   ]
  },
  {
   "cell_type": "code",
   "execution_count": 18,
   "metadata": {},
   "outputs": [
    {
     "data": {
      "text/plain": [
       "(320, 6)"
      ]
     },
     "execution_count": 18,
     "metadata": {},
     "output_type": "execute_result"
    }
   ],
   "source": [
    "Y_test.shape"
   ]
  },
  {
   "cell_type": "markdown",
   "metadata": {},
   "source": [
    "## Create and train the Classifier"
   ]
  },
  {
   "cell_type": "code",
   "execution_count": 19,
   "metadata": {
    "collapsed": true
   },
   "outputs": [],
   "source": [
    "from keras.models import Sequential\n",
    "from keras.layers import Dense"
   ]
  },
  {
   "cell_type": "code",
   "execution_count": 20,
   "metadata": {},
   "outputs": [
    {
     "name": "stderr",
     "output_type": "stream",
     "text": [
      "C:\\Users\\user\\Anaconda3\\lib\\site-packages\\ipykernel\\__main__.py:4: UserWarning: Update your `Dense` call to the Keras 2 API: `Dense(kernel_initializer=\"uniform\", units=8, activation=\"relu\", input_dim=11)`\n",
      "C:\\Users\\user\\Anaconda3\\lib\\site-packages\\ipykernel\\__main__.py:7: UserWarning: Update your `Dense` call to the Keras 2 API: `Dense(units=6, activation=\"softmax\", kernel_initializer=\"uniform\")`\n",
      "C:\\Users\\user\\Anaconda3\\lib\\site-packages\\keras\\models.py:844: UserWarning: The `nb_epoch` argument in `fit` has been renamed `epochs`.\n",
      "  warnings.warn('The `nb_epoch` argument in `fit` '\n"
     ]
    },
    {
     "name": "stdout",
     "output_type": "stream",
     "text": [
      "Epoch 1/100\n",
      "1279/1279 [==============================] - 0s - loss: 1.6740 - acc: 0.5442     \n",
      "Epoch 2/100\n",
      "1279/1279 [==============================] - 0s - loss: 1.3084 - acc: 0.5528     \n",
      "Epoch 3/100\n",
      "1279/1279 [==============================] - 0s - loss: 1.1193 - acc: 0.5598     \n",
      "Epoch 4/100\n",
      "1279/1279 [==============================] - 0s - loss: 1.0532 - acc: 0.5723     \n",
      "Epoch 5/100\n",
      "1279/1279 [==============================] - 0s - loss: 1.0189 - acc: 0.5825     \n",
      "Epoch 6/100\n",
      "1279/1279 [==============================] - 0s - loss: 1.0001 - acc: 0.5833     \n",
      "Epoch 7/100\n",
      "1279/1279 [==============================] - 0s - loss: 0.9867 - acc: 0.5927     \n",
      "Epoch 8/100\n",
      "1279/1279 [==============================] - 0s - loss: 0.9756 - acc: 0.5997     \n",
      "Epoch 9/100\n",
      "1279/1279 [==============================] - 0s - loss: 0.9664 - acc: 0.5997     \n",
      "Epoch 10/100\n",
      "1279/1279 [==============================] - 0s - loss: 0.9585 - acc: 0.5958     \n",
      "Epoch 11/100\n",
      "1279/1279 [==============================] - 0s - loss: 0.9518 - acc: 0.6005     \n",
      "Epoch 12/100\n",
      "1279/1279 [==============================] - 0s - loss: 0.9466 - acc: 0.6013     \n",
      "Epoch 13/100\n",
      "1279/1279 [==============================] - 0s - loss: 0.9417 - acc: 0.6083     \n",
      "Epoch 14/100\n",
      "1279/1279 [==============================] - 0s - loss: 0.9390 - acc: 0.6059     \n",
      "Epoch 15/100\n",
      "1279/1279 [==============================] - 0s - loss: 0.9353 - acc: 0.6114     \n",
      "Epoch 16/100\n",
      "1279/1279 [==============================] - 0s - loss: 0.9320 - acc: 0.6177     \n",
      "Epoch 17/100\n",
      "1279/1279 [==============================] - 0s - loss: 0.9300 - acc: 0.6185     \n",
      "Epoch 18/100\n",
      "1279/1279 [==============================] - 0s - loss: 0.9275 - acc: 0.6106     \n",
      "Epoch 19/100\n",
      "1279/1279 [==============================] - 0s - loss: 0.9260 - acc: 0.6216     \n",
      "Epoch 20/100\n",
      "1279/1279 [==============================] - 0s - loss: 0.9245 - acc: 0.6192     \n",
      "Epoch 21/100\n",
      "1279/1279 [==============================] - 0s - loss: 0.9218 - acc: 0.6114     \n",
      "Epoch 22/100\n",
      "1279/1279 [==============================] - 0s - loss: 0.9190 - acc: 0.6177     \n",
      "Epoch 23/100\n",
      "1279/1279 [==============================] - 0s - loss: 0.9176 - acc: 0.6153     \n",
      "Epoch 24/100\n",
      "1279/1279 [==============================] - 0s - loss: 0.9171 - acc: 0.6153     \n",
      "Epoch 25/100\n",
      "1279/1279 [==============================] - 0s - loss: 0.9151 - acc: 0.6177     \n",
      "Epoch 26/100\n",
      "1279/1279 [==============================] - 0s - loss: 0.9133 - acc: 0.6200     \n",
      "Epoch 27/100\n",
      "1279/1279 [==============================] - 0s - loss: 0.9116 - acc: 0.6177     \n",
      "Epoch 28/100\n",
      "1279/1279 [==============================] - 0s - loss: 0.9106 - acc: 0.6177     \n",
      "Epoch 29/100\n",
      "1279/1279 [==============================] - 0s - loss: 0.9087 - acc: 0.6177     \n",
      "Epoch 30/100\n",
      "1279/1279 [==============================] - 0s - loss: 0.9080 - acc: 0.6122     \n",
      "Epoch 31/100\n",
      "1279/1279 [==============================] - 0s - loss: 0.9073 - acc: 0.6185     \n",
      "Epoch 32/100\n",
      "1279/1279 [==============================] - 0s - loss: 0.9058 - acc: 0.6099     \n",
      "Epoch 33/100\n",
      "1279/1279 [==============================] - 0s - loss: 0.9038 - acc: 0.6138     \n",
      "Epoch 34/100\n",
      "1279/1279 [==============================] - 0s - loss: 0.9039 - acc: 0.6122     \n",
      "Epoch 35/100\n",
      "1279/1279 [==============================] - 0s - loss: 0.9022 - acc: 0.6169     \n",
      "Epoch 36/100\n",
      "1279/1279 [==============================] - 0s - loss: 0.9014 - acc: 0.6185     \n",
      "Epoch 37/100\n",
      "1279/1279 [==============================] - 0s - loss: 0.9003 - acc: 0.6231     \n",
      "Epoch 38/100\n",
      "1279/1279 [==============================] - 0s - loss: 0.8992 - acc: 0.6130     \n",
      "Epoch 39/100\n",
      "1279/1279 [==============================] - 0s - loss: 0.8982 - acc: 0.6185     \n",
      "Epoch 40/100\n",
      "1279/1279 [==============================] - 0s - loss: 0.8973 - acc: 0.6138     \n",
      "Epoch 41/100\n",
      "1279/1279 [==============================] - 0s - loss: 0.8974 - acc: 0.6185     \n",
      "Epoch 42/100\n",
      "1279/1279 [==============================] - 0s - loss: 0.8960 - acc: 0.6099     \n",
      "Epoch 43/100\n",
      "1279/1279 [==============================] - 0s - loss: 0.8961 - acc: 0.6231     \n",
      "Epoch 44/100\n",
      "1279/1279 [==============================] - 0s - loss: 0.8952 - acc: 0.6185     \n",
      "Epoch 45/100\n",
      "1279/1279 [==============================] - 0s - loss: 0.8953 - acc: 0.6208     \n",
      "Epoch 46/100\n",
      "1279/1279 [==============================] - 0s - loss: 0.8938 - acc: 0.6208     \n",
      "Epoch 47/100\n",
      "1279/1279 [==============================] - 0s - loss: 0.8939 - acc: 0.6169     \n",
      "Epoch 48/100\n",
      "1279/1279 [==============================] - 0s - loss: 0.8928 - acc: 0.6239     \n",
      "Epoch 49/100\n",
      "1279/1279 [==============================] - 0s - loss: 0.8922 - acc: 0.6208     \n",
      "Epoch 50/100\n",
      "1279/1279 [==============================] - 0s - loss: 0.8911 - acc: 0.6185     \n",
      "Epoch 51/100\n",
      "1279/1279 [==============================] - 0s - loss: 0.8920 - acc: 0.6216     \n",
      "Epoch 52/100\n",
      "1279/1279 [==============================] - 0s - loss: 0.8900 - acc: 0.6216     \n",
      "Epoch 53/100\n",
      "1279/1279 [==============================] - 0s - loss: 0.8904 - acc: 0.6208     \n",
      "Epoch 54/100\n",
      "1279/1279 [==============================] - 0s - loss: 0.8892 - acc: 0.6239     \n",
      "Epoch 55/100\n",
      "1279/1279 [==============================] - 0s - loss: 0.8890 - acc: 0.6231     \n",
      "Epoch 56/100\n",
      "1279/1279 [==============================] - 0s - loss: 0.8889 - acc: 0.6255     \n",
      "Epoch 57/100\n",
      "1279/1279 [==============================] - 0s - loss: 0.8882 - acc: 0.6247     \n",
      "Epoch 58/100\n",
      "1279/1279 [==============================] - 0s - loss: 0.8873 - acc: 0.6216     \n",
      "Epoch 59/100\n",
      "1279/1279 [==============================] - 0s - loss: 0.8877 - acc: 0.6231     \n",
      "Epoch 60/100\n",
      "1279/1279 [==============================] - 0s - loss: 0.8866 - acc: 0.6177     \n",
      "Epoch 61/100\n",
      "1279/1279 [==============================] - 0s - loss: 0.8856 - acc: 0.6200     \n",
      "Epoch 62/100\n",
      "1279/1279 [==============================] - 0s - loss: 0.8861 - acc: 0.6200     \n",
      "Epoch 63/100\n",
      "1279/1279 [==============================] - 0s - loss: 0.8851 - acc: 0.6271     \n",
      "Epoch 64/100\n",
      "1279/1279 [==============================] - 0s - loss: 0.8853 - acc: 0.6231     \n",
      "Epoch 65/100\n",
      "1279/1279 [==============================] - 0s - loss: 0.8848 - acc: 0.6216     \n",
      "Epoch 66/100\n",
      "1279/1279 [==============================] - 0s - loss: 0.8843 - acc: 0.6231     \n",
      "Epoch 67/100\n",
      "1279/1279 [==============================] - 0s - loss: 0.8853 - acc: 0.6185     \n",
      "Epoch 68/100\n",
      "1279/1279 [==============================] - 0s - loss: 0.8835 - acc: 0.6216     \n",
      "Epoch 69/100\n",
      "1279/1279 [==============================] - 0s - loss: 0.8828 - acc: 0.6208     \n",
      "Epoch 70/100\n",
      "1279/1279 [==============================] - 0s - loss: 0.8827 - acc: 0.6208     \n",
      "Epoch 71/100\n",
      "1279/1279 [==============================] - 0s - loss: 0.8819 - acc: 0.6231     \n",
      "Epoch 72/100\n",
      "1279/1279 [==============================] - 0s - loss: 0.8821 - acc: 0.6271     \n",
      "Epoch 73/100\n",
      "1279/1279 [==============================] - 0s - loss: 0.8814 - acc: 0.6216     \n",
      "Epoch 74/100\n",
      "1279/1279 [==============================] - 0s - loss: 0.8805 - acc: 0.6216     \n",
      "Epoch 75/100\n",
      "1279/1279 [==============================] - 0s - loss: 0.8804 - acc: 0.6255     \n",
      "Epoch 76/100\n",
      "1279/1279 [==============================] - 0s - loss: 0.8801 - acc: 0.6224     \n",
      "Epoch 77/100\n",
      "1279/1279 [==============================] - 0s - loss: 0.8804 - acc: 0.6271     \n",
      "Epoch 78/100\n",
      "1279/1279 [==============================] - 0s - loss: 0.8802 - acc: 0.6255     \n",
      "Epoch 79/100\n",
      "1279/1279 [==============================] - 0s - loss: 0.8790 - acc: 0.6224     \n",
      "Epoch 80/100\n",
      "1279/1279 [==============================] - 0s - loss: 0.8780 - acc: 0.6208     \n",
      "Epoch 81/100\n",
      "1279/1279 [==============================] - 0s - loss: 0.8789 - acc: 0.6231     \n",
      "Epoch 82/100\n",
      "1279/1279 [==============================] - 0s - loss: 0.8779 - acc: 0.6294     \n",
      "Epoch 83/100\n",
      "1279/1279 [==============================] - 0s - loss: 0.8780 - acc: 0.6247     \n",
      "Epoch 84/100\n",
      "1279/1279 [==============================] - 0s - loss: 0.8775 - acc: 0.6247     \n",
      "Epoch 85/100\n",
      "1279/1279 [==============================] - 0s - loss: 0.8775 - acc: 0.6263     \n",
      "Epoch 86/100\n",
      "1279/1279 [==============================] - 0s - loss: 0.8767 - acc: 0.6317     \n",
      "Epoch 87/100\n"
     ]
    },
    {
     "name": "stdout",
     "output_type": "stream",
     "text": [
      "1279/1279 [==============================] - 0s - loss: 0.8769 - acc: 0.6216     \n",
      "Epoch 88/100\n",
      "1279/1279 [==============================] - 0s - loss: 0.8771 - acc: 0.6255     \n",
      "Epoch 89/100\n",
      "1279/1279 [==============================] - 0s - loss: 0.8761 - acc: 0.6216     \n",
      "Epoch 90/100\n",
      "1279/1279 [==============================] - 0s - loss: 0.8752 - acc: 0.6255     \n",
      "Epoch 91/100\n",
      "1279/1279 [==============================] - 0s - loss: 0.8759 - acc: 0.6224     \n",
      "Epoch 92/100\n",
      "1279/1279 [==============================] - 0s - loss: 0.8757 - acc: 0.6185     \n",
      "Epoch 93/100\n",
      "1279/1279 [==============================] - 0s - loss: 0.8748 - acc: 0.6247     \n",
      "Epoch 94/100\n",
      "1279/1279 [==============================] - 0s - loss: 0.8750 - acc: 0.6177     \n",
      "Epoch 95/100\n",
      "1279/1279 [==============================] - 0s - loss: 0.8747 - acc: 0.6231     \n",
      "Epoch 96/100\n",
      "1279/1279 [==============================] - 0s - loss: 0.8740 - acc: 0.6271     \n",
      "Epoch 97/100\n",
      "1279/1279 [==============================] - 0s - loss: 0.8738 - acc: 0.6341     \n",
      "Epoch 98/100\n",
      "1279/1279 [==============================] - 0s - loss: 0.8728 - acc: 0.6185     \n",
      "Epoch 99/100\n",
      "1279/1279 [==============================] - 0s - loss: 0.8740 - acc: 0.6231     \n",
      "Epoch 100/100\n",
      "1279/1279 [==============================] - 0s - loss: 0.8734 - acc: 0.6263     \n"
     ]
    },
    {
     "data": {
      "text/plain": [
       "<keras.callbacks.History at 0xf363cf2908>"
      ]
     },
     "execution_count": 20,
     "metadata": {},
     "output_type": "execute_result"
    }
   ],
   "source": [
    "clf_ann = Sequential()\n",
    "\n",
    "# First Hidden Layer\n",
    "clf_ann.add(Dense(output_dim = 8, init = 'uniform', activation = 'relu', input_dim = 11))\n",
    "\n",
    "# Output Layer\n",
    "clf_ann.add(Dense(output_dim = 6, init = 'uniform', activation = 'softmax'))\n",
    "\n",
    "clf_ann.compile(optimizer = 'adam', loss = 'categorical_crossentropy', metrics = ['accuracy'])\n",
    "\n",
    "clf_ann.fit(X_train, Y_train, batch_size = 10, nb_epoch = 100)"
   ]
  },
  {
   "cell_type": "code",
   "execution_count": 21,
   "metadata": {
    "collapsed": true
   },
   "outputs": [],
   "source": [
    "Y_pred = clf_ann.predict(X_test)\n",
    "Y_pred_class = np.argmax(Y_pred, axis = 1)\n",
    "Y_test_class = np.argmax(Y_test, axis = 1)"
   ]
  },
  {
   "cell_type": "markdown",
   "metadata": {},
   "source": [
    "## Check the Accuracy"
   ]
  },
  {
   "cell_type": "code",
   "execution_count": 22,
   "metadata": {},
   "outputs": [
    {
     "data": {
      "text/plain": [
       "0.62187499999999996"
      ]
     },
     "execution_count": 22,
     "metadata": {},
     "output_type": "execute_result"
    }
   ],
   "source": [
    "from sklearn.metrics import accuracy_score, confusion_matrix\n",
    "accuracy_score(Y_test_class, Y_pred_class)"
   ]
  },
  {
   "cell_type": "code",
   "execution_count": 23,
   "metadata": {},
   "outputs": [
    {
     "data": {
      "text/plain": [
       "array([[  0,   1,   0,   1,   0,   0],\n",
       "       [  0,   0,   7,   4,   0,   0],\n",
       "       [  0,   2, 110,  32,   2,   0],\n",
       "       [  0,   0,  35,  73,  10,   0],\n",
       "       [  0,   0,   0,  25,  16,   0],\n",
       "       [  0,   0,   0,   2,   0,   0]], dtype=int64)"
      ]
     },
     "execution_count": 23,
     "metadata": {},
     "output_type": "execute_result"
    }
   ],
   "source": [
    "confusion_matrix(Y_test_class, Y_pred_class)"
   ]
  },
  {
   "cell_type": "code",
   "execution_count": null,
   "metadata": {
    "collapsed": true
   },
   "outputs": [],
   "source": []
  }
 ],
 "metadata": {
  "kernelspec": {
   "display_name": "Python [default]",
   "language": "python",
   "name": "python3"
  },
  "language_info": {
   "codemirror_mode": {
    "name": "ipython",
    "version": 3
   },
   "file_extension": ".py",
   "mimetype": "text/x-python",
   "name": "python",
   "nbconvert_exporter": "python",
   "pygments_lexer": "ipython3",
   "version": "3.5.4"
  }
 },
 "nbformat": 4,
 "nbformat_minor": 2
}
