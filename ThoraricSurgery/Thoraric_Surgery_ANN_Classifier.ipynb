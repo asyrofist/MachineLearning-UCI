{
 "cells": [
  {
   "cell_type": "markdown",
   "metadata": {},
   "source": [
    "## Initialization"
   ]
  },
  {
   "cell_type": "code",
   "execution_count": 1,
   "metadata": {},
   "outputs": [
    {
     "name": "stderr",
     "output_type": "stream",
     "text": [
      "Using Theano backend.\n"
     ]
    }
   ],
   "source": [
    "import pandas as pd\n",
    "import numpy as np\n",
    "import keras"
   ]
  },
  {
   "cell_type": "markdown",
   "metadata": {},
   "source": [
    "## Importing the Data"
   ]
  },
  {
   "cell_type": "code",
   "execution_count": 2,
   "metadata": {},
   "outputs": [
    {
     "data": {
      "text/plain": [
       "(470, 17)"
      ]
     },
     "execution_count": 2,
     "metadata": {},
     "output_type": "execute_result"
    }
   ],
   "source": [
    "dataset = pd.read_csv('ThoraricSurgery.csv', header = None)\n",
    "dataset.shape"
   ]
  },
  {
   "cell_type": "code",
   "execution_count": 3,
   "metadata": {},
   "outputs": [
    {
     "data": {
      "text/html": [
       "<div>\n",
       "<style>\n",
       "    .dataframe thead tr:only-child th {\n",
       "        text-align: right;\n",
       "    }\n",
       "\n",
       "    .dataframe thead th {\n",
       "        text-align: left;\n",
       "    }\n",
       "\n",
       "    .dataframe tbody tr th {\n",
       "        vertical-align: top;\n",
       "    }\n",
       "</style>\n",
       "<table border=\"1\" class=\"dataframe\">\n",
       "  <thead>\n",
       "    <tr style=\"text-align: right;\">\n",
       "      <th></th>\n",
       "      <th>0</th>\n",
       "      <th>1</th>\n",
       "      <th>2</th>\n",
       "      <th>3</th>\n",
       "      <th>4</th>\n",
       "      <th>5</th>\n",
       "      <th>6</th>\n",
       "      <th>7</th>\n",
       "      <th>8</th>\n",
       "      <th>9</th>\n",
       "      <th>10</th>\n",
       "      <th>11</th>\n",
       "      <th>12</th>\n",
       "      <th>13</th>\n",
       "      <th>14</th>\n",
       "      <th>15</th>\n",
       "      <th>16</th>\n",
       "    </tr>\n",
       "  </thead>\n",
       "  <tbody>\n",
       "    <tr>\n",
       "      <th>0</th>\n",
       "      <td>DGN2</td>\n",
       "      <td>2.88</td>\n",
       "      <td>2.16</td>\n",
       "      <td>PRZ1</td>\n",
       "      <td>F</td>\n",
       "      <td>F</td>\n",
       "      <td>F</td>\n",
       "      <td>T</td>\n",
       "      <td>T</td>\n",
       "      <td>OC14</td>\n",
       "      <td>F</td>\n",
       "      <td>F</td>\n",
       "      <td>F</td>\n",
       "      <td>T</td>\n",
       "      <td>F</td>\n",
       "      <td>60</td>\n",
       "      <td>F</td>\n",
       "    </tr>\n",
       "    <tr>\n",
       "      <th>1</th>\n",
       "      <td>DGN3</td>\n",
       "      <td>3.40</td>\n",
       "      <td>1.88</td>\n",
       "      <td>PRZ0</td>\n",
       "      <td>F</td>\n",
       "      <td>F</td>\n",
       "      <td>F</td>\n",
       "      <td>F</td>\n",
       "      <td>F</td>\n",
       "      <td>OC12</td>\n",
       "      <td>F</td>\n",
       "      <td>F</td>\n",
       "      <td>F</td>\n",
       "      <td>T</td>\n",
       "      <td>F</td>\n",
       "      <td>51</td>\n",
       "      <td>F</td>\n",
       "    </tr>\n",
       "    <tr>\n",
       "      <th>2</th>\n",
       "      <td>DGN3</td>\n",
       "      <td>2.76</td>\n",
       "      <td>2.08</td>\n",
       "      <td>PRZ1</td>\n",
       "      <td>F</td>\n",
       "      <td>F</td>\n",
       "      <td>F</td>\n",
       "      <td>T</td>\n",
       "      <td>F</td>\n",
       "      <td>OC11</td>\n",
       "      <td>F</td>\n",
       "      <td>F</td>\n",
       "      <td>F</td>\n",
       "      <td>T</td>\n",
       "      <td>F</td>\n",
       "      <td>59</td>\n",
       "      <td>F</td>\n",
       "    </tr>\n",
       "    <tr>\n",
       "      <th>3</th>\n",
       "      <td>DGN3</td>\n",
       "      <td>3.68</td>\n",
       "      <td>3.04</td>\n",
       "      <td>PRZ0</td>\n",
       "      <td>F</td>\n",
       "      <td>F</td>\n",
       "      <td>F</td>\n",
       "      <td>F</td>\n",
       "      <td>F</td>\n",
       "      <td>OC11</td>\n",
       "      <td>F</td>\n",
       "      <td>F</td>\n",
       "      <td>F</td>\n",
       "      <td>F</td>\n",
       "      <td>F</td>\n",
       "      <td>54</td>\n",
       "      <td>F</td>\n",
       "    </tr>\n",
       "    <tr>\n",
       "      <th>4</th>\n",
       "      <td>DGN3</td>\n",
       "      <td>2.44</td>\n",
       "      <td>0.96</td>\n",
       "      <td>PRZ2</td>\n",
       "      <td>F</td>\n",
       "      <td>T</td>\n",
       "      <td>F</td>\n",
       "      <td>T</td>\n",
       "      <td>T</td>\n",
       "      <td>OC11</td>\n",
       "      <td>F</td>\n",
       "      <td>F</td>\n",
       "      <td>F</td>\n",
       "      <td>T</td>\n",
       "      <td>F</td>\n",
       "      <td>73</td>\n",
       "      <td>T</td>\n",
       "    </tr>\n",
       "  </tbody>\n",
       "</table>\n",
       "</div>"
      ],
      "text/plain": [
       "     0     1     2     3  4  5  6  7  8     9  10 11 12 13 14  15 16\n",
       "0  DGN2  2.88  2.16  PRZ1  F  F  F  T  T  OC14  F  F  F  T  F  60  F\n",
       "1  DGN3  3.40  1.88  PRZ0  F  F  F  F  F  OC12  F  F  F  T  F  51  F\n",
       "2  DGN3  2.76  2.08  PRZ1  F  F  F  T  F  OC11  F  F  F  T  F  59  F\n",
       "3  DGN3  3.68  3.04  PRZ0  F  F  F  F  F  OC11  F  F  F  F  F  54  F\n",
       "4  DGN3  2.44  0.96  PRZ2  F  T  F  T  T  OC11  F  F  F  T  F  73  T"
      ]
     },
     "execution_count": 3,
     "metadata": {},
     "output_type": "execute_result"
    }
   ],
   "source": [
    "dataset.head()"
   ]
  },
  {
   "cell_type": "markdown",
   "metadata": {},
   "source": [
    "## Create X and Y"
   ]
  },
  {
   "cell_type": "code",
   "execution_count": 4,
   "metadata": {
    "collapsed": true
   },
   "outputs": [],
   "source": [
    "X = dataset.iloc[:, 0:16].values\n",
    "Y = dataset.iloc[:, 16].values"
   ]
  },
  {
   "cell_type": "code",
   "execution_count": 5,
   "metadata": {},
   "outputs": [
    {
     "data": {
      "text/plain": [
       "(470, 16)"
      ]
     },
     "execution_count": 5,
     "metadata": {},
     "output_type": "execute_result"
    }
   ],
   "source": [
    "X.shape"
   ]
  },
  {
   "cell_type": "code",
   "execution_count": 6,
   "metadata": {},
   "outputs": [
    {
     "data": {
      "text/plain": [
       "(470,)"
      ]
     },
     "execution_count": 6,
     "metadata": {},
     "output_type": "execute_result"
    }
   ],
   "source": [
    "Y.shape"
   ]
  },
  {
   "cell_type": "code",
   "execution_count": 7,
   "metadata": {},
   "outputs": [
    {
     "data": {
      "text/plain": [
       "array([['DGN2', 2.88, 2.16, ..., 'T', 'F', 60],\n",
       "       ['DGN3', 3.4, 1.88, ..., 'T', 'F', 51],\n",
       "       ['DGN3', 2.76, 2.08, ..., 'T', 'F', 59],\n",
       "       ..., \n",
       "       ['DGN3', 3.04, 2.08, ..., 'F', 'F', 52],\n",
       "       ['DGN3', 1.96, 1.68, ..., 'T', 'F', 79],\n",
       "       ['DGN3', 4.72, 3.56, ..., 'T', 'F', 51]], dtype=object)"
      ]
     },
     "execution_count": 7,
     "metadata": {},
     "output_type": "execute_result"
    }
   ],
   "source": [
    "X"
   ]
  },
  {
   "cell_type": "markdown",
   "metadata": {},
   "source": [
    "## Preprocess the Data"
   ]
  },
  {
   "cell_type": "code",
   "execution_count": 8,
   "metadata": {
    "collapsed": true
   },
   "outputs": [],
   "source": [
    "from sklearn.preprocessing import LabelEncoder, OneHotEncoder, StandardScaler"
   ]
  },
  {
   "cell_type": "code",
   "execution_count": 9,
   "metadata": {
    "collapsed": true
   },
   "outputs": [],
   "source": [
    "le_Y = LabelEncoder()"
   ]
  },
  {
   "cell_type": "code",
   "execution_count": 10,
   "metadata": {},
   "outputs": [
    {
     "data": {
      "text/plain": [
       "array([0, 0, 0, 0, 1, 0, 1, 1, 0, 0, 0, 0, 0, 1, 0, 0, 0, 0, 0, 0, 0, 0, 0,\n",
       "       0, 1, 0, 0, 1, 0, 0, 1, 0, 0, 0, 0, 0, 0, 0, 0, 0, 1, 1, 0, 1, 0, 0,\n",
       "       0, 1, 0, 0, 0, 0, 0, 0, 0, 0, 0, 1, 0, 0, 1, 0, 0, 0, 0, 0, 0, 1, 0,\n",
       "       0, 0, 0, 0, 0, 0, 1, 0, 1, 0, 0, 0, 0, 0, 0, 0, 0, 0, 0, 0, 0, 0, 0,\n",
       "       1, 0, 0, 0, 1, 0, 0, 1, 0, 0, 0, 0, 0, 0, 0, 0, 0, 0, 0, 0, 0, 0, 0,\n",
       "       1, 0, 0, 0, 0, 0, 0, 0, 0, 0, 0, 0, 1, 1, 0, 0, 0, 1, 0, 0, 0, 0, 1,\n",
       "       0, 0, 0, 0, 0, 1, 0, 0, 0, 0, 0, 0, 0, 1, 1, 0, 0, 0, 0, 0, 0, 0, 0,\n",
       "       0, 0, 0, 0, 0, 0, 0, 0, 1, 0, 0, 0, 1, 0, 1, 0, 0, 0, 0, 0, 0, 0, 0,\n",
       "       0, 1, 0, 0, 0, 0, 0, 1, 0, 0, 0, 1, 1, 0, 0, 0, 0, 0, 0, 0, 0, 0, 0,\n",
       "       0, 0, 1, 0, 1, 0, 1, 0, 0, 0, 0, 0, 0, 1, 0, 0, 0, 0, 0, 0, 1, 0, 1,\n",
       "       0, 0, 0, 0, 0, 0, 0, 0, 1, 1, 0, 0, 1, 0, 0, 0, 0, 0, 0, 0, 0, 1, 0,\n",
       "       0, 0, 0, 0, 0, 0, 0, 1, 0, 0, 0, 0, 0, 0, 0, 1, 0, 1, 0, 0, 0, 1, 0,\n",
       "       0, 0, 0, 0, 0, 0, 0, 0, 0, 0, 0, 0, 0, 0, 0, 0, 0, 0, 0, 0, 1, 1, 0,\n",
       "       0, 0, 0, 1, 0, 0, 1, 0, 0, 0, 0, 0, 0, 1, 0, 0, 0, 0, 0, 0, 0, 0, 1,\n",
       "       0, 0, 0, 0, 0, 0, 0, 0, 0, 0, 0, 0, 1, 0, 0, 0, 0, 0, 1, 0, 0, 0, 0,\n",
       "       0, 0, 0, 1, 0, 1, 0, 0, 0, 0, 0, 0, 1, 0, 0, 0, 0, 1, 0, 0, 0, 0, 1,\n",
       "       0, 0, 0, 0, 0, 0, 0, 0, 0, 0, 0, 0, 0, 0, 0, 0, 0, 0, 1, 0, 0, 0, 0,\n",
       "       0, 0, 0, 0, 0, 0, 0, 0, 0, 0, 0, 0, 0, 1, 0, 0, 0, 0, 0, 1, 0, 0, 0,\n",
       "       0, 0, 0, 0, 0, 1, 1, 1, 0, 0, 0, 0, 1, 0, 0, 0, 0, 0, 0, 0, 0, 0, 0,\n",
       "       0, 0, 0, 0, 0, 0, 0, 0, 0, 0, 0, 0, 1, 0, 0, 0, 0, 0, 0, 0, 0, 0, 0,\n",
       "       0, 0, 0, 1, 0, 0, 0, 0, 0, 0], dtype=int64)"
      ]
     },
     "execution_count": 10,
     "metadata": {},
     "output_type": "execute_result"
    }
   ],
   "source": [
    "Y = le_Y.fit_transform(Y)\n",
    "Y"
   ]
  },
  {
   "cell_type": "code",
   "execution_count": 11,
   "metadata": {
    "collapsed": true
   },
   "outputs": [],
   "source": [
    "def enocder_X(index):\n",
    "    le_X = LabelEncoder()\n",
    "    X[:, index] = le_X.fit_transform(X[:, index])"
   ]
  },
  {
   "cell_type": "code",
   "execution_count": 12,
   "metadata": {},
   "outputs": [
    {
     "data": {
      "text/plain": [
       "[0, 3, 4, 5, 6, 7, 8, 9, 10, 11, 12, 13, 14]"
      ]
     },
     "execution_count": 12,
     "metadata": {},
     "output_type": "execute_result"
    }
   ],
   "source": [
    "X_indices = [0] + list(range(3,15))\n",
    "X_indices"
   ]
  },
  {
   "cell_type": "code",
   "execution_count": 13,
   "metadata": {
    "collapsed": true
   },
   "outputs": [],
   "source": [
    "for x in X_indices:\n",
    "    enocder_X(x)"
   ]
  },
  {
   "cell_type": "code",
   "execution_count": 14,
   "metadata": {
    "scrolled": true
   },
   "outputs": [
    {
     "data": {
      "text/plain": [
       "(470, 16)"
      ]
     },
     "execution_count": 14,
     "metadata": {},
     "output_type": "execute_result"
    }
   ],
   "source": [
    "X.shape"
   ]
  },
  {
   "cell_type": "code",
   "execution_count": 15,
   "metadata": {},
   "outputs": [
    {
     "data": {
      "text/html": [
       "<div>\n",
       "<style>\n",
       "    .dataframe thead tr:only-child th {\n",
       "        text-align: right;\n",
       "    }\n",
       "\n",
       "    .dataframe thead th {\n",
       "        text-align: left;\n",
       "    }\n",
       "\n",
       "    .dataframe tbody tr th {\n",
       "        vertical-align: top;\n",
       "    }\n",
       "</style>\n",
       "<table border=\"1\" class=\"dataframe\">\n",
       "  <thead>\n",
       "    <tr style=\"text-align: right;\">\n",
       "      <th></th>\n",
       "      <th>0</th>\n",
       "    </tr>\n",
       "  </thead>\n",
       "  <tbody>\n",
       "    <tr>\n",
       "      <th>1</th>\n",
       "      <td>257</td>\n",
       "    </tr>\n",
       "    <tr>\n",
       "      <th>0</th>\n",
       "      <td>177</td>\n",
       "    </tr>\n",
       "    <tr>\n",
       "      <th>2</th>\n",
       "      <td>19</td>\n",
       "    </tr>\n",
       "    <tr>\n",
       "      <th>3</th>\n",
       "      <td>17</td>\n",
       "    </tr>\n",
       "  </tbody>\n",
       "</table>\n",
       "</div>"
      ],
      "text/plain": [
       "     0\n",
       "1  257\n",
       "0  177\n",
       "2   19\n",
       "3   17"
      ]
     },
     "execution_count": 15,
     "metadata": {},
     "output_type": "execute_result"
    }
   ],
   "source": [
    "pd.DataFrame(pd.DataFrame(X[:, 9])[0].value_counts())"
   ]
  },
  {
   "cell_type": "code",
   "execution_count": 16,
   "metadata": {
    "collapsed": true
   },
   "outputs": [],
   "source": [
    "ohe_X = OneHotEncoder(categorical_features = [9])"
   ]
  },
  {
   "cell_type": "code",
   "execution_count": 17,
   "metadata": {},
   "outputs": [
    {
     "data": {
      "text/plain": [
       "(470, 19)"
      ]
     },
     "execution_count": 17,
     "metadata": {},
     "output_type": "execute_result"
    }
   ],
   "source": [
    "X = ohe_X.fit_transform(X).toarray()\n",
    "X.shape"
   ]
  },
  {
   "cell_type": "code",
   "execution_count": 18,
   "metadata": {},
   "outputs": [
    {
     "data": {
      "text/plain": [
       "(470, 18)"
      ]
     },
     "execution_count": 18,
     "metadata": {},
     "output_type": "execute_result"
    }
   ],
   "source": [
    "X = X[:, 1:]\n",
    "X.shape"
   ]
  },
  {
   "cell_type": "code",
   "execution_count": 19,
   "metadata": {},
   "outputs": [
    {
     "data": {
      "text/html": [
       "<div>\n",
       "<style>\n",
       "    .dataframe thead tr:only-child th {\n",
       "        text-align: right;\n",
       "    }\n",
       "\n",
       "    .dataframe thead th {\n",
       "        text-align: left;\n",
       "    }\n",
       "\n",
       "    .dataframe tbody tr th {\n",
       "        vertical-align: top;\n",
       "    }\n",
       "</style>\n",
       "<table border=\"1\" class=\"dataframe\">\n",
       "  <thead>\n",
       "    <tr style=\"text-align: right;\">\n",
       "      <th></th>\n",
       "      <th>0</th>\n",
       "    </tr>\n",
       "  </thead>\n",
       "  <tbody>\n",
       "    <tr>\n",
       "      <th>1.0</th>\n",
       "      <td>313</td>\n",
       "    </tr>\n",
       "    <tr>\n",
       "      <th>0.0</th>\n",
       "      <td>130</td>\n",
       "    </tr>\n",
       "    <tr>\n",
       "      <th>2.0</th>\n",
       "      <td>27</td>\n",
       "    </tr>\n",
       "  </tbody>\n",
       "</table>\n",
       "</div>"
      ],
      "text/plain": [
       "       0\n",
       "1.0  313\n",
       "0.0  130\n",
       "2.0   27"
      ]
     },
     "execution_count": 19,
     "metadata": {},
     "output_type": "execute_result"
    }
   ],
   "source": [
    "pd.DataFrame(pd.DataFrame(X[:, 6])[0].value_counts())"
   ]
  },
  {
   "cell_type": "code",
   "execution_count": 20,
   "metadata": {
    "collapsed": true
   },
   "outputs": [],
   "source": [
    "ohe_X = OneHotEncoder(categorical_features = [6])"
   ]
  },
  {
   "cell_type": "code",
   "execution_count": 21,
   "metadata": {},
   "outputs": [
    {
     "data": {
      "text/plain": [
       "(470, 20)"
      ]
     },
     "execution_count": 21,
     "metadata": {},
     "output_type": "execute_result"
    }
   ],
   "source": [
    "X = ohe_X.fit_transform(X).toarray()\n",
    "X.shape"
   ]
  },
  {
   "cell_type": "code",
   "execution_count": 22,
   "metadata": {},
   "outputs": [
    {
     "data": {
      "text/plain": [
       "(470, 19)"
      ]
     },
     "execution_count": 22,
     "metadata": {},
     "output_type": "execute_result"
    }
   ],
   "source": [
    "X = X[:, 1:]\n",
    "X.shape"
   ]
  },
  {
   "cell_type": "code",
   "execution_count": 23,
   "metadata": {},
   "outputs": [
    {
     "data": {
      "text/html": [
       "<div>\n",
       "<style>\n",
       "    .dataframe thead tr:only-child th {\n",
       "        text-align: right;\n",
       "    }\n",
       "\n",
       "    .dataframe thead th {\n",
       "        text-align: left;\n",
       "    }\n",
       "\n",
       "    .dataframe tbody tr th {\n",
       "        vertical-align: top;\n",
       "    }\n",
       "</style>\n",
       "<table border=\"1\" class=\"dataframe\">\n",
       "  <thead>\n",
       "    <tr style=\"text-align: right;\">\n",
       "      <th></th>\n",
       "      <th>0</th>\n",
       "    </tr>\n",
       "  </thead>\n",
       "  <tbody>\n",
       "    <tr>\n",
       "      <th>2.0</th>\n",
       "      <td>349</td>\n",
       "    </tr>\n",
       "    <tr>\n",
       "      <th>1.0</th>\n",
       "      <td>52</td>\n",
       "    </tr>\n",
       "    <tr>\n",
       "      <th>3.0</th>\n",
       "      <td>47</td>\n",
       "    </tr>\n",
       "    <tr>\n",
       "      <th>4.0</th>\n",
       "      <td>15</td>\n",
       "    </tr>\n",
       "    <tr>\n",
       "      <th>5.0</th>\n",
       "      <td>4</td>\n",
       "    </tr>\n",
       "    <tr>\n",
       "      <th>6.0</th>\n",
       "      <td>2</td>\n",
       "    </tr>\n",
       "    <tr>\n",
       "      <th>0.0</th>\n",
       "      <td>1</td>\n",
       "    </tr>\n",
       "  </tbody>\n",
       "</table>\n",
       "</div>"
      ],
      "text/plain": [
       "       0\n",
       "2.0  349\n",
       "1.0   52\n",
       "3.0   47\n",
       "4.0   15\n",
       "5.0    4\n",
       "6.0    2\n",
       "0.0    1"
      ]
     },
     "execution_count": 23,
     "metadata": {},
     "output_type": "execute_result"
    }
   ],
   "source": [
    "pd.DataFrame(pd.DataFrame(X[:, 5])[0].value_counts())"
   ]
  },
  {
   "cell_type": "code",
   "execution_count": 24,
   "metadata": {
    "collapsed": true
   },
   "outputs": [],
   "source": [
    "ohe_X = OneHotEncoder(categorical_features = [5])"
   ]
  },
  {
   "cell_type": "code",
   "execution_count": 25,
   "metadata": {},
   "outputs": [
    {
     "data": {
      "text/plain": [
       "(470, 25)"
      ]
     },
     "execution_count": 25,
     "metadata": {},
     "output_type": "execute_result"
    }
   ],
   "source": [
    "X = ohe_X.fit_transform(X).toarray()\n",
    "X.shape"
   ]
  },
  {
   "cell_type": "code",
   "execution_count": 26,
   "metadata": {},
   "outputs": [
    {
     "data": {
      "text/plain": [
       "(470, 24)"
      ]
     },
     "execution_count": 26,
     "metadata": {},
     "output_type": "execute_result"
    }
   ],
   "source": [
    "X = X[:, 1:]\n",
    "X.shape"
   ]
  },
  {
   "cell_type": "code",
   "execution_count": 27,
   "metadata": {
    "collapsed": true
   },
   "outputs": [],
   "source": [
    "sc_X = StandardScaler()"
   ]
  },
  {
   "cell_type": "code",
   "execution_count": 28,
   "metadata": {},
   "outputs": [
    {
     "data": {
      "text/plain": [
       "array([[ 2.83521808, -1.69832197, -0.33333333, ...,  0.46649392,\n",
       "        -0.06537205, -0.29134848],\n",
       "       [-0.35270655,  0.5888165 , -0.33333333, ...,  0.46649392,\n",
       "        -0.06537205, -1.32611263],\n",
       "       [-0.35270655,  0.5888165 , -0.33333333, ...,  0.46649392,\n",
       "        -0.06537205, -0.40632228],\n",
       "       ..., \n",
       "       [-0.35270655,  0.5888165 , -0.33333333, ..., -2.14365065,\n",
       "        -0.06537205, -1.21113883],\n",
       "       [-0.35270655,  0.5888165 , -0.33333333, ...,  0.46649392,\n",
       "        -0.06537205,  1.89315359],\n",
       "       [-0.35270655,  0.5888165 , -0.33333333, ...,  0.46649392,\n",
       "        -0.06537205, -1.32611263]])"
      ]
     },
     "execution_count": 28,
     "metadata": {},
     "output_type": "execute_result"
    }
   ],
   "source": [
    "X = sc_X.fit_transform(X)\n",
    "X"
   ]
  },
  {
   "cell_type": "markdown",
   "metadata": {},
   "source": [
    "## Create Train and Test Data"
   ]
  },
  {
   "cell_type": "code",
   "execution_count": 29,
   "metadata": {
    "collapsed": true
   },
   "outputs": [],
   "source": [
    "from sklearn.model_selection import train_test_split"
   ]
  },
  {
   "cell_type": "code",
   "execution_count": 30,
   "metadata": {
    "collapsed": true
   },
   "outputs": [],
   "source": [
    "X_train, X_test, Y_train, Y_test = train_test_split(X, Y, test_size = 0.2, random_state = 4)"
   ]
  },
  {
   "cell_type": "code",
   "execution_count": 31,
   "metadata": {},
   "outputs": [
    {
     "data": {
      "text/plain": [
       "(376, 24)"
      ]
     },
     "execution_count": 31,
     "metadata": {},
     "output_type": "execute_result"
    }
   ],
   "source": [
    "X_train.shape"
   ]
  },
  {
   "cell_type": "code",
   "execution_count": 32,
   "metadata": {},
   "outputs": [
    {
     "data": {
      "text/plain": [
       "(94, 24)"
      ]
     },
     "execution_count": 32,
     "metadata": {},
     "output_type": "execute_result"
    }
   ],
   "source": [
    "X_test.shape"
   ]
  },
  {
   "cell_type": "code",
   "execution_count": 33,
   "metadata": {},
   "outputs": [
    {
     "data": {
      "text/plain": [
       "(376,)"
      ]
     },
     "execution_count": 33,
     "metadata": {},
     "output_type": "execute_result"
    }
   ],
   "source": [
    "Y_train.shape"
   ]
  },
  {
   "cell_type": "code",
   "execution_count": 34,
   "metadata": {},
   "outputs": [
    {
     "data": {
      "text/plain": [
       "(94,)"
      ]
     },
     "execution_count": 34,
     "metadata": {},
     "output_type": "execute_result"
    }
   ],
   "source": [
    "Y_test.shape"
   ]
  },
  {
   "cell_type": "markdown",
   "metadata": {},
   "source": [
    "## Create and train the ANN Classifier"
   ]
  },
  {
   "cell_type": "code",
   "execution_count": 35,
   "metadata": {
    "collapsed": true
   },
   "outputs": [],
   "source": [
    "from keras.models import Sequential\n",
    "from keras.layers import Dense"
   ]
  },
  {
   "cell_type": "code",
   "execution_count": 36,
   "metadata": {},
   "outputs": [
    {
     "name": "stderr",
     "output_type": "stream",
     "text": [
      "C:\\Users\\user\\Anaconda3\\lib\\site-packages\\ipykernel\\__main__.py:4: UserWarning: Update your `Dense` call to the Keras 2 API: `Dense(kernel_initializer=\"uniform\", activation=\"relu\", units=13, input_dim=24)`\n",
      "C:\\Users\\user\\Anaconda3\\lib\\site-packages\\ipykernel\\__main__.py:7: UserWarning: Update your `Dense` call to the Keras 2 API: `Dense(units=13, kernel_initializer=\"uniform\", activation=\"relu\")`\n",
      "C:\\Users\\user\\Anaconda3\\lib\\site-packages\\ipykernel\\__main__.py:10: UserWarning: Update your `Dense` call to the Keras 2 API: `Dense(units=1, kernel_initializer=\"uniform\", activation=\"sigmoid\")`\n",
      "C:\\Users\\user\\Anaconda3\\lib\\site-packages\\keras\\models.py:844: UserWarning: The `nb_epoch` argument in `fit` has been renamed `epochs`.\n",
      "  warnings.warn('The `nb_epoch` argument in `fit` '\n"
     ]
    },
    {
     "name": "stdout",
     "output_type": "stream",
     "text": [
      "Epoch 1/200\n",
      "376/376 [==============================] - 0s - loss: 0.6690 - acc: 0.8484     \n",
      "Epoch 2/200\n",
      "376/376 [==============================] - 0s - loss: 0.5151 - acc: 0.8617     \n",
      "Epoch 3/200\n",
      "376/376 [==============================] - 0s - loss: 0.3687 - acc: 0.8617     \n",
      "Epoch 4/200\n",
      "376/376 [==============================] - 0s - loss: 0.3472 - acc: 0.8617     \n",
      "Epoch 5/200\n",
      "376/376 [==============================] - 0s - loss: 0.3384 - acc: 0.8617     \n",
      "Epoch 6/200\n",
      "376/376 [==============================] - 0s - loss: 0.3320 - acc: 0.8617     \n",
      "Epoch 7/200\n",
      "376/376 [==============================] - 0s - loss: 0.3274 - acc: 0.8617     \n",
      "Epoch 8/200\n",
      "376/376 [==============================] - 0s - loss: 0.3223 - acc: 0.8617     \n",
      "Epoch 9/200\n",
      "376/376 [==============================] - 0s - loss: 0.3192 - acc: 0.8617     \n",
      "Epoch 10/200\n",
      "376/376 [==============================] - 0s - loss: 0.3145 - acc: 0.8617     \n",
      "Epoch 11/200\n",
      "376/376 [==============================] - 0s - loss: 0.3104 - acc: 0.8617     \n",
      "Epoch 12/200\n",
      "376/376 [==============================] - 0s - loss: 0.3066 - acc: 0.8617     \n",
      "Epoch 13/200\n",
      "376/376 [==============================] - 0s - loss: 0.3032 - acc: 0.8617     \n",
      "Epoch 14/200\n",
      "376/376 [==============================] - 0s - loss: 0.2999 - acc: 0.8617     \n",
      "Epoch 15/200\n",
      "376/376 [==============================] - 0s - loss: 0.2985 - acc: 0.8617     \n",
      "Epoch 16/200\n",
      "376/376 [==============================] - 0s - loss: 0.2937 - acc: 0.8617     \n",
      "Epoch 17/200\n",
      "376/376 [==============================] - 0s - loss: 0.2901 - acc: 0.8697     \n",
      "Epoch 18/200\n",
      "376/376 [==============================] - 0s - loss: 0.2852 - acc: 0.8803     \n",
      "Epoch 19/200\n",
      "376/376 [==============================] - 0s - loss: 0.2812 - acc: 0.8830     \n",
      "Epoch 20/200\n",
      "376/376 [==============================] - 0s - loss: 0.2785 - acc: 0.8856     \n",
      "Epoch 21/200\n",
      "376/376 [==============================] - 0s - loss: 0.2754 - acc: 0.8910     \n",
      "Epoch 22/200\n",
      "376/376 [==============================] - 0s - loss: 0.2716 - acc: 0.8910     \n",
      "Epoch 23/200\n",
      "376/376 [==============================] - 0s - loss: 0.2687 - acc: 0.8936     \n",
      "Epoch 24/200\n",
      "376/376 [==============================] - 0s - loss: 0.2645 - acc: 0.8963     \n",
      "Epoch 25/200\n",
      "376/376 [==============================] - 0s - loss: 0.2610 - acc: 0.8963     \n",
      "Epoch 26/200\n",
      "376/376 [==============================] - 0s - loss: 0.2593 - acc: 0.8936     \n",
      "Epoch 27/200\n",
      "376/376 [==============================] - 0s - loss: 0.2555 - acc: 0.8963     \n",
      "Epoch 28/200\n",
      "376/376 [==============================] - 0s - loss: 0.2500 - acc: 0.8989     \n",
      "Epoch 29/200\n",
      "376/376 [==============================] - 0s - loss: 0.2478 - acc: 0.8989     \n",
      "Epoch 30/200\n",
      "376/376 [==============================] - 0s - loss: 0.2457 - acc: 0.9069     \n",
      "Epoch 31/200\n",
      "376/376 [==============================] - 0s - loss: 0.2420 - acc: 0.9069     \n",
      "Epoch 32/200\n",
      "376/376 [==============================] - 0s - loss: 0.2380 - acc: 0.9149     \n",
      "Epoch 33/200\n",
      "376/376 [==============================] - 0s - loss: 0.2337 - acc: 0.9149     \n",
      "Epoch 34/200\n",
      "376/376 [==============================] - 0s - loss: 0.2308 - acc: 0.9122     \n",
      "Epoch 35/200\n",
      "376/376 [==============================] - 0s - loss: 0.2293 - acc: 0.9176     \n",
      "Epoch 36/200\n",
      "376/376 [==============================] - 0s - loss: 0.2273 - acc: 0.9122     \n",
      "Epoch 37/200\n",
      "376/376 [==============================] - 0s - loss: 0.2247 - acc: 0.9282     \n",
      "Epoch 38/200\n",
      "376/376 [==============================] - 0s - loss: 0.2211 - acc: 0.9122     \n",
      "Epoch 39/200\n",
      "376/376 [==============================] - 0s - loss: 0.2176 - acc: 0.9202     \n",
      "Epoch 40/200\n",
      "376/376 [==============================] - 0s - loss: 0.2147 - acc: 0.9282     \n",
      "Epoch 41/200\n",
      "376/376 [==============================] - 0s - loss: 0.2131 - acc: 0.9202     \n",
      "Epoch 42/200\n",
      "376/376 [==============================] - 0s - loss: 0.2120 - acc: 0.9255     \n",
      "Epoch 43/200\n",
      "376/376 [==============================] - 0s - loss: 0.2075 - acc: 0.9335     \n",
      "Epoch 44/200\n",
      "376/376 [==============================] - 0s - loss: 0.2052 - acc: 0.9282     \n",
      "Epoch 45/200\n",
      "376/376 [==============================] - 0s - loss: 0.2029 - acc: 0.9282     \n",
      "Epoch 46/200\n",
      "376/376 [==============================] - 0s - loss: 0.1993 - acc: 0.9335     \n",
      "Epoch 47/200\n",
      "376/376 [==============================] - 0s - loss: 0.2011 - acc: 0.9309     \n",
      "Epoch 48/200\n",
      "376/376 [==============================] - 0s - loss: 0.1951 - acc: 0.9441     \n",
      "Epoch 49/200\n",
      "376/376 [==============================] - 0s - loss: 0.1921 - acc: 0.9388     \n",
      "Epoch 50/200\n",
      "376/376 [==============================] - 0s - loss: 0.1904 - acc: 0.9335     \n",
      "Epoch 51/200\n",
      "376/376 [==============================] - 0s - loss: 0.1920 - acc: 0.9468     \n",
      "Epoch 52/200\n",
      "376/376 [==============================] - 0s - loss: 0.1866 - acc: 0.9362     \n",
      "Epoch 53/200\n",
      "376/376 [==============================] - 0s - loss: 0.1842 - acc: 0.9441     \n",
      "Epoch 54/200\n",
      "376/376 [==============================] - 0s - loss: 0.1809 - acc: 0.9441     \n",
      "Epoch 55/200\n",
      "376/376 [==============================] - 0s - loss: 0.1785 - acc: 0.9468     \n",
      "Epoch 56/200\n",
      "376/376 [==============================] - 0s - loss: 0.1753 - acc: 0.9468     \n",
      "Epoch 57/200\n",
      "376/376 [==============================] - 0s - loss: 0.1737 - acc: 0.9468     \n",
      "Epoch 58/200\n",
      "376/376 [==============================] - 0s - loss: 0.1729 - acc: 0.9495     \n",
      "Epoch 59/200\n",
      "376/376 [==============================] - 0s - loss: 0.1687 - acc: 0.9548     \n",
      "Epoch 60/200\n",
      "376/376 [==============================] - 0s - loss: 0.1690 - acc: 0.9548     \n",
      "Epoch 61/200\n",
      "376/376 [==============================] - 0s - loss: 0.1657 - acc: 0.9495     \n",
      "Epoch 62/200\n",
      "376/376 [==============================] - 0s - loss: 0.1654 - acc: 0.9548     \n",
      "Epoch 63/200\n",
      "376/376 [==============================] - 0s - loss: 0.1616 - acc: 0.9495     \n",
      "Epoch 64/200\n",
      "376/376 [==============================] - 0s - loss: 0.1638 - acc: 0.9521     \n",
      "Epoch 65/200\n",
      "376/376 [==============================] - 0s - loss: 0.1629 - acc: 0.9495     \n",
      "Epoch 66/200\n",
      "376/376 [==============================] - 0s - loss: 0.1598 - acc: 0.9521     \n",
      "Epoch 67/200\n",
      "376/376 [==============================] - 0s - loss: 0.1569 - acc: 0.9548     \n",
      "Epoch 68/200\n",
      "376/376 [==============================] - 0s - loss: 0.1557 - acc: 0.9548     \n",
      "Epoch 69/200\n",
      "376/376 [==============================] - 0s - loss: 0.1541 - acc: 0.9548     \n",
      "Epoch 70/200\n",
      "376/376 [==============================] - 0s - loss: 0.1526 - acc: 0.9548     \n",
      "Epoch 71/200\n",
      "376/376 [==============================] - 0s - loss: 0.1553 - acc: 0.9548     \n",
      "Epoch 72/200\n",
      "376/376 [==============================] - 0s - loss: 0.1500 - acc: 0.9574     \n",
      "Epoch 73/200\n",
      "376/376 [==============================] - 0s - loss: 0.1528 - acc: 0.9548     \n",
      "Epoch 74/200\n",
      "376/376 [==============================] - 0s - loss: 0.1486 - acc: 0.9548     \n",
      "Epoch 75/200\n",
      "376/376 [==============================] - 0s - loss: 0.1468 - acc: 0.9548     \n",
      "Epoch 76/200\n",
      "376/376 [==============================] - 0s - loss: 0.1485 - acc: 0.9521     \n",
      "Epoch 77/200\n",
      "376/376 [==============================] - 0s - loss: 0.1473 - acc: 0.9548     \n",
      "Epoch 78/200\n",
      "376/376 [==============================] - 0s - loss: 0.1444 - acc: 0.9548     \n",
      "Epoch 79/200\n",
      "376/376 [==============================] - 0s - loss: 0.1420 - acc: 0.9574     \n",
      "Epoch 80/200\n",
      "376/376 [==============================] - 0s - loss: 0.1418 - acc: 0.9601     \n",
      "Epoch 81/200\n",
      "376/376 [==============================] - 0s - loss: 0.1427 - acc: 0.9548     \n",
      "Epoch 82/200\n",
      "376/376 [==============================] - 0s - loss: 0.1421 - acc: 0.9548     \n",
      "Epoch 83/200\n",
      "376/376 [==============================] - 0s - loss: 0.1409 - acc: 0.9574     \n",
      "Epoch 84/200\n",
      "376/376 [==============================] - 0s - loss: 0.1390 - acc: 0.9574     \n",
      "Epoch 85/200\n",
      "376/376 [==============================] - 0s - loss: 0.1384 - acc: 0.9574     \n",
      "Epoch 86/200\n",
      "376/376 [==============================] - 0s - loss: 0.1370 - acc: 0.9574     \n",
      "Epoch 87/200\n",
      "376/376 [==============================] - 0s - loss: 0.1356 - acc: 0.9548     \n",
      "Epoch 88/200\n",
      "376/376 [==============================] - 0s - loss: 0.1354 - acc: 0.9574     \n",
      "Epoch 89/200\n"
     ]
    },
    {
     "name": "stdout",
     "output_type": "stream",
     "text": [
      "376/376 [==============================] - 0s - loss: 0.1351 - acc: 0.9574     \n",
      "Epoch 90/200\n",
      "376/376 [==============================] - 0s - loss: 0.1343 - acc: 0.9574     \n",
      "Epoch 91/200\n",
      "376/376 [==============================] - 0s - loss: 0.1342 - acc: 0.9574     \n",
      "Epoch 92/200\n",
      "376/376 [==============================] - 0s - loss: 0.1380 - acc: 0.9574     \n",
      "Epoch 93/200\n",
      "376/376 [==============================] - 0s - loss: 0.1329 - acc: 0.9574     \n",
      "Epoch 94/200\n",
      "376/376 [==============================] - 0s - loss: 0.1303 - acc: 0.9574     \n",
      "Epoch 95/200\n",
      "376/376 [==============================] - 0s - loss: 0.1290 - acc: 0.9574     \n",
      "Epoch 96/200\n",
      "376/376 [==============================] - 0s - loss: 0.1299 - acc: 0.9601     \n",
      "Epoch 97/200\n",
      "376/376 [==============================] - 0s - loss: 0.1292 - acc: 0.9574     \n",
      "Epoch 98/200\n",
      "376/376 [==============================] - 0s - loss: 0.1287 - acc: 0.9601     \n",
      "Epoch 99/200\n",
      "376/376 [==============================] - 0s - loss: 0.1310 - acc: 0.9548     \n",
      "Epoch 100/200\n",
      "376/376 [==============================] - 0s - loss: 0.1262 - acc: 0.9574     \n",
      "Epoch 101/200\n",
      "376/376 [==============================] - 0s - loss: 0.1279 - acc: 0.9548     \n",
      "Epoch 102/200\n",
      "376/376 [==============================] - 0s - loss: 0.1273 - acc: 0.9601     \n",
      "Epoch 103/200\n",
      "376/376 [==============================] - 0s - loss: 0.1264 - acc: 0.9601     \n",
      "Epoch 104/200\n",
      "376/376 [==============================] - 0s - loss: 0.1280 - acc: 0.9601     \n",
      "Epoch 105/200\n",
      "376/376 [==============================] - 0s - loss: 0.1252 - acc: 0.9574     \n",
      "Epoch 106/200\n",
      "376/376 [==============================] - 0s - loss: 0.1250 - acc: 0.9574     \n",
      "Epoch 107/200\n",
      "376/376 [==============================] - 0s - loss: 0.1234 - acc: 0.9574     \n",
      "Epoch 108/200\n",
      "376/376 [==============================] - 0s - loss: 0.1222 - acc: 0.9548     \n",
      "Epoch 109/200\n",
      "376/376 [==============================] - 0s - loss: 0.1214 - acc: 0.9601     \n",
      "Epoch 110/200\n",
      "376/376 [==============================] - 0s - loss: 0.1246 - acc: 0.9628     \n",
      "Epoch 111/200\n",
      "376/376 [==============================] - 0s - loss: 0.1232 - acc: 0.9628     \n",
      "Epoch 112/200\n",
      "376/376 [==============================] - 0s - loss: 0.1220 - acc: 0.9601     \n",
      "Epoch 113/200\n",
      "376/376 [==============================] - 0s - loss: 0.1220 - acc: 0.9574     \n",
      "Epoch 114/200\n",
      "376/376 [==============================] - 0s - loss: 0.1200 - acc: 0.9574     \n",
      "Epoch 115/200\n",
      "376/376 [==============================] - 0s - loss: 0.1224 - acc: 0.9628     \n",
      "Epoch 116/200\n",
      "376/376 [==============================] - 0s - loss: 0.1192 - acc: 0.9574     \n",
      "Epoch 117/200\n",
      "376/376 [==============================] - 0s - loss: 0.1181 - acc: 0.9574     \n",
      "Epoch 118/200\n",
      "376/376 [==============================] - 0s - loss: 0.1171 - acc: 0.9601     \n",
      "Epoch 119/200\n",
      "376/376 [==============================] - 0s - loss: 0.1183 - acc: 0.9601         \n",
      "Epoch 120/200\n",
      "376/376 [==============================] - 0s - loss: 0.1144 - acc: 0.9574     \n",
      "Epoch 121/200\n",
      "376/376 [==============================] - 0s - loss: 0.1182 - acc: 0.9601     \n",
      "Epoch 122/200\n",
      "376/376 [==============================] - 0s - loss: 0.1170 - acc: 0.9628     \n",
      "Epoch 123/200\n",
      "376/376 [==============================] - 0s - loss: 0.1146 - acc: 0.9601     \n",
      "Epoch 124/200\n",
      "376/376 [==============================] - 0s - loss: 0.1126 - acc: 0.9628     \n",
      "Epoch 125/200\n",
      "376/376 [==============================] - 0s - loss: 0.1125 - acc: 0.9628     \n",
      "Epoch 126/200\n",
      "376/376 [==============================] - 0s - loss: 0.1142 - acc: 0.9628     \n",
      "Epoch 127/200\n",
      "376/376 [==============================] - 0s - loss: 0.1155 - acc: 0.9574     \n",
      "Epoch 128/200\n",
      "376/376 [==============================] - 0s - loss: 0.1128 - acc: 0.9574     \n",
      "Epoch 129/200\n",
      "376/376 [==============================] - 0s - loss: 0.1124 - acc: 0.9654     \n",
      "Epoch 130/200\n",
      "376/376 [==============================] - 0s - loss: 0.1108 - acc: 0.9628     \n",
      "Epoch 131/200\n",
      "376/376 [==============================] - 0s - loss: 0.1121 - acc: 0.9628     \n",
      "Epoch 132/200\n",
      "376/376 [==============================] - 0s - loss: 0.1104 - acc: 0.9628     \n",
      "Epoch 133/200\n",
      "376/376 [==============================] - 0s - loss: 0.1118 - acc: 0.9654     \n",
      "Epoch 134/200\n",
      "376/376 [==============================] - 0s - loss: 0.1087 - acc: 0.9654     \n",
      "Epoch 135/200\n",
      "376/376 [==============================] - 0s - loss: 0.1106 - acc: 0.9574         \n",
      "Epoch 136/200\n",
      "376/376 [==============================] - 0s - loss: 0.1092 - acc: 0.9654     \n",
      "Epoch 137/200\n",
      "376/376 [==============================] - 0s - loss: 0.1094 - acc: 0.9628         \n",
      "Epoch 138/200\n",
      "376/376 [==============================] - 0s - loss: 0.1107 - acc: 0.9654     \n",
      "Epoch 139/200\n",
      "376/376 [==============================] - 0s - loss: 0.1088 - acc: 0.9628     \n",
      "Epoch 140/200\n",
      "376/376 [==============================] - 0s - loss: 0.1101 - acc: 0.9628     \n",
      "Epoch 141/200\n",
      "376/376 [==============================] - 0s - loss: 0.1091 - acc: 0.9654     \n",
      "Epoch 142/200\n",
      "376/376 [==============================] - 0s - loss: 0.1092 - acc: 0.9628     \n",
      "Epoch 143/200\n",
      "376/376 [==============================] - 0s - loss: 0.1076 - acc: 0.9601     \n",
      "Epoch 144/200\n",
      "376/376 [==============================] - 0s - loss: 0.1058 - acc: 0.9654     \n",
      "Epoch 145/200\n",
      "376/376 [==============================] - 0s - loss: 0.1068 - acc: 0.9654     \n",
      "Epoch 146/200\n",
      "376/376 [==============================] - 0s - loss: 0.1096 - acc: 0.9601     \n",
      "Epoch 147/200\n",
      "376/376 [==============================] - 0s - loss: 0.1061 - acc: 0.9628     \n",
      "Epoch 148/200\n",
      "376/376 [==============================] - 0s - loss: 0.1074 - acc: 0.9628     \n",
      "Epoch 149/200\n",
      "376/376 [==============================] - 0s - loss: 0.1042 - acc: 0.9601     \n",
      "Epoch 150/200\n",
      "376/376 [==============================] - 0s - loss: 0.1044 - acc: 0.9601     \n",
      "Epoch 151/200\n",
      "376/376 [==============================] - 0s - loss: 0.1069 - acc: 0.9601     \n",
      "Epoch 152/200\n",
      "376/376 [==============================] - 0s - loss: 0.1030 - acc: 0.9601     \n",
      "Epoch 153/200\n",
      "376/376 [==============================] - 0s - loss: 0.1101 - acc: 0.9548     \n",
      "Epoch 154/200\n",
      "376/376 [==============================] - 0s - loss: 0.1018 - acc: 0.9628     \n",
      "Epoch 155/200\n",
      "376/376 [==============================] - 0s - loss: 0.1009 - acc: 0.9654     \n",
      "Epoch 156/200\n",
      "376/376 [==============================] - 0s - loss: 0.1006 - acc: 0.9628     \n",
      "Epoch 157/200\n",
      "376/376 [==============================] - 0s - loss: 0.0997 - acc: 0.9628     \n",
      "Epoch 158/200\n",
      "376/376 [==============================] - 0s - loss: 0.1001 - acc: 0.9628     \n",
      "Epoch 159/200\n",
      "376/376 [==============================] - 0s - loss: 0.0996 - acc: 0.9628     \n",
      "Epoch 160/200\n",
      "376/376 [==============================] - 0s - loss: 0.0963 - acc: 0.9601     \n",
      "Epoch 161/200\n",
      "376/376 [==============================] - 0s - loss: 0.0975 - acc: 0.9707     \n",
      "Epoch 162/200\n",
      "376/376 [==============================] - 0s - loss: 0.0992 - acc: 0.9628     \n",
      "Epoch 163/200\n",
      "376/376 [==============================] - 0s - loss: 0.0995 - acc: 0.9654     \n",
      "Epoch 164/200\n",
      "376/376 [==============================] - 0s - loss: 0.0980 - acc: 0.9681     \n",
      "Epoch 165/200\n",
      "376/376 [==============================] - 0s - loss: 0.0968 - acc: 0.9628     \n",
      "Epoch 166/200\n",
      "376/376 [==============================] - 0s - loss: 0.0978 - acc: 0.9681         \n",
      "Epoch 167/200\n",
      "376/376 [==============================] - 0s - loss: 0.0953 - acc: 0.9654     \n",
      "Epoch 168/200\n",
      "376/376 [==============================] - 0s - loss: 0.0963 - acc: 0.9681     \n",
      "Epoch 169/200\n",
      "376/376 [==============================] - 0s - loss: 0.1105 - acc: 0.9521     \n",
      "Epoch 170/200\n",
      "376/376 [==============================] - 0s - loss: 0.1064 - acc: 0.9521     \n",
      "Epoch 171/200\n",
      "376/376 [==============================] - 0s - loss: 0.0968 - acc: 0.9707     \n",
      "Epoch 172/200\n",
      "376/376 [==============================] - 0s - loss: 0.0976 - acc: 0.9574     \n",
      "Epoch 173/200\n",
      "376/376 [==============================] - 0s - loss: 0.0952 - acc: 0.9707         \n",
      "Epoch 174/200\n",
      "376/376 [==============================] - 0s - loss: 0.0938 - acc: 0.9628     \n",
      "Epoch 175/200\n",
      "376/376 [==============================] - 0s - loss: 0.0951 - acc: 0.9681     \n",
      "Epoch 176/200\n"
     ]
    },
    {
     "name": "stdout",
     "output_type": "stream",
     "text": [
      "376/376 [==============================] - 0s - loss: 0.0930 - acc: 0.9681         \n",
      "Epoch 177/200\n",
      "376/376 [==============================] - 0s - loss: 0.0952 - acc: 0.9654     \n",
      "Epoch 178/200\n",
      "376/376 [==============================] - 0s - loss: 0.0934 - acc: 0.9654         \n",
      "Epoch 179/200\n",
      "376/376 [==============================] - 0s - loss: 0.0935 - acc: 0.9628     \n",
      "Epoch 180/200\n",
      "376/376 [==============================] - 0s - loss: 0.0943 - acc: 0.9707     \n",
      "Epoch 181/200\n",
      "376/376 [==============================] - 0s - loss: 0.0940 - acc: 0.9654         \n",
      "Epoch 182/200\n",
      "376/376 [==============================] - 0s - loss: 0.0902 - acc: 0.9681     \n",
      "Epoch 183/200\n",
      "376/376 [==============================] - 0s - loss: 0.0923 - acc: 0.9707     \n",
      "Epoch 184/200\n",
      "376/376 [==============================] - 0s - loss: 0.0938 - acc: 0.9601     \n",
      "Epoch 185/200\n",
      "376/376 [==============================] - 0s - loss: 0.0932 - acc: 0.9681     \n",
      "Epoch 186/200\n",
      "376/376 [==============================] - 0s - loss: 0.0914 - acc: 0.9654     \n",
      "Epoch 187/200\n",
      "376/376 [==============================] - 0s - loss: 0.0938 - acc: 0.9654         \n",
      "Epoch 188/200\n",
      "376/376 [==============================] - 0s - loss: 0.0901 - acc: 0.9707     \n",
      "Epoch 189/200\n",
      "376/376 [==============================] - 0s - loss: 0.0908 - acc: 0.9654     \n",
      "Epoch 190/200\n",
      "376/376 [==============================] - 0s - loss: 0.0914 - acc: 0.9707     \n",
      "Epoch 191/200\n",
      "376/376 [==============================] - 0s - loss: 0.0913 - acc: 0.9601     \n",
      "Epoch 192/200\n",
      "376/376 [==============================] - 0s - loss: 0.0939 - acc: 0.9654     \n",
      "Epoch 193/200\n",
      "376/376 [==============================] - 0s - loss: 0.0928 - acc: 0.9681     \n",
      "Epoch 194/200\n",
      "376/376 [==============================] - 0s - loss: 0.0916 - acc: 0.9654     \n",
      "Epoch 195/200\n",
      "376/376 [==============================] - 0s - loss: 0.0966 - acc: 0.9628     \n",
      "Epoch 196/200\n",
      "376/376 [==============================] - 0s - loss: 0.0964 - acc: 0.9601     \n",
      "Epoch 197/200\n",
      "376/376 [==============================] - 0s - loss: 0.0930 - acc: 0.9654     \n",
      "Epoch 198/200\n",
      "376/376 [==============================] - 0s - loss: 0.0902 - acc: 0.9707     \n",
      "Epoch 199/200\n",
      "376/376 [==============================] - 0s - loss: 0.0938 - acc: 0.9628     \n",
      "Epoch 200/200\n",
      "376/376 [==============================] - 0s - loss: 0.0924 - acc: 0.9654     \n"
     ]
    },
    {
     "data": {
      "text/plain": [
       "<keras.callbacks.History at 0x6d957aa630>"
      ]
     },
     "execution_count": 36,
     "metadata": {},
     "output_type": "execute_result"
    }
   ],
   "source": [
    "clf_ann = Sequential()\n",
    "\n",
    "# First Hidden Layer\n",
    "clf_ann.add(Dense(output_dim = 13, init = 'uniform', activation = 'relu', input_dim = 24))\n",
    "\n",
    "# Second Hidden Layer\n",
    "clf_ann.add(Dense(output_dim = 13, init = 'uniform', activation = 'relu'))\n",
    "\n",
    "# Output Layer\n",
    "clf_ann.add(Dense(output_dim = 1, init = 'uniform', activation = 'sigmoid'))\n",
    "\n",
    "# Compile the ANN\n",
    "clf_ann.compile(optimizer = 'adam', loss = 'binary_crossentropy', metrics = ['accuracy'])\n",
    "\n",
    "# Train the ANN on the Train Data\n",
    "clf_ann.fit(X_train, Y_train, batch_size = 5, nb_epoch = 200)"
   ]
  },
  {
   "cell_type": "code",
   "execution_count": 37,
   "metadata": {
    "collapsed": true
   },
   "outputs": [],
   "source": [
    "# Test the ANN on the Test Data\n",
    "Y_pred = clf_ann.predict(X_test)\n",
    "Y_pred = (Y_pred > 0.5)"
   ]
  },
  {
   "cell_type": "markdown",
   "metadata": {},
   "source": [
    "## Check the Accuracy"
   ]
  },
  {
   "cell_type": "code",
   "execution_count": 38,
   "metadata": {
    "collapsed": true
   },
   "outputs": [],
   "source": [
    "from sklearn.metrics import accuracy_score, confusion_matrix"
   ]
  },
  {
   "cell_type": "code",
   "execution_count": 39,
   "metadata": {},
   "outputs": [
    {
     "data": {
      "text/plain": [
       "0.75531914893617025"
      ]
     },
     "execution_count": 39,
     "metadata": {},
     "output_type": "execute_result"
    }
   ],
   "source": [
    "accuracy_score(Y_pred, Y_test)"
   ]
  },
  {
   "cell_type": "code",
   "execution_count": 40,
   "metadata": {},
   "outputs": [
    {
     "data": {
      "text/plain": [
       "array([[71, 18],\n",
       "       [ 5,  0]], dtype=int64)"
      ]
     },
     "execution_count": 40,
     "metadata": {},
     "output_type": "execute_result"
    }
   ],
   "source": [
    "confusion_matrix(Y_pred, Y_test)"
   ]
  },
  {
   "cell_type": "code",
   "execution_count": null,
   "metadata": {
    "collapsed": true
   },
   "outputs": [],
   "source": []
  }
 ],
 "metadata": {
  "kernelspec": {
   "display_name": "Python [default]",
   "language": "python",
   "name": "python3"
  },
  "language_info": {
   "codemirror_mode": {
    "name": "ipython",
    "version": 3
   },
   "file_extension": ".py",
   "mimetype": "text/x-python",
   "name": "python",
   "nbconvert_exporter": "python",
   "pygments_lexer": "ipython3",
   "version": "3.5.4"
  }
 },
 "nbformat": 4,
 "nbformat_minor": 2
}
