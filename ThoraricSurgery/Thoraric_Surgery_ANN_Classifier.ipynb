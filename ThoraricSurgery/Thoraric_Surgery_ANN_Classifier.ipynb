{
 "cells": [
  {
   "cell_type": "markdown",
   "metadata": {},
   "source": [
    "## Initialization"
   ]
  },
  {
   "cell_type": "code",
   "execution_count": 1,
   "metadata": {},
   "outputs": [
    {
     "name": "stderr",
     "output_type": "stream",
     "text": [
      "Using Theano backend.\n"
     ]
    }
   ],
   "source": [
    "import pandas as pd\n",
    "import numpy as np\n",
    "import keras"
   ]
  },
  {
   "cell_type": "markdown",
   "metadata": {},
   "source": [
    "## Importing the Data"
   ]
  },
  {
   "cell_type": "code",
   "execution_count": 2,
   "metadata": {},
   "outputs": [
    {
     "data": {
      "text/plain": [
       "(470, 17)"
      ]
     },
     "execution_count": 2,
     "metadata": {},
     "output_type": "execute_result"
    }
   ],
   "source": [
    "dataset = pd.read_csv('ThoraricSurgery.csv', header = None)\n",
    "dataset.shape"
   ]
  },
  {
   "cell_type": "code",
   "execution_count": 3,
   "metadata": {},
   "outputs": [
    {
     "data": {
      "text/html": [
       "<div>\n",
       "<style>\n",
       "    .dataframe thead tr:only-child th {\n",
       "        text-align: right;\n",
       "    }\n",
       "\n",
       "    .dataframe thead th {\n",
       "        text-align: left;\n",
       "    }\n",
       "\n",
       "    .dataframe tbody tr th {\n",
       "        vertical-align: top;\n",
       "    }\n",
       "</style>\n",
       "<table border=\"1\" class=\"dataframe\">\n",
       "  <thead>\n",
       "    <tr style=\"text-align: right;\">\n",
       "      <th></th>\n",
       "      <th>0</th>\n",
       "      <th>1</th>\n",
       "      <th>2</th>\n",
       "      <th>3</th>\n",
       "      <th>4</th>\n",
       "      <th>5</th>\n",
       "      <th>6</th>\n",
       "      <th>7</th>\n",
       "      <th>8</th>\n",
       "      <th>9</th>\n",
       "      <th>10</th>\n",
       "      <th>11</th>\n",
       "      <th>12</th>\n",
       "      <th>13</th>\n",
       "      <th>14</th>\n",
       "      <th>15</th>\n",
       "      <th>16</th>\n",
       "    </tr>\n",
       "  </thead>\n",
       "  <tbody>\n",
       "    <tr>\n",
       "      <th>0</th>\n",
       "      <td>DGN2</td>\n",
       "      <td>2.88</td>\n",
       "      <td>2.16</td>\n",
       "      <td>PRZ1</td>\n",
       "      <td>F</td>\n",
       "      <td>F</td>\n",
       "      <td>F</td>\n",
       "      <td>T</td>\n",
       "      <td>T</td>\n",
       "      <td>OC14</td>\n",
       "      <td>F</td>\n",
       "      <td>F</td>\n",
       "      <td>F</td>\n",
       "      <td>T</td>\n",
       "      <td>F</td>\n",
       "      <td>60</td>\n",
       "      <td>F</td>\n",
       "    </tr>\n",
       "    <tr>\n",
       "      <th>1</th>\n",
       "      <td>DGN3</td>\n",
       "      <td>3.40</td>\n",
       "      <td>1.88</td>\n",
       "      <td>PRZ0</td>\n",
       "      <td>F</td>\n",
       "      <td>F</td>\n",
       "      <td>F</td>\n",
       "      <td>F</td>\n",
       "      <td>F</td>\n",
       "      <td>OC12</td>\n",
       "      <td>F</td>\n",
       "      <td>F</td>\n",
       "      <td>F</td>\n",
       "      <td>T</td>\n",
       "      <td>F</td>\n",
       "      <td>51</td>\n",
       "      <td>F</td>\n",
       "    </tr>\n",
       "    <tr>\n",
       "      <th>2</th>\n",
       "      <td>DGN3</td>\n",
       "      <td>2.76</td>\n",
       "      <td>2.08</td>\n",
       "      <td>PRZ1</td>\n",
       "      <td>F</td>\n",
       "      <td>F</td>\n",
       "      <td>F</td>\n",
       "      <td>T</td>\n",
       "      <td>F</td>\n",
       "      <td>OC11</td>\n",
       "      <td>F</td>\n",
       "      <td>F</td>\n",
       "      <td>F</td>\n",
       "      <td>T</td>\n",
       "      <td>F</td>\n",
       "      <td>59</td>\n",
       "      <td>F</td>\n",
       "    </tr>\n",
       "    <tr>\n",
       "      <th>3</th>\n",
       "      <td>DGN3</td>\n",
       "      <td>3.68</td>\n",
       "      <td>3.04</td>\n",
       "      <td>PRZ0</td>\n",
       "      <td>F</td>\n",
       "      <td>F</td>\n",
       "      <td>F</td>\n",
       "      <td>F</td>\n",
       "      <td>F</td>\n",
       "      <td>OC11</td>\n",
       "      <td>F</td>\n",
       "      <td>F</td>\n",
       "      <td>F</td>\n",
       "      <td>F</td>\n",
       "      <td>F</td>\n",
       "      <td>54</td>\n",
       "      <td>F</td>\n",
       "    </tr>\n",
       "    <tr>\n",
       "      <th>4</th>\n",
       "      <td>DGN3</td>\n",
       "      <td>2.44</td>\n",
       "      <td>0.96</td>\n",
       "      <td>PRZ2</td>\n",
       "      <td>F</td>\n",
       "      <td>T</td>\n",
       "      <td>F</td>\n",
       "      <td>T</td>\n",
       "      <td>T</td>\n",
       "      <td>OC11</td>\n",
       "      <td>F</td>\n",
       "      <td>F</td>\n",
       "      <td>F</td>\n",
       "      <td>T</td>\n",
       "      <td>F</td>\n",
       "      <td>73</td>\n",
       "      <td>T</td>\n",
       "    </tr>\n",
       "  </tbody>\n",
       "</table>\n",
       "</div>"
      ],
      "text/plain": [
       "     0     1     2     3  4  5  6  7  8     9  10 11 12 13 14  15 16\n",
       "0  DGN2  2.88  2.16  PRZ1  F  F  F  T  T  OC14  F  F  F  T  F  60  F\n",
       "1  DGN3  3.40  1.88  PRZ0  F  F  F  F  F  OC12  F  F  F  T  F  51  F\n",
       "2  DGN3  2.76  2.08  PRZ1  F  F  F  T  F  OC11  F  F  F  T  F  59  F\n",
       "3  DGN3  3.68  3.04  PRZ0  F  F  F  F  F  OC11  F  F  F  F  F  54  F\n",
       "4  DGN3  2.44  0.96  PRZ2  F  T  F  T  T  OC11  F  F  F  T  F  73  T"
      ]
     },
     "execution_count": 3,
     "metadata": {},
     "output_type": "execute_result"
    }
   ],
   "source": [
    "dataset.head()"
   ]
  },
  {
   "cell_type": "markdown",
   "metadata": {},
   "source": [
    "## Create X and Y"
   ]
  },
  {
   "cell_type": "code",
   "execution_count": 4,
   "metadata": {
    "collapsed": true
   },
   "outputs": [],
   "source": [
    "X = dataset.iloc[:, 0:16].values\n",
    "Y = dataset.iloc[:, 16].values"
   ]
  },
  {
   "cell_type": "code",
   "execution_count": 5,
   "metadata": {},
   "outputs": [
    {
     "data": {
      "text/plain": [
       "(470, 16)"
      ]
     },
     "execution_count": 5,
     "metadata": {},
     "output_type": "execute_result"
    }
   ],
   "source": [
    "X.shape"
   ]
  },
  {
   "cell_type": "code",
   "execution_count": 6,
   "metadata": {},
   "outputs": [
    {
     "data": {
      "text/plain": [
       "(470,)"
      ]
     },
     "execution_count": 6,
     "metadata": {},
     "output_type": "execute_result"
    }
   ],
   "source": [
    "Y.shape"
   ]
  },
  {
   "cell_type": "code",
   "execution_count": 7,
   "metadata": {},
   "outputs": [
    {
     "data": {
      "text/plain": [
       "array(['DGN2', 2.88, 2.16, 'PRZ1', 'F', 'F', 'F', 'T', 'T', 'OC14', 'F',\n",
       "       'F', 'F', 'T', 'F', 60], dtype=object)"
      ]
     },
     "execution_count": 7,
     "metadata": {},
     "output_type": "execute_result"
    }
   ],
   "source": [
    "X[0]"
   ]
  },
  {
   "cell_type": "markdown",
   "metadata": {},
   "source": [
    "## Preprocess the Data"
   ]
  },
  {
   "cell_type": "code",
   "execution_count": 8,
   "metadata": {
    "collapsed": true
   },
   "outputs": [],
   "source": [
    "from sklearn.preprocessing import LabelEncoder, OneHotEncoder, StandardScaler"
   ]
  },
  {
   "cell_type": "code",
   "execution_count": 9,
   "metadata": {
    "collapsed": true
   },
   "outputs": [],
   "source": [
    "le_Y = LabelEncoder()"
   ]
  },
  {
   "cell_type": "code",
   "execution_count": 10,
   "metadata": {},
   "outputs": [
    {
     "data": {
      "text/plain": [
       "0"
      ]
     },
     "execution_count": 10,
     "metadata": {},
     "output_type": "execute_result"
    }
   ],
   "source": [
    "Y = le_Y.fit_transform(Y)\n",
    "Y[0]"
   ]
  },
  {
   "cell_type": "code",
   "execution_count": 11,
   "metadata": {
    "collapsed": true
   },
   "outputs": [],
   "source": [
    "def enocder_X(index):\n",
    "    le_X = LabelEncoder()\n",
    "    X[:, index] = le_X.fit_transform(X[:, index])"
   ]
  },
  {
   "cell_type": "code",
   "execution_count": 12,
   "metadata": {},
   "outputs": [
    {
     "data": {
      "text/plain": [
       "[0, 3, 4, 5, 6, 7, 8, 9, 10, 11, 12, 13, 14]"
      ]
     },
     "execution_count": 12,
     "metadata": {},
     "output_type": "execute_result"
    }
   ],
   "source": [
    "X_indices = [0] + list(range(3,15))\n",
    "X_indices"
   ]
  },
  {
   "cell_type": "code",
   "execution_count": 13,
   "metadata": {
    "collapsed": true
   },
   "outputs": [],
   "source": [
    "for x in X_indices:\n",
    "    enocder_X(x)"
   ]
  },
  {
   "cell_type": "code",
   "execution_count": 14,
   "metadata": {
    "scrolled": true
   },
   "outputs": [
    {
     "data": {
      "text/plain": [
       "(470, 16)"
      ]
     },
     "execution_count": 14,
     "metadata": {},
     "output_type": "execute_result"
    }
   ],
   "source": [
    "X.shape"
   ]
  },
  {
   "cell_type": "code",
   "execution_count": 15,
   "metadata": {},
   "outputs": [
    {
     "data": {
      "text/html": [
       "<div>\n",
       "<style>\n",
       "    .dataframe thead tr:only-child th {\n",
       "        text-align: right;\n",
       "    }\n",
       "\n",
       "    .dataframe thead th {\n",
       "        text-align: left;\n",
       "    }\n",
       "\n",
       "    .dataframe tbody tr th {\n",
       "        vertical-align: top;\n",
       "    }\n",
       "</style>\n",
       "<table border=\"1\" class=\"dataframe\">\n",
       "  <thead>\n",
       "    <tr style=\"text-align: right;\">\n",
       "      <th></th>\n",
       "      <th>0</th>\n",
       "    </tr>\n",
       "  </thead>\n",
       "  <tbody>\n",
       "    <tr>\n",
       "      <th>1</th>\n",
       "      <td>257</td>\n",
       "    </tr>\n",
       "    <tr>\n",
       "      <th>0</th>\n",
       "      <td>177</td>\n",
       "    </tr>\n",
       "    <tr>\n",
       "      <th>2</th>\n",
       "      <td>19</td>\n",
       "    </tr>\n",
       "    <tr>\n",
       "      <th>3</th>\n",
       "      <td>17</td>\n",
       "    </tr>\n",
       "  </tbody>\n",
       "</table>\n",
       "</div>"
      ],
      "text/plain": [
       "     0\n",
       "1  257\n",
       "0  177\n",
       "2   19\n",
       "3   17"
      ]
     },
     "execution_count": 15,
     "metadata": {},
     "output_type": "execute_result"
    }
   ],
   "source": [
    "pd.DataFrame(pd.DataFrame(X[:, 9])[0].value_counts())"
   ]
  },
  {
   "cell_type": "code",
   "execution_count": 16,
   "metadata": {
    "collapsed": true
   },
   "outputs": [],
   "source": [
    "ohe_X = OneHotEncoder(categorical_features = [9])"
   ]
  },
  {
   "cell_type": "code",
   "execution_count": 17,
   "metadata": {},
   "outputs": [
    {
     "data": {
      "text/plain": [
       "(470, 19)"
      ]
     },
     "execution_count": 17,
     "metadata": {},
     "output_type": "execute_result"
    }
   ],
   "source": [
    "X = ohe_X.fit_transform(X).toarray()\n",
    "X.shape"
   ]
  },
  {
   "cell_type": "code",
   "execution_count": 18,
   "metadata": {},
   "outputs": [
    {
     "data": {
      "text/plain": [
       "(470, 18)"
      ]
     },
     "execution_count": 18,
     "metadata": {},
     "output_type": "execute_result"
    }
   ],
   "source": [
    "X = X[:, 1:]\n",
    "X.shape"
   ]
  },
  {
   "cell_type": "code",
   "execution_count": 19,
   "metadata": {},
   "outputs": [
    {
     "data": {
      "text/html": [
       "<div>\n",
       "<style>\n",
       "    .dataframe thead tr:only-child th {\n",
       "        text-align: right;\n",
       "    }\n",
       "\n",
       "    .dataframe thead th {\n",
       "        text-align: left;\n",
       "    }\n",
       "\n",
       "    .dataframe tbody tr th {\n",
       "        vertical-align: top;\n",
       "    }\n",
       "</style>\n",
       "<table border=\"1\" class=\"dataframe\">\n",
       "  <thead>\n",
       "    <tr style=\"text-align: right;\">\n",
       "      <th></th>\n",
       "      <th>0</th>\n",
       "    </tr>\n",
       "  </thead>\n",
       "  <tbody>\n",
       "    <tr>\n",
       "      <th>1.0</th>\n",
       "      <td>313</td>\n",
       "    </tr>\n",
       "    <tr>\n",
       "      <th>0.0</th>\n",
       "      <td>130</td>\n",
       "    </tr>\n",
       "    <tr>\n",
       "      <th>2.0</th>\n",
       "      <td>27</td>\n",
       "    </tr>\n",
       "  </tbody>\n",
       "</table>\n",
       "</div>"
      ],
      "text/plain": [
       "       0\n",
       "1.0  313\n",
       "0.0  130\n",
       "2.0   27"
      ]
     },
     "execution_count": 19,
     "metadata": {},
     "output_type": "execute_result"
    }
   ],
   "source": [
    "pd.DataFrame(pd.DataFrame(X[:, 6])[0].value_counts())"
   ]
  },
  {
   "cell_type": "code",
   "execution_count": 20,
   "metadata": {
    "collapsed": true
   },
   "outputs": [],
   "source": [
    "ohe_X = OneHotEncoder(categorical_features = [6])"
   ]
  },
  {
   "cell_type": "code",
   "execution_count": 21,
   "metadata": {},
   "outputs": [
    {
     "data": {
      "text/plain": [
       "(470, 20)"
      ]
     },
     "execution_count": 21,
     "metadata": {},
     "output_type": "execute_result"
    }
   ],
   "source": [
    "X = ohe_X.fit_transform(X).toarray()\n",
    "X.shape"
   ]
  },
  {
   "cell_type": "code",
   "execution_count": 22,
   "metadata": {},
   "outputs": [
    {
     "data": {
      "text/plain": [
       "(470, 19)"
      ]
     },
     "execution_count": 22,
     "metadata": {},
     "output_type": "execute_result"
    }
   ],
   "source": [
    "X = X[:, 1:]\n",
    "X.shape"
   ]
  },
  {
   "cell_type": "code",
   "execution_count": 23,
   "metadata": {},
   "outputs": [
    {
     "data": {
      "text/html": [
       "<div>\n",
       "<style>\n",
       "    .dataframe thead tr:only-child th {\n",
       "        text-align: right;\n",
       "    }\n",
       "\n",
       "    .dataframe thead th {\n",
       "        text-align: left;\n",
       "    }\n",
       "\n",
       "    .dataframe tbody tr th {\n",
       "        vertical-align: top;\n",
       "    }\n",
       "</style>\n",
       "<table border=\"1\" class=\"dataframe\">\n",
       "  <thead>\n",
       "    <tr style=\"text-align: right;\">\n",
       "      <th></th>\n",
       "      <th>0</th>\n",
       "    </tr>\n",
       "  </thead>\n",
       "  <tbody>\n",
       "    <tr>\n",
       "      <th>2.0</th>\n",
       "      <td>349</td>\n",
       "    </tr>\n",
       "    <tr>\n",
       "      <th>1.0</th>\n",
       "      <td>52</td>\n",
       "    </tr>\n",
       "    <tr>\n",
       "      <th>3.0</th>\n",
       "      <td>47</td>\n",
       "    </tr>\n",
       "    <tr>\n",
       "      <th>4.0</th>\n",
       "      <td>15</td>\n",
       "    </tr>\n",
       "    <tr>\n",
       "      <th>5.0</th>\n",
       "      <td>4</td>\n",
       "    </tr>\n",
       "    <tr>\n",
       "      <th>6.0</th>\n",
       "      <td>2</td>\n",
       "    </tr>\n",
       "    <tr>\n",
       "      <th>0.0</th>\n",
       "      <td>1</td>\n",
       "    </tr>\n",
       "  </tbody>\n",
       "</table>\n",
       "</div>"
      ],
      "text/plain": [
       "       0\n",
       "2.0  349\n",
       "1.0   52\n",
       "3.0   47\n",
       "4.0   15\n",
       "5.0    4\n",
       "6.0    2\n",
       "0.0    1"
      ]
     },
     "execution_count": 23,
     "metadata": {},
     "output_type": "execute_result"
    }
   ],
   "source": [
    "pd.DataFrame(pd.DataFrame(X[:, 5])[0].value_counts())"
   ]
  },
  {
   "cell_type": "code",
   "execution_count": 24,
   "metadata": {
    "collapsed": true
   },
   "outputs": [],
   "source": [
    "ohe_X = OneHotEncoder(categorical_features = [5])"
   ]
  },
  {
   "cell_type": "code",
   "execution_count": 25,
   "metadata": {},
   "outputs": [
    {
     "data": {
      "text/plain": [
       "(470, 25)"
      ]
     },
     "execution_count": 25,
     "metadata": {},
     "output_type": "execute_result"
    }
   ],
   "source": [
    "X = ohe_X.fit_transform(X).toarray()\n",
    "X.shape"
   ]
  },
  {
   "cell_type": "code",
   "execution_count": 26,
   "metadata": {},
   "outputs": [
    {
     "data": {
      "text/plain": [
       "(470, 24)"
      ]
     },
     "execution_count": 26,
     "metadata": {},
     "output_type": "execute_result"
    }
   ],
   "source": [
    "X = X[:, 1:]\n",
    "X.shape"
   ]
  },
  {
   "cell_type": "code",
   "execution_count": 27,
   "metadata": {
    "collapsed": true
   },
   "outputs": [],
   "source": [
    "sc_X = StandardScaler()"
   ]
  },
  {
   "cell_type": "code",
   "execution_count": 28,
   "metadata": {},
   "outputs": [
    {
     "data": {
      "text/plain": [
       "array([ 2.83521808, -1.69832197, -0.33333333, -0.18156826, -0.09264821,\n",
       "       -0.06537205,  0.70823544, -0.24687665, -1.09844106, -0.20525253,\n",
       "        5.16207892, -0.46140527, -0.20490295, -0.26573489, -0.41128364,\n",
       "       -0.26573489,  0.67461719,  2.24179415, -0.28365431, -0.06537205,\n",
       "       -0.13159034,  0.46649392, -0.06537205, -0.29134848])"
      ]
     },
     "execution_count": 28,
     "metadata": {},
     "output_type": "execute_result"
    }
   ],
   "source": [
    "X = sc_X.fit_transform(X)\n",
    "X[0]"
   ]
  },
  {
   "cell_type": "markdown",
   "metadata": {},
   "source": [
    "## Create Train and Test Data"
   ]
  },
  {
   "cell_type": "code",
   "execution_count": 29,
   "metadata": {
    "collapsed": true
   },
   "outputs": [],
   "source": [
    "from sklearn.model_selection import train_test_split"
   ]
  },
  {
   "cell_type": "code",
   "execution_count": 30,
   "metadata": {
    "collapsed": true
   },
   "outputs": [],
   "source": [
    "X_train, X_test, Y_train, Y_test = train_test_split(X, Y, test_size = 0.2, random_state = 4)"
   ]
  },
  {
   "cell_type": "code",
   "execution_count": 31,
   "metadata": {},
   "outputs": [
    {
     "data": {
      "text/plain": [
       "(376, 24)"
      ]
     },
     "execution_count": 31,
     "metadata": {},
     "output_type": "execute_result"
    }
   ],
   "source": [
    "X_train.shape"
   ]
  },
  {
   "cell_type": "code",
   "execution_count": 32,
   "metadata": {},
   "outputs": [
    {
     "data": {
      "text/plain": [
       "(94, 24)"
      ]
     },
     "execution_count": 32,
     "metadata": {},
     "output_type": "execute_result"
    }
   ],
   "source": [
    "X_test.shape"
   ]
  },
  {
   "cell_type": "code",
   "execution_count": 33,
   "metadata": {},
   "outputs": [
    {
     "data": {
      "text/plain": [
       "(376,)"
      ]
     },
     "execution_count": 33,
     "metadata": {},
     "output_type": "execute_result"
    }
   ],
   "source": [
    "Y_train.shape"
   ]
  },
  {
   "cell_type": "code",
   "execution_count": 34,
   "metadata": {},
   "outputs": [
    {
     "data": {
      "text/plain": [
       "(94,)"
      ]
     },
     "execution_count": 34,
     "metadata": {},
     "output_type": "execute_result"
    }
   ],
   "source": [
    "Y_test.shape"
   ]
  },
  {
   "cell_type": "markdown",
   "metadata": {},
   "source": [
    "## Create and train the ANN Classifier"
   ]
  },
  {
   "cell_type": "code",
   "execution_count": 35,
   "metadata": {
    "collapsed": true
   },
   "outputs": [],
   "source": [
    "from keras.models import Sequential\n",
    "from keras.layers import Dense"
   ]
  },
  {
   "cell_type": "code",
   "execution_count": 36,
   "metadata": {},
   "outputs": [
    {
     "name": "stderr",
     "output_type": "stream",
     "text": [
      "C:\\Users\\user\\Anaconda3\\lib\\site-packages\\ipykernel\\__main__.py:4: UserWarning: Update your `Dense` call to the Keras 2 API: `Dense(units=13, kernel_initializer=\"uniform\", activation=\"relu\", input_dim=24)`\n",
      "C:\\Users\\user\\Anaconda3\\lib\\site-packages\\ipykernel\\__main__.py:7: UserWarning: Update your `Dense` call to the Keras 2 API: `Dense(units=13, kernel_initializer=\"uniform\", activation=\"relu\")`\n",
      "C:\\Users\\user\\Anaconda3\\lib\\site-packages\\ipykernel\\__main__.py:10: UserWarning: Update your `Dense` call to the Keras 2 API: `Dense(units=1, kernel_initializer=\"uniform\", activation=\"sigmoid\")`\n",
      "C:\\Users\\user\\Anaconda3\\lib\\site-packages\\keras\\models.py:844: UserWarning: The `nb_epoch` argument in `fit` has been renamed `epochs`.\n",
      "  warnings.warn('The `nb_epoch` argument in `fit` '\n"
     ]
    },
    {
     "name": "stdout",
     "output_type": "stream",
     "text": [
      "Epoch 1/200\n",
      "376/376 [==============================] - 0s - loss: 0.6671 - acc: 0.8537     \n",
      "Epoch 2/200\n",
      "376/376 [==============================] - 0s - loss: 0.4886 - acc: 0.8617     \n",
      "Epoch 3/200\n",
      "376/376 [==============================] - 0s - loss: 0.3657 - acc: 0.8617     \n",
      "Epoch 4/200\n",
      "376/376 [==============================] - 0s - loss: 0.3487 - acc: 0.8617     \n",
      "Epoch 5/200\n",
      "376/376 [==============================] - 0s - loss: 0.3418 - acc: 0.8617     \n",
      "Epoch 6/200\n",
      "376/376 [==============================] - 0s - loss: 0.3336 - acc: 0.8617     \n",
      "Epoch 7/200\n",
      "376/376 [==============================] - 0s - loss: 0.3289 - acc: 0.8617     \n",
      "Epoch 8/200\n",
      "376/376 [==============================] - 0s - loss: 0.3244 - acc: 0.8617     \n",
      "Epoch 9/200\n",
      "376/376 [==============================] - 0s - loss: 0.3206 - acc: 0.8617     \n",
      "Epoch 10/200\n",
      "376/376 [==============================] - 0s - loss: 0.3177 - acc: 0.8617     \n",
      "Epoch 11/200\n",
      "376/376 [==============================] - 0s - loss: 0.3143 - acc: 0.8617     \n",
      "Epoch 12/200\n",
      "376/376 [==============================] - 0s - loss: 0.3111 - acc: 0.8617     \n",
      "Epoch 13/200\n",
      "376/376 [==============================] - 0s - loss: 0.3077 - acc: 0.8617     \n",
      "Epoch 14/200\n",
      "376/376 [==============================] - 0s - loss: 0.3043 - acc: 0.8617     \n",
      "Epoch 15/200\n",
      "376/376 [==============================] - 0s - loss: 0.3019 - acc: 0.8617     \n",
      "Epoch 16/200\n",
      "376/376 [==============================] - 0s - loss: 0.2986 - acc: 0.8617     \n",
      "Epoch 17/200\n",
      "376/376 [==============================] - 0s - loss: 0.2952 - acc: 0.8617     \n",
      "Epoch 18/200\n",
      "376/376 [==============================] - 0s - loss: 0.2939 - acc: 0.8617     \n",
      "Epoch 19/200\n",
      "376/376 [==============================] - 0s - loss: 0.2918 - acc: 0.8617     \n",
      "Epoch 20/200\n",
      "376/376 [==============================] - 0s - loss: 0.2887 - acc: 0.8670     \n",
      "Epoch 21/200\n",
      "376/376 [==============================] - 0s - loss: 0.2861 - acc: 0.8670     \n",
      "Epoch 22/200\n",
      "376/376 [==============================] - 0s - loss: 0.2821 - acc: 0.8723     \n",
      "Epoch 23/200\n",
      "376/376 [==============================] - 0s - loss: 0.2783 - acc: 0.8803     \n",
      "Epoch 24/200\n",
      "376/376 [==============================] - 0s - loss: 0.2762 - acc: 0.8856     \n",
      "Epoch 25/200\n",
      "376/376 [==============================] - 0s - loss: 0.2744 - acc: 0.8936     \n",
      "Epoch 26/200\n",
      "376/376 [==============================] - 0s - loss: 0.2708 - acc: 0.8989     \n",
      "Epoch 27/200\n",
      "376/376 [==============================] - 0s - loss: 0.2681 - acc: 0.8989     \n",
      "Epoch 28/200\n",
      "376/376 [==============================] - 0s - loss: 0.2657 - acc: 0.8989     \n",
      "Epoch 29/200\n",
      "376/376 [==============================] - 0s - loss: 0.2645 - acc: 0.8989     \n",
      "Epoch 30/200\n",
      "376/376 [==============================] - 0s - loss: 0.2617 - acc: 0.9096     \n",
      "Epoch 31/200\n",
      "376/376 [==============================] - 0s - loss: 0.2585 - acc: 0.9069     \n",
      "Epoch 32/200\n",
      "376/376 [==============================] - 0s - loss: 0.2563 - acc: 0.9069     \n",
      "Epoch 33/200\n",
      "376/376 [==============================] - 0s - loss: 0.2555 - acc: 0.9043     \n",
      "Epoch 34/200\n",
      "376/376 [==============================] - 0s - loss: 0.2511 - acc: 0.9043     \n",
      "Epoch 35/200\n",
      "376/376 [==============================] - 0s - loss: 0.2504 - acc: 0.9122     \n",
      "Epoch 36/200\n",
      "376/376 [==============================] - 0s - loss: 0.2483 - acc: 0.9096     \n",
      "Epoch 37/200\n",
      "376/376 [==============================] - 0s - loss: 0.2442 - acc: 0.9122     \n",
      "Epoch 38/200\n",
      "376/376 [==============================] - 0s - loss: 0.2448 - acc: 0.9096     \n",
      "Epoch 39/200\n",
      "376/376 [==============================] - 0s - loss: 0.2402 - acc: 0.9176     \n",
      "Epoch 40/200\n",
      "376/376 [==============================] - 0s - loss: 0.2385 - acc: 0.9176     \n",
      "Epoch 41/200\n",
      "376/376 [==============================] - 0s - loss: 0.2376 - acc: 0.9202     \n",
      "Epoch 42/200\n",
      "376/376 [==============================] - 0s - loss: 0.2362 - acc: 0.9176     \n",
      "Epoch 43/200\n",
      "376/376 [==============================] - 0s - loss: 0.2329 - acc: 0.9202     \n",
      "Epoch 44/200\n",
      "376/376 [==============================] - 0s - loss: 0.2313 - acc: 0.9229     \n",
      "Epoch 45/200\n",
      "376/376 [==============================] - 0s - loss: 0.2290 - acc: 0.9255     \n",
      "Epoch 46/200\n",
      "376/376 [==============================] - 0s - loss: 0.2255 - acc: 0.9282     \n",
      "Epoch 47/200\n",
      "376/376 [==============================] - 0s - loss: 0.2260 - acc: 0.9282     \n",
      "Epoch 48/200\n",
      "376/376 [==============================] - 0s - loss: 0.2234 - acc: 0.9282     \n",
      "Epoch 49/200\n",
      "376/376 [==============================] - 0s - loss: 0.2223 - acc: 0.9309     \n",
      "Epoch 50/200\n",
      "376/376 [==============================] - 0s - loss: 0.2197 - acc: 0.9309     \n",
      "Epoch 51/200\n",
      "376/376 [==============================] - 0s - loss: 0.2181 - acc: 0.9309     \n",
      "Epoch 52/200\n",
      "376/376 [==============================] - 0s - loss: 0.2169 - acc: 0.9362     \n",
      "Epoch 53/200\n",
      "376/376 [==============================] - 0s - loss: 0.2133 - acc: 0.9335     \n",
      "Epoch 54/200\n",
      "376/376 [==============================] - 0s - loss: 0.2121 - acc: 0.9335     \n",
      "Epoch 55/200\n",
      "376/376 [==============================] - 0s - loss: 0.2095 - acc: 0.9415     \n",
      "Epoch 56/200\n",
      "376/376 [==============================] - 0s - loss: 0.2096 - acc: 0.9362     \n",
      "Epoch 57/200\n",
      "376/376 [==============================] - 0s - loss: 0.2078 - acc: 0.9335     \n",
      "Epoch 58/200\n",
      "376/376 [==============================] - 0s - loss: 0.2043 - acc: 0.9415     \n",
      "Epoch 59/200\n",
      "376/376 [==============================] - 0s - loss: 0.2043 - acc: 0.9441     \n",
      "Epoch 60/200\n",
      "376/376 [==============================] - 0s - loss: 0.2031 - acc: 0.9388     \n",
      "Epoch 61/200\n",
      "376/376 [==============================] - 0s - loss: 0.2001 - acc: 0.9415     \n",
      "Epoch 62/200\n",
      "376/376 [==============================] - 0s - loss: 0.1986 - acc: 0.9468     \n",
      "Epoch 63/200\n",
      "376/376 [==============================] - 0s - loss: 0.1973 - acc: 0.9415     \n",
      "Epoch 64/200\n",
      "376/376 [==============================] - 0s - loss: 0.1976 - acc: 0.9415     \n",
      "Epoch 65/200\n",
      "376/376 [==============================] - 0s - loss: 0.1945 - acc: 0.9415     \n",
      "Epoch 66/200\n",
      "376/376 [==============================] - 0s - loss: 0.1922 - acc: 0.9415     \n",
      "Epoch 67/200\n",
      "376/376 [==============================] - 0s - loss: 0.1927 - acc: 0.9388     \n",
      "Epoch 68/200\n",
      "376/376 [==============================] - 0s - loss: 0.1893 - acc: 0.9468     \n",
      "Epoch 69/200\n",
      "376/376 [==============================] - 0s - loss: 0.1913 - acc: 0.9441     \n",
      "Epoch 70/200\n",
      "376/376 [==============================] - 0s - loss: 0.1889 - acc: 0.9468     \n",
      "Epoch 71/200\n",
      "376/376 [==============================] - 0s - loss: 0.1867 - acc: 0.9468     \n",
      "Epoch 72/200\n",
      "376/376 [==============================] - 0s - loss: 0.1873 - acc: 0.9415     \n",
      "Epoch 73/200\n",
      "376/376 [==============================] - 0s - loss: 0.1846 - acc: 0.9441     \n",
      "Epoch 74/200\n",
      "376/376 [==============================] - 0s - loss: 0.1860 - acc: 0.9495     \n",
      "Epoch 75/200\n",
      "376/376 [==============================] - 0s - loss: 0.1815 - acc: 0.9441     \n",
      "Epoch 76/200\n",
      "376/376 [==============================] - 0s - loss: 0.1811 - acc: 0.9495     \n",
      "Epoch 77/200\n",
      "376/376 [==============================] - 0s - loss: 0.1811 - acc: 0.9468     \n",
      "Epoch 78/200\n",
      "376/376 [==============================] - 0s - loss: 0.1787 - acc: 0.9521     \n",
      "Epoch 79/200\n",
      "376/376 [==============================] - 0s - loss: 0.1769 - acc: 0.9441     \n",
      "Epoch 80/200\n",
      "376/376 [==============================] - 0s - loss: 0.1786 - acc: 0.9495     \n",
      "Epoch 81/200\n",
      "376/376 [==============================] - 0s - loss: 0.1746 - acc: 0.9521     \n",
      "Epoch 82/200\n",
      "376/376 [==============================] - 0s - loss: 0.1743 - acc: 0.9468     \n",
      "Epoch 83/200\n",
      "376/376 [==============================] - 0s - loss: 0.1790 - acc: 0.9521     \n",
      "Epoch 84/200\n",
      "376/376 [==============================] - 0s - loss: 0.1745 - acc: 0.9495     \n",
      "Epoch 85/200\n",
      "376/376 [==============================] - 0s - loss: 0.1727 - acc: 0.9495     \n",
      "Epoch 86/200\n",
      "376/376 [==============================] - 0s - loss: 0.1726 - acc: 0.9495     \n",
      "Epoch 87/200\n",
      "376/376 [==============================] - 0s - loss: 0.1729 - acc: 0.9468     \n",
      "Epoch 88/200\n",
      "376/376 [==============================] - 0s - loss: 0.1684 - acc: 0.9468     \n",
      "Epoch 89/200\n"
     ]
    },
    {
     "name": "stdout",
     "output_type": "stream",
     "text": [
      "376/376 [==============================] - 0s - loss: 0.1671 - acc: 0.9495     \n",
      "Epoch 90/200\n",
      "376/376 [==============================] - 0s - loss: 0.1661 - acc: 0.9521     \n",
      "Epoch 91/200\n",
      "376/376 [==============================] - 0s - loss: 0.1682 - acc: 0.9495     \n",
      "Epoch 92/200\n",
      "376/376 [==============================] - 0s - loss: 0.1671 - acc: 0.9521     \n",
      "Epoch 93/200\n",
      "376/376 [==============================] - 0s - loss: 0.1674 - acc: 0.9521     \n",
      "Epoch 94/200\n",
      "376/376 [==============================] - 0s - loss: 0.1690 - acc: 0.9495     \n",
      "Epoch 95/200\n",
      "376/376 [==============================] - 0s - loss: 0.1637 - acc: 0.9521     \n",
      "Epoch 96/200\n",
      "376/376 [==============================] - 0s - loss: 0.1625 - acc: 0.9521     \n",
      "Epoch 97/200\n",
      "376/376 [==============================] - 0s - loss: 0.1636 - acc: 0.9521     \n",
      "Epoch 98/200\n",
      "376/376 [==============================] - 0s - loss: 0.1626 - acc: 0.9521     \n",
      "Epoch 99/200\n",
      "376/376 [==============================] - 0s - loss: 0.1601 - acc: 0.9521     \n",
      "Epoch 100/200\n",
      "376/376 [==============================] - 0s - loss: 0.1594 - acc: 0.9495     \n",
      "Epoch 101/200\n",
      "376/376 [==============================] - 0s - loss: 0.1593 - acc: 0.9521     \n",
      "Epoch 102/200\n",
      "376/376 [==============================] - 0s - loss: 0.1569 - acc: 0.9495     \n",
      "Epoch 103/200\n",
      "376/376 [==============================] - 0s - loss: 0.1563 - acc: 0.9548     \n",
      "Epoch 104/200\n",
      "376/376 [==============================] - 0s - loss: 0.1578 - acc: 0.9521     \n",
      "Epoch 105/200\n",
      "376/376 [==============================] - 0s - loss: 0.1565 - acc: 0.9521     \n",
      "Epoch 106/200\n",
      "376/376 [==============================] - 0s - loss: 0.1582 - acc: 0.9495     \n",
      "Epoch 107/200\n",
      "376/376 [==============================] - 0s - loss: 0.1549 - acc: 0.9521     \n",
      "Epoch 108/200\n",
      "376/376 [==============================] - 0s - loss: 0.1514 - acc: 0.9495     \n",
      "Epoch 109/200\n",
      "376/376 [==============================] - 0s - loss: 0.1547 - acc: 0.9521     \n",
      "Epoch 110/200\n",
      "376/376 [==============================] - 0s - loss: 0.1521 - acc: 0.9495     \n",
      "Epoch 111/200\n",
      "376/376 [==============================] - 0s - loss: 0.1528 - acc: 0.9548     \n",
      "Epoch 112/200\n",
      "376/376 [==============================] - 0s - loss: 0.1529 - acc: 0.9521     \n",
      "Epoch 113/200\n",
      "376/376 [==============================] - 0s - loss: 0.1501 - acc: 0.9521     \n",
      "Epoch 114/200\n",
      "376/376 [==============================] - 0s - loss: 0.1501 - acc: 0.9521     \n",
      "Epoch 115/200\n",
      "376/376 [==============================] - 0s - loss: 0.1466 - acc: 0.9548     \n",
      "Epoch 116/200\n",
      "376/376 [==============================] - 0s - loss: 0.1496 - acc: 0.9548     \n",
      "Epoch 117/200\n",
      "376/376 [==============================] - 0s - loss: 0.1524 - acc: 0.9548     \n",
      "Epoch 118/200\n",
      "376/376 [==============================] - 0s - loss: 0.1491 - acc: 0.9548     \n",
      "Epoch 119/200\n",
      "376/376 [==============================] - 0s - loss: 0.1474 - acc: 0.9548     \n",
      "Epoch 120/200\n",
      "376/376 [==============================] - 0s - loss: 0.1441 - acc: 0.9521     \n",
      "Epoch 121/200\n",
      "376/376 [==============================] - 0s - loss: 0.1452 - acc: 0.9521     \n",
      "Epoch 122/200\n",
      "376/376 [==============================] - 0s - loss: 0.1447 - acc: 0.9521     \n",
      "Epoch 123/200\n",
      "376/376 [==============================] - 0s - loss: 0.1460 - acc: 0.9548     \n",
      "Epoch 124/200\n",
      "376/376 [==============================] - 0s - loss: 0.1434 - acc: 0.9521     \n",
      "Epoch 125/200\n",
      "376/376 [==============================] - 0s - loss: 0.1439 - acc: 0.9521     \n",
      "Epoch 126/200\n",
      "376/376 [==============================] - 0s - loss: 0.1437 - acc: 0.9548     \n",
      "Epoch 127/200\n",
      "376/376 [==============================] - 0s - loss: 0.1396 - acc: 0.9521     \n",
      "Epoch 128/200\n",
      "376/376 [==============================] - 0s - loss: 0.1392 - acc: 0.9521     \n",
      "Epoch 129/200\n",
      "376/376 [==============================] - 0s - loss: 0.1421 - acc: 0.9548     \n",
      "Epoch 130/200\n",
      "376/376 [==============================] - 0s - loss: 0.1402 - acc: 0.9548     \n",
      "Epoch 131/200\n",
      "376/376 [==============================] - 0s - loss: 0.1389 - acc: 0.9574     \n",
      "Epoch 132/200\n",
      "376/376 [==============================] - 0s - loss: 0.1402 - acc: 0.9495     \n",
      "Epoch 133/200\n",
      "376/376 [==============================] - 0s - loss: 0.1386 - acc: 0.9574     \n",
      "Epoch 134/200\n",
      "376/376 [==============================] - 0s - loss: 0.1396 - acc: 0.9548     \n",
      "Epoch 135/200\n",
      "376/376 [==============================] - 0s - loss: 0.1373 - acc: 0.9521     \n",
      "Epoch 136/200\n",
      "376/376 [==============================] - 0s - loss: 0.1373 - acc: 0.9574     \n",
      "Epoch 137/200\n",
      "376/376 [==============================] - 0s - loss: 0.1376 - acc: 0.9548     \n",
      "Epoch 138/200\n",
      "376/376 [==============================] - 0s - loss: 0.1348 - acc: 0.9548     \n",
      "Epoch 139/200\n",
      "376/376 [==============================] - 0s - loss: 0.1377 - acc: 0.9601        \n",
      "Epoch 140/200\n",
      "376/376 [==============================] - 0s - loss: 0.1422 - acc: 0.9574     \n",
      "Epoch 141/200\n",
      "376/376 [==============================] - 0s - loss: 0.1416 - acc: 0.9548     \n",
      "Epoch 142/200\n",
      "376/376 [==============================] - 0s - loss: 0.1321 - acc: 0.9601     \n",
      "Epoch 143/200\n",
      "376/376 [==============================] - 0s - loss: 0.1314 - acc: 0.9574     \n",
      "Epoch 144/200\n",
      "376/376 [==============================] - 0s - loss: 0.1306 - acc: 0.9574     \n",
      "Epoch 145/200\n",
      "376/376 [==============================] - 0s - loss: 0.1332 - acc: 0.9601     \n",
      "Epoch 146/200\n",
      "376/376 [==============================] - 0s - loss: 0.1300 - acc: 0.9601     \n",
      "Epoch 147/200\n",
      "376/376 [==============================] - 0s - loss: 0.1309 - acc: 0.9548     \n",
      "Epoch 148/200\n",
      "376/376 [==============================] - 0s - loss: 0.1311 - acc: 0.9574     \n",
      "Epoch 149/200\n",
      "376/376 [==============================] - 0s - loss: 0.1322 - acc: 0.9574     \n",
      "Epoch 150/200\n",
      "376/376 [==============================] - 0s - loss: 0.1275 - acc: 0.9601        \n",
      "Epoch 151/200\n",
      "376/376 [==============================] - 0s - loss: 0.1270 - acc: 0.9574     \n",
      "Epoch 152/200\n",
      "376/376 [==============================] - 0s - loss: 0.1304 - acc: 0.9601     \n",
      "Epoch 153/200\n",
      "376/376 [==============================] - 0s - loss: 0.1300 - acc: 0.9548     \n",
      "Epoch 154/200\n",
      "376/376 [==============================] - 0s - loss: 0.1272 - acc: 0.9574     \n",
      "Epoch 155/200\n",
      "376/376 [==============================] - 0s - loss: 0.1285 - acc: 0.9628     \n",
      "Epoch 156/200\n",
      "376/376 [==============================] - 0s - loss: 0.1249 - acc: 0.9548     \n",
      "Epoch 157/200\n",
      "376/376 [==============================] - 0s - loss: 0.1257 - acc: 0.9574     \n",
      "Epoch 158/200\n",
      "376/376 [==============================] - 0s - loss: 0.1241 - acc: 0.9601     \n",
      "Epoch 159/200\n",
      "376/376 [==============================] - 0s - loss: 0.1222 - acc: 0.9601     \n",
      "Epoch 160/200\n",
      "376/376 [==============================] - 0s - loss: 0.1245 - acc: 0.9574     \n",
      "Epoch 161/200\n",
      "376/376 [==============================] - 0s - loss: 0.1202 - acc: 0.9574     \n",
      "Epoch 162/200\n",
      "376/376 [==============================] - 0s - loss: 0.1175 - acc: 0.9548     \n",
      "Epoch 163/200\n",
      "376/376 [==============================] - 0s - loss: 0.1214 - acc: 0.9574     \n",
      "Epoch 164/200\n",
      "376/376 [==============================] - 0s - loss: 0.1209 - acc: 0.9574         \n",
      "Epoch 165/200\n",
      "376/376 [==============================] - 0s - loss: 0.1180 - acc: 0.9601     \n",
      "Epoch 166/200\n",
      "376/376 [==============================] - 0s - loss: 0.1210 - acc: 0.9548     \n",
      "Epoch 167/200\n",
      "376/376 [==============================] - 0s - loss: 0.1165 - acc: 0.9601     \n",
      "Epoch 168/200\n",
      "376/376 [==============================] - 0s - loss: 0.1181 - acc: 0.9521     \n",
      "Epoch 169/200\n",
      "376/376 [==============================] - 0s - loss: 0.1177 - acc: 0.9601     \n",
      "Epoch 170/200\n",
      "376/376 [==============================] - 0s - loss: 0.1167 - acc: 0.9601     \n",
      "Epoch 171/200\n",
      "376/376 [==============================] - 0s - loss: 0.1185 - acc: 0.9574     \n",
      "Epoch 172/200\n",
      "376/376 [==============================] - 0s - loss: 0.1156 - acc: 0.9601     \n",
      "Epoch 173/200\n",
      "376/376 [==============================] - 0s - loss: 0.1156 - acc: 0.9574     \n",
      "Epoch 174/200\n",
      "376/376 [==============================] - 0s - loss: 0.1129 - acc: 0.9628     \n",
      "Epoch 175/200\n",
      "376/376 [==============================] - 0s - loss: 0.1154 - acc: 0.9548     \n",
      "Epoch 176/200\n"
     ]
    },
    {
     "name": "stdout",
     "output_type": "stream",
     "text": [
      "376/376 [==============================] - 0s - loss: 0.1191 - acc: 0.9548     \n",
      "Epoch 177/200\n",
      "376/376 [==============================] - 0s - loss: 0.1128 - acc: 0.9574     \n",
      "Epoch 178/200\n",
      "376/376 [==============================] - 0s - loss: 0.1135 - acc: 0.9601     \n",
      "Epoch 179/200\n",
      "376/376 [==============================] - 0s - loss: 0.1177 - acc: 0.9548     \n",
      "Epoch 180/200\n",
      "376/376 [==============================] - 0s - loss: 0.1109 - acc: 0.9574     \n",
      "Epoch 181/200\n",
      "376/376 [==============================] - 0s - loss: 0.1151 - acc: 0.9574     \n",
      "Epoch 182/200\n",
      "376/376 [==============================] - 0s - loss: 0.1116 - acc: 0.9574     \n",
      "Epoch 183/200\n",
      "376/376 [==============================] - 0s - loss: 0.1078 - acc: 0.9654     \n",
      "Epoch 184/200\n",
      "376/376 [==============================] - 0s - loss: 0.1080 - acc: 0.9681     \n",
      "Epoch 185/200\n",
      "376/376 [==============================] - 0s - loss: 0.1093 - acc: 0.9601     \n",
      "Epoch 186/200\n",
      "376/376 [==============================] - 0s - loss: 0.1067 - acc: 0.9628     \n",
      "Epoch 187/200\n",
      "376/376 [==============================] - 0s - loss: 0.1046 - acc: 0.9654     \n",
      "Epoch 188/200\n",
      "376/376 [==============================] - 0s - loss: 0.1031 - acc: 0.9601     \n",
      "Epoch 189/200\n",
      "376/376 [==============================] - 0s - loss: 0.1111 - acc: 0.9601     \n",
      "Epoch 190/200\n",
      "376/376 [==============================] - 0s - loss: 0.1070 - acc: 0.9574     \n",
      "Epoch 191/200\n",
      "376/376 [==============================] - 0s - loss: 0.1030 - acc: 0.9654     \n",
      "Epoch 192/200\n",
      "376/376 [==============================] - 0s - loss: 0.1075 - acc: 0.9574     \n",
      "Epoch 193/200\n",
      "376/376 [==============================] - 0s - loss: 0.1057 - acc: 0.9628        \n",
      "Epoch 194/200\n",
      "376/376 [==============================] - 0s - loss: 0.1050 - acc: 0.9601     \n",
      "Epoch 195/200\n",
      "376/376 [==============================] - 0s - loss: 0.1063 - acc: 0.9628        \n",
      "Epoch 196/200\n",
      "376/376 [==============================] - 0s - loss: 0.1060 - acc: 0.9628     \n",
      "Epoch 197/200\n",
      "376/376 [==============================] - 0s - loss: 0.1108 - acc: 0.9574     \n",
      "Epoch 198/200\n",
      "376/376 [==============================] - 0s - loss: 0.1043 - acc: 0.9601     \n",
      "Epoch 199/200\n",
      "376/376 [==============================] - 0s - loss: 0.0999 - acc: 0.9628     \n",
      "Epoch 200/200\n",
      "376/376 [==============================] - 0s - loss: 0.0996 - acc: 0.9681     \n"
     ]
    },
    {
     "data": {
      "text/plain": [
       "<keras.callbacks.History at 0x9a340eda20>"
      ]
     },
     "execution_count": 36,
     "metadata": {},
     "output_type": "execute_result"
    }
   ],
   "source": [
    "clf_ann = Sequential()\n",
    "\n",
    "# First Hidden Layer\n",
    "clf_ann.add(Dense(output_dim = 13, init = 'uniform', activation = 'relu', input_dim = 24))\n",
    "\n",
    "# Second Hidden Layer\n",
    "clf_ann.add(Dense(output_dim = 13, init = 'uniform', activation = 'relu'))\n",
    "\n",
    "# Output Layer\n",
    "clf_ann.add(Dense(output_dim = 1, init = 'uniform', activation = 'sigmoid'))\n",
    "\n",
    "# Compile the ANN\n",
    "clf_ann.compile(optimizer = 'adam', loss = 'binary_crossentropy', metrics = ['accuracy'])\n",
    "\n",
    "# Train the ANN on the Train Data\n",
    "clf_ann.fit(X_train, Y_train, batch_size = 5, nb_epoch = 200)"
   ]
  },
  {
   "cell_type": "code",
   "execution_count": 37,
   "metadata": {
    "collapsed": true
   },
   "outputs": [],
   "source": [
    "# Test the ANN on the Test Data\n",
    "Y_pred = clf_ann.predict(X_test)\n",
    "Y_pred = (Y_pred > 0.5)"
   ]
  },
  {
   "cell_type": "markdown",
   "metadata": {},
   "source": [
    "## Check the Accuracy"
   ]
  },
  {
   "cell_type": "code",
   "execution_count": 38,
   "metadata": {
    "collapsed": true
   },
   "outputs": [],
   "source": [
    "from sklearn.metrics import accuracy_score, confusion_matrix"
   ]
  },
  {
   "cell_type": "code",
   "execution_count": 39,
   "metadata": {},
   "outputs": [
    {
     "data": {
      "text/plain": [
       "0.7978723404255319"
      ]
     },
     "execution_count": 39,
     "metadata": {},
     "output_type": "execute_result"
    }
   ],
   "source": [
    "accuracy_score(Y_test, Y_pred)"
   ]
  },
  {
   "cell_type": "code",
   "execution_count": 40,
   "metadata": {},
   "outputs": [
    {
     "data": {
      "text/plain": [
       "array([[74,  2],\n",
       "       [17,  1]], dtype=int64)"
      ]
     },
     "execution_count": 40,
     "metadata": {},
     "output_type": "execute_result"
    }
   ],
   "source": [
    "confusion_matrix(Y_test, Y_pred)"
   ]
  },
  {
   "cell_type": "code",
   "execution_count": null,
   "metadata": {
    "collapsed": true
   },
   "outputs": [],
   "source": []
  }
 ],
 "metadata": {
  "kernelspec": {
   "display_name": "Python [default]",
   "language": "python",
   "name": "python3"
  },
  "language_info": {
   "codemirror_mode": {
    "name": "ipython",
    "version": 3
   },
   "file_extension": ".py",
   "mimetype": "text/x-python",
   "name": "python",
   "nbconvert_exporter": "python",
   "pygments_lexer": "ipython3",
   "version": "3.5.4"
  }
 },
 "nbformat": 4,
 "nbformat_minor": 2
}
