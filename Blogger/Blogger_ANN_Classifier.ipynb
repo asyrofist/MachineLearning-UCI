{
 "cells": [
  {
   "cell_type": "markdown",
   "metadata": {},
   "source": [
    "## Initialization"
   ]
  },
  {
   "cell_type": "code",
   "execution_count": 1,
   "metadata": {},
   "outputs": [
    {
     "name": "stderr",
     "output_type": "stream",
     "text": [
      "Using Theano backend.\n"
     ]
    }
   ],
   "source": [
    "import pandas as pd\n",
    "import numpy as np\n",
    "import keras"
   ]
  },
  {
   "cell_type": "markdown",
   "metadata": {},
   "source": [
    "## Importing the Data"
   ]
  },
  {
   "cell_type": "code",
   "execution_count": 2,
   "metadata": {},
   "outputs": [
    {
     "data": {
      "text/plain": [
       "(100, 6)"
      ]
     },
     "execution_count": 2,
     "metadata": {},
     "output_type": "execute_result"
    }
   ],
   "source": [
    "dataset = pd.read_excel('Blogger.xlsx')\n",
    "dataset.shape"
   ]
  },
  {
   "cell_type": "code",
   "execution_count": 3,
   "metadata": {},
   "outputs": [
    {
     "data": {
      "text/html": [
       "<div>\n",
       "<style>\n",
       "    .dataframe thead tr:only-child th {\n",
       "        text-align: right;\n",
       "    }\n",
       "\n",
       "    .dataframe thead th {\n",
       "        text-align: left;\n",
       "    }\n",
       "\n",
       "    .dataframe tbody tr th {\n",
       "        vertical-align: top;\n",
       "    }\n",
       "</style>\n",
       "<table border=\"1\" class=\"dataframe\">\n",
       "  <thead>\n",
       "    <tr style=\"text-align: right;\">\n",
       "      <th></th>\n",
       "      <th>Degree</th>\n",
       "      <th>caprice</th>\n",
       "      <th>topic</th>\n",
       "      <th>lmt</th>\n",
       "      <th>lpss</th>\n",
       "      <th>pb</th>\n",
       "    </tr>\n",
       "  </thead>\n",
       "  <tbody>\n",
       "    <tr>\n",
       "      <th>0</th>\n",
       "      <td>high</td>\n",
       "      <td>left</td>\n",
       "      <td>impression</td>\n",
       "      <td>yes</td>\n",
       "      <td>yes</td>\n",
       "      <td>yes</td>\n",
       "    </tr>\n",
       "    <tr>\n",
       "      <th>1</th>\n",
       "      <td>high</td>\n",
       "      <td>left</td>\n",
       "      <td>political</td>\n",
       "      <td>yes</td>\n",
       "      <td>yes</td>\n",
       "      <td>yes</td>\n",
       "    </tr>\n",
       "    <tr>\n",
       "      <th>2</th>\n",
       "      <td>medium</td>\n",
       "      <td>middle</td>\n",
       "      <td>tourism</td>\n",
       "      <td>yes</td>\n",
       "      <td>yes</td>\n",
       "      <td>yes</td>\n",
       "    </tr>\n",
       "    <tr>\n",
       "      <th>3</th>\n",
       "      <td>high</td>\n",
       "      <td>left</td>\n",
       "      <td>political</td>\n",
       "      <td>yes</td>\n",
       "      <td>yes</td>\n",
       "      <td>yes</td>\n",
       "    </tr>\n",
       "    <tr>\n",
       "      <th>4</th>\n",
       "      <td>medium</td>\n",
       "      <td>middle</td>\n",
       "      <td>news</td>\n",
       "      <td>yes</td>\n",
       "      <td>yes</td>\n",
       "      <td>yes</td>\n",
       "    </tr>\n",
       "  </tbody>\n",
       "</table>\n",
       "</div>"
      ],
      "text/plain": [
       "   Degree caprice       topic  lmt lpss   pb\n",
       "0    high    left  impression  yes  yes  yes\n",
       "1    high    left   political  yes  yes  yes\n",
       "2  medium  middle     tourism  yes  yes  yes\n",
       "3    high    left   political  yes  yes  yes\n",
       "4  medium  middle        news  yes  yes  yes"
      ]
     },
     "execution_count": 3,
     "metadata": {},
     "output_type": "execute_result"
    }
   ],
   "source": [
    "dataset.head()"
   ]
  },
  {
   "cell_type": "markdown",
   "metadata": {},
   "source": [
    "## Create X and Y"
   ]
  },
  {
   "cell_type": "code",
   "execution_count": 4,
   "metadata": {
    "collapsed": true
   },
   "outputs": [],
   "source": [
    "X = dataset.iloc[:, 0:5].values\n",
    "Y = dataset.iloc[:, 5].values"
   ]
  },
  {
   "cell_type": "markdown",
   "metadata": {},
   "source": [
    "## Preprocess the Data"
   ]
  },
  {
   "cell_type": "code",
   "execution_count": 5,
   "metadata": {
    "collapsed": true
   },
   "outputs": [],
   "source": [
    "from sklearn.preprocessing import LabelEncoder, OneHotEncoder\n",
    "le_Y = LabelEncoder()\n",
    "Y = le_Y.fit_transform(Y)"
   ]
  },
  {
   "cell_type": "code",
   "execution_count": 6,
   "metadata": {},
   "outputs": [
    {
     "data": {
      "text/plain": [
       "array([1, 1, 1, 1, 1, 1, 1, 1, 0, 1, 1, 1, 0, 0, 1, 1, 1, 1, 1, 0, 1, 1, 0,\n",
       "       0, 1, 1, 1, 1, 1, 0, 1, 0, 0, 1, 1, 1, 1, 0, 0, 1, 0, 1, 1, 0, 1, 1,\n",
       "       0, 0, 0, 1, 1, 1, 1, 1, 1, 1, 1, 1, 0, 1, 1, 1, 0, 0, 1, 1, 1, 1, 1,\n",
       "       0, 1, 1, 0, 0, 1, 1, 1, 1, 1, 0, 1, 0, 0, 1, 1, 1, 1, 0, 0, 1, 0, 1,\n",
       "       1, 0, 1, 1, 0, 0, 0, 1], dtype=int64)"
      ]
     },
     "execution_count": 6,
     "metadata": {},
     "output_type": "execute_result"
    }
   ],
   "source": [
    "Y"
   ]
  },
  {
   "cell_type": "code",
   "execution_count": 7,
   "metadata": {
    "collapsed": true
   },
   "outputs": [],
   "source": [
    "le0 = LabelEncoder()\n",
    "le1 = LabelEncoder()\n",
    "le2 = LabelEncoder()\n",
    "\n",
    "X[:, 0] = le0.fit_transform(X[:, 0])\n",
    "X[:, 1] = le1.fit_transform(X[:, 1])\n",
    "X[:, 2] = le2.fit_transform(X[:, 2])\n",
    "X[:, 3] = le_Y.transform(X[:, 3])\n",
    "X[:, 4] = le_Y.transform(X[:, 4])"
   ]
  },
  {
   "cell_type": "code",
   "execution_count": 8,
   "metadata": {
    "scrolled": true
   },
   "outputs": [
    {
     "data": {
      "text/plain": [
       "array([0, 0, 0, 1, 1], dtype=object)"
      ]
     },
     "execution_count": 8,
     "metadata": {},
     "output_type": "execute_result"
    }
   ],
   "source": [
    "X[0]"
   ]
  },
  {
   "cell_type": "code",
   "execution_count": 9,
   "metadata": {
    "collapsed": true
   },
   "outputs": [],
   "source": [
    "ohe0 = OneHotEncoder(categorical_features = [0])\n",
    "X = ohe0.fit_transform(X).toarray()\n",
    "X = X[:, 1:]"
   ]
  },
  {
   "cell_type": "code",
   "execution_count": 10,
   "metadata": {
    "collapsed": true
   },
   "outputs": [],
   "source": [
    "ohe1 = OneHotEncoder(categorical_features = [2])\n",
    "X = ohe1.fit_transform(X).toarray()\n",
    "X = X[:, 1:]"
   ]
  },
  {
   "cell_type": "code",
   "execution_count": 11,
   "metadata": {
    "collapsed": true
   },
   "outputs": [],
   "source": [
    "ohe1 = OneHotEncoder(categorical_features = [4])\n",
    "X = ohe1.fit_transform(X).toarray()\n",
    "X = X[:, 1:]"
   ]
  },
  {
   "cell_type": "markdown",
   "metadata": {},
   "source": [
    "## Create Train and Test Data"
   ]
  },
  {
   "cell_type": "code",
   "execution_count": 12,
   "metadata": {
    "collapsed": true
   },
   "outputs": [],
   "source": [
    "from sklearn.model_selection import train_test_split\n",
    "X_train, X_test, Y_train, Y_test = train_test_split(X, Y, test_size = 0.2, random_state = 4)"
   ]
  },
  {
   "cell_type": "markdown",
   "metadata": {},
   "source": [
    "## Create and Train the Classifier"
   ]
  },
  {
   "cell_type": "code",
   "execution_count": 13,
   "metadata": {
    "collapsed": true
   },
   "outputs": [],
   "source": [
    "from keras.models import Sequential\n",
    "from keras.layers import Dense"
   ]
  },
  {
   "cell_type": "code",
   "execution_count": 14,
   "metadata": {},
   "outputs": [
    {
     "name": "stderr",
     "output_type": "stream",
     "text": [
      "C:\\Users\\user\\Anaconda3\\lib\\site-packages\\ipykernel\\__main__.py:4: UserWarning: Update your `Dense` call to the Keras 2 API: `Dense(units=5, input_dim=10, kernel_initializer=\"uniform\", activation=\"relu\")`\n",
      "C:\\Users\\user\\Anaconda3\\lib\\site-packages\\ipykernel\\__main__.py:7: UserWarning: Update your `Dense` call to the Keras 2 API: `Dense(kernel_initializer=\"uniform\", units=10, activation=\"relu\")`\n",
      "C:\\Users\\user\\Anaconda3\\lib\\site-packages\\ipykernel\\__main__.py:10: UserWarning: Update your `Dense` call to the Keras 2 API: `Dense(kernel_initializer=\"uniform\", units=1, activation=\"sigmoid\")`\n",
      "C:\\Users\\user\\Anaconda3\\lib\\site-packages\\keras\\models.py:844: UserWarning: The `nb_epoch` argument in `fit` has been renamed `epochs`.\n",
      "  warnings.warn('The `nb_epoch` argument in `fit` '\n"
     ]
    },
    {
     "name": "stdout",
     "output_type": "stream",
     "text": [
      "Epoch 1/200\n",
      "80/80 [==============================] - 0s - loss: 0.6921 - acc: 0.6875     \n",
      "Epoch 2/200\n",
      "80/80 [==============================] - 0s - loss: 0.6896 - acc: 0.7000     \n",
      "Epoch 3/200\n",
      "80/80 [==============================] - 0s - loss: 0.6869 - acc: 0.7000     \n",
      "Epoch 4/200\n",
      "80/80 [==============================] - 0s - loss: 0.6836 - acc: 0.7000     \n",
      "Epoch 5/200\n",
      "80/80 [==============================] - 0s - loss: 0.6794 - acc: 0.7000     \n",
      "Epoch 6/200\n",
      "80/80 [==============================] - 0s - loss: 0.6742 - acc: 0.7000     \n",
      "Epoch 7/200\n",
      "80/80 [==============================] - 0s - loss: 0.6673 - acc: 0.7000     \n",
      "Epoch 8/200\n",
      "80/80 [==============================] - 0s - loss: 0.6589 - acc: 0.7000     \n",
      "Epoch 9/200\n",
      "80/80 [==============================] - 0s - loss: 0.6484 - acc: 0.7000     \n",
      "Epoch 10/200\n",
      "80/80 [==============================] - 0s - loss: 0.6381 - acc: 0.7000     \n",
      "Epoch 11/200\n",
      "80/80 [==============================] - 0s - loss: 0.6274 - acc: 0.7000     \n",
      "Epoch 12/200\n",
      "80/80 [==============================] - 0s - loss: 0.6194 - acc: 0.7000     \n",
      "Epoch 13/200\n",
      "80/80 [==============================] - 0s - loss: 0.6099 - acc: 0.7000     \n",
      "Epoch 14/200\n",
      "80/80 [==============================] - 0s - loss: 0.6052 - acc: 0.7000     \n",
      "Epoch 15/200\n",
      "80/80 [==============================] - 0s - loss: 0.5999 - acc: 0.7000     \n",
      "Epoch 16/200\n",
      "80/80 [==============================] - 0s - loss: 0.5962 - acc: 0.7000     \n",
      "Epoch 17/200\n",
      "80/80 [==============================] - 0s - loss: 0.5939 - acc: 0.7000     \n",
      "Epoch 18/200\n",
      "80/80 [==============================] - 0s - loss: 0.5896 - acc: 0.7000     \n",
      "Epoch 19/200\n",
      "80/80 [==============================] - 0s - loss: 0.5869 - acc: 0.7000     \n",
      "Epoch 20/200\n",
      "80/80 [==============================] - 0s - loss: 0.5844 - acc: 0.7000     \n",
      "Epoch 21/200\n",
      "80/80 [==============================] - 0s - loss: 0.5817 - acc: 0.7000     \n",
      "Epoch 22/200\n",
      "80/80 [==============================] - 0s - loss: 0.5788 - acc: 0.7000     \n",
      "Epoch 23/200\n",
      "80/80 [==============================] - 0s - loss: 0.5764 - acc: 0.7000     \n",
      "Epoch 24/200\n",
      "80/80 [==============================] - 0s - loss: 0.5740 - acc: 0.7000     \n",
      "Epoch 25/200\n",
      "80/80 [==============================] - 0s - loss: 0.5719 - acc: 0.7000     \n",
      "Epoch 26/200\n",
      "80/80 [==============================] - 0s - loss: 0.5691 - acc: 0.7000     \n",
      "Epoch 27/200\n",
      "80/80 [==============================] - 0s - loss: 0.5664 - acc: 0.7000     \n",
      "Epoch 28/200\n",
      "80/80 [==============================] - 0s - loss: 0.5643 - acc: 0.7000     \n",
      "Epoch 29/200\n",
      "80/80 [==============================] - 0s - loss: 0.5623 - acc: 0.7000     \n",
      "Epoch 30/200\n",
      "80/80 [==============================] - 0s - loss: 0.5593 - acc: 0.7000     \n",
      "Epoch 31/200\n",
      "80/80 [==============================] - 0s - loss: 0.5584 - acc: 0.7000     \n",
      "Epoch 32/200\n",
      "80/80 [==============================] - 0s - loss: 0.5559 - acc: 0.7000     \n",
      "Epoch 33/200\n",
      "80/80 [==============================] - 0s - loss: 0.5530 - acc: 0.7000     \n",
      "Epoch 34/200\n",
      "80/80 [==============================] - 0s - loss: 0.5515 - acc: 0.7000     \n",
      "Epoch 35/200\n",
      "80/80 [==============================] - 0s - loss: 0.5486 - acc: 0.7000     \n",
      "Epoch 36/200\n",
      "80/80 [==============================] - ETA: 0s - loss: 0.4326 - acc: 0.800 - 0s - loss: 0.5472 - acc: 0.7000     \n",
      "Epoch 37/200\n",
      "80/80 [==============================] - 0s - loss: 0.5444 - acc: 0.7000     \n",
      "Epoch 38/200\n",
      "80/80 [==============================] - 0s - loss: 0.5426 - acc: 0.7000     \n",
      "Epoch 39/200\n",
      "80/80 [==============================] - 0s - loss: 0.5408 - acc: 0.7000     \n",
      "Epoch 40/200\n",
      "80/80 [==============================] - 0s - loss: 0.5393 - acc: 0.7000     \n",
      "Epoch 41/200\n",
      "80/80 [==============================] - 0s - loss: 0.5370 - acc: 0.7000     \n",
      "Epoch 42/200\n",
      "80/80 [==============================] - 0s - loss: 0.5354 - acc: 0.7000     \n",
      "Epoch 43/200\n",
      "80/80 [==============================] - 0s - loss: 0.5341 - acc: 0.7000     \n",
      "Epoch 44/200\n",
      "80/80 [==============================] - 0s - loss: 0.5328 - acc: 0.7000     \n",
      "Epoch 45/200\n",
      "80/80 [==============================] - 0s - loss: 0.5307 - acc: 0.7000     \n",
      "Epoch 46/200\n",
      "80/80 [==============================] - 0s - loss: 0.5298 - acc: 0.7000     \n",
      "Epoch 47/200\n",
      "80/80 [==============================] - 0s - loss: 0.5285 - acc: 0.7000     \n",
      "Epoch 48/200\n",
      "80/80 [==============================] - 0s - loss: 0.5270 - acc: 0.7000     \n",
      "Epoch 49/200\n",
      "80/80 [==============================] - 0s - loss: 0.5254 - acc: 0.7000     \n",
      "Epoch 50/200\n",
      "80/80 [==============================] - 0s - loss: 0.5241 - acc: 0.7000     \n",
      "Epoch 51/200\n",
      "80/80 [==============================] - 0s - loss: 0.5232 - acc: 0.7000     \n",
      "Epoch 52/200\n",
      "80/80 [==============================] - 0s - loss: 0.5214 - acc: 0.7000     \n",
      "Epoch 53/200\n",
      "80/80 [==============================] - 0s - loss: 0.5201 - acc: 0.7000     \n",
      "Epoch 54/200\n",
      "80/80 [==============================] - 0s - loss: 0.5180 - acc: 0.7000     \n",
      "Epoch 55/200\n",
      "80/80 [==============================] - 0s - loss: 0.5173 - acc: 0.7000     \n",
      "Epoch 56/200\n",
      "80/80 [==============================] - 0s - loss: 0.5157 - acc: 0.7000     \n",
      "Epoch 57/200\n",
      "80/80 [==============================] - 0s - loss: 0.5144 - acc: 0.7000     \n",
      "Epoch 58/200\n",
      "80/80 [==============================] - 0s - loss: 0.5126 - acc: 0.7000     \n",
      "Epoch 59/200\n",
      "80/80 [==============================] - 0s - loss: 0.5117 - acc: 0.7000     \n",
      "Epoch 60/200\n",
      "80/80 [==============================] - 0s - loss: 0.5097 - acc: 0.7000     \n",
      "Epoch 61/200\n",
      "80/80 [==============================] - 0s - loss: 0.5088 - acc: 0.7000     \n",
      "Epoch 62/200\n",
      "80/80 [==============================] - 0s - loss: 0.5075 - acc: 0.7000     \n",
      "Epoch 63/200\n",
      "80/80 [==============================] - 0s - loss: 0.5061 - acc: 0.7000     \n",
      "Epoch 64/200\n",
      "80/80 [==============================] - 0s - loss: 0.5055 - acc: 0.7000     \n",
      "Epoch 65/200\n",
      "80/80 [==============================] - 0s - loss: 0.5047 - acc: 0.7000     \n",
      "Epoch 66/200\n",
      "80/80 [==============================] - 0s - loss: 0.5022 - acc: 0.7000     \n",
      "Epoch 67/200\n",
      "80/80 [==============================] - 0s - loss: 0.5015 - acc: 0.7000     \n",
      "Epoch 68/200\n",
      "80/80 [==============================] - 0s - loss: 0.5004 - acc: 0.7000     \n",
      "Epoch 69/200\n",
      "80/80 [==============================] - 0s - loss: 0.4983 - acc: 0.7000     \n",
      "Epoch 70/200\n",
      "80/80 [==============================] - 0s - loss: 0.4967 - acc: 0.7000     \n",
      "Epoch 71/200\n",
      "80/80 [==============================] - 0s - loss: 0.4954 - acc: 0.7000     \n",
      "Epoch 72/200\n",
      "80/80 [==============================] - 0s - loss: 0.4928 - acc: 0.7000     \n",
      "Epoch 73/200\n",
      "80/80 [==============================] - 0s - loss: 0.4907 - acc: 0.7000     \n",
      "Epoch 74/200\n",
      "80/80 [==============================] - 0s - loss: 0.4888 - acc: 0.7000     \n",
      "Epoch 75/200\n",
      "80/80 [==============================] - 0s - loss: 0.4871 - acc: 0.7000     \n",
      "Epoch 76/200\n",
      "80/80 [==============================] - 0s - loss: 0.4855 - acc: 0.7000     \n",
      "Epoch 77/200\n",
      "80/80 [==============================] - 0s - loss: 0.4841 - acc: 0.7000     \n",
      "Epoch 78/200\n",
      "80/80 [==============================] - 0s - loss: 0.4827 - acc: 0.7000     \n",
      "Epoch 79/200\n",
      "80/80 [==============================] - 0s - loss: 0.4810 - acc: 0.7625     \n",
      "Epoch 80/200\n",
      "80/80 [==============================] - 0s - loss: 0.4792 - acc: 0.7625     \n",
      "Epoch 81/200\n",
      "80/80 [==============================] - 0s - loss: 0.4780 - acc: 0.7625     \n",
      "Epoch 82/200\n",
      "80/80 [==============================] - 0s - loss: 0.4778 - acc: 0.7625     \n",
      "Epoch 83/200\n",
      "80/80 [==============================] - 0s - loss: 0.4756 - acc: 0.7500     \n",
      "Epoch 84/200\n",
      "80/80 [==============================] - 0s - loss: 0.4744 - acc: 0.7750     \n",
      "Epoch 85/200\n",
      "80/80 [==============================] - 0s - loss: 0.4726 - acc: 0.7625     \n",
      "Epoch 86/200\n",
      "80/80 [==============================] - 0s - loss: 0.4714 - acc: 0.7625     \n",
      "Epoch 87/200\n",
      "80/80 [==============================] - 0s - loss: 0.4709 - acc: 0.7625     \n",
      "Epoch 88/200\n",
      "80/80 [==============================] - 0s - loss: 0.4690 - acc: 0.7625     \n",
      "Epoch 89/200\n",
      "80/80 [==============================] - 0s - loss: 0.4684 - acc: 0.7750     \n",
      "Epoch 90/200\n"
     ]
    },
    {
     "name": "stdout",
     "output_type": "stream",
     "text": [
      "80/80 [==============================] - 0s - loss: 0.4672 - acc: 0.7625     \n",
      "Epoch 91/200\n",
      "80/80 [==============================] - 0s - loss: 0.4659 - acc: 0.7750     \n",
      "Epoch 92/200\n",
      "80/80 [==============================] - 0s - loss: 0.4662 - acc: 0.7750     \n",
      "Epoch 93/200\n",
      "80/80 [==============================] - 0s - loss: 0.4652 - acc: 0.7750     \n",
      "Epoch 94/200\n",
      "80/80 [==============================] - 0s - loss: 0.4626 - acc: 0.7750     \n",
      "Epoch 95/200\n",
      "80/80 [==============================] - 0s - loss: 0.4607 - acc: 0.7750     \n",
      "Epoch 96/200\n",
      "80/80 [==============================] - 0s - loss: 0.4615 - acc: 0.7625     \n",
      "Epoch 97/200\n",
      "80/80 [==============================] - 0s - loss: 0.4584 - acc: 0.7875     \n",
      "Epoch 98/200\n",
      "80/80 [==============================] - 0s - loss: 0.4578 - acc: 0.7750     \n",
      "Epoch 99/200\n",
      "80/80 [==============================] - 0s - loss: 0.4564 - acc: 0.7750     \n",
      "Epoch 100/200\n",
      "80/80 [==============================] - 0s - loss: 0.4554 - acc: 0.7875     \n",
      "Epoch 101/200\n",
      "80/80 [==============================] - 0s - loss: 0.4536 - acc: 0.8125     \n",
      "Epoch 102/200\n",
      "80/80 [==============================] - 0s - loss: 0.4528 - acc: 0.8125     \n",
      "Epoch 103/200\n",
      "80/80 [==============================] - 0s - loss: 0.4527 - acc: 0.8000     \n",
      "Epoch 104/200\n",
      "80/80 [==============================] - 0s - loss: 0.4505 - acc: 0.8125     \n",
      "Epoch 105/200\n",
      "80/80 [==============================] - 0s - loss: 0.4499 - acc: 0.8375     \n",
      "Epoch 106/200\n",
      "80/80 [==============================] - 0s - loss: 0.4487 - acc: 0.8250     \n",
      "Epoch 107/200\n",
      "80/80 [==============================] - 0s - loss: 0.4475 - acc: 0.8500     \n",
      "Epoch 108/200\n",
      "80/80 [==============================] - 0s - loss: 0.4464 - acc: 0.8500     \n",
      "Epoch 109/200\n",
      "80/80 [==============================] - 0s - loss: 0.4457 - acc: 0.8500     \n",
      "Epoch 110/200\n",
      "80/80 [==============================] - 0s - loss: 0.4438 - acc: 0.8500     \n",
      "Epoch 111/200\n",
      "80/80 [==============================] - 0s - loss: 0.4432 - acc: 0.8500     \n",
      "Epoch 112/200\n",
      "80/80 [==============================] - 0s - loss: 0.4419 - acc: 0.8500     \n",
      "Epoch 113/200\n",
      "80/80 [==============================] - 0s - loss: 0.4407 - acc: 0.8500     \n",
      "Epoch 114/200\n",
      "80/80 [==============================] - 0s - loss: 0.4412 - acc: 0.8500     \n",
      "Epoch 115/200\n",
      "80/80 [==============================] - 0s - loss: 0.4388 - acc: 0.8500     \n",
      "Epoch 116/200\n",
      "80/80 [==============================] - 0s - loss: 0.4396 - acc: 0.8500     \n",
      "Epoch 117/200\n",
      "80/80 [==============================] - 0s - loss: 0.4375 - acc: 0.8500     \n",
      "Epoch 118/200\n",
      "80/80 [==============================] - 0s - loss: 0.4362 - acc: 0.8625     \n",
      "Epoch 119/200\n",
      "80/80 [==============================] - 0s - loss: 0.4356 - acc: 0.8625     \n",
      "Epoch 120/200\n",
      "80/80 [==============================] - 0s - loss: 0.4353 - acc: 0.8625     \n",
      "Epoch 121/200\n",
      "80/80 [==============================] - 0s - loss: 0.4344 - acc: 0.8625     \n",
      "Epoch 122/200\n",
      "80/80 [==============================] - 0s - loss: 0.4331 - acc: 0.8625     \n",
      "Epoch 123/200\n",
      "80/80 [==============================] - 0s - loss: 0.4321 - acc: 0.8625     \n",
      "Epoch 124/200\n",
      "80/80 [==============================] - 0s - loss: 0.4316 - acc: 0.8625     \n",
      "Epoch 125/200\n",
      "80/80 [==============================] - 0s - loss: 0.4309 - acc: 0.8625     \n",
      "Epoch 126/200\n",
      "80/80 [==============================] - 0s - loss: 0.4310 - acc: 0.8625     \n",
      "Epoch 127/200\n",
      "80/80 [==============================] - 0s - loss: 0.4299 - acc: 0.8625     \n",
      "Epoch 128/200\n",
      "80/80 [==============================] - 0s - loss: 0.4303 - acc: 0.8625     \n",
      "Epoch 129/200\n",
      "80/80 [==============================] - 0s - loss: 0.4296 - acc: 0.8625     \n",
      "Epoch 130/200\n",
      "80/80 [==============================] - 0s - loss: 0.4280 - acc: 0.8625     \n",
      "Epoch 131/200\n",
      "80/80 [==============================] - 0s - loss: 0.4272 - acc: 0.8625     \n",
      "Epoch 132/200\n",
      "80/80 [==============================] - 0s - loss: 0.4266 - acc: 0.8625     \n",
      "Epoch 133/200\n",
      "80/80 [==============================] - 0s - loss: 0.4259 - acc: 0.8625     \n",
      "Epoch 134/200\n",
      "80/80 [==============================] - 0s - loss: 0.4249 - acc: 0.8625     \n",
      "Epoch 135/200\n",
      "80/80 [==============================] - 0s - loss: 0.4252 - acc: 0.8625     \n",
      "Epoch 136/200\n",
      "80/80 [==============================] - 0s - loss: 0.4245 - acc: 0.8625     \n",
      "Epoch 137/200\n",
      "80/80 [==============================] - 0s - loss: 0.4231 - acc: 0.8625     \n",
      "Epoch 138/200\n",
      "80/80 [==============================] - 0s - loss: 0.4227 - acc: 0.8625     \n",
      "Epoch 139/200\n",
      "80/80 [==============================] - 0s - loss: 0.4220 - acc: 0.8625     \n",
      "Epoch 140/200\n",
      "80/80 [==============================] - 0s - loss: 0.4211 - acc: 0.8625     \n",
      "Epoch 141/200\n",
      "80/80 [==============================] - 0s - loss: 0.4203 - acc: 0.8625     \n",
      "Epoch 142/200\n",
      "80/80 [==============================] - 0s - loss: 0.4199 - acc: 0.8625     \n",
      "Epoch 143/200\n",
      "80/80 [==============================] - 0s - loss: 0.4204 - acc: 0.8625     \n",
      "Epoch 144/200\n",
      "80/80 [==============================] - 0s - loss: 0.4199 - acc: 0.8625     \n",
      "Epoch 145/200\n",
      "80/80 [==============================] - 0s - loss: 0.4219 - acc: 0.8625     \n",
      "Epoch 146/200\n",
      "80/80 [==============================] - 0s - loss: 0.4174 - acc: 0.8625     \n",
      "Epoch 147/200\n",
      "80/80 [==============================] - 0s - loss: 0.4170 - acc: 0.8625     \n",
      "Epoch 148/200\n",
      "80/80 [==============================] - 0s - loss: 0.4157 - acc: 0.8625     \n",
      "Epoch 149/200\n",
      "80/80 [==============================] - 0s - loss: 0.4156 - acc: 0.8625     \n",
      "Epoch 150/200\n",
      "80/80 [==============================] - 0s - loss: 0.4150 - acc: 0.8625     \n",
      "Epoch 151/200\n",
      "80/80 [==============================] - 0s - loss: 0.4141 - acc: 0.8625     \n",
      "Epoch 152/200\n",
      "80/80 [==============================] - 0s - loss: 0.4136 - acc: 0.8625     \n",
      "Epoch 153/200\n",
      "80/80 [==============================] - 0s - loss: 0.4124 - acc: 0.8625     \n",
      "Epoch 154/200\n",
      "80/80 [==============================] - 0s - loss: 0.4123 - acc: 0.8625     \n",
      "Epoch 155/200\n",
      "80/80 [==============================] - 0s - loss: 0.4112 - acc: 0.8625     \n",
      "Epoch 156/200\n",
      "80/80 [==============================] - 0s - loss: 0.4110 - acc: 0.8625     \n",
      "Epoch 157/200\n",
      "80/80 [==============================] - 0s - loss: 0.4106 - acc: 0.8625     \n",
      "Epoch 158/200\n",
      "80/80 [==============================] - 0s - loss: 0.4102 - acc: 0.8625     \n",
      "Epoch 159/200\n",
      "80/80 [==============================] - 0s - loss: 0.4098 - acc: 0.8625     \n",
      "Epoch 160/200\n",
      "80/80 [==============================] - 0s - loss: 0.4086 - acc: 0.8625     \n",
      "Epoch 161/200\n",
      "80/80 [==============================] - 0s - loss: 0.4073 - acc: 0.8625     \n",
      "Epoch 162/200\n",
      "80/80 [==============================] - 0s - loss: 0.4073 - acc: 0.8625     \n",
      "Epoch 163/200\n",
      "80/80 [==============================] - 0s - loss: 0.4067 - acc: 0.8625     \n",
      "Epoch 164/200\n",
      "80/80 [==============================] - 0s - loss: 0.4067 - acc: 0.8625     \n",
      "Epoch 165/200\n",
      "80/80 [==============================] - 0s - loss: 0.4048 - acc: 0.8625     \n",
      "Epoch 166/200\n",
      "80/80 [==============================] - 0s - loss: 0.4047 - acc: 0.8625     \n",
      "Epoch 167/200\n",
      "80/80 [==============================] - 0s - loss: 0.4041 - acc: 0.8625     \n",
      "Epoch 168/200\n",
      "80/80 [==============================] - 0s - loss: 0.4036 - acc: 0.8625     \n",
      "Epoch 169/200\n",
      "80/80 [==============================] - 0s - loss: 0.4033 - acc: 0.8625     \n",
      "Epoch 170/200\n",
      "80/80 [==============================] - 0s - loss: 0.4019 - acc: 0.8625     \n",
      "Epoch 171/200\n",
      "80/80 [==============================] - 0s - loss: 0.4025 - acc: 0.8625     \n",
      "Epoch 172/200\n",
      "80/80 [==============================] - 0s - loss: 0.4021 - acc: 0.8625     \n",
      "Epoch 173/200\n",
      "80/80 [==============================] - 0s - loss: 0.4001 - acc: 0.8625     \n",
      "Epoch 174/200\n",
      "80/80 [==============================] - 0s - loss: 0.3999 - acc: 0.8625     \n",
      "Epoch 175/200\n",
      "80/80 [==============================] - 0s - loss: 0.3990 - acc: 0.8625     \n",
      "Epoch 176/200\n",
      "80/80 [==============================] - 0s - loss: 0.3984 - acc: 0.8625     \n",
      "Epoch 177/200\n",
      "80/80 [==============================] - 0s - loss: 0.3975 - acc: 0.8625     \n",
      "Epoch 178/200\n",
      "80/80 [==============================] - 0s - loss: 0.3968 - acc: 0.8625     \n",
      "Epoch 179/200\n"
     ]
    },
    {
     "name": "stdout",
     "output_type": "stream",
     "text": [
      "80/80 [==============================] - 0s - loss: 0.3966 - acc: 0.8625     \n",
      "Epoch 180/200\n",
      "80/80 [==============================] - 0s - loss: 0.3963 - acc: 0.8625     \n",
      "Epoch 181/200\n",
      "80/80 [==============================] - 0s - loss: 0.3959 - acc: 0.8625     \n",
      "Epoch 182/200\n",
      "80/80 [==============================] - 0s - loss: 0.3951 - acc: 0.8625     \n",
      "Epoch 183/200\n",
      "80/80 [==============================] - 0s - loss: 0.3948 - acc: 0.8625     \n",
      "Epoch 184/200\n",
      "80/80 [==============================] - 0s - loss: 0.3945 - acc: 0.8625     \n",
      "Epoch 185/200\n",
      "80/80 [==============================] - 0s - loss: 0.3923 - acc: 0.8625     \n",
      "Epoch 186/200\n",
      "80/80 [==============================] - 0s - loss: 0.3934 - acc: 0.8625     \n",
      "Epoch 187/200\n",
      "80/80 [==============================] - 0s - loss: 0.3911 - acc: 0.8625     \n",
      "Epoch 188/200\n",
      "80/80 [==============================] - 0s - loss: 0.3905 - acc: 0.8625     \n",
      "Epoch 189/200\n",
      "80/80 [==============================] - 0s - loss: 0.3896 - acc: 0.8625     \n",
      "Epoch 190/200\n",
      "80/80 [==============================] - 0s - loss: 0.3896 - acc: 0.8625     \n",
      "Epoch 191/200\n",
      "80/80 [==============================] - ETA: 0s - loss: 0.1408 - acc: 1.000 - 0s - loss: 0.3886 - acc: 0.8625     \n",
      "Epoch 192/200\n",
      "80/80 [==============================] - 0s - loss: 0.3892 - acc: 0.8625     \n",
      "Epoch 193/200\n",
      "80/80 [==============================] - 0s - loss: 0.3874 - acc: 0.8625     \n",
      "Epoch 194/200\n",
      "80/80 [==============================] - 0s - loss: 0.3872 - acc: 0.8625     \n",
      "Epoch 195/200\n",
      "80/80 [==============================] - 0s - loss: 0.3864 - acc: 0.8625     \n",
      "Epoch 196/200\n",
      "80/80 [==============================] - 0s - loss: 0.3876 - acc: 0.8625     \n",
      "Epoch 197/200\n",
      "80/80 [==============================] - 0s - loss: 0.3851 - acc: 0.8625     \n",
      "Epoch 198/200\n",
      "80/80 [==============================] - 0s - loss: 0.3843 - acc: 0.8625     \n",
      "Epoch 199/200\n",
      "80/80 [==============================] - 0s - loss: 0.3846 - acc: 0.8625     \n",
      "Epoch 200/200\n",
      "80/80 [==============================] - 0s - loss: 0.3835 - acc: 0.8625     \n"
     ]
    },
    {
     "data": {
      "text/plain": [
       "<keras.callbacks.History at 0xfdb9d3b160>"
      ]
     },
     "execution_count": 14,
     "metadata": {},
     "output_type": "execute_result"
    }
   ],
   "source": [
    "clf_ann = Sequential()\n",
    "\n",
    "# First Hidden Layer\n",
    "clf_ann.add(Dense(output_dim = 5, init = 'uniform', activation = 'relu', input_dim = 10))\n",
    "\n",
    "# Second Hidden Layer\n",
    "clf_ann.add(Dense(output_dim = 10, init = 'uniform', activation = 'relu'))\n",
    "\n",
    "# Output Layer\n",
    "clf_ann.add(Dense(output_dim = 1, init = 'uniform', activation = 'sigmoid'))\n",
    "\n",
    "# Compile the ANN\n",
    "clf_ann.compile(optimizer = 'adam', loss = 'binary_crossentropy', metrics = ['accuracy'])\n",
    "\n",
    "# Train the ANN on the Training Data\n",
    "clf_ann.fit(X_train, Y_train, batch_size = 5, nb_epoch = 200)"
   ]
  },
  {
   "cell_type": "code",
   "execution_count": 15,
   "metadata": {
    "collapsed": true
   },
   "outputs": [],
   "source": [
    "# Test the ANN on the Test Data\n",
    "Y_pred = clf_ann.predict(X_test)\n",
    "Y_pred = (Y_pred > 0.5)"
   ]
  },
  {
   "cell_type": "markdown",
   "metadata": {},
   "source": [
    "## Check the Accuracy"
   ]
  },
  {
   "cell_type": "code",
   "execution_count": 16,
   "metadata": {},
   "outputs": [
    {
     "data": {
      "text/plain": [
       "0.84999999999999998"
      ]
     },
     "execution_count": 16,
     "metadata": {},
     "output_type": "execute_result"
    }
   ],
   "source": [
    "from sklearn.metrics import accuracy_score, confusion_matrix\n",
    "accuracy_score(Y_test, Y_pred)"
   ]
  },
  {
   "cell_type": "code",
   "execution_count": 17,
   "metadata": {},
   "outputs": [
    {
     "data": {
      "text/plain": [
       "array([[ 7,  1],\n",
       "       [ 2, 10]], dtype=int64)"
      ]
     },
     "execution_count": 17,
     "metadata": {},
     "output_type": "execute_result"
    }
   ],
   "source": [
    "confusion_matrix(Y_test, Y_pred)"
   ]
  }
 ],
 "metadata": {
  "kernelspec": {
   "display_name": "Python [default]",
   "language": "python",
   "name": "python3"
  },
  "language_info": {
   "codemirror_mode": {
    "name": "ipython",
    "version": 3
   },
   "file_extension": ".py",
   "mimetype": "text/x-python",
   "name": "python",
   "nbconvert_exporter": "python",
   "pygments_lexer": "ipython3",
   "version": "3.5.4"
  }
 },
 "nbformat": 4,
 "nbformat_minor": 2
}
