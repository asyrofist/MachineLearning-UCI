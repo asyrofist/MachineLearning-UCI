{
 "cells": [
  {
   "cell_type": "markdown",
   "metadata": {},
   "source": [
    "## Initialization"
   ]
  },
  {
   "cell_type": "code",
   "execution_count": 1,
   "metadata": {},
   "outputs": [
    {
     "name": "stderr",
     "output_type": "stream",
     "text": [
      "Using Theano backend.\n"
     ]
    }
   ],
   "source": [
    "import pandas as pd\n",
    "import numpy as np\n",
    "import keras"
   ]
  },
  {
   "cell_type": "markdown",
   "metadata": {},
   "source": [
    "## Importing the Data"
   ]
  },
  {
   "cell_type": "code",
   "execution_count": 2,
   "metadata": {},
   "outputs": [
    {
     "data": {
      "text/plain": [
       "(2584, 19)"
      ]
     },
     "execution_count": 2,
     "metadata": {},
     "output_type": "execute_result"
    }
   ],
   "source": [
    "dataset = pd.read_csv('Seismic Bumps.csv', header = None)\n",
    "dataset.shape"
   ]
  },
  {
   "cell_type": "code",
   "execution_count": 3,
   "metadata": {},
   "outputs": [
    {
     "data": {
      "text/html": [
       "<div>\n",
       "<style>\n",
       "    .dataframe thead tr:only-child th {\n",
       "        text-align: right;\n",
       "    }\n",
       "\n",
       "    .dataframe thead th {\n",
       "        text-align: left;\n",
       "    }\n",
       "\n",
       "    .dataframe tbody tr th {\n",
       "        vertical-align: top;\n",
       "    }\n",
       "</style>\n",
       "<table border=\"1\" class=\"dataframe\">\n",
       "  <thead>\n",
       "    <tr style=\"text-align: right;\">\n",
       "      <th></th>\n",
       "      <th>0</th>\n",
       "      <th>1</th>\n",
       "      <th>2</th>\n",
       "      <th>3</th>\n",
       "      <th>4</th>\n",
       "      <th>5</th>\n",
       "      <th>6</th>\n",
       "      <th>7</th>\n",
       "      <th>8</th>\n",
       "      <th>9</th>\n",
       "      <th>10</th>\n",
       "      <th>11</th>\n",
       "      <th>12</th>\n",
       "      <th>13</th>\n",
       "      <th>14</th>\n",
       "      <th>15</th>\n",
       "      <th>16</th>\n",
       "      <th>17</th>\n",
       "      <th>18</th>\n",
       "    </tr>\n",
       "  </thead>\n",
       "  <tbody>\n",
       "    <tr>\n",
       "      <th>0</th>\n",
       "      <td>a</td>\n",
       "      <td>a</td>\n",
       "      <td>N</td>\n",
       "      <td>15180</td>\n",
       "      <td>48</td>\n",
       "      <td>-72</td>\n",
       "      <td>-72</td>\n",
       "      <td>a</td>\n",
       "      <td>0</td>\n",
       "      <td>0</td>\n",
       "      <td>0</td>\n",
       "      <td>0</td>\n",
       "      <td>0</td>\n",
       "      <td>0</td>\n",
       "      <td>0</td>\n",
       "      <td>0</td>\n",
       "      <td>0</td>\n",
       "      <td>0</td>\n",
       "      <td>0</td>\n",
       "    </tr>\n",
       "    <tr>\n",
       "      <th>1</th>\n",
       "      <td>a</td>\n",
       "      <td>a</td>\n",
       "      <td>N</td>\n",
       "      <td>14720</td>\n",
       "      <td>33</td>\n",
       "      <td>-70</td>\n",
       "      <td>-79</td>\n",
       "      <td>a</td>\n",
       "      <td>1</td>\n",
       "      <td>0</td>\n",
       "      <td>1</td>\n",
       "      <td>0</td>\n",
       "      <td>0</td>\n",
       "      <td>0</td>\n",
       "      <td>0</td>\n",
       "      <td>0</td>\n",
       "      <td>2000</td>\n",
       "      <td>2000</td>\n",
       "      <td>0</td>\n",
       "    </tr>\n",
       "    <tr>\n",
       "      <th>2</th>\n",
       "      <td>a</td>\n",
       "      <td>a</td>\n",
       "      <td>N</td>\n",
       "      <td>8050</td>\n",
       "      <td>30</td>\n",
       "      <td>-81</td>\n",
       "      <td>-78</td>\n",
       "      <td>a</td>\n",
       "      <td>0</td>\n",
       "      <td>0</td>\n",
       "      <td>0</td>\n",
       "      <td>0</td>\n",
       "      <td>0</td>\n",
       "      <td>0</td>\n",
       "      <td>0</td>\n",
       "      <td>0</td>\n",
       "      <td>0</td>\n",
       "      <td>0</td>\n",
       "      <td>0</td>\n",
       "    </tr>\n",
       "    <tr>\n",
       "      <th>3</th>\n",
       "      <td>a</td>\n",
       "      <td>a</td>\n",
       "      <td>N</td>\n",
       "      <td>28820</td>\n",
       "      <td>171</td>\n",
       "      <td>-23</td>\n",
       "      <td>40</td>\n",
       "      <td>a</td>\n",
       "      <td>1</td>\n",
       "      <td>0</td>\n",
       "      <td>1</td>\n",
       "      <td>0</td>\n",
       "      <td>0</td>\n",
       "      <td>0</td>\n",
       "      <td>0</td>\n",
       "      <td>0</td>\n",
       "      <td>3000</td>\n",
       "      <td>3000</td>\n",
       "      <td>0</td>\n",
       "    </tr>\n",
       "    <tr>\n",
       "      <th>4</th>\n",
       "      <td>a</td>\n",
       "      <td>a</td>\n",
       "      <td>N</td>\n",
       "      <td>12640</td>\n",
       "      <td>57</td>\n",
       "      <td>-63</td>\n",
       "      <td>-52</td>\n",
       "      <td>a</td>\n",
       "      <td>0</td>\n",
       "      <td>0</td>\n",
       "      <td>0</td>\n",
       "      <td>0</td>\n",
       "      <td>0</td>\n",
       "      <td>0</td>\n",
       "      <td>0</td>\n",
       "      <td>0</td>\n",
       "      <td>0</td>\n",
       "      <td>0</td>\n",
       "      <td>0</td>\n",
       "    </tr>\n",
       "  </tbody>\n",
       "</table>\n",
       "</div>"
      ],
      "text/plain": [
       "  0  1  2      3    4   5   6  7   8   9   10  11  12  13  14  15    16    17  \\\n",
       "0  a  a  N  15180   48 -72 -72  a   0   0   0   0   0   0   0   0     0     0   \n",
       "1  a  a  N  14720   33 -70 -79  a   1   0   1   0   0   0   0   0  2000  2000   \n",
       "2  a  a  N   8050   30 -81 -78  a   0   0   0   0   0   0   0   0     0     0   \n",
       "3  a  a  N  28820  171 -23  40  a   1   0   1   0   0   0   0   0  3000  3000   \n",
       "4  a  a  N  12640   57 -63 -52  a   0   0   0   0   0   0   0   0     0     0   \n",
       "\n",
       "   18  \n",
       "0   0  \n",
       "1   0  \n",
       "2   0  \n",
       "3   0  \n",
       "4   0  "
      ]
     },
     "execution_count": 3,
     "metadata": {},
     "output_type": "execute_result"
    }
   ],
   "source": [
    "dataset.head()"
   ]
  },
  {
   "cell_type": "markdown",
   "metadata": {},
   "source": [
    "## Create X and Y"
   ]
  },
  {
   "cell_type": "code",
   "execution_count": 4,
   "metadata": {
    "collapsed": true
   },
   "outputs": [],
   "source": [
    "X = dataset.iloc[:, 0:18].values\n",
    "Y = dataset.iloc[:, 18].values"
   ]
  },
  {
   "cell_type": "code",
   "execution_count": 5,
   "metadata": {},
   "outputs": [
    {
     "data": {
      "text/plain": [
       "(2584, 18)"
      ]
     },
     "execution_count": 5,
     "metadata": {},
     "output_type": "execute_result"
    }
   ],
   "source": [
    "X.shape"
   ]
  },
  {
   "cell_type": "code",
   "execution_count": 6,
   "metadata": {},
   "outputs": [
    {
     "data": {
      "text/plain": [
       "(2584,)"
      ]
     },
     "execution_count": 6,
     "metadata": {},
     "output_type": "execute_result"
    }
   ],
   "source": [
    "Y.shape"
   ]
  },
  {
   "cell_type": "code",
   "execution_count": 7,
   "metadata": {},
   "outputs": [
    {
     "data": {
      "text/plain": [
       "array(['a', 'a', 'N', 15180, 48, -72, -72, 'a', 0, 0, 0, 0, 0, 0, 0, 0, 0,\n",
       "       0], dtype=object)"
      ]
     },
     "execution_count": 7,
     "metadata": {},
     "output_type": "execute_result"
    }
   ],
   "source": [
    "X[0]"
   ]
  },
  {
   "cell_type": "code",
   "execution_count": 8,
   "metadata": {},
   "outputs": [
    {
     "data": {
      "text/plain": [
       "0"
      ]
     },
     "execution_count": 8,
     "metadata": {},
     "output_type": "execute_result"
    }
   ],
   "source": [
    "Y[0]"
   ]
  },
  {
   "cell_type": "markdown",
   "metadata": {},
   "source": [
    "## Preprocess the Data"
   ]
  },
  {
   "cell_type": "code",
   "execution_count": 9,
   "metadata": {
    "collapsed": true
   },
   "outputs": [],
   "source": [
    "from sklearn.preprocessing import LabelEncoder, OneHotEncoder, StandardScaler"
   ]
  },
  {
   "cell_type": "code",
   "execution_count": 10,
   "metadata": {
    "collapsed": true
   },
   "outputs": [],
   "source": [
    "le_Y = LabelEncoder()"
   ]
  },
  {
   "cell_type": "code",
   "execution_count": 11,
   "metadata": {},
   "outputs": [
    {
     "data": {
      "text/plain": [
       "0"
      ]
     },
     "execution_count": 11,
     "metadata": {},
     "output_type": "execute_result"
    }
   ],
   "source": [
    "Y = le_Y.fit_transform(Y)\n",
    "Y[0]"
   ]
  },
  {
   "cell_type": "code",
   "execution_count": 12,
   "metadata": {
    "collapsed": true
   },
   "outputs": [],
   "source": [
    "def encoder_X(index):\n",
    "    le_X = LabelEncoder()\n",
    "    X[:, index] = le_X.fit_transform(X[:, index])"
   ]
  },
  {
   "cell_type": "code",
   "execution_count": 13,
   "metadata": {
    "collapsed": true
   },
   "outputs": [],
   "source": [
    "to_be_encoded_indices = [0, 1, 2, 7]"
   ]
  },
  {
   "cell_type": "code",
   "execution_count": 14,
   "metadata": {
    "collapsed": true
   },
   "outputs": [],
   "source": [
    "for x in to_be_encoded_indices:\n",
    "    encoder_X(x)"
   ]
  },
  {
   "cell_type": "code",
   "execution_count": 15,
   "metadata": {},
   "outputs": [
    {
     "data": {
      "text/plain": [
       "array([0, 0, 0, 15180, 48, -72, -72, 0, 0, 0, 0, 0, 0, 0, 0, 0, 0, 0], dtype=object)"
      ]
     },
     "execution_count": 15,
     "metadata": {},
     "output_type": "execute_result"
    }
   ],
   "source": [
    "X[0]"
   ]
  },
  {
   "cell_type": "code",
   "execution_count": 16,
   "metadata": {
    "collapsed": true
   },
   "outputs": [],
   "source": [
    "ohe_X = OneHotEncoder(categorical_features = [7])"
   ]
  },
  {
   "cell_type": "code",
   "execution_count": 17,
   "metadata": {},
   "outputs": [
    {
     "data": {
      "text/plain": [
       "(2584, 19)"
      ]
     },
     "execution_count": 17,
     "metadata": {},
     "output_type": "execute_result"
    }
   ],
   "source": [
    "X = ohe_X.fit_transform(X).toarray()\n",
    "X = X[:, 1:]\n",
    "X.shape"
   ]
  },
  {
   "cell_type": "code",
   "execution_count": 18,
   "metadata": {
    "collapsed": true
   },
   "outputs": [],
   "source": [
    "ohe_X = OneHotEncoder(categorical_features = [3])"
   ]
  },
  {
   "cell_type": "code",
   "execution_count": 19,
   "metadata": {},
   "outputs": [
    {
     "data": {
      "text/plain": [
       "(2584, 20)"
      ]
     },
     "execution_count": 19,
     "metadata": {},
     "output_type": "execute_result"
    }
   ],
   "source": [
    "X = ohe_X.fit_transform(X).toarray()\n",
    "X = X[:, 1:]\n",
    "X.shape"
   ]
  },
  {
   "cell_type": "code",
   "execution_count": 20,
   "metadata": {
    "collapsed": true
   },
   "outputs": [],
   "source": [
    "sc_X = StandardScaler()"
   ]
  },
  {
   "cell_type": "code",
   "execution_count": 21,
   "metadata": {},
   "outputs": [
    {
     "data": {
      "text/plain": [
       "array([-0.76630515, -0.13757705, -0.29895828, -0.10838026, -0.73230209,\n",
       "       -1.34374329, -0.32756058, -0.87207336, -1.05071094, -1.21145926,\n",
       "       -0.62998398, -0.50225321, -0.51042346, -0.24273572, -0.06830542,\n",
       "        0.        ,  0.        ,  0.        , -0.24332671, -0.22108685])"
      ]
     },
     "execution_count": 21,
     "metadata": {},
     "output_type": "execute_result"
    }
   ],
   "source": [
    "X = sc_X.fit_transform(X)\n",
    "X[0]"
   ]
  },
  {
   "cell_type": "markdown",
   "metadata": {},
   "source": [
    "## Create Train and Test Data"
   ]
  },
  {
   "cell_type": "code",
   "execution_count": 22,
   "metadata": {
    "collapsed": true
   },
   "outputs": [],
   "source": [
    "from sklearn.model_selection import train_test_split"
   ]
  },
  {
   "cell_type": "code",
   "execution_count": 23,
   "metadata": {
    "collapsed": true
   },
   "outputs": [],
   "source": [
    "X_train, X_test, Y_train, Y_test = train_test_split(X, Y, test_size = 0.2, random_state = 4)"
   ]
  },
  {
   "cell_type": "code",
   "execution_count": 24,
   "metadata": {},
   "outputs": [
    {
     "data": {
      "text/plain": [
       "(2067, 20)"
      ]
     },
     "execution_count": 24,
     "metadata": {},
     "output_type": "execute_result"
    }
   ],
   "source": [
    "X_train.shape"
   ]
  },
  {
   "cell_type": "code",
   "execution_count": 25,
   "metadata": {},
   "outputs": [
    {
     "data": {
      "text/plain": [
       "(517, 20)"
      ]
     },
     "execution_count": 25,
     "metadata": {},
     "output_type": "execute_result"
    }
   ],
   "source": [
    "X_test.shape"
   ]
  },
  {
   "cell_type": "code",
   "execution_count": 26,
   "metadata": {},
   "outputs": [
    {
     "data": {
      "text/plain": [
       "(2067,)"
      ]
     },
     "execution_count": 26,
     "metadata": {},
     "output_type": "execute_result"
    }
   ],
   "source": [
    "Y_train.shape"
   ]
  },
  {
   "cell_type": "code",
   "execution_count": 27,
   "metadata": {},
   "outputs": [
    {
     "data": {
      "text/plain": [
       "(517,)"
      ]
     },
     "execution_count": 27,
     "metadata": {},
     "output_type": "execute_result"
    }
   ],
   "source": [
    "Y_test.shape"
   ]
  },
  {
   "cell_type": "code",
   "execution_count": 28,
   "metadata": {},
   "outputs": [
    {
     "data": {
      "text/html": [
       "<div>\n",
       "<style>\n",
       "    .dataframe thead tr:only-child th {\n",
       "        text-align: right;\n",
       "    }\n",
       "\n",
       "    .dataframe thead th {\n",
       "        text-align: left;\n",
       "    }\n",
       "\n",
       "    .dataframe tbody tr th {\n",
       "        vertical-align: top;\n",
       "    }\n",
       "</style>\n",
       "<table border=\"1\" class=\"dataframe\">\n",
       "  <thead>\n",
       "    <tr style=\"text-align: right;\">\n",
       "      <th></th>\n",
       "      <th>0</th>\n",
       "    </tr>\n",
       "  </thead>\n",
       "  <tbody>\n",
       "    <tr>\n",
       "      <th>0</th>\n",
       "      <td>1935</td>\n",
       "    </tr>\n",
       "    <tr>\n",
       "      <th>1</th>\n",
       "      <td>132</td>\n",
       "    </tr>\n",
       "  </tbody>\n",
       "</table>\n",
       "</div>"
      ],
      "text/plain": [
       "      0\n",
       "0  1935\n",
       "1   132"
      ]
     },
     "execution_count": 28,
     "metadata": {},
     "output_type": "execute_result"
    }
   ],
   "source": [
    "pd.DataFrame(pd.DataFrame(Y_train)[0].value_counts())"
   ]
  },
  {
   "cell_type": "code",
   "execution_count": 29,
   "metadata": {},
   "outputs": [
    {
     "data": {
      "text/html": [
       "<div>\n",
       "<style>\n",
       "    .dataframe thead tr:only-child th {\n",
       "        text-align: right;\n",
       "    }\n",
       "\n",
       "    .dataframe thead th {\n",
       "        text-align: left;\n",
       "    }\n",
       "\n",
       "    .dataframe tbody tr th {\n",
       "        vertical-align: top;\n",
       "    }\n",
       "</style>\n",
       "<table border=\"1\" class=\"dataframe\">\n",
       "  <thead>\n",
       "    <tr style=\"text-align: right;\">\n",
       "      <th></th>\n",
       "      <th>0</th>\n",
       "    </tr>\n",
       "  </thead>\n",
       "  <tbody>\n",
       "    <tr>\n",
       "      <th>0</th>\n",
       "      <td>479</td>\n",
       "    </tr>\n",
       "    <tr>\n",
       "      <th>1</th>\n",
       "      <td>38</td>\n",
       "    </tr>\n",
       "  </tbody>\n",
       "</table>\n",
       "</div>"
      ],
      "text/plain": [
       "     0\n",
       "0  479\n",
       "1   38"
      ]
     },
     "execution_count": 29,
     "metadata": {},
     "output_type": "execute_result"
    }
   ],
   "source": [
    "pd.DataFrame(pd.DataFrame(Y_test)[0].value_counts())"
   ]
  },
  {
   "cell_type": "markdown",
   "metadata": {},
   "source": [
    "## Create and train the ANN Classifier"
   ]
  },
  {
   "cell_type": "code",
   "execution_count": 30,
   "metadata": {
    "collapsed": true
   },
   "outputs": [],
   "source": [
    "from keras.models import Sequential\n",
    "from keras.layers import Dense"
   ]
  },
  {
   "cell_type": "code",
   "execution_count": 31,
   "metadata": {},
   "outputs": [
    {
     "name": "stderr",
     "output_type": "stream",
     "text": [
      "C:\\Users\\user\\Anaconda3\\lib\\site-packages\\ipykernel\\__main__.py:7: UserWarning: Update your `Dense` call to the Keras 2 API: `Dense(kernel_initializer=\"uniform\", units=40, activation=\"relu\", input_dim=20)`\n",
      "C:\\Users\\user\\Anaconda3\\lib\\site-packages\\ipykernel\\__main__.py:9: UserWarning: Update your `Dense` call to the Keras 2 API: `Dense(kernel_initializer=\"uniform\", units=40, activation=\"relu\")`\n",
      "C:\\Users\\user\\Anaconda3\\lib\\site-packages\\ipykernel\\__main__.py:11: UserWarning: Update your `Dense` call to the Keras 2 API: `Dense(kernel_initializer=\"uniform\", units=160, activation=\"relu\")`\n",
      "C:\\Users\\user\\Anaconda3\\lib\\site-packages\\ipykernel\\__main__.py:14: UserWarning: Update your `Dense` call to the Keras 2 API: `Dense(kernel_initializer=\"uniform\", units=1, activation=\"sigmoid\")`\n",
      "C:\\Users\\user\\Anaconda3\\lib\\site-packages\\keras\\models.py:844: UserWarning: The `nb_epoch` argument in `fit` has been renamed `epochs`.\n",
      "  warnings.warn('The `nb_epoch` argument in `fit` '\n"
     ]
    },
    {
     "name": "stdout",
     "output_type": "stream",
     "text": [
      "Epoch 1/100\n",
      "2067/2067 [==============================] - 0s - loss: 0.2823 - acc: 0.9366     \n",
      "Epoch 2/100\n",
      "2067/2067 [==============================] - 0s - loss: 0.2126 - acc: 0.9361     \n",
      "Epoch 3/100\n",
      "2067/2067 [==============================] - 0s - loss: 0.2097 - acc: 0.9361     \n",
      "Epoch 4/100\n",
      "2067/2067 [==============================] - 0s - loss: 0.2040 - acc: 0.9361     \n",
      "Epoch 5/100\n",
      "2067/2067 [==============================] - 0s - loss: 0.2043 - acc: 0.9361     \n",
      "Epoch 6/100\n",
      "2067/2067 [==============================] - 0s - loss: 0.2027 - acc: 0.9361     \n",
      "Epoch 7/100\n",
      "2067/2067 [==============================] - 0s - loss: 0.2057 - acc: 0.9361     \n",
      "Epoch 8/100\n",
      "2067/2067 [==============================] - 0s - loss: 0.2035 - acc: 0.9361     \n",
      "Epoch 9/100\n",
      "2067/2067 [==============================] - 0s - loss: 0.2010 - acc: 0.9361     \n",
      "Epoch 10/100\n",
      "2067/2067 [==============================] - 0s - loss: 0.1993 - acc: 0.9361     \n",
      "Epoch 11/100\n",
      "2067/2067 [==============================] - 0s - loss: 0.2015 - acc: 0.9361     \n",
      "Epoch 12/100\n",
      "2067/2067 [==============================] - 0s - loss: 0.1997 - acc: 0.9361     \n",
      "Epoch 13/100\n",
      "2067/2067 [==============================] - 0s - loss: 0.1987 - acc: 0.9361     \n",
      "Epoch 14/100\n",
      "2067/2067 [==============================] - 0s - loss: 0.2005 - acc: 0.9361     \n",
      "Epoch 15/100\n",
      "2067/2067 [==============================] - 0s - loss: 0.1986 - acc: 0.9361     \n",
      "Epoch 16/100\n",
      "2067/2067 [==============================] - 0s - loss: 0.1983 - acc: 0.9361     \n",
      "Epoch 17/100\n",
      "2067/2067 [==============================] - 0s - loss: 0.1968 - acc: 0.9361     \n",
      "Epoch 18/100\n",
      "2067/2067 [==============================] - 0s - loss: 0.1970 - acc: 0.9361     \n",
      "Epoch 19/100\n",
      "2067/2067 [==============================] - 0s - loss: 0.1967 - acc: 0.9361     \n",
      "Epoch 20/100\n",
      "2067/2067 [==============================] - 0s - loss: 0.1960 - acc: 0.9361     \n",
      "Epoch 21/100\n",
      "2067/2067 [==============================] - 0s - loss: 0.1963 - acc: 0.9361     \n",
      "Epoch 22/100\n",
      "2067/2067 [==============================] - 0s - loss: 0.1971 - acc: 0.9361     \n",
      "Epoch 23/100\n",
      "2067/2067 [==============================] - 0s - loss: 0.1953 - acc: 0.9361     \n",
      "Epoch 24/100\n",
      "2067/2067 [==============================] - 0s - loss: 0.1946 - acc: 0.9361     \n",
      "Epoch 25/100\n",
      "2067/2067 [==============================] - 0s - loss: 0.1948 - acc: 0.9361     \n",
      "Epoch 26/100\n",
      "2067/2067 [==============================] - 0s - loss: 0.1913 - acc: 0.9376     \n",
      "Epoch 27/100\n",
      "2067/2067 [==============================] - 0s - loss: 0.1887 - acc: 0.9381     \n",
      "Epoch 28/100\n",
      "2067/2067 [==============================] - 0s - loss: 0.1887 - acc: 0.9405     \n",
      "Epoch 29/100\n",
      "2067/2067 [==============================] - 0s - loss: 0.1900 - acc: 0.9390     \n",
      "Epoch 30/100\n",
      "2067/2067 [==============================] - 0s - loss: 0.1880 - acc: 0.9400     \n",
      "Epoch 31/100\n",
      "2067/2067 [==============================] - 0s - loss: 0.1884 - acc: 0.9400     \n",
      "Epoch 32/100\n",
      "2067/2067 [==============================] - 0s - loss: 0.1868 - acc: 0.9419     \n",
      "Epoch 33/100\n",
      "2067/2067 [==============================] - 0s - loss: 0.1848 - acc: 0.9400     \n",
      "Epoch 34/100\n",
      "2067/2067 [==============================] - 0s - loss: 0.1831 - acc: 0.9405     \n",
      "Epoch 35/100\n",
      "2067/2067 [==============================] - 0s - loss: 0.1835 - acc: 0.9405     \n",
      "Epoch 36/100\n",
      "2067/2067 [==============================] - 0s - loss: 0.1810 - acc: 0.9434     \n",
      "Epoch 37/100\n",
      "2067/2067 [==============================] - 0s - loss: 0.1809 - acc: 0.9439     \n",
      "Epoch 38/100\n",
      "2067/2067 [==============================] - 0s - loss: 0.1795 - acc: 0.9439     \n",
      "Epoch 39/100\n",
      "2067/2067 [==============================] - 0s - loss: 0.1760 - acc: 0.9419     \n",
      "Epoch 40/100\n",
      "2067/2067 [==============================] - 0s - loss: 0.1744 - acc: 0.9444     \n",
      "Epoch 41/100\n",
      "2067/2067 [==============================] - 0s - loss: 0.1707 - acc: 0.9463     \n",
      "Epoch 42/100\n",
      "2067/2067 [==============================] - 0s - loss: 0.1723 - acc: 0.9434     \n",
      "Epoch 43/100\n",
      "2067/2067 [==============================] - 0s - loss: 0.1694 - acc: 0.9463     \n",
      "Epoch 44/100\n",
      "2067/2067 [==============================] - 0s - loss: 0.1681 - acc: 0.9473     \n",
      "Epoch 45/100\n",
      "2067/2067 [==============================] - 0s - loss: 0.1628 - acc: 0.9507     \n",
      "Epoch 46/100\n",
      "2067/2067 [==============================] - 0s - loss: 0.1681 - acc: 0.9511     \n",
      "Epoch 47/100\n",
      "2067/2067 [==============================] - 0s - loss: 0.1620 - acc: 0.9487     \n",
      "Epoch 48/100\n",
      "2067/2067 [==============================] - 0s - loss: 0.1630 - acc: 0.9492     \n",
      "Epoch 49/100\n",
      "2067/2067 [==============================] - 0s - loss: 0.1584 - acc: 0.9511     \n",
      "Epoch 50/100\n",
      "2067/2067 [==============================] - 0s - loss: 0.1563 - acc: 0.9516     \n",
      "Epoch 51/100\n",
      "2067/2067 [==============================] - 0s - loss: 0.1568 - acc: 0.9507     \n",
      "Epoch 52/100\n",
      "2067/2067 [==============================] - 0s - loss: 0.1538 - acc: 0.9531     \n",
      "Epoch 53/100\n",
      "2067/2067 [==============================] - 0s - loss: 0.1475 - acc: 0.9565     \n",
      "Epoch 54/100\n",
      "2067/2067 [==============================] - 0s - loss: 0.1533 - acc: 0.9536     \n",
      "Epoch 55/100\n",
      "2067/2067 [==============================] - 0s - loss: 0.1493 - acc: 0.9536     \n",
      "Epoch 56/100\n",
      "2067/2067 [==============================] - 0s - loss: 0.1459 - acc: 0.9540     \n",
      "Epoch 57/100\n",
      "2067/2067 [==============================] - 0s - loss: 0.1434 - acc: 0.9565     \n",
      "Epoch 58/100\n",
      "2067/2067 [==============================] - 0s - loss: 0.1410 - acc: 0.9560     \n",
      "Epoch 59/100\n",
      "2067/2067 [==============================] - 0s - loss: 0.1401 - acc: 0.9565     \n",
      "Epoch 60/100\n",
      "2067/2067 [==============================] - 0s - loss: 0.1371 - acc: 0.9574     \n",
      "Epoch 61/100\n",
      "2067/2067 [==============================] - 0s - loss: 0.1409 - acc: 0.9560     \n",
      "Epoch 62/100\n",
      "2067/2067 [==============================] - 0s - loss: 0.1331 - acc: 0.9623     \n",
      "Epoch 63/100\n",
      "2067/2067 [==============================] - 0s - loss: 0.1352 - acc: 0.9584     \n",
      "Epoch 64/100\n",
      "2067/2067 [==============================] - 0s - loss: 0.1306 - acc: 0.9589     \n",
      "Epoch 65/100\n",
      "2067/2067 [==============================] - 0s - loss: 0.1314 - acc: 0.9579     \n",
      "Epoch 66/100\n",
      "2067/2067 [==============================] - 0s - loss: 0.1311 - acc: 0.9598     \n",
      "Epoch 67/100\n",
      "2067/2067 [==============================] - 0s - loss: 0.1257 - acc: 0.9594     \n",
      "Epoch 68/100\n",
      "2067/2067 [==============================] - 0s - loss: 0.1266 - acc: 0.9598     \n",
      "Epoch 69/100\n",
      "2067/2067 [==============================] - 0s - loss: 0.1292 - acc: 0.9569     \n",
      "Epoch 70/100\n",
      "2067/2067 [==============================] - 0s - loss: 0.1233 - acc: 0.9608     \n",
      "Epoch 71/100\n",
      "2067/2067 [==============================] - 0s - loss: 0.1181 - acc: 0.9608     \n",
      "Epoch 72/100\n",
      "2067/2067 [==============================] - 0s - loss: 0.1172 - acc: 0.9627     \n",
      "Epoch 73/100\n",
      "2067/2067 [==============================] - 0s - loss: 0.1189 - acc: 0.9613     \n",
      "Epoch 74/100\n",
      "2067/2067 [==============================] - 0s - loss: 0.1210 - acc: 0.9613     \n",
      "Epoch 75/100\n",
      "2067/2067 [==============================] - 0s - loss: 0.1224 - acc: 0.9613     \n",
      "Epoch 76/100\n",
      "2067/2067 [==============================] - 0s - loss: 0.1228 - acc: 0.9623     \n",
      "Epoch 77/100\n",
      "2067/2067 [==============================] - 0s - loss: 0.1190 - acc: 0.9598     \n",
      "Epoch 78/100\n",
      "2067/2067 [==============================] - 0s - loss: 0.1159 - acc: 0.9608     \n",
      "Epoch 79/100\n",
      "2067/2067 [==============================] - 0s - loss: 0.1102 - acc: 0.9632     \n",
      "Epoch 80/100\n",
      "2067/2067 [==============================] - 0s - loss: 0.1119 - acc: 0.9623     \n",
      "Epoch 81/100\n",
      "2067/2067 [==============================] - 0s - loss: 0.1110 - acc: 0.9627     \n",
      "Epoch 82/100\n",
      "2067/2067 [==============================] - 0s - loss: 0.1114 - acc: 0.9613     \n",
      "Epoch 83/100\n",
      "2067/2067 [==============================] - 0s - loss: 0.1125 - acc: 0.9623     \n",
      "Epoch 84/100\n",
      "2067/2067 [==============================] - 0s - loss: 0.1051 - acc: 0.9666     \n",
      "Epoch 85/100\n",
      "2067/2067 [==============================] - 0s - loss: 0.1060 - acc: 0.9637     \n",
      "Epoch 86/100\n",
      "2067/2067 [==============================] - 0s - loss: 0.1014 - acc: 0.9666     \n",
      "Epoch 87/100\n"
     ]
    },
    {
     "name": "stdout",
     "output_type": "stream",
     "text": [
      "2067/2067 [==============================] - 0s - loss: 0.1041 - acc: 0.9637     \n",
      "Epoch 88/100\n",
      "2067/2067 [==============================] - 0s - loss: 0.1126 - acc: 0.9642     \n",
      "Epoch 89/100\n",
      "2067/2067 [==============================] - 0s - loss: 0.1022 - acc: 0.9637     \n",
      "Epoch 90/100\n",
      "2067/2067 [==============================] - 0s - loss: 0.1013 - acc: 0.9652     \n",
      "Epoch 91/100\n",
      "2067/2067 [==============================] - 0s - loss: 0.1040 - acc: 0.9657     \n",
      "Epoch 92/100\n",
      "2067/2067 [==============================] - 0s - loss: 0.0968 - acc: 0.9686     \n",
      "Epoch 93/100\n",
      "2067/2067 [==============================] - 0s - loss: 0.0992 - acc: 0.9642     \n",
      "Epoch 94/100\n",
      "2067/2067 [==============================] - 0s - loss: 0.1002 - acc: 0.9657     \n",
      "Epoch 95/100\n",
      "2067/2067 [==============================] - 0s - loss: 0.0985 - acc: 0.9661     \n",
      "Epoch 96/100\n",
      "2067/2067 [==============================] - 0s - loss: 0.1030 - acc: 0.9637     \n",
      "Epoch 97/100\n",
      "2067/2067 [==============================] - 0s - loss: 0.0979 - acc: 0.9647     \n",
      "Epoch 98/100\n",
      "2067/2067 [==============================] - 0s - loss: 0.1000 - acc: 0.9647     \n",
      "Epoch 99/100\n",
      "2067/2067 [==============================] - 0s - loss: 0.0913 - acc: 0.9661     \n",
      "Epoch 100/100\n",
      "2067/2067 [==============================] - 0s - loss: 0.0951 - acc: 0.9632     \n"
     ]
    },
    {
     "data": {
      "text/plain": [
       "<keras.callbacks.History at 0xad95ef6860>"
      ]
     },
     "execution_count": 31,
     "metadata": {},
     "output_type": "execute_result"
    }
   ],
   "source": [
    "clf_ann = Sequential()\n",
    "\n",
    "# 10 20 40 80 160\n",
    "# 40 40 160\n",
    "\n",
    "# First Hidden Layer\n",
    "clf_ann.add(Dense(output_dim = 40, init = 'uniform', activation = 'relu', input_dim = 20))\n",
    "\n",
    "clf_ann.add(Dense(output_dim = 40, init = 'uniform', activation = 'relu'))\n",
    "\n",
    "clf_ann.add(Dense(output_dim = 160, init = 'uniform', activation = 'relu'))\n",
    "\n",
    "# Output Layer\n",
    "clf_ann.add(Dense(output_dim = 1, init = 'uniform', activation = 'sigmoid'))\n",
    "\n",
    "# Compile the ANN\n",
    "clf_ann.compile(optimizer = 'adam', loss = 'binary_crossentropy', metrics = ['accuracy'])\n",
    "\n",
    "# Train the ANN on the Train Data\n",
    "clf_ann.fit(X_train, Y_train, batch_size = 10, nb_epoch = 100)"
   ]
  },
  {
   "cell_type": "code",
   "execution_count": 32,
   "metadata": {
    "collapsed": true
   },
   "outputs": [],
   "source": [
    "# Test the ANN on the Test Data\n",
    "Y_pred = clf_ann.predict(X_test)\n",
    "Y_pred = (Y_pred > 0.5)"
   ]
  },
  {
   "cell_type": "markdown",
   "metadata": {},
   "source": [
    "## Check the Accuracy"
   ]
  },
  {
   "cell_type": "code",
   "execution_count": 33,
   "metadata": {
    "collapsed": true
   },
   "outputs": [],
   "source": [
    "from sklearn.metrics import accuracy_score, confusion_matrix"
   ]
  },
  {
   "cell_type": "code",
   "execution_count": 34,
   "metadata": {},
   "outputs": [
    {
     "data": {
      "text/plain": [
       "0.90522243713733075"
      ]
     },
     "execution_count": 34,
     "metadata": {},
     "output_type": "execute_result"
    }
   ],
   "source": [
    "accuracy_score(Y_test, Y_pred)"
   ]
  },
  {
   "cell_type": "code",
   "execution_count": 35,
   "metadata": {},
   "outputs": [
    {
     "data": {
      "text/plain": [
       "array([[459,  20],\n",
       "       [ 29,   9]], dtype=int64)"
      ]
     },
     "execution_count": 35,
     "metadata": {},
     "output_type": "execute_result"
    }
   ],
   "source": [
    "confusion_matrix(Y_test, Y_pred)"
   ]
  },
  {
   "cell_type": "code",
   "execution_count": null,
   "metadata": {
    "collapsed": true
   },
   "outputs": [],
   "source": []
  }
 ],
 "metadata": {
  "kernelspec": {
   "display_name": "Python [default]",
   "language": "python",
   "name": "python3"
  },
  "language_info": {
   "codemirror_mode": {
    "name": "ipython",
    "version": 3
   },
   "file_extension": ".py",
   "mimetype": "text/x-python",
   "name": "python",
   "nbconvert_exporter": "python",
   "pygments_lexer": "ipython3",
   "version": "3.5.4"
  }
 },
 "nbformat": 4,
 "nbformat_minor": 2
}
