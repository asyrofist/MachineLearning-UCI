{
 "cells": [
  {
   "cell_type": "markdown",
   "metadata": {},
   "source": [
    "## Initialization"
   ]
  },
  {
   "cell_type": "code",
   "execution_count": 1,
   "metadata": {
    "collapsed": true
   },
   "outputs": [],
   "source": [
    "import pandas as pd\n",
    "import numpy as np"
   ]
  },
  {
   "cell_type": "code",
   "execution_count": 2,
   "metadata": {
    "collapsed": true
   },
   "outputs": [],
   "source": [
    "from sklearn.preprocessing import StandardScaler, LabelEncoder, OneHotEncoder\n",
    "from sklearn.metrics import confusion_matrix, accuracy_score\n",
    "from sklearn.model_selection import train_test_split\n",
    "from sklearn.linear_model import LogisticRegression\n",
    "from sklearn.naive_bayes import GaussianNB\n",
    "from sklearn.tree import DecisionTreeClassifier\n",
    "from sklearn.ensemble import RandomForestClassifier\n",
    "from sklearn.neighbors import KNeighborsClassifier\n",
    "from sklearn.svm import SVC"
   ]
  },
  {
   "cell_type": "code",
   "execution_count": 3,
   "metadata": {
    "collapsed": true
   },
   "outputs": [],
   "source": [
    "model_accuracies = {'LogReg':1, 'DT':1, 'RF':1, 'LinearSVC':1, 'KernelSVC':1, 'NB':1, 'KNN':1}"
   ]
  },
  {
   "cell_type": "markdown",
   "metadata": {},
   "source": [
    "## Importing the data"
   ]
  },
  {
   "cell_type": "code",
   "execution_count": 4,
   "metadata": {},
   "outputs": [
    {
     "data": {
      "text/plain": [
       "(846, 19)"
      ]
     },
     "execution_count": 4,
     "metadata": {},
     "output_type": "execute_result"
    }
   ],
   "source": [
    "dataset = pd.read_csv('Dataset.txt', header = None, delimiter = r'\\s+')\n",
    "dataset.shape"
   ]
  },
  {
   "cell_type": "code",
   "execution_count": 5,
   "metadata": {},
   "outputs": [
    {
     "data": {
      "text/html": [
       "<div>\n",
       "<style>\n",
       "    .dataframe thead tr:only-child th {\n",
       "        text-align: right;\n",
       "    }\n",
       "\n",
       "    .dataframe thead th {\n",
       "        text-align: left;\n",
       "    }\n",
       "\n",
       "    .dataframe tbody tr th {\n",
       "        vertical-align: top;\n",
       "    }\n",
       "</style>\n",
       "<table border=\"1\" class=\"dataframe\">\n",
       "  <thead>\n",
       "    <tr style=\"text-align: right;\">\n",
       "      <th></th>\n",
       "      <th>0</th>\n",
       "      <th>1</th>\n",
       "      <th>2</th>\n",
       "      <th>3</th>\n",
       "      <th>4</th>\n",
       "      <th>5</th>\n",
       "      <th>6</th>\n",
       "      <th>7</th>\n",
       "      <th>8</th>\n",
       "      <th>9</th>\n",
       "      <th>10</th>\n",
       "      <th>11</th>\n",
       "      <th>12</th>\n",
       "      <th>13</th>\n",
       "      <th>14</th>\n",
       "      <th>15</th>\n",
       "      <th>16</th>\n",
       "      <th>17</th>\n",
       "      <th>18</th>\n",
       "    </tr>\n",
       "  </thead>\n",
       "  <tbody>\n",
       "    <tr>\n",
       "      <th>0</th>\n",
       "      <td>95</td>\n",
       "      <td>48</td>\n",
       "      <td>83</td>\n",
       "      <td>178</td>\n",
       "      <td>72</td>\n",
       "      <td>10</td>\n",
       "      <td>162</td>\n",
       "      <td>42</td>\n",
       "      <td>20</td>\n",
       "      <td>159</td>\n",
       "      <td>176</td>\n",
       "      <td>379</td>\n",
       "      <td>184</td>\n",
       "      <td>70</td>\n",
       "      <td>6</td>\n",
       "      <td>16</td>\n",
       "      <td>187</td>\n",
       "      <td>197</td>\n",
       "      <td>van</td>\n",
       "    </tr>\n",
       "    <tr>\n",
       "      <th>1</th>\n",
       "      <td>91</td>\n",
       "      <td>41</td>\n",
       "      <td>84</td>\n",
       "      <td>141</td>\n",
       "      <td>57</td>\n",
       "      <td>9</td>\n",
       "      <td>149</td>\n",
       "      <td>45</td>\n",
       "      <td>19</td>\n",
       "      <td>143</td>\n",
       "      <td>170</td>\n",
       "      <td>330</td>\n",
       "      <td>158</td>\n",
       "      <td>72</td>\n",
       "      <td>9</td>\n",
       "      <td>14</td>\n",
       "      <td>189</td>\n",
       "      <td>199</td>\n",
       "      <td>van</td>\n",
       "    </tr>\n",
       "    <tr>\n",
       "      <th>2</th>\n",
       "      <td>104</td>\n",
       "      <td>50</td>\n",
       "      <td>106</td>\n",
       "      <td>209</td>\n",
       "      <td>66</td>\n",
       "      <td>10</td>\n",
       "      <td>207</td>\n",
       "      <td>32</td>\n",
       "      <td>23</td>\n",
       "      <td>158</td>\n",
       "      <td>223</td>\n",
       "      <td>635</td>\n",
       "      <td>220</td>\n",
       "      <td>73</td>\n",
       "      <td>14</td>\n",
       "      <td>9</td>\n",
       "      <td>188</td>\n",
       "      <td>196</td>\n",
       "      <td>saab</td>\n",
       "    </tr>\n",
       "    <tr>\n",
       "      <th>3</th>\n",
       "      <td>93</td>\n",
       "      <td>41</td>\n",
       "      <td>82</td>\n",
       "      <td>159</td>\n",
       "      <td>63</td>\n",
       "      <td>9</td>\n",
       "      <td>144</td>\n",
       "      <td>46</td>\n",
       "      <td>19</td>\n",
       "      <td>143</td>\n",
       "      <td>160</td>\n",
       "      <td>309</td>\n",
       "      <td>127</td>\n",
       "      <td>63</td>\n",
       "      <td>6</td>\n",
       "      <td>10</td>\n",
       "      <td>199</td>\n",
       "      <td>207</td>\n",
       "      <td>van</td>\n",
       "    </tr>\n",
       "    <tr>\n",
       "      <th>4</th>\n",
       "      <td>85</td>\n",
       "      <td>44</td>\n",
       "      <td>70</td>\n",
       "      <td>205</td>\n",
       "      <td>103</td>\n",
       "      <td>52</td>\n",
       "      <td>149</td>\n",
       "      <td>45</td>\n",
       "      <td>19</td>\n",
       "      <td>144</td>\n",
       "      <td>241</td>\n",
       "      <td>325</td>\n",
       "      <td>188</td>\n",
       "      <td>127</td>\n",
       "      <td>9</td>\n",
       "      <td>11</td>\n",
       "      <td>180</td>\n",
       "      <td>183</td>\n",
       "      <td>bus</td>\n",
       "    </tr>\n",
       "  </tbody>\n",
       "</table>\n",
       "</div>"
      ],
      "text/plain": [
       "    0   1    2    3    4   5    6   7   8    9    10   11   12   13  14  15  \\\n",
       "0   95  48   83  178   72  10  162  42  20  159  176  379  184   70   6  16   \n",
       "1   91  41   84  141   57   9  149  45  19  143  170  330  158   72   9  14   \n",
       "2  104  50  106  209   66  10  207  32  23  158  223  635  220   73  14   9   \n",
       "3   93  41   82  159   63   9  144  46  19  143  160  309  127   63   6  10   \n",
       "4   85  44   70  205  103  52  149  45  19  144  241  325  188  127   9  11   \n",
       "\n",
       "    16   17    18  \n",
       "0  187  197   van  \n",
       "1  189  199   van  \n",
       "2  188  196  saab  \n",
       "3  199  207   van  \n",
       "4  180  183   bus  "
      ]
     },
     "execution_count": 5,
     "metadata": {},
     "output_type": "execute_result"
    }
   ],
   "source": [
    "dataset.head()"
   ]
  },
  {
   "cell_type": "markdown",
   "metadata": {},
   "source": [
    "## Create X and Y"
   ]
  },
  {
   "cell_type": "code",
   "execution_count": 6,
   "metadata": {
    "collapsed": true
   },
   "outputs": [],
   "source": [
    "X = dataset.iloc[:, 0:18].values\n",
    "Y = dataset.iloc[:, 18].values"
   ]
  },
  {
   "cell_type": "code",
   "execution_count": 7,
   "metadata": {},
   "outputs": [
    {
     "data": {
      "text/plain": [
       "(846, 18)"
      ]
     },
     "execution_count": 7,
     "metadata": {},
     "output_type": "execute_result"
    }
   ],
   "source": [
    "X.shape"
   ]
  },
  {
   "cell_type": "code",
   "execution_count": 8,
   "metadata": {},
   "outputs": [
    {
     "data": {
      "text/plain": [
       "(846,)"
      ]
     },
     "execution_count": 8,
     "metadata": {},
     "output_type": "execute_result"
    }
   ],
   "source": [
    "Y.shape"
   ]
  },
  {
   "cell_type": "code",
   "execution_count": 9,
   "metadata": {},
   "outputs": [
    {
     "data": {
      "text/plain": [
       "array([[ 95,  48,  83, ...,  16, 187, 197],\n",
       "       [ 91,  41,  84, ...,  14, 189, 199],\n",
       "       [104,  50, 106, ...,   9, 188, 196],\n",
       "       ..., \n",
       "       [106,  54, 101, ...,   4, 187, 201],\n",
       "       [ 86,  36,  78, ...,  25, 190, 195],\n",
       "       [ 85,  36,  66, ...,  18, 186, 190]], dtype=int64)"
      ]
     },
     "execution_count": 9,
     "metadata": {},
     "output_type": "execute_result"
    }
   ],
   "source": [
    "X"
   ]
  },
  {
   "cell_type": "code",
   "execution_count": 10,
   "metadata": {
    "scrolled": true
   },
   "outputs": [
    {
     "data": {
      "text/plain": [
       "array(['van', 'van', 'saab', 'van', 'bus', 'bus', 'bus', 'van', 'van',\n",
       "       'saab', 'van', 'saab', 'bus', 'van', 'bus', 'opel', 'van', 'bus',\n",
       "       'saab', 'opel', 'bus', 'van', 'bus', 'bus', 'saab', 'van', 'saab',\n",
       "       'saab', 'bus', 'saab', 'van', 'saab', 'opel', 'opel', 'opel', 'van',\n",
       "       'bus', 'van', 'saab', 'bus', 'opel', 'van', 'van', 'saab', 'saab',\n",
       "       'van', 'van', 'bus', 'van', 'saab', 'saab', 'saab', 'opel', 'bus',\n",
       "       'bus', 'van', 'saab', 'van', 'opel', 'van', 'opel', 'opel', 'van',\n",
       "       'bus', 'bus', 'opel', 'bus', 'opel', 'van', 'bus', 'opel', 'opel',\n",
       "       'opel', 'opel', 'van', 'opel', 'saab', 'saab', 'bus', 'bus', 'bus',\n",
       "       'bus', 'van', 'opel', 'bus', 'bus', 'van', 'van', 'bus', 'opel',\n",
       "       'saab', 'opel', 'saab', 'van', 'bus', 'opel', 'saab', 'bus', 'opel',\n",
       "       'bus', 'bus', 'van', 'van', 'van', 'bus', 'saab', 'opel', 'opel',\n",
       "       'bus', 'bus', 'van', 'van', 'opel', 'opel', 'van', 'van', 'opel',\n",
       "       'saab', 'bus', 'bus', 'saab', 'van', 'van', 'saab', 'van', 'van',\n",
       "       'bus', 'bus', 'van', 'bus', 'saab', 'saab', 'saab', 'van', 'opel',\n",
       "       'van', 'van', 'van', 'saab', 'van', 'saab', 'bus', 'opel', 'bus',\n",
       "       'opel', 'opel', 'van', 'bus', 'saab', 'van', 'saab', 'bus', 'opel',\n",
       "       'saab', 'van', 'bus', 'opel', 'van', 'saab', 'opel', 'opel', 'opel',\n",
       "       'saab', 'saab', 'opel', 'opel', 'saab', 'saab', 'bus', 'van',\n",
       "       'opel', 'bus', 'van', 'bus', 'van', 'bus', 'opel', 'bus', 'bus',\n",
       "       'van', 'saab', 'opel', 'bus', 'saab', 'saab', 'bus', 'bus', 'opel',\n",
       "       'opel', 'opel', 'opel', 'van', 'saab', 'bus', 'saab', 'bus', 'saab',\n",
       "       'bus', 'bus', 'bus', 'van', 'saab', 'opel', 'opel', 'van', 'van',\n",
       "       'opel', 'bus', 'bus', 'opel', 'opel', 'van', 'bus', 'bus', 'opel',\n",
       "       'opel', 'saab', 'opel', 'bus', 'van', 'opel', 'van', 'bus', 'bus',\n",
       "       'saab', 'van', 'saab', 'van', 'saab', 'saab', 'van', 'saab', 'bus',\n",
       "       'saab', 'van', 'van', 'bus', 'bus', 'opel', 'bus', 'opel', 'opel',\n",
       "       'bus', 'saab', 'van', 'van', 'bus', 'saab', 'opel', 'saab', 'van',\n",
       "       'opel', 'van', 'bus', 'van', 'saab', 'saab', 'opel', 'saab', 'opel',\n",
       "       'saab', 'saab', 'van', 'van', 'saab', 'bus', 'bus', 'saab', 'van',\n",
       "       'van', 'bus', 'saab', 'van', 'van', 'bus', 'bus', 'bus', 'opel',\n",
       "       'saab', 'bus', 'opel', 'bus', 'bus', 'saab', 'van', 'saab', 'bus',\n",
       "       'van', 'opel', 'saab', 'van', 'van', 'bus', 'van', 'bus', 'bus',\n",
       "       'bus', 'saab', 'saab', 'bus', 'saab', 'opel', 'bus', 'van', 'bus',\n",
       "       'bus', 'saab', 'opel', 'opel', 'opel', 'saab', 'van', 'bus', 'opel',\n",
       "       'bus', 'van', 'van', 'saab', 'van', 'bus', 'saab', 'bus', 'bus',\n",
       "       'saab', 'saab', 'bus', 'opel', 'opel', 'van', 'saab', 'van', 'opel',\n",
       "       'opel', 'bus', 'bus', 'saab', 'van', 'bus', 'van', 'bus', 'bus',\n",
       "       'opel', 'saab', 'opel', 'opel', 'bus', 'saab', 'opel', 'van',\n",
       "       'opel', 'opel', 'saab', 'van', 'bus', 'saab', 'opel', 'bus', 'saab',\n",
       "       'opel', 'opel', 'saab', 'saab', 'saab', 'van', 'opel', 'saab',\n",
       "       'van', 'saab', 'bus', 'opel', 'bus', 'bus', 'van', 'bus', 'van',\n",
       "       'bus', 'saab', 'saab', 'saab', 'opel', 'opel', 'bus', 'bus', 'opel',\n",
       "       'opel', 'van', 'saab', 'van', 'van', 'opel', 'bus', 'van', 'van',\n",
       "       'bus', 'saab', 'opel', 'bus', 'bus', 'bus', 'van', 'saab', 'opel',\n",
       "       'opel', 'van', 'opel', 'bus', 'opel', 'saab', 'bus', 'saab', 'saab',\n",
       "       'opel', 'bus', 'opel', 'van', 'opel', 'bus', 'bus', 'bus', 'saab',\n",
       "       'van', 'opel', 'saab', 'bus', 'opel', 'opel', 'opel', 'opel',\n",
       "       'saab', 'van', 'saab', 'bus', 'saab', 'bus', 'saab', 'van', 'van',\n",
       "       'opel', 'opel', 'saab', 'saab', 'van', 'van', 'opel', 'bus', 'van',\n",
       "       'saab', 'opel', 'bus', 'van', 'bus', 'opel', 'opel', 'bus', 'saab',\n",
       "       'bus', 'van', 'van', 'opel', 'saab', 'van', 'opel', 'opel', 'opel',\n",
       "       'bus', 'bus', 'bus', 'opel', 'saab', 'van', 'van', 'opel', 'bus',\n",
       "       'opel', 'opel', 'saab', 'opel', 'van', 'bus', 'bus', 'saab', 'opel',\n",
       "       'opel', 'van', 'van', 'bus', 'opel', 'saab', 'opel', 'opel', 'saab',\n",
       "       'saab', 'bus', 'opel', 'bus', 'bus', 'opel', 'van', 'van', 'opel',\n",
       "       'opel', 'opel', 'opel', 'saab', 'opel', 'saab', 'saab', 'opel',\n",
       "       'van', 'opel', 'bus', 'opel', 'opel', 'saab', 'van', 'opel', 'opel',\n",
       "       'saab', 'saab', 'van', 'saab', 'van', 'saab', 'van', 'opel', 'saab',\n",
       "       'saab', 'opel', 'bus', 'bus', 'saab', 'bus', 'saab', 'van', 'van',\n",
       "       'van', 'saab', 'van', 'opel', 'bus', 'bus', 'van', 'saab', 'saab',\n",
       "       'bus', 'van', 'van', 'bus', 'bus', 'saab', 'van', 'opel', 'saab',\n",
       "       'bus', 'saab', 'opel', 'bus', 'saab', 'bus', 'saab', 'opel', 'opel',\n",
       "       'saab', 'opel', 'bus', 'saab', 'saab', 'saab', 'bus', 'van', 'saab',\n",
       "       'saab', 'van', 'van', 'opel', 'saab', 'saab', 'opel', 'opel',\n",
       "       'opel', 'bus', 'van', 'saab', 'saab', 'bus', 'van', 'opel', 'opel',\n",
       "       'opel', 'opel', 'bus', 'opel', 'bus', 'saab', 'van', 'opel', 'opel',\n",
       "       'van', 'bus', 'saab', 'bus', 'van', 'opel', 'saab', 'opel', 'saab',\n",
       "       'van', 'van', 'opel', 'bus', 'opel', 'van', 'opel', 'bus', 'saab',\n",
       "       'opel', 'opel', 'van', 'van', 'opel', 'saab', 'van', 'saab', 'saab',\n",
       "       'saab', 'saab', 'bus', 'bus', 'bus', 'van', 'saab', 'opel', 'bus',\n",
       "       'opel', 'opel', 'van', 'saab', 'bus', 'bus', 'opel', 'opel', 'bus',\n",
       "       'saab', 'bus', 'van', 'opel', 'bus', 'saab', 'saab', 'saab', 'saab',\n",
       "       'saab', 'opel', 'opel', 'saab', 'van', 'bus', 'van', 'van', 'saab',\n",
       "       'van', 'saab', 'saab', 'saab', 'van', 'van', 'opel', 'saab', 'van',\n",
       "       'bus', 'opel', 'opel', 'bus', 'opel', 'saab', 'opel', 'bus', 'bus',\n",
       "       'bus', 'bus', 'van', 'bus', 'van', 'bus', 'bus', 'bus', 'opel',\n",
       "       'bus', 'saab', 'saab', 'saab', 'bus', 'saab', 'van', 'saab', 'van',\n",
       "       'saab', 'bus', 'bus', 'opel', 'opel', 'saab', 'opel', 'van', 'opel',\n",
       "       'saab', 'van', 'van', 'van', 'opel', 'bus', 'saab', 'saab', 'saab',\n",
       "       'bus', 'opel', 'saab', 'bus', 'opel', 'saab', 'opel', 'saab', 'van',\n",
       "       'opel', 'van', 'van', 'saab', 'bus', 'opel', 'opel', 'opel', 'bus',\n",
       "       'van', 'bus', 'van', 'opel', 'saab', 'bus', 'bus', 'van', 'saab',\n",
       "       'bus', 'opel', 'saab', 'van', 'bus', 'van', 'bus', 'van', 'saab',\n",
       "       'saab', 'van', 'bus', 'saab', 'van', 'van', 'saab', 'saab', 'bus',\n",
       "       'van', 'opel', 'saab', 'van', 'opel', 'saab', 'bus', 'saab', 'bus',\n",
       "       'opel', 'saab', 'bus', 'opel', 'opel', 'bus', 'van', 'bus', 'saab',\n",
       "       'bus', 'saab', 'van', 'saab', 'van', 'opel', 'saab', 'van', 'bus',\n",
       "       'saab', 'van', 'saab', 'saab', 'bus', 'van', 'opel', 'bus', 'bus',\n",
       "       'van', 'opel', 'saab', 'opel', 'bus', 'van', 'opel', 'opel', 'bus',\n",
       "       'opel', 'bus', 'saab', 'saab', 'bus', 'saab', 'opel', 'opel', 'bus',\n",
       "       'van', 'bus', 'bus', 'van', 'saab', 'opel', 'saab', 'saab', 'opel',\n",
       "       'van', 'opel', 'opel', 'opel', 'opel', 'opel', 'van', 'van', 'bus',\n",
       "       'bus', 'saab', 'saab', 'saab', 'bus', 'van', 'saab', 'van', 'van',\n",
       "       'opel', 'saab', 'van', 'saab', 'saab', 'van'], dtype=object)"
      ]
     },
     "execution_count": 10,
     "metadata": {},
     "output_type": "execute_result"
    }
   ],
   "source": [
    "Y"
   ]
  },
  {
   "cell_type": "markdown",
   "metadata": {},
   "source": [
    "## Preprocess the Data"
   ]
  },
  {
   "cell_type": "code",
   "execution_count": 11,
   "metadata": {
    "collapsed": true
   },
   "outputs": [],
   "source": [
    "le_Y = LabelEncoder()"
   ]
  },
  {
   "cell_type": "code",
   "execution_count": 12,
   "metadata": {
    "collapsed": true
   },
   "outputs": [],
   "source": [
    "Y = le_Y.fit_transform(Y)"
   ]
  },
  {
   "cell_type": "code",
   "execution_count": 13,
   "metadata": {
    "scrolled": true
   },
   "outputs": [
    {
     "data": {
      "text/plain": [
       "array([3, 3, 2, 3, 0, 0, 0, 3, 3, 2, 3, 2, 0, 3, 0, 1, 3, 0, 2, 1, 0, 3, 0,\n",
       "       0, 2, 3, 2, 2, 0, 2, 3, 2, 1, 1, 1, 3, 0, 3, 2, 0, 1, 3, 3, 2, 2, 3,\n",
       "       3, 0, 3, 2, 2, 2, 1, 0, 0, 3, 2, 3, 1, 3, 1, 1, 3, 0, 0, 1, 0, 1, 3,\n",
       "       0, 1, 1, 1, 1, 3, 1, 2, 2, 0, 0, 0, 0, 3, 1, 0, 0, 3, 3, 0, 1, 2, 1,\n",
       "       2, 3, 0, 1, 2, 0, 1, 0, 0, 3, 3, 3, 0, 2, 1, 1, 0, 0, 3, 3, 1, 1, 3,\n",
       "       3, 1, 2, 0, 0, 2, 3, 3, 2, 3, 3, 0, 0, 3, 0, 2, 2, 2, 3, 1, 3, 3, 3,\n",
       "       2, 3, 2, 0, 1, 0, 1, 1, 3, 0, 2, 3, 2, 0, 1, 2, 3, 0, 1, 3, 2, 1, 1,\n",
       "       1, 2, 2, 1, 1, 2, 2, 0, 3, 1, 0, 3, 0, 3, 0, 1, 0, 0, 3, 2, 1, 0, 2,\n",
       "       2, 0, 0, 1, 1, 1, 1, 3, 2, 0, 2, 0, 2, 0, 0, 0, 3, 2, 1, 1, 3, 3, 1,\n",
       "       0, 0, 1, 1, 3, 0, 0, 1, 1, 2, 1, 0, 3, 1, 3, 0, 0, 2, 3, 2, 3, 2, 2,\n",
       "       3, 2, 0, 2, 3, 3, 0, 0, 1, 0, 1, 1, 0, 2, 3, 3, 0, 2, 1, 2, 3, 1, 3,\n",
       "       0, 3, 2, 2, 1, 2, 1, 2, 2, 3, 3, 2, 0, 0, 2, 3, 3, 0, 2, 3, 3, 0, 0,\n",
       "       0, 1, 2, 0, 1, 0, 0, 2, 3, 2, 0, 3, 1, 2, 3, 3, 0, 3, 0, 0, 0, 2, 2,\n",
       "       0, 2, 1, 0, 3, 0, 0, 2, 1, 1, 1, 2, 3, 0, 1, 0, 3, 3, 2, 3, 0, 2, 0,\n",
       "       0, 2, 2, 0, 1, 1, 3, 2, 3, 1, 1, 0, 0, 2, 3, 0, 3, 0, 0, 1, 2, 1, 1,\n",
       "       0, 2, 1, 3, 1, 1, 2, 3, 0, 2, 1, 0, 2, 1, 1, 2, 2, 2, 3, 1, 2, 3, 2,\n",
       "       0, 1, 0, 0, 3, 0, 3, 0, 2, 2, 2, 1, 1, 0, 0, 1, 1, 3, 2, 3, 3, 1, 0,\n",
       "       3, 3, 0, 2, 1, 0, 0, 0, 3, 2, 1, 1, 3, 1, 0, 1, 2, 0, 2, 2, 1, 0, 1,\n",
       "       3, 1, 0, 0, 0, 2, 3, 1, 2, 0, 1, 1, 1, 1, 2, 3, 2, 0, 2, 0, 2, 3, 3,\n",
       "       1, 1, 2, 2, 3, 3, 1, 0, 3, 2, 1, 0, 3, 0, 1, 1, 0, 2, 0, 3, 3, 1, 2,\n",
       "       3, 1, 1, 1, 0, 0, 0, 1, 2, 3, 3, 1, 0, 1, 1, 2, 1, 3, 0, 0, 2, 1, 1,\n",
       "       3, 3, 0, 1, 2, 1, 1, 2, 2, 0, 1, 0, 0, 1, 3, 3, 1, 1, 1, 1, 2, 1, 2,\n",
       "       2, 1, 3, 1, 0, 1, 1, 2, 3, 1, 1, 2, 2, 3, 2, 3, 2, 3, 1, 2, 2, 1, 0,\n",
       "       0, 2, 0, 2, 3, 3, 3, 2, 3, 1, 0, 0, 3, 2, 2, 0, 3, 3, 0, 0, 2, 3, 1,\n",
       "       2, 0, 2, 1, 0, 2, 0, 2, 1, 1, 2, 1, 0, 2, 2, 2, 0, 3, 2, 2, 3, 3, 1,\n",
       "       2, 2, 1, 1, 1, 0, 3, 2, 2, 0, 3, 1, 1, 1, 1, 0, 1, 0, 2, 3, 1, 1, 3,\n",
       "       0, 2, 0, 3, 1, 2, 1, 2, 3, 3, 1, 0, 1, 3, 1, 0, 2, 1, 1, 3, 3, 1, 2,\n",
       "       3, 2, 2, 2, 2, 0, 0, 0, 3, 2, 1, 0, 1, 1, 3, 2, 0, 0, 1, 1, 0, 2, 0,\n",
       "       3, 1, 0, 2, 2, 2, 2, 2, 1, 1, 2, 3, 0, 3, 3, 2, 3, 2, 2, 2, 3, 3, 1,\n",
       "       2, 3, 0, 1, 1, 0, 1, 2, 1, 0, 0, 0, 0, 3, 0, 3, 0, 0, 0, 1, 0, 2, 2,\n",
       "       2, 0, 2, 3, 2, 3, 2, 0, 0, 1, 1, 2, 1, 3, 1, 2, 3, 3, 3, 1, 0, 2, 2,\n",
       "       2, 0, 1, 2, 0, 1, 2, 1, 2, 3, 1, 3, 3, 2, 0, 1, 1, 1, 0, 3, 0, 3, 1,\n",
       "       2, 0, 0, 3, 2, 0, 1, 2, 3, 0, 3, 0, 3, 2, 2, 3, 0, 2, 3, 3, 2, 2, 0,\n",
       "       3, 1, 2, 3, 1, 2, 0, 2, 0, 1, 2, 0, 1, 1, 0, 3, 0, 2, 0, 2, 3, 2, 3,\n",
       "       1, 2, 3, 0, 2, 3, 2, 2, 0, 3, 1, 0, 0, 3, 1, 2, 1, 0, 3, 1, 1, 0, 1,\n",
       "       0, 2, 2, 0, 2, 1, 1, 0, 3, 0, 0, 3, 2, 1, 2, 2, 1, 3, 1, 1, 1, 1, 1,\n",
       "       3, 3, 0, 0, 2, 2, 2, 0, 3, 2, 3, 3, 1, 2, 3, 2, 2, 3], dtype=int64)"
      ]
     },
     "execution_count": 13,
     "metadata": {},
     "output_type": "execute_result"
    }
   ],
   "source": [
    "Y"
   ]
  },
  {
   "cell_type": "code",
   "execution_count": 14,
   "metadata": {
    "collapsed": true
   },
   "outputs": [],
   "source": [
    "sc_X = StandardScaler()"
   ]
  },
  {
   "cell_type": "code",
   "execution_count": 15,
   "metadata": {},
   "outputs": [
    {
     "name": "stderr",
     "output_type": "stream",
     "text": [
      "C:\\Users\\user\\Anaconda3\\lib\\site-packages\\sklearn\\utils\\validation.py:444: DataConversionWarning: Data with input dtype int64 was converted to float64 by StandardScaler.\n",
      "  warnings.warn(msg, DataConversionWarning)\n"
     ]
    }
   ],
   "source": [
    "X = sc_X.fit_transform(X)"
   ]
  },
  {
   "cell_type": "code",
   "execution_count": 16,
   "metadata": {},
   "outputs": [
    {
     "data": {
      "text/plain": [
       "array([[ 0.16058035,  0.5089502 ,  0.05781852, ...,  0.38099086,\n",
       "        -0.31372213,  0.18395733],\n",
       "       [-0.32546965, -0.62626753,  0.1212614 , ...,  0.15692533,\n",
       "         0.0109371 ,  0.45297703],\n",
       "       [ 1.25419283,  0.83329812,  1.51700488, ..., -0.4032385 ,\n",
       "        -0.15139252,  0.04944748],\n",
       "       ..., \n",
       "       [ 1.49721783,  1.48199396,  1.19979045, ..., -0.96340232,\n",
       "        -0.31372213,  0.72199673],\n",
       "       [-0.93303214, -1.43713733, -0.25939591, ...,  1.38928574,\n",
       "         0.17326672, -0.08506238],\n",
       "       [-1.05454464, -1.43713733, -1.02071053, ...,  0.60505639,\n",
       "        -0.47605175, -0.75761164]])"
      ]
     },
     "execution_count": 16,
     "metadata": {},
     "output_type": "execute_result"
    }
   ],
   "source": [
    "X"
   ]
  },
  {
   "cell_type": "markdown",
   "metadata": {},
   "source": [
    "## Create Train and Test Data"
   ]
  },
  {
   "cell_type": "code",
   "execution_count": 17,
   "metadata": {
    "collapsed": true
   },
   "outputs": [],
   "source": [
    "X_train, X_test, Y_train, Y_test = train_test_split(X, Y, test_size = 0.2, random_state = 4)"
   ]
  },
  {
   "cell_type": "code",
   "execution_count": 18,
   "metadata": {},
   "outputs": [
    {
     "data": {
      "text/plain": [
       "(676, 18)"
      ]
     },
     "execution_count": 18,
     "metadata": {},
     "output_type": "execute_result"
    }
   ],
   "source": [
    "X_train.shape"
   ]
  },
  {
   "cell_type": "code",
   "execution_count": 19,
   "metadata": {},
   "outputs": [
    {
     "data": {
      "text/plain": [
       "(170, 18)"
      ]
     },
     "execution_count": 19,
     "metadata": {},
     "output_type": "execute_result"
    }
   ],
   "source": [
    "X_test.shape"
   ]
  },
  {
   "cell_type": "code",
   "execution_count": 20,
   "metadata": {},
   "outputs": [
    {
     "data": {
      "text/plain": [
       "(676,)"
      ]
     },
     "execution_count": 20,
     "metadata": {},
     "output_type": "execute_result"
    }
   ],
   "source": [
    "Y_train.shape"
   ]
  },
  {
   "cell_type": "code",
   "execution_count": 21,
   "metadata": {},
   "outputs": [
    {
     "data": {
      "text/plain": [
       "(170,)"
      ]
     },
     "execution_count": 21,
     "metadata": {},
     "output_type": "execute_result"
    }
   ],
   "source": [
    "Y_test.shape"
   ]
  },
  {
   "cell_type": "code",
   "execution_count": 22,
   "metadata": {},
   "outputs": [
    {
     "data": {
      "text/html": [
       "<div>\n",
       "<style>\n",
       "    .dataframe thead tr:only-child th {\n",
       "        text-align: right;\n",
       "    }\n",
       "\n",
       "    .dataframe thead th {\n",
       "        text-align: left;\n",
       "    }\n",
       "\n",
       "    .dataframe tbody tr th {\n",
       "        vertical-align: top;\n",
       "    }\n",
       "</style>\n",
       "<table border=\"1\" class=\"dataframe\">\n",
       "  <thead>\n",
       "    <tr style=\"text-align: right;\">\n",
       "      <th></th>\n",
       "      <th>0</th>\n",
       "    </tr>\n",
       "  </thead>\n",
       "  <tbody>\n",
       "    <tr>\n",
       "      <th>2</th>\n",
       "      <td>178</td>\n",
       "    </tr>\n",
       "    <tr>\n",
       "      <th>0</th>\n",
       "      <td>176</td>\n",
       "    </tr>\n",
       "    <tr>\n",
       "      <th>1</th>\n",
       "      <td>163</td>\n",
       "    </tr>\n",
       "    <tr>\n",
       "      <th>3</th>\n",
       "      <td>159</td>\n",
       "    </tr>\n",
       "  </tbody>\n",
       "</table>\n",
       "</div>"
      ],
      "text/plain": [
       "     0\n",
       "2  178\n",
       "0  176\n",
       "1  163\n",
       "3  159"
      ]
     },
     "execution_count": 22,
     "metadata": {},
     "output_type": "execute_result"
    }
   ],
   "source": [
    "pd.DataFrame(pd.DataFrame(Y_train)[0].value_counts())"
   ]
  },
  {
   "cell_type": "code",
   "execution_count": 23,
   "metadata": {},
   "outputs": [
    {
     "data": {
      "text/html": [
       "<div>\n",
       "<style>\n",
       "    .dataframe thead tr:only-child th {\n",
       "        text-align: right;\n",
       "    }\n",
       "\n",
       "    .dataframe thead th {\n",
       "        text-align: left;\n",
       "    }\n",
       "\n",
       "    .dataframe tbody tr th {\n",
       "        vertical-align: top;\n",
       "    }\n",
       "</style>\n",
       "<table border=\"1\" class=\"dataframe\">\n",
       "  <thead>\n",
       "    <tr style=\"text-align: right;\">\n",
       "      <th></th>\n",
       "      <th>0</th>\n",
       "    </tr>\n",
       "  </thead>\n",
       "  <tbody>\n",
       "    <tr>\n",
       "      <th>1</th>\n",
       "      <td>49</td>\n",
       "    </tr>\n",
       "    <tr>\n",
       "      <th>0</th>\n",
       "      <td>42</td>\n",
       "    </tr>\n",
       "    <tr>\n",
       "      <th>3</th>\n",
       "      <td>40</td>\n",
       "    </tr>\n",
       "    <tr>\n",
       "      <th>2</th>\n",
       "      <td>39</td>\n",
       "    </tr>\n",
       "  </tbody>\n",
       "</table>\n",
       "</div>"
      ],
      "text/plain": [
       "    0\n",
       "1  49\n",
       "0  42\n",
       "3  40\n",
       "2  39"
      ]
     },
     "execution_count": 23,
     "metadata": {},
     "output_type": "execute_result"
    }
   ],
   "source": [
    "pd.DataFrame(pd.DataFrame(Y_test)[0].value_counts())"
   ]
  },
  {
   "cell_type": "markdown",
   "metadata": {},
   "source": [
    "## DecisionTree"
   ]
  },
  {
   "cell_type": "code",
   "execution_count": 24,
   "metadata": {
    "collapsed": true
   },
   "outputs": [],
   "source": [
    "clf_dt = DecisionTreeClassifier(criterion = 'entropy')"
   ]
  },
  {
   "cell_type": "code",
   "execution_count": 25,
   "metadata": {},
   "outputs": [
    {
     "data": {
      "text/plain": [
       "DecisionTreeClassifier(class_weight=None, criterion='entropy', max_depth=None,\n",
       "            max_features=None, max_leaf_nodes=None,\n",
       "            min_impurity_decrease=0.0, min_impurity_split=None,\n",
       "            min_samples_leaf=1, min_samples_split=2,\n",
       "            min_weight_fraction_leaf=0.0, presort=False, random_state=None,\n",
       "            splitter='best')"
      ]
     },
     "execution_count": 25,
     "metadata": {},
     "output_type": "execute_result"
    }
   ],
   "source": [
    "clf_dt.fit(X_train, Y_train)"
   ]
  },
  {
   "cell_type": "code",
   "execution_count": 26,
   "metadata": {
    "collapsed": true
   },
   "outputs": [],
   "source": [
    "Y_pred_dt = clf_dt.predict(X_test)"
   ]
  },
  {
   "cell_type": "code",
   "execution_count": 27,
   "metadata": {},
   "outputs": [
    {
     "data": {
      "text/plain": [
       "array([[40,  0,  1,  2],\n",
       "       [ 0, 22, 19,  0],\n",
       "       [ 1, 26, 17,  1],\n",
       "       [ 1,  1,  2, 37]], dtype=int64)"
      ]
     },
     "execution_count": 27,
     "metadata": {},
     "output_type": "execute_result"
    }
   ],
   "source": [
    "confusion_matrix(Y_pred_dt, Y_test)"
   ]
  },
  {
   "cell_type": "markdown",
   "metadata": {},
   "source": [
    "## Random Forest"
   ]
  },
  {
   "cell_type": "code",
   "execution_count": 28,
   "metadata": {
    "collapsed": true
   },
   "outputs": [],
   "source": [
    "clf_rf = RandomForestClassifier(n_estimators = 10, criterion = 'entropy')"
   ]
  },
  {
   "cell_type": "code",
   "execution_count": 29,
   "metadata": {},
   "outputs": [
    {
     "data": {
      "text/plain": [
       "RandomForestClassifier(bootstrap=True, class_weight=None, criterion='entropy',\n",
       "            max_depth=None, max_features='auto', max_leaf_nodes=None,\n",
       "            min_impurity_decrease=0.0, min_impurity_split=None,\n",
       "            min_samples_leaf=1, min_samples_split=2,\n",
       "            min_weight_fraction_leaf=0.0, n_estimators=10, n_jobs=1,\n",
       "            oob_score=False, random_state=None, verbose=0,\n",
       "            warm_start=False)"
      ]
     },
     "execution_count": 29,
     "metadata": {},
     "output_type": "execute_result"
    }
   ],
   "source": [
    "clf_rf.fit(X_train, Y_train)"
   ]
  },
  {
   "cell_type": "code",
   "execution_count": 30,
   "metadata": {
    "collapsed": true
   },
   "outputs": [],
   "source": [
    "Y_pred_rf = clf_rf.predict(X_test)"
   ]
  },
  {
   "cell_type": "code",
   "execution_count": 31,
   "metadata": {},
   "outputs": [
    {
     "data": {
      "text/plain": [
       "array([[42,  1,  2,  2],\n",
       "       [ 0, 25, 16,  0],\n",
       "       [ 0, 21, 20,  0],\n",
       "       [ 0,  2,  1, 38]], dtype=int64)"
      ]
     },
     "execution_count": 31,
     "metadata": {},
     "output_type": "execute_result"
    }
   ],
   "source": [
    "confusion_matrix(Y_pred_rf, Y_test)"
   ]
  },
  {
   "cell_type": "markdown",
   "metadata": {},
   "source": [
    "## Naive Bayes"
   ]
  },
  {
   "cell_type": "code",
   "execution_count": 32,
   "metadata": {
    "collapsed": true
   },
   "outputs": [],
   "source": [
    "clf_nb = GaussianNB()"
   ]
  },
  {
   "cell_type": "code",
   "execution_count": 33,
   "metadata": {},
   "outputs": [
    {
     "data": {
      "text/plain": [
       "GaussianNB(priors=None)"
      ]
     },
     "execution_count": 33,
     "metadata": {},
     "output_type": "execute_result"
    }
   ],
   "source": [
    "clf_nb.fit(X_train, Y_train)"
   ]
  },
  {
   "cell_type": "code",
   "execution_count": 34,
   "metadata": {
    "collapsed": true
   },
   "outputs": [],
   "source": [
    "Y_pred_nb = clf_nb.predict(X_test)"
   ]
  },
  {
   "cell_type": "code",
   "execution_count": 35,
   "metadata": {},
   "outputs": [
    {
     "data": {
      "text/plain": [
       "array([[ 9,  0,  0,  3],\n",
       "       [ 6, 20,  8,  0],\n",
       "       [ 3, 14, 17,  2],\n",
       "       [24, 15, 14, 35]], dtype=int64)"
      ]
     },
     "execution_count": 35,
     "metadata": {},
     "output_type": "execute_result"
    }
   ],
   "source": [
    "confusion_matrix(Y_pred_nb, Y_test)"
   ]
  },
  {
   "cell_type": "markdown",
   "metadata": {},
   "source": [
    "## KNN"
   ]
  },
  {
   "cell_type": "code",
   "execution_count": 36,
   "metadata": {
    "collapsed": true
   },
   "outputs": [],
   "source": [
    "clf_knn = KNeighborsClassifier(n_neighbors = 5)"
   ]
  },
  {
   "cell_type": "code",
   "execution_count": 37,
   "metadata": {},
   "outputs": [
    {
     "data": {
      "text/plain": [
       "KNeighborsClassifier(algorithm='auto', leaf_size=30, metric='minkowski',\n",
       "           metric_params=None, n_jobs=1, n_neighbors=5, p=2,\n",
       "           weights='uniform')"
      ]
     },
     "execution_count": 37,
     "metadata": {},
     "output_type": "execute_result"
    }
   ],
   "source": [
    "clf_knn.fit(X_train, Y_train)"
   ]
  },
  {
   "cell_type": "code",
   "execution_count": 38,
   "metadata": {
    "collapsed": true
   },
   "outputs": [],
   "source": [
    "Y_pred_knn = clf_knn.predict(X_test)"
   ]
  },
  {
   "cell_type": "code",
   "execution_count": 39,
   "metadata": {},
   "outputs": [
    {
     "data": {
      "text/plain": [
       "array([[41,  2,  2,  5],\n",
       "       [ 0, 22, 15,  0],\n",
       "       [ 0, 20, 22,  1],\n",
       "       [ 1,  5,  0, 34]], dtype=int64)"
      ]
     },
     "execution_count": 39,
     "metadata": {},
     "output_type": "execute_result"
    }
   ],
   "source": [
    "confusion_matrix(Y_pred_knn, Y_test)"
   ]
  },
  {
   "cell_type": "markdown",
   "metadata": {},
   "source": [
    "## Logistic Regression"
   ]
  },
  {
   "cell_type": "code",
   "execution_count": 40,
   "metadata": {
    "collapsed": true
   },
   "outputs": [],
   "source": [
    "clf_lr = LogisticRegression()"
   ]
  },
  {
   "cell_type": "code",
   "execution_count": 41,
   "metadata": {},
   "outputs": [
    {
     "data": {
      "text/plain": [
       "LogisticRegression(C=1.0, class_weight=None, dual=False, fit_intercept=True,\n",
       "          intercept_scaling=1, max_iter=100, multi_class='ovr', n_jobs=1,\n",
       "          penalty='l2', random_state=None, solver='liblinear', tol=0.0001,\n",
       "          verbose=0, warm_start=False)"
      ]
     },
     "execution_count": 41,
     "metadata": {},
     "output_type": "execute_result"
    }
   ],
   "source": [
    "clf_lr.fit(X_train, Y_train)"
   ]
  },
  {
   "cell_type": "code",
   "execution_count": 42,
   "metadata": {
    "collapsed": true
   },
   "outputs": [],
   "source": [
    "Y_pred_lr = clf_lr.predict(X_test)"
   ]
  },
  {
   "cell_type": "code",
   "execution_count": 43,
   "metadata": {},
   "outputs": [
    {
     "data": {
      "text/plain": [
       "array([[39,  2,  4,  0],\n",
       "       [ 1, 27, 10,  0],\n",
       "       [ 2, 18, 24,  0],\n",
       "       [ 0,  2,  1, 40]], dtype=int64)"
      ]
     },
     "execution_count": 43,
     "metadata": {},
     "output_type": "execute_result"
    }
   ],
   "source": [
    "confusion_matrix(Y_pred_lr, Y_test)"
   ]
  },
  {
   "cell_type": "markdown",
   "metadata": {},
   "source": [
    "## Linear SVC"
   ]
  },
  {
   "cell_type": "code",
   "execution_count": 44,
   "metadata": {
    "collapsed": true
   },
   "outputs": [],
   "source": [
    "clf_lsvc = SVC(kernel = 'linear')"
   ]
  },
  {
   "cell_type": "code",
   "execution_count": 45,
   "metadata": {},
   "outputs": [
    {
     "data": {
      "text/plain": [
       "SVC(C=1.0, cache_size=200, class_weight=None, coef0=0.0,\n",
       "  decision_function_shape='ovr', degree=3, gamma='auto', kernel='linear',\n",
       "  max_iter=-1, probability=False, random_state=None, shrinking=True,\n",
       "  tol=0.001, verbose=False)"
      ]
     },
     "execution_count": 45,
     "metadata": {},
     "output_type": "execute_result"
    }
   ],
   "source": [
    "clf_lsvc.fit(X_train, Y_train)"
   ]
  },
  {
   "cell_type": "code",
   "execution_count": 46,
   "metadata": {
    "collapsed": true
   },
   "outputs": [],
   "source": [
    "Y_pred_lsvc = clf_lsvc.predict(X_test)"
   ]
  },
  {
   "cell_type": "code",
   "execution_count": 47,
   "metadata": {},
   "outputs": [
    {
     "data": {
      "text/plain": [
       "array([[39,  1,  4,  0],\n",
       "       [ 0, 30,  9,  0],\n",
       "       [ 2, 18, 26,  0],\n",
       "       [ 1,  0,  0, 40]], dtype=int64)"
      ]
     },
     "execution_count": 47,
     "metadata": {},
     "output_type": "execute_result"
    }
   ],
   "source": [
    "confusion_matrix(Y_pred_lsvc, Y_test)"
   ]
  },
  {
   "cell_type": "markdown",
   "metadata": {},
   "source": [
    "## Kernel SVC"
   ]
  },
  {
   "cell_type": "code",
   "execution_count": 48,
   "metadata": {
    "collapsed": true
   },
   "outputs": [],
   "source": [
    "clf_ksvc = SVC(kernel = 'rbf')"
   ]
  },
  {
   "cell_type": "code",
   "execution_count": 49,
   "metadata": {},
   "outputs": [
    {
     "data": {
      "text/plain": [
       "SVC(C=1.0, cache_size=200, class_weight=None, coef0=0.0,\n",
       "  decision_function_shape='ovr', degree=3, gamma='auto', kernel='rbf',\n",
       "  max_iter=-1, probability=False, random_state=None, shrinking=True,\n",
       "  tol=0.001, verbose=False)"
      ]
     },
     "execution_count": 49,
     "metadata": {},
     "output_type": "execute_result"
    }
   ],
   "source": [
    "clf_ksvc.fit(X_train, Y_train)"
   ]
  },
  {
   "cell_type": "code",
   "execution_count": 50,
   "metadata": {
    "collapsed": true
   },
   "outputs": [],
   "source": [
    "Y_pred_ksvc = clf_ksvc.predict(X_test)"
   ]
  },
  {
   "cell_type": "code",
   "execution_count": 51,
   "metadata": {},
   "outputs": [
    {
     "data": {
      "text/plain": [
       "array([[41,  1,  1,  1],\n",
       "       [ 0, 22, 14,  0],\n",
       "       [ 0, 22, 23,  0],\n",
       "       [ 1,  4,  1, 39]], dtype=int64)"
      ]
     },
     "execution_count": 51,
     "metadata": {},
     "output_type": "execute_result"
    }
   ],
   "source": [
    "confusion_matrix(Y_pred_ksvc, Y_test)"
   ]
  },
  {
   "cell_type": "markdown",
   "metadata": {},
   "source": [
    "## Accuracy of Various Models"
   ]
  },
  {
   "cell_type": "code",
   "execution_count": 52,
   "metadata": {},
   "outputs": [
    {
     "data": {
      "text/plain": [
       "{'DT': 0.68235294117647061,\n",
       " 'KNN': 0.69999999999999996,\n",
       " 'KernelSVC': 0.73529411764705888,\n",
       " 'LinearSVC': 0.79411764705882348,\n",
       " 'LogReg': 0.76470588235294112,\n",
       " 'NB': 0.47647058823529409,\n",
       " 'RF': 0.73529411764705888}"
      ]
     },
     "execution_count": 52,
     "metadata": {},
     "output_type": "execute_result"
    }
   ],
   "source": [
    "model_accuracies['DT'] = accuracy_score(Y_pred_dt, Y_test)\n",
    "model_accuracies['KNN'] = accuracy_score(Y_pred_knn, Y_test)\n",
    "model_accuracies['KernelSVC'] = accuracy_score(Y_pred_ksvc, Y_test)\n",
    "model_accuracies['LinearSVC'] = accuracy_score(Y_pred_lsvc, Y_test)\n",
    "model_accuracies['LogReg'] = accuracy_score(Y_pred_lr, Y_test)\n",
    "model_accuracies['NB'] = accuracy_score(Y_pred_nb, Y_test)\n",
    "model_accuracies['RF'] = accuracy_score(Y_pred_rf, Y_test)\n",
    "model_accuracies"
   ]
  },
  {
   "cell_type": "code",
   "execution_count": null,
   "metadata": {
    "collapsed": true
   },
   "outputs": [],
   "source": []
  },
  {
   "cell_type": "code",
   "execution_count": null,
   "metadata": {
    "collapsed": true
   },
   "outputs": [],
   "source": []
  }
 ],
 "metadata": {
  "kernelspec": {
   "display_name": "Python [default]",
   "language": "python",
   "name": "python3"
  },
  "language_info": {
   "codemirror_mode": {
    "name": "ipython",
    "version": 3
   },
   "file_extension": ".py",
   "mimetype": "text/x-python",
   "name": "python",
   "nbconvert_exporter": "python",
   "pygments_lexer": "ipython3",
   "version": "3.5.4"
  }
 },
 "nbformat": 4,
 "nbformat_minor": 2
}
