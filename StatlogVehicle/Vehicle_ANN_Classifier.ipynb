{
 "cells": [
  {
   "cell_type": "markdown",
   "metadata": {},
   "source": [
    "## Initialization"
   ]
  },
  {
   "cell_type": "code",
   "execution_count": 1,
   "metadata": {},
   "outputs": [
    {
     "name": "stderr",
     "output_type": "stream",
     "text": [
      "Using Theano backend.\n"
     ]
    }
   ],
   "source": [
    "import pandas as pd\n",
    "import numpy as np\n",
    "import keras"
   ]
  },
  {
   "cell_type": "markdown",
   "metadata": {},
   "source": [
    "## Importing the Data"
   ]
  },
  {
   "cell_type": "code",
   "execution_count": 2,
   "metadata": {},
   "outputs": [
    {
     "data": {
      "text/plain": [
       "(846, 19)"
      ]
     },
     "execution_count": 2,
     "metadata": {},
     "output_type": "execute_result"
    }
   ],
   "source": [
    "dataset = pd.read_csv(\"Dataset.txt\", header = None, delimiter = r\"\\s+\")\n",
    "dataset.shape"
   ]
  },
  {
   "cell_type": "code",
   "execution_count": 3,
   "metadata": {},
   "outputs": [
    {
     "data": {
      "text/html": [
       "<div>\n",
       "<style>\n",
       "    .dataframe thead tr:only-child th {\n",
       "        text-align: right;\n",
       "    }\n",
       "\n",
       "    .dataframe thead th {\n",
       "        text-align: left;\n",
       "    }\n",
       "\n",
       "    .dataframe tbody tr th {\n",
       "        vertical-align: top;\n",
       "    }\n",
       "</style>\n",
       "<table border=\"1\" class=\"dataframe\">\n",
       "  <thead>\n",
       "    <tr style=\"text-align: right;\">\n",
       "      <th></th>\n",
       "      <th>0</th>\n",
       "      <th>1</th>\n",
       "      <th>2</th>\n",
       "      <th>3</th>\n",
       "      <th>4</th>\n",
       "      <th>5</th>\n",
       "      <th>6</th>\n",
       "      <th>7</th>\n",
       "      <th>8</th>\n",
       "      <th>9</th>\n",
       "      <th>10</th>\n",
       "      <th>11</th>\n",
       "      <th>12</th>\n",
       "      <th>13</th>\n",
       "      <th>14</th>\n",
       "      <th>15</th>\n",
       "      <th>16</th>\n",
       "      <th>17</th>\n",
       "      <th>18</th>\n",
       "    </tr>\n",
       "  </thead>\n",
       "  <tbody>\n",
       "    <tr>\n",
       "      <th>0</th>\n",
       "      <td>95</td>\n",
       "      <td>48</td>\n",
       "      <td>83</td>\n",
       "      <td>178</td>\n",
       "      <td>72</td>\n",
       "      <td>10</td>\n",
       "      <td>162</td>\n",
       "      <td>42</td>\n",
       "      <td>20</td>\n",
       "      <td>159</td>\n",
       "      <td>176</td>\n",
       "      <td>379</td>\n",
       "      <td>184</td>\n",
       "      <td>70</td>\n",
       "      <td>6</td>\n",
       "      <td>16</td>\n",
       "      <td>187</td>\n",
       "      <td>197</td>\n",
       "      <td>van</td>\n",
       "    </tr>\n",
       "    <tr>\n",
       "      <th>1</th>\n",
       "      <td>91</td>\n",
       "      <td>41</td>\n",
       "      <td>84</td>\n",
       "      <td>141</td>\n",
       "      <td>57</td>\n",
       "      <td>9</td>\n",
       "      <td>149</td>\n",
       "      <td>45</td>\n",
       "      <td>19</td>\n",
       "      <td>143</td>\n",
       "      <td>170</td>\n",
       "      <td>330</td>\n",
       "      <td>158</td>\n",
       "      <td>72</td>\n",
       "      <td>9</td>\n",
       "      <td>14</td>\n",
       "      <td>189</td>\n",
       "      <td>199</td>\n",
       "      <td>van</td>\n",
       "    </tr>\n",
       "    <tr>\n",
       "      <th>2</th>\n",
       "      <td>104</td>\n",
       "      <td>50</td>\n",
       "      <td>106</td>\n",
       "      <td>209</td>\n",
       "      <td>66</td>\n",
       "      <td>10</td>\n",
       "      <td>207</td>\n",
       "      <td>32</td>\n",
       "      <td>23</td>\n",
       "      <td>158</td>\n",
       "      <td>223</td>\n",
       "      <td>635</td>\n",
       "      <td>220</td>\n",
       "      <td>73</td>\n",
       "      <td>14</td>\n",
       "      <td>9</td>\n",
       "      <td>188</td>\n",
       "      <td>196</td>\n",
       "      <td>saab</td>\n",
       "    </tr>\n",
       "    <tr>\n",
       "      <th>3</th>\n",
       "      <td>93</td>\n",
       "      <td>41</td>\n",
       "      <td>82</td>\n",
       "      <td>159</td>\n",
       "      <td>63</td>\n",
       "      <td>9</td>\n",
       "      <td>144</td>\n",
       "      <td>46</td>\n",
       "      <td>19</td>\n",
       "      <td>143</td>\n",
       "      <td>160</td>\n",
       "      <td>309</td>\n",
       "      <td>127</td>\n",
       "      <td>63</td>\n",
       "      <td>6</td>\n",
       "      <td>10</td>\n",
       "      <td>199</td>\n",
       "      <td>207</td>\n",
       "      <td>van</td>\n",
       "    </tr>\n",
       "    <tr>\n",
       "      <th>4</th>\n",
       "      <td>85</td>\n",
       "      <td>44</td>\n",
       "      <td>70</td>\n",
       "      <td>205</td>\n",
       "      <td>103</td>\n",
       "      <td>52</td>\n",
       "      <td>149</td>\n",
       "      <td>45</td>\n",
       "      <td>19</td>\n",
       "      <td>144</td>\n",
       "      <td>241</td>\n",
       "      <td>325</td>\n",
       "      <td>188</td>\n",
       "      <td>127</td>\n",
       "      <td>9</td>\n",
       "      <td>11</td>\n",
       "      <td>180</td>\n",
       "      <td>183</td>\n",
       "      <td>bus</td>\n",
       "    </tr>\n",
       "  </tbody>\n",
       "</table>\n",
       "</div>"
      ],
      "text/plain": [
       "    0   1    2    3    4   5    6   7   8    9    10   11   12   13  14  15  \\\n",
       "0   95  48   83  178   72  10  162  42  20  159  176  379  184   70   6  16   \n",
       "1   91  41   84  141   57   9  149  45  19  143  170  330  158   72   9  14   \n",
       "2  104  50  106  209   66  10  207  32  23  158  223  635  220   73  14   9   \n",
       "3   93  41   82  159   63   9  144  46  19  143  160  309  127   63   6  10   \n",
       "4   85  44   70  205  103  52  149  45  19  144  241  325  188  127   9  11   \n",
       "\n",
       "    16   17    18  \n",
       "0  187  197   van  \n",
       "1  189  199   van  \n",
       "2  188  196  saab  \n",
       "3  199  207   van  \n",
       "4  180  183   bus  "
      ]
     },
     "execution_count": 3,
     "metadata": {},
     "output_type": "execute_result"
    }
   ],
   "source": [
    "dataset.head()"
   ]
  },
  {
   "cell_type": "markdown",
   "metadata": {},
   "source": [
    "## Create X and Y"
   ]
  },
  {
   "cell_type": "code",
   "execution_count": 4,
   "metadata": {
    "collapsed": true
   },
   "outputs": [],
   "source": [
    "X = dataset.iloc[:, 0:18].values\n",
    "Y = dataset.iloc[:, 18].values"
   ]
  },
  {
   "cell_type": "code",
   "execution_count": 5,
   "metadata": {},
   "outputs": [
    {
     "data": {
      "text/plain": [
       "array([ 95,  48,  83, 178,  72,  10, 162,  42,  20, 159, 176, 379, 184,\n",
       "        70,   6,  16, 187, 197], dtype=int64)"
      ]
     },
     "execution_count": 5,
     "metadata": {},
     "output_type": "execute_result"
    }
   ],
   "source": [
    "X[0]"
   ]
  },
  {
   "cell_type": "code",
   "execution_count": 6,
   "metadata": {
    "scrolled": true
   },
   "outputs": [
    {
     "data": {
      "text/plain": [
       "'van'"
      ]
     },
     "execution_count": 6,
     "metadata": {},
     "output_type": "execute_result"
    }
   ],
   "source": [
    "Y[0]"
   ]
  },
  {
   "cell_type": "markdown",
   "metadata": {},
   "source": [
    "## Preprocess the Data"
   ]
  },
  {
   "cell_type": "code",
   "execution_count": 7,
   "metadata": {
    "collapsed": true
   },
   "outputs": [],
   "source": [
    "from sklearn.preprocessing import LabelEncoder, OneHotEncoder, StandardScaler"
   ]
  },
  {
   "cell_type": "code",
   "execution_count": 8,
   "metadata": {
    "collapsed": true
   },
   "outputs": [],
   "source": [
    "le_Y = LabelEncoder()"
   ]
  },
  {
   "cell_type": "code",
   "execution_count": 9,
   "metadata": {},
   "outputs": [
    {
     "data": {
      "text/plain": [
       "array([3], dtype=int64)"
      ]
     },
     "execution_count": 9,
     "metadata": {},
     "output_type": "execute_result"
    }
   ],
   "source": [
    "Y = le_Y.fit_transform(Y)\n",
    "Y = Y.reshape(len(Y), 1)\n",
    "Y[0]"
   ]
  },
  {
   "cell_type": "code",
   "execution_count": 10,
   "metadata": {
    "collapsed": true
   },
   "outputs": [],
   "source": [
    "ohe_Y = OneHotEncoder(categorical_features = [0])"
   ]
  },
  {
   "cell_type": "code",
   "execution_count": 11,
   "metadata": {},
   "outputs": [
    {
     "data": {
      "text/plain": [
       "array([ 0.,  0.,  0.,  1.])"
      ]
     },
     "execution_count": 11,
     "metadata": {},
     "output_type": "execute_result"
    }
   ],
   "source": [
    "Y = ohe_Y.fit_transform(Y).toarray()\n",
    "Y[0]"
   ]
  },
  {
   "cell_type": "code",
   "execution_count": 12,
   "metadata": {
    "collapsed": true
   },
   "outputs": [],
   "source": [
    "sc_X = StandardScaler()"
   ]
  },
  {
   "cell_type": "code",
   "execution_count": 13,
   "metadata": {},
   "outputs": [
    {
     "name": "stderr",
     "output_type": "stream",
     "text": [
      "C:\\Users\\user\\Anaconda3\\lib\\site-packages\\sklearn\\utils\\validation.py:444: DataConversionWarning: Data with input dtype int64 was converted to float64 by StandardScaler.\n",
      "  warnings.warn(msg, DataConversionWarning)\n"
     ]
    },
    {
     "data": {
      "text/plain": [
       "array([ 0.16058035,  0.5089502 ,  0.05781852,  0.27080578,  1.30729142,\n",
       "        0.31154185, -0.2058443 ,  0.13656998, -0.22494441,  0.75833245,\n",
       "       -0.40238349, -0.3449345 ,  0.28581238, -0.32905569, -0.07671097,\n",
       "        0.38099086, -0.31372213,  0.18395733])"
      ]
     },
     "execution_count": 13,
     "metadata": {},
     "output_type": "execute_result"
    }
   ],
   "source": [
    "X = sc_X.fit_transform(X)\n",
    "X[0]"
   ]
  },
  {
   "cell_type": "markdown",
   "metadata": {},
   "source": [
    "## Create Train and Test Data"
   ]
  },
  {
   "cell_type": "code",
   "execution_count": 14,
   "metadata": {
    "collapsed": true
   },
   "outputs": [],
   "source": [
    "from sklearn.model_selection import train_test_split\n",
    "X_train, X_test, Y_train, Y_test = train_test_split(X, Y, test_size = 0.2, random_state = 4)"
   ]
  },
  {
   "cell_type": "code",
   "execution_count": 15,
   "metadata": {},
   "outputs": [
    {
     "data": {
      "text/plain": [
       "(676, 18)"
      ]
     },
     "execution_count": 15,
     "metadata": {},
     "output_type": "execute_result"
    }
   ],
   "source": [
    "X_train.shape"
   ]
  },
  {
   "cell_type": "code",
   "execution_count": 16,
   "metadata": {},
   "outputs": [
    {
     "data": {
      "text/plain": [
       "(170, 18)"
      ]
     },
     "execution_count": 16,
     "metadata": {},
     "output_type": "execute_result"
    }
   ],
   "source": [
    "X_test.shape"
   ]
  },
  {
   "cell_type": "code",
   "execution_count": 17,
   "metadata": {},
   "outputs": [
    {
     "data": {
      "text/plain": [
       "(676, 4)"
      ]
     },
     "execution_count": 17,
     "metadata": {},
     "output_type": "execute_result"
    }
   ],
   "source": [
    "Y_train.shape"
   ]
  },
  {
   "cell_type": "code",
   "execution_count": 18,
   "metadata": {},
   "outputs": [
    {
     "data": {
      "text/plain": [
       "(170, 4)"
      ]
     },
     "execution_count": 18,
     "metadata": {},
     "output_type": "execute_result"
    }
   ],
   "source": [
    "Y_test.shape"
   ]
  },
  {
   "cell_type": "markdown",
   "metadata": {},
   "source": [
    "## Create and train the Classifier"
   ]
  },
  {
   "cell_type": "code",
   "execution_count": 19,
   "metadata": {
    "collapsed": true
   },
   "outputs": [],
   "source": [
    "from keras.models import Sequential\n",
    "from keras.layers import Dense"
   ]
  },
  {
   "cell_type": "code",
   "execution_count": 20,
   "metadata": {},
   "outputs": [
    {
     "name": "stderr",
     "output_type": "stream",
     "text": [
      "C:\\Users\\user\\Anaconda3\\lib\\site-packages\\ipykernel\\__main__.py:4: UserWarning: Update your `Dense` call to the Keras 2 API: `Dense(units=11, kernel_initializer=\"uniform\", input_dim=18, activation=\"relu\")`\n",
      "C:\\Users\\user\\Anaconda3\\lib\\site-packages\\ipykernel\\__main__.py:7: UserWarning: Update your `Dense` call to the Keras 2 API: `Dense(kernel_initializer=\"uniform\", activation=\"relu\", units=11)`\n",
      "C:\\Users\\user\\Anaconda3\\lib\\site-packages\\ipykernel\\__main__.py:10: UserWarning: Update your `Dense` call to the Keras 2 API: `Dense(kernel_initializer=\"uniform\", activation=\"softmax\", units=4)`\n",
      "C:\\Users\\user\\Anaconda3\\lib\\site-packages\\keras\\models.py:844: UserWarning: The `nb_epoch` argument in `fit` has been renamed `epochs`.\n",
      "  warnings.warn('The `nb_epoch` argument in `fit` '\n"
     ]
    },
    {
     "name": "stdout",
     "output_type": "stream",
     "text": [
      "Epoch 1/200\n",
      "676/676 [==============================] - 0s - loss: 1.3804 - acc: 0.3151     \n",
      "Epoch 2/200\n",
      "676/676 [==============================] - 0s - loss: 1.2979 - acc: 0.4038     \n",
      "Epoch 3/200\n",
      "676/676 [==============================] - 0s - loss: 1.1966 - acc: 0.3905     \n",
      "Epoch 4/200\n",
      "676/676 [==============================] - 0s - loss: 1.1421 - acc: 0.4142     \n",
      "Epoch 5/200\n",
      "676/676 [==============================] - 0s - loss: 1.0960 - acc: 0.4334     \n",
      "Epoch 6/200\n",
      "676/676 [==============================] - 0s - loss: 1.0565 - acc: 0.4571     \n",
      "Epoch 7/200\n",
      "676/676 [==============================] - 0s - loss: 1.0210 - acc: 0.4793     \n",
      "Epoch 8/200\n",
      "676/676 [==============================] - 0s - loss: 0.9845 - acc: 0.4941     \n",
      "Epoch 9/200\n",
      "676/676 [==============================] - 0s - loss: 0.9453 - acc: 0.5385     \n",
      "Epoch 10/200\n",
      "676/676 [==============================] - 0s - loss: 0.9019 - acc: 0.5814     \n",
      "Epoch 11/200\n",
      "676/676 [==============================] - 0s - loss: 0.8507 - acc: 0.6302     \n",
      "Epoch 12/200\n",
      "676/676 [==============================] - 0s - loss: 0.8076 - acc: 0.6538     \n",
      "Epoch 13/200\n",
      "676/676 [==============================] - 0s - loss: 0.7608 - acc: 0.6568     \n",
      "Epoch 14/200\n",
      "676/676 [==============================] - 0s - loss: 0.7264 - acc: 0.6672     \n",
      "Epoch 15/200\n",
      "676/676 [==============================] - 0s - loss: 0.6952 - acc: 0.7027     \n",
      "Epoch 16/200\n",
      "676/676 [==============================] - 0s - loss: 0.6630 - acc: 0.7056     \n",
      "Epoch 17/200\n",
      "676/676 [==============================] - 0s - loss: 0.6364 - acc: 0.6953     \n",
      "Epoch 18/200\n",
      "676/676 [==============================] - 0s - loss: 0.6186 - acc: 0.7160     \n",
      "Epoch 19/200\n",
      "676/676 [==============================] - 0s - loss: 0.5960 - acc: 0.7041     \n",
      "Epoch 20/200\n",
      "676/676 [==============================] - 0s - loss: 0.5775 - acc: 0.7293     \n",
      "Epoch 21/200\n",
      "676/676 [==============================] - 0s - loss: 0.5572 - acc: 0.7322     \n",
      "Epoch 22/200\n",
      "676/676 [==============================] - 0s - loss: 0.5449 - acc: 0.7293     \n",
      "Epoch 23/200\n",
      "676/676 [==============================] - 0s - loss: 0.5284 - acc: 0.7485     \n",
      "Epoch 24/200\n",
      "676/676 [==============================] - 0s - loss: 0.5136 - acc: 0.7515     \n",
      "Epoch 25/200\n",
      "676/676 [==============================] - 0s - loss: 0.4970 - acc: 0.7618     \n",
      "Epoch 26/200\n",
      "676/676 [==============================] - 0s - loss: 0.4865 - acc: 0.7485     \n",
      "Epoch 27/200\n",
      "676/676 [==============================] - 0s - loss: 0.4782 - acc: 0.7544     \n",
      "Epoch 28/200\n",
      "676/676 [==============================] - 0s - loss: 0.4691 - acc: 0.7663     \n",
      "Epoch 29/200\n",
      "676/676 [==============================] - 0s - loss: 0.4570 - acc: 0.7825     \n",
      "Epoch 30/200\n",
      "676/676 [==============================] - 0s - loss: 0.4513 - acc: 0.7707     \n",
      "Epoch 31/200\n",
      "676/676 [==============================] - 0s - loss: 0.4428 - acc: 0.7766     \n",
      "Epoch 32/200\n",
      "676/676 [==============================] - 0s - loss: 0.4363 - acc: 0.7929     \n",
      "Epoch 33/200\n",
      "676/676 [==============================] - 0s - loss: 0.4287 - acc: 0.7825     \n",
      "Epoch 34/200\n",
      "676/676 [==============================] - 0s - loss: 0.4229 - acc: 0.7885     \n",
      "Epoch 35/200\n",
      "676/676 [==============================] - 0s - loss: 0.4243 - acc: 0.7840     \n",
      "Epoch 36/200\n",
      "676/676 [==============================] - 0s - loss: 0.4091 - acc: 0.7929     \n",
      "Epoch 37/200\n",
      "676/676 [==============================] - 0s - loss: 0.4092 - acc: 0.7914     \n",
      "Epoch 38/200\n",
      "676/676 [==============================] - 0s - loss: 0.4001 - acc: 0.7988     \n",
      "Epoch 39/200\n",
      "676/676 [==============================] - 0s - loss: 0.3972 - acc: 0.7929     \n",
      "Epoch 40/200\n",
      "676/676 [==============================] - 0s - loss: 0.3922 - acc: 0.7973     \n",
      "Epoch 41/200\n",
      "676/676 [==============================] - 0s - loss: 0.3899 - acc: 0.7929     \n",
      "Epoch 42/200\n",
      "676/676 [==============================] - 0s - loss: 0.3884 - acc: 0.7929     \n",
      "Epoch 43/200\n",
      "676/676 [==============================] - 0s - loss: 0.3834 - acc: 0.8018     \n",
      "Epoch 44/200\n",
      "676/676 [==============================] - 0s - loss: 0.3763 - acc: 0.8092     \n",
      "Epoch 45/200\n",
      "676/676 [==============================] - 0s - loss: 0.3724 - acc: 0.8092     \n",
      "Epoch 46/200\n",
      "676/676 [==============================] - 0s - loss: 0.3721 - acc: 0.8077     \n",
      "Epoch 47/200\n",
      "676/676 [==============================] - 0s - loss: 0.3679 - acc: 0.8180     \n",
      "Epoch 48/200\n",
      "676/676 [==============================] - 0s - loss: 0.3665 - acc: 0.8180     \n",
      "Epoch 49/200\n",
      "676/676 [==============================] - 0s - loss: 0.3608 - acc: 0.8225     \n",
      "Epoch 50/200\n",
      "676/676 [==============================] - 0s - loss: 0.3580 - acc: 0.8314     \n",
      "Epoch 51/200\n",
      "676/676 [==============================] - 0s - loss: 0.3562 - acc: 0.8210     \n",
      "Epoch 52/200\n",
      "676/676 [==============================] - 0s - loss: 0.3512 - acc: 0.8240     \n",
      "Epoch 53/200\n",
      "676/676 [==============================] - 0s - loss: 0.3493 - acc: 0.8166     \n",
      "Epoch 54/200\n",
      "676/676 [==============================] - 0s - loss: 0.3519 - acc: 0.8269     \n",
      "Epoch 55/200\n",
      "676/676 [==============================] - 0s - loss: 0.3506 - acc: 0.8269     \n",
      "Epoch 56/200\n",
      "676/676 [==============================] - 0s - loss: 0.3457 - acc: 0.8299     \n",
      "Epoch 57/200\n",
      "676/676 [==============================] - 0s - loss: 0.3417 - acc: 0.8388     \n",
      "Epoch 58/200\n",
      "676/676 [==============================] - 0s - loss: 0.3403 - acc: 0.8284     \n",
      "Epoch 59/200\n",
      "676/676 [==============================] - 0s - loss: 0.3375 - acc: 0.8373     \n",
      "Epoch 60/200\n",
      "676/676 [==============================] - 0s - loss: 0.3369 - acc: 0.8343     \n",
      "Epoch 61/200\n",
      "676/676 [==============================] - 0s - loss: 0.3399 - acc: 0.8225     \n",
      "Epoch 62/200\n",
      "676/676 [==============================] - 0s - loss: 0.3318 - acc: 0.8388     \n",
      "Epoch 63/200\n",
      "676/676 [==============================] - 0s - loss: 0.3313 - acc: 0.8343     \n",
      "Epoch 64/200\n",
      "676/676 [==============================] - 0s - loss: 0.3367 - acc: 0.8314     \n",
      "Epoch 65/200\n",
      "676/676 [==============================] - 0s - loss: 0.3275 - acc: 0.8388     \n",
      "Epoch 66/200\n",
      "676/676 [==============================] - 0s - loss: 0.3314 - acc: 0.8506     \n",
      "Epoch 67/200\n",
      "676/676 [==============================] - 0s - loss: 0.3263 - acc: 0.8328     \n",
      "Epoch 68/200\n",
      "676/676 [==============================] - 0s - loss: 0.3259 - acc: 0.8388     \n",
      "Epoch 69/200\n",
      "676/676 [==============================] - 0s - loss: 0.3209 - acc: 0.8476     \n",
      "Epoch 70/200\n",
      "676/676 [==============================] - 0s - loss: 0.3238 - acc: 0.8476     \n",
      "Epoch 71/200\n",
      "676/676 [==============================] - 0s - loss: 0.3190 - acc: 0.8476     \n",
      "Epoch 72/200\n",
      "676/676 [==============================] - 0s - loss: 0.3189 - acc: 0.8447     \n",
      "Epoch 73/200\n",
      "676/676 [==============================] - 0s - loss: 0.3202 - acc: 0.8521     \n",
      "Epoch 74/200\n",
      "676/676 [==============================] - 0s - loss: 0.3194 - acc: 0.8521     \n",
      "Epoch 75/200\n",
      "676/676 [==============================] - 0s - loss: 0.3180 - acc: 0.8506     \n",
      "Epoch 76/200\n",
      "676/676 [==============================] - 0s - loss: 0.3110 - acc: 0.8521     \n",
      "Epoch 77/200\n",
      "676/676 [==============================] - 0s - loss: 0.3128 - acc: 0.8476     \n",
      "Epoch 78/200\n",
      "676/676 [==============================] - 0s - loss: 0.3079 - acc: 0.8550     \n",
      "Epoch 79/200\n",
      "676/676 [==============================] - 0s - loss: 0.3096 - acc: 0.8536     \n",
      "Epoch 80/200\n",
      "676/676 [==============================] - 0s - loss: 0.3082 - acc: 0.8580     \n",
      "Epoch 81/200\n",
      "676/676 [==============================] - 0s - loss: 0.3059 - acc: 0.8565     \n",
      "Epoch 82/200\n",
      "676/676 [==============================] - 0s - loss: 0.3079 - acc: 0.8595     \n",
      "Epoch 83/200\n",
      "676/676 [==============================] - 0s - loss: 0.3050 - acc: 0.8432     \n",
      "Epoch 84/200\n",
      "676/676 [==============================] - 0s - loss: 0.3019 - acc: 0.8550     \n",
      "Epoch 85/200\n",
      "676/676 [==============================] - 0s - loss: 0.3030 - acc: 0.8609     \n",
      "Epoch 86/200\n",
      "676/676 [==============================] - 0s - loss: 0.3031 - acc: 0.8624     \n",
      "Epoch 87/200\n",
      "676/676 [==============================] - 0s - loss: 0.2987 - acc: 0.8654     \n",
      "Epoch 88/200\n",
      "676/676 [==============================] - 0s - loss: 0.3035 - acc: 0.8536     \n",
      "Epoch 89/200\n"
     ]
    },
    {
     "name": "stdout",
     "output_type": "stream",
     "text": [
      "676/676 [==============================] - 0s - loss: 0.3017 - acc: 0.8595     \n",
      "Epoch 90/200\n",
      "676/676 [==============================] - 0s - loss: 0.2977 - acc: 0.8565     \n",
      "Epoch 91/200\n",
      "676/676 [==============================] - 0s - loss: 0.2940 - acc: 0.8565     \n",
      "Epoch 92/200\n",
      "676/676 [==============================] - 0s - loss: 0.2992 - acc: 0.8550     \n",
      "Epoch 93/200\n",
      "676/676 [==============================] - 0s - loss: 0.2977 - acc: 0.8565     \n",
      "Epoch 94/200\n",
      "676/676 [==============================] - 0s - loss: 0.2956 - acc: 0.8669     \n",
      "Epoch 95/200\n",
      "676/676 [==============================] - 0s - loss: 0.2880 - acc: 0.8654     \n",
      "Epoch 96/200\n",
      "676/676 [==============================] - 0s - loss: 0.2920 - acc: 0.8669     \n",
      "Epoch 97/200\n",
      "676/676 [==============================] - 0s - loss: 0.2935 - acc: 0.8609     \n",
      "Epoch 98/200\n",
      "676/676 [==============================] - 0s - loss: 0.2924 - acc: 0.8654     \n",
      "Epoch 99/200\n",
      "676/676 [==============================] - 0s - loss: 0.2883 - acc: 0.8654     \n",
      "Epoch 100/200\n",
      "676/676 [==============================] - 0s - loss: 0.2886 - acc: 0.8772     \n",
      "Epoch 101/200\n",
      "676/676 [==============================] - 0s - loss: 0.2847 - acc: 0.8624     \n",
      "Epoch 102/200\n",
      "676/676 [==============================] - 0s - loss: 0.2895 - acc: 0.8609     \n",
      "Epoch 103/200\n",
      "676/676 [==============================] - 0s - loss: 0.2912 - acc: 0.8580     \n",
      "Epoch 104/200\n",
      "676/676 [==============================] - 0s - loss: 0.2826 - acc: 0.8654     \n",
      "Epoch 105/200\n",
      "676/676 [==============================] - 0s - loss: 0.2812 - acc: 0.8772     \n",
      "Epoch 106/200\n",
      "676/676 [==============================] - 0s - loss: 0.2826 - acc: 0.8669     \n",
      "Epoch 107/200\n",
      "676/676 [==============================] - 0s - loss: 0.2786 - acc: 0.8698     \n",
      "Epoch 108/200\n",
      "676/676 [==============================] - 0s - loss: 0.2815 - acc: 0.8669     \n",
      "Epoch 109/200\n",
      "676/676 [==============================] - 0s - loss: 0.2765 - acc: 0.8787     \n",
      "Epoch 110/200\n",
      "676/676 [==============================] - 0s - loss: 0.2756 - acc: 0.8669     \n",
      "Epoch 111/200\n",
      "676/676 [==============================] - 0s - loss: 0.2775 - acc: 0.8757     \n",
      "Epoch 112/200\n",
      "676/676 [==============================] - 0s - loss: 0.2730 - acc: 0.8743     \n",
      "Epoch 113/200\n",
      "676/676 [==============================] - 0s - loss: 0.2776 - acc: 0.8654     \n",
      "Epoch 114/200\n",
      "676/676 [==============================] - 0s - loss: 0.2722 - acc: 0.8713     \n",
      "Epoch 115/200\n",
      "676/676 [==============================] - 0s - loss: 0.2712 - acc: 0.8728     \n",
      "Epoch 116/200\n",
      "676/676 [==============================] - 0s - loss: 0.2656 - acc: 0.8772     \n",
      "Epoch 117/200\n",
      "676/676 [==============================] - 0s - loss: 0.2741 - acc: 0.8683     \n",
      "Epoch 118/200\n",
      "676/676 [==============================] - 0s - loss: 0.2664 - acc: 0.8787     \n",
      "Epoch 119/200\n",
      "676/676 [==============================] - 0s - loss: 0.2659 - acc: 0.8757     \n",
      "Epoch 120/200\n",
      "676/676 [==============================] - 0s - loss: 0.2674 - acc: 0.8802     \n",
      "Epoch 121/200\n",
      "676/676 [==============================] - 0s - loss: 0.2694 - acc: 0.8802     \n",
      "Epoch 122/200\n",
      "676/676 [==============================] - 0s - loss: 0.2721 - acc: 0.8683     \n",
      "Epoch 123/200\n",
      "676/676 [==============================] - 0s - loss: 0.2620 - acc: 0.8846     \n",
      "Epoch 124/200\n",
      "676/676 [==============================] - 0s - loss: 0.2605 - acc: 0.8891     \n",
      "Epoch 125/200\n",
      "676/676 [==============================] - 0s - loss: 0.2553 - acc: 0.8935     \n",
      "Epoch 126/200\n",
      "676/676 [==============================] - 0s - loss: 0.2599 - acc: 0.8787     \n",
      "Epoch 127/200\n",
      "676/676 [==============================] - 0s - loss: 0.2654 - acc: 0.8787     \n",
      "Epoch 128/200\n",
      "676/676 [==============================] - 0s - loss: 0.2605 - acc: 0.8802     \n",
      "Epoch 129/200\n",
      "676/676 [==============================] - 0s - loss: 0.2589 - acc: 0.8817     \n",
      "Epoch 130/200\n",
      "676/676 [==============================] - 0s - loss: 0.2574 - acc: 0.8846     \n",
      "Epoch 131/200\n",
      "676/676 [==============================] - 0s - loss: 0.2577 - acc: 0.8964     \n",
      "Epoch 132/200\n",
      "676/676 [==============================] - 0s - loss: 0.2536 - acc: 0.8876     \n",
      "Epoch 133/200\n",
      "676/676 [==============================] - 0s - loss: 0.2562 - acc: 0.8920     \n",
      "Epoch 134/200\n",
      "676/676 [==============================] - 0s - loss: 0.2507 - acc: 0.8905     \n",
      "Epoch 135/200\n",
      "676/676 [==============================] - 0s - loss: 0.2577 - acc: 0.8876     \n",
      "Epoch 136/200\n",
      "676/676 [==============================] - 0s - loss: 0.2467 - acc: 0.8905     \n",
      "Epoch 137/200\n",
      "676/676 [==============================] - 0s - loss: 0.2572 - acc: 0.8817     \n",
      "Epoch 138/200\n",
      "676/676 [==============================] - 0s - loss: 0.2465 - acc: 0.8891     \n",
      "Epoch 139/200\n",
      "676/676 [==============================] - 0s - loss: 0.2495 - acc: 0.8876     \n",
      "Epoch 140/200\n",
      "676/676 [==============================] - 0s - loss: 0.2492 - acc: 0.8861     \n",
      "Epoch 141/200\n",
      "676/676 [==============================] - 0s - loss: 0.2549 - acc: 0.8831     \n",
      "Epoch 142/200\n",
      "676/676 [==============================] - 0s - loss: 0.2429 - acc: 0.8891     \n",
      "Epoch 143/200\n",
      "676/676 [==============================] - 0s - loss: 0.2477 - acc: 0.8861     \n",
      "Epoch 144/200\n",
      "676/676 [==============================] - 0s - loss: 0.2464 - acc: 0.8876     \n",
      "Epoch 145/200\n",
      "676/676 [==============================] - 0s - loss: 0.2495 - acc: 0.8891     \n",
      "Epoch 146/200\n",
      "676/676 [==============================] - 0s - loss: 0.2433 - acc: 0.8935     \n",
      "Epoch 147/200\n",
      "676/676 [==============================] - 0s - loss: 0.2379 - acc: 0.8950     \n",
      "Epoch 148/200\n",
      "676/676 [==============================] - 0s - loss: 0.2414 - acc: 0.8979     \n",
      "Epoch 149/200\n",
      "676/676 [==============================] - 0s - loss: 0.2390 - acc: 0.8905     \n",
      "Epoch 150/200\n",
      "676/676 [==============================] - 0s - loss: 0.2348 - acc: 0.9009     \n",
      "Epoch 151/200\n",
      "676/676 [==============================] - 0s - loss: 0.2368 - acc: 0.9038     \n",
      "Epoch 152/200\n",
      "676/676 [==============================] - 0s - loss: 0.2412 - acc: 0.8891     \n",
      "Epoch 153/200\n",
      "676/676 [==============================] - 0s - loss: 0.2475 - acc: 0.8787     \n",
      "Epoch 154/200\n",
      "676/676 [==============================] - 0s - loss: 0.2386 - acc: 0.9009     \n",
      "Epoch 155/200\n",
      "676/676 [==============================] - 0s - loss: 0.2362 - acc: 0.8994     \n",
      "Epoch 156/200\n",
      "676/676 [==============================] - 0s - loss: 0.2321 - acc: 0.9024     \n",
      "Epoch 157/200\n",
      "676/676 [==============================] - 0s - loss: 0.2339 - acc: 0.9009     \n",
      "Epoch 158/200\n",
      "676/676 [==============================] - 0s - loss: 0.2391 - acc: 0.8964     \n",
      "Epoch 159/200\n",
      "676/676 [==============================] - 0s - loss: 0.2344 - acc: 0.8905     \n",
      "Epoch 160/200\n",
      "676/676 [==============================] - 0s - loss: 0.2335 - acc: 0.8831     \n",
      "Epoch 161/200\n",
      "676/676 [==============================] - 0s - loss: 0.2390 - acc: 0.8950     \n",
      "Epoch 162/200\n",
      "676/676 [==============================] - 0s - loss: 0.2327 - acc: 0.8950     \n",
      "Epoch 163/200\n",
      "676/676 [==============================] - 0s - loss: 0.2303 - acc: 0.8920     \n",
      "Epoch 164/200\n",
      "676/676 [==============================] - 0s - loss: 0.2329 - acc: 0.8935     \n",
      "Epoch 165/200\n",
      "676/676 [==============================] - 0s - loss: 0.2330 - acc: 0.8979     \n",
      "Epoch 166/200\n",
      "676/676 [==============================] - 0s - loss: 0.2307 - acc: 0.8994     \n",
      "Epoch 167/200\n",
      "676/676 [==============================] - 0s - loss: 0.2296 - acc: 0.8920     \n",
      "Epoch 168/200\n",
      "676/676 [==============================] - 0s - loss: 0.2274 - acc: 0.8979     \n",
      "Epoch 169/200\n",
      "676/676 [==============================] - 0s - loss: 0.2281 - acc: 0.8950     \n",
      "Epoch 170/200\n",
      "676/676 [==============================] - ETA: 0s - loss: 0.2356 - acc: 0.896 - 0s - loss: 0.2259 - acc: 0.9038     \n",
      "Epoch 171/200\n",
      "676/676 [==============================] - 0s - loss: 0.2249 - acc: 0.9053     \n",
      "Epoch 172/200\n",
      "676/676 [==============================] - 0s - loss: 0.2249 - acc: 0.9068     \n",
      "Epoch 173/200\n",
      "676/676 [==============================] - 0s - loss: 0.2271 - acc: 0.8994     \n",
      "Epoch 174/200\n",
      "676/676 [==============================] - 0s - loss: 0.2298 - acc: 0.9009     \n",
      "Epoch 175/200\n",
      "676/676 [==============================] - 0s - loss: 0.2200 - acc: 0.8950     \n",
      "Epoch 176/200\n"
     ]
    },
    {
     "name": "stdout",
     "output_type": "stream",
     "text": [
      "676/676 [==============================] - 0s - loss: 0.2250 - acc: 0.8979     \n",
      "Epoch 177/200\n",
      "676/676 [==============================] - 0s - loss: 0.2249 - acc: 0.8935     \n",
      "Epoch 178/200\n",
      "676/676 [==============================] - 0s - loss: 0.2185 - acc: 0.9038     \n",
      "Epoch 179/200\n",
      "676/676 [==============================] - 0s - loss: 0.2244 - acc: 0.8950     \n",
      "Epoch 180/200\n",
      "676/676 [==============================] - 0s - loss: 0.2181 - acc: 0.9142     \n",
      "Epoch 181/200\n",
      "676/676 [==============================] - 0s - loss: 0.2199 - acc: 0.9068     \n",
      "Epoch 182/200\n",
      "676/676 [==============================] - 0s - loss: 0.2184 - acc: 0.8994     \n",
      "Epoch 183/200\n",
      "676/676 [==============================] - 0s - loss: 0.2179 - acc: 0.9053     \n",
      "Epoch 184/200\n",
      "676/676 [==============================] - 0s - loss: 0.2203 - acc: 0.9024     \n",
      "Epoch 185/200\n",
      "676/676 [==============================] - 0s - loss: 0.2188 - acc: 0.9068     \n",
      "Epoch 186/200\n",
      "676/676 [==============================] - 0s - loss: 0.2228 - acc: 0.9009     \n",
      "Epoch 187/200\n",
      "676/676 [==============================] - 0s - loss: 0.2186 - acc: 0.8935     \n",
      "Epoch 188/200\n",
      "676/676 [==============================] - 0s - loss: 0.2133 - acc: 0.9098     \n",
      "Epoch 189/200\n",
      "676/676 [==============================] - 0s - loss: 0.2166 - acc: 0.8979     \n",
      "Epoch 190/200\n",
      "676/676 [==============================] - 0s - loss: 0.2221 - acc: 0.9038     \n",
      "Epoch 191/200\n",
      "676/676 [==============================] - 0s - loss: 0.2168 - acc: 0.9083     \n",
      "Epoch 192/200\n",
      "676/676 [==============================] - 0s - loss: 0.2243 - acc: 0.8979     \n",
      "Epoch 193/200\n",
      "676/676 [==============================] - 0s - loss: 0.2150 - acc: 0.9068     \n",
      "Epoch 194/200\n",
      "676/676 [==============================] - 0s - loss: 0.2109 - acc: 0.9112     \n",
      "Epoch 195/200\n",
      "676/676 [==============================] - 0s - loss: 0.2119 - acc: 0.9053     \n",
      "Epoch 196/200\n",
      "676/676 [==============================] - 0s - loss: 0.2104 - acc: 0.9098     \n",
      "Epoch 197/200\n",
      "676/676 [==============================] - 0s - loss: 0.2188 - acc: 0.9083     \n",
      "Epoch 198/200\n",
      "676/676 [==============================] - 0s - loss: 0.2122 - acc: 0.9127     \n",
      "Epoch 199/200\n",
      "676/676 [==============================] - 0s - loss: 0.2123 - acc: 0.9009     \n",
      "Epoch 200/200\n",
      "676/676 [==============================] - 0s - loss: 0.2155 - acc: 0.9098     \n"
     ]
    },
    {
     "data": {
      "text/plain": [
       "<keras.callbacks.History at 0x902c70ca90>"
      ]
     },
     "execution_count": 20,
     "metadata": {},
     "output_type": "execute_result"
    }
   ],
   "source": [
    "clf_ann = Sequential()\n",
    "\n",
    "# First Hidden Layer\n",
    "clf_ann.add(Dense(output_dim = 11, init = 'uniform', activation = 'relu', input_dim = 18))\n",
    "\n",
    "# Second Hidden Layer\n",
    "clf_ann.add(Dense(output_dim = 11, init = 'uniform', activation = 'relu'))\n",
    "\n",
    "# Output Layer\n",
    "clf_ann.add(Dense(output_dim = 4, init = 'uniform', activation = 'softmax'))\n",
    "\n",
    "clf_ann.compile(optimizer = 'adam', loss = 'categorical_crossentropy', metrics = ['accuracy'])\n",
    "\n",
    "clf_ann.fit(X_train, Y_train, batch_size = 10, nb_epoch = 200)"
   ]
  },
  {
   "cell_type": "code",
   "execution_count": 21,
   "metadata": {
    "collapsed": true
   },
   "outputs": [],
   "source": [
    "Y_pred = clf_ann.predict(X_test)\n",
    "Y_pred_class = np.argmax(Y_pred, axis = 1)\n",
    "Y_test_class = np.argmax(Y_test, axis = 1)"
   ]
  },
  {
   "cell_type": "markdown",
   "metadata": {},
   "source": [
    "## Check the Accuracy"
   ]
  },
  {
   "cell_type": "code",
   "execution_count": 22,
   "metadata": {},
   "outputs": [
    {
     "data": {
      "text/plain": [
       "0.80588235294117649"
      ]
     },
     "execution_count": 22,
     "metadata": {},
     "output_type": "execute_result"
    }
   ],
   "source": [
    "from sklearn.metrics import accuracy_score, confusion_matrix\n",
    "accuracy_score(Y_test_class, Y_pred_class)"
   ]
  },
  {
   "cell_type": "code",
   "execution_count": 23,
   "metadata": {},
   "outputs": [
    {
     "data": {
      "text/plain": [
       "array([[40,  0,  1,  1],\n",
       "       [ 1, 31, 17,  0],\n",
       "       [ 0, 12, 27,  0],\n",
       "       [ 1,  0,  0, 39]], dtype=int64)"
      ]
     },
     "execution_count": 23,
     "metadata": {},
     "output_type": "execute_result"
    }
   ],
   "source": [
    "confusion_matrix(Y_test_class, Y_pred_class)"
   ]
  },
  {
   "cell_type": "code",
   "execution_count": null,
   "metadata": {
    "collapsed": true
   },
   "outputs": [],
   "source": []
  }
 ],
 "metadata": {
  "kernelspec": {
   "display_name": "Python [default]",
   "language": "python",
   "name": "python3"
  },
  "language_info": {
   "codemirror_mode": {
    "name": "ipython",
    "version": 3
   },
   "file_extension": ".py",
   "mimetype": "text/x-python",
   "name": "python",
   "nbconvert_exporter": "python",
   "pygments_lexer": "ipython3",
   "version": "3.5.4"
  }
 },
 "nbformat": 4,
 "nbformat_minor": 2
}
