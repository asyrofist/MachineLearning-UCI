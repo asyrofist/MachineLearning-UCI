{
 "cells": [
  {
   "cell_type": "markdown",
   "metadata": {},
   "source": [
    "## Initialization"
   ]
  },
  {
   "cell_type": "code",
   "execution_count": 1,
   "metadata": {
    "collapsed": true
   },
   "outputs": [],
   "source": [
    "import numpy as np\n",
    "import pandas as pd\n",
    "import tensorflow as tf"
   ]
  },
  {
   "cell_type": "code",
   "execution_count": 2,
   "metadata": {
    "collapsed": true
   },
   "outputs": [],
   "source": [
    "from sklearn.preprocessing import LabelEncoder, OneHotEncoder\n",
    "from sklearn.metrics import confusion_matrix, accuracy_score\n",
    "from sklearn.model_selection import train_test_split"
   ]
  },
  {
   "cell_type": "markdown",
   "metadata": {},
   "source": [
    "## Importing the Data"
   ]
  },
  {
   "cell_type": "code",
   "execution_count": 3,
   "metadata": {},
   "outputs": [
    {
     "data": {
      "text/plain": [
       "(625, 5)"
      ]
     },
     "execution_count": 3,
     "metadata": {},
     "output_type": "execute_result"
    }
   ],
   "source": [
    "dataset = pd.read_csv('balance-scale.data', header = None)\n",
    "dataset.shape"
   ]
  },
  {
   "cell_type": "code",
   "execution_count": 4,
   "metadata": {},
   "outputs": [
    {
     "data": {
      "text/html": [
       "<div>\n",
       "<style>\n",
       "    .dataframe thead tr:only-child th {\n",
       "        text-align: right;\n",
       "    }\n",
       "\n",
       "    .dataframe thead th {\n",
       "        text-align: left;\n",
       "    }\n",
       "\n",
       "    .dataframe tbody tr th {\n",
       "        vertical-align: top;\n",
       "    }\n",
       "</style>\n",
       "<table border=\"1\" class=\"dataframe\">\n",
       "  <thead>\n",
       "    <tr style=\"text-align: right;\">\n",
       "      <th></th>\n",
       "      <th>0</th>\n",
       "      <th>1</th>\n",
       "      <th>2</th>\n",
       "      <th>3</th>\n",
       "      <th>4</th>\n",
       "    </tr>\n",
       "  </thead>\n",
       "  <tbody>\n",
       "    <tr>\n",
       "      <th>0</th>\n",
       "      <td>B</td>\n",
       "      <td>1</td>\n",
       "      <td>1</td>\n",
       "      <td>1</td>\n",
       "      <td>1</td>\n",
       "    </tr>\n",
       "    <tr>\n",
       "      <th>1</th>\n",
       "      <td>R</td>\n",
       "      <td>1</td>\n",
       "      <td>1</td>\n",
       "      <td>1</td>\n",
       "      <td>2</td>\n",
       "    </tr>\n",
       "    <tr>\n",
       "      <th>2</th>\n",
       "      <td>R</td>\n",
       "      <td>1</td>\n",
       "      <td>1</td>\n",
       "      <td>1</td>\n",
       "      <td>3</td>\n",
       "    </tr>\n",
       "    <tr>\n",
       "      <th>3</th>\n",
       "      <td>R</td>\n",
       "      <td>1</td>\n",
       "      <td>1</td>\n",
       "      <td>1</td>\n",
       "      <td>4</td>\n",
       "    </tr>\n",
       "    <tr>\n",
       "      <th>4</th>\n",
       "      <td>R</td>\n",
       "      <td>1</td>\n",
       "      <td>1</td>\n",
       "      <td>1</td>\n",
       "      <td>5</td>\n",
       "    </tr>\n",
       "  </tbody>\n",
       "</table>\n",
       "</div>"
      ],
      "text/plain": [
       "   0  1  2  3  4\n",
       "0  B  1  1  1  1\n",
       "1  R  1  1  1  2\n",
       "2  R  1  1  1  3\n",
       "3  R  1  1  1  4\n",
       "4  R  1  1  1  5"
      ]
     },
     "execution_count": 4,
     "metadata": {},
     "output_type": "execute_result"
    }
   ],
   "source": [
    "dataset.head()"
   ]
  },
  {
   "cell_type": "code",
   "execution_count": 5,
   "metadata": {
    "collapsed": true
   },
   "outputs": [],
   "source": [
    "X = dataset.iloc[:, 1:5].values\n",
    "Y = dataset.iloc[:, 0].values"
   ]
  },
  {
   "cell_type": "code",
   "execution_count": 6,
   "metadata": {},
   "outputs": [
    {
     "data": {
      "text/plain": [
       "array([1, 1, 1, 1], dtype=int64)"
      ]
     },
     "execution_count": 6,
     "metadata": {},
     "output_type": "execute_result"
    }
   ],
   "source": [
    "X[0]"
   ]
  },
  {
   "cell_type": "code",
   "execution_count": 7,
   "metadata": {},
   "outputs": [
    {
     "data": {
      "text/plain": [
       "'B'"
      ]
     },
     "execution_count": 7,
     "metadata": {},
     "output_type": "execute_result"
    }
   ],
   "source": [
    "Y[0]"
   ]
  },
  {
   "cell_type": "markdown",
   "metadata": {},
   "source": [
    "## Preprocess the Data"
   ]
  },
  {
   "cell_type": "code",
   "execution_count": 8,
   "metadata": {
    "collapsed": true
   },
   "outputs": [],
   "source": [
    "le_Y = LabelEncoder()"
   ]
  },
  {
   "cell_type": "code",
   "execution_count": 9,
   "metadata": {
    "collapsed": true
   },
   "outputs": [],
   "source": [
    "Y = le_Y.fit_transform(Y)"
   ]
  },
  {
   "cell_type": "code",
   "execution_count": 10,
   "metadata": {},
   "outputs": [
    {
     "data": {
      "text/plain": [
       "0"
      ]
     },
     "execution_count": 10,
     "metadata": {},
     "output_type": "execute_result"
    }
   ],
   "source": [
    "Y[0]"
   ]
  },
  {
   "cell_type": "code",
   "execution_count": 11,
   "metadata": {
    "collapsed": true
   },
   "outputs": [],
   "source": [
    "Y = Y.reshape(len(Y), 1)\n",
    "ohe_Y = OneHotEncoder(categorical_features = [0])"
   ]
  },
  {
   "cell_type": "code",
   "execution_count": 12,
   "metadata": {
    "collapsed": true
   },
   "outputs": [],
   "source": [
    "Y = ohe_Y.fit_transform(Y).toarray()"
   ]
  },
  {
   "cell_type": "code",
   "execution_count": 13,
   "metadata": {},
   "outputs": [
    {
     "data": {
      "text/plain": [
       "array([ 1.,  0.,  0.])"
      ]
     },
     "execution_count": 13,
     "metadata": {},
     "output_type": "execute_result"
    }
   ],
   "source": [
    "Y[0]"
   ]
  },
  {
   "cell_type": "markdown",
   "metadata": {},
   "source": [
    "## Create Train and Test Data"
   ]
  },
  {
   "cell_type": "code",
   "execution_count": 14,
   "metadata": {
    "collapsed": true
   },
   "outputs": [],
   "source": [
    "X_train, X_test, Y_train, Y_test = train_test_split(X, Y, test_size = 0.2, random_state = 4)"
   ]
  },
  {
   "cell_type": "code",
   "execution_count": 15,
   "metadata": {},
   "outputs": [
    {
     "data": {
      "text/plain": [
       "(500, 4)"
      ]
     },
     "execution_count": 15,
     "metadata": {},
     "output_type": "execute_result"
    }
   ],
   "source": [
    "X_train.shape"
   ]
  },
  {
   "cell_type": "code",
   "execution_count": 16,
   "metadata": {},
   "outputs": [
    {
     "data": {
      "text/plain": [
       "(500, 3)"
      ]
     },
     "execution_count": 16,
     "metadata": {},
     "output_type": "execute_result"
    }
   ],
   "source": [
    "Y_train.shape"
   ]
  },
  {
   "cell_type": "code",
   "execution_count": 17,
   "metadata": {},
   "outputs": [
    {
     "data": {
      "text/plain": [
       "(125, 4)"
      ]
     },
     "execution_count": 17,
     "metadata": {},
     "output_type": "execute_result"
    }
   ],
   "source": [
    "X_test.shape"
   ]
  },
  {
   "cell_type": "code",
   "execution_count": 18,
   "metadata": {},
   "outputs": [
    {
     "data": {
      "text/plain": [
       "(125, 3)"
      ]
     },
     "execution_count": 18,
     "metadata": {},
     "output_type": "execute_result"
    }
   ],
   "source": [
    "Y_test.shape"
   ]
  },
  {
   "cell_type": "markdown",
   "metadata": {},
   "source": [
    "## Create TF Classifier"
   ]
  },
  {
   "cell_type": "code",
   "execution_count": 19,
   "metadata": {},
   "outputs": [
    {
     "data": {
      "text/plain": [
       "4"
      ]
     },
     "execution_count": 19,
     "metadata": {},
     "output_type": "execute_result"
    }
   ],
   "source": [
    "num_features = X.shape[1]\n",
    "num_features"
   ]
  },
  {
   "cell_type": "code",
   "execution_count": 20,
   "metadata": {},
   "outputs": [
    {
     "data": {
      "text/plain": [
       "3"
      ]
     },
     "execution_count": 20,
     "metadata": {},
     "output_type": "execute_result"
    }
   ],
   "source": [
    "num_classes = Y.shape[1]\n",
    "num_classes"
   ]
  },
  {
   "cell_type": "code",
   "execution_count": 21,
   "metadata": {
    "collapsed": true
   },
   "outputs": [],
   "source": [
    "# Y = W1.X1 + W2.X2 + .. + W4.X4 + B\n",
    "# output = softmax(Y)\n",
    "# Create Weights and Biases Variables\n",
    "\n",
    "W = tf.Variable(tf.zeros([num_features, num_classes]))\n",
    "B = tf.Variable(tf.zeros([num_classes]))"
   ]
  },
  {
   "cell_type": "code",
   "execution_count": 22,
   "metadata": {
    "collapsed": true
   },
   "outputs": [],
   "source": [
    "# Create x and y_ placeholders for actual data\n",
    "x = tf.placeholder(tf.float32, [None, num_features])\n",
    "y_ = tf.placeholder(tf.float32, [None, num_classes])"
   ]
  },
  {
   "cell_type": "code",
   "execution_count": 23,
   "metadata": {
    "collapsed": true
   },
   "outputs": [],
   "source": [
    "# Calculate y which holds the predicted values\n",
    "Wx = tf.matmul(x, W)\n",
    "y = Wx + B"
   ]
  },
  {
   "cell_type": "code",
   "execution_count": 24,
   "metadata": {
    "collapsed": true
   },
   "outputs": [],
   "source": [
    "# Create the cost function which has to be minimized\n",
    "cost_cross_entropy = tf.reduce_mean(tf.nn.softmax_cross_entropy_with_logits(labels = y_, logits = y))"
   ]
  },
  {
   "cell_type": "code",
   "execution_count": 25,
   "metadata": {
    "collapsed": true
   },
   "outputs": [],
   "source": [
    "# Create the optimizer to minimize cost function\n",
    "optimizer = tf.train.GradientDescentOptimizer(learning_rate = 0.5).minimize(cost_cross_entropy)"
   ]
  },
  {
   "cell_type": "code",
   "execution_count": 26,
   "metadata": {
    "collapsed": true
   },
   "outputs": [],
   "source": [
    "def trainTheData(num_steps, optimizer_to_use, batch_size):\n",
    "    init = tf.global_variables_initializer()\n",
    "    # initialize the global variables\n",
    "    \n",
    "    with tf.Session() as sess:\n",
    "        sess.run(init)\n",
    "        \n",
    "        for i in range(num_steps):\n",
    "            \n",
    "            # Calculate batch start index\n",
    "            if batch_size == len(X_train):\n",
    "                batch_start_index = 0\n",
    "            elif batch_size > len(X_train):\n",
    "                raise ValueError(\"Batch Size : \" + str(batch_size) + \" cannot be greater than Data Size : \", len(X_train))\n",
    "            else:\n",
    "                batch_start_index = (i * batch_size) % (len(X_train) - batch_size)\n",
    "            \n",
    "            # Calculate batch end index\n",
    "            batch_end_index = batch_size + batch_start_index\n",
    "            \n",
    "            # Create batch X and Y Values\n",
    "            batch_X_values = X_train[batch_start_index : batch_end_index]\n",
    "            batch_Y_values = Y_train[batch_start_index : batch_end_index]\n",
    "            \n",
    "            # Create feed dict to feed it to optimizer\n",
    "            feed = {x : np.array(batch_X_values), y_ : np.array(batch_Y_values)}\n",
    "            \n",
    "            sess.run(optimizer_to_use, feed_dict = feed)\n",
    "            \n",
    "            if (i + 1) % 50 == 0:\n",
    "                print(\"After \" + str(i + 1) + \" iterations, Cost : \", sess.run(cost_cross_entropy, feed_dict = feed))\n",
    "                print(\"W : \", sess.run(W))\n",
    "                print(\"B : \", sess.run(B))\n",
    "                print(\"\")\n",
    "        \n",
    "        # Create predicted values of logits\n",
    "        Y_pred = sess.run(y, feed_dict = {x : np.array(X_test)})\n",
    "        \n",
    "        # Convert the array into tensor\n",
    "        Y_pred_tensors = tf.convert_to_tensor(np.array(Y_pred))\n",
    "        \n",
    "        # Apply Softmax to tensor of logits\n",
    "        apply_softmax = tf.nn.softmax(Y_pred_tensors)\n",
    "        \n",
    "        # Calculate the predicted class for the Test Data\n",
    "        Y_pred_classes = np.argmax(sess.run(apply_softmax), axis = 1)\n",
    "        \n",
    "        sess.close()\n",
    "    return Y_pred_classes"
   ]
  },
  {
   "cell_type": "code",
   "execution_count": 27,
   "metadata": {},
   "outputs": [
    {
     "name": "stdout",
     "output_type": "stream",
     "text": [
      "After 50 iterations, Cost :  0.265523\n",
      "W :  [[-0.00202909  1.48565614 -1.48362541]\n",
      " [-0.04389681  1.48146069 -1.43756318]\n",
      " [-0.02556163 -1.45656133  1.48212361]\n",
      " [-0.02702699 -1.46516693  1.49219465]]\n",
      "B :  [ 0.02376175 -0.01387769 -0.00988228]\n",
      "\n",
      "After 100 iterations, Cost :  0.258572\n",
      "W :  [[  5.20939939e-05   1.63357520e+00  -1.63362610e+00]\n",
      " [ -3.91791798e-02   1.62179041e+00  -1.58261085e+00]\n",
      " [ -2.63055004e-02  -1.60017478e+00   1.62648058e+00]\n",
      " [ -2.87524723e-02  -1.61041760e+00   1.63917136e+00]]\n",
      "B :  [ 0.07519477 -0.04313596 -0.03205702]\n",
      "\n",
      "After 150 iterations, Cost :  0.254074\n",
      "W :  [[  7.56199472e-04   1.75146985e+00  -1.75222433e+00]\n",
      " [ -3.73302661e-02   1.73567653e+00  -1.69834566e+00]\n",
      " [ -2.73512341e-02  -1.71510005e+00   1.74245155e+00]\n",
      " [ -3.06268409e-02  -1.72648251e+00   1.75711060e+00]]\n",
      "B :  [ 0.12625389 -0.07200551 -0.05424658]\n",
      "\n",
      "After 200 iterations, Cost :  0.250933\n",
      "W :  [[  4.83443495e-04   1.84982550e+00  -1.85030723e+00]\n",
      " [ -3.67493890e-02   1.83083534e+00  -1.79408503e+00]\n",
      " [ -2.86855586e-02  -1.81034005e+00   1.83902609e+00]\n",
      " [ -3.27312127e-02  -1.82260418e+00   1.85533595e+00]]\n",
      "B :  [ 0.17549072 -0.09971868 -0.07577021]\n",
      "\n",
      "After 250 iterations, Cost :  0.24863\n",
      "W :  [[ -2.83117406e-04   1.93384922e+00  -1.93356466e+00]\n",
      " [ -3.68594788e-02   1.91222775e+00  -1.87536705e+00]\n",
      " [ -3.02054547e-02  -1.89125502e+00   1.92146170e+00]\n",
      " [ -3.49656418e-02  -1.90422153e+00   1.93918824e+00]]\n",
      "B :  [ 0.22220197 -0.12593952 -0.09626056]\n",
      "\n",
      "After 300 iterations, Cost :  0.246883\n",
      "W :  [[ -1.29175722e-03   2.00684619e+00  -2.00555348e+00]\n",
      " [ -3.73525470e-02   1.98301077e+00  -1.94565725e+00]\n",
      " [ -3.18270028e-02  -1.96123433e+00   1.99306273e+00]\n",
      " [ -3.72508578e-02  -1.97477329e+00   2.01202488e+00]]\n",
      "B :  [ 0.26606789 -0.15052395 -0.1155421 ]\n",
      "\n",
      "After 350 iterations, Cost :  0.245523\n",
      "W :  [[-0.00240193  2.07106352 -2.06866121]\n",
      " [-0.03805105  2.04533386 -2.00728178]\n",
      " [-0.0334881  -2.02256966  2.0560596 ]\n",
      " [-0.03952906 -2.03658414  2.07611442]]\n",
      "B :  [ 0.30698743 -0.1734369  -0.13354848]\n",
      "\n",
      "After 400 iterations, Cost :  0.244446\n",
      "W :  [[-0.00353342  2.12810802 -2.12457418]\n",
      " [-0.03884931  2.10073543 -2.06188536]\n",
      " [-0.0351459  -2.07688999  2.1120379 ]\n",
      " [-0.04176103 -2.09130549  2.13306856]]\n",
      "B :  [ 0.3449856 -0.1947064 -0.150277 ]\n",
      "\n",
      "After 450 iterations, Cost :  0.243579\n",
      "W :  [[-0.0046404   2.17917275 -2.17453337]\n",
      " [-0.03968241  2.15035915 -2.11067677]\n",
      " [-0.0367714  -2.12539864  2.16217136]\n",
      " [-0.04392172 -2.14015651  2.18407941]]\n",
      "B :  [ 0.38016117 -0.2143967  -0.16576231]\n",
      "\n",
      "After 500 iterations, Cost :  0.242873\n",
      "W :  [[-0.00569501  2.22517276 -2.21947885]\n",
      " [-0.04050995  2.19508362 -2.15457344]\n",
      " [-0.03834478 -2.16901016  2.20735621]\n",
      " [-0.04599387 -2.18406415  2.23005939]]\n",
      "B :  [ 0.41265419 -0.23259139 -0.18006063]\n",
      "\n",
      "After 550 iterations, Cost :  0.242293\n",
      "W :  [[-0.0066837   2.26682448 -2.2601428 ]\n",
      " [-0.04130812  2.23559833 -2.19428992]\n",
      " [-0.03985452 -2.20843887  2.24829435]\n",
      " [-0.04796911 -2.22375107  2.27172065]]\n",
      "B :  [ 0.44262531 -0.24938326 -0.19323985]\n",
      "\n",
      "After 600 iterations, Cost :  0.241812\n",
      "W :  [[-0.007599    2.3047049  -2.29710722]\n",
      " [-0.04206215  2.27245736 -2.2303946 ]\n",
      " [-0.04129335 -2.24425387  2.28554773]\n",
      " [-0.04984213 -2.2597928   2.30963612]]\n",
      "B :  [ 0.47024405 -0.26486877 -0.20537305]\n",
      "\n",
      "After 650 iterations, Cost :  0.24141\n",
      "W :  [[-0.00843927  2.33928227 -2.33084393]\n",
      " [-0.04276472  2.30611253 -2.26334691]\n",
      " [-0.04265814 -2.27691627  2.31957412]\n",
      " [-0.05161232 -2.29265571  2.34426951]]\n",
      "B :  [ 0.49568012 -0.27914351 -0.2165343 ]\n",
      "\n",
      "After 700 iterations, Cost :  0.241073\n",
      "W :  [[-0.00920562  2.37094593 -2.36174107]\n",
      " [-0.04341191  2.33693981 -2.29352641]\n",
      " [-0.04394768 -2.30680585  2.35075355]\n",
      " [-0.05328102 -2.32272506  2.37600732]]\n",
      "B :  [ 0.51909918 -0.29230008 -0.22679667]\n",
      "\n",
      "After 750 iterations, Cost :  0.240789\n",
      "W :  [[-0.00990084  2.40002036 -2.39012146]\n",
      " [-0.04400384  2.36525202 -2.32124782]\n",
      " [-0.04516319 -2.33423924  2.37940216]\n",
      " [-0.05485106 -2.35031867  2.40517092]]\n",
      "B :  [ 0.54065919 -0.30442613 -0.23623078]\n",
      "\n",
      "After 800 iterations, Cost :  0.240548\n",
      "W :  [[-0.01052886  2.42678237 -2.41625595]\n",
      " [-0.0445409   2.39131784 -2.34677672]\n",
      " [-0.04630655 -2.35948324  2.40578794]\n",
      " [-0.05632562 -2.37570739  2.43203354]]\n",
      "B :  [ 0.56050962 -0.31560442 -0.24490313]\n",
      "\n",
      "After 850 iterations, Cost :  0.240343\n",
      "W :  [[-0.01109365  2.45146799 -2.440377  ]\n",
      " [-0.04502535  2.4153645  -2.37033844]\n",
      " [-0.04737989 -2.38276434  2.43014216]\n",
      " [-0.05770914 -2.3991189   2.45682907]]\n",
      "B :  [ 0.57879025 -0.32591197 -0.2528764 ]\n",
      "\n",
      "After 900 iterations, Cost :  0.240167\n",
      "W :  [[-0.01159998  2.47428107 -2.4626832 ]\n",
      " [-0.04546018  2.43759012 -2.39212871]\n",
      " [-0.04838682 -2.40427756  2.45266294]\n",
      " [-0.05900616 -2.42075181  2.47975922]]\n",
      "B :  [ 0.59563065 -0.3354204  -0.26020852]\n",
      "\n",
      "After 950 iterations, Cost :  0.240017\n",
      "W :  [[-0.01205278  2.49539852 -2.48334789]\n",
      " [-0.045849    2.45816565 -2.41231513]\n",
      " [-0.04933088 -2.42419338  2.47352195]\n",
      " [-0.06022162 -2.44077611  2.50099945]]\n",
      "B :  [ 0.6111505  -0.34419525 -0.26695356]\n",
      "\n",
      "After 1000 iterations, Cost :  0.239888\n",
      "W :  [[-0.0124566   2.51497579 -2.50252128]\n",
      " [-0.04619502  2.47724271 -2.43104577]\n",
      " [-0.05021531 -2.44265914  2.49287152]\n",
      " [-0.06136038 -2.45934105  2.52070332]]\n",
      "B :  [ 0.62545991 -0.35229716 -0.27316117]\n",
      "\n"
     ]
    }
   ],
   "source": [
    "Y_pred_classes = trainTheData(num_steps = 1000, optimizer_to_use = optimizer, batch_size = len(X_train))"
   ]
  },
  {
   "cell_type": "code",
   "execution_count": 28,
   "metadata": {
    "collapsed": true
   },
   "outputs": [],
   "source": [
    "Y_test_classes = np.argmax(Y_test, axis = 1)"
   ]
  },
  {
   "cell_type": "markdown",
   "metadata": {},
   "source": [
    "## Check the Accuracy"
   ]
  },
  {
   "cell_type": "code",
   "execution_count": 29,
   "metadata": {},
   "outputs": [
    {
     "data": {
      "text/plain": [
       "0.88800000000000001"
      ]
     },
     "execution_count": 29,
     "metadata": {},
     "output_type": "execute_result"
    }
   ],
   "source": [
    "accuracy_score(Y_test_classes, Y_pred_classes)"
   ]
  },
  {
   "cell_type": "code",
   "execution_count": 30,
   "metadata": {},
   "outputs": [
    {
     "data": {
      "text/plain": [
       "array([[ 3,  0,  6],\n",
       "       [ 5, 52,  1],\n",
       "       [ 0,  2, 56]], dtype=int64)"
      ]
     },
     "execution_count": 30,
     "metadata": {},
     "output_type": "execute_result"
    }
   ],
   "source": [
    "confusion_matrix(Y_test_classes, Y_pred_classes)"
   ]
  },
  {
   "cell_type": "code",
   "execution_count": null,
   "metadata": {
    "collapsed": true
   },
   "outputs": [],
   "source": []
  }
 ],
 "metadata": {
  "kernelspec": {
   "display_name": "Python [default]",
   "language": "python",
   "name": "python3"
  },
  "language_info": {
   "codemirror_mode": {
    "name": "ipython",
    "version": 3
   },
   "file_extension": ".py",
   "mimetype": "text/x-python",
   "name": "python",
   "nbconvert_exporter": "python",
   "pygments_lexer": "ipython3",
   "version": "3.5.4"
  }
 },
 "nbformat": 4,
 "nbformat_minor": 2
}
