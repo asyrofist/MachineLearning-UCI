{
 "cells": [
  {
   "cell_type": "markdown",
   "metadata": {},
   "source": [
    "## Initialization"
   ]
  },
  {
   "cell_type": "code",
   "execution_count": 1,
   "metadata": {},
   "outputs": [
    {
     "name": "stderr",
     "output_type": "stream",
     "text": [
      "Using Theano backend.\n"
     ]
    }
   ],
   "source": [
    "import pandas as pd\n",
    "import numpy as np\n",
    "import keras"
   ]
  },
  {
   "cell_type": "markdown",
   "metadata": {},
   "source": [
    "## Importing the Data"
   ]
  },
  {
   "cell_type": "code",
   "execution_count": 2,
   "metadata": {},
   "outputs": [
    {
     "data": {
      "text/plain": [
       "(748, 5)"
      ]
     },
     "execution_count": 2,
     "metadata": {},
     "output_type": "execute_result"
    }
   ],
   "source": [
    "dataset = pd.read_csv('transfusion.data')\n",
    "dataset.shape"
   ]
  },
  {
   "cell_type": "code",
   "execution_count": 3,
   "metadata": {},
   "outputs": [
    {
     "data": {
      "text/html": [
       "<div>\n",
       "<style>\n",
       "    .dataframe thead tr:only-child th {\n",
       "        text-align: right;\n",
       "    }\n",
       "\n",
       "    .dataframe thead th {\n",
       "        text-align: left;\n",
       "    }\n",
       "\n",
       "    .dataframe tbody tr th {\n",
       "        vertical-align: top;\n",
       "    }\n",
       "</style>\n",
       "<table border=\"1\" class=\"dataframe\">\n",
       "  <thead>\n",
       "    <tr style=\"text-align: right;\">\n",
       "      <th></th>\n",
       "      <th>Recency (months)</th>\n",
       "      <th>Frequency (times)</th>\n",
       "      <th>Monetary (c.c. blood)</th>\n",
       "      <th>Time (months)</th>\n",
       "      <th>whether he/she donated blood in March 2007</th>\n",
       "    </tr>\n",
       "  </thead>\n",
       "  <tbody>\n",
       "    <tr>\n",
       "      <th>0</th>\n",
       "      <td>2</td>\n",
       "      <td>50</td>\n",
       "      <td>12500</td>\n",
       "      <td>98</td>\n",
       "      <td>1</td>\n",
       "    </tr>\n",
       "    <tr>\n",
       "      <th>1</th>\n",
       "      <td>0</td>\n",
       "      <td>13</td>\n",
       "      <td>3250</td>\n",
       "      <td>28</td>\n",
       "      <td>1</td>\n",
       "    </tr>\n",
       "    <tr>\n",
       "      <th>2</th>\n",
       "      <td>1</td>\n",
       "      <td>16</td>\n",
       "      <td>4000</td>\n",
       "      <td>35</td>\n",
       "      <td>1</td>\n",
       "    </tr>\n",
       "    <tr>\n",
       "      <th>3</th>\n",
       "      <td>2</td>\n",
       "      <td>20</td>\n",
       "      <td>5000</td>\n",
       "      <td>45</td>\n",
       "      <td>1</td>\n",
       "    </tr>\n",
       "    <tr>\n",
       "      <th>4</th>\n",
       "      <td>1</td>\n",
       "      <td>24</td>\n",
       "      <td>6000</td>\n",
       "      <td>77</td>\n",
       "      <td>0</td>\n",
       "    </tr>\n",
       "  </tbody>\n",
       "</table>\n",
       "</div>"
      ],
      "text/plain": [
       "   Recency (months)  Frequency (times)  Monetary (c.c. blood)  Time (months)  \\\n",
       "0                 2                 50                  12500             98   \n",
       "1                 0                 13                   3250             28   \n",
       "2                 1                 16                   4000             35   \n",
       "3                 2                 20                   5000             45   \n",
       "4                 1                 24                   6000             77   \n",
       "\n",
       "   whether he/she donated blood in March 2007  \n",
       "0                                           1  \n",
       "1                                           1  \n",
       "2                                           1  \n",
       "3                                           1  \n",
       "4                                           0  "
      ]
     },
     "execution_count": 3,
     "metadata": {},
     "output_type": "execute_result"
    }
   ],
   "source": [
    "dataset.head()"
   ]
  },
  {
   "cell_type": "markdown",
   "metadata": {},
   "source": [
    "## Create X and Y"
   ]
  },
  {
   "cell_type": "code",
   "execution_count": 4,
   "metadata": {
    "collapsed": true
   },
   "outputs": [],
   "source": [
    "X = dataset.iloc[:, 0:4].values\n",
    "Y = dataset.iloc[:, 4].values"
   ]
  },
  {
   "cell_type": "markdown",
   "metadata": {},
   "source": [
    "## Preprocess the Data"
   ]
  },
  {
   "cell_type": "code",
   "execution_count": 5,
   "metadata": {},
   "outputs": [
    {
     "name": "stderr",
     "output_type": "stream",
     "text": [
      "C:\\Users\\user\\Anaconda3\\lib\\site-packages\\sklearn\\utils\\validation.py:444: DataConversionWarning: Data with input dtype int64 was converted to float64 by StandardScaler.\n",
      "  warnings.warn(msg, DataConversionWarning)\n"
     ]
    }
   ],
   "source": [
    "from sklearn.preprocessing import StandardScaler\n",
    "sc_X = StandardScaler()\n",
    "X = sc_X.fit_transform(X)"
   ]
  },
  {
   "cell_type": "code",
   "execution_count": 6,
   "metadata": {},
   "outputs": [
    {
     "data": {
      "text/plain": [
       "array([[-0.92789873,  7.62334626,  7.62334626,  2.61563344],\n",
       "       [-1.17511806,  1.28273826,  1.28273826, -0.2578809 ],\n",
       "       [-1.0515084 ,  1.79684161,  1.79684161,  0.02947053],\n",
       "       ..., \n",
       "       [ 1.66790417, -0.43093957, -0.43093957,  1.13782607],\n",
       "       [ 3.64565877, -0.77367514, -0.77367514,  0.19367135],\n",
       "       [ 7.72477762, -0.77367514, -0.77367514,  1.54832812]])"
      ]
     },
     "execution_count": 6,
     "metadata": {},
     "output_type": "execute_result"
    }
   ],
   "source": [
    "X"
   ]
  },
  {
   "cell_type": "markdown",
   "metadata": {},
   "source": [
    "## Create Train and Test Data"
   ]
  },
  {
   "cell_type": "code",
   "execution_count": 7,
   "metadata": {
    "collapsed": true
   },
   "outputs": [],
   "source": [
    "from sklearn.model_selection import train_test_split\n",
    "X_train, X_test, Y_train, Y_test = train_test_split(X, Y, test_size = 0.2, random_state = 4)"
   ]
  },
  {
   "cell_type": "code",
   "execution_count": 8,
   "metadata": {},
   "outputs": [
    {
     "data": {
      "text/html": [
       "<div>\n",
       "<style>\n",
       "    .dataframe thead tr:only-child th {\n",
       "        text-align: right;\n",
       "    }\n",
       "\n",
       "    .dataframe thead th {\n",
       "        text-align: left;\n",
       "    }\n",
       "\n",
       "    .dataframe tbody tr th {\n",
       "        vertical-align: top;\n",
       "    }\n",
       "</style>\n",
       "<table border=\"1\" class=\"dataframe\">\n",
       "  <thead>\n",
       "    <tr style=\"text-align: right;\">\n",
       "      <th></th>\n",
       "      <th>0</th>\n",
       "    </tr>\n",
       "  </thead>\n",
       "  <tbody>\n",
       "    <tr>\n",
       "      <th>0</th>\n",
       "      <td>457</td>\n",
       "    </tr>\n",
       "    <tr>\n",
       "      <th>1</th>\n",
       "      <td>141</td>\n",
       "    </tr>\n",
       "  </tbody>\n",
       "</table>\n",
       "</div>"
      ],
      "text/plain": [
       "     0\n",
       "0  457\n",
       "1  141"
      ]
     },
     "execution_count": 8,
     "metadata": {},
     "output_type": "execute_result"
    }
   ],
   "source": [
    "pd.DataFrame(pd.DataFrame(Y_train)[0].value_counts())"
   ]
  },
  {
   "cell_type": "code",
   "execution_count": 9,
   "metadata": {},
   "outputs": [
    {
     "data": {
      "text/html": [
       "<div>\n",
       "<style>\n",
       "    .dataframe thead tr:only-child th {\n",
       "        text-align: right;\n",
       "    }\n",
       "\n",
       "    .dataframe thead th {\n",
       "        text-align: left;\n",
       "    }\n",
       "\n",
       "    .dataframe tbody tr th {\n",
       "        vertical-align: top;\n",
       "    }\n",
       "</style>\n",
       "<table border=\"1\" class=\"dataframe\">\n",
       "  <thead>\n",
       "    <tr style=\"text-align: right;\">\n",
       "      <th></th>\n",
       "      <th>0</th>\n",
       "    </tr>\n",
       "  </thead>\n",
       "  <tbody>\n",
       "    <tr>\n",
       "      <th>0</th>\n",
       "      <td>113</td>\n",
       "    </tr>\n",
       "    <tr>\n",
       "      <th>1</th>\n",
       "      <td>37</td>\n",
       "    </tr>\n",
       "  </tbody>\n",
       "</table>\n",
       "</div>"
      ],
      "text/plain": [
       "     0\n",
       "0  113\n",
       "1   37"
      ]
     },
     "execution_count": 9,
     "metadata": {},
     "output_type": "execute_result"
    }
   ],
   "source": [
    "pd.DataFrame(pd.DataFrame(Y_test)[0].value_counts())"
   ]
  },
  {
   "cell_type": "markdown",
   "metadata": {},
   "source": [
    "## Create and Train the Classifier"
   ]
  },
  {
   "cell_type": "code",
   "execution_count": 10,
   "metadata": {
    "collapsed": true
   },
   "outputs": [],
   "source": [
    "from keras.models import Sequential\n",
    "from keras.layers import Dense"
   ]
  },
  {
   "cell_type": "code",
   "execution_count": 11,
   "metadata": {},
   "outputs": [
    {
     "name": "stderr",
     "output_type": "stream",
     "text": [
      "C:\\Users\\user\\Anaconda3\\lib\\site-packages\\ipykernel\\__main__.py:4: UserWarning: Update your `Dense` call to the Keras 2 API: `Dense(input_dim=4, activation=\"relu\", kernel_initializer=\"uniform\", units=8)`\n",
      "C:\\Users\\user\\Anaconda3\\lib\\site-packages\\ipykernel\\__main__.py:7: UserWarning: Update your `Dense` call to the Keras 2 API: `Dense(activation=\"relu\", units=8, kernel_initializer=\"uniform\")`\n",
      "C:\\Users\\user\\Anaconda3\\lib\\site-packages\\ipykernel\\__main__.py:10: UserWarning: Update your `Dense` call to the Keras 2 API: `Dense(activation=\"relu\", units=8, kernel_initializer=\"uniform\")`\n",
      "C:\\Users\\user\\Anaconda3\\lib\\site-packages\\ipykernel\\__main__.py:13: UserWarning: Update your `Dense` call to the Keras 2 API: `Dense(activation=\"relu\", units=8, kernel_initializer=\"uniform\")`\n",
      "C:\\Users\\user\\Anaconda3\\lib\\site-packages\\ipykernel\\__main__.py:16: UserWarning: Update your `Dense` call to the Keras 2 API: `Dense(activation=\"sigmoid\", units=1, kernel_initializer=\"uniform\")`\n",
      "C:\\Users\\user\\Anaconda3\\lib\\site-packages\\keras\\models.py:844: UserWarning: The `nb_epoch` argument in `fit` has been renamed `epochs`.\n",
      "  warnings.warn('The `nb_epoch` argument in `fit` '\n"
     ]
    },
    {
     "name": "stdout",
     "output_type": "stream",
     "text": [
      "Epoch 1/200\n",
      "598/598 [==============================] - 0s - loss: 0.6709 - acc: 0.7592     \n",
      "Epoch 2/200\n",
      "598/598 [==============================] - 0s - loss: 0.5355 - acc: 0.7642     \n",
      "Epoch 3/200\n",
      "598/598 [==============================] - 0s - loss: 0.4943 - acc: 0.7642     \n",
      "Epoch 4/200\n",
      "598/598 [==============================] - 0s - loss: 0.4843 - acc: 0.7642     \n",
      "Epoch 5/200\n",
      "598/598 [==============================] - 0s - loss: 0.4790 - acc: 0.7642     \n",
      "Epoch 6/200\n",
      "598/598 [==============================] - 0s - loss: 0.4769 - acc: 0.7642     \n",
      "Epoch 7/200\n",
      "598/598 [==============================] - 0s - loss: 0.4748 - acc: 0.7642     \n",
      "Epoch 8/200\n",
      "598/598 [==============================] - 0s - loss: 0.4736 - acc: 0.7642     \n",
      "Epoch 9/200\n",
      "598/598 [==============================] - 0s - loss: 0.4725 - acc: 0.7642     \n",
      "Epoch 10/200\n",
      "598/598 [==============================] - 0s - loss: 0.4713 - acc: 0.7642     \n",
      "Epoch 11/200\n",
      "598/598 [==============================] - 0s - loss: 0.4721 - acc: 0.7642     \n",
      "Epoch 12/200\n",
      "598/598 [==============================] - 0s - loss: 0.4708 - acc: 0.7642     \n",
      "Epoch 13/200\n",
      "598/598 [==============================] - 0s - loss: 0.4713 - acc: 0.7642     \n",
      "Epoch 14/200\n",
      "598/598 [==============================] - 0s - loss: 0.4693 - acc: 0.7642     \n",
      "Epoch 15/200\n",
      "598/598 [==============================] - 0s - loss: 0.4695 - acc: 0.7642     \n",
      "Epoch 16/200\n",
      "598/598 [==============================] - 0s - loss: 0.4682 - acc: 0.7642     \n",
      "Epoch 17/200\n",
      "598/598 [==============================] - 0s - loss: 0.4673 - acc: 0.7826     \n",
      "Epoch 18/200\n",
      "598/598 [==============================] - 0s - loss: 0.4678 - acc: 0.7876     \n",
      "Epoch 19/200\n",
      "598/598 [==============================] - 0s - loss: 0.4662 - acc: 0.7926     \n",
      "Epoch 20/200\n",
      "598/598 [==============================] - 0s - loss: 0.4700 - acc: 0.7876     \n",
      "Epoch 21/200\n",
      "598/598 [==============================] - 0s - loss: 0.4661 - acc: 0.7893     \n",
      "Epoch 22/200\n",
      "598/598 [==============================] - 0s - loss: 0.4657 - acc: 0.7893     \n",
      "Epoch 23/200\n",
      "598/598 [==============================] - 0s - loss: 0.4651 - acc: 0.7926     \n",
      "Epoch 24/200\n",
      "598/598 [==============================] - 0s - loss: 0.4656 - acc: 0.7960     \n",
      "Epoch 25/200\n",
      "598/598 [==============================] - 0s - loss: 0.4637 - acc: 0.7977     \n",
      "Epoch 26/200\n",
      "598/598 [==============================] - 0s - loss: 0.4664 - acc: 0.7826     \n",
      "Epoch 27/200\n",
      "598/598 [==============================] - 0s - loss: 0.4652 - acc: 0.7910     \n",
      "Epoch 28/200\n",
      "598/598 [==============================] - 0s - loss: 0.4647 - acc: 0.7960     \n",
      "Epoch 29/200\n",
      "598/598 [==============================] - 0s - loss: 0.4645 - acc: 0.7960     \n",
      "Epoch 30/200\n",
      "598/598 [==============================] - 0s - loss: 0.4632 - acc: 0.7977     \n",
      "Epoch 31/200\n",
      "598/598 [==============================] - 0s - loss: 0.4625 - acc: 0.8077     \n",
      "Epoch 32/200\n",
      "598/598 [==============================] - 0s - loss: 0.4633 - acc: 0.7960     \n",
      "Epoch 33/200\n",
      "598/598 [==============================] - 0s - loss: 0.4633 - acc: 0.7926     \n",
      "Epoch 34/200\n",
      "598/598 [==============================] - 0s - loss: 0.4626 - acc: 0.7993     \n",
      "Epoch 35/200\n",
      "598/598 [==============================] - 0s - loss: 0.4615 - acc: 0.8010     \n",
      "Epoch 36/200\n",
      "598/598 [==============================] - 0s - loss: 0.4618 - acc: 0.7960     \n",
      "Epoch 37/200\n",
      "598/598 [==============================] - 0s - loss: 0.4630 - acc: 0.8010     \n",
      "Epoch 38/200\n",
      "598/598 [==============================] - 0s - loss: 0.4621 - acc: 0.7960     \n",
      "Epoch 39/200\n",
      "598/598 [==============================] - 0s - loss: 0.4633 - acc: 0.8027     \n",
      "Epoch 40/200\n",
      "598/598 [==============================] - 0s - loss: 0.4608 - acc: 0.7977     \n",
      "Epoch 41/200\n",
      "598/598 [==============================] - 0s - loss: 0.4618 - acc: 0.7993     \n",
      "Epoch 42/200\n",
      "598/598 [==============================] - 0s - loss: 0.4626 - acc: 0.8043     \n",
      "Epoch 43/200\n",
      "598/598 [==============================] - 0s - loss: 0.4615 - acc: 0.7977     \n",
      "Epoch 44/200\n",
      "598/598 [==============================] - 0s - loss: 0.4609 - acc: 0.7943     \n",
      "Epoch 45/200\n",
      "598/598 [==============================] - 0s - loss: 0.4601 - acc: 0.8010     \n",
      "Epoch 46/200\n",
      "598/598 [==============================] - 0s - loss: 0.4603 - acc: 0.8010     \n",
      "Epoch 47/200\n",
      "598/598 [==============================] - 0s - loss: 0.4602 - acc: 0.8010     \n",
      "Epoch 48/200\n",
      "598/598 [==============================] - 0s - loss: 0.4594 - acc: 0.7993     \n",
      "Epoch 49/200\n",
      "598/598 [==============================] - 0s - loss: 0.4616 - acc: 0.7993     \n",
      "Epoch 50/200\n",
      "598/598 [==============================] - 0s - loss: 0.4598 - acc: 0.8027     \n",
      "Epoch 51/200\n",
      "598/598 [==============================] - 0s - loss: 0.4605 - acc: 0.8027     \n",
      "Epoch 52/200\n",
      "598/598 [==============================] - 0s - loss: 0.4605 - acc: 0.8010     \n",
      "Epoch 53/200\n",
      "598/598 [==============================] - 0s - loss: 0.4595 - acc: 0.7977     \n",
      "Epoch 54/200\n",
      "598/598 [==============================] - 0s - loss: 0.4579 - acc: 0.7977     \n",
      "Epoch 55/200\n",
      "598/598 [==============================] - 0s - loss: 0.4594 - acc: 0.8027     \n",
      "Epoch 56/200\n",
      "598/598 [==============================] - 0s - loss: 0.4588 - acc: 0.8043     \n",
      "Epoch 57/200\n",
      "598/598 [==============================] - 0s - loss: 0.4587 - acc: 0.7960     \n",
      "Epoch 58/200\n",
      "598/598 [==============================] - 0s - loss: 0.4589 - acc: 0.7993     \n",
      "Epoch 59/200\n",
      "598/598 [==============================] - 0s - loss: 0.4583 - acc: 0.7977     \n",
      "Epoch 60/200\n",
      "598/598 [==============================] - 0s - loss: 0.4581 - acc: 0.8010     \n",
      "Epoch 61/200\n",
      "598/598 [==============================] - 0s - loss: 0.4594 - acc: 0.7993     \n",
      "Epoch 62/200\n",
      "598/598 [==============================] - 0s - loss: 0.4582 - acc: 0.8010     \n",
      "Epoch 63/200\n",
      "598/598 [==============================] - 0s - loss: 0.4577 - acc: 0.7993     \n",
      "Epoch 64/200\n",
      "598/598 [==============================] - 0s - loss: 0.4583 - acc: 0.8010     \n",
      "Epoch 65/200\n",
      "598/598 [==============================] - 0s - loss: 0.4597 - acc: 0.7993     \n",
      "Epoch 66/200\n",
      "598/598 [==============================] - 0s - loss: 0.4587 - acc: 0.8010     \n",
      "Epoch 67/200\n",
      "598/598 [==============================] - 0s - loss: 0.4583 - acc: 0.8010     \n",
      "Epoch 68/200\n",
      "598/598 [==============================] - 0s - loss: 0.4565 - acc: 0.8010     \n",
      "Epoch 69/200\n",
      "598/598 [==============================] - 0s - loss: 0.4564 - acc: 0.7993     \n",
      "Epoch 70/200\n",
      "598/598 [==============================] - 0s - loss: 0.4574 - acc: 0.8010     \n",
      "Epoch 71/200\n",
      "598/598 [==============================] - 0s - loss: 0.4579 - acc: 0.8043     \n",
      "Epoch 72/200\n",
      "598/598 [==============================] - 0s - loss: 0.4583 - acc: 0.8010     \n",
      "Epoch 73/200\n",
      "598/598 [==============================] - 0s - loss: 0.4548 - acc: 0.7993     \n",
      "Epoch 74/200\n",
      "598/598 [==============================] - 0s - loss: 0.4577 - acc: 0.8010     \n",
      "Epoch 75/200\n",
      "598/598 [==============================] - 0s - loss: 0.4579 - acc: 0.8027     \n",
      "Epoch 76/200\n",
      "598/598 [==============================] - 0s - loss: 0.4568 - acc: 0.8027     \n",
      "Epoch 77/200\n",
      "598/598 [==============================] - 0s - loss: 0.4569 - acc: 0.7993     \n",
      "Epoch 78/200\n",
      "598/598 [==============================] - 0s - loss: 0.4563 - acc: 0.8010     \n",
      "Epoch 79/200\n",
      "598/598 [==============================] - 0s - loss: 0.4572 - acc: 0.7993     \n",
      "Epoch 80/200\n",
      "598/598 [==============================] - 0s - loss: 0.4566 - acc: 0.8010     \n",
      "Epoch 81/200\n",
      "598/598 [==============================] - 0s - loss: 0.4569 - acc: 0.8010     \n",
      "Epoch 82/200\n",
      "598/598 [==============================] - 0s - loss: 0.4564 - acc: 0.8010     \n",
      "Epoch 83/200\n",
      "598/598 [==============================] - 0s - loss: 0.4585 - acc: 0.8027     \n",
      "Epoch 84/200\n",
      "598/598 [==============================] - 0s - loss: 0.4564 - acc: 0.8043     \n",
      "Epoch 85/200\n",
      "598/598 [==============================] - 0s - loss: 0.4557 - acc: 0.8043     \n",
      "Epoch 86/200\n",
      "598/598 [==============================] - 0s - loss: 0.4550 - acc: 0.8027     \n",
      "Epoch 87/200\n",
      "598/598 [==============================] - 0s - loss: 0.4552 - acc: 0.7943     \n",
      "Epoch 88/200\n",
      "598/598 [==============================] - 0s - loss: 0.4556 - acc: 0.8027     \n",
      "Epoch 89/200\n",
      "598/598 [==============================] - 0s - loss: 0.4553 - acc: 0.8043     \n",
      "Epoch 90/200\n",
      "598/598 [==============================] - 0s - loss: 0.4550 - acc: 0.8010     \n",
      "Epoch 91/200\n",
      "598/598 [==============================] - 0s - loss: 0.4558 - acc: 0.8010     \n",
      "Epoch 92/200\n",
      "598/598 [==============================] - 0s - loss: 0.4549 - acc: 0.8010     \n",
      "Epoch 93/200\n",
      "598/598 [==============================] - 0s - loss: 0.4552 - acc: 0.8060     \n",
      "Epoch 94/200\n",
      "598/598 [==============================] - 0s - loss: 0.4547 - acc: 0.8010     \n",
      "Epoch 95/200\n",
      "598/598 [==============================] - 0s - loss: 0.4555 - acc: 0.8027     \n",
      "Epoch 96/200\n",
      "598/598 [==============================] - 0s - loss: 0.4553 - acc: 0.8043     \n",
      "Epoch 97/200\n",
      "598/598 [==============================] - 0s - loss: 0.4537 - acc: 0.8043     \n",
      "Epoch 98/200\n",
      "598/598 [==============================] - 0s - loss: 0.4546 - acc: 0.8027     \n",
      "Epoch 99/200\n",
      "598/598 [==============================] - 0s - loss: 0.4540 - acc: 0.8010     \n",
      "Epoch 100/200\n",
      "598/598 [==============================] - 0s - loss: 0.4541 - acc: 0.8027     \n",
      "Epoch 101/200\n",
      "598/598 [==============================] - ETA: 0s - loss: 0.4616 - acc: 0.805 - 0s - loss: 0.4541 - acc: 0.8060     \n",
      "Epoch 102/200\n",
      "598/598 [==============================] - 0s - loss: 0.4545 - acc: 0.8010     \n",
      "Epoch 103/200\n",
      "598/598 [==============================] - 0s - loss: 0.4537 - acc: 0.8010     \n",
      "Epoch 104/200\n",
      "598/598 [==============================] - 0s - loss: 0.4540 - acc: 0.8060     \n",
      "Epoch 105/200\n",
      "598/598 [==============================] - 0s - loss: 0.4550 - acc: 0.7993     \n",
      "Epoch 106/200\n",
      "598/598 [==============================] - 0s - loss: 0.4546 - acc: 0.8077     \n",
      "Epoch 107/200\n",
      "598/598 [==============================] - 0s - loss: 0.4564 - acc: 0.8027     \n",
      "Epoch 108/200\n",
      "598/598 [==============================] - 0s - loss: 0.4531 - acc: 0.8027     \n",
      "Epoch 109/200\n",
      "598/598 [==============================] - 0s - loss: 0.4540 - acc: 0.8010     \n",
      "Epoch 110/200\n",
      "598/598 [==============================] - 0s - loss: 0.4531 - acc: 0.7993     \n",
      "Epoch 111/200\n",
      "598/598 [==============================] - 0s - loss: 0.4543 - acc: 0.8043     \n",
      "Epoch 112/200\n",
      "598/598 [==============================] - 0s - loss: 0.4534 - acc: 0.8010     \n",
      "Epoch 113/200\n",
      "598/598 [==============================] - 0s - loss: 0.4538 - acc: 0.8043     \n",
      "Epoch 114/200\n",
      "598/598 [==============================] - 0s - loss: 0.4536 - acc: 0.8010     \n",
      "Epoch 115/200\n",
      "598/598 [==============================] - 0s - loss: 0.4529 - acc: 0.7977     \n",
      "Epoch 116/200\n",
      "598/598 [==============================] - 0s - loss: 0.4533 - acc: 0.8060     \n",
      "Epoch 117/200\n",
      "598/598 [==============================] - 0s - loss: 0.4540 - acc: 0.7960     \n",
      "Epoch 118/200\n",
      "598/598 [==============================] - 0s - loss: 0.4531 - acc: 0.8010     \n",
      "Epoch 119/200\n",
      "598/598 [==============================] - 0s - loss: 0.4531 - acc: 0.8027     \n",
      "Epoch 120/200\n",
      "598/598 [==============================] - 0s - loss: 0.4535 - acc: 0.7993     \n",
      "Epoch 121/200\n",
      "598/598 [==============================] - 0s - loss: 0.4539 - acc: 0.8010     \n",
      "Epoch 122/200\n",
      "598/598 [==============================] - 0s - loss: 0.4547 - acc: 0.8077     \n",
      "Epoch 123/200\n",
      "598/598 [==============================] - 0s - loss: 0.4527 - acc: 0.8043     \n",
      "Epoch 124/200\n",
      "598/598 [==============================] - 0s - loss: 0.4532 - acc: 0.8027     \n",
      "Epoch 125/200\n",
      "598/598 [==============================] - 0s - loss: 0.4532 - acc: 0.8027     \n",
      "Epoch 126/200\n",
      "598/598 [==============================] - 0s - loss: 0.4524 - acc: 0.8060     \n",
      "Epoch 127/200\n",
      "598/598 [==============================] - 0s - loss: 0.4525 - acc: 0.8027     \n",
      "Epoch 128/200\n",
      "598/598 [==============================] - 0s - loss: 0.4537 - acc: 0.8010     \n",
      "Epoch 129/200\n",
      "598/598 [==============================] - 0s - loss: 0.4529 - acc: 0.8043     \n",
      "Epoch 130/200\n",
      "598/598 [==============================] - 0s - loss: 0.4526 - acc: 0.7993     \n",
      "Epoch 131/200\n",
      "598/598 [==============================] - 0s - loss: 0.4522 - acc: 0.8010     \n",
      "Epoch 132/200\n",
      "598/598 [==============================] - 0s - loss: 0.4539 - acc: 0.8027     \n",
      "Epoch 133/200\n",
      "598/598 [==============================] - 0s - loss: 0.4536 - acc: 0.8010     \n",
      "Epoch 134/200\n",
      "598/598 [==============================] - 0s - loss: 0.4523 - acc: 0.7993     \n",
      "Epoch 135/200\n",
      "598/598 [==============================] - 0s - loss: 0.4516 - acc: 0.8043     \n",
      "Epoch 136/200\n",
      "598/598 [==============================] - 0s - loss: 0.4519 - acc: 0.8027     \n",
      "Epoch 137/200\n",
      "598/598 [==============================] - 0s - loss: 0.4519 - acc: 0.8043     \n",
      "Epoch 138/200\n",
      "598/598 [==============================] - 0s - loss: 0.4520 - acc: 0.7993     \n",
      "Epoch 139/200\n",
      "598/598 [==============================] - 0s - loss: 0.4536 - acc: 0.7977     \n",
      "Epoch 140/200\n",
      "598/598 [==============================] - 0s - loss: 0.4528 - acc: 0.8043     \n",
      "Epoch 141/200\n",
      "598/598 [==============================] - 0s - loss: 0.4529 - acc: 0.8010     \n",
      "Epoch 142/200\n",
      "598/598 [==============================] - 0s - loss: 0.4531 - acc: 0.8060     \n",
      "Epoch 143/200\n",
      "598/598 [==============================] - 0s - loss: 0.4514 - acc: 0.8060     \n",
      "Epoch 144/200\n",
      "598/598 [==============================] - 0s - loss: 0.4522 - acc: 0.8027     \n",
      "Epoch 145/200\n",
      "598/598 [==============================] - 0s - loss: 0.4514 - acc: 0.8043     \n",
      "Epoch 146/200\n",
      "598/598 [==============================] - 0s - loss: 0.4558 - acc: 0.7993     \n",
      "Epoch 147/200\n",
      "598/598 [==============================] - 0s - loss: 0.4522 - acc: 0.8027     \n",
      "Epoch 148/200\n",
      "598/598 [==============================] - 0s - loss: 0.4528 - acc: 0.7977     \n",
      "Epoch 149/200\n",
      "598/598 [==============================] - 0s - loss: 0.4526 - acc: 0.8077     \n",
      "Epoch 150/200\n",
      "598/598 [==============================] - 0s - loss: 0.4523 - acc: 0.8110     \n",
      "Epoch 151/200\n",
      "598/598 [==============================] - 0s - loss: 0.4523 - acc: 0.8010     \n",
      "Epoch 152/200\n",
      "598/598 [==============================] - 0s - loss: 0.4514 - acc: 0.8060     \n",
      "Epoch 153/200\n",
      "598/598 [==============================] - 0s - loss: 0.4528 - acc: 0.8043     \n",
      "Epoch 154/200\n",
      "598/598 [==============================] - 0s - loss: 0.4515 - acc: 0.8027     \n",
      "Epoch 155/200\n",
      "598/598 [==============================] - 0s - loss: 0.4508 - acc: 0.8094     \n",
      "Epoch 156/200\n",
      "598/598 [==============================] - 0s - loss: 0.4520 - acc: 0.8027     \n",
      "Epoch 157/200\n",
      "598/598 [==============================] - 0s - loss: 0.4520 - acc: 0.8043     \n",
      "Epoch 158/200\n",
      "598/598 [==============================] - 0s - loss: 0.4515 - acc: 0.8010     \n",
      "Epoch 159/200\n",
      "598/598 [==============================] - 0s - loss: 0.4517 - acc: 0.8060     \n",
      "Epoch 160/200\n",
      "598/598 [==============================] - 0s - loss: 0.4506 - acc: 0.8027     \n",
      "Epoch 161/200\n",
      "598/598 [==============================] - 0s - loss: 0.4509 - acc: 0.8043     \n",
      "Epoch 162/200\n",
      "598/598 [==============================] - 0s - loss: 0.4521 - acc: 0.8060     \n",
      "Epoch 163/200\n",
      "598/598 [==============================] - 0s - loss: 0.4518 - acc: 0.8077     \n",
      "Epoch 164/200\n",
      "598/598 [==============================] - 0s - loss: 0.4523 - acc: 0.8077     \n",
      "Epoch 165/200\n",
      "598/598 [==============================] - 0s - loss: 0.4505 - acc: 0.7977     \n",
      "Epoch 166/200\n",
      "598/598 [==============================] - 0s - loss: 0.4523 - acc: 0.7960     \n",
      "Epoch 167/200\n",
      "598/598 [==============================] - 0s - loss: 0.4522 - acc: 0.8027     \n",
      "Epoch 168/200\n",
      "598/598 [==============================] - 0s - loss: 0.4513 - acc: 0.8043     - ETA: 0s - loss: 0.4345 - acc: 0.82\n",
      "Epoch 169/200\n",
      "598/598 [==============================] - 0s - loss: 0.4523 - acc: 0.8077     \n",
      "Epoch 170/200\n",
      "598/598 [==============================] - 0s - loss: 0.4512 - acc: 0.8010     \n",
      "Epoch 171/200\n",
      "598/598 [==============================] - 0s - loss: 0.4513 - acc: 0.8110     \n",
      "Epoch 172/200\n",
      "598/598 [==============================] - 0s - loss: 0.4526 - acc: 0.8027     \n",
      "Epoch 173/200\n",
      "598/598 [==============================] - 0s - loss: 0.4498 - acc: 0.8060     \n",
      "Epoch 174/200\n",
      "598/598 [==============================] - 0s - loss: 0.4524 - acc: 0.8027     \n",
      "Epoch 175/200\n"
     ]
    },
    {
     "name": "stdout",
     "output_type": "stream",
     "text": [
      "598/598 [==============================] - 0s - loss: 0.4507 - acc: 0.8027     \n",
      "Epoch 176/200\n",
      "598/598 [==============================] - 0s - loss: 0.4508 - acc: 0.7977     \n",
      "Epoch 177/200\n",
      "598/598 [==============================] - 0s - loss: 0.4514 - acc: 0.8110     \n",
      "Epoch 178/200\n",
      "598/598 [==============================] - 0s - loss: 0.4510 - acc: 0.8060     \n",
      "Epoch 179/200\n",
      "598/598 [==============================] - 0s - loss: 0.4503 - acc: 0.8027     \n",
      "Epoch 180/200\n",
      "598/598 [==============================] - 0s - loss: 0.4524 - acc: 0.7993     \n",
      "Epoch 181/200\n",
      "598/598 [==============================] - 0s - loss: 0.4511 - acc: 0.8060     \n",
      "Epoch 182/200\n",
      "598/598 [==============================] - 0s - loss: 0.4505 - acc: 0.8027     \n",
      "Epoch 183/200\n",
      "598/598 [==============================] - 0s - loss: 0.4508 - acc: 0.8027     \n",
      "Epoch 184/200\n",
      "598/598 [==============================] - 0s - loss: 0.4502 - acc: 0.8060     \n",
      "Epoch 185/200\n",
      "598/598 [==============================] - 0s - loss: 0.4505 - acc: 0.8043     \n",
      "Epoch 186/200\n",
      "598/598 [==============================] - 0s - loss: 0.4507 - acc: 0.8043     \n",
      "Epoch 187/200\n",
      "598/598 [==============================] - 0s - loss: 0.4516 - acc: 0.7993     \n",
      "Epoch 188/200\n",
      "598/598 [==============================] - 0s - loss: 0.4499 - acc: 0.8027     \n",
      "Epoch 189/200\n",
      "598/598 [==============================] - 0s - loss: 0.4505 - acc: 0.8010     \n",
      "Epoch 190/200\n",
      "598/598 [==============================] - 0s - loss: 0.4502 - acc: 0.8010     \n",
      "Epoch 191/200\n",
      "598/598 [==============================] - 0s - loss: 0.4520 - acc: 0.8060     \n",
      "Epoch 192/200\n",
      "598/598 [==============================] - 0s - loss: 0.4519 - acc: 0.7977     \n",
      "Epoch 193/200\n",
      "598/598 [==============================] - 0s - loss: 0.4508 - acc: 0.8043     \n",
      "Epoch 194/200\n",
      "598/598 [==============================] - 0s - loss: 0.4497 - acc: 0.7993     \n",
      "Epoch 195/200\n",
      "598/598 [==============================] - 0s - loss: 0.4494 - acc: 0.8043     \n",
      "Epoch 196/200\n",
      "598/598 [==============================] - 0s - loss: 0.4516 - acc: 0.8043     \n",
      "Epoch 197/200\n",
      "598/598 [==============================] - 0s - loss: 0.4516 - acc: 0.8043     \n",
      "Epoch 198/200\n",
      "598/598 [==============================] - 0s - loss: 0.4500 - acc: 0.8027     \n",
      "Epoch 199/200\n",
      "598/598 [==============================] - 0s - loss: 0.4496 - acc: 0.8060     \n",
      "Epoch 200/200\n",
      "598/598 [==============================] - 0s - loss: 0.4500 - acc: 0.8043     \n"
     ]
    },
    {
     "data": {
      "text/plain": [
       "<keras.callbacks.History at 0xc5a4cda8d0>"
      ]
     },
     "execution_count": 11,
     "metadata": {},
     "output_type": "execute_result"
    }
   ],
   "source": [
    "clf_ann = Sequential()\n",
    "\n",
    "# First Hidden Layer\n",
    "clf_ann.add(Dense(output_dim = 8, init = 'uniform', activation = 'relu', input_dim = 4))\n",
    "\n",
    "# Second Hidden Layer\n",
    "clf_ann.add(Dense(output_dim = 8, init = 'uniform', activation = 'relu'))\n",
    "\n",
    "# Third Hidden Layer\n",
    "clf_ann.add(Dense(output_dim = 8, init = 'uniform', activation = 'relu'))\n",
    "\n",
    "# Fourth Hidden Layer\n",
    "clf_ann.add(Dense(output_dim = 8, init = 'uniform', activation = 'relu'))\n",
    "\n",
    "# Output Layer\n",
    "clf_ann.add(Dense(output_dim = 1, init = 'uniform', activation = 'sigmoid'))\n",
    "\n",
    "# Compile the ANN\n",
    "clf_ann.compile(optimizer = 'adam', loss = 'binary_crossentropy', metrics = ['accuracy'])\n",
    "\n",
    "# Train the ANN on the Training Set\n",
    "clf_ann.fit(X_train, Y_train, batch_size = 5, nb_epoch = 200)"
   ]
  },
  {
   "cell_type": "code",
   "execution_count": 12,
   "metadata": {
    "collapsed": true
   },
   "outputs": [],
   "source": [
    "# Test the ANN on the Test Data\n",
    "Y_pred = clf_ann.predict(X_test)\n",
    "Y_pred = (Y_pred > 0.5)"
   ]
  },
  {
   "cell_type": "markdown",
   "metadata": {},
   "source": [
    "## Check the Accuracy"
   ]
  },
  {
   "cell_type": "code",
   "execution_count": 13,
   "metadata": {},
   "outputs": [
    {
     "data": {
      "text/plain": [
       "0.82666666666666666"
      ]
     },
     "execution_count": 13,
     "metadata": {},
     "output_type": "execute_result"
    }
   ],
   "source": [
    "from sklearn.metrics import accuracy_score, confusion_matrix\n",
    "accuracy_score(Y_pred, Y_test)"
   ]
  },
  {
   "cell_type": "code",
   "execution_count": 14,
   "metadata": {},
   "outputs": [
    {
     "data": {
      "text/plain": [
       "array([[109,  22],\n",
       "       [  4,  15]], dtype=int64)"
      ]
     },
     "execution_count": 14,
     "metadata": {},
     "output_type": "execute_result"
    }
   ],
   "source": [
    "confusion_matrix(Y_pred, Y_test)"
   ]
  },
  {
   "cell_type": "code",
   "execution_count": null,
   "metadata": {
    "collapsed": true
   },
   "outputs": [],
   "source": []
  }
 ],
 "metadata": {
  "kernelspec": {
   "display_name": "Python [default]",
   "language": "python",
   "name": "python3"
  },
  "language_info": {
   "codemirror_mode": {
    "name": "ipython",
    "version": 3
   },
   "file_extension": ".py",
   "mimetype": "text/x-python",
   "name": "python",
   "nbconvert_exporter": "python",
   "pygments_lexer": "ipython3",
   "version": "3.5.4"
  }
 },
 "nbformat": 4,
 "nbformat_minor": 2
}
