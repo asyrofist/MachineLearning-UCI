{
 "cells": [
  {
   "cell_type": "markdown",
   "metadata": {},
   "source": [
    "## Initialization"
   ]
  },
  {
   "cell_type": "code",
   "execution_count": 1,
   "metadata": {},
   "outputs": [],
   "source": [
    "import pandas as pd\n",
    "import numpy as np\n",
    "import tensorflow as tf"
   ]
  },
  {
   "cell_type": "markdown",
   "metadata": {},
   "source": [
    "## Importing the Data"
   ]
  },
  {
   "cell_type": "code",
   "execution_count": 2,
   "metadata": {},
   "outputs": [
    {
     "data": {
      "text/plain": [
       "(209, 10)"
      ]
     },
     "execution_count": 2,
     "metadata": {},
     "output_type": "execute_result"
    }
   ],
   "source": [
    "dataset = pd.read_csv('machine.data', header = None)\n",
    "dataset.shape"
   ]
  },
  {
   "cell_type": "code",
   "execution_count": 3,
   "metadata": {},
   "outputs": [
    {
     "data": {
      "text/html": [
       "<div>\n",
       "<style>\n",
       "    .dataframe thead tr:only-child th {\n",
       "        text-align: right;\n",
       "    }\n",
       "\n",
       "    .dataframe thead th {\n",
       "        text-align: left;\n",
       "    }\n",
       "\n",
       "    .dataframe tbody tr th {\n",
       "        vertical-align: top;\n",
       "    }\n",
       "</style>\n",
       "<table border=\"1\" class=\"dataframe\">\n",
       "  <thead>\n",
       "    <tr style=\"text-align: right;\">\n",
       "      <th></th>\n",
       "      <th>0</th>\n",
       "      <th>1</th>\n",
       "      <th>2</th>\n",
       "      <th>3</th>\n",
       "      <th>4</th>\n",
       "      <th>5</th>\n",
       "      <th>6</th>\n",
       "      <th>7</th>\n",
       "      <th>8</th>\n",
       "      <th>9</th>\n",
       "    </tr>\n",
       "  </thead>\n",
       "  <tbody>\n",
       "    <tr>\n",
       "      <th>0</th>\n",
       "      <td>adviser</td>\n",
       "      <td>32/60</td>\n",
       "      <td>125</td>\n",
       "      <td>256</td>\n",
       "      <td>6000</td>\n",
       "      <td>256</td>\n",
       "      <td>16</td>\n",
       "      <td>128</td>\n",
       "      <td>198</td>\n",
       "      <td>199</td>\n",
       "    </tr>\n",
       "    <tr>\n",
       "      <th>1</th>\n",
       "      <td>amdahl</td>\n",
       "      <td>470v/7</td>\n",
       "      <td>29</td>\n",
       "      <td>8000</td>\n",
       "      <td>32000</td>\n",
       "      <td>32</td>\n",
       "      <td>8</td>\n",
       "      <td>32</td>\n",
       "      <td>269</td>\n",
       "      <td>253</td>\n",
       "    </tr>\n",
       "    <tr>\n",
       "      <th>2</th>\n",
       "      <td>amdahl</td>\n",
       "      <td>470v/7a</td>\n",
       "      <td>29</td>\n",
       "      <td>8000</td>\n",
       "      <td>32000</td>\n",
       "      <td>32</td>\n",
       "      <td>8</td>\n",
       "      <td>32</td>\n",
       "      <td>220</td>\n",
       "      <td>253</td>\n",
       "    </tr>\n",
       "    <tr>\n",
       "      <th>3</th>\n",
       "      <td>amdahl</td>\n",
       "      <td>470v/7b</td>\n",
       "      <td>29</td>\n",
       "      <td>8000</td>\n",
       "      <td>32000</td>\n",
       "      <td>32</td>\n",
       "      <td>8</td>\n",
       "      <td>32</td>\n",
       "      <td>172</td>\n",
       "      <td>253</td>\n",
       "    </tr>\n",
       "    <tr>\n",
       "      <th>4</th>\n",
       "      <td>amdahl</td>\n",
       "      <td>470v/7c</td>\n",
       "      <td>29</td>\n",
       "      <td>8000</td>\n",
       "      <td>16000</td>\n",
       "      <td>32</td>\n",
       "      <td>8</td>\n",
       "      <td>16</td>\n",
       "      <td>132</td>\n",
       "      <td>132</td>\n",
       "    </tr>\n",
       "  </tbody>\n",
       "</table>\n",
       "</div>"
      ],
      "text/plain": [
       "         0        1    2     3      4    5   6    7    8    9\n",
       "0  adviser    32/60  125   256   6000  256  16  128  198  199\n",
       "1   amdahl   470v/7   29  8000  32000   32   8   32  269  253\n",
       "2   amdahl  470v/7a   29  8000  32000   32   8   32  220  253\n",
       "3   amdahl  470v/7b   29  8000  32000   32   8   32  172  253\n",
       "4   amdahl  470v/7c   29  8000  16000   32   8   16  132  132"
      ]
     },
     "execution_count": 3,
     "metadata": {},
     "output_type": "execute_result"
    }
   ],
   "source": [
    "dataset.head()"
   ]
  },
  {
   "cell_type": "markdown",
   "metadata": {},
   "source": [
    "## Create X and Y"
   ]
  },
  {
   "cell_type": "code",
   "execution_count": 4,
   "metadata": {
    "collapsed": true
   },
   "outputs": [],
   "source": [
    "X = dataset.iloc[:, 2:8].values\n",
    "Y = dataset.iloc[:, 8].values"
   ]
  },
  {
   "cell_type": "code",
   "execution_count": 5,
   "metadata": {},
   "outputs": [
    {
     "data": {
      "text/plain": [
       "(209, 6)"
      ]
     },
     "execution_count": 5,
     "metadata": {},
     "output_type": "execute_result"
    }
   ],
   "source": [
    "X.shape"
   ]
  },
  {
   "cell_type": "code",
   "execution_count": 6,
   "metadata": {},
   "outputs": [
    {
     "data": {
      "text/plain": [
       "(209,)"
      ]
     },
     "execution_count": 6,
     "metadata": {},
     "output_type": "execute_result"
    }
   ],
   "source": [
    "Y.shape"
   ]
  },
  {
   "cell_type": "code",
   "execution_count": 7,
   "metadata": {},
   "outputs": [
    {
     "data": {
      "text/plain": [
       "array([[  125,   256,  6000,   256,    16,   128],\n",
       "       [   29,  8000, 32000,    32,     8,    32],\n",
       "       [   29,  8000, 32000,    32,     8,    32],\n",
       "       ..., \n",
       "       [  125,  2000,  8000,     0,     2,    14],\n",
       "       [  480,   512,  8000,    32,     0,     0],\n",
       "       [  480,  1000,  4000,     0,     0,     0]], dtype=int64)"
      ]
     },
     "execution_count": 7,
     "metadata": {},
     "output_type": "execute_result"
    }
   ],
   "source": [
    "X"
   ]
  },
  {
   "cell_type": "code",
   "execution_count": 8,
   "metadata": {},
   "outputs": [
    {
     "data": {
      "text/plain": [
       "array([ 198,  269,  220,  172,  132,  318,  367,  489,  636, 1144,   38,\n",
       "         40,   92,  138,   10,   35,   19,   28,   31,  120,   30,   33,\n",
       "         61,   76,   23,   69,   33,   27,   77,   27,  274,  368,   32,\n",
       "         63,  106,  208,   20,   29,   71,   26,   36,   40,   52,   60,\n",
       "         72,   72,   18,   20,   40,   62,   24,   24,  138,   36,   26,\n",
       "         60,   71,   12,   14,   20,   16,   22,   36,  144,  144,  259,\n",
       "         17,   26,   32,   32,   62,   64,   22,   36,   44,   50,   45,\n",
       "         53,   36,   84,   16,   38,   38,   16,   22,   29,   40,   35,\n",
       "        134,   66,  141,  189,   22,  132,  237,  465,  465,  277,  185,\n",
       "          6,   24,   45,    7,   13,   16,   32,   32,   11,   11,   18,\n",
       "         22,   37,   40,   34,   50,   76,   66,   24,   49,   66,  100,\n",
       "        133,   12,   18,   20,   27,   45,   56,   70,   80,  136,   16,\n",
       "         26,   32,   45,   54,   65,   30,   50,   40,   62,   60,   50,\n",
       "         66,   86,   74,   93,  111,  143,  105,  214,  277,  370,  510,\n",
       "        214,  326,  510,    8,   12,   17,   21,   24,   34,   42,   46,\n",
       "         51,  116,  100,  140,  212,   25,   30,   41,   25,   50,   50,\n",
       "         30,   32,   38,   60,  109,    6,   11,   22,   33,   58,  130,\n",
       "         75,  113,  188,  173,  248,  405,   70,  114,  208,  307,  397,\n",
       "        915, 1150,   12,   14,   18,   21,   42,   46,   52,   67,   45], dtype=int64)"
      ]
     },
     "execution_count": 8,
     "metadata": {},
     "output_type": "execute_result"
    }
   ],
   "source": [
    "Y"
   ]
  },
  {
   "cell_type": "markdown",
   "metadata": {},
   "source": [
    "## Preprocess the Data"
   ]
  },
  {
   "cell_type": "code",
   "execution_count": 9,
   "metadata": {
    "collapsed": true
   },
   "outputs": [],
   "source": [
    "from sklearn.preprocessing import StandardScaler"
   ]
  },
  {
   "cell_type": "code",
   "execution_count": 10,
   "metadata": {
    "collapsed": true
   },
   "outputs": [],
   "source": [
    "sc_X = StandardScaler()"
   ]
  },
  {
   "cell_type": "code",
   "execution_count": 11,
   "metadata": {},
   "outputs": [
    {
     "name": "stderr",
     "output_type": "stream",
     "text": [
      "C:\\Users\\user\\Anaconda3\\lib\\site-packages\\sklearn\\utils\\validation.py:444: DataConversionWarning: Data with input dtype int64 was converted to float64 by StandardScaler.\n",
      "  warnings.warn(msg, DataConversionWarning)\n"
     ]
    }
   ],
   "source": [
    "X = sc_X.fit_transform(X)"
   ]
  },
  {
   "cell_type": "code",
   "execution_count": 12,
   "metadata": {},
   "outputs": [
    {
     "data": {
      "text/plain": [
       "array([[-0.30358614, -0.67502598, -0.49546221,  5.69420785,  1.66198873,\n",
       "         4.23103334],\n",
       "       [-0.67332952,  1.32629082,  1.72704937,  0.16762947,  0.48550899,\n",
       "         0.52947875],\n",
       "       [-0.67332952,  1.32629082,  1.72704937,  0.16762947,  0.48550899,\n",
       "         0.52947875],\n",
       "       ..., \n",
       "       [-0.30358614, -0.2243162 , -0.32449978, -0.62188173, -0.39685082,\n",
       "        -0.16456273],\n",
       "       [ 1.06369405, -0.60886675, -0.32449978,  0.16762947, -0.69097076,\n",
       "        -0.70437278],\n",
       "       [ 1.06369405, -0.48275071, -0.66642464, -0.62188173, -0.69097076,\n",
       "        -0.70437278]])"
      ]
     },
     "execution_count": 12,
     "metadata": {},
     "output_type": "execute_result"
    }
   ],
   "source": [
    "X"
   ]
  },
  {
   "cell_type": "markdown",
   "metadata": {},
   "source": [
    "## Create Train and Test Data"
   ]
  },
  {
   "cell_type": "code",
   "execution_count": 13,
   "metadata": {
    "collapsed": true
   },
   "outputs": [],
   "source": [
    "from sklearn.model_selection import train_test_split"
   ]
  },
  {
   "cell_type": "code",
   "execution_count": 14,
   "metadata": {
    "collapsed": true
   },
   "outputs": [],
   "source": [
    "X_train, X_test, Y_train, Y_test = train_test_split(X, Y, test_size = 0.2, random_state = 4)"
   ]
  },
  {
   "cell_type": "code",
   "execution_count": 15,
   "metadata": {},
   "outputs": [
    {
     "data": {
      "text/plain": [
       "(167, 6)"
      ]
     },
     "execution_count": 15,
     "metadata": {},
     "output_type": "execute_result"
    }
   ],
   "source": [
    "X_train.shape"
   ]
  },
  {
   "cell_type": "code",
   "execution_count": 16,
   "metadata": {},
   "outputs": [
    {
     "data": {
      "text/plain": [
       "(42, 6)"
      ]
     },
     "execution_count": 16,
     "metadata": {},
     "output_type": "execute_result"
    }
   ],
   "source": [
    "X_test.shape"
   ]
  },
  {
   "cell_type": "code",
   "execution_count": 17,
   "metadata": {},
   "outputs": [
    {
     "data": {
      "text/plain": [
       "(167,)"
      ]
     },
     "execution_count": 17,
     "metadata": {},
     "output_type": "execute_result"
    }
   ],
   "source": [
    "Y_train.shape"
   ]
  },
  {
   "cell_type": "code",
   "execution_count": 18,
   "metadata": {},
   "outputs": [
    {
     "data": {
      "text/plain": [
       "(42,)"
      ]
     },
     "execution_count": 18,
     "metadata": {},
     "output_type": "execute_result"
    }
   ],
   "source": [
    "Y_test.shape"
   ]
  },
  {
   "cell_type": "markdown",
   "metadata": {},
   "source": [
    "## Create and train the TensorFlow ANN Regressor"
   ]
  },
  {
   "cell_type": "code",
   "execution_count": 19,
   "metadata": {
    "collapsed": true
   },
   "outputs": [],
   "source": [
    "# Model the Linear Regression Y = W1.X1 + W2.X2 + ... + Wn.Xn + B\n",
    "# Create Weights and Biases TF Variables\n",
    "num_features = X.shape[1]\n",
    "\n",
    "W = tf.Variable(tf.zeros([num_features, 1]))\n",
    "B = tf.Variable(tf.zeros([1]))"
   ]
  },
  {
   "cell_type": "code",
   "execution_count": 20,
   "metadata": {
    "collapsed": true
   },
   "outputs": [],
   "source": [
    "# Create x and y_ placeholders for train data\n",
    "x = tf.placeholder(tf.float32, [None, num_features])\n",
    "Wx = tf.matmul(x, W)\n",
    "\n",
    "# y holds model's predicted values\n",
    "y = Wx + B\n",
    "\n",
    "# y_ is a placeholder for actual y values\n",
    "y_ = tf.placeholder(tf.float32, [None, 1])"
   ]
  },
  {
   "cell_type": "code",
   "execution_count": 21,
   "metadata": {
    "collapsed": true
   },
   "outputs": [],
   "source": [
    "# Create Cost Function\n",
    "cost = tf.reduce_mean(tf.square(y - y_))"
   ]
  },
  {
   "cell_type": "code",
   "execution_count": 22,
   "metadata": {
    "collapsed": true
   },
   "outputs": [],
   "source": [
    "# Create the optimizer which will minimize the cost\n",
    "optimizer = tf.train.GradientDescentOptimizer(0.1).minimize(cost)"
   ]
  },
  {
   "cell_type": "code",
   "execution_count": 23,
   "metadata": {},
   "outputs": [],
   "source": [
    "def trainTheData(num_steps, optimizer_to_use, batch_size):\n",
    "    init = tf.global_variables_initializer()\n",
    "    # Initialize all the Global Variables\n",
    "    \n",
    "    with tf.Session() as sess:\n",
    "        sess.run(init)\n",
    "        \n",
    "        for i in range(num_steps):\n",
    "            \n",
    "            # Calculate the starting index for a batch\n",
    "            if batch_size == len(X_train):\n",
    "                batch_start_index = 0\n",
    "            elif batch_size > len(X_train):\n",
    "                raise ValueError(\"Batch Size : \" + str(batch_size) + \", must be less than Data Size : \" + str(len(X_train)))\n",
    "            else:\n",
    "                batch_start_index = (i * batch_size) % (len(X_train) - batch_size)\n",
    "            \n",
    "            # Calculate the ending index for a batch\n",
    "            batch_end_index = batch_start_index + batch_size\n",
    "            \n",
    "            # Get the X and Y values for the batch\n",
    "            batch_X_values = X_train[batch_start_index : batch_end_index]\n",
    "            batch_Y_values = Y_train[batch_start_index : batch_end_index]\n",
    "            \n",
    "            # Create the feed dictionary to be fed into the optimizer\n",
    "            feed = {x : np.array(batch_X_values), y_ : np.transpose(np.array([batch_Y_values]))}\n",
    "            \n",
    "            sess.run(optimizer_to_use, feed_dict = feed)\n",
    "            \n",
    "            # Print out the cost and other values for every 2nd iteration\n",
    "            if (i + 1) % 2 == 0:\n",
    "                print(\"After \"+str(i)+\" Iterations, Cost : \", sess.run(cost, feed_dict = feed))\n",
    "                print(\"W : \", sess.run(W))\n",
    "                print(\"B : \", sess.run(B))\n",
    "                print(\"\")\n",
    "                \n",
    "        # Calculate the would be predicted values for test data by the model\n",
    "        Y_pred = sess.run(y, feed_dict = {x : np.array(X_test)})\n",
    "        \n",
    "        # Close the session\n",
    "        sess.close()\n",
    "        \n",
    "        # return the predicted values for Y\n",
    "        return Y_pred"
   ]
  },
  {
   "cell_type": "code",
   "execution_count": 24,
   "metadata": {},
   "outputs": [
    {
     "name": "stdout",
     "output_type": "stream",
     "text": [
      "After 1 Iterations, Cost :  9890.53\n",
      "W :  [[-10.5028429 ]\n",
      " [ 39.78395462]\n",
      " [ 36.28247452]\n",
      " [ 29.54290199]\n",
      " [ 25.2005043 ]\n",
      " [ 21.05860138]]\n",
      "B :  [ 38.05379105]\n",
      "\n",
      "After 3 Iterations, Cost :  6379.12\n",
      "W :  [[ -5.70243931]\n",
      " [ 48.58276367]\n",
      " [ 44.10777283]\n",
      " [ 31.42985916]\n",
      " [ 23.90012741]\n",
      " [ 23.05827522]]\n",
      "B :  [ 62.5527153]\n",
      "\n",
      "After 5 Iterations, Cost :  4923.72\n",
      "W :  [[ -0.94846368]\n",
      " [ 52.63629913]\n",
      " [ 48.36685562]\n",
      " [ 30.57162857]\n",
      " [ 20.51389694]\n",
      " [ 23.92304993]]\n",
      "B :  [ 78.26096344]\n",
      "\n",
      "After 7 Iterations, Cost :  4257.59\n",
      "W :  [[  2.65181327]\n",
      " [ 55.12083054]\n",
      " [ 51.71017456]\n",
      " [ 29.53013039]\n",
      " [ 17.38670731]\n",
      " [ 25.08814049]]\n",
      "B :  [ 88.34851837]\n",
      "\n",
      "After 9 Iterations, Cost :  3932.93\n",
      "W :  [[  5.30530596]\n",
      " [ 56.7100563 ]\n",
      " [ 54.51241684]\n",
      " [ 28.58181381]\n",
      " [ 14.66855431]\n",
      " [ 26.46712112]]\n",
      "B :  [ 94.8476944]\n",
      "\n",
      "After 11 Iterations, Cost :  3761.7\n",
      "W :  [[  7.26219082]\n",
      " [ 57.70975876]\n",
      " [ 56.8955307 ]\n",
      " [ 27.75656509]\n",
      " [ 12.31036472]\n",
      " [ 27.91178894]]\n",
      "B :  [ 99.05425262]\n",
      "\n",
      "After 13 Iterations, Cost :  3663.11\n",
      "W :  [[  8.71273041]\n",
      " [ 58.31158447]\n",
      " [ 58.93813705]\n",
      " [ 27.05103874]\n",
      " [ 10.25807762]\n",
      " [ 29.32608223]]\n",
      "B :  [ 101.79386902]\n",
      "\n",
      "After 15 Iterations, Cost :  3601.39\n",
      "W :  [[  9.79496193]\n",
      " [ 58.64400101]\n",
      " [ 60.70062637]\n",
      " [ 26.45460701]\n",
      " [  8.4674902 ]\n",
      " [ 30.65597343]]\n",
      "B :  [ 103.59285736]\n",
      "\n",
      "After 17 Iterations, Cost :  3560.0\n",
      "W :  [[ 10.60848331]\n",
      " [ 58.79431152]\n",
      " [ 62.23079681]\n",
      " [ 25.95453644]\n",
      " [  6.90269947]\n",
      " [ 31.87456512]]\n",
      "B :  [ 104.78692627]\n",
      "\n",
      "After 19 Iterations, Cost :  3530.82\n",
      "W :  [[ 11.22518826]\n",
      " [ 58.82213974]\n",
      " [ 63.5668335 ]\n",
      " [ 25.53791428]\n",
      " [  5.53397036]\n",
      " [ 32.97167587]]\n",
      "B :  [ 105.59041595]\n",
      "\n",
      "After 21 Iterations, Cost :  3509.55\n",
      "W :  [[ 11.69705772]\n",
      " [ 58.76834106]\n",
      " [ 64.73945618]\n",
      " [ 25.19259453]\n",
      " [  4.33621931]\n",
      " [ 33.94711304]]\n",
      "B :  [ 106.14035797]\n",
      "\n",
      "After 23 Iterations, Cost :  3493.69\n",
      "W :  [[ 12.06175613]\n",
      " [ 58.6609993 ]\n",
      " [ 65.77353668]\n",
      " [ 24.90761948]\n",
      " [  3.28798485]\n",
      " [ 34.80636597]]\n",
      "B :  [ 106.52454376]\n",
      "\n",
      "After 25 Iterations, Cost :  3481.7\n",
      "W :  [[ 12.3466444 ]\n",
      " [ 58.5194664 ]\n",
      " [ 66.68937683]\n",
      " [ 24.67335701]\n",
      " [  2.37071657]\n",
      " [ 35.55793762]]\n",
      "B :  [ 106.79933929]\n",
      "\n",
      "After 27 Iterations, Cost :  3472.55\n",
      "W :  [[ 12.57166576]\n",
      " [ 58.35709   ]\n",
      " [ 67.503685  ]\n",
      " [ 24.48149109]\n",
      " [  1.56826699]\n",
      " [ 36.21165085]]\n",
      "B :  [ 107.001091]\n",
      "\n",
      "After 29 Iterations, Cost :  3465.51\n",
      "W :  [[ 12.7514143 ]\n",
      " [ 58.18308258]\n",
      " [ 68.23029327]\n",
      " [ 24.32493401]\n",
      " [  0.86651909]\n",
      " [ 36.77764511]]\n",
      "B :  [ 107.15332794]\n",
      "\n",
      "After 31 Iterations, Cost :  3460.07\n",
      "W :  [[ 12.89661598]\n",
      " [ 58.00378799]\n",
      " [ 68.8807373 ]\n",
      " [ 24.19769859]\n",
      " [  0.2530939 ]\n",
      " [ 37.26578903]]\n",
      "B :  [ 107.27137756]\n",
      "\n",
      "After 33 Iterations, Cost :  3455.85\n",
      "W :  [[ 13.01519871]\n",
      " [ 57.82357025]\n",
      " [ 69.46472931]\n",
      " [ 24.09475136]\n",
      " [ -0.28288665]\n",
      " [ 37.68533707]]\n",
      "B :  [ 107.36532593]\n",
      "\n",
      "After 35 Iterations, Cost :  3452.55\n",
      "W :  [[ 13.11305904]\n",
      " [ 57.64539719]\n",
      " [ 69.99047852]\n",
      " [ 24.01188278]\n",
      " [ -0.75097972]\n",
      " [ 38.04478455]]\n",
      "B :  [ 107.44186401]\n",
      "\n",
      "After 37 Iterations, Cost :  3449.97\n",
      "W :  [[ 13.1946125 ]\n",
      " [ 57.47126007]\n",
      " [ 70.46496582]\n",
      " [ 23.94558716]\n",
      " [ -1.15959311]\n",
      " [ 38.35179901]]\n",
      "B :  [ 107.50549316]\n",
      "\n",
      "After 39 Iterations, Cost :  3447.94\n",
      "W :  [[ 13.26319313]\n",
      " [ 57.30247879]\n",
      " [ 70.89418793]\n",
      " [ 23.89294815]\n",
      " [ -1.5161159 ]\n",
      " [ 38.61323166]]\n",
      "B :  [ 107.55931091]\n",
      "\n",
      "After 41 Iterations, Cost :  3446.33\n",
      "W :  [[ 13.32134438]\n",
      " [ 57.1398735 ]\n",
      " [ 71.28328705]\n",
      " [ 23.85153961]\n",
      " [ -1.82704651]\n",
      " [ 38.83514786]]\n",
      "B :  [ 107.60546112]\n",
      "\n",
      "After 43 Iterations, Cost :  3445.05\n",
      "W :  [[ 13.37101364]\n",
      " [ 56.98394775]\n",
      " [ 71.63671112]\n",
      " [ 23.81936073]\n",
      " [ -2.09808445]\n",
      " [ 39.022892  ]]\n",
      "B :  [ 107.64547729]\n",
      "\n",
      "After 45 Iterations, Cost :  3444.02\n",
      "W :  [[ 13.41372013]\n",
      " [ 56.83494949]\n",
      " [ 71.95833588]\n",
      " [ 23.79474449]\n",
      " [ -2.33424234]\n",
      " [ 39.18115234]]\n",
      "B :  [ 107.68048859]\n",
      "\n",
      "After 47 Iterations, Cost :  3443.2\n",
      "W :  [[ 13.45065403]\n",
      " [ 56.69296265]\n",
      " [ 72.25154114]\n",
      " [ 23.77631569]\n",
      " [ -2.53991485]\n",
      " [ 39.31401825]]\n",
      "B :  [ 107.71134186]\n",
      "\n",
      "After 49 Iterations, Cost :  3442.54\n",
      "W :  [[ 13.48275948]\n",
      " [ 56.55794525]\n",
      " [ 72.51927185]\n",
      " [ 23.76292992]\n",
      " [ -2.71895623]\n",
      " [ 39.42505646]]\n",
      "B :  [ 107.73868561]\n",
      "\n",
      "After 51 Iterations, Cost :  3442.0\n",
      "W :  [[ 13.51079464]\n",
      " [ 56.42978668]\n",
      " [ 72.76412201]\n",
      " [ 23.75364685]\n",
      " [ -2.87474346]\n",
      " [ 39.51736069]]\n",
      "B :  [ 107.76302338]\n",
      "\n",
      "After 53 Iterations, Cost :  3441.56\n",
      "W :  [[ 13.53537083]\n",
      " [ 56.30831528]\n",
      " [ 72.98838043]\n",
      " [ 23.74769211]\n",
      " [ -3.01023102]\n",
      " [ 39.5936203 ]]\n",
      "B :  [ 107.78477478]\n",
      "\n",
      "After 55 Iterations, Cost :  3441.19\n",
      "W :  [[ 13.55699158]\n",
      " [ 56.19330978]\n",
      " [ 73.19405365]\n",
      " [ 23.74441528]\n",
      " [ -3.12801075]\n",
      " [ 39.65616226]]\n",
      "B :  [ 107.80426788]\n",
      "\n",
      "After 57 Iterations, Cost :  3440.89\n",
      "W :  [[ 13.57606983]\n",
      " [ 56.08454132]\n",
      " [ 73.38294983]\n",
      " [ 23.74328995]\n",
      " [ -3.23034406]\n",
      " [ 39.70700073]]\n",
      "B :  [ 107.82178497]\n",
      "\n",
      "After 59 Iterations, Cost :  3440.65\n",
      "W :  [[ 13.59295368]\n",
      " [ 55.9817543 ]\n",
      " [ 73.55664062]\n",
      " [ 23.7438736 ]\n",
      " [ -3.31921577]\n",
      " [ 39.74787521]]\n",
      "B :  [ 107.83757019]\n",
      "\n",
      "After 61 Iterations, Cost :  3440.44\n",
      "W :  [[ 13.60793114]\n",
      " [ 55.88468933]\n",
      " [ 73.71655273]\n",
      " [ 23.74580574]\n",
      " [ -3.39635491]\n",
      " [ 39.7802887 ]]\n",
      "B :  [ 107.85182953]\n",
      "\n",
      "After 63 Iterations, Cost :  3440.26\n",
      "W :  [[ 13.62125015]\n",
      " [ 55.79307938]\n",
      " [ 73.86393738]\n",
      " [ 23.74878883]\n",
      " [ -3.46327519]\n",
      " [ 39.80553436]]\n",
      "B :  [ 107.86472321]\n",
      "\n",
      "After 65 Iterations, Cost :  3440.12\n",
      "W :  [[ 13.63311768]\n",
      " [ 55.70667648]\n",
      " [ 73.99991608]\n",
      " [ 23.75257683]\n",
      " [ -3.52129698]\n",
      " [ 39.8247261 ]]\n",
      "B :  [ 107.87641144]\n",
      "\n",
      "After 67 Iterations, Cost :  3439.99\n",
      "W :  [[ 13.64371204]\n",
      " [ 55.62521744]\n",
      " [ 74.12550354]\n",
      " [ 23.75696945]\n",
      " [ -3.57157159]\n",
      " [ 39.83882141]]\n",
      "B :  [ 107.88702393]\n",
      "\n",
      "After 69 Iterations, Cost :  3439.89\n",
      "W :  [[ 13.65318871]\n",
      " [ 55.54844666]\n",
      " [ 74.2416153 ]\n",
      " [ 23.76180077]\n",
      " [ -3.61510873]\n",
      " [ 39.84864426]]\n",
      "B :  [ 107.89668274]\n",
      "\n",
      "After 71 Iterations, Cost :  3439.8\n",
      "W :  [[ 13.66168213]\n",
      " [ 55.47612762]\n",
      " [ 74.34905243]\n",
      " [ 23.76693916]\n",
      " [ -3.65278411]\n",
      " [ 39.85490417]]\n",
      "B :  [ 107.90547943]\n",
      "\n",
      "After 73 Iterations, Cost :  3439.72\n",
      "W :  [[ 13.66930389]\n",
      " [ 55.40802383]\n",
      " [ 74.44854736]\n",
      " [ 23.77227402]\n",
      " [ -3.68536329]\n",
      " [ 39.85820007]]\n",
      "B :  [ 107.91349792]\n",
      "\n",
      "After 75 Iterations, Cost :  3439.65\n",
      "W :  [[ 13.67615604]\n",
      " [ 55.34391022]\n",
      " [ 74.54077148]\n",
      " [ 23.77771568]\n",
      " [ -3.71351409]\n",
      " [ 39.85905075]]\n",
      "B :  [ 107.92082214]\n",
      "\n",
      "After 77 Iterations, Cost :  3439.59\n",
      "W :  [[ 13.68232727]\n",
      " [ 55.28356934]\n",
      " [ 74.62631226]\n",
      " [ 23.7831955 ]\n",
      " [ -3.737818  ]\n",
      " [ 39.85789871]]\n",
      "B :  [ 107.92752838]\n",
      "\n",
      "After 79 Iterations, Cost :  3439.55\n",
      "W :  [[ 13.68789196]\n",
      " [ 55.22679138]\n",
      " [ 74.70571899]\n",
      " [ 23.78865433]\n",
      " [ -3.75878048]\n",
      " [ 39.85512543]]\n",
      "B :  [ 107.93367004]\n",
      "\n",
      "After 81 Iterations, Cost :  3439.5\n",
      "W :  [[ 13.69291973]\n",
      " [ 55.17337799]\n",
      " [ 74.77947998]\n",
      " [ 23.7940464 ]\n",
      " [ -3.7768445 ]\n",
      " [ 39.8510437 ]]\n",
      "B :  [ 107.93930054]\n",
      "\n",
      "After 83 Iterations, Cost :  3439.47\n",
      "W :  [[ 13.69746685]\n",
      " [ 55.12313843]\n",
      " [ 74.84803772]\n",
      " [ 23.79933929]\n",
      " [ -3.79239368]\n",
      " [ 39.84593201]]\n",
      "B :  [ 107.94447327]\n",
      "\n",
      "After 85 Iterations, Cost :  3439.43\n",
      "W :  [[ 13.70158577]\n",
      " [ 55.07589722]\n",
      " [ 74.9118042 ]\n",
      " [ 23.80450249]\n",
      " [ -3.8057611 ]\n",
      " [ 39.84001923]]\n",
      "B :  [ 107.94922638]\n",
      "\n",
      "After 87 Iterations, Cost :  3439.41\n",
      "W :  [[ 13.70532227]\n",
      " [ 55.03147888]\n",
      " [ 74.97114563]\n",
      " [ 23.80951881]\n",
      " [ -3.81723857]\n",
      " [ 39.83349609]]\n",
      "B :  [ 107.95360565]\n",
      "\n",
      "After 89 Iterations, Cost :  3439.38\n",
      "W :  [[ 13.70871639]\n",
      " [ 54.98972702]\n",
      " [ 75.02639771]\n",
      " [ 23.81437111]\n",
      " [ -3.82707882]\n",
      " [ 39.82653046]]\n",
      "B :  [ 107.9576416]\n",
      "\n",
      "After 91 Iterations, Cost :  3439.36\n",
      "W :  [[ 13.71180534]\n",
      " [ 54.95048141]\n",
      " [ 75.07787323]\n",
      " [ 23.81904793]\n",
      " [ -3.83550239]\n",
      " [ 39.81925964]]\n",
      "B :  [ 107.96136475]\n",
      "\n",
      "After 93 Iterations, Cost :  3439.34\n",
      "W :  [[ 13.71461868]\n",
      " [ 54.91360092]\n",
      " [ 75.12583923]\n",
      " [ 23.82354355]\n",
      " [ -3.8427012 ]\n",
      " [ 39.81179428]]\n",
      "B :  [ 107.9648056]\n",
      "\n",
      "After 95 Iterations, Cost :  3439.32\n",
      "W :  [[ 13.71718502]\n",
      " [ 54.8789444 ]\n",
      " [ 75.17056274]\n",
      " [ 23.82785416]\n",
      " [ -3.84884   ]\n",
      " [ 39.80423355]]\n",
      "B :  [ 107.96797943]\n",
      "\n",
      "After 97 Iterations, Cost :  3439.31\n",
      "W :  [[ 13.7195282 ]\n",
      " [ 54.84638596]\n",
      " [ 75.2122879 ]\n",
      " [ 23.83197975]\n",
      " [ -3.8540628 ]\n",
      " [ 39.79665375]]\n",
      "B :  [ 107.97092438]\n",
      "\n",
      "After 99 Iterations, Cost :  3439.3\n",
      "W :  [[ 13.72167206]\n",
      " [ 54.8157959 ]\n",
      " [ 75.25122833]\n",
      " [ 23.83591843]\n",
      " [ -3.85849714]\n",
      " [ 39.78911972]]\n",
      "B :  [ 107.97364807]\n",
      "\n",
      "After 101 Iterations, Cost :  3439.29\n",
      "W :  [[ 13.72363567]\n",
      " [ 54.78705597]\n",
      " [ 75.28757477]\n",
      " [ 23.83967209]\n",
      " [ -3.86225152]\n",
      " [ 39.78168106]]\n",
      "B :  [ 107.97616577]\n",
      "\n",
      "After 103 Iterations, Cost :  3439.28\n",
      "W :  [[ 13.72543526]\n",
      " [ 54.76006699]\n",
      " [ 75.32151794]\n",
      " [ 23.84324646]\n",
      " [ -3.86541724]\n",
      " [ 39.77438354]]\n",
      "B :  [ 107.978508]\n",
      "\n",
      "After 105 Iterations, Cost :  3439.27\n",
      "W :  [[ 13.72708702]\n",
      " [ 54.73471451]\n",
      " [ 75.35322571]\n",
      " [ 23.84664345]\n",
      " [ -3.86807942]\n",
      " [ 39.76725388]]\n",
      "B :  [ 107.98068237]\n",
      "\n",
      "After 107 Iterations, Cost :  3439.26\n",
      "W :  [[ 13.72860527]\n",
      " [ 54.71090317]\n",
      " [ 75.38285828]\n",
      " [ 23.84986877]\n",
      " [ -3.87030697]\n",
      " [ 39.76032257]]\n",
      "B :  [ 107.98270416]\n",
      "\n",
      "After 109 Iterations, Cost :  3439.25\n",
      "W :  [[ 13.73000145]\n",
      " [ 54.68854141]\n",
      " [ 75.41055298]\n",
      " [ 23.85292816]\n",
      " [ -3.87216187]\n",
      " [ 39.7536087 ]]\n",
      "B :  [ 107.98457336]\n",
      "\n",
      "After 111 Iterations, Cost :  3439.25\n",
      "W :  [[ 13.73128605]\n",
      " [ 54.66754532]\n",
      " [ 75.43643951]\n",
      " [ 23.85582733]\n",
      " [ -3.873698  ]\n",
      " [ 39.74712753]]\n",
      "B :  [ 107.98631287]\n",
      "\n",
      "After 113 Iterations, Cost :  3439.24\n",
      "W :  [[ 13.73247051]\n",
      " [ 54.64783478]\n",
      " [ 75.46065521]\n",
      " [ 23.85857201]\n",
      " [ -3.87495947]\n",
      " [ 39.74088669]]\n",
      "B :  [ 107.9879303]\n",
      "\n",
      "After 115 Iterations, Cost :  3439.24\n",
      "W :  [[ 13.73356438]\n",
      " [ 54.62932587]\n",
      " [ 75.48329926]\n",
      " [ 23.86116791]\n",
      " [ -3.87599063]\n",
      " [ 39.73488998]]\n"
     ]
    },
    {
     "name": "stdout",
     "output_type": "stream",
     "text": [
      "B :  [ 107.98944092]\n",
      "\n",
      "After 117 Iterations, Cost :  3439.24\n",
      "W :  [[ 13.73457527]\n",
      " [ 54.61194992]\n",
      " [ 75.50448608]\n",
      " [ 23.86362267]\n",
      " [ -3.87682223]\n",
      " [ 39.72914505]]\n",
      "B :  [ 107.99084473]\n",
      "\n",
      "After 119 Iterations, Cost :  3439.23\n",
      "W :  [[ 13.73550892]\n",
      " [ 54.59563828]\n",
      " [ 75.52431488]\n",
      " [ 23.86594009]\n",
      " [ -3.87748456]\n",
      " [ 39.72364426]]\n",
      "B :  [ 107.99215698]\n",
      "\n",
      "After 121 Iterations, Cost :  3439.23\n",
      "W :  [[ 13.73637295]\n",
      " [ 54.58032227]\n",
      " [ 75.54286957]\n",
      " [ 23.86812782]\n",
      " [ -3.87800312]\n",
      " [ 39.71839523]]\n",
      "B :  [ 107.99337769]\n",
      "\n",
      "After 123 Iterations, Cost :  3439.23\n",
      "W :  [[ 13.73717213]\n",
      " [ 54.56594849]\n",
      " [ 75.5602417 ]\n",
      " [ 23.87019539]\n",
      " [ -3.8783989 ]\n",
      " [ 39.71339035]]\n",
      "B :  [ 107.99451447]\n",
      "\n",
      "After 125 Iterations, Cost :  3439.22\n",
      "W :  [[ 13.73791409]\n",
      " [ 54.55245209]\n",
      " [ 75.57649994]\n",
      " [ 23.87214279]\n",
      " [ -3.87869382]\n",
      " [ 39.70862198]]\n",
      "B :  [ 107.99558258]\n",
      "\n",
      "After 127 Iterations, Cost :  3439.22\n",
      "W :  [[ 13.73860168]\n",
      " [ 54.53978729]\n",
      " [ 75.59173584]\n",
      " [ 23.87397957]\n",
      " [ -3.8789022 ]\n",
      " [ 39.7040863 ]]\n",
      "B :  [ 107.9965744]\n",
      "\n",
      "After 129 Iterations, Cost :  3439.22\n",
      "W :  [[ 13.73923969]\n",
      " [ 54.52789688]\n",
      " [ 75.60599518]\n",
      " [ 23.87570953]\n",
      " [ -3.87903905]\n",
      " [ 39.69977951]]\n",
      "B :  [ 107.99750519]\n",
      "\n",
      "After 131 Iterations, Cost :  3439.22\n",
      "W :  [[ 13.73983288]\n",
      " [ 54.51673508]\n",
      " [ 75.61935425]\n",
      " [ 23.87734032]\n",
      " [ -3.87911558]\n",
      " [ 39.69569397]]\n",
      "B :  [ 107.99837494]\n",
      "\n",
      "After 133 Iterations, Cost :  3439.22\n",
      "W :  [[ 13.74038315]\n",
      " [ 54.50625992]\n",
      " [ 75.63187408]\n",
      " [ 23.87887764]\n",
      " [ -3.87914181]\n",
      " [ 39.69181824]]\n",
      "B :  [ 107.99918365]\n",
      "\n",
      "After 135 Iterations, Cost :  3439.22\n",
      "W :  [[ 13.74089527]\n",
      " [ 54.49642563]\n",
      " [ 75.64360046]\n",
      " [ 23.8803215 ]\n",
      " [ -3.87912846]\n",
      " [ 39.68814468]]\n",
      "B :  [ 107.99993134]\n",
      "\n",
      "After 137 Iterations, Cost :  3439.21\n",
      "W :  [[ 13.74137211]\n",
      " [ 54.48719788]\n",
      " [ 75.65458679]\n",
      " [ 23.88168335]\n",
      " [ -3.87908149]\n",
      " [ 39.68466949]]\n",
      "B :  [ 108.00064087]\n",
      "\n",
      "After 139 Iterations, Cost :  3439.21\n",
      "W :  [[ 13.74181557]\n",
      " [ 54.47853851]\n",
      " [ 75.66487885]\n",
      " [ 23.88296509]\n",
      " [ -3.87900639]\n",
      " [ 39.68138504]]\n",
      "B :  [ 108.001297]\n",
      "\n",
      "After 141 Iterations, Cost :  3439.21\n",
      "W :  [[ 13.74222851]\n",
      " [ 54.47040939]\n",
      " [ 75.6745224 ]\n",
      " [ 23.88417053]\n",
      " [ -3.87891221]\n",
      " [ 39.67827988]]\n",
      "B :  [ 108.00191498]\n",
      "\n",
      "After 143 Iterations, Cost :  3439.21\n",
      "W :  [[ 13.74261284]\n",
      " [ 54.46278   ]\n",
      " [ 75.68356323]\n",
      " [ 23.8853054 ]\n",
      " [ -3.87880039]\n",
      " [ 39.67534637]]\n",
      "B :  [ 108.00248718]\n",
      "\n",
      "After 145 Iterations, Cost :  3439.21\n",
      "W :  [[ 13.74297237]\n",
      " [ 54.45562363]\n",
      " [ 75.69203186]\n",
      " [ 23.88637161]\n",
      " [ -3.87867618]\n",
      " [ 39.6725769 ]]\n",
      "B :  [ 108.00302887]\n",
      "\n",
      "After 147 Iterations, Cost :  3439.21\n",
      "W :  [[ 13.74330616]\n",
      " [ 54.44890976]\n",
      " [ 75.69997406]\n",
      " [ 23.88737488]\n",
      " [ -3.87854242]\n",
      " [ 39.66996002]]\n",
      "B :  [ 108.00354004]\n",
      "\n",
      "After 149 Iterations, Cost :  3439.21\n",
      "W :  [[ 13.74361801]\n",
      " [ 54.44260788]\n",
      " [ 75.70742035]\n",
      " [ 23.88831711]\n",
      " [ -3.87840223]\n",
      " [ 39.66749191]]\n",
      "B :  [ 108.00401306]\n",
      "\n"
     ]
    }
   ],
   "source": [
    "Y_pred = trainTheData(150, optimizer, len(X_train))"
   ]
  },
  {
   "cell_type": "code",
   "execution_count": 25,
   "metadata": {
    "scrolled": true
   },
   "outputs": [
    {
     "data": {
      "text/plain": [
       "array([[ 200.35064697],\n",
       "       [ 228.77294922],\n",
       "       [  57.79123688],\n",
       "       [  -3.39061737],\n",
       "       [ 283.92956543],\n",
       "       [ 324.83172607],\n",
       "       [  43.55577087],\n",
       "       [  -3.13371277],\n",
       "       [ 122.23786926],\n",
       "       [ 248.77929688],\n",
       "       [ 217.50112915],\n",
       "       [   2.39854431],\n",
       "       [ -19.27331543],\n",
       "       [  18.5236969 ],\n",
       "       [  20.91769409],\n",
       "       [ 231.92678833],\n",
       "       [  83.50999451],\n",
       "       [ 787.66046143],\n",
       "       [ 372.12744141],\n",
       "       [   5.77098083],\n",
       "       [ -34.20420837],\n",
       "       [   8.77597046],\n",
       "       [ 271.27770996],\n",
       "       [  32.35202026],\n",
       "       [ 283.92956543],\n",
       "       [ -14.95013428],\n",
       "       [  35.23656464],\n",
       "       [  36.28730774],\n",
       "       [ 111.25990295],\n",
       "       [ -13.27415466],\n",
       "       [  41.39196777],\n",
       "       [ 118.7695694 ],\n",
       "       [  95.28335571],\n",
       "       [  25.75640869],\n",
       "       [  10.56394958],\n",
       "       [  99.65618134],\n",
       "       [ 451.37011719],\n",
       "       [  30.66970825],\n",
       "       [  43.41369629],\n",
       "       [  79.02217865],\n",
       "       [  33.15346527],\n",
       "       [  -3.5027771 ]], dtype=float32)"
      ]
     },
     "execution_count": 25,
     "metadata": {},
     "output_type": "execute_result"
    }
   ],
   "source": [
    "Y_pred"
   ]
  },
  {
   "cell_type": "markdown",
   "metadata": {},
   "source": [
    "## Check the Relevant Metrics for the Linear Regression Model"
   ]
  },
  {
   "cell_type": "code",
   "execution_count": 26,
   "metadata": {
    "collapsed": true
   },
   "outputs": [],
   "source": [
    "from sklearn.metrics import mean_squared_error, r2_score"
   ]
  },
  {
   "cell_type": "code",
   "execution_count": 27,
   "metadata": {},
   "outputs": [
    {
     "data": {
      "text/plain": [
       "3904.0793229793962"
      ]
     },
     "execution_count": 27,
     "metadata": {},
     "output_type": "execute_result"
    }
   ],
   "source": [
    "mean_squared_error(Y_pred, Y_test)"
   ]
  },
  {
   "cell_type": "code",
   "execution_count": 28,
   "metadata": {},
   "outputs": [
    {
     "data": {
      "text/plain": [
       "0.84571706626839849"
      ]
     },
     "execution_count": 28,
     "metadata": {},
     "output_type": "execute_result"
    }
   ],
   "source": [
    "r2_score(Y_pred, Y_test)"
   ]
  }
 ],
 "metadata": {
  "kernelspec": {
   "display_name": "Python [default]",
   "language": "python",
   "name": "python3"
  },
  "language_info": {
   "codemirror_mode": {
    "name": "ipython",
    "version": 3
   },
   "file_extension": ".py",
   "mimetype": "text/x-python",
   "name": "python",
   "nbconvert_exporter": "python",
   "pygments_lexer": "ipython3",
   "version": "3.5.4"
  }
 },
 "nbformat": 4,
 "nbformat_minor": 2
}
