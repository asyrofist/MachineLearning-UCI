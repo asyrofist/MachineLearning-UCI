{
 "cells": [
  {
   "cell_type": "markdown",
   "metadata": {},
   "source": [
    "## Initialization"
   ]
  },
  {
   "cell_type": "code",
   "execution_count": 1,
   "metadata": {},
   "outputs": [
    {
     "name": "stderr",
     "output_type": "stream",
     "text": [
      "Using Theano backend.\n"
     ]
    }
   ],
   "source": [
    "import pandas as pd\n",
    "import numpy as np\n",
    "import keras"
   ]
  },
  {
   "cell_type": "markdown",
   "metadata": {},
   "source": [
    "## Importing the Data"
   ]
  },
  {
   "cell_type": "code",
   "execution_count": 2,
   "metadata": {},
   "outputs": [
    {
     "data": {
      "text/plain": [
       "(9568, 5)"
      ]
     },
     "execution_count": 2,
     "metadata": {},
     "output_type": "execute_result"
    }
   ],
   "source": [
    "dataset = pd.read_excel('Folds5x2_pp.xlsx')\n",
    "dataset.shape"
   ]
  },
  {
   "cell_type": "code",
   "execution_count": 3,
   "metadata": {},
   "outputs": [
    {
     "data": {
      "text/html": [
       "<div>\n",
       "<style>\n",
       "    .dataframe thead tr:only-child th {\n",
       "        text-align: right;\n",
       "    }\n",
       "\n",
       "    .dataframe thead th {\n",
       "        text-align: left;\n",
       "    }\n",
       "\n",
       "    .dataframe tbody tr th {\n",
       "        vertical-align: top;\n",
       "    }\n",
       "</style>\n",
       "<table border=\"1\" class=\"dataframe\">\n",
       "  <thead>\n",
       "    <tr style=\"text-align: right;\">\n",
       "      <th></th>\n",
       "      <th>AT</th>\n",
       "      <th>V</th>\n",
       "      <th>AP</th>\n",
       "      <th>RH</th>\n",
       "      <th>PE</th>\n",
       "    </tr>\n",
       "  </thead>\n",
       "  <tbody>\n",
       "    <tr>\n",
       "      <th>0</th>\n",
       "      <td>14.96</td>\n",
       "      <td>41.76</td>\n",
       "      <td>1024.07</td>\n",
       "      <td>73.17</td>\n",
       "      <td>463.26</td>\n",
       "    </tr>\n",
       "    <tr>\n",
       "      <th>1</th>\n",
       "      <td>25.18</td>\n",
       "      <td>62.96</td>\n",
       "      <td>1020.04</td>\n",
       "      <td>59.08</td>\n",
       "      <td>444.37</td>\n",
       "    </tr>\n",
       "    <tr>\n",
       "      <th>2</th>\n",
       "      <td>5.11</td>\n",
       "      <td>39.40</td>\n",
       "      <td>1012.16</td>\n",
       "      <td>92.14</td>\n",
       "      <td>488.56</td>\n",
       "    </tr>\n",
       "    <tr>\n",
       "      <th>3</th>\n",
       "      <td>20.86</td>\n",
       "      <td>57.32</td>\n",
       "      <td>1010.24</td>\n",
       "      <td>76.64</td>\n",
       "      <td>446.48</td>\n",
       "    </tr>\n",
       "    <tr>\n",
       "      <th>4</th>\n",
       "      <td>10.82</td>\n",
       "      <td>37.50</td>\n",
       "      <td>1009.23</td>\n",
       "      <td>96.62</td>\n",
       "      <td>473.90</td>\n",
       "    </tr>\n",
       "  </tbody>\n",
       "</table>\n",
       "</div>"
      ],
      "text/plain": [
       "      AT      V       AP     RH      PE\n",
       "0  14.96  41.76  1024.07  73.17  463.26\n",
       "1  25.18  62.96  1020.04  59.08  444.37\n",
       "2   5.11  39.40  1012.16  92.14  488.56\n",
       "3  20.86  57.32  1010.24  76.64  446.48\n",
       "4  10.82  37.50  1009.23  96.62  473.90"
      ]
     },
     "execution_count": 3,
     "metadata": {},
     "output_type": "execute_result"
    }
   ],
   "source": [
    "dataset.head()"
   ]
  },
  {
   "cell_type": "markdown",
   "metadata": {},
   "source": [
    "## Create X and Y"
   ]
  },
  {
   "cell_type": "code",
   "execution_count": 4,
   "metadata": {
    "collapsed": true
   },
   "outputs": [],
   "source": [
    "X = dataset.iloc[:, 0:4].values\n",
    "Y = dataset.iloc[:, 4].values"
   ]
  },
  {
   "cell_type": "code",
   "execution_count": 5,
   "metadata": {},
   "outputs": [
    {
     "data": {
      "text/plain": [
       "(9568, 4)"
      ]
     },
     "execution_count": 5,
     "metadata": {},
     "output_type": "execute_result"
    }
   ],
   "source": [
    "X.shape"
   ]
  },
  {
   "cell_type": "code",
   "execution_count": 6,
   "metadata": {},
   "outputs": [
    {
     "data": {
      "text/plain": [
       "(9568,)"
      ]
     },
     "execution_count": 6,
     "metadata": {},
     "output_type": "execute_result"
    }
   ],
   "source": [
    "Y.shape"
   ]
  },
  {
   "cell_type": "code",
   "execution_count": 7,
   "metadata": {},
   "outputs": [
    {
     "data": {
      "text/plain": [
       "array([[   14.96,    41.76,  1024.07,    73.17],\n",
       "       [   25.18,    62.96,  1020.04,    59.08],\n",
       "       [    5.11,    39.4 ,  1012.16,    92.14],\n",
       "       ..., \n",
       "       [   31.32,    74.33,  1012.92,    36.48],\n",
       "       [   24.48,    69.45,  1013.86,    62.39],\n",
       "       [   21.6 ,    62.52,  1017.23,    67.87]])"
      ]
     },
     "execution_count": 7,
     "metadata": {},
     "output_type": "execute_result"
    }
   ],
   "source": [
    "X"
   ]
  },
  {
   "cell_type": "code",
   "execution_count": 8,
   "metadata": {},
   "outputs": [
    {
     "data": {
      "text/plain": [
       "array([ 463.26,  444.37,  488.56, ...,  429.57,  435.74,  453.28])"
      ]
     },
     "execution_count": 8,
     "metadata": {},
     "output_type": "execute_result"
    }
   ],
   "source": [
    "Y"
   ]
  },
  {
   "cell_type": "markdown",
   "metadata": {},
   "source": [
    "## Preprocess the Data"
   ]
  },
  {
   "cell_type": "code",
   "execution_count": 9,
   "metadata": {
    "collapsed": true
   },
   "outputs": [],
   "source": [
    "from sklearn.preprocessing import StandardScaler"
   ]
  },
  {
   "cell_type": "code",
   "execution_count": 10,
   "metadata": {
    "collapsed": true
   },
   "outputs": [],
   "source": [
    "sc_X = StandardScaler()"
   ]
  },
  {
   "cell_type": "code",
   "execution_count": 11,
   "metadata": {
    "collapsed": true
   },
   "outputs": [],
   "source": [
    "X = sc_X.fit_transform(X)"
   ]
  },
  {
   "cell_type": "code",
   "execution_count": 12,
   "metadata": {},
   "outputs": [
    {
     "data": {
      "text/plain": [
       "array([[-0.62951938, -0.98729659,  1.8204884 , -0.00951935],\n",
       "       [ 0.74190911,  0.68104512,  1.1418628 , -0.97462052],\n",
       "       [-1.95129733, -1.17301765, -0.18507756,  1.2898397 ],\n",
       "       ..., \n",
       "       [ 1.56583973,  1.57581141, -0.05709854, -2.52261812],\n",
       "       [ 0.64797565,  1.19177803,  0.1011913 , -0.74790051],\n",
       "       [ 0.26150656,  0.64641916,  0.66867722, -0.37254534]])"
      ]
     },
     "execution_count": 12,
     "metadata": {},
     "output_type": "execute_result"
    }
   ],
   "source": [
    "X"
   ]
  },
  {
   "cell_type": "markdown",
   "metadata": {},
   "source": [
    "## Create Train and Test Data"
   ]
  },
  {
   "cell_type": "code",
   "execution_count": 13,
   "metadata": {
    "collapsed": true
   },
   "outputs": [],
   "source": [
    "from sklearn.model_selection import train_test_split"
   ]
  },
  {
   "cell_type": "code",
   "execution_count": 14,
   "metadata": {
    "collapsed": true
   },
   "outputs": [],
   "source": [
    "X_train, X_test, Y_train, Y_test = train_test_split(X, Y, test_size = 0.2, random_state = 4)"
   ]
  },
  {
   "cell_type": "code",
   "execution_count": 15,
   "metadata": {},
   "outputs": [
    {
     "data": {
      "text/plain": [
       "(7654, 4)"
      ]
     },
     "execution_count": 15,
     "metadata": {},
     "output_type": "execute_result"
    }
   ],
   "source": [
    "X_train.shape"
   ]
  },
  {
   "cell_type": "code",
   "execution_count": 16,
   "metadata": {},
   "outputs": [
    {
     "data": {
      "text/plain": [
       "(1914, 4)"
      ]
     },
     "execution_count": 16,
     "metadata": {},
     "output_type": "execute_result"
    }
   ],
   "source": [
    "X_test.shape"
   ]
  },
  {
   "cell_type": "code",
   "execution_count": 17,
   "metadata": {},
   "outputs": [
    {
     "data": {
      "text/plain": [
       "(7654,)"
      ]
     },
     "execution_count": 17,
     "metadata": {},
     "output_type": "execute_result"
    }
   ],
   "source": [
    "Y_train.shape"
   ]
  },
  {
   "cell_type": "code",
   "execution_count": 18,
   "metadata": {},
   "outputs": [
    {
     "data": {
      "text/plain": [
       "(1914,)"
      ]
     },
     "execution_count": 18,
     "metadata": {},
     "output_type": "execute_result"
    }
   ],
   "source": [
    "Y_test.shape"
   ]
  },
  {
   "cell_type": "markdown",
   "metadata": {},
   "source": [
    "## Create and train the ANN Regressor"
   ]
  },
  {
   "cell_type": "code",
   "execution_count": 19,
   "metadata": {
    "collapsed": true
   },
   "outputs": [],
   "source": [
    "from keras.models import Sequential\n",
    "from keras.layers import Dense"
   ]
  },
  {
   "cell_type": "code",
   "execution_count": 20,
   "metadata": {},
   "outputs": [
    {
     "name": "stderr",
     "output_type": "stream",
     "text": [
      "C:\\Users\\user\\Anaconda3\\lib\\site-packages\\ipykernel\\__main__.py:4: UserWarning: Update your `Dense` call to the Keras 2 API: `Dense(kernel_initializer=\"uniform\", units=64, input_dim=4, activation=\"relu\")`\n",
      "C:\\Users\\user\\Anaconda3\\lib\\site-packages\\ipykernel\\__main__.py:12: UserWarning: Update your `Dense` call to the Keras 2 API: `Dense(units=1, kernel_initializer=\"uniform\")`\n",
      "C:\\Users\\user\\Anaconda3\\lib\\site-packages\\keras\\models.py:844: UserWarning: The `nb_epoch` argument in `fit` has been renamed `epochs`.\n",
      "  warnings.warn('The `nb_epoch` argument in `fit` '\n"
     ]
    },
    {
     "name": "stdout",
     "output_type": "stream",
     "text": [
      "Epoch 1/100\n",
      "7654/7654 [==============================] - 0s - loss: 132245.3959     \n",
      "Epoch 2/100\n",
      "7654/7654 [==============================] - 0s - loss: 17453.8293     \n",
      "Epoch 3/100\n",
      "7654/7654 [==============================] - 0s - loss: 4334.1073     \n",
      "Epoch 4/100\n",
      "7654/7654 [==============================] - 0s - loss: 487.7196     \n",
      "Epoch 5/100\n",
      "7654/7654 [==============================] - 0s - loss: 59.7128     \n",
      "Epoch 6/100\n",
      "7654/7654 [==============================] - 0s - loss: 24.6979     \n",
      "Epoch 7/100\n",
      "7654/7654 [==============================] - 0s - loss: 21.2363     \n",
      "Epoch 8/100\n",
      "7654/7654 [==============================] - 0s - loss: 20.6876     \n",
      "Epoch 9/100\n",
      "7654/7654 [==============================] - 0s - loss: 20.3010     \n",
      "Epoch 10/100\n",
      "7654/7654 [==============================] - 0s - loss: 20.1631     \n",
      "Epoch 11/100\n",
      "7654/7654 [==============================] - 0s - loss: 19.8953     \n",
      "Epoch 12/100\n",
      "7654/7654 [==============================] - 0s - loss: 19.8169     \n",
      "Epoch 13/100\n",
      "7654/7654 [==============================] - 0s - loss: 19.7070     \n",
      "Epoch 14/100\n",
      "7654/7654 [==============================] - 0s - loss: 19.7053     \n",
      "Epoch 15/100\n",
      "7654/7654 [==============================] - 0s - loss: 19.6444     \n",
      "Epoch 16/100\n",
      "7654/7654 [==============================] - 0s - loss: 19.7169     \n",
      "Epoch 17/100\n",
      "7654/7654 [==============================] - 0s - loss: 19.5578     \n",
      "Epoch 18/100\n",
      "7654/7654 [==============================] - 0s - loss: 19.4141     \n",
      "Epoch 19/100\n",
      "7654/7654 [==============================] - 0s - loss: 19.5259     \n",
      "Epoch 20/100\n",
      "7654/7654 [==============================] - 0s - loss: 19.5048     \n",
      "Epoch 21/100\n",
      "7654/7654 [==============================] - 0s - loss: 19.4400     \n",
      "Epoch 22/100\n",
      "7654/7654 [==============================] - 0s - loss: 19.4895     \n",
      "Epoch 23/100\n",
      "7654/7654 [==============================] - 0s - loss: 19.3900     \n",
      "Epoch 24/100\n",
      "7654/7654 [==============================] - 0s - loss: 19.4821      ETA: 0s - loss: 19.42\n",
      "Epoch 25/100\n",
      "7654/7654 [==============================] - 0s - loss: 19.4477     \n",
      "Epoch 26/100\n",
      "7654/7654 [==============================] - 0s - loss: 19.3315     \n",
      "Epoch 27/100\n",
      "7654/7654 [==============================] - 0s - loss: 19.3186     \n",
      "Epoch 28/100\n",
      "7654/7654 [==============================] - 0s - loss: 19.2971     \n",
      "Epoch 29/100\n",
      "7654/7654 [==============================] - 0s - loss: 19.2715      ETA: 0s - loss: 1\n",
      "Epoch 30/100\n",
      "7654/7654 [==============================] - 0s - loss: 19.1947     \n",
      "Epoch 31/100\n",
      "7654/7654 [==============================] - 0s - loss: 19.2545     \n",
      "Epoch 32/100\n",
      "7654/7654 [==============================] - 0s - loss: 19.3208     \n",
      "Epoch 33/100\n",
      "7654/7654 [==============================] - 0s - loss: 19.1927     \n",
      "Epoch 34/100\n",
      "7654/7654 [==============================] - 0s - loss: 19.2575     \n",
      "Epoch 35/100\n",
      "7654/7654 [==============================] - 0s - loss: 19.2619      ETA: 0s - loss: 1\n",
      "Epoch 36/100\n",
      "7654/7654 [==============================] - 0s - loss: 19.1990     \n",
      "Epoch 37/100\n",
      "7654/7654 [==============================] - 0s - loss: 19.2491     \n",
      "Epoch 38/100\n",
      "7654/7654 [==============================] - 0s - loss: 19.0886     \n",
      "Epoch 39/100\n",
      "7654/7654 [==============================] - 0s - loss: 19.1836     \n",
      "Epoch 40/100\n",
      "7654/7654 [==============================] - 0s - loss: 19.1261     \n",
      "Epoch 41/100\n",
      "7654/7654 [==============================] - 0s - loss: 19.0330      ETA\n",
      "Epoch 42/100\n",
      "7654/7654 [==============================] - 0s - loss: 19.1846     \n",
      "Epoch 43/100\n",
      "7654/7654 [==============================] - 0s - loss: 19.1407     \n",
      "Epoch 44/100\n",
      "7654/7654 [==============================] - 0s - loss: 19.0832     \n",
      "Epoch 45/100\n",
      "7654/7654 [==============================] - 0s - loss: 19.0291      ETA: 0s - loss: 19.07\n",
      "Epoch 46/100\n",
      "7654/7654 [==============================] - 0s - loss: 19.1180     \n",
      "Epoch 47/100\n",
      "7654/7654 [==============================] - 0s - loss: 19.0714     \n",
      "Epoch 48/100\n",
      "7654/7654 [==============================] - 0s - loss: 18.9384      ETA: 0s - l\n",
      "Epoch 49/100\n",
      "7654/7654 [==============================] - 0s - loss: 18.9211     \n",
      "Epoch 50/100\n",
      "7654/7654 [==============================] - 0s - loss: 18.9710     \n",
      "Epoch 51/100\n",
      "7654/7654 [==============================] - 0s - loss: 19.0345     \n",
      "Epoch 52/100\n",
      "7654/7654 [==============================] - 0s - loss: 18.8896     \n",
      "Epoch 53/100\n",
      "7654/7654 [==============================] - 0s - loss: 18.8829     \n",
      "Epoch 54/100\n",
      "7654/7654 [==============================] - 0s - loss: 19.0617     \n",
      "Epoch 55/100\n",
      "7654/7654 [==============================] - 0s - loss: 18.8970     \n",
      "Epoch 56/100\n",
      "7654/7654 [==============================] - 0s - loss: 18.9550     \n",
      "Epoch 57/100\n",
      "7654/7654 [==============================] - 0s - loss: 18.8164     \n",
      "Epoch 58/100\n",
      "7654/7654 [==============================] - 0s - loss: 18.9846     \n",
      "Epoch 59/100\n",
      "7654/7654 [==============================] - 0s - loss: 18.7693     \n",
      "Epoch 60/100\n",
      "7654/7654 [==============================] - 0s - loss: 18.8519      ETA: 0s - loss: 18.71\n",
      "Epoch 61/100\n",
      "7654/7654 [==============================] - 0s - loss: 18.7792     \n",
      "Epoch 62/100\n",
      "7654/7654 [==============================] - 0s - loss: 18.7412     \n",
      "Epoch 63/100\n",
      "7654/7654 [==============================] - 0s - loss: 18.7695     \n",
      "Epoch 64/100\n",
      "7654/7654 [==============================] - 0s - loss: 18.7463     \n",
      "Epoch 65/100\n",
      "7654/7654 [==============================] - 0s - loss: 18.6797     \n",
      "Epoch 66/100\n",
      "7654/7654 [==============================] - 0s - loss: 18.6954     \n",
      "Epoch 67/100\n",
      "7654/7654 [==============================] - 0s - loss: 18.6361     \n",
      "Epoch 68/100\n",
      "7654/7654 [==============================] - 0s - loss: 18.6321     \n",
      "Epoch 69/100\n",
      "7654/7654 [==============================] - 0s - loss: 18.6560     \n",
      "Epoch 70/100\n",
      "7654/7654 [==============================] - 0s - loss: 18.7418     \n",
      "Epoch 71/100\n",
      "7654/7654 [==============================] - 0s - loss: 18.6083      ETA: 0s - l\n",
      "Epoch 72/100\n",
      "7654/7654 [==============================] - 0s - loss: 18.6588     \n",
      "Epoch 73/100\n",
      "7654/7654 [==============================] - 0s - loss: 18.6170     \n",
      "Epoch 74/100\n",
      "7654/7654 [==============================] - 0s - loss: 18.6121     \n",
      "Epoch 75/100\n",
      "7654/7654 [==============================] - 0s - loss: 18.6014     \n",
      "Epoch 76/100\n",
      "7654/7654 [==============================] - 0s - loss: 18.6613     \n",
      "Epoch 77/100\n",
      "7654/7654 [==============================] - 0s - loss: 18.5890     \n",
      "Epoch 78/100\n",
      "7654/7654 [==============================] - 0s - loss: 18.5269     \n",
      "Epoch 79/100\n",
      "7654/7654 [==============================] - 0s - loss: 18.5572     \n",
      "Epoch 80/100\n",
      "7654/7654 [==============================] - 0s - loss: 18.5449     \n",
      "Epoch 81/100\n",
      "7654/7654 [==============================] - 0s - loss: 18.5806     \n",
      "Epoch 82/100\n",
      "7654/7654 [==============================] - 0s - loss: 18.4628     \n",
      "Epoch 83/100\n",
      "7654/7654 [==============================] - 0s - loss: 18.4248     \n",
      "Epoch 84/100\n",
      "7654/7654 [==============================] - 0s - loss: 18.4479     \n",
      "Epoch 85/100\n",
      "7654/7654 [==============================] - 0s - loss: 18.3496     \n",
      "Epoch 86/100\n",
      "7654/7654 [==============================] - 0s - loss: 18.4729     \n",
      "Epoch 87/100\n",
      "7654/7654 [==============================] - 0s - loss: 18.3508     \n",
      "Epoch 88/100\n",
      "7654/7654 [==============================] - 0s - loss: 18.3147     \n",
      "Epoch 89/100\n",
      "7654/7654 [==============================] - 0s - loss: 18.3602     \n",
      "Epoch 90/100\n",
      "7654/7654 [==============================] - 0s - loss: 18.2738      ETA: 0s - loss: 18.33\n",
      "Epoch 91/100\n",
      "7654/7654 [==============================] - 0s - loss: 18.3293     \n",
      "Epoch 92/100\n",
      "7654/7654 [==============================] - 0s - loss: 18.3175     \n",
      "Epoch 93/100\n",
      "7654/7654 [==============================] - 0s - loss: 18.4466      ETA: 0s - loss: 18.52\n",
      "Epoch 94/100\n",
      "7654/7654 [==============================] - 0s - loss: 18.3642     \n",
      "Epoch 95/100\n",
      "7654/7654 [==============================] - 0s - loss: 18.1147     \n",
      "Epoch 96/100\n",
      "7654/7654 [==============================] - 0s - loss: 18.1723     \n",
      "Epoch 97/100\n",
      "7654/7654 [==============================] - 0s - loss: 18.1681     \n",
      "Epoch 98/100\n"
     ]
    },
    {
     "name": "stdout",
     "output_type": "stream",
     "text": [
      "7654/7654 [==============================] - 0s - loss: 18.2816     \n",
      "Epoch 99/100\n",
      "7654/7654 [==============================] - 0s - loss: 18.2518     \n",
      "Epoch 100/100\n",
      "7654/7654 [==============================] - 0s - loss: 18.1988     \n"
     ]
    },
    {
     "data": {
      "text/plain": [
       "<keras.callbacks.History at 0x1d344c3400>"
      ]
     },
     "execution_count": 20,
     "metadata": {},
     "output_type": "execute_result"
    }
   ],
   "source": [
    "clf_ann = Sequential()\n",
    "\n",
    "# First Hidden Layer\n",
    "clf_ann.add(Dense(output_dim = 64, init = 'uniform', activation = 'relu', input_dim = 4))\n",
    "\n",
    "# Second Hidden Layer\n",
    "#clf_ann.add(Dense(output_dim = 16, init = 'uniform', activation = 'relu'))\n",
    "\n",
    "#clf_ann.add(Dense(output_dim = 24, init = 'uniform', activation = 'relu'))\n",
    "\n",
    "# Output Layer\n",
    "clf_ann.add(Dense(output_dim = 1, init = 'uniform'))\n",
    "\n",
    "# Compile the ANN\n",
    "clf_ann.compile(optimizer = 'adam', loss = 'mean_squared_error')\n",
    "\n",
    "# Train the ANN on the Train Data\n",
    "clf_ann.fit(X_train, Y_train, batch_size = 5, nb_epoch = 100)"
   ]
  },
  {
   "cell_type": "code",
   "execution_count": 21,
   "metadata": {
    "collapsed": true
   },
   "outputs": [],
   "source": [
    "# Test the ANN on the Test Data\n",
    "Y_pred = clf_ann.predict(X_test)"
   ]
  },
  {
   "cell_type": "markdown",
   "metadata": {},
   "source": [
    "## Check the Accuracy"
   ]
  },
  {
   "cell_type": "code",
   "execution_count": 22,
   "metadata": {
    "collapsed": true
   },
   "outputs": [],
   "source": [
    "from sklearn.metrics import mean_squared_error, r2_score"
   ]
  },
  {
   "cell_type": "code",
   "execution_count": 23,
   "metadata": {},
   "outputs": [
    {
     "data": {
      "text/plain": [
       "20.050237673338287"
      ]
     },
     "execution_count": 23,
     "metadata": {},
     "output_type": "execute_result"
    }
   ],
   "source": [
    "mean_squared_error(Y_pred, Y_test)"
   ]
  },
  {
   "cell_type": "code",
   "execution_count": 24,
   "metadata": {},
   "outputs": [
    {
     "data": {
      "text/plain": [
       "0.93270840321723147"
      ]
     },
     "execution_count": 24,
     "metadata": {},
     "output_type": "execute_result"
    }
   ],
   "source": [
    "r2_score(Y_pred, Y_test)"
   ]
  },
  {
   "cell_type": "code",
   "execution_count": null,
   "metadata": {
    "collapsed": true
   },
   "outputs": [],
   "source": []
  }
 ],
 "metadata": {
  "kernelspec": {
   "display_name": "Python [default]",
   "language": "python",
   "name": "python3"
  },
  "language_info": {
   "codemirror_mode": {
    "name": "ipython",
    "version": 3
   },
   "file_extension": ".py",
   "mimetype": "text/x-python",
   "name": "python",
   "nbconvert_exporter": "python",
   "pygments_lexer": "ipython3",
   "version": "3.5.4"
  }
 },
 "nbformat": 4,
 "nbformat_minor": 2
}
