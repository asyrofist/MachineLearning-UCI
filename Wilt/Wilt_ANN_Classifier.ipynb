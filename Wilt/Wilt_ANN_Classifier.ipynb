{
 "cells": [
  {
   "cell_type": "markdown",
   "metadata": {},
   "source": [
    "## Initialization"
   ]
  },
  {
   "cell_type": "code",
   "execution_count": 1,
   "metadata": {},
   "outputs": [
    {
     "name": "stderr",
     "output_type": "stream",
     "text": [
      "Using Theano backend.\n"
     ]
    }
   ],
   "source": [
    "import numpy as np\n",
    "import pandas as pd\n",
    "import keras"
   ]
  },
  {
   "cell_type": "markdown",
   "metadata": {},
   "source": [
    "## Importing the Data"
   ]
  },
  {
   "cell_type": "code",
   "execution_count": 2,
   "metadata": {
    "collapsed": true
   },
   "outputs": [],
   "source": [
    "dataset_train = pd.read_csv(\"training.csv\")\n",
    "dataset_test = pd.read_csv(\"testing.csv\")"
   ]
  },
  {
   "cell_type": "code",
   "execution_count": 3,
   "metadata": {},
   "outputs": [
    {
     "data": {
      "text/html": [
       "<div>\n",
       "<style>\n",
       "    .dataframe thead tr:only-child th {\n",
       "        text-align: right;\n",
       "    }\n",
       "\n",
       "    .dataframe thead th {\n",
       "        text-align: left;\n",
       "    }\n",
       "\n",
       "    .dataframe tbody tr th {\n",
       "        vertical-align: top;\n",
       "    }\n",
       "</style>\n",
       "<table border=\"1\" class=\"dataframe\">\n",
       "  <thead>\n",
       "    <tr style=\"text-align: right;\">\n",
       "      <th></th>\n",
       "      <th>class</th>\n",
       "      <th>GLCM_pan</th>\n",
       "      <th>Mean_Green</th>\n",
       "      <th>Mean_Red</th>\n",
       "      <th>Mean_NIR</th>\n",
       "      <th>SD_pan</th>\n",
       "    </tr>\n",
       "  </thead>\n",
       "  <tbody>\n",
       "    <tr>\n",
       "      <th>0</th>\n",
       "      <td>n</td>\n",
       "      <td>109.828571</td>\n",
       "      <td>183.700000</td>\n",
       "      <td>82.950000</td>\n",
       "      <td>251.750000</td>\n",
       "      <td>16.079412</td>\n",
       "    </tr>\n",
       "    <tr>\n",
       "      <th>1</th>\n",
       "      <td>n</td>\n",
       "      <td>130.284483</td>\n",
       "      <td>212.637931</td>\n",
       "      <td>96.896552</td>\n",
       "      <td>482.396552</td>\n",
       "      <td>21.210295</td>\n",
       "    </tr>\n",
       "    <tr>\n",
       "      <th>2</th>\n",
       "      <td>n</td>\n",
       "      <td>131.386555</td>\n",
       "      <td>185.466667</td>\n",
       "      <td>85.466667</td>\n",
       "      <td>419.666667</td>\n",
       "      <td>13.339998</td>\n",
       "    </tr>\n",
       "    <tr>\n",
       "      <th>3</th>\n",
       "      <td>n</td>\n",
       "      <td>141.345098</td>\n",
       "      <td>180.875000</td>\n",
       "      <td>81.500000</td>\n",
       "      <td>348.062500</td>\n",
       "      <td>18.213577</td>\n",
       "    </tr>\n",
       "    <tr>\n",
       "      <th>4</th>\n",
       "      <td>w</td>\n",
       "      <td>121.383408</td>\n",
       "      <td>218.357143</td>\n",
       "      <td>112.017857</td>\n",
       "      <td>426.607143</td>\n",
       "      <td>19.083196</td>\n",
       "    </tr>\n",
       "  </tbody>\n",
       "</table>\n",
       "</div>"
      ],
      "text/plain": [
       "  class    GLCM_pan  Mean_Green    Mean_Red    Mean_NIR     SD_pan\n",
       "0     n  109.828571  183.700000   82.950000  251.750000  16.079412\n",
       "1     n  130.284483  212.637931   96.896552  482.396552  21.210295\n",
       "2     n  131.386555  185.466667   85.466667  419.666667  13.339998\n",
       "3     n  141.345098  180.875000   81.500000  348.062500  18.213577\n",
       "4     w  121.383408  218.357143  112.017857  426.607143  19.083196"
      ]
     },
     "execution_count": 3,
     "metadata": {},
     "output_type": "execute_result"
    }
   ],
   "source": [
    "dataset_test.head()"
   ]
  },
  {
   "cell_type": "code",
   "execution_count": 4,
   "metadata": {},
   "outputs": [
    {
     "data": {
      "text/html": [
       "<div>\n",
       "<style>\n",
       "    .dataframe thead tr:only-child th {\n",
       "        text-align: right;\n",
       "    }\n",
       "\n",
       "    .dataframe thead th {\n",
       "        text-align: left;\n",
       "    }\n",
       "\n",
       "    .dataframe tbody tr th {\n",
       "        vertical-align: top;\n",
       "    }\n",
       "</style>\n",
       "<table border=\"1\" class=\"dataframe\">\n",
       "  <thead>\n",
       "    <tr style=\"text-align: right;\">\n",
       "      <th></th>\n",
       "      <th>class</th>\n",
       "      <th>GLCM_pan</th>\n",
       "      <th>Mean_Green</th>\n",
       "      <th>Mean_Red</th>\n",
       "      <th>Mean_NIR</th>\n",
       "      <th>SD_pan</th>\n",
       "    </tr>\n",
       "  </thead>\n",
       "  <tbody>\n",
       "    <tr>\n",
       "      <th>0</th>\n",
       "      <td>w</td>\n",
       "      <td>120.362774</td>\n",
       "      <td>205.500000</td>\n",
       "      <td>119.395349</td>\n",
       "      <td>416.581395</td>\n",
       "      <td>20.676318</td>\n",
       "    </tr>\n",
       "    <tr>\n",
       "      <th>1</th>\n",
       "      <td>w</td>\n",
       "      <td>124.739583</td>\n",
       "      <td>202.800000</td>\n",
       "      <td>115.333333</td>\n",
       "      <td>354.333333</td>\n",
       "      <td>16.707151</td>\n",
       "    </tr>\n",
       "    <tr>\n",
       "      <th>2</th>\n",
       "      <td>w</td>\n",
       "      <td>134.691964</td>\n",
       "      <td>199.285714</td>\n",
       "      <td>116.857143</td>\n",
       "      <td>477.857143</td>\n",
       "      <td>22.496712</td>\n",
       "    </tr>\n",
       "    <tr>\n",
       "      <th>3</th>\n",
       "      <td>w</td>\n",
       "      <td>127.946309</td>\n",
       "      <td>178.368421</td>\n",
       "      <td>92.368421</td>\n",
       "      <td>278.473684</td>\n",
       "      <td>14.977453</td>\n",
       "    </tr>\n",
       "    <tr>\n",
       "      <th>4</th>\n",
       "      <td>w</td>\n",
       "      <td>135.431548</td>\n",
       "      <td>197.000000</td>\n",
       "      <td>112.690476</td>\n",
       "      <td>532.952381</td>\n",
       "      <td>17.604193</td>\n",
       "    </tr>\n",
       "  </tbody>\n",
       "</table>\n",
       "</div>"
      ],
      "text/plain": [
       "  class    GLCM_pan  Mean_Green    Mean_Red    Mean_NIR     SD_pan\n",
       "0     w  120.362774  205.500000  119.395349  416.581395  20.676318\n",
       "1     w  124.739583  202.800000  115.333333  354.333333  16.707151\n",
       "2     w  134.691964  199.285714  116.857143  477.857143  22.496712\n",
       "3     w  127.946309  178.368421   92.368421  278.473684  14.977453\n",
       "4     w  135.431548  197.000000  112.690476  532.952381  17.604193"
      ]
     },
     "execution_count": 4,
     "metadata": {},
     "output_type": "execute_result"
    }
   ],
   "source": [
    "dataset_train.head()"
   ]
  },
  {
   "cell_type": "code",
   "execution_count": 5,
   "metadata": {},
   "outputs": [
    {
     "data": {
      "text/plain": [
       "(500, 6)"
      ]
     },
     "execution_count": 5,
     "metadata": {},
     "output_type": "execute_result"
    }
   ],
   "source": [
    "dataset_test.shape"
   ]
  },
  {
   "cell_type": "code",
   "execution_count": 6,
   "metadata": {},
   "outputs": [
    {
     "data": {
      "text/plain": [
       "(4339, 6)"
      ]
     },
     "execution_count": 6,
     "metadata": {},
     "output_type": "execute_result"
    }
   ],
   "source": [
    "dataset_train.shape"
   ]
  },
  {
   "cell_type": "markdown",
   "metadata": {},
   "source": [
    "## Create X and Y"
   ]
  },
  {
   "cell_type": "code",
   "execution_count": 7,
   "metadata": {
    "collapsed": true
   },
   "outputs": [],
   "source": [
    "X_train = dataset_train.iloc[:, 1:6].values\n",
    "X_test = dataset_test.iloc[:, 1:6].values\n",
    "Y_train = dataset_train.iloc[:, 0].values\n",
    "Y_test = dataset_test.iloc[:, 0].values"
   ]
  },
  {
   "cell_type": "code",
   "execution_count": 8,
   "metadata": {},
   "outputs": [
    {
     "data": {
      "text/plain": [
       "(4339, 5)"
      ]
     },
     "execution_count": 8,
     "metadata": {},
     "output_type": "execute_result"
    }
   ],
   "source": [
    "X_train.shape"
   ]
  },
  {
   "cell_type": "code",
   "execution_count": 9,
   "metadata": {},
   "outputs": [
    {
     "data": {
      "text/plain": [
       "(500, 5)"
      ]
     },
     "execution_count": 9,
     "metadata": {},
     "output_type": "execute_result"
    }
   ],
   "source": [
    "X_test.shape"
   ]
  },
  {
   "cell_type": "code",
   "execution_count": 10,
   "metadata": {},
   "outputs": [
    {
     "data": {
      "text/plain": [
       "(4339,)"
      ]
     },
     "execution_count": 10,
     "metadata": {},
     "output_type": "execute_result"
    }
   ],
   "source": [
    "Y_train.shape"
   ]
  },
  {
   "cell_type": "code",
   "execution_count": 11,
   "metadata": {},
   "outputs": [
    {
     "data": {
      "text/plain": [
       "(500,)"
      ]
     },
     "execution_count": 11,
     "metadata": {},
     "output_type": "execute_result"
    }
   ],
   "source": [
    "Y_test.shape"
   ]
  },
  {
   "cell_type": "markdown",
   "metadata": {},
   "source": [
    "## Preprocess the Data"
   ]
  },
  {
   "cell_type": "code",
   "execution_count": 12,
   "metadata": {
    "collapsed": true
   },
   "outputs": [],
   "source": [
    "from sklearn.preprocessing import LabelEncoder, StandardScaler\n",
    "le_Y = LabelEncoder()\n",
    "Y_train = le_Y.fit_transform(Y_train)\n",
    "Y_test = le_Y.transform(Y_test)"
   ]
  },
  {
   "cell_type": "code",
   "execution_count": 13,
   "metadata": {},
   "outputs": [
    {
     "data": {
      "text/plain": [
       "array([1, 1, 1, ..., 0, 0, 0], dtype=int64)"
      ]
     },
     "execution_count": 13,
     "metadata": {},
     "output_type": "execute_result"
    }
   ],
   "source": [
    "Y_train"
   ]
  },
  {
   "cell_type": "code",
   "execution_count": 14,
   "metadata": {
    "scrolled": true
   },
   "outputs": [
    {
     "data": {
      "text/plain": [
       "array([0, 0, 0, 0, 1, 0, 1, 1, 0, 0, 0, 0, 0, 0, 0, 0, 1, 1, 0, 1, 0, 1, 0,\n",
       "       0, 1, 0, 1, 0, 0, 0, 0, 0, 0, 0, 0, 1, 0, 0, 0, 1, 1, 1, 0, 0, 0, 0,\n",
       "       1, 0, 0, 1, 0, 1, 1, 1, 0, 0, 0, 0, 1, 0, 1, 0, 1, 1, 1, 0, 0, 1, 0,\n",
       "       0, 0, 1, 0, 0, 1, 0, 0, 0, 1, 0, 1, 1, 0, 1, 0, 1, 1, 1, 0, 1, 1, 0,\n",
       "       1, 0, 0, 0, 1, 0, 0, 0, 1, 0, 0, 0, 1, 0, 1, 1, 1, 1, 0, 1, 1, 1, 1,\n",
       "       1, 1, 1, 1, 1, 1, 1, 1, 0, 0, 0, 0, 0, 0, 1, 0, 0, 0, 1, 0, 0, 1, 1,\n",
       "       1, 1, 1, 0, 0, 0, 0, 0, 1, 0, 1, 0, 0, 1, 1, 0, 0, 1, 0, 0, 0, 0, 0,\n",
       "       0, 1, 1, 1, 0, 0, 1, 0, 0, 0, 0, 0, 0, 0, 1, 1, 1, 0, 1, 0, 0, 0, 0,\n",
       "       0, 1, 0, 0, 1, 1, 1, 1, 1, 0, 1, 1, 1, 1, 1, 1, 1, 1, 0, 1, 0, 1, 1,\n",
       "       0, 0, 0, 1, 1, 0, 1, 1, 0, 0, 0, 0, 0, 0, 1, 1, 1, 0, 1, 1, 1, 1, 1,\n",
       "       0, 0, 0, 0, 0, 1, 1, 0, 0, 1, 1, 1, 1, 0, 0, 0, 0, 1, 1, 1, 0, 1, 1,\n",
       "       0, 1, 1, 0, 0, 0, 1, 0, 1, 1, 0, 0, 0, 0, 0, 1, 1, 1, 1, 1, 1, 0, 1,\n",
       "       0, 1, 1, 1, 0, 0, 1, 0, 0, 0, 0, 1, 0, 0, 1, 1, 1, 1, 0, 0, 0, 1, 1,\n",
       "       0, 1, 1, 0, 0, 0, 1, 0, 0, 0, 1, 0, 0, 0, 1, 1, 1, 1, 1, 0, 0, 1, 1,\n",
       "       1, 1, 1, 0, 1, 1, 0, 1, 1, 0, 0, 0, 0, 0, 1, 0, 1, 0, 0, 1, 1, 0, 0,\n",
       "       0, 0, 1, 1, 1, 1, 1, 0, 0, 0, 0, 0, 1, 1, 1, 1, 1, 1, 1, 0, 0, 1, 1,\n",
       "       0, 0, 1, 0, 0, 0, 1, 0, 0, 0, 0, 1, 1, 0, 1, 0, 0, 0, 1, 1, 1, 1, 1,\n",
       "       1, 0, 0, 0, 0, 0, 0, 0, 0, 0, 0, 0, 0, 0, 0, 0, 0, 1, 0, 0, 0, 0, 0,\n",
       "       0, 1, 0, 0, 0, 0, 0, 0, 0, 0, 0, 0, 0, 0, 0, 0, 0, 0, 0, 0, 0, 0, 0,\n",
       "       0, 0, 0, 0, 0, 0, 0, 0, 0, 0, 0, 0, 0, 0, 0, 0, 0, 0, 0, 0, 0, 0, 0,\n",
       "       0, 0, 0, 0, 0, 0, 0, 0, 0, 0, 0, 0, 0, 0, 0, 0, 0, 0, 0, 0, 0, 0, 0,\n",
       "       0, 0, 0, 0, 0, 0, 0, 0, 0, 0, 0, 0, 0, 0, 0, 0, 0], dtype=int64)"
      ]
     },
     "execution_count": 14,
     "metadata": {},
     "output_type": "execute_result"
    }
   ],
   "source": [
    "Y_test"
   ]
  },
  {
   "cell_type": "code",
   "execution_count": 15,
   "metadata": {
    "collapsed": true
   },
   "outputs": [],
   "source": [
    "# Scale the Data\n",
    "sc_X = StandardScaler()\n",
    "X_train = sc_X.fit_transform(X_train)\n",
    "X_test = sc_X.transform(X_test)"
   ]
  },
  {
   "cell_type": "code",
   "execution_count": 16,
   "metadata": {},
   "outputs": [
    {
     "data": {
      "text/plain": [
       "array([[-0.47097751, -0.46759814,  0.03464194, -0.76077836, -0.38595952],\n",
       "       [-0.15229913, -0.51204208, -0.032273  , -1.16373661, -0.74656234],\n",
       "       [ 0.57234026, -0.56988976, -0.00717077, -0.36411431, -0.22057497],\n",
       "       ..., \n",
       "       [ 0.38535484,  3.80961698,  2.9329273 , -0.22562923,  1.25723046],\n",
       "       [-0.17196142, -0.30870888, -0.30983424,  0.91800376,  0.32542412],\n",
       "       [-0.12081983,  5.35205636,  4.09651583, -0.6138924 , -0.86601588]])"
      ]
     },
     "execution_count": 16,
     "metadata": {},
     "output_type": "execute_result"
    }
   ],
   "source": [
    "X_train"
   ]
  },
  {
   "cell_type": "code",
   "execution_count": 17,
   "metadata": {},
   "outputs": [
    {
     "data": {
      "text/plain": [
       "array([[-1.23797968, -0.82644183, -0.5657345 , -1.82780227, -0.80359301],\n",
       "       [ 0.25142864, -0.35010266, -0.33598828, -0.33472878, -0.33744717],\n",
       "       [ 0.33167121, -0.79736122, -0.5242766 , -0.74080608, -1.05247149],\n",
       "       ..., \n",
       "       [-0.56461831,  0.23117948, -0.06468395,  1.77319907, -0.00858807],\n",
       "       [-1.3751642 , -0.60751426, -0.44959748, -0.53797205, -1.5180929 ],\n",
       "       [-0.51690982, -0.85050583, -0.70846418, -1.50451627, -0.1799131 ]])"
      ]
     },
     "execution_count": 17,
     "metadata": {},
     "output_type": "execute_result"
    }
   ],
   "source": [
    "X_test"
   ]
  },
  {
   "cell_type": "markdown",
   "metadata": {},
   "source": [
    "## Create and Train the Classifier"
   ]
  },
  {
   "cell_type": "code",
   "execution_count": 18,
   "metadata": {
    "collapsed": true
   },
   "outputs": [],
   "source": [
    "from keras.models import Sequential\n",
    "from keras.layers import Dense"
   ]
  },
  {
   "cell_type": "code",
   "execution_count": 24,
   "metadata": {},
   "outputs": [
    {
     "name": "stderr",
     "output_type": "stream",
     "text": [
      "C:\\Users\\user\\Anaconda3\\lib\\site-packages\\ipykernel\\__main__.py:4: UserWarning: Update your `Dense` call to the Keras 2 API: `Dense(input_dim=5, kernel_initializer=\"uniform\", units=3, activation=\"relu\")`\n",
      "C:\\Users\\user\\Anaconda3\\lib\\site-packages\\ipykernel\\__main__.py:7: UserWarning: Update your `Dense` call to the Keras 2 API: `Dense(kernel_initializer=\"uniform\", units=3, activation=\"relu\")`\n",
      "C:\\Users\\user\\Anaconda3\\lib\\site-packages\\ipykernel\\__main__.py:10: UserWarning: Update your `Dense` call to the Keras 2 API: `Dense(kernel_initializer=\"uniform\", units=1, activation=\"sigmoid\")`\n",
      "C:\\Users\\user\\Anaconda3\\lib\\site-packages\\keras\\models.py:844: UserWarning: The `nb_epoch` argument in `fit` has been renamed `epochs`.\n",
      "  warnings.warn('The `nb_epoch` argument in `fit` '\n"
     ]
    },
    {
     "name": "stdout",
     "output_type": "stream",
     "text": [
      "Epoch 1/100\n",
      "4339/4339 [==============================] - 0s - loss: 0.3717 - acc: 0.9829     \n",
      "Epoch 2/100\n",
      "4339/4339 [==============================] - 0s - loss: 0.0840 - acc: 0.9829     \n",
      "Epoch 3/100\n",
      "4339/4339 [==============================] - 0s - loss: 0.0740 - acc: 0.9829     \n",
      "Epoch 4/100\n",
      "4339/4339 [==============================] - 0s - loss: 0.0697 - acc: 0.9829     \n",
      "Epoch 5/100\n",
      "4339/4339 [==============================] - 0s - loss: 0.0662 - acc: 0.9829     \n",
      "Epoch 6/100\n",
      "4339/4339 [==============================] - 0s - loss: 0.0623 - acc: 0.9829     \n",
      "Epoch 7/100\n",
      "4339/4339 [==============================] - 0s - loss: 0.0582 - acc: 0.9829     \n",
      "Epoch 8/100\n",
      "4339/4339 [==============================] - 0s - loss: 0.0536 - acc: 0.9829     \n",
      "Epoch 9/100\n",
      "4339/4339 [==============================] - 0s - loss: 0.0489 - acc: 0.9829     \n",
      "Epoch 10/100\n",
      "4339/4339 [==============================] - 0s - loss: 0.0441 - acc: 0.9829     \n",
      "Epoch 11/100\n",
      "4339/4339 [==============================] - 0s - loss: 0.0392 - acc: 0.9829     \n",
      "Epoch 12/100\n",
      "4339/4339 [==============================] - 0s - loss: 0.0346 - acc: 0.9829     \n",
      "Epoch 13/100\n",
      "4339/4339 [==============================] - 0s - loss: 0.0298 - acc: 0.9832     \n",
      "Epoch 14/100\n",
      "4339/4339 [==============================] - 0s - loss: 0.0256 - acc: 0.9871     \n",
      "Epoch 15/100\n",
      "4339/4339 [==============================] - 0s - loss: 0.0224 - acc: 0.9892     \n",
      "Epoch 16/100\n",
      "4339/4339 [==============================] - 0s - loss: 0.0201 - acc: 0.9919     \n",
      "Epoch 17/100\n",
      "4339/4339 [==============================] - 0s - loss: 0.0184 - acc: 0.9940     \n",
      "Epoch 18/100\n",
      "4339/4339 [==============================] - 0s - loss: 0.0173 - acc: 0.9945     \n",
      "Epoch 19/100\n",
      "4339/4339 [==============================] - 0s - loss: 0.0161 - acc: 0.9947     \n",
      "Epoch 20/100\n",
      "4339/4339 [==============================] - 0s - loss: 0.0153 - acc: 0.9954     \n",
      "Epoch 21/100\n",
      "4339/4339 [==============================] - 0s - loss: 0.0146 - acc: 0.9963     \n",
      "Epoch 22/100\n",
      "4339/4339 [==============================] - 0s - loss: 0.0140 - acc: 0.9968     \n",
      "Epoch 23/100\n",
      "4339/4339 [==============================] - 0s - loss: 0.0133 - acc: 0.9963     \n",
      "Epoch 24/100\n",
      "4339/4339 [==============================] - 0s - loss: 0.0128 - acc: 0.9968     \n",
      "Epoch 25/100\n",
      "4339/4339 [==============================] - 0s - loss: 0.0119 - acc: 0.9968     \n",
      "Epoch 26/100\n",
      "4339/4339 [==============================] - 0s - loss: 0.0130 - acc: 0.9963     \n",
      "Epoch 27/100\n",
      "4339/4339 [==============================] - 0s - loss: 0.0118 - acc: 0.9970     \n",
      "Epoch 28/100\n",
      "4339/4339 [==============================] - 0s - loss: 0.0115 - acc: 0.9965     \n",
      "Epoch 29/100\n",
      "4339/4339 [==============================] - 0s - loss: 0.0112 - acc: 0.9965     \n",
      "Epoch 30/100\n",
      "4339/4339 [==============================] - 0s - loss: 0.0110 - acc: 0.9968     \n",
      "Epoch 31/100\n",
      "4339/4339 [==============================] - 0s - loss: 0.0110 - acc: 0.9963     \n",
      "Epoch 32/100\n",
      "4339/4339 [==============================] - 0s - loss: 0.0104 - acc: 0.9968     \n",
      "Epoch 33/100\n",
      "4339/4339 [==============================] - 0s - loss: 0.0103 - acc: 0.9975     \n",
      "Epoch 34/100\n",
      "4339/4339 [==============================] - 0s - loss: 0.0104 - acc: 0.9968     \n",
      "Epoch 35/100\n",
      "4339/4339 [==============================] - 0s - loss: 0.0101 - acc: 0.9965     \n",
      "Epoch 36/100\n",
      "4339/4339 [==============================] - 0s - loss: 0.0103 - acc: 0.9970     \n",
      "Epoch 37/100\n",
      "4339/4339 [==============================] - 0s - loss: 0.0100 - acc: 0.9968     \n",
      "Epoch 38/100\n",
      "4339/4339 [==============================] - 0s - loss: 0.0096 - acc: 0.9965     - ETA: 0s - loss: 0.0099 - acc: 0.996\n",
      "Epoch 39/100\n",
      "4339/4339 [==============================] - 0s - loss: 0.0093 - acc: 0.9970     \n",
      "Epoch 40/100\n",
      "4339/4339 [==============================] - 0s - loss: 0.0098 - acc: 0.9970     \n",
      "Epoch 41/100\n",
      "4339/4339 [==============================] - 0s - loss: 0.0094 - acc: 0.9968     \n",
      "Epoch 42/100\n",
      "4339/4339 [==============================] - 0s - loss: 0.0093 - acc: 0.9975     \n",
      "Epoch 43/100\n",
      "4339/4339 [==============================] - 0s - loss: 0.0096 - acc: 0.9965     \n",
      "Epoch 44/100\n",
      "4339/4339 [==============================] - 0s - loss: 0.0088 - acc: 0.9970     \n",
      "Epoch 45/100\n",
      "4339/4339 [==============================] - 0s - loss: 0.0097 - acc: 0.9963     \n",
      "Epoch 46/100\n",
      "4339/4339 [==============================] - 0s - loss: 0.0095 - acc: 0.9968     \n",
      "Epoch 47/100\n",
      "4339/4339 [==============================] - 0s - loss: 0.0093 - acc: 0.9968     \n",
      "Epoch 48/100\n",
      "4339/4339 [==============================] - 0s - loss: 0.0093 - acc: 0.9970     \n",
      "Epoch 49/100\n",
      "4339/4339 [==============================] - 0s - loss: 0.0090 - acc: 0.9965     \n",
      "Epoch 50/100\n",
      "4339/4339 [==============================] - 0s - loss: 0.0089 - acc: 0.9965     \n",
      "Epoch 51/100\n",
      "4339/4339 [==============================] - 0s - loss: 0.0090 - acc: 0.9968     \n",
      "Epoch 52/100\n",
      "4339/4339 [==============================] - 0s - loss: 0.0092 - acc: 0.9965     \n",
      "Epoch 53/100\n",
      "4339/4339 [==============================] - 0s - loss: 0.0091 - acc: 0.9970     \n",
      "Epoch 54/100\n",
      "4339/4339 [==============================] - 0s - loss: 0.0089 - acc: 0.9972     \n",
      "Epoch 55/100\n",
      "4339/4339 [==============================] - 0s - loss: 0.0089 - acc: 0.9970     \n",
      "Epoch 56/100\n",
      "4339/4339 [==============================] - 0s - loss: 0.0087 - acc: 0.9968     \n",
      "Epoch 57/100\n",
      "4339/4339 [==============================] - 0s - loss: 0.0090 - acc: 0.9977     \n",
      "Epoch 58/100\n",
      "4339/4339 [==============================] - 0s - loss: 0.0087 - acc: 0.9972     \n",
      "Epoch 59/100\n",
      "4339/4339 [==============================] - 0s - loss: 0.0089 - acc: 0.9970     \n",
      "Epoch 60/100\n",
      "4339/4339 [==============================] - 0s - loss: 0.0089 - acc: 0.9968     \n",
      "Epoch 61/100\n",
      "4339/4339 [==============================] - 0s - loss: 0.0087 - acc: 0.9970     \n",
      "Epoch 62/100\n",
      "4339/4339 [==============================] - 0s - loss: 0.0081 - acc: 0.9970     \n",
      "Epoch 63/100\n",
      "4339/4339 [==============================] - 0s - loss: 0.0089 - acc: 0.9965     \n",
      "Epoch 64/100\n",
      "4339/4339 [==============================] - 0s - loss: 0.0088 - acc: 0.9970     \n",
      "Epoch 65/100\n",
      "4339/4339 [==============================] - 0s - loss: 0.0085 - acc: 0.9972     \n",
      "Epoch 66/100\n",
      "4339/4339 [==============================] - 0s - loss: 0.0085 - acc: 0.9972     \n",
      "Epoch 67/100\n",
      "4339/4339 [==============================] - 0s - loss: 0.0084 - acc: 0.9968     \n",
      "Epoch 68/100\n",
      "4339/4339 [==============================] - 0s - loss: 0.0084 - acc: 0.9968     \n",
      "Epoch 69/100\n",
      "4339/4339 [==============================] - 0s - loss: 0.0077 - acc: 0.9979     \n",
      "Epoch 70/100\n",
      "4339/4339 [==============================] - 0s - loss: 0.0089 - acc: 0.9975     - ETA: 0s - loss: 0.0089 - acc: 0.997\n",
      "Epoch 71/100\n",
      "4339/4339 [==============================] - 0s - loss: 0.0090 - acc: 0.9963     \n",
      "Epoch 72/100\n",
      "4339/4339 [==============================] - 0s - loss: 0.0081 - acc: 0.9970     \n",
      "Epoch 73/100\n",
      "4339/4339 [==============================] - 0s - loss: 0.0085 - acc: 0.9963     \n",
      "Epoch 74/100\n",
      "4339/4339 [==============================] - 0s - loss: 0.0092 - acc: 0.9959     \n",
      "Epoch 75/100\n",
      "4339/4339 [==============================] - 0s - loss: 0.0085 - acc: 0.9968     \n",
      "Epoch 76/100\n",
      "4339/4339 [==============================] - 0s - loss: 0.0083 - acc: 0.9972     \n",
      "Epoch 77/100\n",
      "4339/4339 [==============================] - 0s - loss: 0.0083 - acc: 0.9968     \n",
      "Epoch 78/100\n",
      "4339/4339 [==============================] - 0s - loss: 0.0077 - acc: 0.9977     \n",
      "Epoch 79/100\n",
      "4339/4339 [==============================] - 0s - loss: 0.0082 - acc: 0.9972     \n",
      "Epoch 80/100\n",
      "4339/4339 [==============================] - 0s - loss: 0.0084 - acc: 0.9972     \n",
      "Epoch 81/100\n",
      "4339/4339 [==============================] - 0s - loss: 0.0082 - acc: 0.9968     \n",
      "Epoch 82/100\n",
      "4339/4339 [==============================] - 0s - loss: 0.0084 - acc: 0.9972     \n",
      "Epoch 83/100\n",
      "4339/4339 [==============================] - 0s - loss: 0.0083 - acc: 0.9975     \n",
      "Epoch 84/100\n",
      "4339/4339 [==============================] - 0s - loss: 0.0080 - acc: 0.9970     \n",
      "Epoch 85/100\n",
      "4339/4339 [==============================] - 0s - loss: 0.0085 - acc: 0.9968     \n",
      "Epoch 86/100\n"
     ]
    },
    {
     "name": "stdout",
     "output_type": "stream",
     "text": [
      "4339/4339 [==============================] - 0s - loss: 0.0080 - acc: 0.9972     \n",
      "Epoch 87/100\n",
      "4339/4339 [==============================] - 0s - loss: 0.0082 - acc: 0.9968     \n",
      "Epoch 88/100\n",
      "4339/4339 [==============================] - 0s - loss: 0.0087 - acc: 0.9972     \n",
      "Epoch 89/100\n",
      "4339/4339 [==============================] - 0s - loss: 0.0083 - acc: 0.9972     - ETA: 0s - loss: 0.0063 - acc: 0.\n",
      "Epoch 90/100\n",
      "4339/4339 [==============================] - 0s - loss: 0.0081 - acc: 0.9975     \n",
      "Epoch 91/100\n",
      "4339/4339 [==============================] - 0s - loss: 0.0084 - acc: 0.9970     \n",
      "Epoch 92/100\n",
      "4339/4339 [==============================] - 0s - loss: 0.0082 - acc: 0.9970     \n",
      "Epoch 93/100\n",
      "4339/4339 [==============================] - 0s - loss: 0.0085 - acc: 0.9968     \n",
      "Epoch 94/100\n",
      "4339/4339 [==============================] - 0s - loss: 0.0083 - acc: 0.9970     \n",
      "Epoch 95/100\n",
      "4339/4339 [==============================] - 0s - loss: 0.0086 - acc: 0.9970     \n",
      "Epoch 96/100\n",
      "4339/4339 [==============================] - 0s - loss: 0.0078 - acc: 0.9972     \n",
      "Epoch 97/100\n",
      "4339/4339 [==============================] - 0s - loss: 0.0082 - acc: 0.9975     \n",
      "Epoch 98/100\n",
      "4339/4339 [==============================] - 0s - loss: 0.0084 - acc: 0.9970     \n",
      "Epoch 99/100\n",
      "4339/4339 [==============================] - 0s - loss: 0.0084 - acc: 0.9972     \n",
      "Epoch 100/100\n",
      "4339/4339 [==============================] - 0s - loss: 0.0081 - acc: 0.9972     \n"
     ]
    },
    {
     "data": {
      "text/plain": [
       "<keras.callbacks.History at 0x13064b20b8>"
      ]
     },
     "execution_count": 24,
     "metadata": {},
     "output_type": "execute_result"
    }
   ],
   "source": [
    "clf_ann = Sequential()\n",
    "\n",
    "# First Hidden Layer\n",
    "clf_ann.add(Dense(output_dim = 3, init = 'uniform', activation = 'relu', input_dim = 5))\n",
    "\n",
    "# Second Hidden Layer\n",
    "clf_ann.add(Dense(output_dim = 3, init = 'uniform', activation = 'relu'))\n",
    "\n",
    "# Output Layer\n",
    "clf_ann.add(Dense(output_dim = 1, init = 'uniform', activation = 'sigmoid'))\n",
    "\n",
    "# Compile the ANN\n",
    "clf_ann.compile(optimizer = 'adam', loss = 'binary_crossentropy', metrics = ['accuracy'])\n",
    "\n",
    "# Train the ANN on the Training Set\n",
    "clf_ann.fit(X_train, Y_train, batch_size = 10, nb_epoch = 100)"
   ]
  },
  {
   "cell_type": "code",
   "execution_count": 25,
   "metadata": {
    "collapsed": true
   },
   "outputs": [],
   "source": [
    "Y_pred = clf_ann.predict(X_test)\n",
    "Y_pred = (Y_pred > 0.5)"
   ]
  },
  {
   "cell_type": "markdown",
   "metadata": {},
   "source": [
    "## Check the Accuracy"
   ]
  },
  {
   "cell_type": "code",
   "execution_count": 26,
   "metadata": {},
   "outputs": [
    {
     "data": {
      "text/plain": [
       "0.86199999999999999"
      ]
     },
     "execution_count": 26,
     "metadata": {},
     "output_type": "execute_result"
    }
   ],
   "source": [
    "from sklearn.metrics import accuracy_score, confusion_matrix\n",
    "accuracy_score(Y_pred, Y_test)"
   ]
  },
  {
   "cell_type": "code",
   "execution_count": 27,
   "metadata": {},
   "outputs": [
    {
     "data": {
      "text/plain": [
       "array([[300,  56],\n",
       "       [ 13, 131]], dtype=int64)"
      ]
     },
     "execution_count": 27,
     "metadata": {},
     "output_type": "execute_result"
    }
   ],
   "source": [
    "confusion_matrix(Y_pred, Y_test)"
   ]
  },
  {
   "cell_type": "code",
   "execution_count": null,
   "metadata": {
    "collapsed": true
   },
   "outputs": [],
   "source": []
  }
 ],
 "metadata": {
  "kernelspec": {
   "display_name": "Python [default]",
   "language": "python",
   "name": "python3"
  },
  "language_info": {
   "codemirror_mode": {
    "name": "ipython",
    "version": 3
   },
   "file_extension": ".py",
   "mimetype": "text/x-python",
   "name": "python",
   "nbconvert_exporter": "python",
   "pygments_lexer": "ipython3",
   "version": "3.5.4"
  }
 },
 "nbformat": 4,
 "nbformat_minor": 2
}
